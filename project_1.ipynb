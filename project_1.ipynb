{
  "nbformat": 4,
  "nbformat_minor": 0,
  "metadata": {
    "colab": {
      "name": "project-1.ipynb",
      "provenance": [],
      "collapsed_sections": [],
      "include_colab_link": true
    },
    "kernelspec": {
      "display_name": "Python 3",
      "name": "python3"
    }
  },
  "cells": [
    {
      "cell_type": "markdown",
      "metadata": {
        "id": "view-in-github",
        "colab_type": "text"
      },
      "source": [
        "<a href=\"https://colab.research.google.com/github/powerSeries/NN-projects/blob/main/project_1.ipynb\" target=\"_parent\"><img src=\"https://colab.research.google.com/assets/colab-badge.svg\" alt=\"Open In Colab\"/></a>"
      ]
    },
    {
      "cell_type": "markdown",
      "metadata": {
        "id": "vB3bHSucPIVs"
      },
      "source": [
        "Abbreviated data preparation for the Wine Quality Problem (Project 1)"
      ]
    },
    {
      "cell_type": "code",
      "metadata": {
        "id": "XrcPuh9-KY0j"
      },
      "source": [
        "# Import Required Libraries  \n",
        "import matplotlib.pyplot as plt \n",
        "import numpy as np \n",
        "# This time we need to also import pandas\n",
        "import pandas as pd \n",
        "\n",
        "# Read in white wine data \n",
        "# USES PANDAS (pd) to create a PANDAS DataFrame OBJECT:\n",
        "white = pd.read_csv(\"http://archive.ics.uci.edu/ml/machine-learning-databases/wine-quality/winequality-white.csv\", sep =';') \n",
        "\n",
        "# Read in red wine data \n",
        "# USES PANDAS (pd) to create a PANDAS DataFrame OBJECT:\n",
        "red = pd.read_csv(\"http://archive.ics.uci.edu/ml/machine-learning-databases/wine-quality/winequality-red.csv\", sep =';') \n",
        "\n",
        "# Add `type` column to `red` with price one  - done with PANDAS\n",
        "red['type'] = 1\n",
        "  \n",
        "# Add `type` column to `white` with price zero - done with PANDAS \n",
        "white['type'] = 0\n",
        "  \n",
        "# Append `white` to `red` - done with PANDAS\n",
        "# AFTER THIS WE HAVE ALL WINES (red and white) in a SINGLE pandas DataFrame\n",
        "wines = red.append(white, ignore_index = True) \n",
        "\n",
        "# Import SKLEARN\n",
        "import sklearn\n",
        "# Import `train_test_split` from `sklearn.model_selection` \n",
        "from sklearn.model_selection import train_test_split \n",
        "\n",
        "# Specify the  data - \n",
        "X1 = wines.iloc[:, 0:11]\n",
        "X2 = wines.iloc[:,12]\n",
        "X = pd.concat([X1,X2],axis = 1)\n",
        "\n",
        "# Specify the QUALITY target labels and flatten the array \n",
        "y = np.ravel(wines.quality) \n",
        "\n",
        "# Splitting the data set for training and validating  - Done with SKLEARN\n",
        "X_train, X_valid, y_train, y_valid = train_test_split( \n",
        "                 X, y, test_size = 0.25, random_state = 45) \n"
      ],
      "execution_count": 174,
      "outputs": []
    },
    {
      "cell_type": "code",
      "source": [
        "# CONVERTING X_train & X_test DataFrame s to TF tensors\n",
        "# Will USE NumPy, TF & Keras after this\n",
        "# import tensorflow as tf \n",
        "\n",
        "Xtrain = X_train.to_numpy()\n",
        "X_valid = X_valid.to_numpy()"
      ],
      "metadata": {
        "id": "AYtcmE0J4qQb"
      },
      "execution_count": 175,
      "outputs": []
    },
    {
      "cell_type": "code",
      "source": [
        "# In reality:\n",
        "# [1] ALL THE Xtrain patterns (with their y_train targets) \n",
        "# will be used for TRAINING ([TR]), as Xtrain & y_train\n",
        "# [2] MOST OF THE X_valid patterns (and their y_valid targets) \n",
        "#  will be used for VALIDATION ([TT]),  as X_val & y_val\n",
        "# BUT WE WILL SET ASIDE THE LAST 10 for \"testing\" ([TS])\n",
        "#  as X_tst & y_tst"
      ],
      "metadata": {
        "id": "qpHhdmJN6HVq"
      },
      "execution_count": 176,
      "outputs": []
    },
    {
      "cell_type": "code",
      "source": [
        "# To separate the last 10 in X_valid, let's first see the shape of X_valid\n",
        "X_valid.shape"
      ],
      "metadata": {
        "colab": {
          "base_uri": "https://localhost:8080/"
        },
        "id": "T10AK-Ip7YMb",
        "outputId": "bde84ec6-d17d-4849-cb2b-5ec2a0b8bd6e"
      },
      "execution_count": 177,
      "outputs": [
        {
          "output_type": "execute_result",
          "data": {
            "text/plain": [
              "(1625, 12)"
            ]
          },
          "metadata": {},
          "execution_count": 177
        }
      ]
    },
    {
      "cell_type": "code",
      "source": [
        "# And verify also the shape of y_valid\n",
        "y_valid.shape"
      ],
      "metadata": {
        "colab": {
          "base_uri": "https://localhost:8080/"
        },
        "id": "Gj64QrXI7npC",
        "outputId": "a360216d-096d-4c73-8a14-334afba321d9"
      },
      "execution_count": 178,
      "outputs": [
        {
          "output_type": "execute_result",
          "data": {
            "text/plain": [
              "(1625,)"
            ]
          },
          "metadata": {},
          "execution_count": 178
        }
      ]
    },
    {
      "cell_type": "code",
      "source": [
        "# Retain the first 1615 for validation ([TT])\n",
        "Xval = X_valid[:1615]\n",
        "Xval.shape"
      ],
      "metadata": {
        "colab": {
          "base_uri": "https://localhost:8080/"
        },
        "id": "2jDS0FsF739z",
        "outputId": "60b9bbad-9cf1-40f9-b9a2-0ba76dfab0cf"
      },
      "execution_count": 179,
      "outputs": [
        {
          "output_type": "execute_result",
          "data": {
            "text/plain": [
              "(1615, 12)"
            ]
          },
          "metadata": {},
          "execution_count": 179
        }
      ]
    },
    {
      "cell_type": "code",
      "source": [
        "# and now set aside the last 10 for \"test\"\n",
        "Xtst = X_valid[1615:]\n",
        "Xtst.shape"
      ],
      "metadata": {
        "colab": {
          "base_uri": "https://localhost:8080/"
        },
        "id": "C_zJIn2Z-AS6",
        "outputId": "1e1ecf7b-7109-4463-99da-62b2f8d2ddcb"
      },
      "execution_count": 180,
      "outputs": [
        {
          "output_type": "execute_result",
          "data": {
            "text/plain": [
              "(10, 12)"
            ]
          },
          "metadata": {},
          "execution_count": 180
        }
      ]
    },
    {
      "cell_type": "code",
      "source": [
        "# SAME FOR THE CORRESPONDING TARGETS\n",
        "# Retain the first 1615 for validation ([TT])\n",
        "y_val = y_valid[:1615]\n",
        "y_val.shape"
      ],
      "metadata": {
        "colab": {
          "base_uri": "https://localhost:8080/"
        },
        "id": "YlrWhyX1-qQa",
        "outputId": "ccd6cbc8-dc47-41be-c7a2-b6e0b9fabba2"
      },
      "execution_count": 181,
      "outputs": [
        {
          "output_type": "execute_result",
          "data": {
            "text/plain": [
              "(1615,)"
            ]
          },
          "metadata": {},
          "execution_count": 181
        }
      ]
    },
    {
      "cell_type": "code",
      "source": [
        "y_tst = y_valid[1615:]\n",
        "y_tst.shape"
      ],
      "metadata": {
        "colab": {
          "base_uri": "https://localhost:8080/"
        },
        "id": "yesLMjKx--2r",
        "outputId": "4b4e81e9-7163-4d87-e41a-c52800baaf31"
      },
      "execution_count": 182,
      "outputs": [
        {
          "output_type": "execute_result",
          "data": {
            "text/plain": [
              "(10,)"
            ]
          },
          "metadata": {},
          "execution_count": 182
        }
      ]
    },
    {
      "cell_type": "code",
      "source": [
        "y_tst"
      ],
      "metadata": {
        "colab": {
          "base_uri": "https://localhost:8080/"
        },
        "id": "QOIgFLku-2mr",
        "outputId": "04f19ce7-1767-4d52-9dce-300b6ff3af65"
      },
      "execution_count": 183,
      "outputs": [
        {
          "output_type": "execute_result",
          "data": {
            "text/plain": [
              "array([5, 5, 7, 6, 5, 5, 6, 6, 7, 6])"
            ]
          },
          "metadata": {},
          "execution_count": 183
        }
      ]
    },
    {
      "cell_type": "code",
      "source": [
        " # NOW, IN ADDITION, CREATE THE TARGETS AS ONE-HOT-ENCODED 4 quality LEVELS"
      ],
      "metadata": {
        "id": "3zfsQQNn6ABr"
      },
      "execution_count": 184,
      "outputs": []
    },
    {
      "cell_type": "code",
      "metadata": {
        "colab": {
          "base_uri": "https://localhost:8080/"
        },
        "id": "HImrn2sHKvz_",
        "outputId": "bf1ace3f-255d-4710-c1be-3bd68fdda6a4"
      },
      "source": [
        "# We will track these few targets through the conversion process\n",
        "y_train[272:283]"
      ],
      "execution_count": 185,
      "outputs": [
        {
          "output_type": "execute_result",
          "data": {
            "text/plain": [
              "array([5, 4, 6, 5, 5, 6, 7, 6, 5, 8, 5])"
            ]
          },
          "metadata": {},
          "execution_count": 185
        }
      ]
    },
    {
      "cell_type": "code",
      "source": [
        "# Function create rank-1 arrays where 3,4,5,6,7,8,9 are mapped to 1 or 2 or 3 or 4 \n",
        "def to_4cs(x):\n",
        "  lx = len(x)\n",
        "  results = np.zeros(lx)\n",
        "  for i in range(lx):\n",
        "      # print( \"start\")\n",
        "      xa = x[i];\n",
        "      if xa <= 3:\n",
        "          results[i] = 1      # 1, 2 and 3 map to Q-LEVEL 1 ( BAD Wine)\n",
        "      elif xa <=6:\n",
        "          results[i] = 2      # 4, 5 and 6 map to Q-LEVEL 2  (MEDIUM Wine)\n",
        "      elif xa <=8:\n",
        "          results[i] = 3      # 7 and 8 and 6 map to Q-LEVEL 3  (GOOD Wine)\n",
        "      else:\n",
        "          results[i] = 4      # 9 and above map to Q-LEVEL 4  (EXCELLENT Wine)\n",
        "    # results[i, label] = 1.\n",
        "  results = results.astype(int)\n",
        "  return results"
      ],
      "metadata": {
        "id": "iB1RjHR7PQD7"
      },
      "execution_count": 186,
      "outputs": []
    },
    {
      "cell_type": "code",
      "source": [
        "train_labels = to_4cs(y_train)\n",
        "val_labels = to_4cs(y_val)\n",
        "tst_labels = to_4cs(y_tst)"
      ],
      "metadata": {
        "id": "LhSoZ0b9Ptyj"
      },
      "execution_count": 187,
      "outputs": []
    },
    {
      "cell_type": "code",
      "metadata": {
        "colab": {
          "base_uri": "https://localhost:8080/"
        },
        "id": "RmSc8yQ5NgQe",
        "outputId": "d35db699-ccbf-437b-9e6b-5a6940081e68"
      },
      "source": [
        "\n",
        "# Let's verify that the trainnig targets that we are tracking\n",
        "# were converted to levels (1 = BAD; 2 = MEDIUM; 3 = GOOD; 4- EXCELLENT) correctly:\n",
        "train_labels[272:283]"
      ],
      "execution_count": 188,
      "outputs": [
        {
          "output_type": "execute_result",
          "data": {
            "text/plain": [
              "array([2, 2, 2, 2, 2, 2, 3, 2, 2, 3, 2])"
            ]
          },
          "metadata": {},
          "execution_count": 188
        }
      ]
    },
    {
      "cell_type": "code",
      "metadata": {
        "id": "Cs-J7sRmKhGf"
      },
      "source": [
        "# NOW, ONE-HOT ENCODING OF ALL 3  TARGET ARRAYS\n",
        "# define a function to do the one-hot-encoding of output labels\n",
        "\n",
        "def to_one_hot(labels, dimension=4):\n",
        "    results = np.zeros((len(labels), dimension))\n",
        "    for i, label in enumerate(labels-1):\n",
        "        results[i, label] = 1.\n",
        "    return results\n",
        "\n",
        "one_hot_train_labels = to_one_hot(train_labels)\n",
        "one_hot_val_labels = to_one_hot(val_labels)\n",
        "one_hot_tst_labels = to_one_hot(tst_labels)"
      ],
      "execution_count": 189,
      "outputs": []
    },
    {
      "cell_type": "code",
      "source": [
        "#Let's verify that the training targets we have tracked were\n",
        "# one-hot encoded correctly\n",
        "one_hot_train_labels[272:283,]"
      ],
      "metadata": {
        "colab": {
          "base_uri": "https://localhost:8080/"
        },
        "id": "Mk1q-JDyBChj",
        "outputId": "0da166c5-a2ee-4aed-8bc3-a213912c58ab"
      },
      "execution_count": 190,
      "outputs": [
        {
          "output_type": "execute_result",
          "data": {
            "text/plain": [
              "array([[0., 1., 0., 0.],\n",
              "       [0., 1., 0., 0.],\n",
              "       [0., 1., 0., 0.],\n",
              "       [0., 1., 0., 0.],\n",
              "       [0., 1., 0., 0.],\n",
              "       [0., 1., 0., 0.],\n",
              "       [0., 0., 1., 0.],\n",
              "       [0., 1., 0., 0.],\n",
              "       [0., 1., 0., 0.],\n",
              "       [0., 0., 1., 0.],\n",
              "       [0., 1., 0., 0.]])"
            ]
          },
          "metadata": {},
          "execution_count": 190
        }
      ]
    },
    {
      "cell_type": "code",
      "source": [
        "# SO, AFTER EXECUTING THIS CELL, YOU WILL HAVE:\n",
        "# FOR TRAINING:\n",
        "#  Xtrain (4872, 12)...y_train (4872,)...train_labels(4872,)....one_hot_train_labels (4872,4)\n",
        "# FOR VALIDATING:\n",
        "#  Xval (1615, 12)...y_val (1615,)...val_labels(1615,)...one_hot_val_labels (1615,4)\n",
        "# FOR TESTING:\n",
        "#  Xtst (10, 12)...y_tst (10,)...tst_labels(10,)... one_hot_tst_labels (10,4)\n",
        "# PLEASE DO NOT CHANGE THE NAMES OF THESE VARIABLES (So that instructor can use them)"
      ],
      "metadata": {
        "id": "FfIxlsEISc5W"
      },
      "execution_count": 191,
      "outputs": []
    },
    {
      "cell_type": "code",
      "source": [
        "import copy\n",
        "\n",
        "## Normalize Data\n",
        "copyTrain = copy.copy(Xtrain)\n",
        "copyVal = copy.copy(Xval)\n",
        "copyTest = copy.copy(Xtst)\n",
        "\n",
        "mean = Xtrain.mean(axis=0)\n",
        "copyTrain -= mean\n",
        "std = Xtrain.std(axis=0)\n",
        "\n",
        "copyTrain /= std\n",
        "\n",
        "copyTest -= mean\n",
        "copyTest /= std\n",
        "\n",
        "copyVal -= mean\n",
        "copyVal /= std"
      ],
      "metadata": {
        "id": "Pgp1PGMnKBqr"
      },
      "execution_count": 192,
      "outputs": []
    },
    {
      "cell_type": "markdown",
      "source": [
        " ++++  END OF THE DATA PREPARATION PART ++++ \n"
      ],
      "metadata": {
        "id": "Bq_9V9XCSd6t"
      }
    },
    {
      "cell_type": "markdown",
      "source": [
        "# Part 2: Regression Model"
      ],
      "metadata": {
        "id": "6Vt3n82EaN98"
      }
    },
    {
      "cell_type": "markdown",
      "source": [
        "### Regression Model 1"
      ],
      "metadata": {
        "id": "saL8T2q2K0Rv"
      }
    },
    {
      "cell_type": "code",
      "source": [
        "# import libraries\n",
        "from tensorflow import keras\n",
        "from tensorflow.keras import layers\n",
        "\n",
        "def build_regmodl1():\n",
        "  regmodl1 = keras.Sequential([\n",
        "    layers.Dense(512, activation=\"relu\"),\n",
        "    layers.Dense(8, activation=\"relu\"),\n",
        "    layers.Dense(1),\n",
        "  ])\n",
        "  regmodl1.compile(optimizer=\"rmsprop\", loss=\"mse\", metrics=[\"mae\"])\n",
        "  return regmodl1\n",
        "\n",
        "# Builld the model\n",
        "regmod1 = build_regmodl1()\n",
        "\n",
        "# Run fit and store data\n",
        "regmodl1_history = regmod1.fit(x=copyTrain, y=y_train, epochs=50, verbose=2, validation_data=(copyVal, y_val))\n",
        "\n",
        "# Show Model Summary\n",
        "regmod1.summary()"
      ],
      "metadata": {
        "id": "WBdR9tpWdYcs",
        "colab": {
          "base_uri": "https://localhost:8080/"
        },
        "outputId": "336e680d-134d-466b-b460-1b6eefd0e48b"
      },
      "execution_count": 193,
      "outputs": [
        {
          "output_type": "stream",
          "name": "stdout",
          "text": [
            "Epoch 1/50\n",
            "153/153 - 2s - loss: 2.7597 - mae: 1.1674 - val_loss: 0.8236 - val_mae: 0.6884 - 2s/epoch - 10ms/step\n",
            "Epoch 2/50\n",
            "153/153 - 0s - loss: 0.6395 - mae: 0.6183 - val_loss: 0.6192 - val_mae: 0.6092 - 455ms/epoch - 3ms/step\n",
            "Epoch 3/50\n",
            "153/153 - 0s - loss: 0.5487 - mae: 0.5783 - val_loss: 0.5699 - val_mae: 0.5826 - 465ms/epoch - 3ms/step\n",
            "Epoch 4/50\n",
            "153/153 - 0s - loss: 0.5260 - mae: 0.5629 - val_loss: 0.6481 - val_mae: 0.6205 - 483ms/epoch - 3ms/step\n",
            "Epoch 5/50\n",
            "153/153 - 0s - loss: 0.5091 - mae: 0.5564 - val_loss: 0.6013 - val_mae: 0.5929 - 424ms/epoch - 3ms/step\n",
            "Epoch 6/50\n",
            "153/153 - 0s - loss: 0.4911 - mae: 0.5490 - val_loss: 0.6825 - val_mae: 0.6403 - 417ms/epoch - 3ms/step\n",
            "Epoch 7/50\n",
            "153/153 - 0s - loss: 0.4869 - mae: 0.5458 - val_loss: 0.6495 - val_mae: 0.6201 - 477ms/epoch - 3ms/step\n",
            "Epoch 8/50\n",
            "153/153 - 0s - loss: 0.4776 - mae: 0.5422 - val_loss: 0.5263 - val_mae: 0.5648 - 444ms/epoch - 3ms/step\n",
            "Epoch 9/50\n",
            "153/153 - 0s - loss: 0.4718 - mae: 0.5380 - val_loss: 0.5319 - val_mae: 0.5691 - 475ms/epoch - 3ms/step\n",
            "Epoch 10/50\n",
            "153/153 - 1s - loss: 0.4737 - mae: 0.5399 - val_loss: 0.6105 - val_mae: 0.6109 - 508ms/epoch - 3ms/step\n",
            "Epoch 11/50\n",
            "153/153 - 0s - loss: 0.4684 - mae: 0.5319 - val_loss: 0.7982 - val_mae: 0.7145 - 449ms/epoch - 3ms/step\n",
            "Epoch 12/50\n",
            "153/153 - 0s - loss: 0.4611 - mae: 0.5278 - val_loss: 0.5723 - val_mae: 0.5836 - 491ms/epoch - 3ms/step\n",
            "Epoch 13/50\n",
            "153/153 - 0s - loss: 0.4476 - mae: 0.5213 - val_loss: 0.5536 - val_mae: 0.5827 - 473ms/epoch - 3ms/step\n",
            "Epoch 14/50\n",
            "153/153 - 0s - loss: 0.4555 - mae: 0.5246 - val_loss: 0.5552 - val_mae: 0.5765 - 491ms/epoch - 3ms/step\n",
            "Epoch 15/50\n",
            "153/153 - 1s - loss: 0.4465 - mae: 0.5239 - val_loss: 0.6826 - val_mae: 0.6479 - 520ms/epoch - 3ms/step\n",
            "Epoch 16/50\n",
            "153/153 - 1s - loss: 0.4447 - mae: 0.5190 - val_loss: 0.6798 - val_mae: 0.6482 - 658ms/epoch - 4ms/step\n",
            "Epoch 17/50\n",
            "153/153 - 1s - loss: 0.4417 - mae: 0.5180 - val_loss: 0.5666 - val_mae: 0.5826 - 789ms/epoch - 5ms/step\n",
            "Epoch 18/50\n",
            "153/153 - 1s - loss: 0.4390 - mae: 0.5159 - val_loss: 0.5066 - val_mae: 0.5431 - 636ms/epoch - 4ms/step\n",
            "Epoch 19/50\n",
            "153/153 - 1s - loss: 0.4366 - mae: 0.5175 - val_loss: 0.5181 - val_mae: 0.5587 - 774ms/epoch - 5ms/step\n",
            "Epoch 20/50\n",
            "153/153 - 1s - loss: 0.4328 - mae: 0.5118 - val_loss: 0.5959 - val_mae: 0.6004 - 725ms/epoch - 5ms/step\n",
            "Epoch 21/50\n",
            "153/153 - 0s - loss: 0.4227 - mae: 0.5042 - val_loss: 0.6368 - val_mae: 0.6185 - 468ms/epoch - 3ms/step\n",
            "Epoch 22/50\n",
            "153/153 - 0s - loss: 0.4285 - mae: 0.5122 - val_loss: 0.6571 - val_mae: 0.6313 - 436ms/epoch - 3ms/step\n",
            "Epoch 23/50\n",
            "153/153 - 0s - loss: 0.4174 - mae: 0.5063 - val_loss: 0.5067 - val_mae: 0.5480 - 477ms/epoch - 3ms/step\n",
            "Epoch 24/50\n",
            "153/153 - 0s - loss: 0.4135 - mae: 0.4981 - val_loss: 0.5320 - val_mae: 0.5624 - 439ms/epoch - 3ms/step\n",
            "Epoch 25/50\n",
            "153/153 - 0s - loss: 0.4130 - mae: 0.5038 - val_loss: 0.6033 - val_mae: 0.6005 - 454ms/epoch - 3ms/step\n",
            "Epoch 26/50\n",
            "153/153 - 0s - loss: 0.4098 - mae: 0.4978 - val_loss: 0.4906 - val_mae: 0.5353 - 474ms/epoch - 3ms/step\n",
            "Epoch 27/50\n",
            "153/153 - 0s - loss: 0.4207 - mae: 0.5060 - val_loss: 0.4800 - val_mae: 0.5295 - 470ms/epoch - 3ms/step\n",
            "Epoch 28/50\n",
            "153/153 - 1s - loss: 0.3971 - mae: 0.4909 - val_loss: 0.6030 - val_mae: 0.6095 - 543ms/epoch - 4ms/step\n",
            "Epoch 29/50\n",
            "153/153 - 1s - loss: 0.4045 - mae: 0.4953 - val_loss: 0.5597 - val_mae: 0.5731 - 535ms/epoch - 3ms/step\n",
            "Epoch 30/50\n",
            "153/153 - 0s - loss: 0.4026 - mae: 0.4973 - val_loss: 0.6421 - val_mae: 0.6251 - 437ms/epoch - 3ms/step\n",
            "Epoch 31/50\n",
            "153/153 - 0s - loss: 0.3992 - mae: 0.4914 - val_loss: 0.5604 - val_mae: 0.5790 - 453ms/epoch - 3ms/step\n",
            "Epoch 32/50\n",
            "153/153 - 0s - loss: 0.3972 - mae: 0.4897 - val_loss: 0.5209 - val_mae: 0.5634 - 452ms/epoch - 3ms/step\n",
            "Epoch 33/50\n",
            "153/153 - 0s - loss: 0.3910 - mae: 0.4893 - val_loss: 0.6830 - val_mae: 0.6412 - 470ms/epoch - 3ms/step\n",
            "Epoch 34/50\n",
            "153/153 - 1s - loss: 0.3919 - mae: 0.4883 - val_loss: 0.6010 - val_mae: 0.6036 - 552ms/epoch - 4ms/step\n",
            "Epoch 35/50\n",
            "153/153 - 0s - loss: 0.3925 - mae: 0.4876 - val_loss: 0.6026 - val_mae: 0.5955 - 456ms/epoch - 3ms/step\n",
            "Epoch 36/50\n",
            "153/153 - 0s - loss: 0.3871 - mae: 0.4827 - val_loss: 0.5071 - val_mae: 0.5498 - 429ms/epoch - 3ms/step\n",
            "Epoch 37/50\n",
            "153/153 - 0s - loss: 0.3896 - mae: 0.4857 - val_loss: 0.5686 - val_mae: 0.5835 - 493ms/epoch - 3ms/step\n",
            "Epoch 38/50\n",
            "153/153 - 0s - loss: 0.3854 - mae: 0.4827 - val_loss: 0.5455 - val_mae: 0.5787 - 391ms/epoch - 3ms/step\n",
            "Epoch 39/50\n",
            "153/153 - 0s - loss: 0.3774 - mae: 0.4783 - val_loss: 0.7418 - val_mae: 0.6820 - 418ms/epoch - 3ms/step\n",
            "Epoch 40/50\n",
            "153/153 - 1s - loss: 0.3817 - mae: 0.4777 - val_loss: 0.5614 - val_mae: 0.5812 - 521ms/epoch - 3ms/step\n",
            "Epoch 41/50\n",
            "153/153 - 0s - loss: 0.3791 - mae: 0.4781 - val_loss: 0.8090 - val_mae: 0.7145 - 420ms/epoch - 3ms/step\n",
            "Epoch 42/50\n",
            "153/153 - 1s - loss: 0.3772 - mae: 0.4756 - val_loss: 0.5939 - val_mae: 0.5941 - 511ms/epoch - 3ms/step\n",
            "Epoch 43/50\n",
            "153/153 - 0s - loss: 0.3702 - mae: 0.4743 - val_loss: 0.6594 - val_mae: 0.6312 - 494ms/epoch - 3ms/step\n",
            "Epoch 44/50\n",
            "153/153 - 0s - loss: 0.3697 - mae: 0.4733 - val_loss: 0.6153 - val_mae: 0.6107 - 482ms/epoch - 3ms/step\n",
            "Epoch 45/50\n",
            "153/153 - 0s - loss: 0.3779 - mae: 0.4760 - val_loss: 0.6934 - val_mae: 0.6500 - 459ms/epoch - 3ms/step\n",
            "Epoch 46/50\n",
            "153/153 - 0s - loss: 0.3703 - mae: 0.4716 - val_loss: 0.5967 - val_mae: 0.5925 - 475ms/epoch - 3ms/step\n",
            "Epoch 47/50\n",
            "153/153 - 0s - loss: 0.3669 - mae: 0.4703 - val_loss: 0.5076 - val_mae: 0.5525 - 447ms/epoch - 3ms/step\n",
            "Epoch 48/50\n",
            "153/153 - 0s - loss: 0.3611 - mae: 0.4662 - val_loss: 0.5527 - val_mae: 0.5823 - 496ms/epoch - 3ms/step\n",
            "Epoch 49/50\n",
            "153/153 - 0s - loss: 0.3665 - mae: 0.4721 - val_loss: 0.6037 - val_mae: 0.5988 - 462ms/epoch - 3ms/step\n",
            "Epoch 50/50\n",
            "153/153 - 0s - loss: 0.3563 - mae: 0.4634 - val_loss: 0.5487 - val_mae: 0.5681 - 484ms/epoch - 3ms/step\n",
            "Model: \"sequential_27\"\n",
            "_________________________________________________________________\n",
            " Layer (type)                Output Shape              Param #   \n",
            "=================================================================\n",
            " dense_110 (Dense)           (None, 512)               6656      \n",
            "                                                                 \n",
            " dense_111 (Dense)           (None, 8)                 4104      \n",
            "                                                                 \n",
            " dense_112 (Dense)           (None, 1)                 9         \n",
            "                                                                 \n",
            "=================================================================\n",
            "Total params: 10,769\n",
            "Trainable params: 10,769\n",
            "Non-trainable params: 0\n",
            "_________________________________________________________________\n"
          ]
        }
      ]
    },
    {
      "cell_type": "code",
      "source": [
        "def plot_model_history(model_history):\n",
        "  history_dict = model_history.history\n",
        "  history_dict.keys()\n",
        "\n",
        "  loss_values = history_dict[\"loss\"]\n",
        "  val_loss_values = history_dict[\"val_loss\"]\n",
        "\n",
        "  epochs = range(1, len(loss_values) + 1)\n",
        "\n",
        "\n",
        "  # Plot current data\n",
        "  plt.plot(epochs, loss_values, \"bo\", label=\"Training Loss\")\n",
        "  plt.plot(epochs, val_loss_values, \"b\", label=\"Validation Loss\")\n",
        "  plt.title(\"Training and Validation Loss\")\n",
        "  plt.xlabel(\"Epochs\")\n",
        "  plt.ylabel(\"Accuracy\")\n",
        "  plt.legend()\n",
        "  plt.show()\n",
        "  return"
      ],
      "metadata": {
        "id": "xnMledbiYd1K"
      },
      "execution_count": 194,
      "outputs": []
    },
    {
      "cell_type": "markdown",
      "source": [
        "Plotting Regression Model 1\n",
        "\n"
      ],
      "metadata": {
        "id": "qVemg7OQYeSW"
      }
    },
    {
      "cell_type": "code",
      "source": [
        "plot_model_history(regmodl1_history)"
      ],
      "metadata": {
        "id": "2PY3AbKfj4Gc",
        "outputId": "fcf7939f-5fac-4b8b-ec83-b35ef0a9efd3",
        "colab": {
          "base_uri": "https://localhost:8080/",
          "height": 295
        }
      },
      "execution_count": 195,
      "outputs": [
        {
          "output_type": "display_data",
          "data": {
            "image/png": "[encoded data removed]",
            "text/plain": [
              "<Figure size 432x288 with 1 Axes>"
            ]
          },
          "metadata": {
            "needs_background": "light"
          }
        }
      ]
    },
    {
      "cell_type": "markdown",
      "source": [
        "### Regression Model 2"
      ],
      "metadata": {
        "id": "mmbjOEY3K49F"
      }
    },
    {
      "cell_type": "code",
      "source": [
        "# reg mod 2\n",
        "def build_regmodl2():\n",
        "  model = keras.Sequential([\n",
        "    layers.Dense(128, activation=\"relu\"),\n",
        "    layers.Dense(64, activation=\"relu\"),\n",
        "    layers.Dense(30, activation=\"relu\"),\n",
        "    layers.Dense(5, activation=\"relu\"),\n",
        "    layers.Dense(1),\n",
        "  ])\n",
        "  model.compile(optimizer=\"rmsprop\", loss=\"mse\", metrics=[\"mae\"])\n",
        "  return model;\n",
        "\n",
        "regmodl2 = build_regmodl2();\n",
        "\n",
        "regmodl2_history = regmodl2.fit(x=copyTrain, y=y_train, epochs=50, verbose=2, validation_data=(copyVal, y_val))\n",
        "\n",
        "regmodl2.summary()"
      ],
      "metadata": {
        "id": "4MAZXPzjl4sb",
        "colab": {
          "base_uri": "https://localhost:8080/"
        },
        "outputId": "f9907b7d-695d-4fa3-d314-f416a6644e7b"
      },
      "execution_count": 196,
      "outputs": [
        {
          "output_type": "stream",
          "name": "stdout",
          "text": [
            "Epoch 1/50\n",
            "153/153 - 2s - loss: 2.6350 - mae: 1.1382 - val_loss: 0.8670 - val_mae: 0.7125 - 2s/epoch - 12ms/step\n",
            "Epoch 2/50\n",
            "153/153 - 0s - loss: 0.7092 - mae: 0.6541 - val_loss: 1.3066 - val_mae: 0.8947 - 478ms/epoch - 3ms/step\n",
            "Epoch 3/50\n",
            "153/153 - 1s - loss: 0.5982 - mae: 0.6029 - val_loss: 0.6194 - val_mae: 0.6036 - 539ms/epoch - 4ms/step\n",
            "Epoch 4/50\n",
            "153/153 - 1s - loss: 0.5478 - mae: 0.5783 - val_loss: 0.7812 - val_mae: 0.6939 - 509ms/epoch - 3ms/step\n",
            "Epoch 5/50\n",
            "153/153 - 0s - loss: 0.5262 - mae: 0.5674 - val_loss: 0.8925 - val_mae: 0.7371 - 465ms/epoch - 3ms/step\n",
            "Epoch 6/50\n",
            "153/153 - 0s - loss: 0.5201 - mae: 0.5661 - val_loss: 0.5185 - val_mae: 0.5462 - 414ms/epoch - 3ms/step\n",
            "Epoch 7/50\n",
            "153/153 - 0s - loss: 0.4978 - mae: 0.5522 - val_loss: 0.7283 - val_mae: 0.6571 - 479ms/epoch - 3ms/step\n",
            "Epoch 8/50\n",
            "153/153 - 0s - loss: 0.4853 - mae: 0.5456 - val_loss: 0.6264 - val_mae: 0.6171 - 474ms/epoch - 3ms/step\n",
            "Epoch 9/50\n",
            "153/153 - 0s - loss: 0.4701 - mae: 0.5366 - val_loss: 0.6171 - val_mae: 0.6020 - 468ms/epoch - 3ms/step\n",
            "Epoch 10/50\n",
            "153/153 - 0s - loss: 0.4700 - mae: 0.5353 - val_loss: 0.5581 - val_mae: 0.5708 - 434ms/epoch - 3ms/step\n",
            "Epoch 11/50\n",
            "153/153 - 1s - loss: 0.4533 - mae: 0.5271 - val_loss: 0.5740 - val_mae: 0.5846 - 531ms/epoch - 3ms/step\n",
            "Epoch 12/50\n",
            "153/153 - 0s - loss: 0.4565 - mae: 0.5232 - val_loss: 0.5038 - val_mae: 0.5429 - 430ms/epoch - 3ms/step\n",
            "Epoch 13/50\n",
            "153/153 - 1s - loss: 0.4462 - mae: 0.5200 - val_loss: 0.6916 - val_mae: 0.6454 - 547ms/epoch - 4ms/step\n",
            "Epoch 14/50\n",
            "153/153 - 1s - loss: 0.4499 - mae: 0.5243 - val_loss: 0.8259 - val_mae: 0.7160 - 564ms/epoch - 4ms/step\n",
            "Epoch 15/50\n",
            "153/153 - 0s - loss: 0.4369 - mae: 0.5168 - val_loss: 0.6912 - val_mae: 0.6456 - 453ms/epoch - 3ms/step\n",
            "Epoch 16/50\n",
            "153/153 - 0s - loss: 0.4336 - mae: 0.5134 - val_loss: 0.5607 - val_mae: 0.5781 - 456ms/epoch - 3ms/step\n",
            "Epoch 17/50\n",
            "153/153 - 1s - loss: 0.4275 - mae: 0.5104 - val_loss: 0.5511 - val_mae: 0.5689 - 534ms/epoch - 3ms/step\n",
            "Epoch 18/50\n",
            "153/153 - 0s - loss: 0.4294 - mae: 0.5077 - val_loss: 0.6175 - val_mae: 0.6028 - 477ms/epoch - 3ms/step\n",
            "Epoch 19/50\n",
            "153/153 - 1s - loss: 0.4162 - mae: 0.5042 - val_loss: 0.5302 - val_mae: 0.5561 - 532ms/epoch - 3ms/step\n",
            "Epoch 20/50\n",
            "153/153 - 0s - loss: 0.4154 - mae: 0.5010 - val_loss: 0.5971 - val_mae: 0.5955 - 489ms/epoch - 3ms/step\n",
            "Epoch 21/50\n",
            "153/153 - 1s - loss: 0.4082 - mae: 0.4988 - val_loss: 0.6399 - val_mae: 0.6032 - 553ms/epoch - 4ms/step\n",
            "Epoch 22/50\n",
            "153/153 - 1s - loss: 0.4057 - mae: 0.4967 - val_loss: 1.2285 - val_mae: 0.8980 - 533ms/epoch - 3ms/step\n",
            "Epoch 23/50\n",
            "153/153 - 1s - loss: 0.4049 - mae: 0.4974 - val_loss: 0.4960 - val_mae: 0.5342 - 516ms/epoch - 3ms/step\n",
            "Epoch 24/50\n",
            "153/153 - 1s - loss: 0.3989 - mae: 0.4915 - val_loss: 0.6821 - val_mae: 0.6370 - 540ms/epoch - 4ms/step\n",
            "Epoch 25/50\n",
            "153/153 - 1s - loss: 0.3985 - mae: 0.4903 - val_loss: 0.5507 - val_mae: 0.5610 - 502ms/epoch - 3ms/step\n",
            "Epoch 26/50\n",
            "153/153 - 0s - loss: 0.3931 - mae: 0.4875 - val_loss: 0.5378 - val_mae: 0.5599 - 427ms/epoch - 3ms/step\n",
            "Epoch 27/50\n",
            "153/153 - 1s - loss: 0.3859 - mae: 0.4830 - val_loss: 0.6180 - val_mae: 0.6044 - 563ms/epoch - 4ms/step\n",
            "Epoch 28/50\n",
            "153/153 - 0s - loss: 0.3873 - mae: 0.4849 - val_loss: 0.5122 - val_mae: 0.5431 - 440ms/epoch - 3ms/step\n",
            "Epoch 29/50\n",
            "153/153 - 1s - loss: 0.3786 - mae: 0.4786 - val_loss: 0.8905 - val_mae: 0.7469 - 546ms/epoch - 4ms/step\n",
            "Epoch 30/50\n",
            "153/153 - 0s - loss: 0.3811 - mae: 0.4809 - val_loss: 0.6040 - val_mae: 0.5986 - 431ms/epoch - 3ms/step\n",
            "Epoch 31/50\n",
            "153/153 - 0s - loss: 0.3645 - mae: 0.4717 - val_loss: 0.6209 - val_mae: 0.6028 - 450ms/epoch - 3ms/step\n",
            "Epoch 32/50\n",
            "153/153 - 0s - loss: 0.3693 - mae: 0.4720 - val_loss: 0.5354 - val_mae: 0.5566 - 430ms/epoch - 3ms/step\n",
            "Epoch 33/50\n",
            "153/153 - 0s - loss: 0.3587 - mae: 0.4650 - val_loss: 0.5250 - val_mae: 0.5554 - 471ms/epoch - 3ms/step\n",
            "Epoch 34/50\n",
            "153/153 - 0s - loss: 0.3622 - mae: 0.4655 - val_loss: 0.9127 - val_mae: 0.7617 - 464ms/epoch - 3ms/step\n",
            "Epoch 35/50\n",
            "153/153 - 0s - loss: 0.3576 - mae: 0.4624 - val_loss: 0.5517 - val_mae: 0.5587 - 422ms/epoch - 3ms/step\n",
            "Epoch 36/50\n",
            "153/153 - 0s - loss: 0.3602 - mae: 0.4647 - val_loss: 0.8712 - val_mae: 0.7246 - 475ms/epoch - 3ms/step\n",
            "Epoch 37/50\n",
            "153/153 - 0s - loss: 0.3511 - mae: 0.4611 - val_loss: 0.5432 - val_mae: 0.5560 - 459ms/epoch - 3ms/step\n",
            "Epoch 38/50\n",
            "153/153 - 0s - loss: 0.3515 - mae: 0.4604 - val_loss: 0.5421 - val_mae: 0.5636 - 461ms/epoch - 3ms/step\n",
            "Epoch 39/50\n",
            "153/153 - 0s - loss: 0.3423 - mae: 0.4524 - val_loss: 0.6001 - val_mae: 0.5809 - 459ms/epoch - 3ms/step\n",
            "Epoch 40/50\n",
            "153/153 - 1s - loss: 0.3470 - mae: 0.4571 - val_loss: 0.5633 - val_mae: 0.5656 - 538ms/epoch - 4ms/step\n",
            "Epoch 41/50\n",
            "153/153 - 1s - loss: 0.3393 - mae: 0.4513 - val_loss: 0.5777 - val_mae: 0.5854 - 540ms/epoch - 4ms/step\n",
            "Epoch 42/50\n",
            "153/153 - 0s - loss: 0.3367 - mae: 0.4494 - val_loss: 0.5322 - val_mae: 0.5486 - 458ms/epoch - 3ms/step\n",
            "Epoch 43/50\n",
            "153/153 - 0s - loss: 0.3354 - mae: 0.4460 - val_loss: 0.5400 - val_mae: 0.5541 - 474ms/epoch - 3ms/step\n",
            "Epoch 44/50\n",
            "153/153 - 0s - loss: 0.3322 - mae: 0.4445 - val_loss: 0.5241 - val_mae: 0.5461 - 480ms/epoch - 3ms/step\n",
            "Epoch 45/50\n",
            "153/153 - 0s - loss: 0.3297 - mae: 0.4441 - val_loss: 0.5476 - val_mae: 0.5591 - 450ms/epoch - 3ms/step\n",
            "Epoch 46/50\n",
            "153/153 - 0s - loss: 0.3241 - mae: 0.4418 - val_loss: 0.5474 - val_mae: 0.5580 - 434ms/epoch - 3ms/step\n",
            "Epoch 47/50\n",
            "153/153 - 0s - loss: 0.3252 - mae: 0.4417 - val_loss: 0.5801 - val_mae: 0.5782 - 499ms/epoch - 3ms/step\n",
            "Epoch 48/50\n",
            "153/153 - 1s - loss: 0.3218 - mae: 0.4408 - val_loss: 0.5920 - val_mae: 0.5777 - 532ms/epoch - 3ms/step\n",
            "Epoch 49/50\n",
            "153/153 - 0s - loss: 0.3180 - mae: 0.4372 - val_loss: 0.5767 - val_mae: 0.5752 - 440ms/epoch - 3ms/step\n",
            "Epoch 50/50\n",
            "153/153 - 0s - loss: 0.3084 - mae: 0.4284 - val_loss: 0.5655 - val_mae: 0.5663 - 434ms/epoch - 3ms/step\n",
            "Model: \"sequential_28\"\n",
            "_________________________________________________________________\n",
            " Layer (type)                Output Shape              Param #   \n",
            "=================================================================\n",
            " dense_113 (Dense)           (None, 128)               1664      \n",
            "                                                                 \n",
            " dense_114 (Dense)           (None, 64)                8256      \n",
            "                                                                 \n",
            " dense_115 (Dense)           (None, 30)                1950      \n",
            "                                                                 \n",
            " dense_116 (Dense)           (None, 5)                 155       \n",
            "                                                                 \n",
            " dense_117 (Dense)           (None, 1)                 6         \n",
            "                                                                 \n",
            "=================================================================\n",
            "Total params: 12,031\n",
            "Trainable params: 12,031\n",
            "Non-trainable params: 0\n",
            "_________________________________________________________________\n"
          ]
        }
      ]
    },
    {
      "cell_type": "markdown",
      "source": [
        "Plotting Regression Model 2"
      ],
      "metadata": {
        "id": "JRHjNr9xgXeT"
      }
    },
    {
      "cell_type": "code",
      "source": [
        "plot_model_history(regmodl2_history)"
      ],
      "metadata": {
        "id": "SNIWIhR2gaYN",
        "outputId": "1ec845bf-8f0c-4a53-dc1a-251b95994a88",
        "colab": {
          "base_uri": "https://localhost:8080/",
          "height": 295
        }
      },
      "execution_count": 197,
      "outputs": [
        {
          "output_type": "display_data",
          "data": {
            "image/png": "[encoded data removed]",
            "text/plain": [
              "<Figure size 432x288 with 1 Axes>"
            ]
          },
          "metadata": {
            "needs_background": "light"
          }
        }
      ]
    },
    {
      "cell_type": "markdown",
      "source": [
        "### Regression Model 3"
      ],
      "metadata": {
        "id": "9bt4_Yz4K8e9"
      }
    },
    {
      "cell_type": "code",
      "source": [
        "# reg mod 3\n",
        "def build_regmodl3():\n",
        "  model = keras.Sequential([\n",
        "    layers.Dense(512, activation=\"relu\"),\n",
        "    layers.Dense(125, activation=\"relu\"),\n",
        "    layers.Dense(64, activation=\"relu\"),\n",
        "    layers.Dense(30, activation=\"relu\"),\n",
        "    layers.Dense(5, activation=\"relu\"),\n",
        "    layers.Dense(1)                    \n",
        "  ])\n",
        "  model.compile(optimizer=\"rmsprop\", loss=\"mse\", metrics=[\"mae\"])\n",
        "  return model;\n",
        "\n",
        "regmodl3 = build_regmodl3()\n",
        "\n",
        "regmodl3_history = regmodl3.fit(x=copyTrain, y=y_train, epochs=50, verbose=2, validation_data=(copyVal, y_val))\n",
        "\n",
        "regmodl3.summary()"
      ],
      "metadata": {
        "id": "FKRKSxhfAeWi",
        "colab": {
          "base_uri": "https://localhost:8080/"
        },
        "outputId": "2ee1c126-2557-4c20-b3e7-68e5ea032f8b"
      },
      "execution_count": 198,
      "outputs": [
        {
          "output_type": "stream",
          "name": "stdout",
          "text": [
            "Epoch 1/50\n",
            "153/153 - 2s - loss: 1.8188 - mae: 0.9727 - val_loss: 0.7142 - val_mae: 0.6450 - 2s/epoch - 15ms/step\n",
            "Epoch 2/50\n",
            "153/153 - 1s - loss: 0.7748 - mae: 0.6878 - val_loss: 0.8929 - val_mae: 0.7304 - 832ms/epoch - 5ms/step\n",
            "Epoch 3/50\n",
            "153/153 - 1s - loss: 0.6796 - mae: 0.6418 - val_loss: 0.6196 - val_mae: 0.6017 - 781ms/epoch - 5ms/step\n",
            "Epoch 4/50\n",
            "153/153 - 1s - loss: 0.6299 - mae: 0.6242 - val_loss: 0.7713 - val_mae: 0.6996 - 793ms/epoch - 5ms/step\n",
            "Epoch 5/50\n",
            "153/153 - 1s - loss: 0.5858 - mae: 0.6004 - val_loss: 0.5445 - val_mae: 0.5625 - 757ms/epoch - 5ms/step\n",
            "Epoch 6/50\n",
            "153/153 - 1s - loss: 0.5819 - mae: 0.5964 - val_loss: 1.2378 - val_mae: 0.8873 - 690ms/epoch - 5ms/step\n",
            "Epoch 7/50\n",
            "153/153 - 1s - loss: 0.5593 - mae: 0.5847 - val_loss: 0.7601 - val_mae: 0.6888 - 695ms/epoch - 5ms/step\n",
            "Epoch 8/50\n",
            "153/153 - 1s - loss: 0.5439 - mae: 0.5754 - val_loss: 0.9860 - val_mae: 0.7677 - 761ms/epoch - 5ms/step\n",
            "Epoch 9/50\n",
            "153/153 - 1s - loss: 0.5351 - mae: 0.5750 - val_loss: 0.7063 - val_mae: 0.6614 - 740ms/epoch - 5ms/step\n",
            "Epoch 10/50\n",
            "153/153 - 1s - loss: 0.5161 - mae: 0.5634 - val_loss: 0.7749 - val_mae: 0.6981 - 722ms/epoch - 5ms/step\n",
            "Epoch 11/50\n",
            "153/153 - 1s - loss: 0.5004 - mae: 0.5520 - val_loss: 0.8376 - val_mae: 0.7307 - 743ms/epoch - 5ms/step\n",
            "Epoch 12/50\n",
            "153/153 - 1s - loss: 0.4981 - mae: 0.5495 - val_loss: 1.1095 - val_mae: 0.8725 - 729ms/epoch - 5ms/step\n",
            "Epoch 13/50\n",
            "153/153 - 1s - loss: 0.4796 - mae: 0.5418 - val_loss: 1.0534 - val_mae: 0.8231 - 705ms/epoch - 5ms/step\n",
            "Epoch 14/50\n",
            "153/153 - 1s - loss: 0.4744 - mae: 0.5390 - val_loss: 0.6330 - val_mae: 0.6156 - 722ms/epoch - 5ms/step\n",
            "Epoch 15/50\n",
            "153/153 - 1s - loss: 0.4700 - mae: 0.5349 - val_loss: 0.5792 - val_mae: 0.5853 - 724ms/epoch - 5ms/step\n",
            "Epoch 16/50\n",
            "153/153 - 1s - loss: 0.4569 - mae: 0.5290 - val_loss: 0.6285 - val_mae: 0.6166 - 694ms/epoch - 5ms/step\n",
            "Epoch 17/50\n",
            "153/153 - 1s - loss: 0.4428 - mae: 0.5196 - val_loss: 0.5771 - val_mae: 0.5860 - 719ms/epoch - 5ms/step\n",
            "Epoch 18/50\n",
            "153/153 - 1s - loss: 0.4340 - mae: 0.5148 - val_loss: 0.5153 - val_mae: 0.5539 - 730ms/epoch - 5ms/step\n",
            "Epoch 19/50\n",
            "153/153 - 1s - loss: 0.4292 - mae: 0.5093 - val_loss: 0.7681 - val_mae: 0.6861 - 798ms/epoch - 5ms/step\n",
            "Epoch 20/50\n",
            "153/153 - 1s - loss: 0.4300 - mae: 0.5086 - val_loss: 0.5520 - val_mae: 0.5682 - 701ms/epoch - 5ms/step\n",
            "Epoch 21/50\n",
            "153/153 - 1s - loss: 0.4241 - mae: 0.5082 - val_loss: 0.6121 - val_mae: 0.5990 - 756ms/epoch - 5ms/step\n",
            "Epoch 22/50\n",
            "153/153 - 1s - loss: 0.4180 - mae: 0.5038 - val_loss: 0.5917 - val_mae: 0.5975 - 659ms/epoch - 4ms/step\n",
            "Epoch 23/50\n",
            "153/153 - 1s - loss: 0.4038 - mae: 0.4969 - val_loss: 0.7439 - val_mae: 0.6751 - 690ms/epoch - 5ms/step\n",
            "Epoch 24/50\n",
            "153/153 - 1s - loss: 0.4036 - mae: 0.4946 - val_loss: 0.5471 - val_mae: 0.5622 - 701ms/epoch - 5ms/step\n",
            "Epoch 25/50\n",
            "153/153 - 1s - loss: 0.3967 - mae: 0.4927 - val_loss: 0.6729 - val_mae: 0.6361 - 698ms/epoch - 5ms/step\n",
            "Epoch 26/50\n",
            "153/153 - 1s - loss: 0.3875 - mae: 0.4806 - val_loss: 0.6390 - val_mae: 0.6207 - 674ms/epoch - 4ms/step\n",
            "Epoch 27/50\n",
            "153/153 - 1s - loss: 0.3767 - mae: 0.4731 - val_loss: 0.7090 - val_mae: 0.6607 - 730ms/epoch - 5ms/step\n",
            "Epoch 28/50\n",
            "153/153 - 1s - loss: 0.3796 - mae: 0.4751 - val_loss: 0.5768 - val_mae: 0.5810 - 742ms/epoch - 5ms/step\n",
            "Epoch 29/50\n",
            "153/153 - 1s - loss: 0.3657 - mae: 0.4691 - val_loss: 0.7450 - val_mae: 0.6785 - 771ms/epoch - 5ms/step\n",
            "Epoch 30/50\n",
            "153/153 - 1s - loss: 0.3647 - mae: 0.4676 - val_loss: 0.6968 - val_mae: 0.6560 - 675ms/epoch - 4ms/step\n",
            "Epoch 31/50\n",
            "153/153 - 1s - loss: 0.3520 - mae: 0.4595 - val_loss: 0.5047 - val_mae: 0.5343 - 719ms/epoch - 5ms/step\n",
            "Epoch 32/50\n",
            "153/153 - 1s - loss: 0.3640 - mae: 0.4688 - val_loss: 0.8071 - val_mae: 0.6915 - 697ms/epoch - 5ms/step\n",
            "Epoch 33/50\n",
            "153/153 - 1s - loss: 0.3422 - mae: 0.4512 - val_loss: 0.6309 - val_mae: 0.6067 - 697ms/epoch - 5ms/step\n",
            "Epoch 34/50\n",
            "153/153 - 1s - loss: 0.3380 - mae: 0.4506 - val_loss: 0.9352 - val_mae: 0.7578 - 740ms/epoch - 5ms/step\n",
            "Epoch 35/50\n",
            "153/153 - 1s - loss: 0.3412 - mae: 0.4503 - val_loss: 0.6497 - val_mae: 0.6305 - 732ms/epoch - 5ms/step\n",
            "Epoch 36/50\n",
            "153/153 - 1s - loss: 0.3249 - mae: 0.4403 - val_loss: 0.6406 - val_mae: 0.6124 - 705ms/epoch - 5ms/step\n",
            "Epoch 37/50\n",
            "153/153 - 1s - loss: 0.3247 - mae: 0.4386 - val_loss: 1.2117 - val_mae: 0.8921 - 692ms/epoch - 5ms/step\n",
            "Epoch 38/50\n",
            "153/153 - 1s - loss: 0.3204 - mae: 0.4381 - val_loss: 0.6608 - val_mae: 0.6299 - 796ms/epoch - 5ms/step\n",
            "Epoch 39/50\n",
            "153/153 - 1s - loss: 0.3133 - mae: 0.4300 - val_loss: 0.5771 - val_mae: 0.5744 - 724ms/epoch - 5ms/step\n",
            "Epoch 40/50\n",
            "153/153 - 1s - loss: 0.3072 - mae: 0.4277 - val_loss: 0.5634 - val_mae: 0.5631 - 750ms/epoch - 5ms/step\n",
            "Epoch 41/50\n",
            "153/153 - 1s - loss: 0.3016 - mae: 0.4220 - val_loss: 0.6111 - val_mae: 0.5964 - 750ms/epoch - 5ms/step\n",
            "Epoch 42/50\n",
            "153/153 - 1s - loss: 0.2978 - mae: 0.4223 - val_loss: 0.6326 - val_mae: 0.6057 - 744ms/epoch - 5ms/step\n",
            "Epoch 43/50\n",
            "153/153 - 1s - loss: 0.2918 - mae: 0.4152 - val_loss: 0.5570 - val_mae: 0.5579 - 657ms/epoch - 4ms/step\n",
            "Epoch 44/50\n",
            "153/153 - 1s - loss: 0.2811 - mae: 0.4098 - val_loss: 0.5657 - val_mae: 0.5566 - 688ms/epoch - 4ms/step\n",
            "Epoch 45/50\n",
            "153/153 - 1s - loss: 0.2848 - mae: 0.4130 - val_loss: 0.5849 - val_mae: 0.5681 - 777ms/epoch - 5ms/step\n",
            "Epoch 46/50\n",
            "153/153 - 1s - loss: 0.2732 - mae: 0.4010 - val_loss: 0.6438 - val_mae: 0.6141 - 656ms/epoch - 4ms/step\n",
            "Epoch 47/50\n",
            "153/153 - 1s - loss: 0.2714 - mae: 0.4026 - val_loss: 0.5431 - val_mae: 0.5473 - 664ms/epoch - 4ms/step\n",
            "Epoch 48/50\n",
            "153/153 - 1s - loss: 0.2636 - mae: 0.3946 - val_loss: 0.6455 - val_mae: 0.6072 - 745ms/epoch - 5ms/step\n",
            "Epoch 49/50\n",
            "153/153 - 1s - loss: 0.2693 - mae: 0.3973 - val_loss: 0.5291 - val_mae: 0.5337 - 746ms/epoch - 5ms/step\n",
            "Epoch 50/50\n",
            "153/153 - 1s - loss: 0.2534 - mae: 0.3883 - val_loss: 0.6080 - val_mae: 0.5877 - 664ms/epoch - 4ms/step\n",
            "Model: \"sequential_29\"\n",
            "_________________________________________________________________\n",
            " Layer (type)                Output Shape              Param #   \n",
            "=================================================================\n",
            " dense_118 (Dense)           (None, 512)               6656      \n",
            "                                                                 \n",
            " dense_119 (Dense)           (None, 125)               64125     \n",
            "                                                                 \n",
            " dense_120 (Dense)           (None, 64)                8064      \n",
            "                                                                 \n",
            " dense_121 (Dense)           (None, 30)                1950      \n",
            "                                                                 \n",
            " dense_122 (Dense)           (None, 5)                 155       \n",
            "                                                                 \n",
            " dense_123 (Dense)           (None, 1)                 6         \n",
            "                                                                 \n",
            "=================================================================\n",
            "Total params: 80,956\n",
            "Trainable params: 80,956\n",
            "Non-trainable params: 0\n",
            "_________________________________________________________________\n"
          ]
        }
      ]
    },
    {
      "cell_type": "markdown",
      "source": [
        "Plotting Regression Model 3"
      ],
      "metadata": {
        "id": "8Oyf18uLLAzf"
      }
    },
    {
      "cell_type": "code",
      "source": [
        "plot_model_history(regmodl3_history)"
      ],
      "metadata": {
        "colab": {
          "base_uri": "https://localhost:8080/",
          "height": 295
        },
        "id": "e5XlSgPELE18",
        "outputId": "55b1005a-855c-4023-cfde-30cc718784ab"
      },
      "execution_count": 199,
      "outputs": [
        {
          "output_type": "display_data",
          "data": {
            "image/png": "[encoded data removed]",
            "text/plain": [
              "<Figure size 432x288 with 1 Axes>"
            ]
          },
          "metadata": {
            "needs_background": "light"
          }
        }
      ]
    },
    {
      "cell_type": "code",
      "source": [
        "from prettytable import PrettyTable\n",
        "\n",
        "predictions = regmodl3.predict(copyTest)\n",
        "\n",
        "table = PrettyTable(['Pattern #', 'f1', 'f2', 'f3', 'f4', 'f5', 'f6', 'f7', 'f8', 'f9', 'f10', 'f11', 'f12', 'Activation', 'Target', 'Error'])\n",
        "\n",
        "\n",
        "for i in range(10):\n",
        "  error = abs(predictions[i] - y_tst[i])\n",
        "  table.add_row([i + 1, Xtst[i][0], Xtst[i][1], Xtst[i][2], Xtst[i][3], Xtst[i][4], Xtst[i][5], Xtst[i][6], Xtst[i][7], Xtst[i][8], Xtst[i][9], Xtst[i][10], Xtst[i][11], predictions[i], y_tst[i], error])\n",
        "\n",
        "print(table)"
      ],
      "metadata": {
        "colab": {
          "base_uri": "https://localhost:8080/"
        },
        "id": "GmgGdwnGObc-",
        "outputId": "4f3bf6ea-649d-49bf-9876-21903baa30d5"
      },
      "execution_count": 206,
      "outputs": [
        {
          "output_type": "stream",
          "name": "stdout",
          "text": [
            "+-----------+-----+------+------+------+-------+------+-------+---------+------+------+------------------+-----+-------------+--------+--------------+\n",
            "| Pattern # |  f1 |  f2  |  f3  |  f4  |   f5  |  f6  |   f7  |    f8   |  f9  | f10  |       f11        | f12 |  Activation | Target |    Error     |\n",
            "+-----------+-----+------+------+------+-------+------+-------+---------+------+------+------------------+-----+-------------+--------+--------------+\n",
            "|     1     | 7.4 | 0.44 | 0.2  | 11.5 | 0.049 | 44.0 | 157.0 |  0.998  | 3.27 | 0.44 |       9.0        | 0.0 | [4.8547707] |   5    | [0.14522934] |\n",
            "|     2     | 6.5 | 0.23 | 0.36 | 16.3 | 0.038 | 43.0 | 133.0 | 0.99924 | 3.26 | 0.41 |       8.8        | 0.0 | [5.6238875] |   5    | [0.62388754] |\n",
            "|     3     | 5.6 | 0.41 | 0.24 | 1.9  | 0.034 | 10.0 |  53.0 | 0.98815 | 3.32 | 0.5  |       13.5       | 0.0 | [6.1521735] |   7    | [0.8478265]  |\n",
            "|     4     | 6.4 | 0.67 | 0.08 | 2.1  | 0.045 | 19.0 |  48.0 |  0.9949 | 3.49 | 0.49 |       11.4       | 1.0 |  [5.133754] |   6    | [0.8662462]  |\n",
            "|     5     | 6.8 | 0.18 | 0.37 | 1.6  | 0.055 | 47.0 | 154.0 |  0.9934 | 3.08 | 0.45 |       9.1        | 0.0 |  [6.775901] |   5    | [1.7759008]  |\n",
            "|     6     | 6.9 | 0.41 | 0.33 | 10.1 | 0.043 | 28.0 | 152.0 |  0.9968 | 3.2  | 0.52 |       9.4        | 0.0 | [5.1838155] |   5    | [0.18381548] |\n",
            "|     7     | 5.9 | 0.32 | 0.33 | 2.1  | 0.027 | 35.0 | 138.0 | 0.98945 | 3.37 | 0.42 |       12.7       | 0.0 | [7.3985367] |   6    | [1.3985367]  |\n",
            "|     8     | 6.0 | 0.24 | 0.41 | 1.3  | 0.036 | 42.0 | 118.0 | 0.99018 | 3.04 | 0.64 | 11.7333333333333 | 0.0 |  [6.273619] |   6    | [0.27361917] |\n",
            "|     9     | 7.3 | 0.48 | 0.32 | 2.1  | 0.062 | 31.0 |  54.0 | 0.99728 | 3.3  | 0.65 |       10.0       | 1.0 | [6.6435437] |   7    | [0.35645628] |\n",
            "|     10    | 7.4 | 0.24 | 0.22 | 10.7 | 0.042 | 26.0 |  81.0 |  0.9954 | 2.86 | 0.36 |       9.7        | 0.0 | [6.2869954] |   6    | [0.2869954]  |\n",
            "+-----------+-----+------+------+------+-------+------+-------+---------+------+------+------------------+-----+-------------+--------+--------------+\n"
          ]
        }
      ]
    },
    {
      "cell_type": "markdown",
      "source": [
        "# Part 3: Classification Model\n"
      ],
      "metadata": {
        "id": "PyD1poH4gTyy"
      }
    },
    {
      "cell_type": "code",
      "source": [
        "import copy\n",
        "\n",
        "def predict_hit_ratio():\n",
        "  val_labels_copy = copy.copy(y_val)\n",
        "  np.random.shuffle(val_labels_copy)\n",
        "  hits_array = np.array(y_val) == np.array(val_labels_copy)\n",
        "  return hits_array.mean()"
      ],
      "metadata": {
        "id": "0OJ__Hwciw2k"
      },
      "execution_count": 207,
      "outputs": []
    },
    {
      "cell_type": "markdown",
      "source": [
        "### Classification Model 1"
      ],
      "metadata": {
        "id": "YiAOiEL1gzC4"
      }
    },
    {
      "cell_type": "code",
      "source": [
        "def build_clasmod1():\n",
        "  model = keras.Sequential([\n",
        "    layers.Dense(8,  activation=\"relu\"),\n",
        "    layers.Dense(4,  activation=\"softmax\")\n",
        "  ])\n",
        "  model.compile(optimizer=\"rmsprop\", loss=\"categorical_crossentropy\", metrics=[\"accuracy\"]) \n",
        "  return model\n",
        "\n",
        "clasmodl1 = build_clasmod1()\n",
        "\n",
        "clasmodl1_history = clasmodl1.fit(x=Xtrain, y=one_hot_train_labels, batch_size=32, epochs=25, verbose=2, validation_data=(Xval,one_hot_val_labels), validation_freq=1)\n",
        "\n",
        "clasmodl1.summary()"
      ],
      "metadata": {
        "id": "WtxZSngFg18y",
        "colab": {
          "base_uri": "https://localhost:8080/"
        },
        "outputId": "c9de81c9-ebac-426c-d4ac-2a943a62f2e7"
      },
      "execution_count": 208,
      "outputs": [
        {
          "output_type": "stream",
          "name": "stdout",
          "text": [
            "Epoch 1/25\n",
            "153/153 - 1s - loss: 7.9153 - accuracy: 0.5924 - val_loss: 0.9182 - val_accuracy: 0.7467 - 1s/epoch - 8ms/step\n",
            "Epoch 2/25\n",
            "153/153 - 0s - loss: 0.5343 - accuracy: 0.7995 - val_loss: 0.4007 - val_accuracy: 0.7839 - 374ms/epoch - 2ms/step\n",
            "Epoch 3/25\n",
            "153/153 - 0s - loss: 0.3219 - accuracy: 0.8038 - val_loss: 0.3109 - val_accuracy: 0.7839 - 341ms/epoch - 2ms/step\n",
            "Epoch 4/25\n",
            "153/153 - 0s - loss: 0.2807 - accuracy: 0.8038 - val_loss: 0.2943 - val_accuracy: 0.7839 - 421ms/epoch - 3ms/step\n",
            "Epoch 5/25\n",
            "153/153 - 0s - loss: 0.2699 - accuracy: 0.8038 - val_loss: 0.2841 - val_accuracy: 0.7839 - 391ms/epoch - 3ms/step\n",
            "Epoch 6/25\n",
            "153/153 - 0s - loss: 0.2629 - accuracy: 0.8038 - val_loss: 0.2768 - val_accuracy: 0.7839 - 370ms/epoch - 2ms/step\n",
            "Epoch 7/25\n",
            "153/153 - 0s - loss: 0.2577 - accuracy: 0.8038 - val_loss: 0.2729 - val_accuracy: 0.7839 - 379ms/epoch - 2ms/step\n",
            "Epoch 8/25\n",
            "153/153 - 0s - loss: 0.2541 - accuracy: 0.8038 - val_loss: 0.2719 - val_accuracy: 0.7839 - 410ms/epoch - 3ms/step\n",
            "Epoch 9/25\n",
            "153/153 - 0s - loss: 0.2511 - accuracy: 0.8038 - val_loss: 0.2701 - val_accuracy: 0.7839 - 446ms/epoch - 3ms/step\n",
            "Epoch 10/25\n",
            "153/153 - 0s - loss: 0.2494 - accuracy: 0.8038 - val_loss: 0.2636 - val_accuracy: 0.7839 - 410ms/epoch - 3ms/step\n",
            "Epoch 11/25\n",
            "153/153 - 0s - loss: 0.2478 - accuracy: 0.8038 - val_loss: 0.2677 - val_accuracy: 0.7839 - 372ms/epoch - 2ms/step\n",
            "Epoch 12/25\n",
            "153/153 - 0s - loss: 0.2468 - accuracy: 0.8038 - val_loss: 0.2627 - val_accuracy: 0.7839 - 390ms/epoch - 3ms/step\n",
            "Epoch 13/25\n",
            "153/153 - 0s - loss: 0.2457 - accuracy: 0.8038 - val_loss: 0.2747 - val_accuracy: 0.7839 - 468ms/epoch - 3ms/step\n",
            "Epoch 14/25\n",
            "153/153 - 0s - loss: 0.2450 - accuracy: 0.8038 - val_loss: 0.2684 - val_accuracy: 0.7833 - 384ms/epoch - 3ms/step\n",
            "Epoch 15/25\n",
            "153/153 - 0s - loss: 0.2438 - accuracy: 0.8036 - val_loss: 0.2681 - val_accuracy: 0.7839 - 354ms/epoch - 2ms/step\n",
            "Epoch 16/25\n",
            "153/153 - 0s - loss: 0.2432 - accuracy: 0.8036 - val_loss: 0.2614 - val_accuracy: 0.7845 - 358ms/epoch - 2ms/step\n",
            "Epoch 17/25\n",
            "153/153 - 0s - loss: 0.2424 - accuracy: 0.8038 - val_loss: 0.2613 - val_accuracy: 0.7845 - 410ms/epoch - 3ms/step\n",
            "Epoch 18/25\n",
            "153/153 - 0s - loss: 0.2413 - accuracy: 0.8030 - val_loss: 0.2580 - val_accuracy: 0.7839 - 361ms/epoch - 2ms/step\n",
            "Epoch 19/25\n",
            "153/153 - 0s - loss: 0.2403 - accuracy: 0.8036 - val_loss: 0.2576 - val_accuracy: 0.7827 - 478ms/epoch - 3ms/step\n",
            "Epoch 20/25\n",
            "153/153 - 0s - loss: 0.2395 - accuracy: 0.8032 - val_loss: 0.2565 - val_accuracy: 0.7827 - 358ms/epoch - 2ms/step\n",
            "Epoch 21/25\n",
            "153/153 - 0s - loss: 0.2388 - accuracy: 0.8042 - val_loss: 0.2587 - val_accuracy: 0.7827 - 395ms/epoch - 3ms/step\n",
            "Epoch 22/25\n",
            "153/153 - 0s - loss: 0.2382 - accuracy: 0.8034 - val_loss: 0.2560 - val_accuracy: 0.7820 - 400ms/epoch - 3ms/step\n",
            "Epoch 23/25\n",
            "153/153 - 0s - loss: 0.2375 - accuracy: 0.8042 - val_loss: 0.2572 - val_accuracy: 0.7839 - 376ms/epoch - 2ms/step\n",
            "Epoch 24/25\n",
            "153/153 - 0s - loss: 0.2368 - accuracy: 0.8046 - val_loss: 0.2563 - val_accuracy: 0.7827 - 427ms/epoch - 3ms/step\n",
            "Epoch 25/25\n",
            "153/153 - 0s - loss: 0.2357 - accuracy: 0.8046 - val_loss: 0.2534 - val_accuracy: 0.7814 - 353ms/epoch - 2ms/step\n",
            "Model: \"sequential_30\"\n",
            "_________________________________________________________________\n",
            " Layer (type)                Output Shape              Param #   \n",
            "=================================================================\n",
            " dense_124 (Dense)           (None, 8)                 104       \n",
            "                                                                 \n",
            " dense_125 (Dense)           (None, 4)                 36        \n",
            "                                                                 \n",
            "=================================================================\n",
            "Total params: 140\n",
            "Trainable params: 140\n",
            "Non-trainable params: 0\n",
            "_________________________________________________________________\n"
          ]
        }
      ]
    },
    {
      "cell_type": "code",
      "source": [
        "plot_model_history(clasmodl1_history)"
      ],
      "metadata": {
        "id": "YtqhflJ_x_D2",
        "colab": {
          "base_uri": "https://localhost:8080/",
          "height": 295
        },
        "outputId": "e3065033-19e7-4c2b-aa12-7115ef5b1d7c"
      },
      "execution_count": 209,
      "outputs": [
        {
          "output_type": "display_data",
          "data": {
            "image/png": "[encoded data removed]",
            "text/plain": [
              "<Figure size 432x288 with 1 Axes>"
            ]
          },
          "metadata": {
            "needs_background": "light"
          }
        }
      ]
    },
    {
      "cell_type": "markdown",
      "source": [
        "## Classification Model 2"
      ],
      "metadata": {
        "id": "LPufeNyog7yY"
      }
    },
    {
      "cell_type": "code",
      "source": [
        "# Model number 2\n",
        "def build_clasmod2():\n",
        "  model = keras.Sequential([\n",
        "    layers.Dense(32,  activation=\"relu\"),\n",
        "    layers.Dense(8, activation=\"relu\"),\n",
        "    layers.Dense(4,  activation=\"softmax\")\n",
        "  ])\n",
        "  model.compile(optimizer=\"rmsprop\", loss=\"categorical_crossentropy\", metrics=[\"accuracy\"]) \n",
        "  return model\n",
        "\n",
        "clasmodl2 = build_clasmod2()\n",
        "\n",
        "clasmodl2_history = clasmodl2.fit(x=Xtrain, y=one_hot_train_labels, batch_size=32, epochs=25, verbose=2, validation_data=(Xval,one_hot_val_labels), validation_freq=1)\n",
        "\n",
        "clasmodl2.summary()"
      ],
      "metadata": {
        "id": "E41xCAOog9VF",
        "colab": {
          "base_uri": "https://localhost:8080/"
        },
        "outputId": "06266a8c-8483-4459-dd2c-683945f9c7a0"
      },
      "execution_count": 210,
      "outputs": [
        {
          "output_type": "stream",
          "name": "stdout",
          "text": [
            "Epoch 1/25\n",
            "153/153 - 2s - loss: 0.5812 - accuracy: 0.7272 - val_loss: 0.3118 - val_accuracy: 0.7833 - 2s/epoch - 10ms/step\n",
            "Epoch 2/25\n",
            "153/153 - 0s - loss: 0.2660 - accuracy: 0.8017 - val_loss: 0.3102 - val_accuracy: 0.7839 - 457ms/epoch - 3ms/step\n",
            "Epoch 3/25\n",
            "153/153 - 0s - loss: 0.2548 - accuracy: 0.8032 - val_loss: 0.2623 - val_accuracy: 0.7814 - 456ms/epoch - 3ms/step\n",
            "Epoch 4/25\n",
            "153/153 - 0s - loss: 0.2498 - accuracy: 0.8038 - val_loss: 0.2674 - val_accuracy: 0.7839 - 472ms/epoch - 3ms/step\n",
            "Epoch 5/25\n",
            "153/153 - 0s - loss: 0.2450 - accuracy: 0.8034 - val_loss: 0.2699 - val_accuracy: 0.7839 - 450ms/epoch - 3ms/step\n",
            "Epoch 6/25\n",
            "153/153 - 0s - loss: 0.2435 - accuracy: 0.8050 - val_loss: 0.2852 - val_accuracy: 0.7839 - 385ms/epoch - 3ms/step\n",
            "Epoch 7/25\n",
            "153/153 - 0s - loss: 0.2395 - accuracy: 0.8062 - val_loss: 0.2543 - val_accuracy: 0.7783 - 414ms/epoch - 3ms/step\n",
            "Epoch 8/25\n",
            "153/153 - 0s - loss: 0.2385 - accuracy: 0.8028 - val_loss: 0.2631 - val_accuracy: 0.7839 - 391ms/epoch - 3ms/step\n",
            "Epoch 9/25\n",
            "153/153 - 0s - loss: 0.2353 - accuracy: 0.8056 - val_loss: 0.2513 - val_accuracy: 0.7820 - 388ms/epoch - 3ms/step\n",
            "Epoch 10/25\n",
            "153/153 - 0s - loss: 0.2337 - accuracy: 0.8032 - val_loss: 0.2464 - val_accuracy: 0.7913 - 345ms/epoch - 2ms/step\n",
            "Epoch 11/25\n",
            "153/153 - 0s - loss: 0.2316 - accuracy: 0.8044 - val_loss: 0.2643 - val_accuracy: 0.7926 - 468ms/epoch - 3ms/step\n",
            "Epoch 12/25\n",
            "153/153 - 0s - loss: 0.2287 - accuracy: 0.8054 - val_loss: 0.2413 - val_accuracy: 0.7777 - 479ms/epoch - 3ms/step\n",
            "Epoch 13/25\n",
            "153/153 - 0s - loss: 0.2278 - accuracy: 0.8060 - val_loss: 0.2797 - val_accuracy: 0.7839 - 442ms/epoch - 3ms/step\n",
            "Epoch 14/25\n",
            "153/153 - 0s - loss: 0.2283 - accuracy: 0.8067 - val_loss: 0.2499 - val_accuracy: 0.7950 - 434ms/epoch - 3ms/step\n",
            "Epoch 15/25\n",
            "153/153 - 0s - loss: 0.2260 - accuracy: 0.8069 - val_loss: 0.2529 - val_accuracy: 0.7858 - 446ms/epoch - 3ms/step\n",
            "Epoch 16/25\n",
            "153/153 - 0s - loss: 0.2258 - accuracy: 0.8075 - val_loss: 0.2597 - val_accuracy: 0.7851 - 365ms/epoch - 2ms/step\n",
            "Epoch 17/25\n",
            "153/153 - 0s - loss: 0.2249 - accuracy: 0.8060 - val_loss: 0.2400 - val_accuracy: 0.7876 - 395ms/epoch - 3ms/step\n",
            "Epoch 18/25\n",
            "153/153 - 0s - loss: 0.2228 - accuracy: 0.8101 - val_loss: 0.2717 - val_accuracy: 0.7839 - 474ms/epoch - 3ms/step\n",
            "Epoch 19/25\n",
            "153/153 - 0s - loss: 0.2227 - accuracy: 0.8120 - val_loss: 0.2720 - val_accuracy: 0.7845 - 357ms/epoch - 2ms/step\n",
            "Epoch 20/25\n",
            "153/153 - 0s - loss: 0.2230 - accuracy: 0.8091 - val_loss: 0.2384 - val_accuracy: 0.7851 - 323ms/epoch - 2ms/step\n",
            "Epoch 21/25\n",
            "153/153 - 0s - loss: 0.2214 - accuracy: 0.8112 - val_loss: 0.2649 - val_accuracy: 0.7740 - 463ms/epoch - 3ms/step\n",
            "Epoch 22/25\n",
            "153/153 - 0s - loss: 0.2211 - accuracy: 0.8075 - val_loss: 0.2374 - val_accuracy: 0.7988 - 458ms/epoch - 3ms/step\n",
            "Epoch 23/25\n",
            "153/153 - 0s - loss: 0.2200 - accuracy: 0.8114 - val_loss: 0.2341 - val_accuracy: 0.7926 - 416ms/epoch - 3ms/step\n",
            "Epoch 24/25\n",
            "153/153 - 0s - loss: 0.2192 - accuracy: 0.8083 - val_loss: 0.2322 - val_accuracy: 0.7920 - 449ms/epoch - 3ms/step\n",
            "Epoch 25/25\n",
            "153/153 - 0s - loss: 0.2195 - accuracy: 0.8120 - val_loss: 0.2387 - val_accuracy: 0.7895 - 472ms/epoch - 3ms/step\n",
            "Model: \"sequential_31\"\n",
            "_________________________________________________________________\n",
            " Layer (type)                Output Shape              Param #   \n",
            "=================================================================\n",
            " dense_126 (Dense)           (None, 32)                416       \n",
            "                                                                 \n",
            " dense_127 (Dense)           (None, 8)                 264       \n",
            "                                                                 \n",
            " dense_128 (Dense)           (None, 4)                 36        \n",
            "                                                                 \n",
            "=================================================================\n",
            "Total params: 716\n",
            "Trainable params: 716\n",
            "Non-trainable params: 0\n",
            "_________________________________________________________________\n"
          ]
        }
      ]
    },
    {
      "cell_type": "code",
      "source": [
        "plot_model_history(clasmodl2_history)"
      ],
      "metadata": {
        "colab": {
          "base_uri": "https://localhost:8080/",
          "height": 295
        },
        "id": "4nAqT62FMN5j",
        "outputId": "75aefc31-5bf5-4e67-b852-59a471d119a8"
      },
      "execution_count": 211,
      "outputs": [
        {
          "output_type": "display_data",
          "data": {
            "image/png": "[encoded data removed]",
            "text/plain": [
              "<Figure size 432x288 with 1 Axes>"
            ]
          },
          "metadata": {
            "needs_background": "light"
          }
        }
      ]
    },
    {
      "cell_type": "markdown",
      "source": [
        "## Classification Model 3"
      ],
      "metadata": {
        "id": "DNpn6zV1g_gl"
      }
    },
    {
      "cell_type": "code",
      "source": [
        "# Model number 2\n",
        "def build_clasmod3():\n",
        "  model = keras.Sequential([\n",
        "    layers.Dense(32,  activation=\"relu\"),\n",
        "    layers.Dense(8, activation=\"relu\"),\n",
        "    layers.Dense(4,  activation=\"softmax\")\n",
        "  ])\n",
        "  model.compile(optimizer=\"rmsprop\", loss=\"categorical_crossentropy\", metrics=[\"accuracy\"]) \n",
        "  return model\n",
        "\n",
        "clasmodl3 = build_clasmod2()\n",
        "\n",
        "clasmodl3_history = clasmodl3.fit(x=Xtrain, y=one_hot_train_labels, batch_size=32, epochs=25, verbose=2, validation_data=(Xval,one_hot_val_labels), validation_freq=1)\n",
        "\n",
        "clasmodl3.summary()"
      ],
      "metadata": {
        "id": "N88gwpRahBnA",
        "colab": {
          "base_uri": "https://localhost:8080/"
        },
        "outputId": "be133acf-b383-4ffb-e67b-59f186237f85"
      },
      "execution_count": 212,
      "outputs": [
        {
          "output_type": "stream",
          "name": "stdout",
          "text": [
            "Epoch 1/25\n",
            "153/153 - 2s - loss: 0.4157 - accuracy: 0.7295 - val_loss: 0.2828 - val_accuracy: 0.7839 - 2s/epoch - 10ms/step\n",
            "Epoch 2/25\n",
            "153/153 - 0s - loss: 0.2668 - accuracy: 0.8038 - val_loss: 0.2769 - val_accuracy: 0.7839 - 409ms/epoch - 3ms/step\n",
            "Epoch 3/25\n",
            "153/153 - 0s - loss: 0.2624 - accuracy: 0.8038 - val_loss: 0.2710 - val_accuracy: 0.7839 - 466ms/epoch - 3ms/step\n",
            "Epoch 4/25\n",
            "153/153 - 0s - loss: 0.2589 - accuracy: 0.8038 - val_loss: 0.2811 - val_accuracy: 0.7839 - 472ms/epoch - 3ms/step\n",
            "Epoch 5/25\n",
            "153/153 - 0s - loss: 0.2573 - accuracy: 0.8038 - val_loss: 0.2908 - val_accuracy: 0.7839 - 402ms/epoch - 3ms/step\n",
            "Epoch 6/25\n",
            "153/153 - 0s - loss: 0.2556 - accuracy: 0.8038 - val_loss: 0.2676 - val_accuracy: 0.7839 - 465ms/epoch - 3ms/step\n",
            "Epoch 7/25\n",
            "153/153 - 0s - loss: 0.2536 - accuracy: 0.8038 - val_loss: 0.2902 - val_accuracy: 0.7839 - 469ms/epoch - 3ms/step\n",
            "Epoch 8/25\n",
            "153/153 - 0s - loss: 0.2518 - accuracy: 0.8038 - val_loss: 0.2665 - val_accuracy: 0.7839 - 386ms/epoch - 3ms/step\n",
            "Epoch 9/25\n",
            "153/153 - 0s - loss: 0.2504 - accuracy: 0.8038 - val_loss: 0.2678 - val_accuracy: 0.7839 - 455ms/epoch - 3ms/step\n",
            "Epoch 10/25\n",
            "153/153 - 0s - loss: 0.2483 - accuracy: 0.8038 - val_loss: 0.2735 - val_accuracy: 0.7839 - 436ms/epoch - 3ms/step\n",
            "Epoch 11/25\n",
            "153/153 - 0s - loss: 0.2457 - accuracy: 0.8038 - val_loss: 0.2755 - val_accuracy: 0.7839 - 476ms/epoch - 3ms/step\n",
            "Epoch 12/25\n",
            "153/153 - 0s - loss: 0.2448 - accuracy: 0.8038 - val_loss: 0.2712 - val_accuracy: 0.7839 - 393ms/epoch - 3ms/step\n",
            "Epoch 13/25\n",
            "153/153 - 0s - loss: 0.2432 - accuracy: 0.8038 - val_loss: 0.2692 - val_accuracy: 0.7839 - 429ms/epoch - 3ms/step\n",
            "Epoch 14/25\n",
            "153/153 - 0s - loss: 0.2419 - accuracy: 0.8038 - val_loss: 0.2592 - val_accuracy: 0.7839 - 459ms/epoch - 3ms/step\n",
            "Epoch 15/25\n",
            "153/153 - 0s - loss: 0.2405 - accuracy: 0.8038 - val_loss: 0.2566 - val_accuracy: 0.7839 - 371ms/epoch - 2ms/step\n",
            "Epoch 16/25\n",
            "153/153 - 0s - loss: 0.2403 - accuracy: 0.8038 - val_loss: 0.2568 - val_accuracy: 0.7839 - 358ms/epoch - 2ms/step\n",
            "Epoch 17/25\n",
            "153/153 - 0s - loss: 0.2390 - accuracy: 0.8038 - val_loss: 0.2973 - val_accuracy: 0.7839 - 428ms/epoch - 3ms/step\n",
            "Epoch 18/25\n",
            "153/153 - 0s - loss: 0.2385 - accuracy: 0.8036 - val_loss: 0.2643 - val_accuracy: 0.7839 - 325ms/epoch - 2ms/step\n",
            "Epoch 19/25\n",
            "153/153 - 0s - loss: 0.2375 - accuracy: 0.8038 - val_loss: 0.2648 - val_accuracy: 0.7839 - 370ms/epoch - 2ms/step\n",
            "Epoch 20/25\n",
            "153/153 - 0s - loss: 0.2381 - accuracy: 0.8036 - val_loss: 0.2545 - val_accuracy: 0.7839 - 477ms/epoch - 3ms/step\n",
            "Epoch 21/25\n",
            "153/153 - 0s - loss: 0.2358 - accuracy: 0.8036 - val_loss: 0.2745 - val_accuracy: 0.7839 - 385ms/epoch - 3ms/step\n",
            "Epoch 22/25\n",
            "153/153 - 0s - loss: 0.2347 - accuracy: 0.8034 - val_loss: 0.2537 - val_accuracy: 0.7839 - 401ms/epoch - 3ms/step\n",
            "Epoch 23/25\n",
            "153/153 - 0s - loss: 0.2335 - accuracy: 0.8034 - val_loss: 0.2506 - val_accuracy: 0.7839 - 369ms/epoch - 2ms/step\n",
            "Epoch 24/25\n",
            "153/153 - 0s - loss: 0.2332 - accuracy: 0.8032 - val_loss: 0.2563 - val_accuracy: 0.7839 - 429ms/epoch - 3ms/step\n",
            "Epoch 25/25\n",
            "153/153 - 0s - loss: 0.2335 - accuracy: 0.8040 - val_loss: 0.2509 - val_accuracy: 0.7845 - 357ms/epoch - 2ms/step\n",
            "Model: \"sequential_32\"\n",
            "_________________________________________________________________\n",
            " Layer (type)                Output Shape              Param #   \n",
            "=================================================================\n",
            " dense_129 (Dense)           (None, 32)                416       \n",
            "                                                                 \n",
            " dense_130 (Dense)           (None, 8)                 264       \n",
            "                                                                 \n",
            " dense_131 (Dense)           (None, 4)                 36        \n",
            "                                                                 \n",
            "=================================================================\n",
            "Total params: 716\n",
            "Trainable params: 716\n",
            "Non-trainable params: 0\n",
            "_________________________________________________________________\n"
          ]
        }
      ]
    },
    {
      "cell_type": "code",
      "source": [
        "plot_model_history(clasmodl3_history)"
      ],
      "metadata": {
        "colab": {
          "base_uri": "https://localhost:8080/",
          "height": 295
        },
        "id": "8UOmU6IjMRMU",
        "outputId": "a8d291cc-d0dd-4754-e34b-c224d5d47f21"
      },
      "execution_count": 213,
      "outputs": [
        {
          "output_type": "display_data",
          "data": {
            "image/png": "[encoded data removed]",
            "text/plain": [
              "<Figure size 432x288 with 1 Axes>"
            ]
          },
          "metadata": {
            "needs_background": "light"
          }
        }
      ]
    },
    {
      "cell_type": "code",
      "source": [
        "from prettytable import PrettyTable\n",
        "\n",
        "predictions = clasmodl3.predict(Xtst)\n",
        "\n",
        "\n",
        "\n",
        "table = PrettyTable(['Pattern #', 'f1', 'f2', 'f3', 'f4', 'f5', 'f6', 'f7', 'f8', 'f9', 'f10', 'f11', 'f12', 'Activation', 'Target', 'Hit Ratio'])\n",
        "\n",
        "\n",
        "for i in range(10):\n",
        "  hitRatio = predictions[i].round()\n",
        "\n",
        "  compare = one_hot_train_labels[i] == hitRatio\n",
        "  isEqual = compare.all()\n",
        "\n",
        "  table.add_row([i, Xtst[i][0], Xtst[i][1], Xtst[i][2], Xtst[i][3], Xtst[i][4], Xtst[i][5], Xtst[i][6], Xtst[i][7], Xtst[i][8], Xtst[i][9], Xtst[i][10], Xtst[i][11], predictions[i], one_hot_tst_labels[i], isEqual])\n",
        "\n",
        "print(table)"
      ],
      "metadata": {
        "colab": {
          "base_uri": "https://localhost:8080/"
        },
        "id": "Sg_X2ierMV1h",
        "outputId": "eadca385-4efe-4163-a1e2-e682421943fe"
      },
      "execution_count": 219,
      "outputs": [
        {
          "output_type": "stream",
          "name": "stdout",
          "text": [
            "+-----------+-----+------+------+------+-------+------+-------+---------+------+------+------------------+-----+---------------------------------------------------------------+---------------+-----------+\n",
            "| Pattern # |  f1 |  f2  |  f3  |  f4  |   f5  |  f6  |   f7  |    f8   |  f9  | f10  |       f11        | f12 |                           Activation                          |     Target    | Hit Ratio |\n",
            "+-----------+-----+------+------+------+-------+------+-------+---------+------+------+------------------+-----+---------------------------------------------------------------+---------------+-----------+\n",
            "|     0     | 7.4 | 0.44 | 0.2  | 11.5 | 0.049 | 44.0 | 157.0 |  0.998  | 3.27 | 0.44 |       9.0        | 0.0 |   [1.3881367e-05 9.7564429e-01 2.4341838e-02 1.0988956e-08]   | [0. 1. 0. 0.] |    True   |\n",
            "|     1     | 6.5 | 0.23 | 0.36 | 16.3 | 0.038 | 43.0 | 133.0 | 0.99924 | 3.26 | 0.41 |       8.8        | 0.0 |   [8.8980159e-06 9.7906059e-01 2.0930542e-02 5.2540736e-09]   | [0. 1. 0. 0.] |    True   |\n",
            "|     2     | 5.6 | 0.41 | 0.24 | 1.9  | 0.034 | 10.0 |  53.0 | 0.98815 | 3.32 | 0.5  |       13.5       | 0.0 |         [0.06862743 0.4604253  0.42253152 0.04841582]         | [0. 0. 1. 0.] |   False   |\n",
            "|     3     | 6.4 | 0.67 | 0.08 | 2.1  | 0.045 | 19.0 |  48.0 |  0.9949 | 3.49 | 0.49 |       11.4       | 1.0 | [1.12481524e-04 9.88037109e-01 1.18483799e-02 1.97338727e-06] | [0. 1. 0. 0.] |    True   |\n",
            "|     4     | 6.8 | 0.18 | 0.37 | 1.6  | 0.055 | 47.0 | 154.0 |  0.9934 | 3.08 | 0.45 |       9.1        | 0.0 |   [7.0902536e-04 8.9334244e-01 1.0593802e-01 1.0594129e-05]   | [0. 1. 0. 0.] |    True   |\n",
            "|     5     | 6.9 | 0.41 | 0.33 | 10.1 | 0.043 | 28.0 | 152.0 |  0.9968 | 3.2  | 0.52 |       9.4        | 0.0 |   [4.8618556e-05 9.5970142e-01 4.0249821e-02 1.0214373e-07]   | [0. 1. 0. 0.] |    True   |\n",
            "|     6     | 5.9 | 0.32 | 0.33 | 2.1  | 0.027 | 35.0 | 138.0 | 0.98945 | 3.37 | 0.42 |       12.7       | 0.0 |   [3.4285022e-03 8.0347866e-01 1.9290036e-01 1.9248862e-04]   | [0. 1. 0. 0.] |    True   |\n",
            "|     7     | 6.0 | 0.24 | 0.41 | 1.3  | 0.036 | 42.0 | 118.0 | 0.99018 | 3.04 | 0.64 | 11.7333333333333 | 0.0 |         [0.01200001 0.7033402  0.28287438 0.00178546]         | [0. 1. 0. 0.] |   False   |\n",
            "|     8     | 7.3 | 0.48 | 0.32 | 2.1  | 0.062 | 31.0 |  54.0 | 0.99728 | 3.3  | 0.65 |       10.0       | 1.0 | [1.08271954e-04 9.87007141e-01 1.28828855e-02 1.79334074e-06] | [0. 0. 1. 0.] |    True   |\n",
            "|     9     | 7.4 | 0.24 | 0.22 | 10.7 | 0.042 | 26.0 |  81.0 |  0.9954 | 2.86 | 0.36 |       9.7        | 0.0 |   [2.1759157e-04 9.2935187e-01 7.0429079e-02 1.3944052e-06]   | [0. 1. 0. 0.] |    True   |\n",
            "+-----------+-----+------+------+------+-------+------+-------+---------+------+------+------------------+-----+---------------------------------------------------------------+---------------+-----------+\n"
          ]
        }
      ]
    }
  ]
}