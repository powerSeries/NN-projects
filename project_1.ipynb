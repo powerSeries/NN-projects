{
  "nbformat": 4,
  "nbformat_minor": 0,
  "metadata": {
    "colab": {
      "name": "project-1.ipynb",
      "provenance": [],
      "collapsed_sections": [],
      "include_colab_link": true
    },
    "kernelspec": {
      "display_name": "Python 3",
      "name": "python3"
    }
  },
  "cells": [
    {
      "cell_type": "markdown",
      "metadata": {
        "id": "view-in-github",
        "colab_type": "text"
      },
      "source": [
        "<a href=\"https://colab.research.google.com/github/powerSeries/NN-projects/blob/main/project_1.ipynb\" target=\"_parent\"><img src=\"https://colab.research.google.com/assets/colab-badge.svg\" alt=\"Open In Colab\"/></a>"
      ]
    },
    {
      "cell_type": "markdown",
      "metadata": {
        "id": "vB3bHSucPIVs"
      },
      "source": [
        "Abbreviated data preparation for the Wine Quality Problem (Project 1)"
      ]
    },
    {
      "cell_type": "code",
      "metadata": {
        "id": "XrcPuh9-KY0j"
      },
      "source": [
        "# Import Required Libraries  \n",
        "import matplotlib.pyplot as plt \n",
        "import numpy as np \n",
        "# This time we need to also import pandas\n",
        "import pandas as pd \n",
        "\n",
        "# Read in white wine data \n",
        "# USES PANDAS (pd) to create a PANDAS DataFrame OBJECT:\n",
        "white = pd.read_csv(\"http://archive.ics.uci.edu/ml/machine-learning-databases/wine-quality/winequality-white.csv\", sep =';') \n",
        "\n",
        "# Read in red wine data \n",
        "# USES PANDAS (pd) to create a PANDAS DataFrame OBJECT:\n",
        "red = pd.read_csv(\"http://archive.ics.uci.edu/ml/machine-learning-databases/wine-quality/winequality-red.csv\", sep =';') \n",
        "\n",
        "# Add `type` column to `red` with price one  - done with PANDAS\n",
        "red['type'] = 1\n",
        "  \n",
        "# Add `type` column to `white` with price zero - done with PANDAS \n",
        "white['type'] = 0\n",
        "  \n",
        "# Append `white` to `red` - done with PANDAS\n",
        "# AFTER THIS WE HAVE ALL WINES (red and white) in a SINGLE pandas DataFrame\n",
        "wines = red.append(white, ignore_index = True) \n",
        "\n",
        "# Import SKLEARN\n",
        "import sklearn\n",
        "# Import `train_test_split` from `sklearn.model_selection` \n",
        "from sklearn.model_selection import train_test_split \n",
        "\n",
        "# Specify the  data - \n",
        "X1 = wines.iloc[:, 0:11]\n",
        "X2 = wines.iloc[:,12]\n",
        "X = pd.concat([X1,X2],axis = 1)\n",
        "\n",
        "# Specify the QUALITY target labels and flatten the array \n",
        "y = np.ravel(wines.quality) \n",
        "\n",
        "# Splitting the data set for training and validating  - Done with SKLEARN\n",
        "X_train, X_valid, y_train, y_valid = train_test_split( \n",
        "                 X, y, test_size = 0.25, random_state = 45) \n"
      ],
      "execution_count": 1,
      "outputs": []
    },
    {
      "cell_type": "code",
      "source": [
        "# CONVERTING X_train & X_test DataFrame s to TF tensors\n",
        "# Will USE NumPy, TF & Keras after this\n",
        "# import tensorflow as tf \n",
        "\n",
        "Xtrain = X_train.to_numpy()\n",
        "X_valid = X_valid.to_numpy()"
      ],
      "metadata": {
        "id": "AYtcmE0J4qQb"
      },
      "execution_count": 2,
      "outputs": []
    },
    {
      "cell_type": "code",
      "source": [
        "# In reality:\n",
        "# [1] ALL THE Xtrain patterns (with their y_train targets) \n",
        "# will be used for TRAINING ([TR]), as Xtrain & y_train\n",
        "# [2] MOST OF THE X_valid patterns (and their y_valid targets) \n",
        "#  will be used for VALIDATION ([TT]),  as X_val & y_val\n",
        "# BUT WE WILL SET ASIDE THE LAST 10 for \"testing\" ([TS])\n",
        "#  as X_tst & y_tst"
      ],
      "metadata": {
        "id": "qpHhdmJN6HVq"
      },
      "execution_count": 3,
      "outputs": []
    },
    {
      "cell_type": "code",
      "source": [
        "# To separate the last 10 in X_valid, let's first see the shape of X_valid\n",
        "X_valid.shape"
      ],
      "metadata": {
        "colab": {
          "base_uri": "https://localhost:8080/"
        },
        "id": "T10AK-Ip7YMb",
        "outputId": "958f726c-186e-424b-efc1-c48914f63867"
      },
      "execution_count": 4,
      "outputs": [
        {
          "output_type": "execute_result",
          "data": {
            "text/plain": [
              "(1625, 12)"
            ]
          },
          "metadata": {},
          "execution_count": 4
        }
      ]
    },
    {
      "cell_type": "code",
      "source": [
        "# And verify also the shape of y_valid\n",
        "y_valid.shape"
      ],
      "metadata": {
        "colab": {
          "base_uri": "https://localhost:8080/"
        },
        "id": "Gj64QrXI7npC",
        "outputId": "8ff5e803-e93e-4720-9641-3dabec020251"
      },
      "execution_count": 5,
      "outputs": [
        {
          "output_type": "execute_result",
          "data": {
            "text/plain": [
              "(1625,)"
            ]
          },
          "metadata": {},
          "execution_count": 5
        }
      ]
    },
    {
      "cell_type": "code",
      "source": [
        "# Retain the first 1615 for validation ([TT])\n",
        "Xval = X_valid[:1615]\n",
        "Xval.shape"
      ],
      "metadata": {
        "colab": {
          "base_uri": "https://localhost:8080/"
        },
        "id": "2jDS0FsF739z",
        "outputId": "ac6e7c1d-a185-423a-b111-2f5877c8103a"
      },
      "execution_count": 6,
      "outputs": [
        {
          "output_type": "execute_result",
          "data": {
            "text/plain": [
              "(1615, 12)"
            ]
          },
          "metadata": {},
          "execution_count": 6
        }
      ]
    },
    {
      "cell_type": "code",
      "source": [
        "# and now set aside the last 10 for \"test\"\n",
        "Xtst = X_valid[1615:]\n",
        "Xtst.shape"
      ],
      "metadata": {
        "colab": {
          "base_uri": "https://localhost:8080/"
        },
        "id": "C_zJIn2Z-AS6",
        "outputId": "377907ca-9dd3-40d9-95aa-e2df9cec5e72"
      },
      "execution_count": 7,
      "outputs": [
        {
          "output_type": "execute_result",
          "data": {
            "text/plain": [
              "(10, 12)"
            ]
          },
          "metadata": {},
          "execution_count": 7
        }
      ]
    },
    {
      "cell_type": "code",
      "source": [
        "# SAME FOR THE CORRESPONDING TARGETS\n",
        "# Retain the first 1615 for validation ([TT])\n",
        "y_val = y_valid[:1615]\n",
        "y_val.shape"
      ],
      "metadata": {
        "colab": {
          "base_uri": "https://localhost:8080/"
        },
        "id": "YlrWhyX1-qQa",
        "outputId": "48fb8932-12bd-49f2-b2a8-7e0a0466ca3c"
      },
      "execution_count": 8,
      "outputs": [
        {
          "output_type": "execute_result",
          "data": {
            "text/plain": [
              "(1615,)"
            ]
          },
          "metadata": {},
          "execution_count": 8
        }
      ]
    },
    {
      "cell_type": "code",
      "source": [
        "y_tst = y_valid[1615:]\n",
        "y_tst.shape"
      ],
      "metadata": {
        "colab": {
          "base_uri": "https://localhost:8080/"
        },
        "id": "yesLMjKx--2r",
        "outputId": "6eb913fc-d31a-4474-dcfd-77e1d90530ec"
      },
      "execution_count": 9,
      "outputs": [
        {
          "output_type": "execute_result",
          "data": {
            "text/plain": [
              "(10,)"
            ]
          },
          "metadata": {},
          "execution_count": 9
        }
      ]
    },
    {
      "cell_type": "code",
      "source": [
        "y_tst"
      ],
      "metadata": {
        "colab": {
          "base_uri": "https://localhost:8080/"
        },
        "id": "QOIgFLku-2mr",
        "outputId": "b674b6bb-db7c-477e-8081-895d808edd18"
      },
      "execution_count": 10,
      "outputs": [
        {
          "output_type": "execute_result",
          "data": {
            "text/plain": [
              "array([5, 5, 7, 6, 5, 5, 6, 6, 7, 6])"
            ]
          },
          "metadata": {},
          "execution_count": 10
        }
      ]
    },
    {
      "cell_type": "code",
      "source": [
        " # NOW, IN ADDITION, CREATE THE TARGETS AS ONE-HOT-ENCODED 4 quality LEVELS"
      ],
      "metadata": {
        "id": "3zfsQQNn6ABr"
      },
      "execution_count": 11,
      "outputs": []
    },
    {
      "cell_type": "code",
      "metadata": {
        "colab": {
          "base_uri": "https://localhost:8080/"
        },
        "id": "HImrn2sHKvz_",
        "outputId": "67eb0792-101d-4723-de4b-c03ab24d38e0"
      },
      "source": [
        "# We will track these few targets through the conversion process\n",
        "y_train[272:283]"
      ],
      "execution_count": 12,
      "outputs": [
        {
          "output_type": "execute_result",
          "data": {
            "text/plain": [
              "array([5, 4, 6, 5, 5, 6, 7, 6, 5, 8, 5])"
            ]
          },
          "metadata": {},
          "execution_count": 12
        }
      ]
    },
    {
      "cell_type": "code",
      "source": [
        "# Function create rank-1 arrays where 3,4,5,6,7,8,9 are mapped to 1 or 2 or 3 or 4 \n",
        "def to_4cs(x):\n",
        "  lx = len(x)\n",
        "  results = np.zeros(lx)\n",
        "  for i in range(lx):\n",
        "      # print( \"start\")\n",
        "      xa = x[i];\n",
        "      if xa <= 3:\n",
        "          results[i] = 1      # 1, 2 and 3 map to Q-LEVEL 1 ( BAD Wine)\n",
        "      elif xa <=6:\n",
        "          results[i] = 2      # 4, 5 and 6 map to Q-LEVEL 2  (MEDIUM Wine)\n",
        "      elif xa <=8:\n",
        "          results[i] = 3      # 7 and 8 and 6 map to Q-LEVEL 3  (GOOD Wine)\n",
        "      else:\n",
        "          results[i] = 4      # 9 and above map to Q-LEVEL 4  (EXCELLENT Wine)\n",
        "    # results[i, label] = 1.\n",
        "  results = results.astype(int)\n",
        "  return results"
      ],
      "metadata": {
        "id": "iB1RjHR7PQD7"
      },
      "execution_count": 13,
      "outputs": []
    },
    {
      "cell_type": "code",
      "source": [
        "train_labels = to_4cs(y_train)\n",
        "val_labels = to_4cs(y_val)\n",
        "tst_labels = to_4cs(y_tst)"
      ],
      "metadata": {
        "id": "LhSoZ0b9Ptyj"
      },
      "execution_count": 14,
      "outputs": []
    },
    {
      "cell_type": "code",
      "metadata": {
        "colab": {
          "base_uri": "https://localhost:8080/"
        },
        "id": "RmSc8yQ5NgQe",
        "outputId": "59ec9c70-b687-4ce8-d414-4855fcd58958"
      },
      "source": [
        "\n",
        "# Let's verify that the trainnig targets that we are tracking\n",
        "# were converted to levels (1 = BAD; 2 = MEDIUM; 3 = GOOD; 4- EXCELLENT) correctly:\n",
        "train_labels[272:283]"
      ],
      "execution_count": 15,
      "outputs": [
        {
          "output_type": "execute_result",
          "data": {
            "text/plain": [
              "array([2, 2, 2, 2, 2, 2, 3, 2, 2, 3, 2])"
            ]
          },
          "metadata": {},
          "execution_count": 15
        }
      ]
    },
    {
      "cell_type": "code",
      "metadata": {
        "id": "Cs-J7sRmKhGf"
      },
      "source": [
        "# NOW, ONE-HOT ENCODING OF ALL 3  TARGET ARRAYS\n",
        "# define a function to do the one-hot-encoding of output labels\n",
        "\n",
        "def to_one_hot(labels, dimension=4):\n",
        "    results = np.zeros((len(labels), dimension))\n",
        "    for i, label in enumerate(labels-1):\n",
        "        results[i, label] = 1.\n",
        "    return results\n",
        "\n",
        "one_hot_train_labels = to_one_hot(train_labels)\n",
        "one_hot_val_labels = to_one_hot(val_labels)\n",
        "one_hot_tst_labels = to_one_hot(tst_labels)"
      ],
      "execution_count": 16,
      "outputs": []
    },
    {
      "cell_type": "code",
      "source": [
        "#Let's verify that the training targets we have tracked were\n",
        "# one-hot encoded correctly\n",
        "one_hot_train_labels[272:283,]"
      ],
      "metadata": {
        "colab": {
          "base_uri": "https://localhost:8080/"
        },
        "id": "Mk1q-JDyBChj",
        "outputId": "d3f54483-8827-42a3-dbbe-3a4686dfb96a"
      },
      "execution_count": 17,
      "outputs": [
        {
          "output_type": "execute_result",
          "data": {
            "text/plain": [
              "array([[0., 1., 0., 0.],\n",
              "       [0., 1., 0., 0.],\n",
              "       [0., 1., 0., 0.],\n",
              "       [0., 1., 0., 0.],\n",
              "       [0., 1., 0., 0.],\n",
              "       [0., 1., 0., 0.],\n",
              "       [0., 0., 1., 0.],\n",
              "       [0., 1., 0., 0.],\n",
              "       [0., 1., 0., 0.],\n",
              "       [0., 0., 1., 0.],\n",
              "       [0., 1., 0., 0.]])"
            ]
          },
          "metadata": {},
          "execution_count": 17
        }
      ]
    },
    {
      "cell_type": "code",
      "source": [
        "# SO, AFTER EXECUTING THIS CELL, YOU WILL HAVE:\n",
        "# FOR TRAINING:\n",
        "#  Xtrain (4872, 12)...y_train (4872,)...train_labels(4872,)....one_hot_train_labels (4872,4)\n",
        "# FOR VALIDATING:\n",
        "#  Xval (1615, 12)...y_val (1615,)...val_labels(1615,)...one_hot_val_labels (1615,4)\n",
        "# FOR TESTING:\n",
        "#  Xtst (10, 12)...y_tst (10,)...tst_labels(10,)... one_hot_tst_labels (10,4)\n",
        "# PLEASE DO NOT CHANGE THE NAMES OF THESE VARIABLES (So that instructor can use them)"
      ],
      "metadata": {
        "id": "FfIxlsEISc5W"
      },
      "execution_count": 18,
      "outputs": []
    },
    {
      "cell_type": "markdown",
      "source": [
        " ++++  END OF THE DATA PREPARATION PART ++++ \n"
      ],
      "metadata": {
        "id": "Bq_9V9XCSd6t"
      }
    },
    {
      "cell_type": "markdown",
      "source": [
        "# Part 2: Regression Model"
      ],
      "metadata": {
        "id": "6Vt3n82EaN98"
      }
    },
    {
      "cell_type": "markdown",
      "source": [
        "### Regression Model 1"
      ],
      "metadata": {
        "id": "saL8T2q2K0Rv"
      }
    },
    {
      "cell_type": "code",
      "source": [
        "# import libraries\n",
        "from tensorflow import keras\n",
        "from tensorflow.keras import layers\n",
        "\n",
        "def build_regmodl1():\n",
        "  regmodl1 = keras.Sequential([\n",
        "    layers.Dense(512, activation=\"relu\"),\n",
        "    layers.Dense(8, activation=\"relu\"),\n",
        "    layers.Dense(1),\n",
        "  ])\n",
        "  regmodl1.compile(optimizer=\"rmsprop\", loss=\"mse\", metrics=[\"mae\"])\n",
        "  return regmodl1\n",
        "\n",
        "# Builld the model\n",
        "regmod1 = build_regmodl1()\n",
        "\n",
        "# Run fit and store data\n",
        "history = regmod1.fit(x=Xtrain, y=train_labels, epochs=100, verbose=2)\n",
        "\n",
        "# Execute validation\n",
        "loss, mae = regmod1.evaluate(x=Xval, y=val_labels)\n",
        "\n",
        "# Show Model Summary\n",
        "regmod1.summary()"
      ],
      "metadata": {
        "colab": {
          "base_uri": "https://localhost:8080/"
        },
        "id": "WBdR9tpWdYcs",
        "outputId": "f9bd2323-60cb-45e4-ebdc-24f4cdfc232d"
      },
      "execution_count": 24,
      "outputs": [
        {
          "output_type": "stream",
          "name": "stdout",
          "text": [
            "Epoch 1/100\n",
            "153/153 - 1s - loss: 3.1051 - mae: 1.2987 - 777ms/epoch - 5ms/step\n",
            "Epoch 2/100\n",
            "153/153 - 0s - loss: 1.8083 - mae: 1.1024 - 237ms/epoch - 2ms/step\n",
            "Epoch 3/100\n",
            "153/153 - 0s - loss: 1.1666 - mae: 0.8814 - 238ms/epoch - 2ms/step\n",
            "Epoch 4/100\n",
            "153/153 - 0s - loss: 0.8664 - mae: 0.7298 - 216ms/epoch - 1ms/step\n",
            "Epoch 5/100\n",
            "153/153 - 0s - loss: 0.6306 - mae: 0.6200 - 224ms/epoch - 1ms/step\n",
            "Epoch 6/100\n",
            "153/153 - 0s - loss: 0.5009 - mae: 0.5676 - 223ms/epoch - 1ms/step\n",
            "Epoch 7/100\n",
            "153/153 - 0s - loss: 0.4278 - mae: 0.5028 - 227ms/epoch - 1ms/step\n",
            "Epoch 8/100\n",
            "153/153 - 0s - loss: 0.3565 - mae: 0.4573 - 232ms/epoch - 2ms/step\n",
            "Epoch 9/100\n",
            "153/153 - 0s - loss: 0.3200 - mae: 0.4415 - 222ms/epoch - 1ms/step\n",
            "Epoch 10/100\n",
            "153/153 - 0s - loss: 0.3058 - mae: 0.4102 - 223ms/epoch - 1ms/step\n",
            "Epoch 11/100\n",
            "153/153 - 0s - loss: 0.2562 - mae: 0.3962 - 234ms/epoch - 2ms/step\n",
            "Epoch 12/100\n",
            "153/153 - 0s - loss: 0.2381 - mae: 0.3762 - 226ms/epoch - 1ms/step\n",
            "Epoch 13/100\n",
            "153/153 - 0s - loss: 0.2171 - mae: 0.3583 - 230ms/epoch - 2ms/step\n",
            "Epoch 14/100\n",
            "153/153 - 0s - loss: 0.2089 - mae: 0.3573 - 232ms/epoch - 2ms/step\n",
            "Epoch 15/100\n",
            "153/153 - 0s - loss: 0.1930 - mae: 0.3429 - 215ms/epoch - 1ms/step\n",
            "Epoch 16/100\n",
            "153/153 - 0s - loss: 0.1884 - mae: 0.3340 - 232ms/epoch - 2ms/step\n",
            "Epoch 17/100\n",
            "153/153 - 0s - loss: 0.1807 - mae: 0.3269 - 237ms/epoch - 2ms/step\n",
            "Epoch 18/100\n",
            "153/153 - 0s - loss: 0.1772 - mae: 0.3240 - 243ms/epoch - 2ms/step\n",
            "Epoch 19/100\n",
            "153/153 - 0s - loss: 0.1756 - mae: 0.3207 - 234ms/epoch - 2ms/step\n",
            "Epoch 20/100\n",
            "153/153 - 0s - loss: 0.1657 - mae: 0.3111 - 228ms/epoch - 1ms/step\n",
            "Epoch 21/100\n",
            "153/153 - 0s - loss: 0.1625 - mae: 0.3061 - 220ms/epoch - 1ms/step\n",
            "Epoch 22/100\n",
            "153/153 - 0s - loss: 0.1617 - mae: 0.3059 - 226ms/epoch - 1ms/step\n",
            "Epoch 23/100\n",
            "153/153 - 0s - loss: 0.1572 - mae: 0.3034 - 227ms/epoch - 1ms/step\n",
            "Epoch 24/100\n",
            "153/153 - 0s - loss: 0.1564 - mae: 0.3022 - 232ms/epoch - 2ms/step\n",
            "Epoch 25/100\n",
            "153/153 - 0s - loss: 0.1558 - mae: 0.3007 - 213ms/epoch - 1ms/step\n",
            "Epoch 26/100\n",
            "153/153 - 0s - loss: 0.1676 - mae: 0.2983 - 224ms/epoch - 1ms/step\n",
            "Epoch 27/100\n",
            "153/153 - 0s - loss: 0.1514 - mae: 0.2975 - 217ms/epoch - 1ms/step\n",
            "Epoch 28/100\n",
            "153/153 - 0s - loss: 0.1509 - mae: 0.2953 - 215ms/epoch - 1ms/step\n",
            "Epoch 29/100\n",
            "153/153 - 0s - loss: 0.1490 - mae: 0.2918 - 236ms/epoch - 2ms/step\n",
            "Epoch 30/100\n",
            "153/153 - 0s - loss: 0.1483 - mae: 0.2894 - 220ms/epoch - 1ms/step\n",
            "Epoch 31/100\n",
            "153/153 - 0s - loss: 0.1467 - mae: 0.2908 - 220ms/epoch - 1ms/step\n",
            "Epoch 32/100\n",
            "153/153 - 0s - loss: 0.1467 - mae: 0.2881 - 220ms/epoch - 1ms/step\n",
            "Epoch 33/100\n",
            "153/153 - 0s - loss: 0.1445 - mae: 0.2872 - 233ms/epoch - 2ms/step\n",
            "Epoch 34/100\n",
            "153/153 - 0s - loss: 0.1433 - mae: 0.2851 - 213ms/epoch - 1ms/step\n",
            "Epoch 35/100\n",
            "153/153 - 0s - loss: 0.1436 - mae: 0.2850 - 218ms/epoch - 1ms/step\n",
            "Epoch 36/100\n",
            "153/153 - 0s - loss: 0.1418 - mae: 0.2852 - 218ms/epoch - 1ms/step\n",
            "Epoch 37/100\n",
            "153/153 - 0s - loss: 0.1420 - mae: 0.2837 - 216ms/epoch - 1ms/step\n",
            "Epoch 38/100\n",
            "153/153 - 0s - loss: 0.1428 - mae: 0.2835 - 223ms/epoch - 1ms/step\n",
            "Epoch 39/100\n",
            "153/153 - 0s - loss: 0.1397 - mae: 0.2809 - 219ms/epoch - 1ms/step\n",
            "Epoch 40/100\n",
            "153/153 - 0s - loss: 0.1412 - mae: 0.2814 - 224ms/epoch - 1ms/step\n",
            "Epoch 41/100\n",
            "153/153 - 0s - loss: 0.1422 - mae: 0.2832 - 213ms/epoch - 1ms/step\n",
            "Epoch 42/100\n",
            "153/153 - 0s - loss: 0.1384 - mae: 0.2803 - 231ms/epoch - 2ms/step\n",
            "Epoch 43/100\n",
            "153/153 - 0s - loss: 0.1370 - mae: 0.2760 - 227ms/epoch - 1ms/step\n",
            "Epoch 44/100\n",
            "153/153 - 0s - loss: 0.1402 - mae: 0.2810 - 222ms/epoch - 1ms/step\n",
            "Epoch 45/100\n",
            "153/153 - 0s - loss: 0.1388 - mae: 0.2811 - 224ms/epoch - 1ms/step\n",
            "Epoch 46/100\n",
            "153/153 - 0s - loss: 0.1379 - mae: 0.2784 - 221ms/epoch - 1ms/step\n",
            "Epoch 47/100\n",
            "153/153 - 0s - loss: 0.1371 - mae: 0.2766 - 240ms/epoch - 2ms/step\n",
            "Epoch 48/100\n",
            "153/153 - 0s - loss: 0.1380 - mae: 0.2776 - 221ms/epoch - 1ms/step\n",
            "Epoch 49/100\n",
            "153/153 - 0s - loss: 0.1377 - mae: 0.2783 - 212ms/epoch - 1ms/step\n",
            "Epoch 50/100\n",
            "153/153 - 0s - loss: 0.1382 - mae: 0.2775 - 234ms/epoch - 2ms/step\n",
            "Epoch 51/100\n",
            "153/153 - 0s - loss: 0.1368 - mae: 0.2768 - 226ms/epoch - 1ms/step\n",
            "Epoch 52/100\n",
            "153/153 - 0s - loss: 0.1368 - mae: 0.2774 - 243ms/epoch - 2ms/step\n",
            "Epoch 53/100\n",
            "153/153 - 0s - loss: 0.1375 - mae: 0.2780 - 236ms/epoch - 2ms/step\n",
            "Epoch 54/100\n",
            "153/153 - 0s - loss: 0.1365 - mae: 0.2766 - 224ms/epoch - 1ms/step\n",
            "Epoch 55/100\n",
            "153/153 - 0s - loss: 0.1369 - mae: 0.2758 - 225ms/epoch - 1ms/step\n",
            "Epoch 56/100\n",
            "153/153 - 0s - loss: 0.1367 - mae: 0.2759 - 222ms/epoch - 1ms/step\n",
            "Epoch 57/100\n",
            "153/153 - 0s - loss: 0.1358 - mae: 0.2750 - 228ms/epoch - 1ms/step\n",
            "Epoch 58/100\n",
            "153/153 - 0s - loss: 0.1367 - mae: 0.2750 - 219ms/epoch - 1ms/step\n",
            "Epoch 59/100\n",
            "153/153 - 0s - loss: 0.1358 - mae: 0.2752 - 239ms/epoch - 2ms/step\n",
            "Epoch 60/100\n",
            "153/153 - 0s - loss: 0.1354 - mae: 0.2738 - 235ms/epoch - 2ms/step\n",
            "Epoch 61/100\n",
            "153/153 - 0s - loss: 0.1369 - mae: 0.2763 - 231ms/epoch - 2ms/step\n",
            "Epoch 62/100\n",
            "153/153 - 0s - loss: 0.1346 - mae: 0.2742 - 228ms/epoch - 1ms/step\n",
            "Epoch 63/100\n",
            "153/153 - 0s - loss: 0.1344 - mae: 0.2740 - 242ms/epoch - 2ms/step\n",
            "Epoch 64/100\n",
            "153/153 - 0s - loss: 0.1338 - mae: 0.2738 - 230ms/epoch - 2ms/step\n",
            "Epoch 65/100\n",
            "153/153 - 0s - loss: 0.1359 - mae: 0.2761 - 226ms/epoch - 1ms/step\n",
            "Epoch 66/100\n",
            "153/153 - 0s - loss: 0.1339 - mae: 0.2725 - 229ms/epoch - 1ms/step\n",
            "Epoch 67/100\n",
            "153/153 - 0s - loss: 0.1356 - mae: 0.2743 - 229ms/epoch - 1ms/step\n",
            "Epoch 68/100\n",
            "153/153 - 0s - loss: 0.1332 - mae: 0.2727 - 226ms/epoch - 1ms/step\n",
            "Epoch 69/100\n",
            "153/153 - 0s - loss: 0.1358 - mae: 0.2742 - 238ms/epoch - 2ms/step\n",
            "Epoch 70/100\n",
            "153/153 - 0s - loss: 0.1334 - mae: 0.2737 - 234ms/epoch - 2ms/step\n",
            "Epoch 71/100\n",
            "153/153 - 0s - loss: 0.1345 - mae: 0.2745 - 229ms/epoch - 1ms/step\n",
            "Epoch 72/100\n",
            "153/153 - 0s - loss: 0.1342 - mae: 0.2735 - 231ms/epoch - 2ms/step\n",
            "Epoch 73/100\n",
            "153/153 - 0s - loss: 0.1339 - mae: 0.2731 - 244ms/epoch - 2ms/step\n",
            "Epoch 74/100\n",
            "153/153 - 0s - loss: 0.1351 - mae: 0.2737 - 219ms/epoch - 1ms/step\n",
            "Epoch 75/100\n",
            "153/153 - 0s - loss: 0.1345 - mae: 0.2743 - 231ms/epoch - 2ms/step\n",
            "Epoch 76/100\n",
            "153/153 - 0s - loss: 0.1334 - mae: 0.2712 - 231ms/epoch - 2ms/step\n",
            "Epoch 77/100\n",
            "153/153 - 0s - loss: 0.1337 - mae: 0.2727 - 223ms/epoch - 1ms/step\n",
            "Epoch 78/100\n",
            "153/153 - 0s - loss: 0.1341 - mae: 0.2722 - 235ms/epoch - 2ms/step\n",
            "Epoch 79/100\n",
            "153/153 - 0s - loss: 0.1331 - mae: 0.2725 - 227ms/epoch - 1ms/step\n",
            "Epoch 80/100\n",
            "153/153 - 0s - loss: 0.1332 - mae: 0.2723 - 226ms/epoch - 1ms/step\n",
            "Epoch 81/100\n",
            "153/153 - 0s - loss: 0.1339 - mae: 0.2737 - 214ms/epoch - 1ms/step\n",
            "Epoch 82/100\n",
            "153/153 - 0s - loss: 0.1323 - mae: 0.2713 - 236ms/epoch - 2ms/step\n",
            "Epoch 83/100\n",
            "153/153 - 0s - loss: 0.1330 - mae: 0.2719 - 218ms/epoch - 1ms/step\n",
            "Epoch 84/100\n",
            "153/153 - 0s - loss: 0.1339 - mae: 0.2724 - 224ms/epoch - 1ms/step\n",
            "Epoch 85/100\n",
            "153/153 - 0s - loss: 0.1334 - mae: 0.2723 - 220ms/epoch - 1ms/step\n",
            "Epoch 86/100\n",
            "153/153 - 0s - loss: 0.1330 - mae: 0.2716 - 230ms/epoch - 2ms/step\n",
            "Epoch 87/100\n",
            "153/153 - 0s - loss: 0.1329 - mae: 0.2705 - 232ms/epoch - 2ms/step\n",
            "Epoch 88/100\n",
            "153/153 - 0s - loss: 0.1317 - mae: 0.2709 - 225ms/epoch - 1ms/step\n",
            "Epoch 89/100\n",
            "153/153 - 0s - loss: 0.1311 - mae: 0.2703 - 215ms/epoch - 1ms/step\n",
            "Epoch 90/100\n",
            "153/153 - 0s - loss: 0.1327 - mae: 0.2723 - 210ms/epoch - 1ms/step\n",
            "Epoch 91/100\n",
            "153/153 - 0s - loss: 0.1328 - mae: 0.2717 - 232ms/epoch - 2ms/step\n",
            "Epoch 92/100\n",
            "153/153 - 0s - loss: 0.1330 - mae: 0.2726 - 222ms/epoch - 1ms/step\n",
            "Epoch 93/100\n",
            "153/153 - 0s - loss: 0.1324 - mae: 0.2709 - 217ms/epoch - 1ms/step\n",
            "Epoch 94/100\n",
            "153/153 - 0s - loss: 0.1328 - mae: 0.2713 - 221ms/epoch - 1ms/step\n",
            "Epoch 95/100\n",
            "153/153 - 0s - loss: 0.1318 - mae: 0.2706 - 238ms/epoch - 2ms/step\n",
            "Epoch 96/100\n",
            "153/153 - 0s - loss: 0.1321 - mae: 0.2707 - 229ms/epoch - 1ms/step\n",
            "Epoch 97/100\n",
            "153/153 - 0s - loss: 0.1313 - mae: 0.2696 - 218ms/epoch - 1ms/step\n",
            "Epoch 98/100\n",
            "153/153 - 0s - loss: 0.1322 - mae: 0.2702 - 216ms/epoch - 1ms/step\n",
            "Epoch 99/100\n",
            "153/153 - 0s - loss: 0.1323 - mae: 0.2715 - 223ms/epoch - 1ms/step\n",
            "Epoch 100/100\n",
            "153/153 - 0s - loss: 0.1320 - mae: 0.2701 - 230ms/epoch - 2ms/step\n",
            "51/51 [==============================] - 0s 2ms/step - loss: 0.1346 - mae: 0.2801\n",
            "Model: \"sequential_3\"\n",
            "_________________________________________________________________\n",
            " Layer (type)                Output Shape              Param #   \n",
            "=================================================================\n",
            " dense_11 (Dense)            (None, 512)               6656      \n",
            "                                                                 \n",
            " dense_12 (Dense)            (None, 8)                 4104      \n",
            "                                                                 \n",
            " dense_13 (Dense)            (None, 1)                 9         \n",
            "                                                                 \n",
            "=================================================================\n",
            "Total params: 10,769\n",
            "Trainable params: 10,769\n",
            "Non-trainable params: 0\n",
            "_________________________________________________________________\n"
          ]
        }
      ]
    },
    {
      "cell_type": "markdown",
      "source": [
        "Plotting Regression Model 1\n",
        "\n"
      ],
      "metadata": {
        "id": "qVemg7OQYeSW"
      }
    },
    {
      "cell_type": "code",
      "source": [
        "history_dict = history.history\n",
        "\n",
        "# display keys\n",
        "history_dict.keys()\n",
        "\n",
        "# obtaining array of values\n",
        "loss_values = history_dict[\"loss\"]\n",
        "mae_values = history_dict[\"mae\"]\n",
        "\n",
        "# number of epochs\n",
        "epochs = range(1, len(loss_values) + 1)\n",
        "\n",
        "# Plotting\n",
        "plt.plot(epochs, loss_values, \"bo\", label=\"Training Loss\")\n",
        "plt.plot(epochs, mae_values, \"b\", label=\"Validation Loss\")\n",
        "plt.title(\"Training and Validation Loss\")\n",
        "plt.xlabel(\"Epochs\")\n",
        "plt.ylabel(\"Accuracy\")\n",
        "plt.legend()\n",
        "plt.show()"
      ],
      "metadata": {
        "colab": {
          "base_uri": "https://localhost:8080/",
          "height": 295
        },
        "id": "xnMledbiYd1K",
        "outputId": "c652d5ba-58f5-42bf-efc8-7a30e395c15e"
      },
      "execution_count": 29,
      "outputs": [
        {
          "output_type": "display_data",
          "data": {
            "image/png": "[encoded data removed]",
            "text/plain": [
              "<Figure size 432x288 with 1 Axes>"
            ]
          },
          "metadata": {
            "needs_background": "light"
          }
        }
      ]
    },
    {
      "cell_type": "markdown",
      "source": [
        "### Regression Model 2"
      ],
      "metadata": {
        "id": "mmbjOEY3K49F"
      }
    },
    {
      "cell_type": "code",
      "source": [
        "# reg mod 2\n",
        "def build_regmodl2():\n",
        "  model = keras.Sequential([\n",
        "    layers.Dense(128, activation=\"relu\"),\n",
        "    layers.Dense(64, activation=\"relu\"),\n",
        "    layers.Dense(30, activation=\"relu\"),\n",
        "    layers.Dense(5, activation=\"relu\"),\n",
        "    layers.Dense(1, activation=\"relu\"),\n",
        "  ])\n",
        "  model.compile(optimizer=\"rmsprop\", loss=\"mse\", metrics=[\"mae\"])\n",
        "  return model;\n",
        "\n",
        "regmodl2 = build_regmodl2();\n",
        "\n",
        "regmodl2_history = regmodl2.fit(x=Xtrain, y=train_labels, epochs=100, verbose=2)\n",
        "\n",
        "regmodl2_loss, regmodl2_mae = regmodl2.evaluate(Xval, val_labels)\n",
        "\n",
        "regmodl2.summary()"
      ],
      "metadata": {
        "id": "4MAZXPzjl4sb",
        "colab": {
          "base_uri": "https://localhost:8080/"
        },
        "outputId": "ea3541d6-231e-4b12-8fd4-b1abcb69ab1e"
      },
      "execution_count": 20,
      "outputs": [
        {
          "output_type": "stream",
          "name": "stdout",
          "text": [
            "Epoch 1/100\n",
            "153/153 - 1s - loss: 4.9589 - mae: 2.1901 - 1s/epoch - 7ms/step\n",
            "Epoch 2/100\n",
            "153/153 - 0s - loss: 4.9589 - mae: 2.1901 - 227ms/epoch - 1ms/step\n",
            "Epoch 3/100\n",
            "153/153 - 0s - loss: 4.9589 - mae: 2.1901 - 240ms/epoch - 2ms/step\n",
            "Epoch 4/100\n",
            "153/153 - 0s - loss: 4.9589 - mae: 2.1901 - 227ms/epoch - 1ms/step\n",
            "Epoch 5/100\n",
            "153/153 - 0s - loss: 4.9589 - mae: 2.1901 - 228ms/epoch - 1ms/step\n",
            "Epoch 6/100\n",
            "153/153 - 0s - loss: 4.9589 - mae: 2.1901 - 266ms/epoch - 2ms/step\n",
            "Epoch 7/100\n",
            "153/153 - 0s - loss: 4.9589 - mae: 2.1901 - 222ms/epoch - 1ms/step\n",
            "Epoch 8/100\n",
            "153/153 - 0s - loss: 4.9589 - mae: 2.1901 - 236ms/epoch - 2ms/step\n",
            "Epoch 9/100\n",
            "153/153 - 0s - loss: 4.9589 - mae: 2.1901 - 216ms/epoch - 1ms/step\n",
            "Epoch 10/100\n",
            "153/153 - 0s - loss: 4.9589 - mae: 2.1901 - 236ms/epoch - 2ms/step\n",
            "Epoch 11/100\n",
            "153/153 - 0s - loss: 4.9589 - mae: 2.1901 - 223ms/epoch - 1ms/step\n",
            "Epoch 12/100\n",
            "153/153 - 0s - loss: 4.9589 - mae: 2.1901 - 231ms/epoch - 2ms/step\n",
            "Epoch 13/100\n",
            "153/153 - 0s - loss: 4.9589 - mae: 2.1901 - 225ms/epoch - 1ms/step\n",
            "Epoch 14/100\n",
            "153/153 - 0s - loss: 4.9589 - mae: 2.1901 - 234ms/epoch - 2ms/step\n",
            "Epoch 15/100\n",
            "153/153 - 0s - loss: 4.9589 - mae: 2.1901 - 228ms/epoch - 1ms/step\n",
            "Epoch 16/100\n",
            "153/153 - 0s - loss: 4.9589 - mae: 2.1901 - 218ms/epoch - 1ms/step\n",
            "Epoch 17/100\n",
            "153/153 - 0s - loss: 4.9589 - mae: 2.1901 - 239ms/epoch - 2ms/step\n",
            "Epoch 18/100\n",
            "153/153 - 0s - loss: 4.9589 - mae: 2.1901 - 231ms/epoch - 2ms/step\n",
            "Epoch 19/100\n",
            "153/153 - 0s - loss: 4.9589 - mae: 2.1901 - 233ms/epoch - 2ms/step\n",
            "Epoch 20/100\n",
            "153/153 - 0s - loss: 4.9589 - mae: 2.1901 - 221ms/epoch - 1ms/step\n",
            "Epoch 21/100\n",
            "153/153 - 0s - loss: 4.9589 - mae: 2.1901 - 235ms/epoch - 2ms/step\n",
            "Epoch 22/100\n",
            "153/153 - 0s - loss: 4.9589 - mae: 2.1901 - 232ms/epoch - 2ms/step\n",
            "Epoch 23/100\n",
            "153/153 - 0s - loss: 4.9589 - mae: 2.1901 - 221ms/epoch - 1ms/step\n",
            "Epoch 24/100\n",
            "153/153 - 0s - loss: 4.9589 - mae: 2.1901 - 220ms/epoch - 1ms/step\n",
            "Epoch 25/100\n",
            "153/153 - 0s - loss: 4.9589 - mae: 2.1901 - 228ms/epoch - 1ms/step\n",
            "Epoch 26/100\n",
            "153/153 - 0s - loss: 4.9589 - mae: 2.1901 - 221ms/epoch - 1ms/step\n",
            "Epoch 27/100\n",
            "153/153 - 0s - loss: 4.9589 - mae: 2.1901 - 227ms/epoch - 1ms/step\n",
            "Epoch 28/100\n",
            "153/153 - 0s - loss: 4.9589 - mae: 2.1901 - 223ms/epoch - 1ms/step\n",
            "Epoch 29/100\n",
            "153/153 - 0s - loss: 4.9589 - mae: 2.1901 - 225ms/epoch - 1ms/step\n",
            "Epoch 30/100\n",
            "153/153 - 0s - loss: 4.9589 - mae: 2.1901 - 228ms/epoch - 1ms/step\n",
            "Epoch 31/100\n",
            "153/153 - 0s - loss: 4.9589 - mae: 2.1901 - 229ms/epoch - 1ms/step\n",
            "Epoch 32/100\n",
            "153/153 - 0s - loss: 4.9589 - mae: 2.1901 - 226ms/epoch - 1ms/step\n",
            "Epoch 33/100\n",
            "153/153 - 0s - loss: 4.9589 - mae: 2.1901 - 228ms/epoch - 1ms/step\n",
            "Epoch 34/100\n",
            "153/153 - 0s - loss: 4.9589 - mae: 2.1901 - 233ms/epoch - 2ms/step\n",
            "Epoch 35/100\n",
            "153/153 - 0s - loss: 4.9589 - mae: 2.1901 - 222ms/epoch - 1ms/step\n",
            "Epoch 36/100\n",
            "153/153 - 0s - loss: 4.9589 - mae: 2.1901 - 222ms/epoch - 1ms/step\n",
            "Epoch 37/100\n",
            "153/153 - 0s - loss: 4.9589 - mae: 2.1901 - 224ms/epoch - 1ms/step\n",
            "Epoch 38/100\n",
            "153/153 - 0s - loss: 4.9589 - mae: 2.1901 - 224ms/epoch - 1ms/step\n",
            "Epoch 39/100\n",
            "153/153 - 0s - loss: 4.9589 - mae: 2.1901 - 236ms/epoch - 2ms/step\n",
            "Epoch 40/100\n",
            "153/153 - 0s - loss: 4.9589 - mae: 2.1901 - 221ms/epoch - 1ms/step\n",
            "Epoch 41/100\n",
            "153/153 - 0s - loss: 4.9589 - mae: 2.1901 - 228ms/epoch - 1ms/step\n",
            "Epoch 42/100\n",
            "153/153 - 0s - loss: 4.9589 - mae: 2.1901 - 218ms/epoch - 1ms/step\n",
            "Epoch 43/100\n",
            "153/153 - 0s - loss: 4.9589 - mae: 2.1901 - 244ms/epoch - 2ms/step\n",
            "Epoch 44/100\n",
            "153/153 - 0s - loss: 4.9589 - mae: 2.1901 - 225ms/epoch - 1ms/step\n",
            "Epoch 45/100\n",
            "153/153 - 0s - loss: 4.9589 - mae: 2.1901 - 216ms/epoch - 1ms/step\n",
            "Epoch 46/100\n",
            "153/153 - 0s - loss: 4.9589 - mae: 2.1901 - 218ms/epoch - 1ms/step\n",
            "Epoch 47/100\n",
            "153/153 - 0s - loss: 4.9589 - mae: 2.1901 - 220ms/epoch - 1ms/step\n",
            "Epoch 48/100\n",
            "153/153 - 0s - loss: 4.9589 - mae: 2.1901 - 231ms/epoch - 2ms/step\n",
            "Epoch 49/100\n",
            "153/153 - 0s - loss: 4.9589 - mae: 2.1901 - 230ms/epoch - 2ms/step\n",
            "Epoch 50/100\n",
            "153/153 - 0s - loss: 4.9589 - mae: 2.1901 - 253ms/epoch - 2ms/step\n",
            "Epoch 51/100\n",
            "153/153 - 0s - loss: 4.9589 - mae: 2.1901 - 222ms/epoch - 1ms/step\n",
            "Epoch 52/100\n",
            "153/153 - 0s - loss: 4.9589 - mae: 2.1901 - 234ms/epoch - 2ms/step\n",
            "Epoch 53/100\n",
            "153/153 - 0s - loss: 4.9589 - mae: 2.1901 - 230ms/epoch - 2ms/step\n",
            "Epoch 54/100\n",
            "153/153 - 0s - loss: 4.9589 - mae: 2.1901 - 220ms/epoch - 1ms/step\n",
            "Epoch 55/100\n",
            "153/153 - 0s - loss: 4.9589 - mae: 2.1901 - 224ms/epoch - 1ms/step\n",
            "Epoch 56/100\n",
            "153/153 - 0s - loss: 4.9589 - mae: 2.1901 - 234ms/epoch - 2ms/step\n",
            "Epoch 57/100\n",
            "153/153 - 0s - loss: 4.9589 - mae: 2.1901 - 226ms/epoch - 1ms/step\n",
            "Epoch 58/100\n",
            "153/153 - 0s - loss: 4.9589 - mae: 2.1901 - 222ms/epoch - 1ms/step\n",
            "Epoch 59/100\n",
            "153/153 - 0s - loss: 4.9589 - mae: 2.1901 - 223ms/epoch - 1ms/step\n",
            "Epoch 60/100\n",
            "153/153 - 0s - loss: 4.9589 - mae: 2.1901 - 231ms/epoch - 2ms/step\n",
            "Epoch 61/100\n",
            "153/153 - 0s - loss: 4.9589 - mae: 2.1901 - 238ms/epoch - 2ms/step\n",
            "Epoch 62/100\n",
            "153/153 - 0s - loss: 4.9589 - mae: 2.1901 - 221ms/epoch - 1ms/step\n",
            "Epoch 63/100\n",
            "153/153 - 0s - loss: 4.9589 - mae: 2.1901 - 228ms/epoch - 1ms/step\n",
            "Epoch 64/100\n",
            "153/153 - 0s - loss: 4.9589 - mae: 2.1901 - 223ms/epoch - 1ms/step\n",
            "Epoch 65/100\n",
            "153/153 - 0s - loss: 4.9589 - mae: 2.1901 - 231ms/epoch - 2ms/step\n",
            "Epoch 66/100\n",
            "153/153 - 0s - loss: 4.9589 - mae: 2.1901 - 219ms/epoch - 1ms/step\n",
            "Epoch 67/100\n",
            "153/153 - 0s - loss: 4.9589 - mae: 2.1901 - 228ms/epoch - 1ms/step\n",
            "Epoch 68/100\n",
            "153/153 - 0s - loss: 4.9589 - mae: 2.1901 - 221ms/epoch - 1ms/step\n",
            "Epoch 69/100\n",
            "153/153 - 0s - loss: 4.9589 - mae: 2.1901 - 223ms/epoch - 1ms/step\n",
            "Epoch 70/100\n",
            "153/153 - 0s - loss: 4.9589 - mae: 2.1901 - 226ms/epoch - 1ms/step\n",
            "Epoch 71/100\n",
            "153/153 - 0s - loss: 4.9589 - mae: 2.1901 - 222ms/epoch - 1ms/step\n",
            "Epoch 72/100\n",
            "153/153 - 0s - loss: 4.9589 - mae: 2.1901 - 225ms/epoch - 1ms/step\n",
            "Epoch 73/100\n",
            "153/153 - 0s - loss: 4.9589 - mae: 2.1901 - 224ms/epoch - 1ms/step\n",
            "Epoch 74/100\n",
            "153/153 - 0s - loss: 4.9589 - mae: 2.1901 - 236ms/epoch - 2ms/step\n",
            "Epoch 75/100\n",
            "153/153 - 0s - loss: 4.9589 - mae: 2.1901 - 223ms/epoch - 1ms/step\n",
            "Epoch 76/100\n",
            "153/153 - 0s - loss: 4.9589 - mae: 2.1901 - 217ms/epoch - 1ms/step\n",
            "Epoch 77/100\n",
            "153/153 - 0s - loss: 4.9589 - mae: 2.1901 - 226ms/epoch - 1ms/step\n",
            "Epoch 78/100\n",
            "153/153 - 0s - loss: 4.9589 - mae: 2.1901 - 220ms/epoch - 1ms/step\n",
            "Epoch 79/100\n",
            "153/153 - 0s - loss: 4.9589 - mae: 2.1901 - 233ms/epoch - 2ms/step\n",
            "Epoch 80/100\n",
            "153/153 - 0s - loss: 4.9589 - mae: 2.1901 - 222ms/epoch - 1ms/step\n",
            "Epoch 81/100\n",
            "153/153 - 0s - loss: 4.9589 - mae: 2.1901 - 218ms/epoch - 1ms/step\n",
            "Epoch 82/100\n",
            "153/153 - 0s - loss: 4.9589 - mae: 2.1901 - 236ms/epoch - 2ms/step\n",
            "Epoch 83/100\n",
            "153/153 - 0s - loss: 4.9589 - mae: 2.1901 - 239ms/epoch - 2ms/step\n",
            "Epoch 84/100\n",
            "153/153 - 0s - loss: 4.9589 - mae: 2.1901 - 232ms/epoch - 2ms/step\n",
            "Epoch 85/100\n",
            "153/153 - 0s - loss: 4.9589 - mae: 2.1901 - 243ms/epoch - 2ms/step\n",
            "Epoch 86/100\n",
            "153/153 - 0s - loss: 4.9589 - mae: 2.1901 - 237ms/epoch - 2ms/step\n",
            "Epoch 87/100\n",
            "153/153 - 0s - loss: 4.9589 - mae: 2.1901 - 257ms/epoch - 2ms/step\n",
            "Epoch 88/100\n",
            "153/153 - 0s - loss: 4.9589 - mae: 2.1901 - 227ms/epoch - 1ms/step\n",
            "Epoch 89/100\n",
            "153/153 - 0s - loss: 4.9589 - mae: 2.1901 - 228ms/epoch - 1ms/step\n",
            "Epoch 90/100\n",
            "153/153 - 0s - loss: 4.9589 - mae: 2.1901 - 216ms/epoch - 1ms/step\n",
            "Epoch 91/100\n",
            "153/153 - 0s - loss: 4.9589 - mae: 2.1901 - 224ms/epoch - 1ms/step\n",
            "Epoch 92/100\n",
            "153/153 - 0s - loss: 4.9589 - mae: 2.1901 - 234ms/epoch - 2ms/step\n",
            "Epoch 93/100\n",
            "153/153 - 0s - loss: 4.9589 - mae: 2.1901 - 247ms/epoch - 2ms/step\n",
            "Epoch 94/100\n",
            "153/153 - 0s - loss: 4.9589 - mae: 2.1901 - 227ms/epoch - 1ms/step\n",
            "Epoch 95/100\n",
            "153/153 - 0s - loss: 4.9589 - mae: 2.1901 - 239ms/epoch - 2ms/step\n",
            "Epoch 96/100\n",
            "153/153 - 0s - loss: 4.9589 - mae: 2.1901 - 233ms/epoch - 2ms/step\n",
            "Epoch 97/100\n",
            "153/153 - 0s - loss: 4.9589 - mae: 2.1901 - 223ms/epoch - 1ms/step\n",
            "Epoch 98/100\n",
            "153/153 - 0s - loss: 4.9589 - mae: 2.1901 - 227ms/epoch - 1ms/step\n",
            "Epoch 99/100\n",
            "153/153 - 0s - loss: 4.9589 - mae: 2.1901 - 224ms/epoch - 1ms/step\n",
            "Epoch 100/100\n",
            "153/153 - 0s - loss: 4.9589 - mae: 2.1901 - 243ms/epoch - 2ms/step\n",
            "51/51 [==============================] - 0s 2ms/step - loss: 5.0204 - mae: 2.2006\n",
            "Model: \"sequential_1\"\n",
            "_________________________________________________________________\n",
            " Layer (type)                Output Shape              Param #   \n",
            "=================================================================\n",
            " dense_3 (Dense)             (None, 128)               1664      \n",
            "                                                                 \n",
            " dense_4 (Dense)             (None, 64)                8256      \n",
            "                                                                 \n",
            " dense_5 (Dense)             (None, 30)                1950      \n",
            "                                                                 \n",
            " dense_6 (Dense)             (None, 5)                 155       \n",
            "                                                                 \n",
            " dense_7 (Dense)             (None, 1)                 6         \n",
            "                                                                 \n",
            "=================================================================\n",
            "Total params: 12,031\n",
            "Trainable params: 12,031\n",
            "Non-trainable params: 0\n",
            "_________________________________________________________________\n"
          ]
        }
      ]
    },
    {
      "cell_type": "markdown",
      "source": [
        "### Regression Model 3"
      ],
      "metadata": {
        "id": "9bt4_Yz4K8e9"
      }
    },
    {
      "cell_type": "code",
      "source": [
        "# reg mod 3\n",
        "def build_regmodl3():\n",
        "  model = keras.Sequential([\n",
        "    layers.Dense(512, activation=\"relu\"),\n",
        "    layers.Dense(125, activation=\"relu\"),\n",
        "    layers.Dense(64, activation=\"relu\"),\n",
        "    layers.Dense(30, activation=\"relu\"),\n",
        "    layers.Dense(5, activation=\"relu\"),\n",
        "    layers.Dense(1)                    \n",
        "  ])\n",
        "  model.compile(optimizer=\"rmsprop\", loss=\"mse\", metrics=[\"mae\"])\n",
        "  return model;\n",
        "\n",
        "  regmodl3 = build_regmodl3()"
      ],
      "metadata": {
        "id": "FKRKSxhfAeWi"
      },
      "execution_count": 21,
      "outputs": []
    },
    {
      "cell_type": "markdown",
      "source": [
        "### Plotting Regression Models"
      ],
      "metadata": {
        "id": "8Oyf18uLLAzf"
      }
    },
    {
      "cell_type": "code",
      "source": [
        ""
      ],
      "metadata": {
        "id": "e5XlSgPELE18"
      },
      "execution_count": 21,
      "outputs": []
    }
  ]
}