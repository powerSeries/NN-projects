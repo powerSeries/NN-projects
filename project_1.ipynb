{
  "nbformat": 4,
  "nbformat_minor": 0,
  "metadata": {
    "colab": {
      "name": "project-1.ipynb",
      "provenance": [],
      "collapsed_sections": [],
      "include_colab_link": true
    },
    "kernelspec": {
      "display_name": "Python 3",
      "name": "python3"
    }
  },
  "cells": [
    {
      "cell_type": "markdown",
      "metadata": {
        "id": "view-in-github",
        "colab_type": "text"
      },
      "source": [
        "<a href=\"https://colab.research.google.com/github/powerSeries/NN-projects/blob/main/project_1.ipynb\" target=\"_parent\"><img src=\"https://colab.research.google.com/assets/colab-badge.svg\" alt=\"Open In Colab\"/></a>"
      ]
    },
    {
      "cell_type": "markdown",
      "metadata": {
        "id": "vB3bHSucPIVs"
      },
      "source": [
        "Abbreviated data preparation for the Wine Quality Problem (Project 1)"
      ]
    },
    {
      "cell_type": "code",
      "metadata": {
        "id": "XrcPuh9-KY0j"
      },
      "source": [
        "# Import Required Libraries  \n",
        "import matplotlib.pyplot as plt \n",
        "import numpy as np \n",
        "# This time we need to also import pandas\n",
        "import pandas as pd \n",
        "\n",
        "# Read in white wine data \n",
        "# USES PANDAS (pd) to create a PANDAS DataFrame OBJECT:\n",
        "white = pd.read_csv(\"http://archive.ics.uci.edu/ml/machine-learning-databases/wine-quality/winequality-white.csv\", sep =';') \n",
        "\n",
        "# Read in red wine data \n",
        "# USES PANDAS (pd) to create a PANDAS DataFrame OBJECT:\n",
        "red = pd.read_csv(\"http://archive.ics.uci.edu/ml/machine-learning-databases/wine-quality/winequality-red.csv\", sep =';') \n",
        "\n",
        "# Add `type` column to `red` with price one  - done with PANDAS\n",
        "red['type'] = 1\n",
        "  \n",
        "# Add `type` column to `white` with price zero - done with PANDAS \n",
        "white['type'] = 0\n",
        "  \n",
        "# Append `white` to `red` - done with PANDAS\n",
        "# AFTER THIS WE HAVE ALL WINES (red and white) in a SINGLE pandas DataFrame\n",
        "wines = red.append(white, ignore_index = True) \n",
        "\n",
        "# Import SKLEARN\n",
        "import sklearn\n",
        "# Import `train_test_split` from `sklearn.model_selection` \n",
        "from sklearn.model_selection import train_test_split \n",
        "\n",
        "# Specify the  data - \n",
        "X1 = wines.iloc[:, 0:11]\n",
        "X2 = wines.iloc[:,12]\n",
        "X = pd.concat([X1,X2],axis = 1)\n",
        "\n",
        "# Specify the QUALITY target labels and flatten the array \n",
        "y = np.ravel(wines.quality) \n",
        "\n",
        "# Splitting the data set for training and validating  - Done with SKLEARN\n",
        "X_train, X_valid, y_train, y_valid = train_test_split( \n",
        "                 X, y, test_size = 0.25, random_state = 45) \n"
      ],
      "execution_count": 31,
      "outputs": []
    },
    {
      "cell_type": "code",
      "source": [
        "# CONVERTING X_train & X_test DataFrame s to TF tensors\n",
        "# Will USE NumPy, TF & Keras after this\n",
        "# import tensorflow as tf \n",
        "\n",
        "Xtrain = X_train.to_numpy()\n",
        "X_valid = X_valid.to_numpy()"
      ],
      "metadata": {
        "id": "AYtcmE0J4qQb"
      },
      "execution_count": 32,
      "outputs": []
    },
    {
      "cell_type": "code",
      "source": [
        "# In reality:\n",
        "# [1] ALL THE Xtrain patterns (with their y_train targets) \n",
        "# will be used for TRAINING ([TR]), as Xtrain & y_train\n",
        "# [2] MOST OF THE X_valid patterns (and their y_valid targets) \n",
        "#  will be used for VALIDATION ([TT]),  as X_val & y_val\n",
        "# BUT WE WILL SET ASIDE THE LAST 10 for \"testing\" ([TS])\n",
        "#  as X_tst & y_tst"
      ],
      "metadata": {
        "id": "qpHhdmJN6HVq"
      },
      "execution_count": 33,
      "outputs": []
    },
    {
      "cell_type": "code",
      "source": [
        "# To separate the last 10 in X_valid, let's first see the shape of X_valid\n",
        "X_valid.shape"
      ],
      "metadata": {
        "colab": {
          "base_uri": "https://localhost:8080/"
        },
        "id": "T10AK-Ip7YMb",
        "outputId": "a1134ae0-443c-4669-ab5d-0dff5de01213"
      },
      "execution_count": 34,
      "outputs": [
        {
          "output_type": "execute_result",
          "data": {
            "text/plain": [
              "(1625, 12)"
            ]
          },
          "metadata": {},
          "execution_count": 34
        }
      ]
    },
    {
      "cell_type": "code",
      "source": [
        "# And verify also the shape of y_valid\n",
        "y_valid.shape"
      ],
      "metadata": {
        "colab": {
          "base_uri": "https://localhost:8080/"
        },
        "id": "Gj64QrXI7npC",
        "outputId": "353a9c9b-0399-4b07-9671-a4a7b188187e"
      },
      "execution_count": 35,
      "outputs": [
        {
          "output_type": "execute_result",
          "data": {
            "text/plain": [
              "(1625,)"
            ]
          },
          "metadata": {},
          "execution_count": 35
        }
      ]
    },
    {
      "cell_type": "code",
      "source": [
        "# Retain the first 1615 for validation ([TT])\n",
        "Xval = X_valid[:1615]\n",
        "Xval.shape"
      ],
      "metadata": {
        "colab": {
          "base_uri": "https://localhost:8080/"
        },
        "id": "2jDS0FsF739z",
        "outputId": "198700b5-aa72-44ce-aa98-cdc1d12afd28"
      },
      "execution_count": 36,
      "outputs": [
        {
          "output_type": "execute_result",
          "data": {
            "text/plain": [
              "(1615, 12)"
            ]
          },
          "metadata": {},
          "execution_count": 36
        }
      ]
    },
    {
      "cell_type": "code",
      "source": [
        "# and now set aside the last 10 for \"test\"\n",
        "Xtst = X_valid[1615:]\n",
        "Xtst.shape"
      ],
      "metadata": {
        "colab": {
          "base_uri": "https://localhost:8080/"
        },
        "id": "C_zJIn2Z-AS6",
        "outputId": "1d3fee5f-e38b-4d48-8d44-a5dd0f7fe9a1"
      },
      "execution_count": 37,
      "outputs": [
        {
          "output_type": "execute_result",
          "data": {
            "text/plain": [
              "(10, 12)"
            ]
          },
          "metadata": {},
          "execution_count": 37
        }
      ]
    },
    {
      "cell_type": "code",
      "source": [
        "# SAME FOR THE CORRESPONDING TARGETS\n",
        "# Retain the first 1615 for validation ([TT])\n",
        "y_val = y_valid[:1615]\n",
        "y_val.shape"
      ],
      "metadata": {
        "colab": {
          "base_uri": "https://localhost:8080/"
        },
        "id": "YlrWhyX1-qQa",
        "outputId": "8d6be548-7ba3-467b-f7e1-4637f9a3258b"
      },
      "execution_count": 38,
      "outputs": [
        {
          "output_type": "execute_result",
          "data": {
            "text/plain": [
              "(1615,)"
            ]
          },
          "metadata": {},
          "execution_count": 38
        }
      ]
    },
    {
      "cell_type": "code",
      "source": [
        "y_tst = y_valid[1615:]\n",
        "y_tst.shape"
      ],
      "metadata": {
        "colab": {
          "base_uri": "https://localhost:8080/"
        },
        "id": "yesLMjKx--2r",
        "outputId": "aca51e07-4bf9-4b2f-e040-24f4e74d62d6"
      },
      "execution_count": 39,
      "outputs": [
        {
          "output_type": "execute_result",
          "data": {
            "text/plain": [
              "(10,)"
            ]
          },
          "metadata": {},
          "execution_count": 39
        }
      ]
    },
    {
      "cell_type": "code",
      "source": [
        "y_tst"
      ],
      "metadata": {
        "colab": {
          "base_uri": "https://localhost:8080/"
        },
        "id": "QOIgFLku-2mr",
        "outputId": "9566ed53-910b-4997-9ffc-e69c3eecaf72"
      },
      "execution_count": 40,
      "outputs": [
        {
          "output_type": "execute_result",
          "data": {
            "text/plain": [
              "array([5, 5, 7, 6, 5, 5, 6, 6, 7, 6])"
            ]
          },
          "metadata": {},
          "execution_count": 40
        }
      ]
    },
    {
      "cell_type": "code",
      "source": [
        " # NOW, IN ADDITION, CREATE THE TARGETS AS ONE-HOT-ENCODED 4 quality LEVELS"
      ],
      "metadata": {
        "id": "3zfsQQNn6ABr"
      },
      "execution_count": 41,
      "outputs": []
    },
    {
      "cell_type": "code",
      "metadata": {
        "colab": {
          "base_uri": "https://localhost:8080/"
        },
        "id": "HImrn2sHKvz_",
        "outputId": "02a0afb4-fce8-4362-d161-0c5d9cd7fd22"
      },
      "source": [
        "# We will track these few targets through the conversion process\n",
        "y_train[272:283]"
      ],
      "execution_count": 42,
      "outputs": [
        {
          "output_type": "execute_result",
          "data": {
            "text/plain": [
              "array([5, 4, 6, 5, 5, 6, 7, 6, 5, 8, 5])"
            ]
          },
          "metadata": {},
          "execution_count": 42
        }
      ]
    },
    {
      "cell_type": "code",
      "source": [
        "# Function create rank-1 arrays where 3,4,5,6,7,8,9 are mapped to 1 or 2 or 3 or 4 \n",
        "def to_4cs(x):\n",
        "  lx = len(x)\n",
        "  results = np.zeros(lx)\n",
        "  for i in range(lx):\n",
        "      # print( \"start\")\n",
        "      xa = x[i];\n",
        "      if xa <= 3:\n",
        "          results[i] = 1      # 1, 2 and 3 map to Q-LEVEL 1 ( BAD Wine)\n",
        "      elif xa <=6:\n",
        "          results[i] = 2      # 4, 5 and 6 map to Q-LEVEL 2  (MEDIUM Wine)\n",
        "      elif xa <=8:\n",
        "          results[i] = 3      # 7 and 8 and 6 map to Q-LEVEL 3  (GOOD Wine)\n",
        "      else:\n",
        "          results[i] = 4      # 9 and above map to Q-LEVEL 4  (EXCELLENT Wine)\n",
        "    # results[i, label] = 1.\n",
        "  results = results.astype(int)\n",
        "  return results"
      ],
      "metadata": {
        "id": "iB1RjHR7PQD7"
      },
      "execution_count": 43,
      "outputs": []
    },
    {
      "cell_type": "code",
      "source": [
        "train_labels = to_4cs(y_train)\n",
        "val_labels = to_4cs(y_val)\n",
        "tst_labels = to_4cs(y_tst)"
      ],
      "metadata": {
        "id": "LhSoZ0b9Ptyj"
      },
      "execution_count": 44,
      "outputs": []
    },
    {
      "cell_type": "code",
      "metadata": {
        "colab": {
          "base_uri": "https://localhost:8080/"
        },
        "id": "RmSc8yQ5NgQe",
        "outputId": "7b230c9a-6938-491a-97d3-c0239f80e2c3"
      },
      "source": [
        "\n",
        "# Let's verify that the trainnig targets that we are tracking\n",
        "# were converted to levels (1 = BAD; 2 = MEDIUM; 3 = GOOD; 4- EXCELLENT) correctly:\n",
        "train_labels[272:283]"
      ],
      "execution_count": 45,
      "outputs": [
        {
          "output_type": "execute_result",
          "data": {
            "text/plain": [
              "array([2, 2, 2, 2, 2, 2, 3, 2, 2, 3, 2])"
            ]
          },
          "metadata": {},
          "execution_count": 45
        }
      ]
    },
    {
      "cell_type": "code",
      "metadata": {
        "id": "Cs-J7sRmKhGf"
      },
      "source": [
        "# NOW, ONE-HOT ENCODING OF ALL 3  TARGET ARRAYS\n",
        "# define a function to do the one-hot-encoding of output labels\n",
        "\n",
        "def to_one_hot(labels, dimension=4):\n",
        "    results = np.zeros((len(labels), dimension))\n",
        "    for i, label in enumerate(labels-1):\n",
        "        results[i, label] = 1.\n",
        "    return results\n",
        "\n",
        "one_hot_train_labels = to_one_hot(train_labels)\n",
        "one_hot_val_labels = to_one_hot(val_labels)\n",
        "one_hot_tst_labels = to_one_hot(tst_labels)"
      ],
      "execution_count": 46,
      "outputs": []
    },
    {
      "cell_type": "code",
      "source": [
        "#Let's verify that the training targets we have tracked were\n",
        "# one-hot encoded correctly\n",
        "one_hot_train_labels[272:283,]"
      ],
      "metadata": {
        "colab": {
          "base_uri": "https://localhost:8080/"
        },
        "id": "Mk1q-JDyBChj",
        "outputId": "96153155-ec0a-4052-9551-599fe7e85712"
      },
      "execution_count": 47,
      "outputs": [
        {
          "output_type": "execute_result",
          "data": {
            "text/plain": [
              "array([[0., 1., 0., 0.],\n",
              "       [0., 1., 0., 0.],\n",
              "       [0., 1., 0., 0.],\n",
              "       [0., 1., 0., 0.],\n",
              "       [0., 1., 0., 0.],\n",
              "       [0., 1., 0., 0.],\n",
              "       [0., 0., 1., 0.],\n",
              "       [0., 1., 0., 0.],\n",
              "       [0., 1., 0., 0.],\n",
              "       [0., 0., 1., 0.],\n",
              "       [0., 1., 0., 0.]])"
            ]
          },
          "metadata": {},
          "execution_count": 47
        }
      ]
    },
    {
      "cell_type": "code",
      "source": [
        "# SO, AFTER EXECUTING THIS CELL, YOU WILL HAVE:\n",
        "# FOR TRAINING:\n",
        "#  Xtrain (4872, 12)...y_train (4872,)...train_labels(4872,)....one_hot_train_labels (4872,4)\n",
        "# FOR VALIDATING:\n",
        "#  Xval (1615, 12)...y_val (1615,)...val_labels(1615,)...one_hot_val_labels (1615,4)\n",
        "# FOR TESTING:\n",
        "#  Xtst (10, 12)...y_tst (10,)...tst_labels(10,)... one_hot_tst_labels (10,4)\n",
        "# PLEASE DO NOT CHANGE THE NAMES OF THESE VARIABLES (So that instructor can use them)"
      ],
      "metadata": {
        "id": "FfIxlsEISc5W"
      },
      "execution_count": 48,
      "outputs": []
    },
    {
      "cell_type": "markdown",
      "source": [
        " ++++  END OF THE DATA PREPARATION PART ++++ \n"
      ],
      "metadata": {
        "id": "Bq_9V9XCSd6t"
      }
    },
    {
      "cell_type": "markdown",
      "source": [
        "# Part 2: Regression Model"
      ],
      "metadata": {
        "id": "6Vt3n82EaN98"
      }
    },
    {
      "cell_type": "markdown",
      "source": [
        "### Regression Model 1"
      ],
      "metadata": {
        "id": "saL8T2q2K0Rv"
      }
    },
    {
      "cell_type": "code",
      "source": [
        "# import libraries\n",
        "from tensorflow import keras\n",
        "from tensorflow.keras import layers\n",
        "\n",
        "def build_regmodl1():\n",
        "  regmodl1 = keras.Sequential([\n",
        "    layers.Dense(512, activation=\"relu\"),\n",
        "    layers.Dense(8, activation=\"relu\"),\n",
        "    layers.Dense(1),\n",
        "  ])\n",
        "  regmodl1.compile(optimizer=\"rmsprop\", loss=\"mse\", metrics=[\"mae\"])\n",
        "  return regmodl1\n",
        "\n",
        "# Builld the model\n",
        "regmod1 = build_regmodl1()\n",
        "\n",
        "# Run fit and store data\n",
        "regmodl1_history = regmod1.fit(x=Xtrain, y=train_labels, epochs=100, verbose=2, validation_data=(Xval, val_labels))\n",
        "\n",
        "# Show Model Summary\n",
        "regmod1.summary()"
      ],
      "metadata": {
        "id": "WBdR9tpWdYcs"
      },
      "execution_count": null,
      "outputs": []
    },
    {
      "cell_type": "code",
      "source": [
        "def plot_model_history(model_history):\n",
        "  history_dict = model_history.history\n",
        "  history_dict.keys()\n",
        "\n",
        "  loss_values = history_dict[\"loss\"]\n",
        "  val_loss_values = history_dict[\"val_loss\"]\n",
        "\n",
        "  epochs = range(1, len(loss_values) + 1)\n",
        "\n",
        "\n",
        "  # Plot current data\n",
        "  plt.plot(epochs, loss_values, \"bo\", label=\"Training Loss\")\n",
        "  plt.plot(epochs, val_loss_values, \"b\", label=\"Validation Loss\")\n",
        "  plt.title(\"Training and Validation Loss\")\n",
        "  plt.xlabel(\"Epochs\")\n",
        "  plt.ylabel(\"Accuracy\")\n",
        "  plt.legend()\n",
        "  plt.show()\n",
        "  return"
      ],
      "metadata": {
        "id": "xnMledbiYd1K"
      },
      "execution_count": 50,
      "outputs": []
    },
    {
      "cell_type": "markdown",
      "source": [
        "Plotting Regression Model 1\n",
        "\n"
      ],
      "metadata": {
        "id": "qVemg7OQYeSW"
      }
    },
    {
      "cell_type": "code",
      "source": [
        "plot_model_history(regmodl1_history)"
      ],
      "metadata": {
        "id": "2PY3AbKfj4Gc",
        "outputId": "cea987af-bb97-4ced-a77a-841e485996c4",
        "colab": {
          "base_uri": "https://localhost:8080/",
          "height": 295
        }
      },
      "execution_count": 51,
      "outputs": [
        {
          "output_type": "display_data",
          "data": {
            "image/png": "[encoded data removed]",
            "text/plain": [
              "<Figure size 432x288 with 1 Axes>"
            ]
          },
          "metadata": {
            "needs_background": "light"
          }
        }
      ]
    },
    {
      "cell_type": "markdown",
      "source": [
        "### Regression Model 2"
      ],
      "metadata": {
        "id": "mmbjOEY3K49F"
      }
    },
    {
      "cell_type": "code",
      "source": [
        "# reg mod 2\n",
        "def build_regmodl2():\n",
        "  model = keras.Sequential([\n",
        "    layers.Dense(128, activation=\"relu\"),\n",
        "    layers.Dense(64, activation=\"relu\"),\n",
        "    layers.Dense(30, activation=\"relu\"),\n",
        "    layers.Dense(5, activation=\"relu\"),\n",
        "    layers.Dense(1, activation=\"relu\"),\n",
        "  ])\n",
        "  model.compile(optimizer=\"rmsprop\", loss=\"mse\", metrics=[\"mae\"])\n",
        "  return model;\n",
        "\n",
        "regmodl2 = build_regmodl2();\n",
        "\n",
        "regmodl2_history = regmodl2.fit(x=Xtrain, y=train_labels, epochs=100, verbose=2, validation_data=(Xval, val_labels))\n",
        "\n",
        "regmodl2.summary()"
      ],
      "metadata": {
        "id": "4MAZXPzjl4sb",
        "colab": {
          "base_uri": "https://localhost:8080/"
        },
        "outputId": "4bf0675f-8a39-4063-d372-7142c52456f2"
      },
      "execution_count": 56,
      "outputs": [
        {
          "output_type": "stream",
          "name": "stdout",
          "text": [
            "Epoch 1/100\n",
            "153/153 - 1s - loss: 1.0490 - mae: 0.6933 - val_loss: 0.3725 - val_mae: 0.4564 - 1s/epoch - 8ms/step\n",
            "Epoch 2/100\n",
            "153/153 - 0s - loss: 0.3189 - mae: 0.4326 - val_loss: 0.1673 - val_mae: 0.3018 - 321ms/epoch - 2ms/step\n",
            "Epoch 3/100\n",
            "153/153 - 0s - loss: 0.2452 - mae: 0.3728 - val_loss: 0.2432 - val_mae: 0.3237 - 329ms/epoch - 2ms/step\n",
            "Epoch 4/100\n",
            "153/153 - 0s - loss: 0.2060 - mae: 0.3458 - val_loss: 0.1929 - val_mae: 0.3040 - 322ms/epoch - 2ms/step\n",
            "Epoch 5/100\n",
            "153/153 - 0s - loss: 0.1901 - mae: 0.3312 - val_loss: 0.2367 - val_mae: 0.4265 - 326ms/epoch - 2ms/step\n",
            "Epoch 6/100\n",
            "153/153 - 0s - loss: 0.1813 - mae: 0.3219 - val_loss: 0.2208 - val_mae: 0.3079 - 317ms/epoch - 2ms/step\n",
            "Epoch 7/100\n",
            "153/153 - 0s - loss: 0.1682 - mae: 0.3086 - val_loss: 0.1771 - val_mae: 0.2674 - 304ms/epoch - 2ms/step\n",
            "Epoch 8/100\n",
            "153/153 - 0s - loss: 0.1617 - mae: 0.3028 - val_loss: 0.1577 - val_mae: 0.2675 - 328ms/epoch - 2ms/step\n",
            "Epoch 9/100\n",
            "153/153 - 0s - loss: 0.1608 - mae: 0.3023 - val_loss: 0.1480 - val_mae: 0.2660 - 317ms/epoch - 2ms/step\n",
            "Epoch 10/100\n",
            "153/153 - 0s - loss: 0.1537 - mae: 0.2962 - val_loss: 0.1778 - val_mae: 0.3636 - 306ms/epoch - 2ms/step\n",
            "Epoch 11/100\n",
            "153/153 - 0s - loss: 0.1529 - mae: 0.2938 - val_loss: 0.2562 - val_mae: 0.4557 - 314ms/epoch - 2ms/step\n",
            "Epoch 12/100\n",
            "153/153 - 0s - loss: 0.1515 - mae: 0.2925 - val_loss: 0.1418 - val_mae: 0.2757 - 320ms/epoch - 2ms/step\n",
            "Epoch 13/100\n",
            "153/153 - 0s - loss: 0.1517 - mae: 0.2927 - val_loss: 0.1853 - val_mae: 0.3854 - 313ms/epoch - 2ms/step\n",
            "Epoch 14/100\n",
            "153/153 - 0s - loss: 0.1489 - mae: 0.2885 - val_loss: 0.1448 - val_mae: 0.2636 - 321ms/epoch - 2ms/step\n",
            "Epoch 15/100\n",
            "153/153 - 0s - loss: 0.1478 - mae: 0.2874 - val_loss: 0.1556 - val_mae: 0.2646 - 313ms/epoch - 2ms/step\n",
            "Epoch 16/100\n",
            "153/153 - 0s - loss: 0.1473 - mae: 0.2869 - val_loss: 0.1557 - val_mae: 0.3018 - 315ms/epoch - 2ms/step\n",
            "Epoch 17/100\n",
            "153/153 - 0s - loss: 0.1454 - mae: 0.2858 - val_loss: 0.2173 - val_mae: 0.3320 - 400ms/epoch - 3ms/step\n",
            "Epoch 18/100\n",
            "153/153 - 0s - loss: 0.1441 - mae: 0.2839 - val_loss: 0.2098 - val_mae: 0.3124 - 311ms/epoch - 2ms/step\n",
            "Epoch 19/100\n",
            "153/153 - 0s - loss: 0.1435 - mae: 0.2813 - val_loss: 0.2322 - val_mae: 0.4332 - 306ms/epoch - 2ms/step\n",
            "Epoch 20/100\n",
            "153/153 - 0s - loss: 0.1437 - mae: 0.2837 - val_loss: 0.1511 - val_mae: 0.2693 - 401ms/epoch - 3ms/step\n",
            "Epoch 21/100\n",
            "153/153 - 0s - loss: 0.1418 - mae: 0.2792 - val_loss: 0.2151 - val_mae: 0.3169 - 318ms/epoch - 2ms/step\n",
            "Epoch 22/100\n",
            "153/153 - 0s - loss: 0.1420 - mae: 0.2798 - val_loss: 0.1807 - val_mae: 0.3638 - 317ms/epoch - 2ms/step\n",
            "Epoch 23/100\n",
            "153/153 - 0s - loss: 0.1424 - mae: 0.2819 - val_loss: 0.1747 - val_mae: 0.2813 - 328ms/epoch - 2ms/step\n",
            "Epoch 24/100\n",
            "153/153 - 0s - loss: 0.1430 - mae: 0.2813 - val_loss: 0.1754 - val_mae: 0.2739 - 326ms/epoch - 2ms/step\n",
            "Epoch 25/100\n",
            "153/153 - 0s - loss: 0.1417 - mae: 0.2815 - val_loss: 0.1845 - val_mae: 0.2929 - 310ms/epoch - 2ms/step\n",
            "Epoch 26/100\n",
            "153/153 - 0s - loss: 0.1409 - mae: 0.2785 - val_loss: 0.1499 - val_mae: 0.3283 - 317ms/epoch - 2ms/step\n",
            "Epoch 27/100\n",
            "153/153 - 0s - loss: 0.1403 - mae: 0.2787 - val_loss: 0.2163 - val_mae: 0.3239 - 310ms/epoch - 2ms/step\n",
            "Epoch 28/100\n",
            "153/153 - 0s - loss: 0.1395 - mae: 0.2761 - val_loss: 0.1633 - val_mae: 0.2725 - 348ms/epoch - 2ms/step\n",
            "Epoch 29/100\n",
            "153/153 - 0s - loss: 0.1385 - mae: 0.2759 - val_loss: 0.1566 - val_mae: 0.2605 - 348ms/epoch - 2ms/step\n",
            "Epoch 30/100\n",
            "153/153 - 0s - loss: 0.1385 - mae: 0.2766 - val_loss: 0.1473 - val_mae: 0.2665 - 321ms/epoch - 2ms/step\n",
            "Epoch 31/100\n",
            "153/153 - 0s - loss: 0.1367 - mae: 0.2734 - val_loss: 0.1390 - val_mae: 0.2887 - 299ms/epoch - 2ms/step\n",
            "Epoch 32/100\n",
            "153/153 - 0s - loss: 0.1368 - mae: 0.2753 - val_loss: 0.1456 - val_mae: 0.2719 - 408ms/epoch - 3ms/step\n",
            "Epoch 33/100\n",
            "153/153 - 0s - loss: 0.1381 - mae: 0.2755 - val_loss: 0.1379 - val_mae: 0.2714 - 315ms/epoch - 2ms/step\n",
            "Epoch 34/100\n",
            "153/153 - 0s - loss: 0.1383 - mae: 0.2757 - val_loss: 0.2312 - val_mae: 0.4396 - 316ms/epoch - 2ms/step\n",
            "Epoch 35/100\n",
            "153/153 - 0s - loss: 0.1377 - mae: 0.2763 - val_loss: 0.1468 - val_mae: 0.3158 - 312ms/epoch - 2ms/step\n",
            "Epoch 36/100\n",
            "153/153 - 0s - loss: 0.1369 - mae: 0.2740 - val_loss: 0.1429 - val_mae: 0.2884 - 322ms/epoch - 2ms/step\n",
            "Epoch 37/100\n",
            "153/153 - 0s - loss: 0.1376 - mae: 0.2755 - val_loss: 0.1401 - val_mae: 0.2718 - 319ms/epoch - 2ms/step\n",
            "Epoch 38/100\n",
            "153/153 - 0s - loss: 0.1369 - mae: 0.2744 - val_loss: 0.1448 - val_mae: 0.3061 - 305ms/epoch - 2ms/step\n",
            "Epoch 39/100\n",
            "153/153 - 0s - loss: 0.1355 - mae: 0.2724 - val_loss: 0.1589 - val_mae: 0.2613 - 399ms/epoch - 3ms/step\n",
            "Epoch 40/100\n",
            "153/153 - 0s - loss: 0.1355 - mae: 0.2722 - val_loss: 0.1475 - val_mae: 0.2593 - 305ms/epoch - 2ms/step\n",
            "Epoch 41/100\n",
            "153/153 - 0s - loss: 0.1364 - mae: 0.2725 - val_loss: 0.1419 - val_mae: 0.2760 - 318ms/epoch - 2ms/step\n",
            "Epoch 42/100\n",
            "153/153 - 0s - loss: 0.1353 - mae: 0.2724 - val_loss: 0.1512 - val_mae: 0.3218 - 310ms/epoch - 2ms/step\n",
            "Epoch 43/100\n",
            "153/153 - 0s - loss: 0.1341 - mae: 0.2709 - val_loss: 0.1503 - val_mae: 0.2602 - 297ms/epoch - 2ms/step\n",
            "Epoch 44/100\n",
            "153/153 - 0s - loss: 0.1338 - mae: 0.2686 - val_loss: 0.1493 - val_mae: 0.2616 - 311ms/epoch - 2ms/step\n",
            "Epoch 45/100\n",
            "153/153 - 0s - loss: 0.1346 - mae: 0.2722 - val_loss: 0.1999 - val_mae: 0.3035 - 332ms/epoch - 2ms/step\n",
            "Epoch 46/100\n",
            "153/153 - 0s - loss: 0.1342 - mae: 0.2710 - val_loss: 0.1393 - val_mae: 0.2743 - 322ms/epoch - 2ms/step\n",
            "Epoch 47/100\n",
            "153/153 - 0s - loss: 0.1348 - mae: 0.2718 - val_loss: 0.1729 - val_mae: 0.3688 - 386ms/epoch - 3ms/step\n",
            "Epoch 48/100\n",
            "153/153 - 0s - loss: 0.1342 - mae: 0.2705 - val_loss: 0.1405 - val_mae: 0.2627 - 331ms/epoch - 2ms/step\n",
            "Epoch 49/100\n",
            "153/153 - 0s - loss: 0.1354 - mae: 0.2726 - val_loss: 0.1655 - val_mae: 0.3481 - 308ms/epoch - 2ms/step\n",
            "Epoch 50/100\n",
            "153/153 - 0s - loss: 0.1351 - mae: 0.2710 - val_loss: 0.1488 - val_mae: 0.2581 - 392ms/epoch - 3ms/step\n",
            "Epoch 51/100\n",
            "153/153 - 0s - loss: 0.1334 - mae: 0.2691 - val_loss: 0.2014 - val_mae: 0.4012 - 325ms/epoch - 2ms/step\n",
            "Epoch 52/100\n",
            "153/153 - 0s - loss: 0.1326 - mae: 0.2692 - val_loss: 0.1600 - val_mae: 0.2675 - 305ms/epoch - 2ms/step\n",
            "Epoch 53/100\n",
            "153/153 - 0s - loss: 0.1342 - mae: 0.2706 - val_loss: 0.1605 - val_mae: 0.2661 - 312ms/epoch - 2ms/step\n",
            "Epoch 54/100\n",
            "153/153 - 0s - loss: 0.1324 - mae: 0.2680 - val_loss: 0.1383 - val_mae: 0.2835 - 323ms/epoch - 2ms/step\n",
            "Epoch 55/100\n",
            "153/153 - 0s - loss: 0.1328 - mae: 0.2693 - val_loss: 0.1432 - val_mae: 0.2924 - 332ms/epoch - 2ms/step\n",
            "Epoch 56/100\n",
            "153/153 - 0s - loss: 0.1330 - mae: 0.2696 - val_loss: 0.1613 - val_mae: 0.2651 - 392ms/epoch - 3ms/step\n",
            "Epoch 57/100\n",
            "153/153 - 0s - loss: 0.1319 - mae: 0.2672 - val_loss: 0.1479 - val_mae: 0.3047 - 328ms/epoch - 2ms/step\n",
            "Epoch 58/100\n",
            "153/153 - 0s - loss: 0.1323 - mae: 0.2694 - val_loss: 0.1629 - val_mae: 0.3452 - 386ms/epoch - 3ms/step\n",
            "Epoch 59/100\n",
            "153/153 - 0s - loss: 0.1319 - mae: 0.2678 - val_loss: 0.1665 - val_mae: 0.2674 - 394ms/epoch - 3ms/step\n",
            "Epoch 60/100\n",
            "153/153 - 0s - loss: 0.1318 - mae: 0.2683 - val_loss: 0.1611 - val_mae: 0.2653 - 321ms/epoch - 2ms/step\n",
            "Epoch 61/100\n",
            "153/153 - 0s - loss: 0.1323 - mae: 0.2680 - val_loss: 0.1421 - val_mae: 0.2988 - 321ms/epoch - 2ms/step\n",
            "Epoch 62/100\n",
            "153/153 - 0s - loss: 0.1327 - mae: 0.2691 - val_loss: 0.1554 - val_mae: 0.3340 - 317ms/epoch - 2ms/step\n",
            "Epoch 63/100\n",
            "153/153 - 0s - loss: 0.1319 - mae: 0.2672 - val_loss: 0.1456 - val_mae: 0.2625 - 327ms/epoch - 2ms/step\n",
            "Epoch 64/100\n",
            "153/153 - 0s - loss: 0.1318 - mae: 0.2667 - val_loss: 0.1495 - val_mae: 0.2585 - 314ms/epoch - 2ms/step\n",
            "Epoch 65/100\n",
            "153/153 - 0s - loss: 0.1325 - mae: 0.2679 - val_loss: 0.1444 - val_mae: 0.2676 - 317ms/epoch - 2ms/step\n",
            "Epoch 66/100\n",
            "153/153 - 0s - loss: 0.1309 - mae: 0.2661 - val_loss: 0.2057 - val_mae: 0.3077 - 317ms/epoch - 2ms/step\n",
            "Epoch 67/100\n",
            "153/153 - 0s - loss: 0.1310 - mae: 0.2665 - val_loss: 0.1667 - val_mae: 0.2615 - 305ms/epoch - 2ms/step\n",
            "Epoch 68/100\n",
            "153/153 - 0s - loss: 0.1317 - mae: 0.2659 - val_loss: 0.1511 - val_mae: 0.3124 - 313ms/epoch - 2ms/step\n",
            "Epoch 69/100\n",
            "153/153 - 0s - loss: 0.1312 - mae: 0.2644 - val_loss: 0.1404 - val_mae: 0.2614 - 333ms/epoch - 2ms/step\n",
            "Epoch 70/100\n",
            "153/153 - 0s - loss: 0.1305 - mae: 0.2655 - val_loss: 0.1344 - val_mae: 0.2733 - 304ms/epoch - 2ms/step\n",
            "Epoch 71/100\n",
            "153/153 - 0s - loss: 0.1312 - mae: 0.2660 - val_loss: 0.1506 - val_mae: 0.2587 - 313ms/epoch - 2ms/step\n",
            "Epoch 72/100\n",
            "153/153 - 0s - loss: 0.1312 - mae: 0.2660 - val_loss: 0.1484 - val_mae: 0.2585 - 313ms/epoch - 2ms/step\n",
            "Epoch 73/100\n",
            "153/153 - 0s - loss: 0.1291 - mae: 0.2623 - val_loss: 0.2177 - val_mae: 0.3974 - 307ms/epoch - 2ms/step\n",
            "Epoch 74/100\n",
            "153/153 - 0s - loss: 0.1314 - mae: 0.2666 - val_loss: 0.1379 - val_mae: 0.2686 - 321ms/epoch - 2ms/step\n",
            "Epoch 75/100\n",
            "153/153 - 0s - loss: 0.1302 - mae: 0.2650 - val_loss: 0.1464 - val_mae: 0.3145 - 303ms/epoch - 2ms/step\n",
            "Epoch 76/100\n",
            "153/153 - 0s - loss: 0.1305 - mae: 0.2660 - val_loss: 0.1902 - val_mae: 0.2898 - 321ms/epoch - 2ms/step\n",
            "Epoch 77/100\n",
            "153/153 - 0s - loss: 0.1308 - mae: 0.2647 - val_loss: 0.1414 - val_mae: 0.2609 - 403ms/epoch - 3ms/step\n",
            "Epoch 78/100\n",
            "153/153 - 1s - loss: 0.1303 - mae: 0.2640 - val_loss: 0.1573 - val_mae: 0.2607 - 824ms/epoch - 5ms/step\n",
            "Epoch 79/100\n",
            "153/153 - 0s - loss: 0.1303 - mae: 0.2648 - val_loss: 0.1771 - val_mae: 0.2745 - 389ms/epoch - 3ms/step\n",
            "Epoch 80/100\n",
            "153/153 - 0s - loss: 0.1291 - mae: 0.2625 - val_loss: 0.1431 - val_mae: 0.2668 - 333ms/epoch - 2ms/step\n",
            "Epoch 81/100\n",
            "153/153 - 0s - loss: 0.1306 - mae: 0.2652 - val_loss: 0.1576 - val_mae: 0.2659 - 315ms/epoch - 2ms/step\n",
            "Epoch 82/100\n",
            "153/153 - 0s - loss: 0.1310 - mae: 0.2633 - val_loss: 0.1561 - val_mae: 0.2573 - 317ms/epoch - 2ms/step\n",
            "Epoch 83/100\n",
            "153/153 - 0s - loss: 0.1285 - mae: 0.2632 - val_loss: 0.1424 - val_mae: 0.2936 - 333ms/epoch - 2ms/step\n",
            "Epoch 84/100\n",
            "153/153 - 0s - loss: 0.1290 - mae: 0.2638 - val_loss: 0.1651 - val_mae: 0.2711 - 315ms/epoch - 2ms/step\n",
            "Epoch 85/100\n",
            "153/153 - 0s - loss: 0.1301 - mae: 0.2641 - val_loss: 0.1383 - val_mae: 0.2853 - 317ms/epoch - 2ms/step\n",
            "Epoch 86/100\n",
            "153/153 - 0s - loss: 0.1288 - mae: 0.2631 - val_loss: 0.1487 - val_mae: 0.2615 - 346ms/epoch - 2ms/step\n",
            "Epoch 87/100\n",
            "153/153 - 0s - loss: 0.1280 - mae: 0.2613 - val_loss: 0.1400 - val_mae: 0.2910 - 395ms/epoch - 3ms/step\n",
            "Epoch 88/100\n",
            "153/153 - 0s - loss: 0.1297 - mae: 0.2623 - val_loss: 0.1513 - val_mae: 0.2652 - 310ms/epoch - 2ms/step\n",
            "Epoch 89/100\n",
            "153/153 - 0s - loss: 0.1280 - mae: 0.2609 - val_loss: 0.1792 - val_mae: 0.2852 - 331ms/epoch - 2ms/step\n",
            "Epoch 90/100\n",
            "153/153 - 0s - loss: 0.1274 - mae: 0.2605 - val_loss: 0.1391 - val_mae: 0.2723 - 309ms/epoch - 2ms/step\n",
            "Epoch 91/100\n",
            "153/153 - 0s - loss: 0.1277 - mae: 0.2611 - val_loss: 0.1414 - val_mae: 0.2633 - 312ms/epoch - 2ms/step\n",
            "Epoch 92/100\n",
            "153/153 - 0s - loss: 0.1283 - mae: 0.2633 - val_loss: 0.1380 - val_mae: 0.2672 - 311ms/epoch - 2ms/step\n",
            "Epoch 93/100\n",
            "153/153 - 0s - loss: 0.1288 - mae: 0.2624 - val_loss: 0.1444 - val_mae: 0.3084 - 312ms/epoch - 2ms/step\n",
            "Epoch 94/100\n",
            "153/153 - 0s - loss: 0.1282 - mae: 0.2608 - val_loss: 0.1495 - val_mae: 0.2601 - 319ms/epoch - 2ms/step\n",
            "Epoch 95/100\n",
            "153/153 - 0s - loss: 0.1280 - mae: 0.2598 - val_loss: 0.1513 - val_mae: 0.2640 - 335ms/epoch - 2ms/step\n",
            "Epoch 96/100\n",
            "153/153 - 0s - loss: 0.1278 - mae: 0.2604 - val_loss: 0.1528 - val_mae: 0.2637 - 401ms/epoch - 3ms/step\n",
            "Epoch 97/100\n",
            "153/153 - 0s - loss: 0.1286 - mae: 0.2625 - val_loss: 0.1389 - val_mae: 0.2618 - 308ms/epoch - 2ms/step\n",
            "Epoch 98/100\n",
            "153/153 - 0s - loss: 0.1279 - mae: 0.2609 - val_loss: 0.1381 - val_mae: 0.2769 - 394ms/epoch - 3ms/step\n",
            "Epoch 99/100\n",
            "153/153 - 0s - loss: 0.1277 - mae: 0.2612 - val_loss: 0.1398 - val_mae: 0.2705 - 302ms/epoch - 2ms/step\n",
            "Epoch 100/100\n",
            "153/153 - 0s - loss: 0.1276 - mae: 0.2608 - val_loss: 0.1458 - val_mae: 0.3111 - 309ms/epoch - 2ms/step\n",
            "Model: \"sequential_10\"\n",
            "_________________________________________________________________\n",
            " Layer (type)                Output Shape              Param #   \n",
            "=================================================================\n",
            " dense_46 (Dense)            (None, 128)               1664      \n",
            "                                                                 \n",
            " dense_47 (Dense)            (None, 64)                8256      \n",
            "                                                                 \n",
            " dense_48 (Dense)            (None, 30)                1950      \n",
            "                                                                 \n",
            " dense_49 (Dense)            (None, 5)                 155       \n",
            "                                                                 \n",
            " dense_50 (Dense)            (None, 1)                 6         \n",
            "                                                                 \n",
            "=================================================================\n",
            "Total params: 12,031\n",
            "Trainable params: 12,031\n",
            "Non-trainable params: 0\n",
            "_________________________________________________________________\n"
          ]
        }
      ]
    },
    {
      "cell_type": "markdown",
      "source": [
        "Plotting Regression Model 2"
      ],
      "metadata": {
        "id": "JRHjNr9xgXeT"
      }
    },
    {
      "cell_type": "code",
      "source": [
        "plot_model_history(regmodl2_history)"
      ],
      "metadata": {
        "id": "SNIWIhR2gaYN",
        "outputId": "a4fa4cc0-f34e-4aa8-c5ce-51a235f443f4",
        "colab": {
          "base_uri": "https://localhost:8080/",
          "height": 295
        }
      },
      "execution_count": 57,
      "outputs": [
        {
          "output_type": "display_data",
          "data": {
            "image/png": "[encoded data removed]",
            "text/plain": [
              "<Figure size 432x288 with 1 Axes>"
            ]
          },
          "metadata": {
            "needs_background": "light"
          }
        }
      ]
    },
    {
      "cell_type": "markdown",
      "source": [
        "### Regression Model 3"
      ],
      "metadata": {
        "id": "9bt4_Yz4K8e9"
      }
    },
    {
      "cell_type": "code",
      "source": [
        "# reg mod 3\n",
        "def build_regmodl3():\n",
        "  model = keras.Sequential([\n",
        "    layers.Dense(512, activation=\"relu\"),\n",
        "    layers.Dense(125, activation=\"relu\"),\n",
        "    layers.Dense(64, activation=\"relu\"),\n",
        "    layers.Dense(30, activation=\"relu\"),\n",
        "    layers.Dense(5, activation=\"relu\"),\n",
        "    layers.Dense(1)                    \n",
        "  ])\n",
        "  model.compile(optimizer=\"rmsprop\", loss=\"mse\", metrics=[\"mae\"])\n",
        "  return model;\n",
        "\n",
        "regmodl3 = build_regmodl3()\n",
        "\n",
        "regmodl3_history = regmodl3.fit(x=Xtrain, y=train_labels, epochs=100, verbose=2, validation_data=(Xval, val_labels))\n",
        "\n",
        "regmodl3.summary()"
      ],
      "metadata": {
        "id": "FKRKSxhfAeWi",
        "colab": {
          "base_uri": "https://localhost:8080/"
        },
        "outputId": "6bb3540a-51af-4c7d-96a9-de49a1793cb0"
      },
      "execution_count": 54,
      "outputs": [
        {
          "output_type": "stream",
          "name": "stdout",
          "text": [
            "Epoch 1/100\n",
            "153/153 - 2s - loss: 0.7082 - mae: 0.6026 - val_loss: 0.2200 - val_mae: 0.3082 - 2s/epoch - 11ms/step\n",
            "Epoch 2/100\n",
            "153/153 - 0s - loss: 0.2761 - mae: 0.4083 - val_loss: 0.3368 - val_mae: 0.4355 - 482ms/epoch - 3ms/step\n",
            "Epoch 3/100\n",
            "153/153 - 1s - loss: 0.2167 - mae: 0.3586 - val_loss: 0.1835 - val_mae: 0.2761 - 514ms/epoch - 3ms/step\n",
            "Epoch 4/100\n",
            "153/153 - 0s - loss: 0.1853 - mae: 0.3268 - val_loss: 0.7708 - val_mae: 0.7823 - 438ms/epoch - 3ms/step\n",
            "Epoch 5/100\n",
            "153/153 - 0s - loss: 0.1783 - mae: 0.3186 - val_loss: 0.2644 - val_mae: 0.4682 - 479ms/epoch - 3ms/step\n",
            "Epoch 6/100\n",
            "153/153 - 1s - loss: 0.1688 - mae: 0.3126 - val_loss: 0.4577 - val_mae: 0.6015 - 531ms/epoch - 3ms/step\n",
            "Epoch 7/100\n",
            "153/153 - 0s - loss: 0.1634 - mae: 0.3059 - val_loss: 0.2523 - val_mae: 0.4537 - 456ms/epoch - 3ms/step\n",
            "Epoch 8/100\n",
            "153/153 - 1s - loss: 0.1593 - mae: 0.2994 - val_loss: 0.1775 - val_mae: 0.3785 - 560ms/epoch - 4ms/step\n",
            "Epoch 9/100\n",
            "153/153 - 0s - loss: 0.1579 - mae: 0.3008 - val_loss: 0.1816 - val_mae: 0.2751 - 467ms/epoch - 3ms/step\n",
            "Epoch 10/100\n",
            "153/153 - 1s - loss: 0.1554 - mae: 0.2951 - val_loss: 0.1563 - val_mae: 0.3371 - 555ms/epoch - 4ms/step\n",
            "Epoch 11/100\n",
            "153/153 - 1s - loss: 0.1538 - mae: 0.2960 - val_loss: 0.2039 - val_mae: 0.3078 - 537ms/epoch - 4ms/step\n",
            "Epoch 12/100\n",
            "153/153 - 0s - loss: 0.1519 - mae: 0.2935 - val_loss: 0.1460 - val_mae: 0.2765 - 453ms/epoch - 3ms/step\n",
            "Epoch 13/100\n",
            "153/153 - 1s - loss: 0.1515 - mae: 0.2943 - val_loss: 0.1537 - val_mae: 0.2580 - 508ms/epoch - 3ms/step\n",
            "Epoch 14/100\n",
            "153/153 - 1s - loss: 0.1482 - mae: 0.2886 - val_loss: 0.1446 - val_mae: 0.2673 - 520ms/epoch - 3ms/step\n",
            "Epoch 15/100\n",
            "153/153 - 0s - loss: 0.1475 - mae: 0.2890 - val_loss: 0.1578 - val_mae: 0.3448 - 439ms/epoch - 3ms/step\n",
            "Epoch 16/100\n",
            "153/153 - 0s - loss: 0.1476 - mae: 0.2881 - val_loss: 0.1390 - val_mae: 0.2854 - 440ms/epoch - 3ms/step\n",
            "Epoch 17/100\n",
            "153/153 - 0s - loss: 0.1474 - mae: 0.2860 - val_loss: 0.1778 - val_mae: 0.2842 - 448ms/epoch - 3ms/step\n",
            "Epoch 18/100\n",
            "153/153 - 1s - loss: 0.1454 - mae: 0.2863 - val_loss: 0.1590 - val_mae: 0.2775 - 522ms/epoch - 3ms/step\n",
            "Epoch 19/100\n",
            "153/153 - 0s - loss: 0.1443 - mae: 0.2839 - val_loss: 0.1576 - val_mae: 0.3445 - 461ms/epoch - 3ms/step\n",
            "Epoch 20/100\n",
            "153/153 - 0s - loss: 0.1449 - mae: 0.2855 - val_loss: 0.1496 - val_mae: 0.3236 - 461ms/epoch - 3ms/step\n",
            "Epoch 21/100\n",
            "153/153 - 0s - loss: 0.1412 - mae: 0.2810 - val_loss: 0.2992 - val_mae: 0.4890 - 465ms/epoch - 3ms/step\n",
            "Epoch 22/100\n",
            "153/153 - 0s - loss: 0.1454 - mae: 0.2866 - val_loss: 0.1406 - val_mae: 0.2626 - 429ms/epoch - 3ms/step\n",
            "Epoch 23/100\n",
            "153/153 - 1s - loss: 0.1438 - mae: 0.2836 - val_loss: 0.1457 - val_mae: 0.2683 - 538ms/epoch - 4ms/step\n",
            "Epoch 24/100\n",
            "153/153 - 1s - loss: 0.1444 - mae: 0.2840 - val_loss: 0.1475 - val_mae: 0.3209 - 539ms/epoch - 4ms/step\n",
            "Epoch 25/100\n",
            "153/153 - 1s - loss: 0.1423 - mae: 0.2818 - val_loss: 0.1638 - val_mae: 0.2806 - 527ms/epoch - 3ms/step\n",
            "Epoch 26/100\n",
            "153/153 - 1s - loss: 0.1432 - mae: 0.2828 - val_loss: 0.1610 - val_mae: 0.3462 - 537ms/epoch - 4ms/step\n",
            "Epoch 27/100\n",
            "153/153 - 0s - loss: 0.1441 - mae: 0.2854 - val_loss: 0.1446 - val_mae: 0.2585 - 443ms/epoch - 3ms/step\n",
            "Epoch 28/100\n",
            "153/153 - 0s - loss: 0.1412 - mae: 0.2804 - val_loss: 0.1460 - val_mae: 0.2584 - 433ms/epoch - 3ms/step\n",
            "Epoch 29/100\n",
            "153/153 - 1s - loss: 0.1409 - mae: 0.2796 - val_loss: 0.2486 - val_mae: 0.4496 - 535ms/epoch - 3ms/step\n",
            "Epoch 30/100\n",
            "153/153 - 1s - loss: 0.1416 - mae: 0.2804 - val_loss: 0.1391 - val_mae: 0.2923 - 556ms/epoch - 4ms/step\n",
            "Epoch 31/100\n",
            "153/153 - 0s - loss: 0.1402 - mae: 0.2796 - val_loss: 0.2067 - val_mae: 0.3157 - 455ms/epoch - 3ms/step\n",
            "Epoch 32/100\n",
            "153/153 - 0s - loss: 0.1378 - mae: 0.2776 - val_loss: 0.2851 - val_mae: 0.3993 - 474ms/epoch - 3ms/step\n",
            "Epoch 33/100\n",
            "153/153 - 0s - loss: 0.1420 - mae: 0.2810 - val_loss: 0.1417 - val_mae: 0.3034 - 469ms/epoch - 3ms/step\n",
            "Epoch 34/100\n",
            "153/153 - 0s - loss: 0.1412 - mae: 0.2807 - val_loss: 0.1391 - val_mae: 0.2734 - 448ms/epoch - 3ms/step\n",
            "Epoch 35/100\n",
            "153/153 - 1s - loss: 0.1421 - mae: 0.2806 - val_loss: 0.1369 - val_mae: 0.2737 - 521ms/epoch - 3ms/step\n",
            "Epoch 36/100\n",
            "153/153 - 0s - loss: 0.1391 - mae: 0.2785 - val_loss: 0.1383 - val_mae: 0.2925 - 435ms/epoch - 3ms/step\n",
            "Epoch 37/100\n",
            "153/153 - 1s - loss: 0.1369 - mae: 0.2763 - val_loss: 0.1531 - val_mae: 0.2652 - 533ms/epoch - 3ms/step\n",
            "Epoch 38/100\n",
            "153/153 - 1s - loss: 0.1393 - mae: 0.2783 - val_loss: 0.1647 - val_mae: 0.2743 - 514ms/epoch - 3ms/step\n",
            "Epoch 39/100\n",
            "153/153 - 0s - loss: 0.1382 - mae: 0.2764 - val_loss: 0.1642 - val_mae: 0.2753 - 438ms/epoch - 3ms/step\n",
            "Epoch 40/100\n",
            "153/153 - 0s - loss: 0.1397 - mae: 0.2774 - val_loss: 0.1810 - val_mae: 0.2823 - 460ms/epoch - 3ms/step\n",
            "Epoch 41/100\n",
            "153/153 - 0s - loss: 0.1392 - mae: 0.2781 - val_loss: 0.1396 - val_mae: 0.2917 - 453ms/epoch - 3ms/step\n",
            "Epoch 42/100\n",
            "153/153 - 0s - loss: 0.1400 - mae: 0.2784 - val_loss: 0.1667 - val_mae: 0.2745 - 454ms/epoch - 3ms/step\n",
            "Epoch 43/100\n",
            "153/153 - 0s - loss: 0.1391 - mae: 0.2772 - val_loss: 0.1383 - val_mae: 0.2677 - 440ms/epoch - 3ms/step\n",
            "Epoch 44/100\n",
            "153/153 - 1s - loss: 0.1368 - mae: 0.2759 - val_loss: 0.1718 - val_mae: 0.2675 - 522ms/epoch - 3ms/step\n",
            "Epoch 45/100\n",
            "153/153 - 1s - loss: 0.1374 - mae: 0.2739 - val_loss: 0.1374 - val_mae: 0.2838 - 584ms/epoch - 4ms/step\n",
            "Epoch 46/100\n",
            "153/153 - 1s - loss: 0.1378 - mae: 0.2768 - val_loss: 0.1362 - val_mae: 0.2836 - 780ms/epoch - 5ms/step\n",
            "Epoch 47/100\n",
            "153/153 - 1s - loss: 0.1373 - mae: 0.2759 - val_loss: 0.1691 - val_mae: 0.2727 - 974ms/epoch - 6ms/step\n",
            "Epoch 48/100\n",
            "153/153 - 1s - loss: 0.1377 - mae: 0.2762 - val_loss: 0.1365 - val_mae: 0.2663 - 1s/epoch - 7ms/step\n",
            "Epoch 49/100\n",
            "153/153 - 1s - loss: 0.1358 - mae: 0.2740 - val_loss: 0.1721 - val_mae: 0.2810 - 1s/epoch - 7ms/step\n",
            "Epoch 50/100\n",
            "153/153 - 1s - loss: 0.1370 - mae: 0.2747 - val_loss: 0.1356 - val_mae: 0.2679 - 1s/epoch - 7ms/step\n",
            "Epoch 51/100\n",
            "153/153 - 1s - loss: 0.1358 - mae: 0.2732 - val_loss: 0.2211 - val_mae: 0.4310 - 948ms/epoch - 6ms/step\n",
            "Epoch 52/100\n",
            "153/153 - 1s - loss: 0.1365 - mae: 0.2745 - val_loss: 0.1482 - val_mae: 0.3166 - 1s/epoch - 7ms/step\n",
            "Epoch 53/100\n",
            "153/153 - 1s - loss: 0.1360 - mae: 0.2747 - val_loss: 0.1367 - val_mae: 0.2736 - 877ms/epoch - 6ms/step\n",
            "Epoch 54/100\n",
            "153/153 - 1s - loss: 0.1364 - mae: 0.2724 - val_loss: 0.1433 - val_mae: 0.2621 - 1s/epoch - 7ms/step\n",
            "Epoch 55/100\n",
            "153/153 - 0s - loss: 0.1349 - mae: 0.2724 - val_loss: 0.1438 - val_mae: 0.3122 - 492ms/epoch - 3ms/step\n",
            "Epoch 56/100\n",
            "153/153 - 0s - loss: 0.1354 - mae: 0.2741 - val_loss: 0.1364 - val_mae: 0.2853 - 475ms/epoch - 3ms/step\n",
            "Epoch 57/100\n",
            "153/153 - 0s - loss: 0.1351 - mae: 0.2729 - val_loss: 0.2051 - val_mae: 0.3213 - 444ms/epoch - 3ms/step\n",
            "Epoch 58/100\n",
            "153/153 - 1s - loss: 0.1349 - mae: 0.2729 - val_loss: 0.1442 - val_mae: 0.2623 - 531ms/epoch - 3ms/step\n",
            "Epoch 59/100\n",
            "153/153 - 1s - loss: 0.1351 - mae: 0.2732 - val_loss: 0.3541 - val_mae: 0.5266 - 520ms/epoch - 3ms/step\n",
            "Epoch 60/100\n",
            "153/153 - 0s - loss: 0.1363 - mae: 0.2738 - val_loss: 0.1409 - val_mae: 0.3019 - 450ms/epoch - 3ms/step\n",
            "Epoch 61/100\n",
            "153/153 - 1s - loss: 0.1347 - mae: 0.2728 - val_loss: 0.1427 - val_mae: 0.2952 - 527ms/epoch - 3ms/step\n",
            "Epoch 62/100\n",
            "153/153 - 0s - loss: 0.1351 - mae: 0.2728 - val_loss: 0.1379 - val_mae: 0.2664 - 446ms/epoch - 3ms/step\n",
            "Epoch 63/100\n",
            "153/153 - 0s - loss: 0.1350 - mae: 0.2735 - val_loss: 0.1530 - val_mae: 0.2899 - 469ms/epoch - 3ms/step\n",
            "Epoch 64/100\n",
            "153/153 - 1s - loss: 0.1342 - mae: 0.2727 - val_loss: 0.1423 - val_mae: 0.3023 - 527ms/epoch - 3ms/step\n",
            "Epoch 65/100\n",
            "153/153 - 0s - loss: 0.1347 - mae: 0.2728 - val_loss: 0.1386 - val_mae: 0.2694 - 432ms/epoch - 3ms/step\n",
            "Epoch 66/100\n",
            "153/153 - 1s - loss: 0.1348 - mae: 0.2707 - val_loss: 0.1407 - val_mae: 0.2618 - 567ms/epoch - 4ms/step\n",
            "Epoch 67/100\n",
            "153/153 - 0s - loss: 0.1332 - mae: 0.2692 - val_loss: 0.1598 - val_mae: 0.3471 - 441ms/epoch - 3ms/step\n",
            "Epoch 68/100\n",
            "153/153 - 0s - loss: 0.1322 - mae: 0.2699 - val_loss: 0.1517 - val_mae: 0.3155 - 471ms/epoch - 3ms/step\n",
            "Epoch 69/100\n",
            "153/153 - 1s - loss: 0.1338 - mae: 0.2709 - val_loss: 0.2004 - val_mae: 0.2973 - 1s/epoch - 7ms/step\n",
            "Epoch 70/100\n",
            "153/153 - 0s - loss: 0.1337 - mae: 0.2712 - val_loss: 0.1406 - val_mae: 0.2870 - 472ms/epoch - 3ms/step\n",
            "Epoch 71/100\n",
            "153/153 - 1s - loss: 0.1349 - mae: 0.2721 - val_loss: 0.1978 - val_mae: 0.3039 - 973ms/epoch - 6ms/step\n",
            "Epoch 72/100\n",
            "153/153 - 0s - loss: 0.1340 - mae: 0.2708 - val_loss: 0.1456 - val_mae: 0.2686 - 442ms/epoch - 3ms/step\n",
            "Epoch 73/100\n",
            "153/153 - 1s - loss: 0.1332 - mae: 0.2703 - val_loss: 0.1402 - val_mae: 0.2661 - 512ms/epoch - 3ms/step\n",
            "Epoch 74/100\n",
            "153/153 - 0s - loss: 0.1335 - mae: 0.2695 - val_loss: 0.1537 - val_mae: 0.2699 - 458ms/epoch - 3ms/step\n",
            "Epoch 75/100\n",
            "153/153 - 1s - loss: 0.1343 - mae: 0.2706 - val_loss: 0.1455 - val_mae: 0.3127 - 548ms/epoch - 4ms/step\n",
            "Epoch 76/100\n",
            "153/153 - 0s - loss: 0.1338 - mae: 0.2702 - val_loss: 0.1453 - val_mae: 0.2588 - 464ms/epoch - 3ms/step\n",
            "Epoch 77/100\n",
            "153/153 - 1s - loss: 0.1322 - mae: 0.2688 - val_loss: 0.1519 - val_mae: 0.2578 - 525ms/epoch - 3ms/step\n",
            "Epoch 78/100\n",
            "153/153 - 0s - loss: 0.1323 - mae: 0.2679 - val_loss: 0.1960 - val_mae: 0.2979 - 455ms/epoch - 3ms/step\n",
            "Epoch 79/100\n",
            "153/153 - 0s - loss: 0.1328 - mae: 0.2700 - val_loss: 0.1457 - val_mae: 0.2734 - 458ms/epoch - 3ms/step\n",
            "Epoch 80/100\n",
            "153/153 - 1s - loss: 0.1332 - mae: 0.2694 - val_loss: 0.1432 - val_mae: 0.2572 - 545ms/epoch - 4ms/step\n",
            "Epoch 81/100\n",
            "153/153 - 0s - loss: 0.1314 - mae: 0.2668 - val_loss: 0.1444 - val_mae: 0.3101 - 457ms/epoch - 3ms/step\n",
            "Epoch 82/100\n",
            "153/153 - 1s - loss: 0.1310 - mae: 0.2695 - val_loss: 0.1414 - val_mae: 0.2913 - 544ms/epoch - 4ms/step\n",
            "Epoch 83/100\n",
            "153/153 - 0s - loss: 0.1332 - mae: 0.2699 - val_loss: 0.1849 - val_mae: 0.3788 - 455ms/epoch - 3ms/step\n",
            "Epoch 84/100\n",
            "153/153 - 0s - loss: 0.1313 - mae: 0.2687 - val_loss: 0.1709 - val_mae: 0.2740 - 462ms/epoch - 3ms/step\n",
            "Epoch 85/100\n",
            "153/153 - 0s - loss: 0.1322 - mae: 0.2687 - val_loss: 0.1567 - val_mae: 0.3308 - 458ms/epoch - 3ms/step\n",
            "Epoch 86/100\n",
            "153/153 - 0s - loss: 0.1312 - mae: 0.2677 - val_loss: 0.1506 - val_mae: 0.3076 - 451ms/epoch - 3ms/step\n",
            "Epoch 87/100\n",
            "153/153 - 0s - loss: 0.1313 - mae: 0.2667 - val_loss: 0.1444 - val_mae: 0.2767 - 496ms/epoch - 3ms/step\n",
            "Epoch 88/100\n",
            "153/153 - 1s - loss: 0.1312 - mae: 0.2670 - val_loss: 0.1867 - val_mae: 0.2892 - 544ms/epoch - 4ms/step\n",
            "Epoch 89/100\n",
            "153/153 - 1s - loss: 0.1315 - mae: 0.2662 - val_loss: 0.1443 - val_mae: 0.2993 - 550ms/epoch - 4ms/step\n",
            "Epoch 90/100\n",
            "153/153 - 0s - loss: 0.1321 - mae: 0.2675 - val_loss: 0.1642 - val_mae: 0.3385 - 473ms/epoch - 3ms/step\n",
            "Epoch 91/100\n",
            "153/153 - 0s - loss: 0.1311 - mae: 0.2669 - val_loss: 0.1391 - val_mae: 0.2639 - 438ms/epoch - 3ms/step\n",
            "Epoch 92/100\n",
            "153/153 - 0s - loss: 0.1335 - mae: 0.2678 - val_loss: 0.1523 - val_mae: 0.3040 - 446ms/epoch - 3ms/step\n",
            "Epoch 93/100\n",
            "153/153 - 0s - loss: 0.1315 - mae: 0.2673 - val_loss: 0.1474 - val_mae: 0.2792 - 449ms/epoch - 3ms/step\n",
            "Epoch 94/100\n",
            "153/153 - 1s - loss: 0.1318 - mae: 0.2662 - val_loss: 0.1533 - val_mae: 0.2626 - 505ms/epoch - 3ms/step\n",
            "Epoch 95/100\n",
            "153/153 - 1s - loss: 0.1301 - mae: 0.2665 - val_loss: 0.1444 - val_mae: 0.2735 - 533ms/epoch - 3ms/step\n",
            "Epoch 96/100\n",
            "153/153 - 1s - loss: 0.1310 - mae: 0.2663 - val_loss: 0.1654 - val_mae: 0.2652 - 513ms/epoch - 3ms/step\n",
            "Epoch 97/100\n",
            "153/153 - 0s - loss: 0.1305 - mae: 0.2660 - val_loss: 0.1389 - val_mae: 0.2784 - 458ms/epoch - 3ms/step\n",
            "Epoch 98/100\n",
            "153/153 - 0s - loss: 0.1298 - mae: 0.2646 - val_loss: 0.1709 - val_mae: 0.2682 - 462ms/epoch - 3ms/step\n",
            "Epoch 99/100\n",
            "153/153 - 0s - loss: 0.1299 - mae: 0.2646 - val_loss: 0.1709 - val_mae: 0.3568 - 454ms/epoch - 3ms/step\n",
            "Epoch 100/100\n",
            "153/153 - 0s - loss: 0.1301 - mae: 0.2651 - val_loss: 0.1674 - val_mae: 0.2700 - 436ms/epoch - 3ms/step\n",
            "Model: \"sequential_9\"\n",
            "_________________________________________________________________\n",
            " Layer (type)                Output Shape              Param #   \n",
            "=================================================================\n",
            " dense_40 (Dense)            (None, 512)               6656      \n",
            "                                                                 \n",
            " dense_41 (Dense)            (None, 125)               64125     \n",
            "                                                                 \n",
            " dense_42 (Dense)            (None, 64)                8064      \n",
            "                                                                 \n",
            " dense_43 (Dense)            (None, 30)                1950      \n",
            "                                                                 \n",
            " dense_44 (Dense)            (None, 5)                 155       \n",
            "                                                                 \n",
            " dense_45 (Dense)            (None, 1)                 6         \n",
            "                                                                 \n",
            "=================================================================\n",
            "Total params: 80,956\n",
            "Trainable params: 80,956\n",
            "Non-trainable params: 0\n",
            "_________________________________________________________________\n"
          ]
        }
      ]
    },
    {
      "cell_type": "markdown",
      "source": [
        "Plotting Regression Model 3"
      ],
      "metadata": {
        "id": "8Oyf18uLLAzf"
      }
    },
    {
      "cell_type": "code",
      "source": [
        "plot_model_history(regmodl3_history)"
      ],
      "metadata": {
        "colab": {
          "base_uri": "https://localhost:8080/",
          "height": 295
        },
        "id": "e5XlSgPELE18",
        "outputId": "dd196832-95cd-4104-960c-707492b6ce6c"
      },
      "execution_count": 55,
      "outputs": [
        {
          "output_type": "display_data",
          "data": {
            "image/png": "[encoded data removed]",
            "text/plain": [
              "<Figure size 432x288 with 1 Axes>"
            ]
          },
          "metadata": {
            "needs_background": "light"
          }
        }
      ]
    }
  ]
}