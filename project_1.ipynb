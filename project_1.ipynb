{
  "nbformat": 4,
  "nbformat_minor": 0,
  "metadata": {
    "colab": {
      "name": "project-1.ipynb",
      "provenance": [],
      "collapsed_sections": [],
      "include_colab_link": true
    },
    "kernelspec": {
      "display_name": "Python 3",
      "name": "python3"
    }
  },
  "cells": [
    {
      "cell_type": "markdown",
      "metadata": {
        "id": "view-in-github",
        "colab_type": "text"
      },
      "source": [
        "<a href=\"https://colab.research.google.com/github/powerSeries/NN-projects/blob/main/project_1.ipynb\" target=\"_parent\"><img src=\"https://colab.research.google.com/assets/colab-badge.svg\" alt=\"Open In Colab\"/></a>"
      ]
    },
    {
      "cell_type": "markdown",
      "metadata": {
        "id": "vB3bHSucPIVs"
      },
      "source": [
        "Abbreviated data preparation for the Wine Quality Problem (Project 1)"
      ]
    },
    {
      "cell_type": "code",
      "metadata": {
        "id": "XrcPuh9-KY0j"
      },
      "source": [
        "# Import Required Libraries  \n",
        "import matplotlib.pyplot as plt \n",
        "import numpy as np \n",
        "# This time we need to also import pandas\n",
        "import pandas as pd \n",
        "\n",
        "# Read in white wine data \n",
        "# USES PANDAS (pd) to create a PANDAS DataFrame OBJECT:\n",
        "white = pd.read_csv(\"http://archive.ics.uci.edu/ml/machine-learning-databases/wine-quality/winequality-white.csv\", sep =';') \n",
        "\n",
        "# Read in red wine data \n",
        "# USES PANDAS (pd) to create a PANDAS DataFrame OBJECT:\n",
        "red = pd.read_csv(\"http://archive.ics.uci.edu/ml/machine-learning-databases/wine-quality/winequality-red.csv\", sep =';') \n",
        "\n",
        "# Add `type` column to `red` with price one  - done with PANDAS\n",
        "red['type'] = 1\n",
        "  \n",
        "# Add `type` column to `white` with price zero - done with PANDAS \n",
        "white['type'] = 0\n",
        "  \n",
        "# Append `white` to `red` - done with PANDAS\n",
        "# AFTER THIS WE HAVE ALL WINES (red and white) in a SINGLE pandas DataFrame\n",
        "wines = red.append(white, ignore_index = True) \n",
        "\n",
        "# Import SKLEARN\n",
        "import sklearn\n",
        "# Import `train_test_split` from `sklearn.model_selection` \n",
        "from sklearn.model_selection import train_test_split \n",
        "\n",
        "# Specify the  data - \n",
        "X1 = wines.iloc[:, 0:11]\n",
        "X2 = wines.iloc[:,12]\n",
        "X = pd.concat([X1,X2],axis = 1)\n",
        "\n",
        "# Specify the QUALITY target labels and flatten the array \n",
        "y = np.ravel(wines.quality) \n",
        "\n",
        "# Splitting the data set for training and validating  - Done with SKLEARN\n",
        "X_train, X_valid, y_train, y_valid = train_test_split( \n",
        "                 X, y, test_size = 0.25, random_state = 45) \n"
      ],
      "execution_count": 141,
      "outputs": []
    },
    {
      "cell_type": "code",
      "source": [
        "# CONVERTING X_train & X_test DataFrame s to TF tensors\n",
        "# Will USE NumPy, TF & Keras after this\n",
        "# import tensorflow as tf \n",
        "\n",
        "Xtrain = X_train.to_numpy()\n",
        "X_valid = X_valid.to_numpy()"
      ],
      "metadata": {
        "id": "AYtcmE0J4qQb"
      },
      "execution_count": 142,
      "outputs": []
    },
    {
      "cell_type": "code",
      "source": [
        "# In reality:\n",
        "# [1] ALL THE Xtrain patterns (with their y_train targets) \n",
        "# will be used for TRAINING ([TR]), as Xtrain & y_train\n",
        "# [2] MOST OF THE X_valid patterns (and their y_valid targets) \n",
        "#  will be used for VALIDATION ([TT]),  as X_val & y_val\n",
        "# BUT WE WILL SET ASIDE THE LAST 10 for \"testing\" ([TS])\n",
        "#  as X_tst & y_tst"
      ],
      "metadata": {
        "id": "qpHhdmJN6HVq"
      },
      "execution_count": 143,
      "outputs": []
    },
    {
      "cell_type": "code",
      "source": [
        "# To separate the last 10 in X_valid, let's first see the shape of X_valid\n",
        "X_valid.shape"
      ],
      "metadata": {
        "colab": {
          "base_uri": "https://localhost:8080/"
        },
        "id": "T10AK-Ip7YMb",
        "outputId": "90d5fc31-5834-4a4d-b57d-1e444fffbfed"
      },
      "execution_count": 144,
      "outputs": [
        {
          "output_type": "execute_result",
          "data": {
            "text/plain": [
              "(1625, 12)"
            ]
          },
          "metadata": {},
          "execution_count": 144
        }
      ]
    },
    {
      "cell_type": "code",
      "source": [
        "# And verify also the shape of y_valid\n",
        "y_valid.shape"
      ],
      "metadata": {
        "colab": {
          "base_uri": "https://localhost:8080/"
        },
        "id": "Gj64QrXI7npC",
        "outputId": "cc4eb10a-1cca-4523-eec0-590ba1621fd2"
      },
      "execution_count": 145,
      "outputs": [
        {
          "output_type": "execute_result",
          "data": {
            "text/plain": [
              "(1625,)"
            ]
          },
          "metadata": {},
          "execution_count": 145
        }
      ]
    },
    {
      "cell_type": "code",
      "source": [
        "# Retain the first 1615 for validation ([TT])\n",
        "Xval = X_valid[:1615]\n",
        "Xval.shape"
      ],
      "metadata": {
        "colab": {
          "base_uri": "https://localhost:8080/"
        },
        "id": "2jDS0FsF739z",
        "outputId": "46153bcc-a6d8-4abd-ad58-0b2454ab76d3"
      },
      "execution_count": 146,
      "outputs": [
        {
          "output_type": "execute_result",
          "data": {
            "text/plain": [
              "(1615, 12)"
            ]
          },
          "metadata": {},
          "execution_count": 146
        }
      ]
    },
    {
      "cell_type": "code",
      "source": [
        "# and now set aside the last 10 for \"test\"\n",
        "Xtst = X_valid[1615:]\n",
        "Xtst.shape"
      ],
      "metadata": {
        "colab": {
          "base_uri": "https://localhost:8080/"
        },
        "id": "C_zJIn2Z-AS6",
        "outputId": "ebc83ad0-0688-4974-df83-08e2903e7628"
      },
      "execution_count": 147,
      "outputs": [
        {
          "output_type": "execute_result",
          "data": {
            "text/plain": [
              "(10, 12)"
            ]
          },
          "metadata": {},
          "execution_count": 147
        }
      ]
    },
    {
      "cell_type": "code",
      "source": [
        "# SAME FOR THE CORRESPONDING TARGETS\n",
        "# Retain the first 1615 for validation ([TT])\n",
        "y_val = y_valid[:1615]\n",
        "y_val.shape"
      ],
      "metadata": {
        "colab": {
          "base_uri": "https://localhost:8080/"
        },
        "id": "YlrWhyX1-qQa",
        "outputId": "66931ae9-e864-4d99-d067-52e4ea2d11b5"
      },
      "execution_count": 148,
      "outputs": [
        {
          "output_type": "execute_result",
          "data": {
            "text/plain": [
              "(1615,)"
            ]
          },
          "metadata": {},
          "execution_count": 148
        }
      ]
    },
    {
      "cell_type": "code",
      "source": [
        "y_tst = y_valid[1615:]\n",
        "y_tst.shape"
      ],
      "metadata": {
        "colab": {
          "base_uri": "https://localhost:8080/"
        },
        "id": "yesLMjKx--2r",
        "outputId": "2780862f-bcc4-4b3c-9e1b-17152ab32df7"
      },
      "execution_count": 149,
      "outputs": [
        {
          "output_type": "execute_result",
          "data": {
            "text/plain": [
              "(10,)"
            ]
          },
          "metadata": {},
          "execution_count": 149
        }
      ]
    },
    {
      "cell_type": "code",
      "source": [
        "y_tst"
      ],
      "metadata": {
        "colab": {
          "base_uri": "https://localhost:8080/"
        },
        "id": "QOIgFLku-2mr",
        "outputId": "c5c84ad5-a22f-40a6-9c15-18ee1ea51e77"
      },
      "execution_count": 150,
      "outputs": [
        {
          "output_type": "execute_result",
          "data": {
            "text/plain": [
              "array([5, 5, 7, 6, 5, 5, 6, 6, 7, 6])"
            ]
          },
          "metadata": {},
          "execution_count": 150
        }
      ]
    },
    {
      "cell_type": "code",
      "source": [
        " # NOW, IN ADDITION, CREATE THE TARGETS AS ONE-HOT-ENCODED 4 quality LEVELS"
      ],
      "metadata": {
        "id": "3zfsQQNn6ABr"
      },
      "execution_count": 151,
      "outputs": []
    },
    {
      "cell_type": "code",
      "metadata": {
        "colab": {
          "base_uri": "https://localhost:8080/"
        },
        "id": "HImrn2sHKvz_",
        "outputId": "7717325b-25e5-45b0-c432-0052ee9f5ae2"
      },
      "source": [
        "# We will track these few targets through the conversion process\n",
        "y_train[272:283]"
      ],
      "execution_count": 152,
      "outputs": [
        {
          "output_type": "execute_result",
          "data": {
            "text/plain": [
              "array([5, 4, 6, 5, 5, 6, 7, 6, 5, 8, 5])"
            ]
          },
          "metadata": {},
          "execution_count": 152
        }
      ]
    },
    {
      "cell_type": "code",
      "source": [
        "# Function create rank-1 arrays where 3,4,5,6,7,8,9 are mapped to 1 or 2 or 3 or 4 \n",
        "def to_4cs(x):\n",
        "  lx = len(x)\n",
        "  results = np.zeros(lx)\n",
        "  for i in range(lx):\n",
        "      # print( \"start\")\n",
        "      xa = x[i];\n",
        "      if xa <= 3:\n",
        "          results[i] = 1      # 1, 2 and 3 map to Q-LEVEL 1 ( BAD Wine)\n",
        "      elif xa <=6:\n",
        "          results[i] = 2      # 4, 5 and 6 map to Q-LEVEL 2  (MEDIUM Wine)\n",
        "      elif xa <=8:\n",
        "          results[i] = 3      # 7 and 8 and 6 map to Q-LEVEL 3  (GOOD Wine)\n",
        "      else:\n",
        "          results[i] = 4      # 9 and above map to Q-LEVEL 4  (EXCELLENT Wine)\n",
        "    # results[i, label] = 1.\n",
        "  results = results.astype(int)\n",
        "  return results"
      ],
      "metadata": {
        "id": "iB1RjHR7PQD7"
      },
      "execution_count": 153,
      "outputs": []
    },
    {
      "cell_type": "code",
      "source": [
        "train_labels = to_4cs(y_train)\n",
        "val_labels = to_4cs(y_val)\n",
        "tst_labels = to_4cs(y_tst)"
      ],
      "metadata": {
        "id": "LhSoZ0b9Ptyj"
      },
      "execution_count": 154,
      "outputs": []
    },
    {
      "cell_type": "code",
      "metadata": {
        "colab": {
          "base_uri": "https://localhost:8080/"
        },
        "id": "RmSc8yQ5NgQe",
        "outputId": "52a21b1d-07ff-48dc-b5bc-9fc0bf52cee1"
      },
      "source": [
        "\n",
        "# Let's verify that the trainnig targets that we are tracking\n",
        "# were converted to levels (1 = BAD; 2 = MEDIUM; 3 = GOOD; 4- EXCELLENT) correctly:\n",
        "train_labels[272:283]"
      ],
      "execution_count": 155,
      "outputs": [
        {
          "output_type": "execute_result",
          "data": {
            "text/plain": [
              "array([2, 2, 2, 2, 2, 2, 3, 2, 2, 3, 2])"
            ]
          },
          "metadata": {},
          "execution_count": 155
        }
      ]
    },
    {
      "cell_type": "code",
      "metadata": {
        "id": "Cs-J7sRmKhGf"
      },
      "source": [
        "# NOW, ONE-HOT ENCODING OF ALL 3  TARGET ARRAYS\n",
        "# define a function to do the one-hot-encoding of output labels\n",
        "\n",
        "def to_one_hot(labels, dimension=4):\n",
        "    results = np.zeros((len(labels), dimension))\n",
        "    for i, label in enumerate(labels-1):\n",
        "        results[i, label] = 1.\n",
        "    return results\n",
        "\n",
        "one_hot_train_labels = to_one_hot(train_labels)\n",
        "one_hot_val_labels = to_one_hot(val_labels)\n",
        "one_hot_tst_labels = to_one_hot(tst_labels)"
      ],
      "execution_count": 156,
      "outputs": []
    },
    {
      "cell_type": "code",
      "source": [
        "#Let's verify that the training targets we have tracked were\n",
        "# one-hot encoded correctly\n",
        "one_hot_train_labels[272:283,]"
      ],
      "metadata": {
        "colab": {
          "base_uri": "https://localhost:8080/"
        },
        "id": "Mk1q-JDyBChj",
        "outputId": "7d3ae7d9-fbaa-43ad-f5f0-8fd0dbec477a"
      },
      "execution_count": 157,
      "outputs": [
        {
          "output_type": "execute_result",
          "data": {
            "text/plain": [
              "array([[0., 1., 0., 0.],\n",
              "       [0., 1., 0., 0.],\n",
              "       [0., 1., 0., 0.],\n",
              "       [0., 1., 0., 0.],\n",
              "       [0., 1., 0., 0.],\n",
              "       [0., 1., 0., 0.],\n",
              "       [0., 0., 1., 0.],\n",
              "       [0., 1., 0., 0.],\n",
              "       [0., 1., 0., 0.],\n",
              "       [0., 0., 1., 0.],\n",
              "       [0., 1., 0., 0.]])"
            ]
          },
          "metadata": {},
          "execution_count": 157
        }
      ]
    },
    {
      "cell_type": "code",
      "source": [
        "# SO, AFTER EXECUTING THIS CELL, YOU WILL HAVE:\n",
        "# FOR TRAINING:\n",
        "#  Xtrain (4872, 12)...y_train (4872,)...train_labels(4872,)....one_hot_train_labels (4872,4)\n",
        "# FOR VALIDATING:\n",
        "#  Xval (1615, 12)...y_val (1615,)...val_labels(1615,)...one_hot_val_labels (1615,4)\n",
        "# FOR TESTING:\n",
        "#  Xtst (10, 12)...y_tst (10,)...tst_labels(10,)... one_hot_tst_labels (10,4)\n",
        "# PLEASE DO NOT CHANGE THE NAMES OF THESE VARIABLES (So that instructor can use them)"
      ],
      "metadata": {
        "id": "FfIxlsEISc5W"
      },
      "execution_count": 158,
      "outputs": []
    },
    {
      "cell_type": "code",
      "source": [
        "import copy\n",
        "\n",
        "## Normalize Data\n",
        "copyTrain = copy.copy(Xtrain)\n",
        "copyVal = copy.copy(Xval)\n",
        "copyTest = copy.copy(Xtst)\n",
        "\n",
        "mean = Xtrain.mean(axis=0)\n",
        "copyTrain -= mean\n",
        "std = Xtrain.std(axis=0)\n",
        "\n",
        "copyTrain /= std\n",
        "\n",
        "copyTest -= mean\n",
        "copyTest /= std\n",
        "\n",
        "copyVal -= mean\n",
        "copyVal /= std"
      ],
      "metadata": {
        "id": "Pgp1PGMnKBqr"
      },
      "execution_count": 159,
      "outputs": []
    },
    {
      "cell_type": "markdown",
      "source": [
        " ++++  END OF THE DATA PREPARATION PART ++++ \n"
      ],
      "metadata": {
        "id": "Bq_9V9XCSd6t"
      }
    },
    {
      "cell_type": "markdown",
      "source": [
        "# Part 2: Regression Model"
      ],
      "metadata": {
        "id": "6Vt3n82EaN98"
      }
    },
    {
      "cell_type": "markdown",
      "source": [
        "### Regression Model 1"
      ],
      "metadata": {
        "id": "saL8T2q2K0Rv"
      }
    },
    {
      "cell_type": "code",
      "source": [
        "# import libraries\n",
        "from tensorflow import keras\n",
        "from tensorflow.keras import layers\n",
        "\n",
        "def build_regmodl1():\n",
        "  regmodl1 = keras.Sequential([\n",
        "    layers.Dense(512, activation=\"relu\"),\n",
        "    layers.Dense(8, activation=\"relu\"),\n",
        "    layers.Dense(1),\n",
        "  ])\n",
        "  regmodl1.compile(optimizer=\"rmsprop\", loss=\"mse\", metrics=[\"mae\"])\n",
        "  return regmodl1\n",
        "\n",
        "# Builld the model\n",
        "regmod1 = build_regmodl1()\n",
        "\n",
        "# Run fit and store data\n",
        "regmodl1_history = regmod1.fit(x=copyTrain, y=y_train, epochs=50, verbose=2, validation_data=(copyVal, y_val))\n",
        "\n",
        "# Show Model Summary\n",
        "regmod1.summary()"
      ],
      "metadata": {
        "id": "WBdR9tpWdYcs"
      },
      "execution_count": null,
      "outputs": []
    },
    {
      "cell_type": "code",
      "source": [
        "def plot_model_history(model_history):\n",
        "  history_dict = model_history.history\n",
        "  history_dict.keys()\n",
        "\n",
        "  loss_values = history_dict[\"loss\"]\n",
        "  val_loss_values = history_dict[\"val_loss\"]\n",
        "\n",
        "  epochs = range(1, len(loss_values) + 1)\n",
        "\n",
        "\n",
        "  # Plot current data\n",
        "  plt.plot(epochs, loss_values, \"bo\", label=\"Training Loss\")\n",
        "  plt.plot(epochs, val_loss_values, \"b\", label=\"Validation Loss\")\n",
        "  plt.title(\"Training and Validation Loss\")\n",
        "  plt.xlabel(\"Epochs\")\n",
        "  plt.ylabel(\"Accuracy\")\n",
        "  plt.legend()\n",
        "  plt.show()\n",
        "  return"
      ],
      "metadata": {
        "id": "xnMledbiYd1K"
      },
      "execution_count": null,
      "outputs": []
    },
    {
      "cell_type": "markdown",
      "source": [
        "Plotting Regression Model 1\n",
        "\n"
      ],
      "metadata": {
        "id": "qVemg7OQYeSW"
      }
    },
    {
      "cell_type": "code",
      "source": [
        "plot_model_history(regmodl1_history)"
      ],
      "metadata": {
        "id": "2PY3AbKfj4Gc"
      },
      "execution_count": null,
      "outputs": []
    },
    {
      "cell_type": "markdown",
      "source": [
        "### Regression Model 2"
      ],
      "metadata": {
        "id": "mmbjOEY3K49F"
      }
    },
    {
      "cell_type": "code",
      "source": [
        "# reg mod 2\n",
        "def build_regmodl2():\n",
        "  model = keras.Sequential([\n",
        "    layers.Dense(128, activation=\"relu\"),\n",
        "    layers.Dense(64, activation=\"relu\"),\n",
        "    layers.Dense(30, activation=\"relu\"),\n",
        "    layers.Dense(5, activation=\"relu\"),\n",
        "    layers.Dense(1),\n",
        "  ])\n",
        "  model.compile(optimizer=\"rmsprop\", loss=\"mse\", metrics=[\"mae\"])\n",
        "  return model;\n",
        "\n",
        "regmodl2 = build_regmodl2();\n",
        "\n",
        "regmodl2_history = regmodl2.fit(x=copyTrain, y=y_train, epochs=50, verbose=2, validation_data=(copyVal, y_val))\n",
        "\n",
        "regmodl2.summary()"
      ],
      "metadata": {
        "id": "4MAZXPzjl4sb"
      },
      "execution_count": null,
      "outputs": []
    },
    {
      "cell_type": "markdown",
      "source": [
        "Plotting Regression Model 2"
      ],
      "metadata": {
        "id": "JRHjNr9xgXeT"
      }
    },
    {
      "cell_type": "code",
      "source": [
        "plot_model_history(regmodl2_history)"
      ],
      "metadata": {
        "id": "SNIWIhR2gaYN"
      },
      "execution_count": null,
      "outputs": []
    },
    {
      "cell_type": "markdown",
      "source": [
        "### Regression Model 3"
      ],
      "metadata": {
        "id": "9bt4_Yz4K8e9"
      }
    },
    {
      "cell_type": "code",
      "source": [
        "# reg mod 3\n",
        "def build_regmodl3():\n",
        "  model = keras.Sequential([\n",
        "    layers.Dense(512, activation=\"relu\"),\n",
        "    layers.Dense(125, activation=\"relu\"),\n",
        "    layers.Dense(64, activation=\"relu\"),\n",
        "    layers.Dense(30, activation=\"relu\"),\n",
        "    layers.Dense(5, activation=\"relu\"),\n",
        "    layers.Dense(1)                    \n",
        "  ])\n",
        "  model.compile(optimizer=\"rmsprop\", loss=\"mse\", metrics=[\"mae\"])\n",
        "  return model;\n",
        "\n",
        "regmodl3 = build_regmodl3()\n",
        "\n",
        "regmodl3_history = regmodl3.fit(x=copyTrain, y=y_train, epochs=50, verbose=2, validation_data=(copyVal, y_val))\n",
        "\n",
        "regmodl3.summary()"
      ],
      "metadata": {
        "id": "FKRKSxhfAeWi"
      },
      "execution_count": null,
      "outputs": []
    },
    {
      "cell_type": "markdown",
      "source": [
        "Plotting Regression Model 3"
      ],
      "metadata": {
        "id": "8Oyf18uLLAzf"
      }
    },
    {
      "cell_type": "code",
      "source": [
        "plot_model_history(regmodl3_history)"
      ],
      "metadata": {
        "id": "e5XlSgPELE18"
      },
      "execution_count": null,
      "outputs": []
    },
    {
      "cell_type": "markdown",
      "source": [
        "# Part 3: Classification Model\n"
      ],
      "metadata": {
        "id": "PyD1poH4gTyy"
      }
    },
    {
      "cell_type": "code",
      "source": [
        "import copy\n",
        "\n",
        "def predict_hit_ratio():\n",
        "  val_labels_copy = copy.copy(y_val)\n",
        "  np.random.shuffle(val_labels_copy)\n",
        "  hits_array = np.array(y_val) == np.array(val_labels_copy)\n",
        "  return hits_array.mean()"
      ],
      "metadata": {
        "id": "0OJ__Hwciw2k"
      },
      "execution_count": null,
      "outputs": []
    },
    {
      "cell_type": "markdown",
      "source": [
        "### Classification Model 1"
      ],
      "metadata": {
        "id": "YiAOiEL1gzC4"
      }
    },
    {
      "cell_type": "code",
      "source": [
        "def build_clasmod1():\n",
        "  model = keras.Sequential([\n",
        "    layers.Dense(8,  activation=\"relu\"),\n",
        "    layers.Dense(4,  activation=\"softmax\")\n",
        "  ])\n",
        "  model.compile(optimizer=\"rmsprop\", loss=\"binary_crossentropy\", metrics=[\"accuracy\"]) \n",
        "  return model\n",
        "\n",
        "clasmodl1 = build_clasmod1()\n",
        "\n",
        "clasmodl1_history = clasmodl1.fit(x=Xtrain, y=one_hot_train_labels, batch_size=32, epochs=25, verbose=2, validation_data=(Xval,one_hot_val_labels), validation_freq=1)\n",
        "\n",
        "clasmodl1.summary()"
      ],
      "metadata": {
        "id": "WtxZSngFg18y"
      },
      "execution_count": null,
      "outputs": []
    },
    {
      "cell_type": "code",
      "source": [
        "plot_model_history(clasmodl1_history)"
      ],
      "metadata": {
        "id": "YtqhflJ_x_D2"
      },
      "execution_count": null,
      "outputs": []
    },
    {
      "cell_type": "markdown",
      "source": [
        "## Classification Model 2"
      ],
      "metadata": {
        "id": "LPufeNyog7yY"
      }
    },
    {
      "cell_type": "code",
      "source": [
        "# Model number 2\n",
        "def build_clasmod2():\n",
        "  model = keras.Sequential([\n",
        "    layers.Dense(32,  activation=\"relu\"),\n",
        "    layers.Dense(8, activation=\"relu\"),\n",
        "    layers.Dense(4,  activation=\"softmax\")\n",
        "  ])\n",
        "  model.compile(optimizer=\"rmsprop\", loss=\"binary_crossentropy\", metrics=[\"accuracy\"]) \n",
        "  return model\n",
        "\n",
        "clasmodl2 = build_clasmod2()\n",
        "\n",
        "clasmodl2_history = clasmodl2.fit(x=Xtrain, y=one_hot_train_labels, batch_size=32, epochs=25, verbose=2, validation_data=(Xval,one_hot_val_labels), validation_freq=1)\n",
        "\n",
        "clasmodl2.summary()"
      ],
      "metadata": {
        "id": "E41xCAOog9VF"
      },
      "execution_count": null,
      "outputs": []
    },
    {
      "cell_type": "code",
      "source": [
        "plot_model_history(clasmodl2_history)"
      ],
      "metadata": {
        "id": "4nAqT62FMN5j"
      },
      "execution_count": null,
      "outputs": []
    },
    {
      "cell_type": "markdown",
      "source": [
        "## Classification Model 3"
      ],
      "metadata": {
        "id": "DNpn6zV1g_gl"
      }
    },
    {
      "cell_type": "code",
      "source": [
        "# Model number 2\n",
        "def build_clasmod3():\n",
        "  model = keras.Sequential([\n",
        "    layers.Dense(32,  activation=\"relu\"),\n",
        "    layers.Dense(8, activation=\"relu\"),\n",
        "    layers.Dense(4,  activation=\"softmax\")\n",
        "  ])\n",
        "  model.compile(optimizer=\"rmsprop\", loss=\"binary_crossentropy\", metrics=[\"accuracy\"]) \n",
        "  return model\n",
        "\n",
        "clasmodl3 = build_clasmod2()\n",
        "\n",
        "clasmodl3_history = clasmodl3.fit(x=Xtrain, y=one_hot_train_labels, batch_size=32, epochs=25, verbose=2, validation_data=(Xval,one_hot_val_labels), validation_freq=1)\n",
        "\n",
        "clasmodl3.summary()"
      ],
      "metadata": {
        "id": "N88gwpRahBnA"
      },
      "execution_count": null,
      "outputs": []
    },
    {
      "cell_type": "code",
      "source": [
        "plot_model_history(clasmodl3_history)"
      ],
      "metadata": {
        "id": "8UOmU6IjMRMU"
      },
      "execution_count": null,
      "outputs": []
    },
    {
      "cell_type": "code",
      "source": [
        "from prettytable import PrettyTable\n",
        "\n",
        "predictions = clasmodl3.predict(Xtst)\n",
        "\n",
        "\n",
        "\n",
        "table = PrettyTable(['Pattern #', 'f1', 'f2', 'f3', 'f4', 'f5', 'f6', 'f7', 'f8', 'f9', 'f10', 'f11', 'f12', 'Activation', 'Target', 'Hit Ratio'])\n",
        "\n",
        "\n",
        "for i in range(10):\n",
        "  hitRatio = predictions[i].round()\n",
        "\n",
        "  table.add_row([i, Xtst[i][0], Xtst[i][1], Xtst[2], Xtst[3], Xtst[i][4], Xtst[i][5], Xtst[6], Xtst[7], Xtst[i][8], Xtst[i][9], Xtst[10], Xtst[11], predictions[i], one_hot_tst_labels[i], hitRatio])\n",
        "\n"
      ],
      "metadata": {
        "colab": {
          "base_uri": "https://localhost:8080/",
          "height": 217
        },
        "id": "Sg_X2ierMV1h",
        "outputId": "7f09689d-1ae1-4426-b256-51c14b46712d"
      },
      "execution_count": 173,
      "outputs": [
        {
          "output_type": "error",
          "ename": "IndexError",
          "evalue": "ignored",
          "traceback": [
            "\u001b[0;31m---------------------------------------------------------------------------\u001b[0m",
            "\u001b[0;31mIndexError\u001b[0m                                Traceback (most recent call last)",
            "\u001b[0;32m<ipython-input-173-5d7cda5ee69a>\u001b[0m in \u001b[0;36m<module>\u001b[0;34m()\u001b[0m\n\u001b[1;32m     11\u001b[0m   \u001b[0mhitRatio\u001b[0m \u001b[0;34m=\u001b[0m \u001b[0mpredictions\u001b[0m\u001b[0;34m[\u001b[0m\u001b[0mi\u001b[0m\u001b[0;34m]\u001b[0m\u001b[0;34m.\u001b[0m\u001b[0mround\u001b[0m\u001b[0;34m(\u001b[0m\u001b[0;34m)\u001b[0m\u001b[0;34m\u001b[0m\u001b[0;34m\u001b[0m\u001b[0m\n\u001b[1;32m     12\u001b[0m \u001b[0;34m\u001b[0m\u001b[0m\n\u001b[0;32m---> 13\u001b[0;31m   \u001b[0mtable\u001b[0m\u001b[0;34m.\u001b[0m\u001b[0madd_row\u001b[0m\u001b[0;34m(\u001b[0m\u001b[0;34m[\u001b[0m\u001b[0mi\u001b[0m\u001b[0;34m,\u001b[0m \u001b[0mXtst\u001b[0m\u001b[0;34m[\u001b[0m\u001b[0mi\u001b[0m\u001b[0;34m]\u001b[0m\u001b[0;34m[\u001b[0m\u001b[0;36m0\u001b[0m\u001b[0;34m]\u001b[0m\u001b[0;34m,\u001b[0m \u001b[0mXtst\u001b[0m\u001b[0;34m[\u001b[0m\u001b[0mi\u001b[0m\u001b[0;34m]\u001b[0m\u001b[0;34m[\u001b[0m\u001b[0;36m1\u001b[0m\u001b[0;34m]\u001b[0m\u001b[0;34m,\u001b[0m \u001b[0mXtst\u001b[0m\u001b[0;34m[\u001b[0m\u001b[0;36m2\u001b[0m\u001b[0;34m]\u001b[0m\u001b[0;34m,\u001b[0m \u001b[0mXtst\u001b[0m\u001b[0;34m[\u001b[0m\u001b[0;36m3\u001b[0m\u001b[0;34m]\u001b[0m\u001b[0;34m,\u001b[0m \u001b[0mXtst\u001b[0m\u001b[0;34m[\u001b[0m\u001b[0mi\u001b[0m\u001b[0;34m]\u001b[0m\u001b[0;34m[\u001b[0m\u001b[0;36m4\u001b[0m\u001b[0;34m]\u001b[0m\u001b[0;34m,\u001b[0m \u001b[0mXtst\u001b[0m\u001b[0;34m[\u001b[0m\u001b[0mi\u001b[0m\u001b[0;34m]\u001b[0m\u001b[0;34m[\u001b[0m\u001b[0;36m5\u001b[0m\u001b[0;34m]\u001b[0m\u001b[0;34m,\u001b[0m \u001b[0mXtst\u001b[0m\u001b[0;34m[\u001b[0m\u001b[0;36m6\u001b[0m\u001b[0;34m]\u001b[0m\u001b[0;34m,\u001b[0m \u001b[0mXtst\u001b[0m\u001b[0;34m[\u001b[0m\u001b[0;36m7\u001b[0m\u001b[0;34m]\u001b[0m\u001b[0;34m,\u001b[0m \u001b[0mXtst\u001b[0m\u001b[0;34m[\u001b[0m\u001b[0mi\u001b[0m\u001b[0;34m]\u001b[0m\u001b[0;34m[\u001b[0m\u001b[0;36m8\u001b[0m\u001b[0;34m]\u001b[0m\u001b[0;34m,\u001b[0m \u001b[0mXtst\u001b[0m\u001b[0;34m[\u001b[0m\u001b[0mi\u001b[0m\u001b[0;34m]\u001b[0m\u001b[0;34m[\u001b[0m\u001b[0;36m9\u001b[0m\u001b[0;34m]\u001b[0m\u001b[0;34m,\u001b[0m \u001b[0mXtst\u001b[0m\u001b[0;34m[\u001b[0m\u001b[0;36m10\u001b[0m\u001b[0;34m]\u001b[0m\u001b[0;34m,\u001b[0m \u001b[0mXtst\u001b[0m\u001b[0;34m[\u001b[0m\u001b[0;36m11\u001b[0m\u001b[0;34m]\u001b[0m\u001b[0;34m,\u001b[0m \u001b[0mpredictions\u001b[0m\u001b[0;34m[\u001b[0m\u001b[0mi\u001b[0m\u001b[0;34m]\u001b[0m\u001b[0;34m,\u001b[0m \u001b[0mone_hot_tst_labels\u001b[0m\u001b[0;34m[\u001b[0m\u001b[0mi\u001b[0m\u001b[0;34m]\u001b[0m\u001b[0;34m,\u001b[0m \u001b[0mhitRatio\u001b[0m\u001b[0;34m]\u001b[0m\u001b[0;34m)\u001b[0m\u001b[0;34m\u001b[0m\u001b[0;34m\u001b[0m\u001b[0m\n\u001b[0m\u001b[1;32m     14\u001b[0m \u001b[0;34m\u001b[0m\u001b[0m\n",
            "\u001b[0;31mIndexError\u001b[0m: index 10 is out of bounds for axis 0 with size 10"
          ]
        }
      ]
    }
  ]
}