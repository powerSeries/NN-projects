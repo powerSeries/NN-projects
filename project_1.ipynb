{
  "nbformat": 4,
  "nbformat_minor": 0,
  "metadata": {
    "colab": {
      "name": "project-1.ipynb",
      "provenance": [],
      "collapsed_sections": [],
      "include_colab_link": true
    },
    "kernelspec": {
      "display_name": "Python 3",
      "name": "python3"
    }
  },
  "cells": [
    {
      "cell_type": "markdown",
      "metadata": {
        "id": "view-in-github",
        "colab_type": "text"
      },
      "source": [
        "<a href=\"https://colab.research.google.com/github/powerSeries/NN-projects/blob/main/project_1.ipynb\" target=\"_parent\"><img src=\"https://colab.research.google.com/assets/colab-badge.svg\" alt=\"Open In Colab\"/></a>"
      ]
    },
    {
      "cell_type": "markdown",
      "metadata": {
        "id": "vB3bHSucPIVs"
      },
      "source": [
        "Abbreviated data preparation for the Wine Quality Problem (Project 1)"
      ]
    },
    {
      "cell_type": "code",
      "metadata": {
        "id": "XrcPuh9-KY0j"
      },
      "source": [
        "# Import Required Libraries  \n",
        "import matplotlib.pyplot as plt \n",
        "import numpy as np \n",
        "# This time we need to also import pandas\n",
        "import pandas as pd \n",
        "\n",
        "# Read in white wine data \n",
        "# USES PANDAS (pd) to create a PANDAS DataFrame OBJECT:\n",
        "white = pd.read_csv(\"http://archive.ics.uci.edu/ml/machine-learning-databases/wine-quality/winequality-white.csv\", sep =';') \n",
        "\n",
        "# Read in red wine data \n",
        "# USES PANDAS (pd) to create a PANDAS DataFrame OBJECT:\n",
        "red = pd.read_csv(\"http://archive.ics.uci.edu/ml/machine-learning-databases/wine-quality/winequality-red.csv\", sep =';') \n",
        "\n",
        "# Add `type` column to `red` with price one  - done with PANDAS\n",
        "red['type'] = 1\n",
        "  \n",
        "# Add `type` column to `white` with price zero - done with PANDAS \n",
        "white['type'] = 0\n",
        "  \n",
        "# Append `white` to `red` - done with PANDAS\n",
        "# AFTER THIS WE HAVE ALL WINES (red and white) in a SINGLE pandas DataFrame\n",
        "wines = red.append(white, ignore_index = True) \n",
        "\n",
        "# Import SKLEARN\n",
        "import sklearn\n",
        "# Import `train_test_split` from `sklearn.model_selection` \n",
        "from sklearn.model_selection import train_test_split \n",
        "\n",
        "# Specify the  data - \n",
        "X1 = wines.iloc[:, 0:11]\n",
        "X2 = wines.iloc[:,12]\n",
        "X = pd.concat([X1,X2],axis = 1)\n",
        "\n",
        "# Specify the QUALITY target labels and flatten the array \n",
        "y = np.ravel(wines.quality) \n",
        "\n",
        "# Splitting the data set for training and validating  - Done with SKLEARN\n",
        "X_train, X_valid, y_train, y_valid = train_test_split( \n",
        "                 X, y, test_size = 0.25, random_state = 45) \n"
      ],
      "execution_count": 1,
      "outputs": []
    },
    {
      "cell_type": "code",
      "source": [
        "# CONVERTING X_train & X_test DataFrame s to TF tensors\n",
        "# Will USE NumPy, TF & Keras after this\n",
        "# import tensorflow as tf \n",
        "\n",
        "Xtrain = X_train.to_numpy()\n",
        "X_valid = X_valid.to_numpy()"
      ],
      "metadata": {
        "id": "AYtcmE0J4qQb"
      },
      "execution_count": 2,
      "outputs": []
    },
    {
      "cell_type": "code",
      "source": [
        "# In reality:\n",
        "# [1] ALL THE Xtrain patterns (with their y_train targets) \n",
        "# will be used for TRAINING ([TR]), as Xtrain & y_train\n",
        "# [2] MOST OF THE X_valid patterns (and their y_valid targets) \n",
        "#  will be used for VALIDATION ([TT]),  as X_val & y_val\n",
        "# BUT WE WILL SET ASIDE THE LAST 10 for \"testing\" ([TS])\n",
        "#  as X_tst & y_tst"
      ],
      "metadata": {
        "id": "qpHhdmJN6HVq"
      },
      "execution_count": 3,
      "outputs": []
    },
    {
      "cell_type": "code",
      "source": [
        "# To separate the last 10 in X_valid, let's first see the shape of X_valid\n",
        "X_valid.shape"
      ],
      "metadata": {
        "colab": {
          "base_uri": "https://localhost:8080/"
        },
        "id": "T10AK-Ip7YMb",
        "outputId": "a3aee37d-0d0b-4301-a869-014d871abce8"
      },
      "execution_count": 4,
      "outputs": [
        {
          "output_type": "execute_result",
          "data": {
            "text/plain": [
              "(1625, 12)"
            ]
          },
          "metadata": {},
          "execution_count": 4
        }
      ]
    },
    {
      "cell_type": "code",
      "source": [
        "# And verify also the shape of y_valid\n",
        "y_valid.shape"
      ],
      "metadata": {
        "colab": {
          "base_uri": "https://localhost:8080/"
        },
        "id": "Gj64QrXI7npC",
        "outputId": "fbb8aff7-2da0-4637-b310-3262cb0f0626"
      },
      "execution_count": 5,
      "outputs": [
        {
          "output_type": "execute_result",
          "data": {
            "text/plain": [
              "(1625,)"
            ]
          },
          "metadata": {},
          "execution_count": 5
        }
      ]
    },
    {
      "cell_type": "code",
      "source": [
        "# Retain the first 1615 for validation ([TT])\n",
        "Xval = X_valid[:1615]\n",
        "Xval.shape"
      ],
      "metadata": {
        "colab": {
          "base_uri": "https://localhost:8080/"
        },
        "id": "2jDS0FsF739z",
        "outputId": "2a62415a-9567-461a-c329-397995340b46"
      },
      "execution_count": 6,
      "outputs": [
        {
          "output_type": "execute_result",
          "data": {
            "text/plain": [
              "(1615, 12)"
            ]
          },
          "metadata": {},
          "execution_count": 6
        }
      ]
    },
    {
      "cell_type": "code",
      "source": [
        "# and now set aside the last 10 for \"test\"\n",
        "Xtst = X_valid[1615:]\n",
        "Xtst.shape"
      ],
      "metadata": {
        "colab": {
          "base_uri": "https://localhost:8080/"
        },
        "id": "C_zJIn2Z-AS6",
        "outputId": "97988a6f-aa54-4d0a-c4ac-82de02fc1c34"
      },
      "execution_count": 7,
      "outputs": [
        {
          "output_type": "execute_result",
          "data": {
            "text/plain": [
              "(10, 12)"
            ]
          },
          "metadata": {},
          "execution_count": 7
        }
      ]
    },
    {
      "cell_type": "code",
      "source": [
        "# SAME FOR THE CORRESPONDING TARGETS\n",
        "# Retain the first 1615 for validation ([TT])\n",
        "y_val = y_valid[:1615]\n",
        "y_val.shape"
      ],
      "metadata": {
        "colab": {
          "base_uri": "https://localhost:8080/"
        },
        "id": "YlrWhyX1-qQa",
        "outputId": "4edb33bf-db0f-4791-e9f3-8d0620380475"
      },
      "execution_count": 8,
      "outputs": [
        {
          "output_type": "execute_result",
          "data": {
            "text/plain": [
              "(1615,)"
            ]
          },
          "metadata": {},
          "execution_count": 8
        }
      ]
    },
    {
      "cell_type": "code",
      "source": [
        "y_tst = y_valid[1615:]\n",
        "y_tst.shape"
      ],
      "metadata": {
        "colab": {
          "base_uri": "https://localhost:8080/"
        },
        "id": "yesLMjKx--2r",
        "outputId": "2c4caa8a-16e6-4e1c-d6fa-ffeaa3f3477b"
      },
      "execution_count": 9,
      "outputs": [
        {
          "output_type": "execute_result",
          "data": {
            "text/plain": [
              "(10,)"
            ]
          },
          "metadata": {},
          "execution_count": 9
        }
      ]
    },
    {
      "cell_type": "code",
      "source": [
        "y_tst"
      ],
      "metadata": {
        "colab": {
          "base_uri": "https://localhost:8080/"
        },
        "id": "QOIgFLku-2mr",
        "outputId": "65c7cd8b-eca1-44b2-95f2-29592cb8031f"
      },
      "execution_count": 10,
      "outputs": [
        {
          "output_type": "execute_result",
          "data": {
            "text/plain": [
              "array([5, 5, 7, 6, 5, 5, 6, 6, 7, 6])"
            ]
          },
          "metadata": {},
          "execution_count": 10
        }
      ]
    },
    {
      "cell_type": "code",
      "source": [
        " # NOW, IN ADDITION, CREATE THE TARGETS AS ONE-HOT-ENCODED 4 quality LEVELS"
      ],
      "metadata": {
        "id": "3zfsQQNn6ABr"
      },
      "execution_count": 11,
      "outputs": []
    },
    {
      "cell_type": "code",
      "metadata": {
        "colab": {
          "base_uri": "https://localhost:8080/"
        },
        "id": "HImrn2sHKvz_",
        "outputId": "83b98414-e3e0-43f0-961e-a3dd97093645"
      },
      "source": [
        "# We will track these few targets through the conversion process\n",
        "y_train[272:283]"
      ],
      "execution_count": 12,
      "outputs": [
        {
          "output_type": "execute_result",
          "data": {
            "text/plain": [
              "array([5, 4, 6, 5, 5, 6, 7, 6, 5, 8, 5])"
            ]
          },
          "metadata": {},
          "execution_count": 12
        }
      ]
    },
    {
      "cell_type": "code",
      "source": [
        "# Function create rank-1 arrays where 3,4,5,6,7,8,9 are mapped to 1 or 2 or 3 or 4 \n",
        "def to_4cs(x):\n",
        "  lx = len(x)\n",
        "  results = np.zeros(lx)\n",
        "  for i in range(lx):\n",
        "      # print( \"start\")\n",
        "      xa = x[i];\n",
        "      if xa <= 3:\n",
        "          results[i] = 1      # 1, 2 and 3 map to Q-LEVEL 1 ( BAD Wine)\n",
        "      elif xa <=6:\n",
        "          results[i] = 2      # 4, 5 and 6 map to Q-LEVEL 2  (MEDIUM Wine)\n",
        "      elif xa <=8:\n",
        "          results[i] = 3      # 7 and 8 and 6 map to Q-LEVEL 3  (GOOD Wine)\n",
        "      else:\n",
        "          results[i] = 4      # 9 and above map to Q-LEVEL 4  (EXCELLENT Wine)\n",
        "    # results[i, label] = 1.\n",
        "  results = results.astype(int)\n",
        "  return results"
      ],
      "metadata": {
        "id": "iB1RjHR7PQD7"
      },
      "execution_count": 13,
      "outputs": []
    },
    {
      "cell_type": "code",
      "source": [
        "train_labels = to_4cs(y_train)\n",
        "val_labels = to_4cs(y_val)\n",
        "tst_labels = to_4cs(y_tst)"
      ],
      "metadata": {
        "id": "LhSoZ0b9Ptyj"
      },
      "execution_count": 14,
      "outputs": []
    },
    {
      "cell_type": "code",
      "metadata": {
        "colab": {
          "base_uri": "https://localhost:8080/"
        },
        "id": "RmSc8yQ5NgQe",
        "outputId": "bd2f30bd-2aec-4e7f-e310-7afe99230777"
      },
      "source": [
        "\n",
        "# Let's verify that the trainnig targets that we are tracking\n",
        "# were converted to levels (1 = BAD; 2 = MEDIUM; 3 = GOOD; 4- EXCELLENT) correctly:\n",
        "train_labels[272:283]"
      ],
      "execution_count": 15,
      "outputs": [
        {
          "output_type": "execute_result",
          "data": {
            "text/plain": [
              "array([2, 2, 2, 2, 2, 2, 3, 2, 2, 3, 2])"
            ]
          },
          "metadata": {},
          "execution_count": 15
        }
      ]
    },
    {
      "cell_type": "code",
      "metadata": {
        "id": "Cs-J7sRmKhGf"
      },
      "source": [
        "# NOW, ONE-HOT ENCODING OF ALL 3  TARGET ARRAYS\n",
        "# define a function to do the one-hot-encoding of output labels\n",
        "\n",
        "def to_one_hot(labels, dimension=4):\n",
        "    results = np.zeros((len(labels), dimension))\n",
        "    for i, label in enumerate(labels-1):\n",
        "        results[i, label] = 1.\n",
        "    return results\n",
        "\n",
        "one_hot_train_labels = to_one_hot(train_labels)\n",
        "one_hot_val_labels = to_one_hot(val_labels)\n",
        "one_hot_tst_labels = to_one_hot(tst_labels)"
      ],
      "execution_count": 16,
      "outputs": []
    },
    {
      "cell_type": "code",
      "source": [
        "#Let's verify that the training targets we have tracked were\n",
        "# one-hot encoded correctly\n",
        "one_hot_train_labels[272:283,]"
      ],
      "metadata": {
        "colab": {
          "base_uri": "https://localhost:8080/"
        },
        "id": "Mk1q-JDyBChj",
        "outputId": "0152ada8-2995-4226-c315-bf4ca408bd03"
      },
      "execution_count": 17,
      "outputs": [
        {
          "output_type": "execute_result",
          "data": {
            "text/plain": [
              "array([[0., 1., 0., 0.],\n",
              "       [0., 1., 0., 0.],\n",
              "       [0., 1., 0., 0.],\n",
              "       [0., 1., 0., 0.],\n",
              "       [0., 1., 0., 0.],\n",
              "       [0., 1., 0., 0.],\n",
              "       [0., 0., 1., 0.],\n",
              "       [0., 1., 0., 0.],\n",
              "       [0., 1., 0., 0.],\n",
              "       [0., 0., 1., 0.],\n",
              "       [0., 1., 0., 0.]])"
            ]
          },
          "metadata": {},
          "execution_count": 17
        }
      ]
    },
    {
      "cell_type": "code",
      "source": [
        "# SO, AFTER EXECUTING THIS CELL, YOU WILL HAVE:\n",
        "# FOR TRAINING:\n",
        "#  Xtrain (4872, 12)...y_train (4872,)...train_labels(4872,)....one_hot_train_labels (4872,4)\n",
        "# FOR VALIDATING:\n",
        "#  Xval (1615, 12)...y_val (1615,)...val_labels(1615,)...one_hot_val_labels (1615,4)\n",
        "# FOR TESTING:\n",
        "#  Xtst (10, 12)...y_tst (10,)...tst_labels(10,)... one_hot_tst_labels (10,4)\n",
        "# PLEASE DO NOT CHANGE THE NAMES OF THESE VARIABLES (So that instructor can use them)"
      ],
      "metadata": {
        "id": "FfIxlsEISc5W"
      },
      "execution_count": 18,
      "outputs": []
    },
    {
      "cell_type": "markdown",
      "source": [
        " ++++  END OF THE DATA PREPARATION PART ++++ \n"
      ],
      "metadata": {
        "id": "Bq_9V9XCSd6t"
      }
    },
    {
      "cell_type": "markdown",
      "source": [
        "# Part 2: Regression Model"
      ],
      "metadata": {
        "id": "6Vt3n82EaN98"
      }
    },
    {
      "cell_type": "markdown",
      "source": [
        "### Regression Model 1"
      ],
      "metadata": {
        "id": "saL8T2q2K0Rv"
      }
    },
    {
      "cell_type": "code",
      "source": [
        "# import libraries\n",
        "from tensorflow import keras\n",
        "from tensorflow.keras import layers\n",
        "\n",
        "def build_regmodl1():\n",
        "  regmodl1 = keras.Sequential([\n",
        "    layers.Dense(512, activation=\"relu\"),\n",
        "    layers.Dense(8, activation=\"relu\"),\n",
        "    layers.Dense(1),\n",
        "  ])\n",
        "  regmodl1.compile(optimizer=\"rmsprop\", loss=\"mse\", metrics=[\"mae\"])\n",
        "  return regmodl1\n",
        "\n",
        "# Builld the model\n",
        "regmod1 = build_regmodl1()\n",
        "\n",
        "# Run fit and store data\n",
        "regmodl1_history = regmod1.fit(x=Xtrain, y=train_labels, epochs=100, verbose=2, validation_data=(Xval, val_labels))\n",
        "\n",
        "# Show Model Summary\n",
        "regmod1.summary()"
      ],
      "metadata": {
        "id": "WBdR9tpWdYcs",
        "outputId": "621ba1a6-07de-4c44-b28f-14811a1147d4",
        "colab": {
          "base_uri": "https://localhost:8080/"
        }
      },
      "execution_count": 19,
      "outputs": [
        {
          "output_type": "stream",
          "name": "stdout",
          "text": [
            "Epoch 1/100\n",
            "153/153 - 3s - loss: 4.0530 - mae: 1.6416 - val_loss: 0.4017 - val_mae: 0.5656 - 3s/epoch - 17ms/step\n",
            "Epoch 2/100\n",
            "153/153 - 1s - loss: 2.0459 - mae: 1.1814 - val_loss: 0.8376 - val_mae: 0.7625 - 626ms/epoch - 4ms/step\n",
            "Epoch 3/100\n",
            "153/153 - 1s - loss: 1.2514 - mae: 0.8912 - val_loss: 3.0850 - val_mae: 1.6039 - 574ms/epoch - 4ms/step\n",
            "Epoch 4/100\n",
            "153/153 - 1s - loss: 0.9840 - mae: 0.7669 - val_loss: 2.0220 - val_mae: 1.2526 - 689ms/epoch - 5ms/step\n",
            "Epoch 5/100\n",
            "153/153 - 1s - loss: 0.7223 - mae: 0.6718 - val_loss: 0.7381 - val_mae: 0.7164 - 670ms/epoch - 4ms/step\n",
            "Epoch 6/100\n",
            "153/153 - 1s - loss: 0.5543 - mae: 0.5845 - val_loss: 0.8515 - val_mae: 0.7992 - 573ms/epoch - 4ms/step\n",
            "Epoch 7/100\n",
            "153/153 - 1s - loss: 0.4599 - mae: 0.5258 - val_loss: 0.5440 - val_mae: 0.6041 - 839ms/epoch - 5ms/step\n",
            "Epoch 8/100\n",
            "153/153 - 1s - loss: 0.3678 - mae: 0.4790 - val_loss: 0.5290 - val_mae: 0.6229 - 851ms/epoch - 6ms/step\n",
            "Epoch 9/100\n",
            "153/153 - 1s - loss: 0.3272 - mae: 0.4438 - val_loss: 0.5963 - val_mae: 0.6358 - 892ms/epoch - 6ms/step\n",
            "Epoch 10/100\n",
            "153/153 - 1s - loss: 0.2925 - mae: 0.4168 - val_loss: 0.1678 - val_mae: 0.3591 - 804ms/epoch - 5ms/step\n",
            "Epoch 11/100\n",
            "153/153 - 1s - loss: 0.2514 - mae: 0.3883 - val_loss: 0.1473 - val_mae: 0.2725 - 844ms/epoch - 6ms/step\n",
            "Epoch 12/100\n",
            "153/153 - 1s - loss: 0.2503 - mae: 0.3871 - val_loss: 0.1451 - val_mae: 0.2800 - 541ms/epoch - 4ms/step\n",
            "Epoch 13/100\n",
            "153/153 - 1s - loss: 0.2312 - mae: 0.3654 - val_loss: 0.1687 - val_mae: 0.2700 - 575ms/epoch - 4ms/step\n",
            "Epoch 14/100\n",
            "153/153 - 1s - loss: 0.2057 - mae: 0.3450 - val_loss: 0.1589 - val_mae: 0.2632 - 888ms/epoch - 6ms/step\n",
            "Epoch 15/100\n",
            "153/153 - 1s - loss: 0.1923 - mae: 0.3372 - val_loss: 0.3759 - val_mae: 0.5327 - 765ms/epoch - 5ms/step\n",
            "Epoch 16/100\n",
            "153/153 - 1s - loss: 0.1831 - mae: 0.3293 - val_loss: 0.2544 - val_mae: 0.4461 - 622ms/epoch - 4ms/step\n",
            "Epoch 17/100\n",
            "153/153 - 1s - loss: 0.1789 - mae: 0.3229 - val_loss: 0.2129 - val_mae: 0.4216 - 615ms/epoch - 4ms/step\n",
            "Epoch 18/100\n",
            "153/153 - 1s - loss: 0.1783 - mae: 0.3249 - val_loss: 0.3932 - val_mae: 0.4902 - 625ms/epoch - 4ms/step\n",
            "Epoch 19/100\n",
            "153/153 - 1s - loss: 0.1688 - mae: 0.3152 - val_loss: 0.1967 - val_mae: 0.3130 - 636ms/epoch - 4ms/step\n",
            "Epoch 20/100\n",
            "153/153 - 1s - loss: 0.1680 - mae: 0.3131 - val_loss: 0.2010 - val_mae: 0.4024 - 947ms/epoch - 6ms/step\n",
            "Epoch 21/100\n",
            "153/153 - 1s - loss: 0.1612 - mae: 0.3094 - val_loss: 0.1417 - val_mae: 0.2839 - 679ms/epoch - 4ms/step\n",
            "Epoch 22/100\n",
            "153/153 - 1s - loss: 0.1575 - mae: 0.3014 - val_loss: 0.2961 - val_mae: 0.4829 - 650ms/epoch - 4ms/step\n",
            "Epoch 23/100\n",
            "153/153 - 1s - loss: 0.1559 - mae: 0.3014 - val_loss: 0.2519 - val_mae: 0.3659 - 755ms/epoch - 5ms/step\n",
            "Epoch 24/100\n",
            "153/153 - 1s - loss: 0.1543 - mae: 0.2988 - val_loss: 0.1463 - val_mae: 0.2613 - 515ms/epoch - 3ms/step\n",
            "Epoch 25/100\n",
            "153/153 - 0s - loss: 0.1534 - mae: 0.2991 - val_loss: 0.2561 - val_mae: 0.3707 - 497ms/epoch - 3ms/step\n",
            "Epoch 26/100\n",
            "153/153 - 0s - loss: 0.1501 - mae: 0.2947 - val_loss: 0.1717 - val_mae: 0.3674 - 309ms/epoch - 2ms/step\n",
            "Epoch 27/100\n",
            "153/153 - 0s - loss: 0.1493 - mae: 0.2942 - val_loss: 0.1456 - val_mae: 0.3171 - 310ms/epoch - 2ms/step\n",
            "Epoch 28/100\n",
            "153/153 - 0s - loss: 0.1490 - mae: 0.2930 - val_loss: 0.2387 - val_mae: 0.3520 - 313ms/epoch - 2ms/step\n",
            "Epoch 29/100\n",
            "153/153 - 0s - loss: 0.1479 - mae: 0.2902 - val_loss: 0.1688 - val_mae: 0.3671 - 304ms/epoch - 2ms/step\n",
            "Epoch 30/100\n",
            "153/153 - 0s - loss: 0.1470 - mae: 0.2891 - val_loss: 0.1718 - val_mae: 0.3662 - 315ms/epoch - 2ms/step\n",
            "Epoch 31/100\n",
            "153/153 - 0s - loss: 0.1452 - mae: 0.2900 - val_loss: 0.1443 - val_mae: 0.3115 - 332ms/epoch - 2ms/step\n",
            "Epoch 32/100\n",
            "153/153 - 0s - loss: 0.1454 - mae: 0.2881 - val_loss: 0.1814 - val_mae: 0.3798 - 326ms/epoch - 2ms/step\n",
            "Epoch 33/100\n",
            "153/153 - 0s - loss: 0.1438 - mae: 0.2836 - val_loss: 0.1945 - val_mae: 0.3895 - 315ms/epoch - 2ms/step\n",
            "Epoch 34/100\n",
            "153/153 - 0s - loss: 0.1431 - mae: 0.2854 - val_loss: 0.1395 - val_mae: 0.2887 - 297ms/epoch - 2ms/step\n",
            "Epoch 35/100\n",
            "153/153 - 0s - loss: 0.1415 - mae: 0.2842 - val_loss: 0.1903 - val_mae: 0.3892 - 318ms/epoch - 2ms/step\n",
            "Epoch 36/100\n",
            "153/153 - 0s - loss: 0.1393 - mae: 0.2793 - val_loss: 0.2328 - val_mae: 0.3494 - 301ms/epoch - 2ms/step\n",
            "Epoch 37/100\n",
            "153/153 - 0s - loss: 0.1417 - mae: 0.2829 - val_loss: 0.1384 - val_mae: 0.2858 - 292ms/epoch - 2ms/step\n",
            "Epoch 38/100\n",
            "153/153 - 0s - loss: 0.1415 - mae: 0.2830 - val_loss: 0.1451 - val_mae: 0.2640 - 310ms/epoch - 2ms/step\n",
            "Epoch 39/100\n",
            "153/153 - 0s - loss: 0.1395 - mae: 0.2806 - val_loss: 0.2297 - val_mae: 0.4359 - 299ms/epoch - 2ms/step\n",
            "Epoch 40/100\n",
            "153/153 - 0s - loss: 0.1394 - mae: 0.2810 - val_loss: 0.1383 - val_mae: 0.2777 - 304ms/epoch - 2ms/step\n",
            "Epoch 41/100\n",
            "153/153 - 0s - loss: 0.1403 - mae: 0.2812 - val_loss: 0.1433 - val_mae: 0.2689 - 387ms/epoch - 3ms/step\n",
            "Epoch 42/100\n",
            "153/153 - 0s - loss: 0.1384 - mae: 0.2785 - val_loss: 0.1868 - val_mae: 0.3072 - 309ms/epoch - 2ms/step\n",
            "Epoch 43/100\n",
            "153/153 - 0s - loss: 0.1392 - mae: 0.2810 - val_loss: 0.1478 - val_mae: 0.2623 - 297ms/epoch - 2ms/step\n",
            "Epoch 44/100\n",
            "153/153 - 0s - loss: 0.1385 - mae: 0.2795 - val_loss: 0.1450 - val_mae: 0.3149 - 310ms/epoch - 2ms/step\n",
            "Epoch 45/100\n",
            "153/153 - 0s - loss: 0.1377 - mae: 0.2781 - val_loss: 0.2023 - val_mae: 0.4059 - 301ms/epoch - 2ms/step\n",
            "Epoch 46/100\n",
            "153/153 - 0s - loss: 0.1379 - mae: 0.2791 - val_loss: 0.1527 - val_mae: 0.2621 - 299ms/epoch - 2ms/step\n",
            "Epoch 47/100\n",
            "153/153 - 0s - loss: 0.1376 - mae: 0.2778 - val_loss: 0.1488 - val_mae: 0.3252 - 297ms/epoch - 2ms/step\n",
            "Epoch 48/100\n",
            "153/153 - 0s - loss: 0.1368 - mae: 0.2771 - val_loss: 0.1373 - val_mae: 0.2847 - 305ms/epoch - 2ms/step\n",
            "Epoch 49/100\n",
            "153/153 - 0s - loss: 0.1385 - mae: 0.2800 - val_loss: 0.1430 - val_mae: 0.2707 - 301ms/epoch - 2ms/step\n",
            "Epoch 50/100\n",
            "153/153 - 0s - loss: 0.1359 - mae: 0.2752 - val_loss: 0.1418 - val_mae: 0.2619 - 299ms/epoch - 2ms/step\n",
            "Epoch 51/100\n",
            "153/153 - 0s - loss: 0.1378 - mae: 0.2765 - val_loss: 0.1673 - val_mae: 0.2770 - 310ms/epoch - 2ms/step\n",
            "Epoch 52/100\n",
            "153/153 - 0s - loss: 0.1364 - mae: 0.2773 - val_loss: 0.1767 - val_mae: 0.2927 - 297ms/epoch - 2ms/step\n",
            "Epoch 53/100\n",
            "153/153 - 0s - loss: 0.1377 - mae: 0.2777 - val_loss: 0.1719 - val_mae: 0.3670 - 322ms/epoch - 2ms/step\n",
            "Epoch 54/100\n",
            "153/153 - 0s - loss: 0.1358 - mae: 0.2760 - val_loss: 0.1372 - val_mae: 0.2728 - 312ms/epoch - 2ms/step\n",
            "Epoch 55/100\n",
            "153/153 - 0s - loss: 0.1372 - mae: 0.2764 - val_loss: 0.1499 - val_mae: 0.3287 - 300ms/epoch - 2ms/step\n",
            "Epoch 56/100\n",
            "153/153 - 0s - loss: 0.1358 - mae: 0.2759 - val_loss: 0.1518 - val_mae: 0.2671 - 308ms/epoch - 2ms/step\n",
            "Epoch 57/100\n",
            "153/153 - 0s - loss: 0.1356 - mae: 0.2757 - val_loss: 0.1604 - val_mae: 0.2752 - 302ms/epoch - 2ms/step\n",
            "Epoch 58/100\n",
            "153/153 - 0s - loss: 0.1361 - mae: 0.2750 - val_loss: 0.1716 - val_mae: 0.2869 - 324ms/epoch - 2ms/step\n",
            "Epoch 59/100\n",
            "153/153 - 0s - loss: 0.1345 - mae: 0.2748 - val_loss: 0.1695 - val_mae: 0.2744 - 306ms/epoch - 2ms/step\n",
            "Epoch 60/100\n",
            "153/153 - 0s - loss: 0.1359 - mae: 0.2752 - val_loss: 0.1380 - val_mae: 0.2722 - 312ms/epoch - 2ms/step\n",
            "Epoch 61/100\n",
            "153/153 - 0s - loss: 0.1340 - mae: 0.2732 - val_loss: 0.1809 - val_mae: 0.3837 - 307ms/epoch - 2ms/step\n",
            "Epoch 62/100\n",
            "153/153 - 0s - loss: 0.1345 - mae: 0.2745 - val_loss: 0.1632 - val_mae: 0.2725 - 386ms/epoch - 3ms/step\n",
            "Epoch 63/100\n",
            "153/153 - 0s - loss: 0.1351 - mae: 0.2746 - val_loss: 0.1750 - val_mae: 0.3698 - 330ms/epoch - 2ms/step\n",
            "Epoch 64/100\n",
            "153/153 - 0s - loss: 0.1350 - mae: 0.2746 - val_loss: 0.1448 - val_mae: 0.3159 - 335ms/epoch - 2ms/step\n",
            "Epoch 65/100\n",
            "153/153 - 0s - loss: 0.1346 - mae: 0.2748 - val_loss: 0.1755 - val_mae: 0.2894 - 320ms/epoch - 2ms/step\n",
            "Epoch 66/100\n",
            "153/153 - 0s - loss: 0.1346 - mae: 0.2735 - val_loss: 0.1484 - val_mae: 0.2622 - 325ms/epoch - 2ms/step\n",
            "Epoch 67/100\n",
            "153/153 - 0s - loss: 0.1352 - mae: 0.2745 - val_loss: 0.1593 - val_mae: 0.3487 - 320ms/epoch - 2ms/step\n",
            "Epoch 68/100\n",
            "153/153 - 0s - loss: 0.1342 - mae: 0.2737 - val_loss: 0.1381 - val_mae: 0.2933 - 306ms/epoch - 2ms/step\n",
            "Epoch 69/100\n",
            "153/153 - 0s - loss: 0.1331 - mae: 0.2724 - val_loss: 0.1745 - val_mae: 0.2865 - 311ms/epoch - 2ms/step\n",
            "Epoch 70/100\n",
            "153/153 - 0s - loss: 0.1347 - mae: 0.2738 - val_loss: 0.1784 - val_mae: 0.3730 - 311ms/epoch - 2ms/step\n",
            "Epoch 71/100\n",
            "153/153 - 0s - loss: 0.1334 - mae: 0.2717 - val_loss: 0.1805 - val_mae: 0.3854 - 295ms/epoch - 2ms/step\n",
            "Epoch 72/100\n",
            "153/153 - 0s - loss: 0.1347 - mae: 0.2742 - val_loss: 0.1354 - val_mae: 0.2822 - 302ms/epoch - 2ms/step\n",
            "Epoch 73/100\n",
            "153/153 - 0s - loss: 0.1346 - mae: 0.2736 - val_loss: 0.1533 - val_mae: 0.2674 - 381ms/epoch - 2ms/step\n",
            "Epoch 74/100\n",
            "153/153 - 0s - loss: 0.1347 - mae: 0.2741 - val_loss: 0.1395 - val_mae: 0.3012 - 316ms/epoch - 2ms/step\n",
            "Epoch 75/100\n",
            "153/153 - 0s - loss: 0.1334 - mae: 0.2721 - val_loss: 0.1395 - val_mae: 0.2696 - 308ms/epoch - 2ms/step\n",
            "Epoch 76/100\n",
            "153/153 - 0s - loss: 0.1344 - mae: 0.2730 - val_loss: 0.1567 - val_mae: 0.3452 - 388ms/epoch - 3ms/step\n",
            "Epoch 77/100\n",
            "153/153 - 0s - loss: 0.1320 - mae: 0.2710 - val_loss: 0.1407 - val_mae: 0.2624 - 301ms/epoch - 2ms/step\n",
            "Epoch 78/100\n",
            "153/153 - 0s - loss: 0.1345 - mae: 0.2733 - val_loss: 0.1437 - val_mae: 0.2667 - 306ms/epoch - 2ms/step\n",
            "Epoch 79/100\n",
            "153/153 - 0s - loss: 0.1335 - mae: 0.2719 - val_loss: 0.1544 - val_mae: 0.2713 - 302ms/epoch - 2ms/step\n",
            "Epoch 80/100\n",
            "153/153 - 0s - loss: 0.1324 - mae: 0.2727 - val_loss: 0.1781 - val_mae: 0.3786 - 310ms/epoch - 2ms/step\n",
            "Epoch 81/100\n",
            "153/153 - 0s - loss: 0.1333 - mae: 0.2721 - val_loss: 0.1900 - val_mae: 0.3915 - 297ms/epoch - 2ms/step\n",
            "Epoch 82/100\n",
            "153/153 - 0s - loss: 0.1329 - mae: 0.2715 - val_loss: 0.1511 - val_mae: 0.3342 - 383ms/epoch - 3ms/step\n",
            "Epoch 83/100\n",
            "153/153 - 0s - loss: 0.1347 - mae: 0.2731 - val_loss: 0.1410 - val_mae: 0.2657 - 322ms/epoch - 2ms/step\n",
            "Epoch 84/100\n",
            "153/153 - 0s - loss: 0.1330 - mae: 0.2720 - val_loss: 0.1752 - val_mae: 0.2937 - 303ms/epoch - 2ms/step\n",
            "Epoch 85/100\n",
            "153/153 - 0s - loss: 0.1326 - mae: 0.2701 - val_loss: 0.1361 - val_mae: 0.2685 - 301ms/epoch - 2ms/step\n",
            "Epoch 86/100\n",
            "153/153 - 0s - loss: 0.1319 - mae: 0.2704 - val_loss: 0.1403 - val_mae: 0.2660 - 320ms/epoch - 2ms/step\n",
            "Epoch 87/100\n",
            "153/153 - 0s - loss: 0.1321 - mae: 0.2705 - val_loss: 0.1513 - val_mae: 0.3301 - 318ms/epoch - 2ms/step\n",
            "Epoch 88/100\n",
            "153/153 - 0s - loss: 0.1329 - mae: 0.2706 - val_loss: 0.1405 - val_mae: 0.2922 - 316ms/epoch - 2ms/step\n",
            "Epoch 89/100\n",
            "153/153 - 0s - loss: 0.1330 - mae: 0.2727 - val_loss: 0.1388 - val_mae: 0.3015 - 314ms/epoch - 2ms/step\n",
            "Epoch 90/100\n",
            "153/153 - 0s - loss: 0.1322 - mae: 0.2706 - val_loss: 0.1350 - val_mae: 0.2738 - 311ms/epoch - 2ms/step\n",
            "Epoch 91/100\n",
            "153/153 - 0s - loss: 0.1332 - mae: 0.2716 - val_loss: 0.1395 - val_mae: 0.3038 - 297ms/epoch - 2ms/step\n",
            "Epoch 92/100\n",
            "153/153 - 0s - loss: 0.1338 - mae: 0.2707 - val_loss: 0.1611 - val_mae: 0.2730 - 319ms/epoch - 2ms/step\n",
            "Epoch 93/100\n",
            "153/153 - 0s - loss: 0.1324 - mae: 0.2711 - val_loss: 0.1894 - val_mae: 0.3067 - 324ms/epoch - 2ms/step\n",
            "Epoch 94/100\n",
            "153/153 - 0s - loss: 0.1317 - mae: 0.2698 - val_loss: 0.1420 - val_mae: 0.3117 - 338ms/epoch - 2ms/step\n",
            "Epoch 95/100\n",
            "153/153 - 0s - loss: 0.1312 - mae: 0.2700 - val_loss: 0.1363 - val_mae: 0.2814 - 385ms/epoch - 3ms/step\n",
            "Epoch 96/100\n",
            "153/153 - 0s - loss: 0.1316 - mae: 0.2706 - val_loss: 0.1488 - val_mae: 0.3296 - 300ms/epoch - 2ms/step\n",
            "Epoch 97/100\n",
            "153/153 - 0s - loss: 0.1318 - mae: 0.2695 - val_loss: 0.1353 - val_mae: 0.2793 - 311ms/epoch - 2ms/step\n",
            "Epoch 98/100\n",
            "153/153 - 0s - loss: 0.1320 - mae: 0.2701 - val_loss: 0.1366 - val_mae: 0.2889 - 292ms/epoch - 2ms/step\n",
            "Epoch 99/100\n",
            "153/153 - 0s - loss: 0.1318 - mae: 0.2700 - val_loss: 0.1585 - val_mae: 0.3475 - 299ms/epoch - 2ms/step\n",
            "Epoch 100/100\n",
            "153/153 - 0s - loss: 0.1300 - mae: 0.2682 - val_loss: 0.1601 - val_mae: 0.3453 - 296ms/epoch - 2ms/step\n",
            "Model: \"sequential\"\n",
            "_________________________________________________________________\n",
            " Layer (type)                Output Shape              Param #   \n",
            "=================================================================\n",
            " dense (Dense)               (None, 512)               6656      \n",
            "                                                                 \n",
            " dense_1 (Dense)             (None, 8)                 4104      \n",
            "                                                                 \n",
            " dense_2 (Dense)             (None, 1)                 9         \n",
            "                                                                 \n",
            "=================================================================\n",
            "Total params: 10,769\n",
            "Trainable params: 10,769\n",
            "Non-trainable params: 0\n",
            "_________________________________________________________________\n"
          ]
        }
      ]
    },
    {
      "cell_type": "code",
      "source": [
        "def plot_model_history(model_history):\n",
        "  history_dict = model_history.history\n",
        "  history_dict.keys()\n",
        "\n",
        "  loss_values = history_dict[\"loss\"]\n",
        "  val_loss_values = history_dict[\"val_loss\"]\n",
        "\n",
        "  epochs = range(1, len(loss_values) + 1)\n",
        "\n",
        "\n",
        "  # Plot current data\n",
        "  plt.plot(epochs, loss_values, \"bo\", label=\"Training Loss\")\n",
        "  plt.plot(epochs, val_loss_values, \"b\", label=\"Validation Loss\")\n",
        "  plt.title(\"Training and Validation Loss\")\n",
        "  plt.xlabel(\"Epochs\")\n",
        "  plt.ylabel(\"Accuracy\")\n",
        "  plt.legend()\n",
        "  plt.show()\n",
        "  return"
      ],
      "metadata": {
        "id": "xnMledbiYd1K"
      },
      "execution_count": 20,
      "outputs": []
    },
    {
      "cell_type": "markdown",
      "source": [
        "Plotting Regression Model 1\n",
        "\n"
      ],
      "metadata": {
        "id": "qVemg7OQYeSW"
      }
    },
    {
      "cell_type": "code",
      "source": [
        "plot_model_history(regmodl1_history)"
      ],
      "metadata": {
        "id": "2PY3AbKfj4Gc",
        "outputId": "149f42ec-a918-4a77-9afc-a0a3e76858c7",
        "colab": {
          "base_uri": "https://localhost:8080/",
          "height": 295
        }
      },
      "execution_count": 21,
      "outputs": [
        {
          "output_type": "display_data",
          "data": {
            "image/png": "[encoded data removed]",
            "text/plain": [
              "<Figure size 432x288 with 1 Axes>"
            ]
          },
          "metadata": {
            "needs_background": "light"
          }
        }
      ]
    },
    {
      "cell_type": "markdown",
      "source": [
        "### Regression Model 2"
      ],
      "metadata": {
        "id": "mmbjOEY3K49F"
      }
    },
    {
      "cell_type": "code",
      "source": [
        "# reg mod 2\n",
        "def build_regmodl2():\n",
        "  model = keras.Sequential([\n",
        "    layers.Dense(128, activation=\"relu\"),\n",
        "    layers.Dense(64, activation=\"relu\"),\n",
        "    layers.Dense(30, activation=\"relu\"),\n",
        "    layers.Dense(5, activation=\"relu\"),\n",
        "    layers.Dense(1, activation=\"relu\"),\n",
        "  ])\n",
        "  model.compile(optimizer=\"rmsprop\", loss=\"mse\", metrics=[\"mae\"])\n",
        "  return model;\n",
        "\n",
        "regmodl2 = build_regmodl2();\n",
        "\n",
        "regmodl2_history = regmodl2.fit(x=Xtrain, y=train_labels, epochs=100, verbose=2, validation_data=(Xval, val_labels))\n",
        "\n",
        "regmodl2.summary()"
      ],
      "metadata": {
        "id": "4MAZXPzjl4sb",
        "colab": {
          "base_uri": "https://localhost:8080/"
        },
        "outputId": "ad7bc79e-b92a-4207-b875-3f9c47bb6ecf"
      },
      "execution_count": 22,
      "outputs": [
        {
          "output_type": "stream",
          "name": "stdout",
          "text": [
            "Epoch 1/100\n",
            "153/153 - 1s - loss: 4.9589 - mae: 2.1901 - val_loss: 5.0204 - val_mae: 2.2006 - 1s/epoch - 8ms/step\n",
            "Epoch 2/100\n",
            "153/153 - 0s - loss: 4.9589 - mae: 2.1901 - val_loss: 5.0204 - val_mae: 2.2006 - 329ms/epoch - 2ms/step\n",
            "Epoch 3/100\n",
            "153/153 - 0s - loss: 4.9589 - mae: 2.1901 - val_loss: 5.0204 - val_mae: 2.2006 - 410ms/epoch - 3ms/step\n",
            "Epoch 4/100\n",
            "153/153 - 0s - loss: 4.9589 - mae: 2.1901 - val_loss: 5.0204 - val_mae: 2.2006 - 334ms/epoch - 2ms/step\n",
            "Epoch 5/100\n",
            "153/153 - 0s - loss: 4.9589 - mae: 2.1901 - val_loss: 5.0204 - val_mae: 2.2006 - 326ms/epoch - 2ms/step\n",
            "Epoch 6/100\n",
            "153/153 - 0s - loss: 4.9589 - mae: 2.1901 - val_loss: 5.0204 - val_mae: 2.2006 - 320ms/epoch - 2ms/step\n",
            "Epoch 7/100\n",
            "153/153 - 0s - loss: 4.9589 - mae: 2.1901 - val_loss: 5.0204 - val_mae: 2.2006 - 319ms/epoch - 2ms/step\n",
            "Epoch 8/100\n",
            "153/153 - 0s - loss: 4.9589 - mae: 2.1901 - val_loss: 5.0204 - val_mae: 2.2006 - 396ms/epoch - 3ms/step\n",
            "Epoch 9/100\n",
            "153/153 - 0s - loss: 4.9589 - mae: 2.1901 - val_loss: 5.0204 - val_mae: 2.2006 - 314ms/epoch - 2ms/step\n",
            "Epoch 10/100\n",
            "153/153 - 0s - loss: 4.9589 - mae: 2.1901 - val_loss: 5.0204 - val_mae: 2.2006 - 319ms/epoch - 2ms/step\n",
            "Epoch 11/100\n",
            "153/153 - 0s - loss: 4.9589 - mae: 2.1901 - val_loss: 5.0204 - val_mae: 2.2006 - 321ms/epoch - 2ms/step\n",
            "Epoch 12/100\n",
            "153/153 - 0s - loss: 4.9589 - mae: 2.1901 - val_loss: 5.0204 - val_mae: 2.2006 - 305ms/epoch - 2ms/step\n",
            "Epoch 13/100\n",
            "153/153 - 0s - loss: 4.9589 - mae: 2.1901 - val_loss: 5.0204 - val_mae: 2.2006 - 310ms/epoch - 2ms/step\n",
            "Epoch 14/100\n",
            "153/153 - 0s - loss: 4.9589 - mae: 2.1901 - val_loss: 5.0204 - val_mae: 2.2006 - 313ms/epoch - 2ms/step\n",
            "Epoch 15/100\n",
            "153/153 - 0s - loss: 4.9589 - mae: 2.1901 - val_loss: 5.0204 - val_mae: 2.2006 - 404ms/epoch - 3ms/step\n",
            "Epoch 16/100\n",
            "153/153 - 0s - loss: 4.9589 - mae: 2.1901 - val_loss: 5.0204 - val_mae: 2.2006 - 396ms/epoch - 3ms/step\n",
            "Epoch 17/100\n",
            "153/153 - 0s - loss: 4.9589 - mae: 2.1901 - val_loss: 5.0204 - val_mae: 2.2006 - 405ms/epoch - 3ms/step\n",
            "Epoch 18/100\n",
            "153/153 - 0s - loss: 4.9589 - mae: 2.1901 - val_loss: 5.0204 - val_mae: 2.2006 - 322ms/epoch - 2ms/step\n",
            "Epoch 19/100\n",
            "153/153 - 0s - loss: 4.9589 - mae: 2.1901 - val_loss: 5.0204 - val_mae: 2.2006 - 327ms/epoch - 2ms/step\n",
            "Epoch 20/100\n",
            "153/153 - 0s - loss: 4.9589 - mae: 2.1901 - val_loss: 5.0204 - val_mae: 2.2006 - 340ms/epoch - 2ms/step\n",
            "Epoch 21/100\n",
            "153/153 - 0s - loss: 4.9589 - mae: 2.1901 - val_loss: 5.0204 - val_mae: 2.2006 - 319ms/epoch - 2ms/step\n",
            "Epoch 22/100\n",
            "153/153 - 0s - loss: 4.9589 - mae: 2.1901 - val_loss: 5.0204 - val_mae: 2.2006 - 335ms/epoch - 2ms/step\n",
            "Epoch 23/100\n",
            "153/153 - 0s - loss: 4.9589 - mae: 2.1901 - val_loss: 5.0204 - val_mae: 2.2006 - 318ms/epoch - 2ms/step\n",
            "Epoch 24/100\n",
            "153/153 - 0s - loss: 4.9589 - mae: 2.1901 - val_loss: 5.0204 - val_mae: 2.2006 - 323ms/epoch - 2ms/step\n",
            "Epoch 25/100\n",
            "153/153 - 0s - loss: 4.9589 - mae: 2.1901 - val_loss: 5.0204 - val_mae: 2.2006 - 392ms/epoch - 3ms/step\n",
            "Epoch 26/100\n",
            "153/153 - 0s - loss: 4.9589 - mae: 2.1901 - val_loss: 5.0204 - val_mae: 2.2006 - 328ms/epoch - 2ms/step\n",
            "Epoch 27/100\n",
            "153/153 - 0s - loss: 4.9589 - mae: 2.1901 - val_loss: 5.0204 - val_mae: 2.2006 - 304ms/epoch - 2ms/step\n",
            "Epoch 28/100\n",
            "153/153 - 0s - loss: 4.9589 - mae: 2.1901 - val_loss: 5.0204 - val_mae: 2.2006 - 321ms/epoch - 2ms/step\n",
            "Epoch 29/100\n",
            "153/153 - 0s - loss: 4.9589 - mae: 2.1901 - val_loss: 5.0204 - val_mae: 2.2006 - 394ms/epoch - 3ms/step\n",
            "Epoch 30/100\n",
            "153/153 - 0s - loss: 4.9589 - mae: 2.1901 - val_loss: 5.0204 - val_mae: 2.2006 - 324ms/epoch - 2ms/step\n",
            "Epoch 31/100\n",
            "153/153 - 0s - loss: 4.9589 - mae: 2.1901 - val_loss: 5.0204 - val_mae: 2.2006 - 312ms/epoch - 2ms/step\n",
            "Epoch 32/100\n",
            "153/153 - 0s - loss: 4.9589 - mae: 2.1901 - val_loss: 5.0204 - val_mae: 2.2006 - 396ms/epoch - 3ms/step\n",
            "Epoch 33/100\n",
            "153/153 - 0s - loss: 4.9589 - mae: 2.1901 - val_loss: 5.0204 - val_mae: 2.2006 - 396ms/epoch - 3ms/step\n",
            "Epoch 34/100\n",
            "153/153 - 0s - loss: 4.9589 - mae: 2.1901 - val_loss: 5.0204 - val_mae: 2.2006 - 330ms/epoch - 2ms/step\n",
            "Epoch 35/100\n",
            "153/153 - 0s - loss: 4.9589 - mae: 2.1901 - val_loss: 5.0204 - val_mae: 2.2006 - 326ms/epoch - 2ms/step\n",
            "Epoch 36/100\n",
            "153/153 - 0s - loss: 4.9589 - mae: 2.1901 - val_loss: 5.0204 - val_mae: 2.2006 - 312ms/epoch - 2ms/step\n",
            "Epoch 37/100\n",
            "153/153 - 0s - loss: 4.9589 - mae: 2.1901 - val_loss: 5.0204 - val_mae: 2.2006 - 391ms/epoch - 3ms/step\n",
            "Epoch 38/100\n",
            "153/153 - 0s - loss: 4.9589 - mae: 2.1901 - val_loss: 5.0204 - val_mae: 2.2006 - 326ms/epoch - 2ms/step\n",
            "Epoch 39/100\n",
            "153/153 - 0s - loss: 4.9589 - mae: 2.1901 - val_loss: 5.0204 - val_mae: 2.2006 - 325ms/epoch - 2ms/step\n",
            "Epoch 40/100\n",
            "153/153 - 0s - loss: 4.9589 - mae: 2.1901 - val_loss: 5.0204 - val_mae: 2.2006 - 325ms/epoch - 2ms/step\n",
            "Epoch 41/100\n",
            "153/153 - 0s - loss: 4.9589 - mae: 2.1901 - val_loss: 5.0204 - val_mae: 2.2006 - 352ms/epoch - 2ms/step\n",
            "Epoch 42/100\n",
            "153/153 - 0s - loss: 4.9589 - mae: 2.1901 - val_loss: 5.0204 - val_mae: 2.2006 - 316ms/epoch - 2ms/step\n",
            "Epoch 43/100\n",
            "153/153 - 0s - loss: 4.9589 - mae: 2.1901 - val_loss: 5.0204 - val_mae: 2.2006 - 324ms/epoch - 2ms/step\n",
            "Epoch 44/100\n",
            "153/153 - 0s - loss: 4.9589 - mae: 2.1901 - val_loss: 5.0204 - val_mae: 2.2006 - 335ms/epoch - 2ms/step\n",
            "Epoch 45/100\n",
            "153/153 - 0s - loss: 4.9589 - mae: 2.1901 - val_loss: 5.0204 - val_mae: 2.2006 - 308ms/epoch - 2ms/step\n",
            "Epoch 46/100\n",
            "153/153 - 0s - loss: 4.9589 - mae: 2.1901 - val_loss: 5.0204 - val_mae: 2.2006 - 389ms/epoch - 3ms/step\n",
            "Epoch 47/100\n",
            "153/153 - 0s - loss: 4.9589 - mae: 2.1901 - val_loss: 5.0204 - val_mae: 2.2006 - 329ms/epoch - 2ms/step\n",
            "Epoch 48/100\n",
            "153/153 - 0s - loss: 4.9589 - mae: 2.1901 - val_loss: 5.0204 - val_mae: 2.2006 - 405ms/epoch - 3ms/step\n",
            "Epoch 49/100\n",
            "153/153 - 0s - loss: 4.9589 - mae: 2.1901 - val_loss: 5.0204 - val_mae: 2.2006 - 317ms/epoch - 2ms/step\n",
            "Epoch 50/100\n",
            "153/153 - 0s - loss: 4.9589 - mae: 2.1901 - val_loss: 5.0204 - val_mae: 2.2006 - 337ms/epoch - 2ms/step\n",
            "Epoch 51/100\n",
            "153/153 - 0s - loss: 4.9589 - mae: 2.1901 - val_loss: 5.0204 - val_mae: 2.2006 - 341ms/epoch - 2ms/step\n",
            "Epoch 52/100\n",
            "153/153 - 0s - loss: 4.9589 - mae: 2.1901 - val_loss: 5.0204 - val_mae: 2.2006 - 302ms/epoch - 2ms/step\n",
            "Epoch 53/100\n",
            "153/153 - 0s - loss: 4.9589 - mae: 2.1901 - val_loss: 5.0204 - val_mae: 2.2006 - 319ms/epoch - 2ms/step\n",
            "Epoch 54/100\n",
            "153/153 - 0s - loss: 4.9589 - mae: 2.1901 - val_loss: 5.0204 - val_mae: 2.2006 - 303ms/epoch - 2ms/step\n",
            "Epoch 55/100\n",
            "153/153 - 0s - loss: 4.9589 - mae: 2.1901 - val_loss: 5.0204 - val_mae: 2.2006 - 309ms/epoch - 2ms/step\n",
            "Epoch 56/100\n",
            "153/153 - 0s - loss: 4.9589 - mae: 2.1901 - val_loss: 5.0204 - val_mae: 2.2006 - 337ms/epoch - 2ms/step\n",
            "Epoch 57/100\n",
            "153/153 - 0s - loss: 4.9589 - mae: 2.1901 - val_loss: 5.0204 - val_mae: 2.2006 - 312ms/epoch - 2ms/step\n",
            "Epoch 58/100\n",
            "153/153 - 0s - loss: 4.9589 - mae: 2.1901 - val_loss: 5.0204 - val_mae: 2.2006 - 311ms/epoch - 2ms/step\n",
            "Epoch 59/100\n",
            "153/153 - 0s - loss: 4.9589 - mae: 2.1901 - val_loss: 5.0204 - val_mae: 2.2006 - 324ms/epoch - 2ms/step\n",
            "Epoch 60/100\n",
            "153/153 - 0s - loss: 4.9589 - mae: 2.1901 - val_loss: 5.0204 - val_mae: 2.2006 - 309ms/epoch - 2ms/step\n",
            "Epoch 61/100\n",
            "153/153 - 0s - loss: 4.9589 - mae: 2.1901 - val_loss: 5.0204 - val_mae: 2.2006 - 394ms/epoch - 3ms/step\n",
            "Epoch 62/100\n",
            "153/153 - 0s - loss: 4.9589 - mae: 2.1901 - val_loss: 5.0204 - val_mae: 2.2006 - 336ms/epoch - 2ms/step\n",
            "Epoch 63/100\n",
            "153/153 - 0s - loss: 4.9589 - mae: 2.1901 - val_loss: 5.0204 - val_mae: 2.2006 - 316ms/epoch - 2ms/step\n",
            "Epoch 64/100\n",
            "153/153 - 0s - loss: 4.9589 - mae: 2.1901 - val_loss: 5.0204 - val_mae: 2.2006 - 407ms/epoch - 3ms/step\n",
            "Epoch 65/100\n",
            "153/153 - 0s - loss: 4.9589 - mae: 2.1901 - val_loss: 5.0204 - val_mae: 2.2006 - 335ms/epoch - 2ms/step\n",
            "Epoch 66/100\n",
            "153/153 - 0s - loss: 4.9589 - mae: 2.1901 - val_loss: 5.0204 - val_mae: 2.2006 - 319ms/epoch - 2ms/step\n",
            "Epoch 67/100\n",
            "153/153 - 0s - loss: 4.9589 - mae: 2.1901 - val_loss: 5.0204 - val_mae: 2.2006 - 342ms/epoch - 2ms/step\n",
            "Epoch 68/100\n",
            "153/153 - 0s - loss: 4.9589 - mae: 2.1901 - val_loss: 5.0204 - val_mae: 2.2006 - 329ms/epoch - 2ms/step\n",
            "Epoch 69/100\n",
            "153/153 - 0s - loss: 4.9589 - mae: 2.1901 - val_loss: 5.0204 - val_mae: 2.2006 - 399ms/epoch - 3ms/step\n",
            "Epoch 70/100\n",
            "153/153 - 1s - loss: 4.9589 - mae: 2.1901 - val_loss: 5.0204 - val_mae: 2.2006 - 770ms/epoch - 5ms/step\n",
            "Epoch 71/100\n",
            "153/153 - 0s - loss: 4.9589 - mae: 2.1901 - val_loss: 5.0204 - val_mae: 2.2006 - 395ms/epoch - 3ms/step\n",
            "Epoch 72/100\n",
            "153/153 - 1s - loss: 4.9589 - mae: 2.1901 - val_loss: 5.0204 - val_mae: 2.2006 - 811ms/epoch - 5ms/step\n",
            "Epoch 73/100\n",
            "153/153 - 0s - loss: 4.9589 - mae: 2.1901 - val_loss: 5.0204 - val_mae: 2.2006 - 317ms/epoch - 2ms/step\n",
            "Epoch 74/100\n",
            "153/153 - 1s - loss: 4.9589 - mae: 2.1901 - val_loss: 5.0204 - val_mae: 2.2006 - 943ms/epoch - 6ms/step\n",
            "Epoch 75/100\n",
            "153/153 - 0s - loss: 4.9589 - mae: 2.1901 - val_loss: 5.0204 - val_mae: 2.2006 - 385ms/epoch - 3ms/step\n",
            "Epoch 76/100\n",
            "153/153 - 0s - loss: 4.9589 - mae: 2.1901 - val_loss: 5.0204 - val_mae: 2.2006 - 399ms/epoch - 3ms/step\n",
            "Epoch 77/100\n",
            "153/153 - 0s - loss: 4.9589 - mae: 2.1901 - val_loss: 5.0204 - val_mae: 2.2006 - 311ms/epoch - 2ms/step\n",
            "Epoch 78/100\n",
            "153/153 - 0s - loss: 4.9589 - mae: 2.1901 - val_loss: 5.0204 - val_mae: 2.2006 - 312ms/epoch - 2ms/step\n",
            "Epoch 79/100\n",
            "153/153 - 0s - loss: 4.9589 - mae: 2.1901 - val_loss: 5.0204 - val_mae: 2.2006 - 315ms/epoch - 2ms/step\n",
            "Epoch 80/100\n",
            "153/153 - 0s - loss: 4.9589 - mae: 2.1901 - val_loss: 5.0204 - val_mae: 2.2006 - 322ms/epoch - 2ms/step\n",
            "Epoch 81/100\n",
            "153/153 - 0s - loss: 4.9589 - mae: 2.1901 - val_loss: 5.0204 - val_mae: 2.2006 - 322ms/epoch - 2ms/step\n",
            "Epoch 82/100\n",
            "153/153 - 0s - loss: 4.9589 - mae: 2.1901 - val_loss: 5.0204 - val_mae: 2.2006 - 324ms/epoch - 2ms/step\n",
            "Epoch 83/100\n",
            "153/153 - 0s - loss: 4.9589 - mae: 2.1901 - val_loss: 5.0204 - val_mae: 2.2006 - 323ms/epoch - 2ms/step\n",
            "Epoch 84/100\n",
            "153/153 - 0s - loss: 4.9589 - mae: 2.1901 - val_loss: 5.0204 - val_mae: 2.2006 - 384ms/epoch - 3ms/step\n",
            "Epoch 85/100\n",
            "153/153 - 0s - loss: 4.9589 - mae: 2.1901 - val_loss: 5.0204 - val_mae: 2.2006 - 305ms/epoch - 2ms/step\n",
            "Epoch 86/100\n",
            "153/153 - 0s - loss: 4.9589 - mae: 2.1901 - val_loss: 5.0204 - val_mae: 2.2006 - 318ms/epoch - 2ms/step\n",
            "Epoch 87/100\n",
            "153/153 - 0s - loss: 4.9589 - mae: 2.1901 - val_loss: 5.0204 - val_mae: 2.2006 - 317ms/epoch - 2ms/step\n",
            "Epoch 88/100\n",
            "153/153 - 0s - loss: 4.9589 - mae: 2.1901 - val_loss: 5.0204 - val_mae: 2.2006 - 392ms/epoch - 3ms/step\n",
            "Epoch 89/100\n",
            "153/153 - 0s - loss: 4.9589 - mae: 2.1901 - val_loss: 5.0204 - val_mae: 2.2006 - 318ms/epoch - 2ms/step\n",
            "Epoch 90/100\n",
            "153/153 - 0s - loss: 4.9589 - mae: 2.1901 - val_loss: 5.0204 - val_mae: 2.2006 - 334ms/epoch - 2ms/step\n",
            "Epoch 91/100\n",
            "153/153 - 0s - loss: 4.9589 - mae: 2.1901 - val_loss: 5.0204 - val_mae: 2.2006 - 331ms/epoch - 2ms/step\n",
            "Epoch 92/100\n",
            "153/153 - 0s - loss: 4.9589 - mae: 2.1901 - val_loss: 5.0204 - val_mae: 2.2006 - 346ms/epoch - 2ms/step\n",
            "Epoch 93/100\n",
            "153/153 - 0s - loss: 4.9589 - mae: 2.1901 - val_loss: 5.0204 - val_mae: 2.2006 - 348ms/epoch - 2ms/step\n",
            "Epoch 94/100\n",
            "153/153 - 0s - loss: 4.9589 - mae: 2.1901 - val_loss: 5.0204 - val_mae: 2.2006 - 316ms/epoch - 2ms/step\n",
            "Epoch 95/100\n",
            "153/153 - 0s - loss: 4.9589 - mae: 2.1901 - val_loss: 5.0204 - val_mae: 2.2006 - 312ms/epoch - 2ms/step\n",
            "Epoch 96/100\n",
            "153/153 - 0s - loss: 4.9589 - mae: 2.1901 - val_loss: 5.0204 - val_mae: 2.2006 - 393ms/epoch - 3ms/step\n",
            "Epoch 97/100\n",
            "153/153 - 0s - loss: 4.9589 - mae: 2.1901 - val_loss: 5.0204 - val_mae: 2.2006 - 307ms/epoch - 2ms/step\n",
            "Epoch 98/100\n",
            "153/153 - 0s - loss: 4.9589 - mae: 2.1901 - val_loss: 5.0204 - val_mae: 2.2006 - 310ms/epoch - 2ms/step\n",
            "Epoch 99/100\n",
            "153/153 - 0s - loss: 4.9589 - mae: 2.1901 - val_loss: 5.0204 - val_mae: 2.2006 - 319ms/epoch - 2ms/step\n",
            "Epoch 100/100\n",
            "153/153 - 0s - loss: 4.9589 - mae: 2.1901 - val_loss: 5.0204 - val_mae: 2.2006 - 309ms/epoch - 2ms/step\n",
            "Model: \"sequential_1\"\n",
            "_________________________________________________________________\n",
            " Layer (type)                Output Shape              Param #   \n",
            "=================================================================\n",
            " dense_3 (Dense)             (None, 128)               1664      \n",
            "                                                                 \n",
            " dense_4 (Dense)             (None, 64)                8256      \n",
            "                                                                 \n",
            " dense_5 (Dense)             (None, 30)                1950      \n",
            "                                                                 \n",
            " dense_6 (Dense)             (None, 5)                 155       \n",
            "                                                                 \n",
            " dense_7 (Dense)             (None, 1)                 6         \n",
            "                                                                 \n",
            "=================================================================\n",
            "Total params: 12,031\n",
            "Trainable params: 12,031\n",
            "Non-trainable params: 0\n",
            "_________________________________________________________________\n"
          ]
        }
      ]
    },
    {
      "cell_type": "markdown",
      "source": [
        "Plotting Regression Model 2"
      ],
      "metadata": {
        "id": "JRHjNr9xgXeT"
      }
    },
    {
      "cell_type": "code",
      "source": [
        "plot_model_history(regmodl2_history)"
      ],
      "metadata": {
        "id": "SNIWIhR2gaYN",
        "outputId": "a7fe9f59-2cf6-49ed-9eb5-287a67ee8e05",
        "colab": {
          "base_uri": "https://localhost:8080/",
          "height": 295
        }
      },
      "execution_count": 23,
      "outputs": [
        {
          "output_type": "display_data",
          "data": {
            "image/png": "[encoded data removed]",
            "text/plain": [
              "<Figure size 432x288 with 1 Axes>"
            ]
          },
          "metadata": {
            "needs_background": "light"
          }
        }
      ]
    },
    {
      "cell_type": "markdown",
      "source": [
        "### Regression Model 3"
      ],
      "metadata": {
        "id": "9bt4_Yz4K8e9"
      }
    },
    {
      "cell_type": "code",
      "source": [
        "# reg mod 3\n",
        "def build_regmodl3():\n",
        "  model = keras.Sequential([\n",
        "    layers.Dense(512, activation=\"relu\"),\n",
        "    layers.Dense(125, activation=\"relu\"),\n",
        "    layers.Dense(64, activation=\"relu\"),\n",
        "    layers.Dense(30, activation=\"relu\"),\n",
        "    layers.Dense(5, activation=\"relu\"),\n",
        "    layers.Dense(1)                    \n",
        "  ])\n",
        "  model.compile(optimizer=\"rmsprop\", loss=\"mse\", metrics=[\"mae\"])\n",
        "  return model;\n",
        "\n",
        "regmodl3 = build_regmodl3()\n",
        "\n",
        "regmodl3_history = regmodl3.fit(x=Xtrain, y=train_labels, epochs=100, verbose=2, validation_data=(Xval, val_labels))\n",
        "\n",
        "regmodl3.summary()"
      ],
      "metadata": {
        "id": "FKRKSxhfAeWi",
        "colab": {
          "base_uri": "https://localhost:8080/"
        },
        "outputId": "77416dcb-d0e8-4f33-8e85-3bf9593f183a"
      },
      "execution_count": 24,
      "outputs": [
        {
          "output_type": "stream",
          "name": "stdout",
          "text": [
            "Epoch 1/100\n",
            "153/153 - 2s - loss: 4.4099 - mae: 0.8629 - val_loss: 0.3377 - val_mae: 0.4602 - 2s/epoch - 11ms/step\n",
            "Epoch 2/100\n",
            "153/153 - 1s - loss: 0.3953 - mae: 0.4856 - val_loss: 0.1730 - val_mae: 0.3004 - 508ms/epoch - 3ms/step\n",
            "Epoch 3/100\n",
            "153/153 - 0s - loss: 0.2507 - mae: 0.3850 - val_loss: 0.2270 - val_mae: 0.3094 - 483ms/epoch - 3ms/step\n",
            "Epoch 4/100\n",
            "153/153 - 0s - loss: 0.2064 - mae: 0.3441 - val_loss: 0.1988 - val_mae: 0.4050 - 488ms/epoch - 3ms/step\n",
            "Epoch 5/100\n",
            "153/153 - 0s - loss: 0.1856 - mae: 0.3306 - val_loss: 0.1986 - val_mae: 0.4090 - 494ms/epoch - 3ms/step\n",
            "Epoch 6/100\n",
            "153/153 - 1s - loss: 0.1748 - mae: 0.3176 - val_loss: 0.2065 - val_mae: 0.3001 - 569ms/epoch - 4ms/step\n",
            "Epoch 7/100\n",
            "153/153 - 1s - loss: 0.1683 - mae: 0.3113 - val_loss: 0.2378 - val_mae: 0.4484 - 550ms/epoch - 4ms/step\n",
            "Epoch 8/100\n",
            "153/153 - 1s - loss: 0.1621 - mae: 0.3051 - val_loss: 0.3849 - val_mae: 0.5455 - 531ms/epoch - 3ms/step\n",
            "Epoch 9/100\n",
            "153/153 - 1s - loss: 0.1610 - mae: 0.3007 - val_loss: 0.1538 - val_mae: 0.2803 - 556ms/epoch - 4ms/step\n",
            "Epoch 10/100\n",
            "153/153 - 1s - loss: 0.1544 - mae: 0.2967 - val_loss: 0.1535 - val_mae: 0.3365 - 566ms/epoch - 4ms/step\n",
            "Epoch 11/100\n",
            "153/153 - 1s - loss: 0.1561 - mae: 0.2959 - val_loss: 0.1493 - val_mae: 0.2941 - 555ms/epoch - 4ms/step\n",
            "Epoch 12/100\n",
            "153/153 - 0s - loss: 0.1544 - mae: 0.2951 - val_loss: 0.1435 - val_mae: 0.2802 - 474ms/epoch - 3ms/step\n",
            "Epoch 13/100\n",
            "153/153 - 1s - loss: 0.1540 - mae: 0.2947 - val_loss: 0.1716 - val_mae: 0.3713 - 541ms/epoch - 4ms/step\n",
            "Epoch 14/100\n",
            "153/153 - 1s - loss: 0.1524 - mae: 0.2930 - val_loss: 0.2054 - val_mae: 0.3211 - 543ms/epoch - 4ms/step\n",
            "Epoch 15/100\n",
            "153/153 - 1s - loss: 0.1475 - mae: 0.2864 - val_loss: 0.3621 - val_mae: 0.5369 - 573ms/epoch - 4ms/step\n",
            "Epoch 16/100\n",
            "153/153 - 1s - loss: 0.1496 - mae: 0.2894 - val_loss: 0.1925 - val_mae: 0.3963 - 574ms/epoch - 4ms/step\n",
            "Epoch 17/100\n",
            "153/153 - 0s - loss: 0.1474 - mae: 0.2874 - val_loss: 0.1403 - val_mae: 0.2822 - 469ms/epoch - 3ms/step\n",
            "Epoch 18/100\n",
            "153/153 - 0s - loss: 0.1498 - mae: 0.2904 - val_loss: 0.1670 - val_mae: 0.3558 - 470ms/epoch - 3ms/step\n",
            "Epoch 19/100\n",
            "153/153 - 1s - loss: 0.1443 - mae: 0.2842 - val_loss: 0.3783 - val_mae: 0.5468 - 529ms/epoch - 3ms/step\n",
            "Epoch 20/100\n",
            "153/153 - 1s - loss: 0.1468 - mae: 0.2853 - val_loss: 0.1605 - val_mae: 0.2865 - 524ms/epoch - 3ms/step\n",
            "Epoch 21/100\n",
            "153/153 - 0s - loss: 0.1440 - mae: 0.2833 - val_loss: 0.1381 - val_mae: 0.2692 - 469ms/epoch - 3ms/step\n",
            "Epoch 22/100\n",
            "153/153 - 1s - loss: 0.1430 - mae: 0.2835 - val_loss: 0.1490 - val_mae: 0.2879 - 529ms/epoch - 3ms/step\n",
            "Epoch 23/100\n",
            "153/153 - 1s - loss: 0.1446 - mae: 0.2829 - val_loss: 0.1681 - val_mae: 0.3452 - 536ms/epoch - 4ms/step\n",
            "Epoch 24/100\n",
            "153/153 - 1s - loss: 0.1424 - mae: 0.2826 - val_loss: 0.1567 - val_mae: 0.3373 - 548ms/epoch - 4ms/step\n",
            "Epoch 25/100\n",
            "153/153 - 0s - loss: 0.1440 - mae: 0.2855 - val_loss: 0.2063 - val_mae: 0.3120 - 443ms/epoch - 3ms/step\n",
            "Epoch 26/100\n",
            "153/153 - 1s - loss: 0.1444 - mae: 0.2827 - val_loss: 0.1886 - val_mae: 0.3904 - 537ms/epoch - 4ms/step\n",
            "Epoch 27/100\n",
            "153/153 - 0s - loss: 0.1418 - mae: 0.2806 - val_loss: 0.1416 - val_mae: 0.2690 - 450ms/epoch - 3ms/step\n",
            "Epoch 28/100\n",
            "153/153 - 0s - loss: 0.1440 - mae: 0.2823 - val_loss: 0.1423 - val_mae: 0.2847 - 482ms/epoch - 3ms/step\n",
            "Epoch 29/100\n",
            "153/153 - 1s - loss: 0.1410 - mae: 0.2792 - val_loss: 0.1371 - val_mae: 0.2868 - 559ms/epoch - 4ms/step\n",
            "Epoch 30/100\n",
            "153/153 - 1s - loss: 0.1407 - mae: 0.2793 - val_loss: 0.1374 - val_mae: 0.2773 - 571ms/epoch - 4ms/step\n",
            "Epoch 31/100\n",
            "153/153 - 0s - loss: 0.1411 - mae: 0.2792 - val_loss: 0.1403 - val_mae: 0.2781 - 448ms/epoch - 3ms/step\n",
            "Epoch 32/100\n",
            "153/153 - 1s - loss: 0.1399 - mae: 0.2789 - val_loss: 0.1862 - val_mae: 0.3025 - 549ms/epoch - 4ms/step\n",
            "Epoch 33/100\n",
            "153/153 - 1s - loss: 0.1411 - mae: 0.2785 - val_loss: 0.1454 - val_mae: 0.3143 - 531ms/epoch - 3ms/step\n",
            "Epoch 34/100\n",
            "153/153 - 0s - loss: 0.1399 - mae: 0.2792 - val_loss: 0.1487 - val_mae: 0.2689 - 499ms/epoch - 3ms/step\n",
            "Epoch 35/100\n",
            "153/153 - 0s - loss: 0.1406 - mae: 0.2779 - val_loss: 0.1426 - val_mae: 0.3045 - 473ms/epoch - 3ms/step\n",
            "Epoch 36/100\n",
            "153/153 - 0s - loss: 0.1380 - mae: 0.2770 - val_loss: 0.1617 - val_mae: 0.2679 - 484ms/epoch - 3ms/step\n",
            "Epoch 37/100\n",
            "153/153 - 0s - loss: 0.1400 - mae: 0.2780 - val_loss: 0.1596 - val_mae: 0.3480 - 485ms/epoch - 3ms/step\n",
            "Epoch 38/100\n",
            "153/153 - 1s - loss: 0.1406 - mae: 0.2785 - val_loss: 0.1607 - val_mae: 0.2757 - 568ms/epoch - 4ms/step\n",
            "Epoch 39/100\n",
            "153/153 - 0s - loss: 0.1382 - mae: 0.2767 - val_loss: 0.1450 - val_mae: 0.2571 - 475ms/epoch - 3ms/step\n",
            "Epoch 40/100\n",
            "153/153 - 1s - loss: 0.1372 - mae: 0.2750 - val_loss: 0.1493 - val_mae: 0.2690 - 546ms/epoch - 4ms/step\n",
            "Epoch 41/100\n",
            "153/153 - 1s - loss: 0.1381 - mae: 0.2758 - val_loss: 0.1356 - val_mae: 0.2813 - 561ms/epoch - 4ms/step\n",
            "Epoch 42/100\n",
            "153/153 - 1s - loss: 0.1372 - mae: 0.2759 - val_loss: 0.2069 - val_mae: 0.3068 - 549ms/epoch - 4ms/step\n",
            "Epoch 43/100\n",
            "153/153 - 0s - loss: 0.1366 - mae: 0.2741 - val_loss: 0.1523 - val_mae: 0.2611 - 433ms/epoch - 3ms/step\n",
            "Epoch 44/100\n",
            "153/153 - 1s - loss: 0.1362 - mae: 0.2741 - val_loss: 0.1427 - val_mae: 0.2861 - 536ms/epoch - 4ms/step\n",
            "Epoch 45/100\n",
            "153/153 - 0s - loss: 0.1386 - mae: 0.2764 - val_loss: 0.1615 - val_mae: 0.3394 - 441ms/epoch - 3ms/step\n",
            "Epoch 46/100\n",
            "153/153 - 0s - loss: 0.1374 - mae: 0.2739 - val_loss: 0.1509 - val_mae: 0.2614 - 488ms/epoch - 3ms/step\n",
            "Epoch 47/100\n",
            "153/153 - 1s - loss: 0.1370 - mae: 0.2744 - val_loss: 0.1680 - val_mae: 0.3636 - 558ms/epoch - 4ms/step\n",
            "Epoch 48/100\n",
            "153/153 - 1s - loss: 0.1357 - mae: 0.2747 - val_loss: 0.1425 - val_mae: 0.2602 - 563ms/epoch - 4ms/step\n",
            "Epoch 49/100\n",
            "153/153 - 1s - loss: 0.1368 - mae: 0.2752 - val_loss: 0.1879 - val_mae: 0.2888 - 524ms/epoch - 3ms/step\n",
            "Epoch 50/100\n",
            "153/153 - 0s - loss: 0.1368 - mae: 0.2746 - val_loss: 0.1698 - val_mae: 0.2733 - 450ms/epoch - 3ms/step\n",
            "Epoch 51/100\n",
            "153/153 - 1s - loss: 0.1357 - mae: 0.2724 - val_loss: 0.1607 - val_mae: 0.3421 - 537ms/epoch - 4ms/step\n",
            "Epoch 52/100\n",
            "153/153 - 0s - loss: 0.1358 - mae: 0.2739 - val_loss: 0.1586 - val_mae: 0.2686 - 448ms/epoch - 3ms/step\n",
            "Epoch 53/100\n",
            "153/153 - 0s - loss: 0.1349 - mae: 0.2718 - val_loss: 0.1408 - val_mae: 0.2652 - 471ms/epoch - 3ms/step\n",
            "Epoch 54/100\n",
            "153/153 - 0s - loss: 0.1367 - mae: 0.2738 - val_loss: 0.1826 - val_mae: 0.3860 - 484ms/epoch - 3ms/step\n",
            "Epoch 55/100\n",
            "153/153 - 0s - loss: 0.1362 - mae: 0.2735 - val_loss: 0.1479 - val_mae: 0.3186 - 479ms/epoch - 3ms/step\n",
            "Epoch 56/100\n",
            "153/153 - 0s - loss: 0.1358 - mae: 0.2741 - val_loss: 0.1427 - val_mae: 0.3048 - 472ms/epoch - 3ms/step\n",
            "Epoch 57/100\n",
            "153/153 - 0s - loss: 0.1354 - mae: 0.2725 - val_loss: 0.1359 - val_mae: 0.2736 - 487ms/epoch - 3ms/step\n",
            "Epoch 58/100\n",
            "153/153 - 1s - loss: 0.1349 - mae: 0.2710 - val_loss: 0.2840 - val_mae: 0.4684 - 504ms/epoch - 3ms/step\n",
            "Epoch 59/100\n",
            "153/153 - 0s - loss: 0.1366 - mae: 0.2738 - val_loss: 0.1381 - val_mae: 0.2805 - 487ms/epoch - 3ms/step\n",
            "Epoch 60/100\n",
            "153/153 - 0s - loss: 0.1370 - mae: 0.2746 - val_loss: 0.2494 - val_mae: 0.4458 - 441ms/epoch - 3ms/step\n",
            "Epoch 61/100\n",
            "153/153 - 1s - loss: 0.1353 - mae: 0.2720 - val_loss: 0.1616 - val_mae: 0.2765 - 569ms/epoch - 4ms/step\n",
            "Epoch 62/100\n",
            "153/153 - 1s - loss: 0.1349 - mae: 0.2712 - val_loss: 0.1623 - val_mae: 0.2715 - 505ms/epoch - 3ms/step\n",
            "Epoch 63/100\n",
            "153/153 - 0s - loss: 0.1359 - mae: 0.2716 - val_loss: 0.1425 - val_mae: 0.3061 - 466ms/epoch - 3ms/step\n",
            "Epoch 64/100\n",
            "153/153 - 1s - loss: 0.1348 - mae: 0.2717 - val_loss: 0.1700 - val_mae: 0.3657 - 504ms/epoch - 3ms/step\n",
            "Epoch 65/100\n",
            "153/153 - 1s - loss: 0.1343 - mae: 0.2720 - val_loss: 0.1600 - val_mae: 0.3466 - 554ms/epoch - 4ms/step\n",
            "Epoch 66/100\n",
            "153/153 - 1s - loss: 0.1338 - mae: 0.2708 - val_loss: 0.1360 - val_mae: 0.2730 - 541ms/epoch - 4ms/step\n",
            "Epoch 67/100\n",
            "153/153 - 1s - loss: 0.1348 - mae: 0.2720 - val_loss: 0.1469 - val_mae: 0.2883 - 520ms/epoch - 3ms/step\n",
            "Epoch 68/100\n",
            "153/153 - 0s - loss: 0.1329 - mae: 0.2681 - val_loss: 0.1580 - val_mae: 0.3459 - 456ms/epoch - 3ms/step\n",
            "Epoch 69/100\n",
            "153/153 - 0s - loss: 0.1337 - mae: 0.2708 - val_loss: 0.1523 - val_mae: 0.3312 - 455ms/epoch - 3ms/step\n",
            "Epoch 70/100\n",
            "153/153 - 0s - loss: 0.1341 - mae: 0.2713 - val_loss: 0.1497 - val_mae: 0.3295 - 463ms/epoch - 3ms/step\n",
            "Epoch 71/100\n",
            "153/153 - 1s - loss: 0.1334 - mae: 0.2703 - val_loss: 0.1642 - val_mae: 0.3426 - 543ms/epoch - 4ms/step\n",
            "Epoch 72/100\n",
            "153/153 - 1s - loss: 0.1330 - mae: 0.2696 - val_loss: 0.1769 - val_mae: 0.3730 - 537ms/epoch - 4ms/step\n",
            "Epoch 73/100\n",
            "153/153 - 0s - loss: 0.1333 - mae: 0.2690 - val_loss: 0.2026 - val_mae: 0.4099 - 458ms/epoch - 3ms/step\n",
            "Epoch 74/100\n",
            "153/153 - 1s - loss: 0.1335 - mae: 0.2708 - val_loss: 0.1506 - val_mae: 0.3171 - 566ms/epoch - 4ms/step\n",
            "Epoch 75/100\n",
            "153/153 - 1s - loss: 0.1323 - mae: 0.2689 - val_loss: 0.1680 - val_mae: 0.2699 - 533ms/epoch - 3ms/step\n",
            "Epoch 76/100\n",
            "153/153 - 1s - loss: 0.1335 - mae: 0.2682 - val_loss: 0.1547 - val_mae: 0.2685 - 535ms/epoch - 3ms/step\n",
            "Epoch 77/100\n",
            "153/153 - 1s - loss: 0.1321 - mae: 0.2690 - val_loss: 0.1694 - val_mae: 0.3575 - 547ms/epoch - 4ms/step\n",
            "Epoch 78/100\n",
            "153/153 - 0s - loss: 0.1329 - mae: 0.2696 - val_loss: 0.1521 - val_mae: 0.2592 - 479ms/epoch - 3ms/step\n",
            "Epoch 79/100\n",
            "153/153 - 1s - loss: 0.1328 - mae: 0.2692 - val_loss: 0.1388 - val_mae: 0.2587 - 530ms/epoch - 3ms/step\n",
            "Epoch 80/100\n",
            "153/153 - 1s - loss: 0.1322 - mae: 0.2673 - val_loss: 0.1372 - val_mae: 0.2604 - 565ms/epoch - 4ms/step\n",
            "Epoch 81/100\n",
            "153/153 - 0s - loss: 0.1315 - mae: 0.2672 - val_loss: 0.1605 - val_mae: 0.3449 - 473ms/epoch - 3ms/step\n",
            "Epoch 82/100\n",
            "153/153 - 0s - loss: 0.1312 - mae: 0.2670 - val_loss: 0.1825 - val_mae: 0.2904 - 474ms/epoch - 3ms/step\n",
            "Epoch 83/100\n",
            "153/153 - 0s - loss: 0.1325 - mae: 0.2667 - val_loss: 0.1490 - val_mae: 0.2587 - 447ms/epoch - 3ms/step\n",
            "Epoch 84/100\n",
            "153/153 - 0s - loss: 0.1320 - mae: 0.2667 - val_loss: 0.1387 - val_mae: 0.2831 - 458ms/epoch - 3ms/step\n",
            "Epoch 85/100\n",
            "153/153 - 1s - loss: 0.1316 - mae: 0.2661 - val_loss: 0.1507 - val_mae: 0.3245 - 533ms/epoch - 3ms/step\n",
            "Epoch 86/100\n",
            "153/153 - 1s - loss: 0.1309 - mae: 0.2666 - val_loss: 0.1351 - val_mae: 0.2789 - 527ms/epoch - 3ms/step\n",
            "Epoch 87/100\n",
            "153/153 - 0s - loss: 0.1315 - mae: 0.2669 - val_loss: 0.1578 - val_mae: 0.3207 - 457ms/epoch - 3ms/step\n",
            "Epoch 88/100\n",
            "153/153 - 1s - loss: 0.1313 - mae: 0.2661 - val_loss: 0.1355 - val_mae: 0.2803 - 546ms/epoch - 4ms/step\n",
            "Epoch 89/100\n",
            "153/153 - 0s - loss: 0.1318 - mae: 0.2659 - val_loss: 0.1659 - val_mae: 0.2720 - 452ms/epoch - 3ms/step\n",
            "Epoch 90/100\n",
            "153/153 - 0s - loss: 0.1314 - mae: 0.2660 - val_loss: 0.1390 - val_mae: 0.2654 - 449ms/epoch - 3ms/step\n",
            "Epoch 91/100\n",
            "153/153 - 0s - loss: 0.1311 - mae: 0.2639 - val_loss: 0.1342 - val_mae: 0.2774 - 450ms/epoch - 3ms/step\n",
            "Epoch 92/100\n",
            "153/153 - 0s - loss: 0.1301 - mae: 0.2651 - val_loss: 0.1865 - val_mae: 0.2845 - 439ms/epoch - 3ms/step\n",
            "Epoch 93/100\n",
            "153/153 - 0s - loss: 0.1318 - mae: 0.2655 - val_loss: 0.1365 - val_mae: 0.2877 - 454ms/epoch - 3ms/step\n",
            "Epoch 94/100\n",
            "153/153 - 0s - loss: 0.1313 - mae: 0.2665 - val_loss: 0.1395 - val_mae: 0.2969 - 458ms/epoch - 3ms/step\n",
            "Epoch 95/100\n",
            "153/153 - 0s - loss: 0.1310 - mae: 0.2659 - val_loss: 0.1958 - val_mae: 0.3865 - 445ms/epoch - 3ms/step\n",
            "Epoch 96/100\n",
            "153/153 - 0s - loss: 0.1308 - mae: 0.2656 - val_loss: 0.1709 - val_mae: 0.2664 - 439ms/epoch - 3ms/step\n",
            "Epoch 97/100\n",
            "153/153 - 0s - loss: 0.1297 - mae: 0.2632 - val_loss: 0.1612 - val_mae: 0.3506 - 456ms/epoch - 3ms/step\n",
            "Epoch 98/100\n",
            "153/153 - 1s - loss: 0.1290 - mae: 0.2623 - val_loss: 0.1657 - val_mae: 0.2665 - 546ms/epoch - 4ms/step\n",
            "Epoch 99/100\n",
            "153/153 - 0s - loss: 0.1304 - mae: 0.2631 - val_loss: 0.1450 - val_mae: 0.2633 - 460ms/epoch - 3ms/step\n",
            "Epoch 100/100\n",
            "153/153 - 0s - loss: 0.1299 - mae: 0.2624 - val_loss: 0.1895 - val_mae: 0.2858 - 444ms/epoch - 3ms/step\n",
            "Model: \"sequential_2\"\n",
            "_________________________________________________________________\n",
            " Layer (type)                Output Shape              Param #   \n",
            "=================================================================\n",
            " dense_8 (Dense)             (None, 512)               6656      \n",
            "                                                                 \n",
            " dense_9 (Dense)             (None, 125)               64125     \n",
            "                                                                 \n",
            " dense_10 (Dense)            (None, 64)                8064      \n",
            "                                                                 \n",
            " dense_11 (Dense)            (None, 30)                1950      \n",
            "                                                                 \n",
            " dense_12 (Dense)            (None, 5)                 155       \n",
            "                                                                 \n",
            " dense_13 (Dense)            (None, 1)                 6         \n",
            "                                                                 \n",
            "=================================================================\n",
            "Total params: 80,956\n",
            "Trainable params: 80,956\n",
            "Non-trainable params: 0\n",
            "_________________________________________________________________\n"
          ]
        }
      ]
    },
    {
      "cell_type": "markdown",
      "source": [
        "Plotting Regression Model 3"
      ],
      "metadata": {
        "id": "8Oyf18uLLAzf"
      }
    },
    {
      "cell_type": "code",
      "source": [
        "plot_model_history(regmodl3_history)"
      ],
      "metadata": {
        "colab": {
          "base_uri": "https://localhost:8080/",
          "height": 295
        },
        "id": "e5XlSgPELE18",
        "outputId": "829530e7-ca0b-459c-9f67-5b31986b8178"
      },
      "execution_count": 25,
      "outputs": [
        {
          "output_type": "display_data",
          "data": {
            "image/png": "[encoded data removed]",
            "text/plain": [
              "<Figure size 432x288 with 1 Axes>"
            ]
          },
          "metadata": {
            "needs_background": "light"
          }
        }
      ]
    },
    {
      "cell_type": "markdown",
      "source": [
        "# Part 3: Classification Model\n"
      ],
      "metadata": {
        "id": "PyD1poH4gTyy"
      }
    },
    {
      "cell_type": "code",
      "source": [
        "import copy\n",
        "\n",
        "def predict_hit_ratio():\n",
        "  test_labels_copy = copy.copy(tst_labels)\n",
        "  np.random.shuffle(test_labels_copy)\n",
        "  hits_array = np.array(tst_labels) == np.array(test_labels_copy)\n",
        "  return hits_array.mean()"
      ],
      "metadata": {
        "id": "0OJ__Hwciw2k"
      },
      "execution_count": 28,
      "outputs": []
    },
    {
      "cell_type": "markdown",
      "source": [
        "### Classification Model 1"
      ],
      "metadata": {
        "id": "YiAOiEL1gzC4"
      }
    },
    {
      "cell_type": "code",
      "source": [
        "val = predict_hit_ratio()\n",
        "print(val)"
      ],
      "metadata": {
        "id": "WtxZSngFg18y",
        "outputId": "47a9c98e-5f75-41c9-8fd1-62e52dd41a01",
        "colab": {
          "base_uri": "https://localhost:8080/"
        }
      },
      "execution_count": 32,
      "outputs": [
        {
          "output_type": "stream",
          "name": "stdout",
          "text": [
            "0.8\n"
          ]
        }
      ]
    },
    {
      "cell_type": "markdown",
      "source": [
        "## Classification Model 2"
      ],
      "metadata": {
        "id": "LPufeNyog7yY"
      }
    },
    {
      "cell_type": "code",
      "source": [
        "# Model number 2"
      ],
      "metadata": {
        "id": "E41xCAOog9VF"
      },
      "execution_count": null,
      "outputs": []
    },
    {
      "cell_type": "markdown",
      "source": [
        "## Classification Model 3"
      ],
      "metadata": {
        "id": "DNpn6zV1g_gl"
      }
    },
    {
      "cell_type": "code",
      "source": [
        "# Model number 3"
      ],
      "metadata": {
        "id": "N88gwpRahBnA"
      },
      "execution_count": 26,
      "outputs": []
    }
  ]
}