{
  "nbformat": 4,
  "nbformat_minor": 0,
  "metadata": {
    "colab": {
      "name": "project-1.ipynb",
      "provenance": [],
      "collapsed_sections": [],
      "include_colab_link": true
    },
    "kernelspec": {
      "display_name": "Python 3",
      "name": "python3"
    }
  },
  "cells": [
    {
      "cell_type": "markdown",
      "metadata": {
        "id": "view-in-github",
        "colab_type": "text"
      },
      "source": [
        "<a href=\"https://colab.research.google.com/github/powerSeries/NN-projects/blob/main/project_1.ipynb\" target=\"_parent\"><img src=\"https://colab.research.google.com/assets/colab-badge.svg\" alt=\"Open In Colab\"/></a>"
      ]
    },
    {
      "cell_type": "markdown",
      "metadata": {
        "id": "vB3bHSucPIVs"
      },
      "source": [
        "Abbreviated data preparation for the Wine Quality Problem (Project 1)"
      ]
    },
    {
      "cell_type": "code",
      "metadata": {
        "id": "XrcPuh9-KY0j",
        "colab": {
          "base_uri": "https://localhost:8080/"
        },
        "outputId": "971c923f-12aa-429d-9027-e7d02a19a2a8"
      },
      "source": [
        "# Import Required Libraries  \n",
        "import matplotlib.pyplot as plt \n",
        "import numpy as np \n",
        "# This time we need to also import pandas\n",
        "import pandas as pd \n",
        "\n",
        "# Read in white wine data \n",
        "# USES PANDAS (pd) to create a PANDAS DataFrame OBJECT:\n",
        "white = pd.read_csv(\"http://archive.ics.uci.edu/ml/machine-learning-databases/wine-quality/winequality-white.csv\", sep =';') \n",
        "\n",
        "# Read in red wine data \n",
        "# USES PANDAS (pd) to create a PANDAS DataFrame OBJECT:\n",
        "red = pd.read_csv(\"http://archive.ics.uci.edu/ml/machine-learning-databases/wine-quality/winequality-red.csv\", sep =';') \n",
        "\n",
        "# Add `type` column to `red` with price one  - done with PANDAS\n",
        "red['type'] = 1\n",
        "  \n",
        "# Add `type` column to `white` with price zero - done with PANDAS \n",
        "white['type'] = 0\n",
        "  \n",
        "# Append `white` to `red` - done with PANDAS\n",
        "# AFTER THIS WE HAVE ALL WINES (red and white) in a SINGLE pandas DataFrame\n",
        "wines = red.append(white, ignore_index = True) \n",
        "\n",
        "# Import SKLEARN\n",
        "import sklearn\n",
        "# Import `train_test_split` from `sklearn.model_selection` \n",
        "from sklearn.model_selection import train_test_split \n",
        "\n",
        "# Specify the  data - \n",
        "X1 = wines.iloc[:, 0:11]\n",
        "X2 = wines.iloc[:,12]\n",
        "X = pd.concat([X1,X2],axis = 1)\n",
        "\n",
        "# Specify the QUALITY target labels and flatten the array \n",
        "y = np.ravel(wines.quality) \n",
        "\n",
        "# Splitting the data set for training and validating  - Done with SKLEARN\n",
        "X_train, X_valid, y_train, y_valid = train_test_split( \n",
        "                 X, y, test_size = 0.25, random_state = 45) \n",
        "\n",
        "# CONVERTING X_train & X_test DataFrame s to TF tensors\n",
        "# Will USE NumPy, TF & Keras after this\n",
        "# import tensorflow as tf \n",
        "\n",
        "Xtrain = X_train.to_numpy()\n",
        "X_valid = X_valid.to_numpy()\n",
        "\n",
        "# In reality:\n",
        "# [1] ALL THE Xtrain patterns (with their y_train targets) \n",
        "# will be used for TRAINING ([TR]), as Xtrain & y_train\n",
        "# [2] MOST OF THE X_valid patterns (and their y_valid targets) \n",
        "#  will be used for VALIDATION ([TT]),  as X_val & y_val\n",
        "# BUT WE WILL SET ASIDE THE LAST 10 for \"testing\" ([TS])\n",
        "#  as X_tst & y_tst\n",
        "\n",
        "# To separate the last 10 in X_valid, let's first see the shape of X_valid\n",
        "X_valid.shape\n",
        "\n",
        "# And verify also the shape of y_valid\n",
        "y_valid.shape\n",
        "\n",
        "# Retain the first 1615 for validation ([TT])\n",
        "Xval = X_valid[:1615]\n",
        "Xval.shape\n",
        "\n",
        "# and now set aside the last 10 for \"test\"\n",
        "Xtst = X_valid[1615:]\n",
        "Xtst.shape\n",
        "\n",
        "y_val = y_valid[:1615]\n",
        "y_val.shape\n",
        "\n",
        "y_tst = y_valid[1615:]\n",
        "y_tst.shape\n",
        "\n",
        "y_tst\n",
        "\n",
        "# NOW, IN ADDITION, CREATE THE TARGETS AS ONE-HOT-ENCODED 4 quality LEVELS\n",
        "# We will track these few targets through the conversion process\n",
        "y_train[272:283]\n",
        "\n",
        "# Function create rank-1 arrays where 3,4,5,6,7,8,9 are mapped to 1 or 2 or 3 or 4 \n",
        "def to_4cs(x):\n",
        "  lx = len(x)\n",
        "  results = np.zeros(lx)\n",
        "  for i in range(lx):\n",
        "      # print( \"start\")\n",
        "      xa = x[i];\n",
        "      if xa <= 3:\n",
        "          results[i] = 1      # 1, 2 and 3 map to Q-LEVEL 1 ( BAD Wine)\n",
        "      elif xa <=6:\n",
        "          results[i] = 2      # 4, 5 and 6 map to Q-LEVEL 2  (MEDIUM Wine)\n",
        "      elif xa <=8:\n",
        "          results[i] = 3      # 7 and 8 and 6 map to Q-LEVEL 3  (GOOD Wine)\n",
        "      else:\n",
        "          results[i] = 4      # 9 and above map to Q-LEVEL 4  (EXCELLENT Wine)\n",
        "    # results[i, label] = 1.\n",
        "  results = results.astype(int)\n",
        "  return results\n",
        "\n",
        "train_labels = to_4cs(y_train)\n",
        "val_labels = to_4cs(y_val)\n",
        "tst_labels = to_4cs(y_tst)\n",
        "\n",
        "# Let's verify that the trainnig targets that we are tracking\n",
        "# were converted to levels (1 = BAD; 2 = MEDIUM; 3 = GOOD; 4- EXCELLENT) correctly:\n",
        "train_labels[272:283]\n",
        "\n",
        "# NOW, ONE-HOT ENCODING OF ALL 3  TARGET ARRAYS\n",
        "# define a function to do the one-hot-encoding of output labels\n",
        "\n",
        "def to_one_hot(labels, dimension=4):\n",
        "    results = np.zeros((len(labels), dimension))\n",
        "    for i, label in enumerate(labels-1):\n",
        "        results[i, label] = 1.\n",
        "    return results\n",
        "\n",
        "one_hot_train_labels = to_one_hot(train_labels)\n",
        "one_hot_val_labels = to_one_hot(val_labels)\n",
        "one_hot_tst_labels = to_one_hot(tst_labels)\n",
        "\n",
        "#Let's verify that the training targets we have tracked were\n",
        "# one-hot encoded correctly\n",
        "one_hot_train_labels[272:283,]\n",
        "\n",
        "# SO, AFTER EXECUTING THIS CELL, YOU WILL HAVE:\n",
        "# FOR TRAINING:\n",
        "#  Xtrain (4872, 12)...y_train (4872,)...train_labels(4872,)....one_hot_train_labels (4872,4)\n",
        "# FOR VALIDATING:\n",
        "#  Xval (1615, 12)...y_val (1615,)...val_labels(1615,)...one_hot_val_labels (1615,4)\n",
        "# FOR TESTING:\n",
        "#  Xtst (10, 12)...y_tst (10,)...tst_labels(10,)... one_hot_tst_labels (10,4)\n",
        "# PLEASE DO NOT CHANGE THE NAMES OF THESE VARIABLES (So that instructor can use them)"
      ],
      "execution_count": 3,
      "outputs": [
        {
          "output_type": "execute_result",
          "data": {
            "text/plain": [
              "array([[0., 1., 0., 0.],\n",
              "       [0., 1., 0., 0.],\n",
              "       [0., 1., 0., 0.],\n",
              "       [0., 1., 0., 0.],\n",
              "       [0., 1., 0., 0.],\n",
              "       [0., 1., 0., 0.],\n",
              "       [0., 0., 1., 0.],\n",
              "       [0., 1., 0., 0.],\n",
              "       [0., 1., 0., 0.],\n",
              "       [0., 0., 1., 0.],\n",
              "       [0., 1., 0., 0.]])"
            ]
          },
          "metadata": {},
          "execution_count": 3
        }
      ]
    },
    {
      "cell_type": "code",
      "source": [
        "import copy\n",
        "\n",
        "## Normalize Data\n",
        "copyTrain = copy.copy(Xtrain)\n",
        "copyVal = copy.copy(Xval)\n",
        "copyTest = copy.copy(Xtst)\n",
        "\n",
        "mean = Xtrain.mean(axis=0)\n",
        "copyTrain -= mean\n",
        "std = Xtrain.std(axis=0)\n",
        "\n",
        "copyTrain /= std\n",
        "\n",
        "copyTest -= mean\n",
        "copyTest /= std\n",
        "\n",
        "copyVal -= mean\n",
        "copyVal /= std"
      ],
      "metadata": {
        "id": "Pgp1PGMnKBqr"
      },
      "execution_count": 4,
      "outputs": []
    },
    {
      "cell_type": "markdown",
      "source": [
        " ++++  END OF THE DATA PREPARATION PART ++++ \n"
      ],
      "metadata": {
        "id": "Bq_9V9XCSd6t"
      }
    },
    {
      "cell_type": "markdown",
      "source": [
        "# Part 2: Regression Model"
      ],
      "metadata": {
        "id": "6Vt3n82EaN98"
      }
    },
    {
      "cell_type": "markdown",
      "source": [
        "### Regression Model 1"
      ],
      "metadata": {
        "id": "saL8T2q2K0Rv"
      }
    },
    {
      "cell_type": "code",
      "source": [
        "# import libraries\n",
        "from tensorflow import keras\n",
        "from tensorflow.keras import layers\n",
        "\n",
        "def build_regmodl1():\n",
        "  regmodl1 = keras.Sequential([\n",
        "    layers.Dense(8, activation=\"relu\"),\n",
        "    layers.Dense(1),\n",
        "  ])\n",
        "  regmodl1.compile(optimizer=\"rmsprop\", loss=\"mse\", metrics=[\"mae\"])\n",
        "  return regmodl1\n",
        "\n",
        "def PrintFinalValues(model_history):\n",
        "  history_dict = model_history.history\n",
        "  loss_values = history_dict['loss']\n",
        "  mae_values = history_dict['mae']\n",
        "  val_loss_values = history_dict['val_loss']\n",
        "  val_mae_values = history_dict['val_mae']\n",
        "\n",
        "  print(\"Final Loss: \", loss_values[len(loss_values) - 1])\n",
        "  print(\"Final MAE: \", mae_values[len(mae_values) - 1])\n",
        "  print(\"Final Validation Loss: \", val_loss_values[len(val_loss_values) - 1])\n",
        "  print(\"Final Validation MAE: \", val_mae_values[len(val_mae_values) - 1])\n",
        "\n",
        "# Builld the model\n",
        "regmod1 = build_regmodl1()\n",
        "\n",
        "# Run fit and store data\n",
        "regmodl1_history = regmod1.fit(x=copyTrain, y=y_train, epochs=50, verbose=2, validation_data=(copyVal, y_val))\n",
        "\n",
        "# Show Model Summary\n",
        "regmod1.summary()\n",
        "\n",
        "PrintFinalValues(regmodl1_history)"
      ],
      "metadata": {
        "id": "WBdR9tpWdYcs",
        "colab": {
          "base_uri": "https://localhost:8080/"
        },
        "outputId": "052e6ca3-2ba7-4e54-d941-a098961e8438"
      },
      "execution_count": 13,
      "outputs": [
        {
          "output_type": "stream",
          "name": "stdout",
          "text": [
            "Epoch 1/50\n",
            "153/153 - 1s - loss: 29.0321 - mae: 5.2134 - val_loss: 21.0750 - val_mae: 4.3934 - 773ms/epoch - 5ms/step\n",
            "Epoch 2/50\n",
            "153/153 - 0s - loss: 15.3441 - mae: 3.6527 - val_loss: 9.6941 - val_mae: 2.7939 - 247ms/epoch - 2ms/step\n",
            "Epoch 3/50\n",
            "153/153 - 0s - loss: 6.4121 - mae: 2.1381 - val_loss: 3.7074 - val_mae: 1.5525 - 249ms/epoch - 2ms/step\n",
            "Epoch 4/50\n",
            "153/153 - 0s - loss: 2.9042 - mae: 1.3463 - val_loss: 2.2116 - val_mae: 1.1729 - 233ms/epoch - 2ms/step\n",
            "Epoch 5/50\n",
            "153/153 - 0s - loss: 1.8836 - mae: 1.0711 - val_loss: 1.5780 - val_mae: 0.9825 - 238ms/epoch - 2ms/step\n",
            "Epoch 6/50\n",
            "153/153 - 0s - loss: 1.3811 - mae: 0.9129 - val_loss: 1.2631 - val_mae: 0.8670 - 229ms/epoch - 1ms/step\n",
            "Epoch 7/50\n",
            "153/153 - 0s - loss: 1.0962 - mae: 0.8120 - val_loss: 1.0675 - val_mae: 0.7849 - 246ms/epoch - 2ms/step\n",
            "Epoch 8/50\n",
            "153/153 - 0s - loss: 0.9083 - mae: 0.7418 - val_loss: 0.9376 - val_mae: 0.7310 - 238ms/epoch - 2ms/step\n",
            "Epoch 9/50\n",
            "153/153 - 0s - loss: 0.7910 - mae: 0.6915 - val_loss: 0.8342 - val_mae: 0.6850 - 236ms/epoch - 2ms/step\n",
            "Epoch 10/50\n",
            "153/153 - 0s - loss: 0.7117 - mae: 0.6540 - val_loss: 0.7696 - val_mae: 0.6564 - 248ms/epoch - 2ms/step\n",
            "Epoch 11/50\n",
            "153/153 - 0s - loss: 0.6603 - mae: 0.6278 - val_loss: 0.7370 - val_mae: 0.6426 - 229ms/epoch - 1ms/step\n",
            "Epoch 12/50\n",
            "153/153 - 0s - loss: 0.6239 - mae: 0.6099 - val_loss: 0.7007 - val_mae: 0.6261 - 238ms/epoch - 2ms/step\n",
            "Epoch 13/50\n",
            "153/153 - 0s - loss: 0.5996 - mae: 0.5978 - val_loss: 0.6696 - val_mae: 0.6129 - 229ms/epoch - 1ms/step\n",
            "Epoch 14/50\n",
            "153/153 - 0s - loss: 0.5824 - mae: 0.5899 - val_loss: 0.6509 - val_mae: 0.6060 - 244ms/epoch - 2ms/step\n",
            "Epoch 15/50\n",
            "153/153 - 0s - loss: 0.5692 - mae: 0.5835 - val_loss: 0.6388 - val_mae: 0.6003 - 232ms/epoch - 2ms/step\n",
            "Epoch 16/50\n",
            "153/153 - 0s - loss: 0.5590 - mae: 0.5771 - val_loss: 0.6298 - val_mae: 0.5960 - 249ms/epoch - 2ms/step\n",
            "Epoch 17/50\n",
            "153/153 - 0s - loss: 0.5494 - mae: 0.5723 - val_loss: 0.6188 - val_mae: 0.5922 - 222ms/epoch - 1ms/step\n",
            "Epoch 18/50\n",
            "153/153 - 0s - loss: 0.5416 - mae: 0.5687 - val_loss: 0.6160 - val_mae: 0.5935 - 242ms/epoch - 2ms/step\n",
            "Epoch 19/50\n",
            "153/153 - 0s - loss: 0.5371 - mae: 0.5663 - val_loss: 0.5976 - val_mae: 0.5830 - 244ms/epoch - 2ms/step\n",
            "Epoch 20/50\n",
            "153/153 - 0s - loss: 0.5311 - mae: 0.5635 - val_loss: 0.5936 - val_mae: 0.5846 - 240ms/epoch - 2ms/step\n",
            "Epoch 21/50\n",
            "153/153 - 0s - loss: 0.5280 - mae: 0.5629 - val_loss: 0.5881 - val_mae: 0.5814 - 231ms/epoch - 2ms/step\n",
            "Epoch 22/50\n",
            "153/153 - 0s - loss: 0.5245 - mae: 0.5601 - val_loss: 0.5829 - val_mae: 0.5777 - 241ms/epoch - 2ms/step\n",
            "Epoch 23/50\n",
            "153/153 - 0s - loss: 0.5215 - mae: 0.5587 - val_loss: 0.5748 - val_mae: 0.5746 - 232ms/epoch - 2ms/step\n",
            "Epoch 24/50\n",
            "153/153 - 0s - loss: 0.5191 - mae: 0.5580 - val_loss: 0.5787 - val_mae: 0.5767 - 232ms/epoch - 2ms/step\n",
            "Epoch 25/50\n",
            "153/153 - 0s - loss: 0.5179 - mae: 0.5570 - val_loss: 0.5670 - val_mae: 0.5707 - 227ms/epoch - 1ms/step\n",
            "Epoch 26/50\n",
            "153/153 - 0s - loss: 0.5147 - mae: 0.5558 - val_loss: 0.5644 - val_mae: 0.5714 - 255ms/epoch - 2ms/step\n",
            "Epoch 27/50\n",
            "153/153 - 0s - loss: 0.5125 - mae: 0.5550 - val_loss: 0.5629 - val_mae: 0.5707 - 239ms/epoch - 2ms/step\n",
            "Epoch 28/50\n",
            "153/153 - 0s - loss: 0.5117 - mae: 0.5551 - val_loss: 0.5584 - val_mae: 0.5679 - 232ms/epoch - 2ms/step\n",
            "Epoch 29/50\n",
            "153/153 - 0s - loss: 0.5105 - mae: 0.5536 - val_loss: 0.5661 - val_mae: 0.5733 - 235ms/epoch - 2ms/step\n",
            "Epoch 30/50\n",
            "153/153 - 0s - loss: 0.5088 - mae: 0.5530 - val_loss: 0.5551 - val_mae: 0.5670 - 218ms/epoch - 1ms/step\n",
            "Epoch 31/50\n",
            "153/153 - 0s - loss: 0.5087 - mae: 0.5536 - val_loss: 0.5646 - val_mae: 0.5746 - 236ms/epoch - 2ms/step\n",
            "Epoch 32/50\n",
            "153/153 - 0s - loss: 0.5057 - mae: 0.5519 - val_loss: 0.5519 - val_mae: 0.5676 - 224ms/epoch - 1ms/step\n",
            "Epoch 33/50\n",
            "153/153 - 0s - loss: 0.5035 - mae: 0.5508 - val_loss: 0.5541 - val_mae: 0.5671 - 246ms/epoch - 2ms/step\n",
            "Epoch 34/50\n",
            "153/153 - 0s - loss: 0.5017 - mae: 0.5503 - val_loss: 0.5498 - val_mae: 0.5666 - 242ms/epoch - 2ms/step\n",
            "Epoch 35/50\n",
            "153/153 - 0s - loss: 0.5024 - mae: 0.5517 - val_loss: 0.5495 - val_mae: 0.5643 - 239ms/epoch - 2ms/step\n",
            "Epoch 36/50\n",
            "153/153 - 0s - loss: 0.5007 - mae: 0.5496 - val_loss: 0.5445 - val_mae: 0.5636 - 238ms/epoch - 2ms/step\n",
            "Epoch 37/50\n",
            "153/153 - 0s - loss: 0.5008 - mae: 0.5493 - val_loss: 0.5456 - val_mae: 0.5638 - 231ms/epoch - 2ms/step\n",
            "Epoch 38/50\n",
            "153/153 - 0s - loss: 0.5001 - mae: 0.5495 - val_loss: 0.5433 - val_mae: 0.5612 - 242ms/epoch - 2ms/step\n",
            "Epoch 39/50\n",
            "153/153 - 0s - loss: 0.4979 - mae: 0.5479 - val_loss: 0.5406 - val_mae: 0.5607 - 235ms/epoch - 2ms/step\n",
            "Epoch 40/50\n",
            "153/153 - 0s - loss: 0.4970 - mae: 0.5482 - val_loss: 0.5431 - val_mae: 0.5630 - 233ms/epoch - 2ms/step\n",
            "Epoch 41/50\n",
            "153/153 - 0s - loss: 0.4967 - mae: 0.5483 - val_loss: 0.5348 - val_mae: 0.5589 - 231ms/epoch - 2ms/step\n",
            "Epoch 42/50\n",
            "153/153 - 0s - loss: 0.4957 - mae: 0.5473 - val_loss: 0.5367 - val_mae: 0.5606 - 238ms/epoch - 2ms/step\n",
            "Epoch 43/50\n",
            "153/153 - 0s - loss: 0.4949 - mae: 0.5461 - val_loss: 0.5359 - val_mae: 0.5589 - 240ms/epoch - 2ms/step\n",
            "Epoch 44/50\n",
            "153/153 - 0s - loss: 0.4934 - mae: 0.5468 - val_loss: 0.5323 - val_mae: 0.5574 - 247ms/epoch - 2ms/step\n",
            "Epoch 45/50\n",
            "153/153 - 0s - loss: 0.4933 - mae: 0.5466 - val_loss: 0.5340 - val_mae: 0.5590 - 256ms/epoch - 2ms/step\n",
            "Epoch 46/50\n",
            "153/153 - 0s - loss: 0.4931 - mae: 0.5468 - val_loss: 0.5332 - val_mae: 0.5584 - 238ms/epoch - 2ms/step\n",
            "Epoch 47/50\n",
            "153/153 - 0s - loss: 0.4925 - mae: 0.5462 - val_loss: 0.5330 - val_mae: 0.5579 - 225ms/epoch - 1ms/step\n",
            "Epoch 48/50\n",
            "153/153 - 0s - loss: 0.4896 - mae: 0.5444 - val_loss: 0.5453 - val_mae: 0.5667 - 233ms/epoch - 2ms/step\n",
            "Epoch 49/50\n",
            "153/153 - 0s - loss: 0.4916 - mae: 0.5464 - val_loss: 0.5275 - val_mae: 0.5566 - 228ms/epoch - 1ms/step\n",
            "Epoch 50/50\n",
            "153/153 - 0s - loss: 0.4903 - mae: 0.5457 - val_loss: 0.5300 - val_mae: 0.5561 - 244ms/epoch - 2ms/step\n",
            "Model: \"sequential_8\"\n",
            "_________________________________________________________________\n",
            " Layer (type)                Output Shape              Param #   \n",
            "=================================================================\n",
            " dense_24 (Dense)            (None, 8)                 104       \n",
            "                                                                 \n",
            " dense_25 (Dense)            (None, 1)                 9         \n",
            "                                                                 \n",
            "=================================================================\n",
            "Total params: 113\n",
            "Trainable params: 113\n",
            "Non-trainable params: 0\n",
            "_________________________________________________________________\n",
            "Final Loss:  0.49027666449546814\n",
            "Final MAE:  0.5456568002700806\n",
            "Final Validation Loss:  0.5299665331840515\n",
            "Final Validation MAE:  0.5561287999153137\n"
          ]
        }
      ]
    },
    {
      "cell_type": "code",
      "source": [
        "def plot_model_history(model_history):\n",
        "  history_dict = model_history.history\n",
        "  history_dict.keys()\n",
        "\n",
        "  loss_values = history_dict[\"loss\"]\n",
        "  val_loss_values = history_dict[\"val_loss\"]\n",
        "\n",
        "  epochs = range(1, len(loss_values) + 1)\n",
        "\n",
        "\n",
        "  # Plot current data\n",
        "  plt.plot(epochs, loss_values, \"bo\", label=\"Training Loss\")\n",
        "  plt.plot(epochs, val_loss_values, \"b\", label=\"Validation Loss\")\n",
        "  plt.title(\"Training and Validation Loss\")\n",
        "  plt.xlabel(\"Epochs\")\n",
        "  plt.ylabel(\"Accuracy\")\n",
        "  plt.legend()\n",
        "  plt.show()\n",
        "  return"
      ],
      "metadata": {
        "id": "xnMledbiYd1K"
      },
      "execution_count": 14,
      "outputs": []
    },
    {
      "cell_type": "markdown",
      "source": [
        "Plotting Regression Model 1\n",
        "\n"
      ],
      "metadata": {
        "id": "qVemg7OQYeSW"
      }
    },
    {
      "cell_type": "code",
      "source": [
        "plot_model_history(regmodl1_history)"
      ],
      "metadata": {
        "id": "2PY3AbKfj4Gc",
        "outputId": "02907e8a-4b58-4f84-aabd-25987ea646d0",
        "colab": {
          "base_uri": "https://localhost:8080/",
          "height": 295
        }
      },
      "execution_count": 15,
      "outputs": [
        {
          "output_type": "display_data",
          "data": {
            "image/png": "[encoded data removed]",
            "text/plain": [
              "<Figure size 432x288 with 1 Axes>"
            ]
          },
          "metadata": {
            "needs_background": "light"
          }
        }
      ]
    },
    {
      "cell_type": "markdown",
      "source": [
        "### Regression Model 2"
      ],
      "metadata": {
        "id": "mmbjOEY3K49F"
      }
    },
    {
      "cell_type": "code",
      "source": [
        "# reg mod 2\n",
        "def build_regmodl2():\n",
        "  model = keras.Sequential([\n",
        "    layers.Dense(128, activation=\"relu\"),\n",
        "    layers.Dense(64, activation=\"relu\"),\n",
        "    layers.Dense(30, activation=\"relu\"),\n",
        "    layers.Dense(5, activation=\"relu\"),\n",
        "    layers.Dense(1),\n",
        "  ])\n",
        "  model.compile(optimizer=\"rmsprop\", loss=\"mse\", metrics=[\"mae\"])\n",
        "  return model;\n",
        "\n",
        "regmodl2 = build_regmodl2();\n",
        "\n",
        "regmodl2_history = regmodl2.fit(x=copyTrain, y=y_train, epochs=50, verbose=2, validation_data=(copyVal, y_val))\n",
        "\n",
        "regmodl2.summary()\n",
        "\n",
        "PrintFinalValues(regmodl2_history)"
      ],
      "metadata": {
        "id": "4MAZXPzjl4sb",
        "colab": {
          "base_uri": "https://localhost:8080/"
        },
        "outputId": "45a23e3d-5dd1-4698-bada-e1da333ce3b6"
      },
      "execution_count": 23,
      "outputs": [
        {
          "output_type": "stream",
          "name": "stdout",
          "text": [
            "Epoch 1/50\n",
            "153/153 - 2s - loss: 4.1630 - mae: 1.4357 - val_loss: 1.1416 - val_mae: 0.8054 - 2s/epoch - 15ms/step\n",
            "Epoch 2/50\n",
            "153/153 - 0s - loss: 0.7802 - mae: 0.6866 - val_loss: 0.9882 - val_mae: 0.7584 - 481ms/epoch - 3ms/step\n",
            "Epoch 3/50\n",
            "153/153 - 1s - loss: 0.6059 - mae: 0.6061 - val_loss: 0.5770 - val_mae: 0.5754 - 550ms/epoch - 4ms/step\n",
            "Epoch 4/50\n",
            "153/153 - 0s - loss: 0.5386 - mae: 0.5720 - val_loss: 0.6743 - val_mae: 0.6253 - 472ms/epoch - 3ms/step\n",
            "Epoch 5/50\n",
            "153/153 - 1s - loss: 0.5184 - mae: 0.5617 - val_loss: 0.7417 - val_mae: 0.6717 - 538ms/epoch - 4ms/step\n",
            "Epoch 6/50\n",
            "153/153 - 0s - loss: 0.5014 - mae: 0.5530 - val_loss: 0.6073 - val_mae: 0.6001 - 482ms/epoch - 3ms/step\n",
            "Epoch 7/50\n",
            "153/153 - 0s - loss: 0.4903 - mae: 0.5463 - val_loss: 0.5247 - val_mae: 0.5490 - 496ms/epoch - 3ms/step\n",
            "Epoch 8/50\n",
            "153/153 - 0s - loss: 0.4870 - mae: 0.5450 - val_loss: 0.6422 - val_mae: 0.6173 - 496ms/epoch - 3ms/step\n",
            "Epoch 9/50\n",
            "153/153 - 0s - loss: 0.4713 - mae: 0.5368 - val_loss: 0.7326 - val_mae: 0.6695 - 494ms/epoch - 3ms/step\n",
            "Epoch 10/50\n",
            "153/153 - 0s - loss: 0.4723 - mae: 0.5360 - val_loss: 0.5992 - val_mae: 0.5912 - 407ms/epoch - 3ms/step\n",
            "Epoch 11/50\n",
            "153/153 - 0s - loss: 0.4616 - mae: 0.5307 - val_loss: 0.6389 - val_mae: 0.6135 - 441ms/epoch - 3ms/step\n",
            "Epoch 12/50\n",
            "153/153 - 0s - loss: 0.4602 - mae: 0.5274 - val_loss: 0.7246 - val_mae: 0.6657 - 427ms/epoch - 3ms/step\n",
            "Epoch 13/50\n",
            "153/153 - 0s - loss: 0.4542 - mae: 0.5276 - val_loss: 0.5660 - val_mae: 0.5753 - 404ms/epoch - 3ms/step\n",
            "Epoch 14/50\n",
            "153/153 - 0s - loss: 0.4573 - mae: 0.5277 - val_loss: 0.5526 - val_mae: 0.5638 - 285ms/epoch - 2ms/step\n",
            "Epoch 15/50\n",
            "153/153 - 0s - loss: 0.4513 - mae: 0.5243 - val_loss: 0.5035 - val_mae: 0.5405 - 275ms/epoch - 2ms/step\n",
            "Epoch 16/50\n",
            "153/153 - 0s - loss: 0.4395 - mae: 0.5185 - val_loss: 0.5324 - val_mae: 0.5623 - 267ms/epoch - 2ms/step\n",
            "Epoch 17/50\n",
            "153/153 - 0s - loss: 0.4391 - mae: 0.5170 - val_loss: 0.6061 - val_mae: 0.5924 - 289ms/epoch - 2ms/step\n",
            "Epoch 18/50\n",
            "153/153 - 0s - loss: 0.4309 - mae: 0.5146 - val_loss: 0.5610 - val_mae: 0.5774 - 284ms/epoch - 2ms/step\n",
            "Epoch 19/50\n",
            "153/153 - 0s - loss: 0.4366 - mae: 0.5155 - val_loss: 0.7812 - val_mae: 0.6876 - 283ms/epoch - 2ms/step\n",
            "Epoch 20/50\n",
            "153/153 - 0s - loss: 0.4262 - mae: 0.5097 - val_loss: 0.6539 - val_mae: 0.6225 - 276ms/epoch - 2ms/step\n",
            "Epoch 21/50\n",
            "153/153 - 0s - loss: 0.4225 - mae: 0.5077 - val_loss: 0.5261 - val_mae: 0.5521 - 284ms/epoch - 2ms/step\n",
            "Epoch 22/50\n",
            "153/153 - 0s - loss: 0.4178 - mae: 0.5041 - val_loss: 0.5445 - val_mae: 0.5590 - 283ms/epoch - 2ms/step\n",
            "Epoch 23/50\n",
            "153/153 - 0s - loss: 0.4132 - mae: 0.5020 - val_loss: 0.6607 - val_mae: 0.6273 - 285ms/epoch - 2ms/step\n",
            "Epoch 24/50\n",
            "153/153 - 0s - loss: 0.4155 - mae: 0.5047 - val_loss: 0.5925 - val_mae: 0.5943 - 271ms/epoch - 2ms/step\n",
            "Epoch 25/50\n",
            "153/153 - 0s - loss: 0.4085 - mae: 0.4987 - val_loss: 0.6271 - val_mae: 0.6063 - 281ms/epoch - 2ms/step\n",
            "Epoch 26/50\n",
            "153/153 - 0s - loss: 0.4067 - mae: 0.4961 - val_loss: 0.7095 - val_mae: 0.6611 - 291ms/epoch - 2ms/step\n",
            "Epoch 27/50\n",
            "153/153 - 0s - loss: 0.4016 - mae: 0.4931 - val_loss: 0.5214 - val_mae: 0.5476 - 360ms/epoch - 2ms/step\n",
            "Epoch 28/50\n",
            "153/153 - 0s - loss: 0.4022 - mae: 0.4930 - val_loss: 0.5747 - val_mae: 0.5708 - 312ms/epoch - 2ms/step\n",
            "Epoch 29/50\n",
            "153/153 - 0s - loss: 0.3982 - mae: 0.4937 - val_loss: 0.5343 - val_mae: 0.5530 - 282ms/epoch - 2ms/step\n",
            "Epoch 30/50\n",
            "153/153 - 0s - loss: 0.3922 - mae: 0.4865 - val_loss: 0.6009 - val_mae: 0.5909 - 267ms/epoch - 2ms/step\n",
            "Epoch 31/50\n",
            "153/153 - 0s - loss: 0.3863 - mae: 0.4841 - val_loss: 0.5208 - val_mae: 0.5451 - 290ms/epoch - 2ms/step\n",
            "Epoch 32/50\n",
            "153/153 - 0s - loss: 0.3848 - mae: 0.4819 - val_loss: 0.5504 - val_mae: 0.5694 - 286ms/epoch - 2ms/step\n",
            "Epoch 33/50\n",
            "153/153 - 0s - loss: 0.3873 - mae: 0.4847 - val_loss: 0.6863 - val_mae: 0.6369 - 263ms/epoch - 2ms/step\n",
            "Epoch 34/50\n",
            "153/153 - 0s - loss: 0.3817 - mae: 0.4813 - val_loss: 0.5647 - val_mae: 0.5664 - 283ms/epoch - 2ms/step\n",
            "Epoch 35/50\n",
            "153/153 - 0s - loss: 0.3739 - mae: 0.4728 - val_loss: 0.5831 - val_mae: 0.5747 - 275ms/epoch - 2ms/step\n",
            "Epoch 36/50\n",
            "153/153 - 0s - loss: 0.3720 - mae: 0.4734 - val_loss: 0.5278 - val_mae: 0.5455 - 276ms/epoch - 2ms/step\n",
            "Epoch 37/50\n",
            "153/153 - 0s - loss: 0.3773 - mae: 0.4773 - val_loss: 0.5525 - val_mae: 0.5684 - 274ms/epoch - 2ms/step\n",
            "Epoch 38/50\n",
            "153/153 - 0s - loss: 0.3675 - mae: 0.4701 - val_loss: 0.5854 - val_mae: 0.5722 - 281ms/epoch - 2ms/step\n",
            "Epoch 39/50\n",
            "153/153 - 0s - loss: 0.3674 - mae: 0.4706 - val_loss: 0.6109 - val_mae: 0.5996 - 269ms/epoch - 2ms/step\n",
            "Epoch 40/50\n",
            "153/153 - 0s - loss: 0.3655 - mae: 0.4704 - val_loss: 0.5068 - val_mae: 0.5331 - 275ms/epoch - 2ms/step\n",
            "Epoch 41/50\n",
            "153/153 - 0s - loss: 0.3603 - mae: 0.4649 - val_loss: 0.5199 - val_mae: 0.5445 - 283ms/epoch - 2ms/step\n",
            "Epoch 42/50\n",
            "153/153 - 0s - loss: 0.3578 - mae: 0.4636 - val_loss: 0.6468 - val_mae: 0.6154 - 291ms/epoch - 2ms/step\n",
            "Epoch 43/50\n",
            "153/153 - 0s - loss: 0.3485 - mae: 0.4583 - val_loss: 0.5162 - val_mae: 0.5384 - 261ms/epoch - 2ms/step\n",
            "Epoch 44/50\n",
            "153/153 - 0s - loss: 0.3478 - mae: 0.4573 - val_loss: 0.5380 - val_mae: 0.5480 - 279ms/epoch - 2ms/step\n",
            "Epoch 45/50\n",
            "153/153 - 0s - loss: 0.3437 - mae: 0.4552 - val_loss: 0.5260 - val_mae: 0.5449 - 281ms/epoch - 2ms/step\n",
            "Epoch 46/50\n",
            "153/153 - 0s - loss: 0.3418 - mae: 0.4567 - val_loss: 0.5245 - val_mae: 0.5395 - 277ms/epoch - 2ms/step\n",
            "Epoch 47/50\n",
            "153/153 - 0s - loss: 0.3410 - mae: 0.4536 - val_loss: 0.5862 - val_mae: 0.5834 - 261ms/epoch - 2ms/step\n",
            "Epoch 48/50\n",
            "153/153 - 0s - loss: 0.3401 - mae: 0.4540 - val_loss: 0.5982 - val_mae: 0.5782 - 282ms/epoch - 2ms/step\n",
            "Epoch 49/50\n",
            "153/153 - 0s - loss: 0.3406 - mae: 0.4523 - val_loss: 0.5324 - val_mae: 0.5487 - 296ms/epoch - 2ms/step\n",
            "Epoch 50/50\n",
            "153/153 - 0s - loss: 0.3312 - mae: 0.4471 - val_loss: 0.5152 - val_mae: 0.5377 - 276ms/epoch - 2ms/step\n",
            "Model: \"sequential_14\"\n",
            "_________________________________________________________________\n",
            " Layer (type)                Output Shape              Param #   \n",
            "=================================================================\n",
            " dense_41 (Dense)            (None, 128)               1664      \n",
            "                                                                 \n",
            " dense_42 (Dense)            (None, 64)                8256      \n",
            "                                                                 \n",
            " dense_43 (Dense)            (None, 30)                1950      \n",
            "                                                                 \n",
            " dense_44 (Dense)            (None, 5)                 155       \n",
            "                                                                 \n",
            " dense_45 (Dense)            (None, 1)                 6         \n",
            "                                                                 \n",
            "=================================================================\n",
            "Total params: 12,031\n",
            "Trainable params: 12,031\n",
            "Non-trainable params: 0\n",
            "_________________________________________________________________\n",
            "Final Loss:  0.33119672536849976\n",
            "Final MAE:  0.4471225440502167\n",
            "Final Validation Loss:  0.515165388584137\n",
            "Final Validation MAE:  0.5376866459846497\n"
          ]
        }
      ]
    },
    {
      "cell_type": "markdown",
      "source": [
        "Plotting Regression Model 2"
      ],
      "metadata": {
        "id": "JRHjNr9xgXeT"
      }
    },
    {
      "cell_type": "code",
      "source": [
        "plot_model_history(regmodl2_history)"
      ],
      "metadata": {
        "id": "SNIWIhR2gaYN",
        "outputId": "1db3c2ed-e262-4027-8aaa-0503e7e263a8",
        "colab": {
          "base_uri": "https://localhost:8080/",
          "height": 295
        }
      },
      "execution_count": 24,
      "outputs": [
        {
          "output_type": "display_data",
          "data": {
            "image/png": "[encoded data removed]",
            "text/plain": [
              "<Figure size 432x288 with 1 Axes>"
            ]
          },
          "metadata": {
            "needs_background": "light"
          }
        }
      ]
    },
    {
      "cell_type": "markdown",
      "source": [
        "### Regression Model 3"
      ],
      "metadata": {
        "id": "9bt4_Yz4K8e9"
      }
    },
    {
      "cell_type": "code",
      "source": [
        "# reg mod 3\n",
        "def build_regmodl3():\n",
        "  model = keras.Sequential([\n",
        "    layers.Dense(512, activation=\"relu\"),\n",
        "    layers.Dense(125, activation=\"relu\"),\n",
        "    layers.Dense(64, activation=\"relu\"),\n",
        "    layers.Dense(30, activation=\"relu\"),\n",
        "    layers.Dense(5, activation=\"relu\"),\n",
        "    layers.Dense(1)                    \n",
        "  ])\n",
        "  model.compile(optimizer=\"rmsprop\", loss=\"mse\", metrics=[\"mae\"])\n",
        "  return model;\n",
        "\n",
        "regmodl3 = build_regmodl3()\n",
        "\n",
        "regmodl3_history = regmodl3.fit(x=copyTrain, y=y_train, epochs=50, verbose=2, validation_data=(copyVal, y_val))\n",
        "\n",
        "regmodl3.summary()"
      ],
      "metadata": {
        "id": "FKRKSxhfAeWi",
        "colab": {
          "base_uri": "https://localhost:8080/"
        },
        "outputId": "d6e46527-8258-4e2f-d33a-35fa48f6741e"
      },
      "execution_count": null,
      "outputs": [
        {
          "output_type": "stream",
          "name": "stdout",
          "text": [
            "Epoch 1/50\n",
            "153/153 - 2s - loss: 2.2998 - mae: 1.0602 - val_loss: 0.8355 - val_mae: 0.6859 - 2s/epoch - 15ms/step\n",
            "Epoch 2/50\n",
            "153/153 - 1s - loss: 0.7821 - mae: 0.6869 - val_loss: 1.2976 - val_mae: 0.9429 - 636ms/epoch - 4ms/step\n",
            "Epoch 3/50\n",
            "153/153 - 1s - loss: 0.6738 - mae: 0.6397 - val_loss: 1.0162 - val_mae: 0.8168 - 821ms/epoch - 5ms/step\n",
            "Epoch 4/50\n",
            "153/153 - 1s - loss: 0.6283 - mae: 0.6228 - val_loss: 0.8759 - val_mae: 0.7379 - 746ms/epoch - 5ms/step\n",
            "Epoch 5/50\n",
            "153/153 - 1s - loss: 0.6012 - mae: 0.6055 - val_loss: 0.6881 - val_mae: 0.6419 - 745ms/epoch - 5ms/step\n",
            "Epoch 6/50\n",
            "153/153 - 1s - loss: 0.5743 - mae: 0.5897 - val_loss: 1.1279 - val_mae: 0.8681 - 697ms/epoch - 5ms/step\n",
            "Epoch 7/50\n",
            "153/153 - 1s - loss: 0.5606 - mae: 0.5895 - val_loss: 0.5134 - val_mae: 0.5607 - 746ms/epoch - 5ms/step\n",
            "Epoch 8/50\n",
            "153/153 - 1s - loss: 0.5506 - mae: 0.5816 - val_loss: 0.8414 - val_mae: 0.7243 - 790ms/epoch - 5ms/step\n",
            "Epoch 9/50\n",
            "153/153 - 1s - loss: 0.5469 - mae: 0.5827 - val_loss: 0.5304 - val_mae: 0.5605 - 751ms/epoch - 5ms/step\n",
            "Epoch 10/50\n",
            "153/153 - 1s - loss: 0.5224 - mae: 0.5624 - val_loss: 1.0439 - val_mae: 0.8320 - 668ms/epoch - 4ms/step\n",
            "Epoch 11/50\n",
            "153/153 - 1s - loss: 0.5193 - mae: 0.5630 - val_loss: 0.8076 - val_mae: 0.7035 - 789ms/epoch - 5ms/step\n",
            "Epoch 12/50\n",
            "153/153 - 1s - loss: 0.5153 - mae: 0.5631 - val_loss: 0.6379 - val_mae: 0.6157 - 694ms/epoch - 5ms/step\n",
            "Epoch 13/50\n",
            "153/153 - 1s - loss: 0.4998 - mae: 0.5509 - val_loss: 0.7710 - val_mae: 0.6937 - 800ms/epoch - 5ms/step\n",
            "Epoch 14/50\n",
            "153/153 - 1s - loss: 0.5039 - mae: 0.5544 - val_loss: 0.4963 - val_mae: 0.5428 - 738ms/epoch - 5ms/step\n",
            "Epoch 15/50\n",
            "153/153 - 1s - loss: 0.4850 - mae: 0.5447 - val_loss: 0.4897 - val_mae: 0.5336 - 742ms/epoch - 5ms/step\n",
            "Epoch 16/50\n",
            "153/153 - 1s - loss: 0.4851 - mae: 0.5456 - val_loss: 0.7640 - val_mae: 0.6945 - 740ms/epoch - 5ms/step\n",
            "Epoch 17/50\n",
            "153/153 - 1s - loss: 0.4797 - mae: 0.5389 - val_loss: 0.4957 - val_mae: 0.5447 - 712ms/epoch - 5ms/step\n",
            "Epoch 18/50\n",
            "153/153 - 1s - loss: 0.4682 - mae: 0.5327 - val_loss: 0.5448 - val_mae: 0.5663 - 732ms/epoch - 5ms/step\n",
            "Epoch 19/50\n",
            "153/153 - 1s - loss: 0.4642 - mae: 0.5334 - val_loss: 0.5109 - val_mae: 0.5502 - 753ms/epoch - 5ms/step\n",
            "Epoch 20/50\n",
            "153/153 - 1s - loss: 0.4552 - mae: 0.5225 - val_loss: 0.5520 - val_mae: 0.5704 - 785ms/epoch - 5ms/step\n",
            "Epoch 21/50\n",
            "153/153 - 1s - loss: 0.4549 - mae: 0.5277 - val_loss: 0.5771 - val_mae: 0.5820 - 739ms/epoch - 5ms/step\n",
            "Epoch 22/50\n",
            "153/153 - 1s - loss: 0.4367 - mae: 0.5113 - val_loss: 0.5649 - val_mae: 0.5754 - 726ms/epoch - 5ms/step\n",
            "Epoch 23/50\n",
            "153/153 - 1s - loss: 0.4385 - mae: 0.5160 - val_loss: 0.7042 - val_mae: 0.6564 - 799ms/epoch - 5ms/step\n",
            "Epoch 24/50\n",
            "153/153 - 1s - loss: 0.4314 - mae: 0.5097 - val_loss: 0.5535 - val_mae: 0.5819 - 689ms/epoch - 5ms/step\n",
            "Epoch 25/50\n",
            "153/153 - 1s - loss: 0.4265 - mae: 0.5104 - val_loss: 0.6149 - val_mae: 0.6091 - 847ms/epoch - 6ms/step\n",
            "Epoch 26/50\n",
            "153/153 - 1s - loss: 0.4214 - mae: 0.5069 - val_loss: 0.5406 - val_mae: 0.5645 - 712ms/epoch - 5ms/step\n",
            "Epoch 27/50\n",
            "153/153 - 1s - loss: 0.4151 - mae: 0.4990 - val_loss: 0.5510 - val_mae: 0.5661 - 693ms/epoch - 5ms/step\n",
            "Epoch 28/50\n",
            "153/153 - 1s - loss: 0.4149 - mae: 0.4998 - val_loss: 0.4999 - val_mae: 0.5437 - 686ms/epoch - 4ms/step\n",
            "Epoch 29/50\n",
            "153/153 - 1s - loss: 0.4112 - mae: 0.5000 - val_loss: 0.7042 - val_mae: 0.6537 - 663ms/epoch - 4ms/step\n",
            "Epoch 30/50\n",
            "153/153 - 1s - loss: 0.4105 - mae: 0.4989 - val_loss: 0.5250 - val_mae: 0.5481 - 634ms/epoch - 4ms/step\n",
            "Epoch 31/50\n",
            "153/153 - 1s - loss: 0.3974 - mae: 0.4909 - val_loss: 0.5303 - val_mae: 0.5583 - 730ms/epoch - 5ms/step\n",
            "Epoch 32/50\n",
            "153/153 - 1s - loss: 0.3861 - mae: 0.4829 - val_loss: 0.8114 - val_mae: 0.7122 - 724ms/epoch - 5ms/step\n",
            "Epoch 33/50\n",
            "153/153 - 1s - loss: 0.3897 - mae: 0.4820 - val_loss: 0.6555 - val_mae: 0.6284 - 784ms/epoch - 5ms/step\n",
            "Epoch 34/50\n",
            "153/153 - 1s - loss: 0.3782 - mae: 0.4771 - val_loss: 0.7938 - val_mae: 0.7097 - 726ms/epoch - 5ms/step\n",
            "Epoch 35/50\n",
            "153/153 - 1s - loss: 0.3810 - mae: 0.4794 - val_loss: 0.5394 - val_mae: 0.5582 - 765ms/epoch - 5ms/step\n",
            "Epoch 36/50\n",
            "153/153 - 1s - loss: 0.3757 - mae: 0.4749 - val_loss: 0.6448 - val_mae: 0.6262 - 796ms/epoch - 5ms/step\n",
            "Epoch 37/50\n",
            "153/153 - 1s - loss: 0.3700 - mae: 0.4724 - val_loss: 0.5136 - val_mae: 0.5396 - 768ms/epoch - 5ms/step\n",
            "Epoch 38/50\n",
            "153/153 - 1s - loss: 0.3641 - mae: 0.4680 - val_loss: 0.5436 - val_mae: 0.5619 - 764ms/epoch - 5ms/step\n",
            "Epoch 39/50\n",
            "153/153 - 1s - loss: 0.3621 - mae: 0.4679 - val_loss: 0.5326 - val_mae: 0.5516 - 836ms/epoch - 5ms/step\n",
            "Epoch 40/50\n",
            "153/153 - 1s - loss: 0.3592 - mae: 0.4669 - val_loss: 0.6597 - val_mae: 0.6297 - 725ms/epoch - 5ms/step\n",
            "Epoch 41/50\n",
            "153/153 - 1s - loss: 0.3485 - mae: 0.4601 - val_loss: 0.5356 - val_mae: 0.5554 - 722ms/epoch - 5ms/step\n",
            "Epoch 42/50\n",
            "153/153 - 1s - loss: 0.3413 - mae: 0.4525 - val_loss: 0.7865 - val_mae: 0.6867 - 658ms/epoch - 4ms/step\n",
            "Epoch 43/50\n",
            "153/153 - 1s - loss: 0.3402 - mae: 0.4509 - val_loss: 0.9306 - val_mae: 0.7699 - 778ms/epoch - 5ms/step\n",
            "Epoch 44/50\n",
            "153/153 - 1s - loss: 0.3353 - mae: 0.4482 - val_loss: 0.5388 - val_mae: 0.5574 - 715ms/epoch - 5ms/step\n",
            "Epoch 45/50\n",
            "153/153 - 1s - loss: 0.3348 - mae: 0.4497 - val_loss: 0.5226 - val_mae: 0.5383 - 724ms/epoch - 5ms/step\n",
            "Epoch 46/50\n",
            "153/153 - 1s - loss: 0.3311 - mae: 0.4427 - val_loss: 0.5480 - val_mae: 0.5658 - 718ms/epoch - 5ms/step\n",
            "Epoch 47/50\n",
            "153/153 - 1s - loss: 0.3257 - mae: 0.4423 - val_loss: 0.5833 - val_mae: 0.5891 - 767ms/epoch - 5ms/step\n",
            "Epoch 48/50\n",
            "153/153 - 1s - loss: 0.3203 - mae: 0.4397 - val_loss: 0.5403 - val_mae: 0.5538 - 729ms/epoch - 5ms/step\n",
            "Epoch 49/50\n",
            "153/153 - 1s - loss: 0.3172 - mae: 0.4347 - val_loss: 0.4930 - val_mae: 0.5318 - 698ms/epoch - 5ms/step\n",
            "Epoch 50/50\n",
            "153/153 - 1s - loss: 0.3025 - mae: 0.4253 - val_loss: 0.5347 - val_mae: 0.5542 - 742ms/epoch - 5ms/step\n",
            "Model: \"sequential_35\"\n",
            "_________________________________________________________________\n",
            " Layer (type)                Output Shape              Param #   \n",
            "=================================================================\n",
            " dense_140 (Dense)           (None, 512)               6656      \n",
            "                                                                 \n",
            " dense_141 (Dense)           (None, 125)               64125     \n",
            "                                                                 \n",
            " dense_142 (Dense)           (None, 64)                8064      \n",
            "                                                                 \n",
            " dense_143 (Dense)           (None, 30)                1950      \n",
            "                                                                 \n",
            " dense_144 (Dense)           (None, 5)                 155       \n",
            "                                                                 \n",
            " dense_145 (Dense)           (None, 1)                 6         \n",
            "                                                                 \n",
            "=================================================================\n",
            "Total params: 80,956\n",
            "Trainable params: 80,956\n",
            "Non-trainable params: 0\n",
            "_________________________________________________________________\n"
          ]
        }
      ]
    },
    {
      "cell_type": "markdown",
      "source": [
        "Plotting Regression Model 3"
      ],
      "metadata": {
        "id": "8Oyf18uLLAzf"
      }
    },
    {
      "cell_type": "code",
      "source": [
        "plot_model_history(regmodl3_history)"
      ],
      "metadata": {
        "colab": {
          "base_uri": "https://localhost:8080/",
          "height": 295
        },
        "id": "e5XlSgPELE18",
        "outputId": "f9fec755-2803-4452-a9d2-3509392d4206"
      },
      "execution_count": null,
      "outputs": [
        {
          "output_type": "display_data",
          "data": {
            "image/png": "[encoded data removed]",
            "text/plain": [
              "<Figure size 432x288 with 1 Axes>"
            ]
          },
          "metadata": {
            "needs_background": "light"
          }
        }
      ]
    },
    {
      "cell_type": "code",
      "source": [
        "from prettytable import PrettyTable\n",
        "\n",
        "predictions = regmodl3.predict(copyTest)\n",
        "\n",
        "table = PrettyTable(['Pattern #', 'f1', 'f2', 'f3', 'f4', 'f5', 'f6', 'f7', 'f8', 'f9', 'f10', 'f11', 'f12', 'Activation', 'Target', 'Error'])\n",
        "\n",
        "\n",
        "for i in range(10):\n",
        "  error = abs(predictions[i] - y_tst[i])\n",
        "  table.add_row([i + 1, Xtst[i][0], Xtst[i][1], Xtst[i][2], Xtst[i][3], Xtst[i][4], Xtst[i][5], Xtst[i][6], Xtst[i][7], Xtst[i][8], Xtst[i][9], Xtst[i][10], Xtst[i][11], predictions[i], y_tst[i], error])\n",
        "\n",
        "print(table)"
      ],
      "metadata": {
        "colab": {
          "base_uri": "https://localhost:8080/"
        },
        "id": "GmgGdwnGObc-",
        "outputId": "3969d7e3-882c-4964-ed01-199d84ce01c1"
      },
      "execution_count": null,
      "outputs": [
        {
          "output_type": "stream",
          "name": "stdout",
          "text": [
            "+-----------+-----+------+------+------+-------+------+-------+---------+------+------+------------------+-----+-------------+--------+--------------+\n",
            "| Pattern # |  f1 |  f2  |  f3  |  f4  |   f5  |  f6  |   f7  |    f8   |  f9  | f10  |       f11        | f12 |  Activation | Target |    Error     |\n",
            "+-----------+-----+------+------+------+-------+------+-------+---------+------+------+------------------+-----+-------------+--------+--------------+\n",
            "|     1     | 7.4 | 0.44 | 0.2  | 11.5 | 0.049 | 44.0 | 157.0 |  0.998  | 3.27 | 0.44 |       9.0        | 0.0 |  [5.145841] |   5    | [0.14584112] |\n",
            "|     2     | 6.5 | 0.23 | 0.36 | 16.3 | 0.038 | 43.0 | 133.0 | 0.99924 | 3.26 | 0.41 |       8.8        | 0.0 | [5.4446516] |   5    | [0.4446516]  |\n",
            "|     3     | 5.6 | 0.41 | 0.24 | 1.9  | 0.034 | 10.0 |  53.0 | 0.98815 | 3.32 | 0.5  |       13.5       | 0.0 | [5.2450304] |   7    | [1.7549696]  |\n",
            "|     4     | 6.4 | 0.67 | 0.08 | 2.1  | 0.045 | 19.0 |  48.0 |  0.9949 | 3.49 | 0.49 |       11.4       | 1.0 | [5.3623424] |   6    | [0.63765764] |\n",
            "|     5     | 6.8 | 0.18 | 0.37 | 1.6  | 0.055 | 47.0 | 154.0 |  0.9934 | 3.08 | 0.45 |       9.1        | 0.0 | [6.7140203] |   5    | [1.7140203]  |\n",
            "|     6     | 6.9 | 0.41 | 0.33 | 10.1 | 0.043 | 28.0 | 152.0 |  0.9968 | 3.2  | 0.52 |       9.4        | 0.0 | [5.2512074] |   5    | [0.25120735] |\n",
            "|     7     | 5.9 | 0.32 | 0.33 | 2.1  | 0.027 | 35.0 | 138.0 | 0.98945 | 3.37 | 0.42 |       12.7       | 0.0 |  [6.656306] |   6    | [0.6563058]  |\n",
            "|     8     | 6.0 | 0.24 | 0.41 | 1.3  | 0.036 | 42.0 | 118.0 | 0.99018 | 3.04 | 0.64 | 11.7333333333333 | 0.0 |  [5.93945]  |   6    | [0.06055021] |\n",
            "|     9     | 7.3 | 0.48 | 0.32 | 2.1  | 0.062 | 31.0 |  54.0 | 0.99728 | 3.3  | 0.65 |       10.0       | 1.0 | [5.8678637] |   7    | [1.1321363]  |\n",
            "|     10    | 7.4 | 0.24 | 0.22 | 10.7 | 0.042 | 26.0 |  81.0 |  0.9954 | 2.86 | 0.36 |       9.7        | 0.0 |  [5.358272] |   6    | [0.6417279]  |\n",
            "+-----------+-----+------+------+------+-------+------+-------+---------+------+------+------------------+-----+-------------+--------+--------------+\n"
          ]
        }
      ]
    },
    {
      "cell_type": "markdown",
      "source": [
        "# Part 3: Classification Model\n"
      ],
      "metadata": {
        "id": "PyD1poH4gTyy"
      }
    },
    {
      "cell_type": "code",
      "source": [
        "import copy\n",
        "\n",
        "def predict_hit_ratio():\n",
        "  val_labels_copy = copy.copy(y_val)\n",
        "  np.random.shuffle(val_labels_copy)\n",
        "  hits_array = np.array(y_val) == np.array(val_labels_copy)\n",
        "  return hits_array.mean()"
      ],
      "metadata": {
        "id": "0OJ__Hwciw2k"
      },
      "execution_count": 25,
      "outputs": []
    },
    {
      "cell_type": "markdown",
      "source": [
        "### Classification Model 1"
      ],
      "metadata": {
        "id": "YiAOiEL1gzC4"
      }
    },
    {
      "cell_type": "code",
      "source": [
        "def build_clasmod1():\n",
        "  model = keras.Sequential([\n",
        "    layers.Dense(8,  activation=\"relu\"),\n",
        "    layers.Dense(4,  activation=\"softmax\")\n",
        "  ])\n",
        "  model.compile(optimizer=\"rmsprop\", loss=\"categorical_crossentropy\", metrics=[\"accuracy\"]) \n",
        "  return model\n",
        "\n",
        "clasmodl1 = build_clasmod1()\n",
        "\n",
        "clasmodl1_history = clasmodl1.fit(x=Xtrain, y=one_hot_train_labels, batch_size=32, epochs=25, verbose=2, validation_data=(Xval,one_hot_val_labels), validation_freq=1)\n",
        "\n",
        "clasmodl1.summary()"
      ],
      "metadata": {
        "id": "WtxZSngFg18y",
        "colab": {
          "base_uri": "https://localhost:8080/"
        },
        "outputId": "79c8db92-ab44-4364-86a3-ff0b7f87d270"
      },
      "execution_count": null,
      "outputs": [
        {
          "output_type": "stream",
          "name": "stdout",
          "text": [
            "Epoch 1/25\n",
            "153/153 - 1s - loss: 1.3606 - accuracy: 0.6695 - val_loss: 1.1330 - val_accuracy: 0.6749 - 1s/epoch - 9ms/step\n",
            "Epoch 2/25\n",
            "153/153 - 0s - loss: 0.8423 - accuracy: 0.7235 - val_loss: 0.7651 - val_accuracy: 0.7412 - 396ms/epoch - 3ms/step\n",
            "Epoch 3/25\n",
            "153/153 - 0s - loss: 0.6183 - accuracy: 0.7644 - val_loss: 0.6131 - val_accuracy: 0.7765 - 466ms/epoch - 3ms/step\n",
            "Epoch 4/25\n",
            "153/153 - 0s - loss: 0.5421 - accuracy: 0.7923 - val_loss: 0.5565 - val_accuracy: 0.7827 - 346ms/epoch - 2ms/step\n",
            "Epoch 5/25\n",
            "153/153 - 0s - loss: 0.5132 - accuracy: 0.8003 - val_loss: 0.5686 - val_accuracy: 0.7833 - 262ms/epoch - 2ms/step\n",
            "Epoch 6/25\n",
            "153/153 - 0s - loss: 0.5076 - accuracy: 0.8015 - val_loss: 0.5775 - val_accuracy: 0.7833 - 269ms/epoch - 2ms/step\n",
            "Epoch 7/25\n",
            "153/153 - 0s - loss: 0.5013 - accuracy: 0.8050 - val_loss: 0.6355 - val_accuracy: 0.7833 - 258ms/epoch - 2ms/step\n",
            "Epoch 8/25\n",
            "153/153 - 0s - loss: 0.4996 - accuracy: 0.8013 - val_loss: 0.6111 - val_accuracy: 0.7833 - 276ms/epoch - 2ms/step\n",
            "Epoch 9/25\n",
            "153/153 - 0s - loss: 0.4953 - accuracy: 0.8030 - val_loss: 0.5586 - val_accuracy: 0.7833 - 256ms/epoch - 2ms/step\n",
            "Epoch 10/25\n",
            "153/153 - 0s - loss: 0.4927 - accuracy: 0.8034 - val_loss: 0.5462 - val_accuracy: 0.7839 - 343ms/epoch - 2ms/step\n",
            "Epoch 11/25\n",
            "153/153 - 0s - loss: 0.4939 - accuracy: 0.8017 - val_loss: 0.5450 - val_accuracy: 0.7839 - 249ms/epoch - 2ms/step\n",
            "Epoch 12/25\n",
            "153/153 - 0s - loss: 0.4904 - accuracy: 0.8034 - val_loss: 0.5256 - val_accuracy: 0.7913 - 288ms/epoch - 2ms/step\n",
            "Epoch 13/25\n",
            "153/153 - 0s - loss: 0.4860 - accuracy: 0.8058 - val_loss: 0.5878 - val_accuracy: 0.7839 - 249ms/epoch - 2ms/step\n",
            "Epoch 14/25\n",
            "153/153 - 0s - loss: 0.4903 - accuracy: 0.8030 - val_loss: 0.5243 - val_accuracy: 0.7839 - 264ms/epoch - 2ms/step\n",
            "Epoch 15/25\n",
            "153/153 - 0s - loss: 0.4858 - accuracy: 0.8071 - val_loss: 0.6002 - val_accuracy: 0.7839 - 267ms/epoch - 2ms/step\n",
            "Epoch 16/25\n",
            "153/153 - 0s - loss: 0.4848 - accuracy: 0.8032 - val_loss: 0.5667 - val_accuracy: 0.7845 - 263ms/epoch - 2ms/step\n",
            "Epoch 17/25\n",
            "153/153 - 0s - loss: 0.4883 - accuracy: 0.8019 - val_loss: 0.5953 - val_accuracy: 0.7492 - 263ms/epoch - 2ms/step\n",
            "Epoch 18/25\n",
            "153/153 - 0s - loss: 0.4809 - accuracy: 0.8042 - val_loss: 0.5721 - val_accuracy: 0.7839 - 260ms/epoch - 2ms/step\n",
            "Epoch 19/25\n",
            "153/153 - 0s - loss: 0.4827 - accuracy: 0.8034 - val_loss: 0.5113 - val_accuracy: 0.7845 - 271ms/epoch - 2ms/step\n",
            "Epoch 20/25\n",
            "153/153 - 0s - loss: 0.4784 - accuracy: 0.8062 - val_loss: 0.6034 - val_accuracy: 0.7839 - 278ms/epoch - 2ms/step\n",
            "Epoch 21/25\n",
            "153/153 - 0s - loss: 0.4765 - accuracy: 0.8044 - val_loss: 0.5173 - val_accuracy: 0.7827 - 260ms/epoch - 2ms/step\n",
            "Epoch 22/25\n",
            "153/153 - 0s - loss: 0.4771 - accuracy: 0.8062 - val_loss: 0.5084 - val_accuracy: 0.7864 - 266ms/epoch - 2ms/step\n",
            "Epoch 23/25\n",
            "153/153 - 0s - loss: 0.4747 - accuracy: 0.8064 - val_loss: 0.5734 - val_accuracy: 0.7833 - 266ms/epoch - 2ms/step\n",
            "Epoch 24/25\n",
            "153/153 - 0s - loss: 0.4755 - accuracy: 0.8054 - val_loss: 0.5692 - val_accuracy: 0.7833 - 265ms/epoch - 2ms/step\n",
            "Epoch 25/25\n",
            "153/153 - 0s - loss: 0.4733 - accuracy: 0.8007 - val_loss: 0.5055 - val_accuracy: 0.7845 - 263ms/epoch - 2ms/step\n",
            "Model: \"sequential_36\"\n",
            "_________________________________________________________________\n",
            " Layer (type)                Output Shape              Param #   \n",
            "=================================================================\n",
            " dense_146 (Dense)           (None, 8)                 104       \n",
            "                                                                 \n",
            " dense_147 (Dense)           (None, 4)                 36        \n",
            "                                                                 \n",
            "=================================================================\n",
            "Total params: 140\n",
            "Trainable params: 140\n",
            "Non-trainable params: 0\n",
            "_________________________________________________________________\n"
          ]
        }
      ]
    },
    {
      "cell_type": "code",
      "source": [
        "plot_model_history(clasmodl1_history)"
      ],
      "metadata": {
        "id": "YtqhflJ_x_D2",
        "colab": {
          "base_uri": "https://localhost:8080/",
          "height": 295
        },
        "outputId": "292627e9-6846-4e51-da78-03a7de15d6b5"
      },
      "execution_count": null,
      "outputs": [
        {
          "output_type": "display_data",
          "data": {
            "image/png": "[encoded data removed]",
            "text/plain": [
              "<Figure size 432x288 with 1 Axes>"
            ]
          },
          "metadata": {
            "needs_background": "light"
          }
        }
      ]
    },
    {
      "cell_type": "markdown",
      "source": [
        "## Classification Model 2"
      ],
      "metadata": {
        "id": "LPufeNyog7yY"
      }
    },
    {
      "cell_type": "code",
      "source": [
        "# Model number 2\n",
        "def build_clasmod2():\n",
        "  model = keras.Sequential([\n",
        "    layers.Dense(32,  activation=\"relu\"),\n",
        "    layers.Dense(8, activation=\"relu\"),\n",
        "    layers.Dense(4,  activation=\"softmax\")\n",
        "  ])\n",
        "  model.compile(optimizer=\"rmsprop\", loss=\"categorical_crossentropy\", metrics=[\"accuracy\"]) \n",
        "  return model\n",
        "\n",
        "clasmodl2 = build_clasmod2()\n",
        "\n",
        "clasmodl2_history = clasmodl2.fit(x=Xtrain, y=one_hot_train_labels, batch_size=32, epochs=25, verbose=2, validation_data=(Xval,one_hot_val_labels), validation_freq=1)\n",
        "\n",
        "clasmodl2.summary()"
      ],
      "metadata": {
        "id": "E41xCAOog9VF",
        "colab": {
          "base_uri": "https://localhost:8080/"
        },
        "outputId": "1f614218-853d-4586-9d76-b0f202df8fd7"
      },
      "execution_count": null,
      "outputs": [
        {
          "output_type": "stream",
          "name": "stdout",
          "text": [
            "Epoch 1/25\n",
            "153/153 - 1s - loss: 0.7536 - accuracy: 0.7560 - val_loss: 0.5991 - val_accuracy: 0.7820 - 1s/epoch - 10ms/step\n",
            "Epoch 2/25\n",
            "153/153 - 0s - loss: 0.6172 - accuracy: 0.7685 - val_loss: 0.5524 - val_accuracy: 0.7796 - 459ms/epoch - 3ms/step\n",
            "Epoch 3/25\n",
            "153/153 - 0s - loss: 0.5990 - accuracy: 0.7666 - val_loss: 0.7882 - val_accuracy: 0.7839 - 455ms/epoch - 3ms/step\n",
            "Epoch 4/25\n",
            "153/153 - 0s - loss: 0.5672 - accuracy: 0.7775 - val_loss: 0.5581 - val_accuracy: 0.7777 - 459ms/epoch - 3ms/step\n",
            "Epoch 5/25\n",
            "153/153 - 0s - loss: 0.5622 - accuracy: 0.7763 - val_loss: 0.7651 - val_accuracy: 0.7839 - 415ms/epoch - 3ms/step\n",
            "Epoch 6/25\n",
            "153/153 - 1s - loss: 0.5616 - accuracy: 0.7818 - val_loss: 0.5714 - val_accuracy: 0.7839 - 519ms/epoch - 3ms/step\n",
            "Epoch 7/25\n",
            "153/153 - 0s - loss: 0.5469 - accuracy: 0.7845 - val_loss: 0.8594 - val_accuracy: 0.7839 - 466ms/epoch - 3ms/step\n",
            "Epoch 8/25\n",
            "153/153 - 0s - loss: 0.5296 - accuracy: 0.7845 - val_loss: 1.2136 - val_accuracy: 0.4161 - 377ms/epoch - 2ms/step\n",
            "Epoch 9/25\n",
            "153/153 - 0s - loss: 0.5396 - accuracy: 0.7828 - val_loss: 0.5322 - val_accuracy: 0.7789 - 402ms/epoch - 3ms/step\n",
            "Epoch 10/25\n",
            "153/153 - 0s - loss: 0.5118 - accuracy: 0.7964 - val_loss: 0.5600 - val_accuracy: 0.7628 - 445ms/epoch - 3ms/step\n",
            "Epoch 11/25\n",
            "153/153 - 0s - loss: 0.5043 - accuracy: 0.7999 - val_loss: 0.5634 - val_accuracy: 0.7839 - 398ms/epoch - 3ms/step\n",
            "Epoch 12/25\n",
            "153/153 - 0s - loss: 0.5001 - accuracy: 0.8034 - val_loss: 0.5323 - val_accuracy: 0.7839 - 390ms/epoch - 3ms/step\n",
            "Epoch 13/25\n",
            "153/153 - 0s - loss: 0.4995 - accuracy: 0.8036 - val_loss: 0.5249 - val_accuracy: 0.7839 - 355ms/epoch - 2ms/step\n",
            "Epoch 14/25\n",
            "153/153 - 0s - loss: 0.4937 - accuracy: 0.8042 - val_loss: 0.5370 - val_accuracy: 0.7839 - 380ms/epoch - 2ms/step\n",
            "Epoch 15/25\n",
            "153/153 - 0s - loss: 0.4924 - accuracy: 0.8042 - val_loss: 0.6161 - val_accuracy: 0.7839 - 437ms/epoch - 3ms/step\n",
            "Epoch 16/25\n",
            "153/153 - 0s - loss: 0.4883 - accuracy: 0.8038 - val_loss: 0.5279 - val_accuracy: 0.7808 - 384ms/epoch - 3ms/step\n",
            "Epoch 17/25\n",
            "153/153 - 0s - loss: 0.4798 - accuracy: 0.8048 - val_loss: 0.5256 - val_accuracy: 0.7814 - 380ms/epoch - 2ms/step\n",
            "Epoch 18/25\n",
            "153/153 - 0s - loss: 0.4868 - accuracy: 0.8044 - val_loss: 0.6266 - val_accuracy: 0.7839 - 365ms/epoch - 2ms/step\n",
            "Epoch 19/25\n",
            "153/153 - 0s - loss: 0.4801 - accuracy: 0.8040 - val_loss: 0.5211 - val_accuracy: 0.7789 - 430ms/epoch - 3ms/step\n",
            "Epoch 20/25\n",
            "153/153 - 0s - loss: 0.4773 - accuracy: 0.8042 - val_loss: 0.5497 - val_accuracy: 0.7839 - 377ms/epoch - 2ms/step\n",
            "Epoch 21/25\n",
            "153/153 - 0s - loss: 0.4796 - accuracy: 0.8042 - val_loss: 0.5556 - val_accuracy: 0.7839 - 368ms/epoch - 2ms/step\n",
            "Epoch 22/25\n",
            "153/153 - 0s - loss: 0.4743 - accuracy: 0.8046 - val_loss: 0.5337 - val_accuracy: 0.7808 - 396ms/epoch - 3ms/step\n",
            "Epoch 23/25\n",
            "153/153 - 0s - loss: 0.4770 - accuracy: 0.8046 - val_loss: 0.5154 - val_accuracy: 0.7839 - 405ms/epoch - 3ms/step\n",
            "Epoch 24/25\n",
            "153/153 - 0s - loss: 0.4748 - accuracy: 0.8042 - val_loss: 0.5168 - val_accuracy: 0.7839 - 413ms/epoch - 3ms/step\n",
            "Epoch 25/25\n",
            "153/153 - 0s - loss: 0.4703 - accuracy: 0.8038 - val_loss: 0.5244 - val_accuracy: 0.7845 - 371ms/epoch - 2ms/step\n",
            "Model: \"sequential_37\"\n",
            "_________________________________________________________________\n",
            " Layer (type)                Output Shape              Param #   \n",
            "=================================================================\n",
            " dense_148 (Dense)           (None, 32)                416       \n",
            "                                                                 \n",
            " dense_149 (Dense)           (None, 8)                 264       \n",
            "                                                                 \n",
            " dense_150 (Dense)           (None, 4)                 36        \n",
            "                                                                 \n",
            "=================================================================\n",
            "Total params: 716\n",
            "Trainable params: 716\n",
            "Non-trainable params: 0\n",
            "_________________________________________________________________\n"
          ]
        }
      ]
    },
    {
      "cell_type": "code",
      "source": [
        "plot_model_history(clasmodl2_history)"
      ],
      "metadata": {
        "colab": {
          "base_uri": "https://localhost:8080/",
          "height": 295
        },
        "id": "4nAqT62FMN5j",
        "outputId": "8c1e3a9f-4dd4-47f4-fdbe-27f591523c18"
      },
      "execution_count": null,
      "outputs": [
        {
          "output_type": "display_data",
          "data": {
            "image/png": "[encoded data removed]",
            "text/plain": [
              "<Figure size 432x288 with 1 Axes>"
            ]
          },
          "metadata": {
            "needs_background": "light"
          }
        }
      ]
    },
    {
      "cell_type": "markdown",
      "source": [
        "## Classification Model 3"
      ],
      "metadata": {
        "id": "DNpn6zV1g_gl"
      }
    },
    {
      "cell_type": "code",
      "source": [
        "# Model number 2\n",
        "def build_clasmod3():\n",
        "  model = keras.Sequential([\n",
        "    layers.Dense(32,  activation=\"relu\"),\n",
        "    layers.Dense(8, activation=\"relu\"),\n",
        "    layers.Dense(4,  activation=\"softmax\")\n",
        "  ])\n",
        "  model.compile(optimizer=\"rmsprop\", loss=\"categorical_crossentropy\", metrics=[\"accuracy\"]) \n",
        "  return model\n",
        "\n",
        "clasmodl3 = build_clasmod3()\n",
        "\n",
        "clasmodl3_history = clasmodl3.fit(x=Xtrain, y=one_hot_train_labels, batch_size=32, epochs=25, verbose=2, validation_data=(Xval,one_hot_val_labels), validation_freq=1)\n",
        "\n",
        "clasmodl3.summary()"
      ],
      "metadata": {
        "id": "N88gwpRahBnA",
        "colab": {
          "base_uri": "https://localhost:8080/"
        },
        "outputId": "edad88ed-cafb-4152-80ea-cf32f481cd6e"
      },
      "execution_count": 34,
      "outputs": [
        {
          "output_type": "stream",
          "name": "stdout",
          "text": [
            "Epoch 1/25\n",
            "153/153 - 1s - loss: 0.6100 - accuracy: 0.7818 - val_loss: 0.6563 - val_accuracy: 0.7839 - 1s/epoch - 8ms/step\n",
            "Epoch 2/25\n",
            "153/153 - 0s - loss: 0.5209 - accuracy: 0.7968 - val_loss: 0.5764 - val_accuracy: 0.7833 - 258ms/epoch - 2ms/step\n",
            "Epoch 3/25\n",
            "153/153 - 0s - loss: 0.5206 - accuracy: 0.7970 - val_loss: 0.6181 - val_accuracy: 0.7839 - 244ms/epoch - 2ms/step\n",
            "Epoch 4/25\n",
            "153/153 - 0s - loss: 0.5073 - accuracy: 0.7962 - val_loss: 0.5369 - val_accuracy: 0.7827 - 246ms/epoch - 2ms/step\n",
            "Epoch 5/25\n",
            "153/153 - 0s - loss: 0.5003 - accuracy: 0.7956 - val_loss: 0.5618 - val_accuracy: 0.7851 - 272ms/epoch - 2ms/step\n",
            "Epoch 6/25\n",
            "153/153 - 0s - loss: 0.4984 - accuracy: 0.7989 - val_loss: 0.6417 - val_accuracy: 0.7839 - 357ms/epoch - 2ms/step\n",
            "Epoch 7/25\n",
            "153/153 - 0s - loss: 0.4953 - accuracy: 0.7970 - val_loss: 0.5445 - val_accuracy: 0.7901 - 255ms/epoch - 2ms/step\n",
            "Epoch 8/25\n",
            "153/153 - 0s - loss: 0.4852 - accuracy: 0.8015 - val_loss: 0.6530 - val_accuracy: 0.6495 - 242ms/epoch - 2ms/step\n",
            "Epoch 9/25\n",
            "153/153 - 0s - loss: 0.4840 - accuracy: 0.7989 - val_loss: 0.6237 - val_accuracy: 0.7839 - 240ms/epoch - 2ms/step\n",
            "Epoch 10/25\n",
            "153/153 - 0s - loss: 0.4846 - accuracy: 0.8021 - val_loss: 0.5633 - val_accuracy: 0.7851 - 254ms/epoch - 2ms/step\n",
            "Epoch 11/25\n",
            "153/153 - 0s - loss: 0.4804 - accuracy: 0.8044 - val_loss: 0.5439 - val_accuracy: 0.7858 - 262ms/epoch - 2ms/step\n",
            "Epoch 12/25\n",
            "153/153 - 0s - loss: 0.4729 - accuracy: 0.8056 - val_loss: 0.5818 - val_accuracy: 0.7839 - 255ms/epoch - 2ms/step\n",
            "Epoch 13/25\n",
            "153/153 - 0s - loss: 0.4783 - accuracy: 0.7989 - val_loss: 0.5086 - val_accuracy: 0.7839 - 267ms/epoch - 2ms/step\n",
            "Epoch 14/25\n",
            "153/153 - 0s - loss: 0.4707 - accuracy: 0.8042 - val_loss: 0.4964 - val_accuracy: 0.7827 - 289ms/epoch - 2ms/step\n",
            "Epoch 15/25\n",
            "153/153 - 0s - loss: 0.4687 - accuracy: 0.8025 - val_loss: 0.6609 - val_accuracy: 0.7839 - 256ms/epoch - 2ms/step\n",
            "Epoch 16/25\n",
            "153/153 - 0s - loss: 0.4678 - accuracy: 0.8025 - val_loss: 0.5574 - val_accuracy: 0.7591 - 245ms/epoch - 2ms/step\n",
            "Epoch 17/25\n",
            "153/153 - 0s - loss: 0.4628 - accuracy: 0.8017 - val_loss: 0.7255 - val_accuracy: 0.5412 - 235ms/epoch - 2ms/step\n",
            "Epoch 18/25\n",
            "153/153 - 0s - loss: 0.4618 - accuracy: 0.7991 - val_loss: 0.4912 - val_accuracy: 0.7901 - 249ms/epoch - 2ms/step\n",
            "Epoch 19/25\n",
            "153/153 - 0s - loss: 0.4579 - accuracy: 0.8054 - val_loss: 0.5332 - val_accuracy: 0.7851 - 246ms/epoch - 2ms/step\n",
            "Epoch 20/25\n",
            "153/153 - 0s - loss: 0.4629 - accuracy: 0.8007 - val_loss: 0.4973 - val_accuracy: 0.7864 - 242ms/epoch - 2ms/step\n",
            "Epoch 21/25\n",
            "153/153 - 0s - loss: 0.4587 - accuracy: 0.8028 - val_loss: 0.4954 - val_accuracy: 0.7920 - 245ms/epoch - 2ms/step\n",
            "Epoch 22/25\n",
            "153/153 - 0s - loss: 0.4559 - accuracy: 0.8054 - val_loss: 0.5244 - val_accuracy: 0.7783 - 268ms/epoch - 2ms/step\n",
            "Epoch 23/25\n",
            "153/153 - 0s - loss: 0.4487 - accuracy: 0.8064 - val_loss: 0.5015 - val_accuracy: 0.7845 - 250ms/epoch - 2ms/step\n",
            "Epoch 24/25\n",
            "153/153 - 0s - loss: 0.4545 - accuracy: 0.8046 - val_loss: 0.5073 - val_accuracy: 0.7858 - 265ms/epoch - 2ms/step\n",
            "Epoch 25/25\n",
            "153/153 - 0s - loss: 0.4493 - accuracy: 0.8095 - val_loss: 0.4816 - val_accuracy: 0.7926 - 253ms/epoch - 2ms/step\n",
            "Model: \"sequential_17\"\n",
            "_________________________________________________________________\n",
            " Layer (type)                Output Shape              Param #   \n",
            "=================================================================\n",
            " dense_52 (Dense)            (None, 32)                416       \n",
            "                                                                 \n",
            " dense_53 (Dense)            (None, 8)                 264       \n",
            "                                                                 \n",
            " dense_54 (Dense)            (None, 4)                 36        \n",
            "                                                                 \n",
            "=================================================================\n",
            "Total params: 716\n",
            "Trainable params: 716\n",
            "Non-trainable params: 0\n",
            "_________________________________________________________________\n"
          ]
        }
      ]
    },
    {
      "cell_type": "code",
      "source": [
        "plot_model_history(clasmodl3_history)"
      ],
      "metadata": {
        "colab": {
          "base_uri": "https://localhost:8080/",
          "height": 295
        },
        "id": "8UOmU6IjMRMU",
        "outputId": "dddb3e63-56f4-4aec-f481-f07cbdb3b012"
      },
      "execution_count": 30,
      "outputs": [
        {
          "output_type": "display_data",
          "data": {
            "image/png": "[encoded data removed]",
            "text/plain": [
              "<Figure size 432x288 with 1 Axes>"
            ]
          },
          "metadata": {
            "needs_background": "light"
          }
        }
      ]
    },
    {
      "cell_type": "code",
      "source": [
        "from prettytable import PrettyTable\n",
        "\n",
        "predictions = clasmodl3.predict(Xtst)\n",
        "\n",
        "table = PrettyTable(['Pattern #', 'f1', 'f2', 'f3', 'f4', 'f5', 'f6', 'f7', 'f8', 'f9', 'f10', 'f11', 'f12', 'Activation', 'Target', 'Hit Ratio'])\n",
        "\n",
        "for i in range(10):\n",
        "  hitRatio = predictions[i].round()\n",
        "\n",
        "  compare = one_hot_train_labels[i] == hitRatio\n",
        "  isEqual = compare.all()\n",
        "\n",
        "  table.add_row([i, Xtst[i][0], Xtst[i][1], Xtst[i][2], Xtst[i][3], Xtst[i][4], Xtst[i][5], Xtst[i][6], Xtst[i][7], Xtst[i][8], Xtst[i][9], Xtst[i][10], Xtst[i][11], predictions[i], one_hot_tst_labels[i], isEqual])\n",
        "\n",
        "print(table)"
      ],
      "metadata": {
        "colab": {
          "base_uri": "https://localhost:8080/"
        },
        "id": "Sg_X2ierMV1h",
        "outputId": "fff515c0-4e87-4c7c-eb5c-50df98e28939"
      },
      "execution_count": 35,
      "outputs": [
        {
          "output_type": "stream",
          "name": "stdout",
          "text": [
            "+-----------+-----+------+------+------+-------+------+-------+---------+------+------+------------------+-----+-----------------------------------------------------------+---------------+-----------+\n",
            "| Pattern # |  f1 |  f2  |  f3  |  f4  |   f5  |  f6  |   f7  |    f8   |  f9  | f10  |       f11        | f12 |                         Activation                        |     Target    | Hit Ratio |\n",
            "+-----------+-----+------+------+------+-------+------+-------+---------+------+------+------------------+-----+-----------------------------------------------------------+---------------+-----------+\n",
            "|     0     | 7.4 | 0.44 | 0.2  | 11.5 | 0.049 | 44.0 | 157.0 |  0.998  | 3.27 | 0.44 |       9.0        | 0.0 | [4.0729451e-03 8.4553301e-01 1.5017328e-01 2.2080101e-04] | [0. 1. 0. 0.] |    True   |\n",
            "|     1     | 6.5 | 0.23 | 0.36 | 16.3 | 0.038 | 43.0 | 133.0 | 0.99924 | 3.26 | 0.41 |       8.8        | 0.0 | [1.9515286e-03 8.7961161e-01 1.1833242e-01 1.0448744e-04] | [0. 1. 0. 0.] |    True   |\n",
            "|     2     | 5.6 | 0.41 | 0.24 | 1.9  | 0.034 | 10.0 |  53.0 | 0.98815 | 3.32 | 0.5  |       13.5       | 0.0 | [1.3317216e-02 5.8755064e-01 3.9904538e-01 8.6782682e-05] | [0. 0. 1. 0.] |    True   |\n",
            "|     3     | 6.4 | 0.67 | 0.08 | 2.1  | 0.045 | 19.0 |  48.0 |  0.9949 | 3.49 | 0.49 |       11.4       | 1.0 | [1.3293492e-03 9.3109113e-01 6.7480758e-02 9.8707947e-05] | [0. 1. 0. 0.] |    True   |\n",
            "|     4     | 6.8 | 0.18 | 0.37 | 1.6  | 0.055 | 47.0 | 154.0 |  0.9934 | 3.08 | 0.45 |       9.1        | 0.0 | [9.7312080e-03 8.4210086e-01 1.4777371e-01 3.9421843e-04] | [0. 1. 0. 0.] |    True   |\n",
            "|     5     | 6.9 | 0.41 | 0.33 | 10.1 | 0.043 | 28.0 | 152.0 |  0.9968 | 3.2  | 0.52 |       9.4        | 0.0 |       [0.01103284 0.797202   0.19055407 0.00121107]       | [0. 1. 0. 0.] |    True   |\n",
            "|     6     | 5.9 | 0.32 | 0.33 | 2.1  | 0.027 | 35.0 | 138.0 | 0.98945 | 3.37 | 0.42 |       12.7       | 0.0 | [1.5454608e-03 4.2184928e-01 5.7645714e-01 1.4816939e-04] | [0. 1. 0. 0.] |   False   |\n",
            "|     7     | 6.0 | 0.24 | 0.41 | 1.3  | 0.036 | 42.0 | 118.0 | 0.99018 | 3.04 | 0.64 | 11.7333333333333 | 0.0 | [2.0071110e-03 4.7208151e-01 5.2573854e-01 1.7277620e-04] | [0. 1. 0. 0.] |    True   |\n",
            "|     8     | 7.3 | 0.48 | 0.32 | 2.1  | 0.062 | 31.0 |  54.0 | 0.99728 | 3.3  | 0.65 |       10.0       | 1.0 | [9.8531564e-05 8.4209907e-01 1.5779735e-01 4.8828992e-06] | [0. 0. 1. 0.] |    True   |\n",
            "|     9     | 7.4 | 0.24 | 0.22 | 10.7 | 0.042 | 26.0 |  81.0 |  0.9954 | 2.86 | 0.36 |       9.7        | 0.0 |       [0.0127347  0.7936613  0.19160168 0.00200236]       | [0. 1. 0. 0.] |    True   |\n",
            "+-----------+-----+------+------+------+-------+------+-------+---------+------+------+------------------+-----+-----------------------------------------------------------+---------------+-----------+\n"
          ]
        }
      ]
    }
  ]
}