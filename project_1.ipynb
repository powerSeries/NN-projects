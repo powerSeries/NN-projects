{
  "nbformat": 4,
  "nbformat_minor": 0,
  "metadata": {
    "colab": {
      "name": "project-1.ipynb",
      "provenance": [],
      "collapsed_sections": [],
      "include_colab_link": true
    },
    "kernelspec": {
      "display_name": "Python 3",
      "name": "python3"
    }
  },
  "cells": [
    {
      "cell_type": "markdown",
      "metadata": {
        "id": "view-in-github",
        "colab_type": "text"
      },
      "source": [
        "<a href=\"https://colab.research.google.com/github/powerSeries/NN-projects/blob/main/project_1.ipynb\" target=\"_parent\"><img src=\"https://colab.research.google.com/assets/colab-badge.svg\" alt=\"Open In Colab\"/></a>"
      ]
    },
    {
      "cell_type": "markdown",
      "metadata": {
        "id": "vB3bHSucPIVs"
      },
      "source": [
        "Abbreviated data preparation for the Wine Quality Problem (Project 1)"
      ]
    },
    {
      "cell_type": "code",
      "metadata": {
        "id": "XrcPuh9-KY0j",
        "outputId": "971c923f-12aa-429d-9027-e7d02a19a2a8",
        "colab": {
          "base_uri": "https://localhost:8080/"
        }
      },
      "source": [
        "# Import Required Libraries  \n",
        "import matplotlib.pyplot as plt \n",
        "import numpy as np \n",
        "# This time we need to also import pandas\n",
        "import pandas as pd \n",
        "\n",
        "# Read in white wine data \n",
        "# USES PANDAS (pd) to create a PANDAS DataFrame OBJECT:\n",
        "white = pd.read_csv(\"http://archive.ics.uci.edu/ml/machine-learning-databases/wine-quality/winequality-white.csv\", sep =';') \n",
        "\n",
        "# Read in red wine data \n",
        "# USES PANDAS (pd) to create a PANDAS DataFrame OBJECT:\n",
        "red = pd.read_csv(\"http://archive.ics.uci.edu/ml/machine-learning-databases/wine-quality/winequality-red.csv\", sep =';') \n",
        "\n",
        "# Add `type` column to `red` with price one  - done with PANDAS\n",
        "red['type'] = 1\n",
        "  \n",
        "# Add `type` column to `white` with price zero - done with PANDAS \n",
        "white['type'] = 0\n",
        "  \n",
        "# Append `white` to `red` - done with PANDAS\n",
        "# AFTER THIS WE HAVE ALL WINES (red and white) in a SINGLE pandas DataFrame\n",
        "wines = red.append(white, ignore_index = True) \n",
        "\n",
        "# Import SKLEARN\n",
        "import sklearn\n",
        "# Import `train_test_split` from `sklearn.model_selection` \n",
        "from sklearn.model_selection import train_test_split \n",
        "\n",
        "# Specify the  data - \n",
        "X1 = wines.iloc[:, 0:11]\n",
        "X2 = wines.iloc[:,12]\n",
        "X = pd.concat([X1,X2],axis = 1)\n",
        "\n",
        "# Specify the QUALITY target labels and flatten the array \n",
        "y = np.ravel(wines.quality) \n",
        "\n",
        "# Splitting the data set for training and validating  - Done with SKLEARN\n",
        "X_train, X_valid, y_train, y_valid = train_test_split( \n",
        "                 X, y, test_size = 0.25, random_state = 45) \n",
        "\n",
        "# CONVERTING X_train & X_test DataFrame s to TF tensors\n",
        "# Will USE NumPy, TF & Keras after this\n",
        "# import tensorflow as tf \n",
        "\n",
        "Xtrain = X_train.to_numpy()\n",
        "X_valid = X_valid.to_numpy()\n",
        "\n",
        "# In reality:\n",
        "# [1] ALL THE Xtrain patterns (with their y_train targets) \n",
        "# will be used for TRAINING ([TR]), as Xtrain & y_train\n",
        "# [2] MOST OF THE X_valid patterns (and their y_valid targets) \n",
        "#  will be used for VALIDATION ([TT]),  as X_val & y_val\n",
        "# BUT WE WILL SET ASIDE THE LAST 10 for \"testing\" ([TS])\n",
        "#  as X_tst & y_tst\n",
        "\n",
        "# To separate the last 10 in X_valid, let's first see the shape of X_valid\n",
        "X_valid.shape\n",
        "\n",
        "# And verify also the shape of y_valid\n",
        "y_valid.shape\n",
        "\n",
        "# Retain the first 1615 for validation ([TT])\n",
        "Xval = X_valid[:1615]\n",
        "Xval.shape\n",
        "\n",
        "# and now set aside the last 10 for \"test\"\n",
        "Xtst = X_valid[1615:]\n",
        "Xtst.shape\n",
        "\n",
        "y_val = y_valid[:1615]\n",
        "y_val.shape\n",
        "\n",
        "y_tst = y_valid[1615:]\n",
        "y_tst.shape\n",
        "\n",
        "y_tst\n",
        "\n",
        "# NOW, IN ADDITION, CREATE THE TARGETS AS ONE-HOT-ENCODED 4 quality LEVELS\n",
        "# We will track these few targets through the conversion process\n",
        "y_train[272:283]\n",
        "\n",
        "# Function create rank-1 arrays where 3,4,5,6,7,8,9 are mapped to 1 or 2 or 3 or 4 \n",
        "def to_4cs(x):\n",
        "  lx = len(x)\n",
        "  results = np.zeros(lx)\n",
        "  for i in range(lx):\n",
        "      # print( \"start\")\n",
        "      xa = x[i];\n",
        "      if xa <= 3:\n",
        "          results[i] = 1      # 1, 2 and 3 map to Q-LEVEL 1 ( BAD Wine)\n",
        "      elif xa <=6:\n",
        "          results[i] = 2      # 4, 5 and 6 map to Q-LEVEL 2  (MEDIUM Wine)\n",
        "      elif xa <=8:\n",
        "          results[i] = 3      # 7 and 8 and 6 map to Q-LEVEL 3  (GOOD Wine)\n",
        "      else:\n",
        "          results[i] = 4      # 9 and above map to Q-LEVEL 4  (EXCELLENT Wine)\n",
        "    # results[i, label] = 1.\n",
        "  results = results.astype(int)\n",
        "  return results\n",
        "\n",
        "train_labels = to_4cs(y_train)\n",
        "val_labels = to_4cs(y_val)\n",
        "tst_labels = to_4cs(y_tst)\n",
        "\n",
        "# Let's verify that the trainnig targets that we are tracking\n",
        "# were converted to levels (1 = BAD; 2 = MEDIUM; 3 = GOOD; 4- EXCELLENT) correctly:\n",
        "train_labels[272:283]\n",
        "\n",
        "# NOW, ONE-HOT ENCODING OF ALL 3  TARGET ARRAYS\n",
        "# define a function to do the one-hot-encoding of output labels\n",
        "\n",
        "def to_one_hot(labels, dimension=4):\n",
        "    results = np.zeros((len(labels), dimension))\n",
        "    for i, label in enumerate(labels-1):\n",
        "        results[i, label] = 1.\n",
        "    return results\n",
        "\n",
        "one_hot_train_labels = to_one_hot(train_labels)\n",
        "one_hot_val_labels = to_one_hot(val_labels)\n",
        "one_hot_tst_labels = to_one_hot(tst_labels)\n",
        "\n",
        "#Let's verify that the training targets we have tracked were\n",
        "# one-hot encoded correctly\n",
        "one_hot_train_labels[272:283,]\n",
        "\n",
        "# SO, AFTER EXECUTING THIS CELL, YOU WILL HAVE:\n",
        "# FOR TRAINING:\n",
        "#  Xtrain (4872, 12)...y_train (4872,)...train_labels(4872,)....one_hot_train_labels (4872,4)\n",
        "# FOR VALIDATING:\n",
        "#  Xval (1615, 12)...y_val (1615,)...val_labels(1615,)...one_hot_val_labels (1615,4)\n",
        "# FOR TESTING:\n",
        "#  Xtst (10, 12)...y_tst (10,)...tst_labels(10,)... one_hot_tst_labels (10,4)\n",
        "# PLEASE DO NOT CHANGE THE NAMES OF THESE VARIABLES (So that instructor can use them)"
      ],
      "execution_count": 3,
      "outputs": [
        {
          "output_type": "execute_result",
          "data": {
            "text/plain": [
              "array([[0., 1., 0., 0.],\n",
              "       [0., 1., 0., 0.],\n",
              "       [0., 1., 0., 0.],\n",
              "       [0., 1., 0., 0.],\n",
              "       [0., 1., 0., 0.],\n",
              "       [0., 1., 0., 0.],\n",
              "       [0., 0., 1., 0.],\n",
              "       [0., 1., 0., 0.],\n",
              "       [0., 1., 0., 0.],\n",
              "       [0., 0., 1., 0.],\n",
              "       [0., 1., 0., 0.]])"
            ]
          },
          "metadata": {},
          "execution_count": 3
        }
      ]
    },
    {
      "cell_type": "code",
      "source": [
        "import copy\n",
        "\n",
        "## Normalize Data\n",
        "copyTrain = copy.copy(Xtrain)\n",
        "copyVal = copy.copy(Xval)\n",
        "copyTest = copy.copy(Xtst)\n",
        "\n",
        "mean = Xtrain.mean(axis=0)\n",
        "copyTrain -= mean\n",
        "std = Xtrain.std(axis=0)\n",
        "\n",
        "copyTrain /= std\n",
        "\n",
        "copyTest -= mean\n",
        "copyTest /= std\n",
        "\n",
        "copyVal -= mean\n",
        "copyVal /= std"
      ],
      "metadata": {
        "id": "Pgp1PGMnKBqr"
      },
      "execution_count": 4,
      "outputs": []
    },
    {
      "cell_type": "markdown",
      "source": [
        " ++++  END OF THE DATA PREPARATION PART ++++ \n"
      ],
      "metadata": {
        "id": "Bq_9V9XCSd6t"
      }
    },
    {
      "cell_type": "markdown",
      "source": [
        "# Part 2: Regression Model"
      ],
      "metadata": {
        "id": "6Vt3n82EaN98"
      }
    },
    {
      "cell_type": "markdown",
      "source": [
        "### Regression Model 1"
      ],
      "metadata": {
        "id": "saL8T2q2K0Rv"
      }
    },
    {
      "cell_type": "code",
      "source": [
        "# import libraries\n",
        "from tensorflow import keras\n",
        "from tensorflow.keras import layers\n",
        "\n",
        "def build_regmodl1():\n",
        "  regmodl1 = keras.Sequential([\n",
        "    layers.Dense(8, activation=\"relu\"),\n",
        "    layers.Dense(1),\n",
        "  ])\n",
        "  regmodl1.compile(optimizer=\"rmsprop\", loss=\"mse\", metrics=[\"mae\"])\n",
        "  return regmodl1\n",
        "\n",
        "def PrintFinalValues(model_history):\n",
        "  history_dict = model_history.history\n",
        "  loss_values = history_dict['loss']\n",
        "  mae_values = history_dict['mae']\n",
        "  val_loss_values = history_dict['val_loss']\n",
        "  val_mae_values = history_dict['val_mae']\n",
        "\n",
        "  print(\"Final Loss: \", loss_values[len(loss_values) - 1])\n",
        "  print(\"Final MAE: \", mae_values[len(mae_values) - 1])\n",
        "  print(\"Final Validation Loss: \", val_loss_values[len(val_loss_values) - 1])\n",
        "  print(\"Final Validation MAE: \", val_mae_values[len(val_mae_values) - 1])\n",
        "  \n",
        "\n",
        "\n",
        "# Builld the model\n",
        "regmod1 = build_regmodl1()\n",
        "\n",
        "# Run fit and store data\n",
        "regmodl1_history = regmod1.fit(x=copyTrain, y=y_train, epochs=50, verbose=2, validation_data=(copyVal, y_val))\n",
        "\n",
        "# Show Model Summary\n",
        "regmod1.summary()\n",
        "\n",
        "PrintFinalValues(regmodl1_history)"
      ],
      "metadata": {
        "id": "WBdR9tpWdYcs",
        "colab": {
          "base_uri": "https://localhost:8080/"
        },
        "outputId": "4a02c7be-0f82-4df8-9665-825d26874aa8"
      },
      "execution_count": 12,
      "outputs": [
        {
          "output_type": "stream",
          "name": "stdout",
          "text": [
            "Epoch 1/50\n",
            "153/153 - 1s - loss: 3.8300 - mae: 1.3889 - val_loss: 0.9795 - val_mae: 0.7438 - 911ms/epoch - 6ms/step\n",
            "Epoch 2/50\n",
            "153/153 - 0s - loss: 0.7152 - mae: 0.6468 - val_loss: 0.6400 - val_mae: 0.6084 - 285ms/epoch - 2ms/step\n",
            "Epoch 3/50\n",
            "153/153 - 0s - loss: 0.5516 - mae: 0.5766 - val_loss: 0.6790 - val_mae: 0.6368 - 274ms/epoch - 2ms/step\n",
            "Epoch 4/50\n",
            "153/153 - 0s - loss: 0.5083 - mae: 0.5561 - val_loss: 0.5270 - val_mae: 0.5594 - 280ms/epoch - 2ms/step\n",
            "Epoch 5/50\n",
            "153/153 - 0s - loss: 0.4959 - mae: 0.5477 - val_loss: 0.5649 - val_mae: 0.5823 - 257ms/epoch - 2ms/step\n",
            "Epoch 6/50\n",
            "153/153 - 0s - loss: 0.4850 - mae: 0.5418 - val_loss: 0.9359 - val_mae: 0.7824 - 265ms/epoch - 2ms/step\n",
            "Epoch 7/50\n",
            "153/153 - 0s - loss: 0.4801 - mae: 0.5385 - val_loss: 0.7098 - val_mae: 0.6598 - 269ms/epoch - 2ms/step\n",
            "Epoch 8/50\n",
            "153/153 - 0s - loss: 0.4727 - mae: 0.5350 - val_loss: 0.5740 - val_mae: 0.5850 - 296ms/epoch - 2ms/step\n",
            "Epoch 9/50\n",
            "153/153 - 1s - loss: 0.4636 - mae: 0.5306 - val_loss: 0.7033 - val_mae: 0.6607 - 673ms/epoch - 4ms/step\n",
            "Epoch 10/50\n",
            "153/153 - 1s - loss: 0.4605 - mae: 0.5309 - val_loss: 0.5056 - val_mae: 0.5480 - 655ms/epoch - 4ms/step\n",
            "Epoch 11/50\n",
            "153/153 - 1s - loss: 0.4655 - mae: 0.5330 - val_loss: 0.4894 - val_mae: 0.5347 - 583ms/epoch - 4ms/step\n",
            "Epoch 12/50\n",
            "153/153 - 1s - loss: 0.4536 - mae: 0.5248 - val_loss: 0.6649 - val_mae: 0.6332 - 588ms/epoch - 4ms/step\n",
            "Epoch 13/50\n",
            "153/153 - 1s - loss: 0.4542 - mae: 0.5256 - val_loss: 0.6609 - val_mae: 0.6426 - 512ms/epoch - 3ms/step\n",
            "Epoch 14/50\n",
            "153/153 - 1s - loss: 0.4465 - mae: 0.5196 - val_loss: 0.4835 - val_mae: 0.5335 - 584ms/epoch - 4ms/step\n",
            "Epoch 15/50\n",
            "153/153 - 1s - loss: 0.4479 - mae: 0.5233 - val_loss: 0.5777 - val_mae: 0.5849 - 526ms/epoch - 3ms/step\n",
            "Epoch 16/50\n",
            "153/153 - 1s - loss: 0.4466 - mae: 0.5185 - val_loss: 0.5312 - val_mae: 0.5534 - 649ms/epoch - 4ms/step\n",
            "Epoch 17/50\n",
            "153/153 - 0s - loss: 0.4404 - mae: 0.5198 - val_loss: 0.4997 - val_mae: 0.5473 - 279ms/epoch - 2ms/step\n",
            "Epoch 18/50\n",
            "153/153 - 0s - loss: 0.4408 - mae: 0.5179 - val_loss: 0.4859 - val_mae: 0.5352 - 272ms/epoch - 2ms/step\n",
            "Epoch 19/50\n",
            "153/153 - 0s - loss: 0.4365 - mae: 0.5152 - val_loss: 0.6145 - val_mae: 0.6164 - 298ms/epoch - 2ms/step\n",
            "Epoch 20/50\n",
            "153/153 - 0s - loss: 0.4328 - mae: 0.5126 - val_loss: 0.5263 - val_mae: 0.5625 - 277ms/epoch - 2ms/step\n",
            "Epoch 21/50\n",
            "153/153 - 0s - loss: 0.4327 - mae: 0.5103 - val_loss: 0.5308 - val_mae: 0.5636 - 267ms/epoch - 2ms/step\n",
            "Epoch 22/50\n",
            "153/153 - 0s - loss: 0.4289 - mae: 0.5105 - val_loss: 0.6247 - val_mae: 0.6138 - 289ms/epoch - 2ms/step\n",
            "Epoch 23/50\n",
            "153/153 - 0s - loss: 0.4292 - mae: 0.5121 - val_loss: 0.5151 - val_mae: 0.5537 - 274ms/epoch - 2ms/step\n",
            "Epoch 24/50\n",
            "153/153 - 0s - loss: 0.4215 - mae: 0.5055 - val_loss: 0.5251 - val_mae: 0.5614 - 278ms/epoch - 2ms/step\n",
            "Epoch 25/50\n",
            "153/153 - 0s - loss: 0.4251 - mae: 0.5102 - val_loss: 0.5189 - val_mae: 0.5546 - 264ms/epoch - 2ms/step\n",
            "Epoch 26/50\n",
            "153/153 - 0s - loss: 0.4170 - mae: 0.5026 - val_loss: 0.5175 - val_mae: 0.5554 - 263ms/epoch - 2ms/step\n",
            "Epoch 27/50\n",
            "153/153 - 0s - loss: 0.4173 - mae: 0.5017 - val_loss: 0.5269 - val_mae: 0.5576 - 275ms/epoch - 2ms/step\n",
            "Epoch 28/50\n",
            "153/153 - 0s - loss: 0.4167 - mae: 0.5021 - val_loss: 0.5566 - val_mae: 0.5785 - 290ms/epoch - 2ms/step\n",
            "Epoch 29/50\n",
            "153/153 - 0s - loss: 0.4114 - mae: 0.5013 - val_loss: 0.5370 - val_mae: 0.5598 - 293ms/epoch - 2ms/step\n",
            "Epoch 30/50\n",
            "153/153 - 0s - loss: 0.4076 - mae: 0.4971 - val_loss: 0.5312 - val_mae: 0.5563 - 286ms/epoch - 2ms/step\n",
            "Epoch 31/50\n",
            "153/153 - 0s - loss: 0.4085 - mae: 0.4959 - val_loss: 0.5075 - val_mae: 0.5446 - 293ms/epoch - 2ms/step\n",
            "Epoch 32/50\n",
            "153/153 - 0s - loss: 0.4068 - mae: 0.4948 - val_loss: 0.5988 - val_mae: 0.6024 - 275ms/epoch - 2ms/step\n",
            "Epoch 33/50\n",
            "153/153 - 0s - loss: 0.3979 - mae: 0.4893 - val_loss: 0.5476 - val_mae: 0.5734 - 265ms/epoch - 2ms/step\n",
            "Epoch 34/50\n",
            "153/153 - 0s - loss: 0.3999 - mae: 0.4935 - val_loss: 0.4880 - val_mae: 0.5381 - 273ms/epoch - 2ms/step\n",
            "Epoch 35/50\n",
            "153/153 - 0s - loss: 0.4019 - mae: 0.4944 - val_loss: 0.5103 - val_mae: 0.5472 - 294ms/epoch - 2ms/step\n",
            "Epoch 36/50\n",
            "153/153 - 0s - loss: 0.3953 - mae: 0.4892 - val_loss: 0.6865 - val_mae: 0.6588 - 262ms/epoch - 2ms/step\n",
            "Epoch 37/50\n",
            "153/153 - 0s - loss: 0.4027 - mae: 0.4977 - val_loss: 0.5689 - val_mae: 0.5849 - 270ms/epoch - 2ms/step\n",
            "Epoch 38/50\n",
            "153/153 - 0s - loss: 0.3954 - mae: 0.4908 - val_loss: 0.5280 - val_mae: 0.5606 - 273ms/epoch - 2ms/step\n",
            "Epoch 39/50\n",
            "153/153 - 0s - loss: 0.3908 - mae: 0.4884 - val_loss: 0.5164 - val_mae: 0.5511 - 273ms/epoch - 2ms/step\n",
            "Epoch 40/50\n",
            "153/153 - 0s - loss: 0.3901 - mae: 0.4868 - val_loss: 0.4911 - val_mae: 0.5431 - 280ms/epoch - 2ms/step\n",
            "Epoch 41/50\n",
            "153/153 - 0s - loss: 0.3902 - mae: 0.4872 - val_loss: 0.6056 - val_mae: 0.6012 - 274ms/epoch - 2ms/step\n",
            "Epoch 42/50\n",
            "153/153 - 0s - loss: 0.3889 - mae: 0.4838 - val_loss: 0.5016 - val_mae: 0.5449 - 286ms/epoch - 2ms/step\n",
            "Epoch 43/50\n",
            "153/153 - 0s - loss: 0.3909 - mae: 0.4863 - val_loss: 0.4797 - val_mae: 0.5366 - 273ms/epoch - 2ms/step\n",
            "Epoch 44/50\n",
            "153/153 - 0s - loss: 0.3832 - mae: 0.4783 - val_loss: 0.5132 - val_mae: 0.5434 - 255ms/epoch - 2ms/step\n",
            "Epoch 45/50\n",
            "153/153 - 0s - loss: 0.3858 - mae: 0.4829 - val_loss: 0.6827 - val_mae: 0.6554 - 286ms/epoch - 2ms/step\n",
            "Epoch 46/50\n",
            "153/153 - 0s - loss: 0.3818 - mae: 0.4818 - val_loss: 0.5344 - val_mae: 0.5634 - 276ms/epoch - 2ms/step\n",
            "Epoch 47/50\n",
            "153/153 - 0s - loss: 0.3822 - mae: 0.4803 - val_loss: 0.4936 - val_mae: 0.5421 - 260ms/epoch - 2ms/step\n",
            "Epoch 48/50\n",
            "153/153 - 0s - loss: 0.3795 - mae: 0.4794 - val_loss: 0.5368 - val_mae: 0.5616 - 277ms/epoch - 2ms/step\n",
            "Epoch 49/50\n",
            "153/153 - 0s - loss: 0.3745 - mae: 0.4754 - val_loss: 0.5407 - val_mae: 0.5709 - 290ms/epoch - 2ms/step\n",
            "Epoch 50/50\n",
            "153/153 - 0s - loss: 0.3729 - mae: 0.4732 - val_loss: 0.5383 - val_mae: 0.5621 - 254ms/epoch - 2ms/step\n",
            "Model: \"sequential_7\"\n",
            "_________________________________________________________________\n",
            " Layer (type)                Output Shape              Param #   \n",
            "=================================================================\n",
            " dense_21 (Dense)            (None, 512)               6656      \n",
            "                                                                 \n",
            " dense_22 (Dense)            (None, 8)                 4104      \n",
            "                                                                 \n",
            " dense_23 (Dense)            (None, 1)                 9         \n",
            "                                                                 \n",
            "=================================================================\n",
            "Total params: 10,769\n",
            "Trainable params: 10,769\n",
            "Non-trainable params: 0\n",
            "_________________________________________________________________\n",
            "dict_keys(['loss', 'mae', 'val_loss', 'val_mae'])\n",
            "Final Loss:  0.37285467982292175\n",
            "Final MAE:  0.47323504090309143\n",
            "Final Validation Loss:  0.5383321046829224\n",
            "Final Validation MAE:  0.5621365308761597\n"
          ]
        }
      ]
    },
    {
      "cell_type": "code",
      "source": [
        "def plot_model_history(model_history):\n",
        "  history_dict = model_history.history\n",
        "  history_dict.keys()\n",
        "\n",
        "  loss_values = history_dict[\"loss\"]\n",
        "  val_loss_values = history_dict[\"val_loss\"]\n",
        "\n",
        "  epochs = range(1, len(loss_values) + 1)\n",
        "\n",
        "\n",
        "  # Plot current data\n",
        "  plt.plot(epochs, loss_values, \"bo\", label=\"Training Loss\")\n",
        "  plt.plot(epochs, val_loss_values, \"b\", label=\"Validation Loss\")\n",
        "  plt.title(\"Training and Validation Loss\")\n",
        "  plt.xlabel(\"Epochs\")\n",
        "  plt.ylabel(\"Accuracy\")\n",
        "  plt.legend()\n",
        "  plt.show()\n",
        "  return"
      ],
      "metadata": {
        "id": "xnMledbiYd1K"
      },
      "execution_count": null,
      "outputs": []
    },
    {
      "cell_type": "markdown",
      "source": [
        "Plotting Regression Model 1\n",
        "\n"
      ],
      "metadata": {
        "id": "qVemg7OQYeSW"
      }
    },
    {
      "cell_type": "code",
      "source": [
        "plot_model_history(regmodl1_history)"
      ],
      "metadata": {
        "id": "2PY3AbKfj4Gc",
        "outputId": "9659e72c-0281-45ea-819f-9cbac466452d",
        "colab": {
          "base_uri": "https://localhost:8080/",
          "height": 295
        }
      },
      "execution_count": null,
      "outputs": [
        {
          "output_type": "display_data",
          "data": {
            "image/png": "[encoded data removed]",
            "text/plain": [
              "<Figure size 432x288 with 1 Axes>"
            ]
          },
          "metadata": {
            "needs_background": "light"
          }
        }
      ]
    },
    {
      "cell_type": "markdown",
      "source": [
        "### Regression Model 2"
      ],
      "metadata": {
        "id": "mmbjOEY3K49F"
      }
    },
    {
      "cell_type": "code",
      "source": [
        "# reg mod 2\n",
        "def build_regmodl2():\n",
        "  model = keras.Sequential([\n",
        "    layers.Dense(128, activation=\"relu\"),\n",
        "    layers.Dense(64, activation=\"relu\"),\n",
        "    layers.Dense(30, activation=\"relu\"),\n",
        "    layers.Dense(5, activation=\"relu\"),\n",
        "    layers.Dense(1),\n",
        "  ])\n",
        "  model.compile(optimizer=\"rmsprop\", loss=\"mse\", metrics=[\"mae\"])\n",
        "  return model;\n",
        "\n",
        "regmodl2 = build_regmodl2();\n",
        "\n",
        "regmodl2_history = regmodl2.fit(x=copyTrain, y=y_train, epochs=50, verbose=2, validation_data=(copyVal, y_val))\n",
        "\n",
        "regmodl2.summary()"
      ],
      "metadata": {
        "id": "4MAZXPzjl4sb",
        "colab": {
          "base_uri": "https://localhost:8080/"
        },
        "outputId": "1f811e5e-4427-41aa-e1e6-671a2d9358f8"
      },
      "execution_count": null,
      "outputs": [
        {
          "output_type": "stream",
          "name": "stdout",
          "text": [
            "Epoch 1/50\n",
            "153/153 - 2s - loss: 3.9260 - mae: 1.3604 - val_loss: 0.9984 - val_mae: 0.7548 - 2s/epoch - 12ms/step\n",
            "Epoch 2/50\n",
            "153/153 - 1s - loss: 0.7571 - mae: 0.6725 - val_loss: 0.6882 - val_mae: 0.6351 - 542ms/epoch - 4ms/step\n",
            "Epoch 3/50\n",
            "153/153 - 1s - loss: 0.5953 - mae: 0.6006 - val_loss: 0.8191 - val_mae: 0.7133 - 533ms/epoch - 3ms/step\n",
            "Epoch 4/50\n",
            "153/153 - 0s - loss: 0.5419 - mae: 0.5727 - val_loss: 0.5545 - val_mae: 0.5659 - 440ms/epoch - 3ms/step\n",
            "Epoch 5/50\n",
            "153/153 - 1s - loss: 0.5307 - mae: 0.5692 - val_loss: 0.5476 - val_mae: 0.5709 - 519ms/epoch - 3ms/step\n",
            "Epoch 6/50\n",
            "153/153 - 0s - loss: 0.5045 - mae: 0.5543 - val_loss: 0.7413 - val_mae: 0.6818 - 423ms/epoch - 3ms/step\n",
            "Epoch 7/50\n",
            "153/153 - 0s - loss: 0.4991 - mae: 0.5535 - val_loss: 0.5316 - val_mae: 0.5595 - 483ms/epoch - 3ms/step\n",
            "Epoch 8/50\n",
            "153/153 - 0s - loss: 0.4899 - mae: 0.5459 - val_loss: 0.6876 - val_mae: 0.6489 - 473ms/epoch - 3ms/step\n",
            "Epoch 9/50\n",
            "153/153 - 0s - loss: 0.4814 - mae: 0.5400 - val_loss: 0.5156 - val_mae: 0.5496 - 437ms/epoch - 3ms/step\n",
            "Epoch 10/50\n",
            "153/153 - 0s - loss: 0.4750 - mae: 0.5347 - val_loss: 0.5223 - val_mae: 0.5576 - 488ms/epoch - 3ms/step\n",
            "Epoch 11/50\n",
            "153/153 - 0s - loss: 0.4643 - mae: 0.5340 - val_loss: 0.7531 - val_mae: 0.6832 - 450ms/epoch - 3ms/step\n",
            "Epoch 12/50\n",
            "153/153 - 0s - loss: 0.4634 - mae: 0.5322 - val_loss: 0.7982 - val_mae: 0.7081 - 457ms/epoch - 3ms/step\n",
            "Epoch 13/50\n",
            "153/153 - 0s - loss: 0.4521 - mae: 0.5232 - val_loss: 0.5738 - val_mae: 0.5822 - 499ms/epoch - 3ms/step\n",
            "Epoch 14/50\n",
            "153/153 - 1s - loss: 0.4514 - mae: 0.5242 - val_loss: 0.6960 - val_mae: 0.6517 - 543ms/epoch - 4ms/step\n",
            "Epoch 15/50\n",
            "153/153 - 1s - loss: 0.4457 - mae: 0.5194 - val_loss: 0.6823 - val_mae: 0.6502 - 569ms/epoch - 4ms/step\n",
            "Epoch 16/50\n",
            "153/153 - 1s - loss: 0.4373 - mae: 0.5104 - val_loss: 0.4835 - val_mae: 0.5328 - 536ms/epoch - 4ms/step\n",
            "Epoch 17/50\n",
            "153/153 - 0s - loss: 0.4410 - mae: 0.5153 - val_loss: 0.5026 - val_mae: 0.5458 - 472ms/epoch - 3ms/step\n",
            "Epoch 18/50\n",
            "153/153 - 1s - loss: 0.4325 - mae: 0.5125 - val_loss: 0.5790 - val_mae: 0.5877 - 576ms/epoch - 4ms/step\n",
            "Epoch 19/50\n",
            "153/153 - 0s - loss: 0.4227 - mae: 0.5047 - val_loss: 0.5637 - val_mae: 0.5766 - 499ms/epoch - 3ms/step\n",
            "Epoch 20/50\n",
            "153/153 - 1s - loss: 0.4209 - mae: 0.5050 - val_loss: 0.7420 - val_mae: 0.6706 - 595ms/epoch - 4ms/step\n",
            "Epoch 21/50\n",
            "153/153 - 0s - loss: 0.4229 - mae: 0.5049 - val_loss: 0.5690 - val_mae: 0.5851 - 485ms/epoch - 3ms/step\n",
            "Epoch 22/50\n",
            "153/153 - 1s - loss: 0.4183 - mae: 0.5021 - val_loss: 0.6524 - val_mae: 0.6315 - 581ms/epoch - 4ms/step\n",
            "Epoch 23/50\n",
            "153/153 - 1s - loss: 0.4057 - mae: 0.4951 - val_loss: 0.6371 - val_mae: 0.6277 - 562ms/epoch - 4ms/step\n",
            "Epoch 24/50\n",
            "153/153 - 1s - loss: 0.4055 - mae: 0.4970 - val_loss: 0.5261 - val_mae: 0.5567 - 547ms/epoch - 4ms/step\n",
            "Epoch 25/50\n",
            "153/153 - 1s - loss: 0.4105 - mae: 0.4972 - val_loss: 0.6426 - val_mae: 0.6251 - 507ms/epoch - 3ms/step\n",
            "Epoch 26/50\n",
            "153/153 - 0s - loss: 0.3999 - mae: 0.4887 - val_loss: 0.5028 - val_mae: 0.5406 - 495ms/epoch - 3ms/step\n",
            "Epoch 27/50\n",
            "153/153 - 0s - loss: 0.3953 - mae: 0.4880 - val_loss: 0.5293 - val_mae: 0.5616 - 482ms/epoch - 3ms/step\n",
            "Epoch 28/50\n",
            "153/153 - 1s - loss: 0.3904 - mae: 0.4854 - val_loss: 0.5762 - val_mae: 0.5883 - 532ms/epoch - 3ms/step\n",
            "Epoch 29/50\n",
            "153/153 - 1s - loss: 0.3908 - mae: 0.4854 - val_loss: 0.5928 - val_mae: 0.5866 - 503ms/epoch - 3ms/step\n",
            "Epoch 30/50\n",
            "153/153 - 0s - loss: 0.3848 - mae: 0.4806 - val_loss: 0.4720 - val_mae: 0.5297 - 479ms/epoch - 3ms/step\n",
            "Epoch 31/50\n",
            "153/153 - 0s - loss: 0.3822 - mae: 0.4789 - val_loss: 0.4991 - val_mae: 0.5339 - 453ms/epoch - 3ms/step\n",
            "Epoch 32/50\n",
            "153/153 - 1s - loss: 0.3796 - mae: 0.4776 - val_loss: 0.5335 - val_mae: 0.5498 - 607ms/epoch - 4ms/step\n",
            "Epoch 33/50\n",
            "153/153 - 0s - loss: 0.3703 - mae: 0.4729 - val_loss: 0.5166 - val_mae: 0.5506 - 483ms/epoch - 3ms/step\n",
            "Epoch 34/50\n",
            "153/153 - 0s - loss: 0.3715 - mae: 0.4711 - val_loss: 0.5167 - val_mae: 0.5523 - 477ms/epoch - 3ms/step\n",
            "Epoch 35/50\n",
            "153/153 - 1s - loss: 0.3684 - mae: 0.4728 - val_loss: 0.6151 - val_mae: 0.6014 - 553ms/epoch - 4ms/step\n",
            "Epoch 36/50\n",
            "153/153 - 0s - loss: 0.3656 - mae: 0.4685 - val_loss: 0.6047 - val_mae: 0.5938 - 493ms/epoch - 3ms/step\n",
            "Epoch 37/50\n",
            "153/153 - 1s - loss: 0.3607 - mae: 0.4660 - val_loss: 0.5431 - val_mae: 0.5534 - 502ms/epoch - 3ms/step\n",
            "Epoch 38/50\n",
            "153/153 - 1s - loss: 0.3598 - mae: 0.4666 - val_loss: 0.5799 - val_mae: 0.5863 - 546ms/epoch - 4ms/step\n",
            "Epoch 39/50\n",
            "153/153 - 1s - loss: 0.3594 - mae: 0.4654 - val_loss: 0.6456 - val_mae: 0.6188 - 526ms/epoch - 3ms/step\n",
            "Epoch 40/50\n",
            "153/153 - 1s - loss: 0.3543 - mae: 0.4650 - val_loss: 0.5828 - val_mae: 0.5814 - 515ms/epoch - 3ms/step\n",
            "Epoch 41/50\n",
            "153/153 - 1s - loss: 0.3516 - mae: 0.4602 - val_loss: 0.4947 - val_mae: 0.5265 - 515ms/epoch - 3ms/step\n",
            "Epoch 42/50\n",
            "153/153 - 0s - loss: 0.3450 - mae: 0.4544 - val_loss: 0.5722 - val_mae: 0.5772 - 494ms/epoch - 3ms/step\n",
            "Epoch 43/50\n",
            "153/153 - 1s - loss: 0.3395 - mae: 0.4536 - val_loss: 0.5372 - val_mae: 0.5646 - 555ms/epoch - 4ms/step\n",
            "Epoch 44/50\n",
            "153/153 - 1s - loss: 0.3437 - mae: 0.4523 - val_loss: 0.5223 - val_mae: 0.5436 - 529ms/epoch - 3ms/step\n",
            "Epoch 45/50\n",
            "153/153 - 1s - loss: 0.3427 - mae: 0.4520 - val_loss: 0.5038 - val_mae: 0.5337 - 566ms/epoch - 4ms/step\n",
            "Epoch 46/50\n",
            "153/153 - 0s - loss: 0.3371 - mae: 0.4481 - val_loss: 0.6378 - val_mae: 0.6182 - 448ms/epoch - 3ms/step\n",
            "Epoch 47/50\n",
            "153/153 - 1s - loss: 0.3280 - mae: 0.4428 - val_loss: 0.5285 - val_mae: 0.5509 - 500ms/epoch - 3ms/step\n",
            "Epoch 48/50\n",
            "153/153 - 0s - loss: 0.3292 - mae: 0.4448 - val_loss: 0.5185 - val_mae: 0.5423 - 438ms/epoch - 3ms/step\n",
            "Epoch 49/50\n",
            "153/153 - 0s - loss: 0.3300 - mae: 0.4470 - val_loss: 0.5540 - val_mae: 0.5664 - 477ms/epoch - 3ms/step\n",
            "Epoch 50/50\n",
            "153/153 - 0s - loss: 0.3266 - mae: 0.4418 - val_loss: 0.6701 - val_mae: 0.6267 - 491ms/epoch - 3ms/step\n",
            "Model: \"sequential_34\"\n",
            "_________________________________________________________________\n",
            " Layer (type)                Output Shape              Param #   \n",
            "=================================================================\n",
            " dense_135 (Dense)           (None, 128)               1664      \n",
            "                                                                 \n",
            " dense_136 (Dense)           (None, 64)                8256      \n",
            "                                                                 \n",
            " dense_137 (Dense)           (None, 30)                1950      \n",
            "                                                                 \n",
            " dense_138 (Dense)           (None, 5)                 155       \n",
            "                                                                 \n",
            " dense_139 (Dense)           (None, 1)                 6         \n",
            "                                                                 \n",
            "=================================================================\n",
            "Total params: 12,031\n",
            "Trainable params: 12,031\n",
            "Non-trainable params: 0\n",
            "_________________________________________________________________\n"
          ]
        }
      ]
    },
    {
      "cell_type": "markdown",
      "source": [
        "Plotting Regression Model 2"
      ],
      "metadata": {
        "id": "JRHjNr9xgXeT"
      }
    },
    {
      "cell_type": "code",
      "source": [
        "plot_model_history(regmodl2_history)"
      ],
      "metadata": {
        "id": "SNIWIhR2gaYN",
        "outputId": "68d7f2b0-02b6-4ca1-be03-7932cc1dbc42",
        "colab": {
          "base_uri": "https://localhost:8080/",
          "height": 295
        }
      },
      "execution_count": null,
      "outputs": [
        {
          "output_type": "display_data",
          "data": {
            "image/png": "[encoded data removed]",
            "text/plain": [
              "<Figure size 432x288 with 1 Axes>"
            ]
          },
          "metadata": {
            "needs_background": "light"
          }
        }
      ]
    },
    {
      "cell_type": "markdown",
      "source": [
        "### Regression Model 3"
      ],
      "metadata": {
        "id": "9bt4_Yz4K8e9"
      }
    },
    {
      "cell_type": "code",
      "source": [
        "# reg mod 3\n",
        "def build_regmodl3():\n",
        "  model = keras.Sequential([\n",
        "    layers.Dense(512, activation=\"relu\"),\n",
        "    layers.Dense(125, activation=\"relu\"),\n",
        "    layers.Dense(64, activation=\"relu\"),\n",
        "    layers.Dense(30, activation=\"relu\"),\n",
        "    layers.Dense(5, activation=\"relu\"),\n",
        "    layers.Dense(1)                    \n",
        "  ])\n",
        "  model.compile(optimizer=\"rmsprop\", loss=\"mse\", metrics=[\"mae\"])\n",
        "  return model;\n",
        "\n",
        "regmodl3 = build_regmodl3()\n",
        "\n",
        "regmodl3_history = regmodl3.fit(x=copyTrain, y=y_train, epochs=50, verbose=2, validation_data=(copyVal, y_val))\n",
        "\n",
        "regmodl3.summary()"
      ],
      "metadata": {
        "id": "FKRKSxhfAeWi",
        "colab": {
          "base_uri": "https://localhost:8080/"
        },
        "outputId": "d6e46527-8258-4e2f-d33a-35fa48f6741e"
      },
      "execution_count": null,
      "outputs": [
        {
          "output_type": "stream",
          "name": "stdout",
          "text": [
            "Epoch 1/50\n",
            "153/153 - 2s - loss: 2.2998 - mae: 1.0602 - val_loss: 0.8355 - val_mae: 0.6859 - 2s/epoch - 15ms/step\n",
            "Epoch 2/50\n",
            "153/153 - 1s - loss: 0.7821 - mae: 0.6869 - val_loss: 1.2976 - val_mae: 0.9429 - 636ms/epoch - 4ms/step\n",
            "Epoch 3/50\n",
            "153/153 - 1s - loss: 0.6738 - mae: 0.6397 - val_loss: 1.0162 - val_mae: 0.8168 - 821ms/epoch - 5ms/step\n",
            "Epoch 4/50\n",
            "153/153 - 1s - loss: 0.6283 - mae: 0.6228 - val_loss: 0.8759 - val_mae: 0.7379 - 746ms/epoch - 5ms/step\n",
            "Epoch 5/50\n",
            "153/153 - 1s - loss: 0.6012 - mae: 0.6055 - val_loss: 0.6881 - val_mae: 0.6419 - 745ms/epoch - 5ms/step\n",
            "Epoch 6/50\n",
            "153/153 - 1s - loss: 0.5743 - mae: 0.5897 - val_loss: 1.1279 - val_mae: 0.8681 - 697ms/epoch - 5ms/step\n",
            "Epoch 7/50\n",
            "153/153 - 1s - loss: 0.5606 - mae: 0.5895 - val_loss: 0.5134 - val_mae: 0.5607 - 746ms/epoch - 5ms/step\n",
            "Epoch 8/50\n",
            "153/153 - 1s - loss: 0.5506 - mae: 0.5816 - val_loss: 0.8414 - val_mae: 0.7243 - 790ms/epoch - 5ms/step\n",
            "Epoch 9/50\n",
            "153/153 - 1s - loss: 0.5469 - mae: 0.5827 - val_loss: 0.5304 - val_mae: 0.5605 - 751ms/epoch - 5ms/step\n",
            "Epoch 10/50\n",
            "153/153 - 1s - loss: 0.5224 - mae: 0.5624 - val_loss: 1.0439 - val_mae: 0.8320 - 668ms/epoch - 4ms/step\n",
            "Epoch 11/50\n",
            "153/153 - 1s - loss: 0.5193 - mae: 0.5630 - val_loss: 0.8076 - val_mae: 0.7035 - 789ms/epoch - 5ms/step\n",
            "Epoch 12/50\n",
            "153/153 - 1s - loss: 0.5153 - mae: 0.5631 - val_loss: 0.6379 - val_mae: 0.6157 - 694ms/epoch - 5ms/step\n",
            "Epoch 13/50\n",
            "153/153 - 1s - loss: 0.4998 - mae: 0.5509 - val_loss: 0.7710 - val_mae: 0.6937 - 800ms/epoch - 5ms/step\n",
            "Epoch 14/50\n",
            "153/153 - 1s - loss: 0.5039 - mae: 0.5544 - val_loss: 0.4963 - val_mae: 0.5428 - 738ms/epoch - 5ms/step\n",
            "Epoch 15/50\n",
            "153/153 - 1s - loss: 0.4850 - mae: 0.5447 - val_loss: 0.4897 - val_mae: 0.5336 - 742ms/epoch - 5ms/step\n",
            "Epoch 16/50\n",
            "153/153 - 1s - loss: 0.4851 - mae: 0.5456 - val_loss: 0.7640 - val_mae: 0.6945 - 740ms/epoch - 5ms/step\n",
            "Epoch 17/50\n",
            "153/153 - 1s - loss: 0.4797 - mae: 0.5389 - val_loss: 0.4957 - val_mae: 0.5447 - 712ms/epoch - 5ms/step\n",
            "Epoch 18/50\n",
            "153/153 - 1s - loss: 0.4682 - mae: 0.5327 - val_loss: 0.5448 - val_mae: 0.5663 - 732ms/epoch - 5ms/step\n",
            "Epoch 19/50\n",
            "153/153 - 1s - loss: 0.4642 - mae: 0.5334 - val_loss: 0.5109 - val_mae: 0.5502 - 753ms/epoch - 5ms/step\n",
            "Epoch 20/50\n",
            "153/153 - 1s - loss: 0.4552 - mae: 0.5225 - val_loss: 0.5520 - val_mae: 0.5704 - 785ms/epoch - 5ms/step\n",
            "Epoch 21/50\n",
            "153/153 - 1s - loss: 0.4549 - mae: 0.5277 - val_loss: 0.5771 - val_mae: 0.5820 - 739ms/epoch - 5ms/step\n",
            "Epoch 22/50\n",
            "153/153 - 1s - loss: 0.4367 - mae: 0.5113 - val_loss: 0.5649 - val_mae: 0.5754 - 726ms/epoch - 5ms/step\n",
            "Epoch 23/50\n",
            "153/153 - 1s - loss: 0.4385 - mae: 0.5160 - val_loss: 0.7042 - val_mae: 0.6564 - 799ms/epoch - 5ms/step\n",
            "Epoch 24/50\n",
            "153/153 - 1s - loss: 0.4314 - mae: 0.5097 - val_loss: 0.5535 - val_mae: 0.5819 - 689ms/epoch - 5ms/step\n",
            "Epoch 25/50\n",
            "153/153 - 1s - loss: 0.4265 - mae: 0.5104 - val_loss: 0.6149 - val_mae: 0.6091 - 847ms/epoch - 6ms/step\n",
            "Epoch 26/50\n",
            "153/153 - 1s - loss: 0.4214 - mae: 0.5069 - val_loss: 0.5406 - val_mae: 0.5645 - 712ms/epoch - 5ms/step\n",
            "Epoch 27/50\n",
            "153/153 - 1s - loss: 0.4151 - mae: 0.4990 - val_loss: 0.5510 - val_mae: 0.5661 - 693ms/epoch - 5ms/step\n",
            "Epoch 28/50\n",
            "153/153 - 1s - loss: 0.4149 - mae: 0.4998 - val_loss: 0.4999 - val_mae: 0.5437 - 686ms/epoch - 4ms/step\n",
            "Epoch 29/50\n",
            "153/153 - 1s - loss: 0.4112 - mae: 0.5000 - val_loss: 0.7042 - val_mae: 0.6537 - 663ms/epoch - 4ms/step\n",
            "Epoch 30/50\n",
            "153/153 - 1s - loss: 0.4105 - mae: 0.4989 - val_loss: 0.5250 - val_mae: 0.5481 - 634ms/epoch - 4ms/step\n",
            "Epoch 31/50\n",
            "153/153 - 1s - loss: 0.3974 - mae: 0.4909 - val_loss: 0.5303 - val_mae: 0.5583 - 730ms/epoch - 5ms/step\n",
            "Epoch 32/50\n",
            "153/153 - 1s - loss: 0.3861 - mae: 0.4829 - val_loss: 0.8114 - val_mae: 0.7122 - 724ms/epoch - 5ms/step\n",
            "Epoch 33/50\n",
            "153/153 - 1s - loss: 0.3897 - mae: 0.4820 - val_loss: 0.6555 - val_mae: 0.6284 - 784ms/epoch - 5ms/step\n",
            "Epoch 34/50\n",
            "153/153 - 1s - loss: 0.3782 - mae: 0.4771 - val_loss: 0.7938 - val_mae: 0.7097 - 726ms/epoch - 5ms/step\n",
            "Epoch 35/50\n",
            "153/153 - 1s - loss: 0.3810 - mae: 0.4794 - val_loss: 0.5394 - val_mae: 0.5582 - 765ms/epoch - 5ms/step\n",
            "Epoch 36/50\n",
            "153/153 - 1s - loss: 0.3757 - mae: 0.4749 - val_loss: 0.6448 - val_mae: 0.6262 - 796ms/epoch - 5ms/step\n",
            "Epoch 37/50\n",
            "153/153 - 1s - loss: 0.3700 - mae: 0.4724 - val_loss: 0.5136 - val_mae: 0.5396 - 768ms/epoch - 5ms/step\n",
            "Epoch 38/50\n",
            "153/153 - 1s - loss: 0.3641 - mae: 0.4680 - val_loss: 0.5436 - val_mae: 0.5619 - 764ms/epoch - 5ms/step\n",
            "Epoch 39/50\n",
            "153/153 - 1s - loss: 0.3621 - mae: 0.4679 - val_loss: 0.5326 - val_mae: 0.5516 - 836ms/epoch - 5ms/step\n",
            "Epoch 40/50\n",
            "153/153 - 1s - loss: 0.3592 - mae: 0.4669 - val_loss: 0.6597 - val_mae: 0.6297 - 725ms/epoch - 5ms/step\n",
            "Epoch 41/50\n",
            "153/153 - 1s - loss: 0.3485 - mae: 0.4601 - val_loss: 0.5356 - val_mae: 0.5554 - 722ms/epoch - 5ms/step\n",
            "Epoch 42/50\n",
            "153/153 - 1s - loss: 0.3413 - mae: 0.4525 - val_loss: 0.7865 - val_mae: 0.6867 - 658ms/epoch - 4ms/step\n",
            "Epoch 43/50\n",
            "153/153 - 1s - loss: 0.3402 - mae: 0.4509 - val_loss: 0.9306 - val_mae: 0.7699 - 778ms/epoch - 5ms/step\n",
            "Epoch 44/50\n",
            "153/153 - 1s - loss: 0.3353 - mae: 0.4482 - val_loss: 0.5388 - val_mae: 0.5574 - 715ms/epoch - 5ms/step\n",
            "Epoch 45/50\n",
            "153/153 - 1s - loss: 0.3348 - mae: 0.4497 - val_loss: 0.5226 - val_mae: 0.5383 - 724ms/epoch - 5ms/step\n",
            "Epoch 46/50\n",
            "153/153 - 1s - loss: 0.3311 - mae: 0.4427 - val_loss: 0.5480 - val_mae: 0.5658 - 718ms/epoch - 5ms/step\n",
            "Epoch 47/50\n",
            "153/153 - 1s - loss: 0.3257 - mae: 0.4423 - val_loss: 0.5833 - val_mae: 0.5891 - 767ms/epoch - 5ms/step\n",
            "Epoch 48/50\n",
            "153/153 - 1s - loss: 0.3203 - mae: 0.4397 - val_loss: 0.5403 - val_mae: 0.5538 - 729ms/epoch - 5ms/step\n",
            "Epoch 49/50\n",
            "153/153 - 1s - loss: 0.3172 - mae: 0.4347 - val_loss: 0.4930 - val_mae: 0.5318 - 698ms/epoch - 5ms/step\n",
            "Epoch 50/50\n",
            "153/153 - 1s - loss: 0.3025 - mae: 0.4253 - val_loss: 0.5347 - val_mae: 0.5542 - 742ms/epoch - 5ms/step\n",
            "Model: \"sequential_35\"\n",
            "_________________________________________________________________\n",
            " Layer (type)                Output Shape              Param #   \n",
            "=================================================================\n",
            " dense_140 (Dense)           (None, 512)               6656      \n",
            "                                                                 \n",
            " dense_141 (Dense)           (None, 125)               64125     \n",
            "                                                                 \n",
            " dense_142 (Dense)           (None, 64)                8064      \n",
            "                                                                 \n",
            " dense_143 (Dense)           (None, 30)                1950      \n",
            "                                                                 \n",
            " dense_144 (Dense)           (None, 5)                 155       \n",
            "                                                                 \n",
            " dense_145 (Dense)           (None, 1)                 6         \n",
            "                                                                 \n",
            "=================================================================\n",
            "Total params: 80,956\n",
            "Trainable params: 80,956\n",
            "Non-trainable params: 0\n",
            "_________________________________________________________________\n"
          ]
        }
      ]
    },
    {
      "cell_type": "markdown",
      "source": [
        "Plotting Regression Model 3"
      ],
      "metadata": {
        "id": "8Oyf18uLLAzf"
      }
    },
    {
      "cell_type": "code",
      "source": [
        "plot_model_history(regmodl3_history)"
      ],
      "metadata": {
        "colab": {
          "base_uri": "https://localhost:8080/",
          "height": 295
        },
        "id": "e5XlSgPELE18",
        "outputId": "f9fec755-2803-4452-a9d2-3509392d4206"
      },
      "execution_count": null,
      "outputs": [
        {
          "output_type": "display_data",
          "data": {
            "image/png": "[encoded data removed]",
            "text/plain": [
              "<Figure size 432x288 with 1 Axes>"
            ]
          },
          "metadata": {
            "needs_background": "light"
          }
        }
      ]
    },
    {
      "cell_type": "code",
      "source": [
        "from prettytable import PrettyTable\n",
        "\n",
        "predictions = regmodl3.predict(copyTest)\n",
        "\n",
        "table = PrettyTable(['Pattern #', 'f1', 'f2', 'f3', 'f4', 'f5', 'f6', 'f7', 'f8', 'f9', 'f10', 'f11', 'f12', 'Activation', 'Target', 'Error'])\n",
        "\n",
        "\n",
        "for i in range(10):\n",
        "  error = abs(predictions[i] - y_tst[i])\n",
        "  table.add_row([i + 1, Xtst[i][0], Xtst[i][1], Xtst[i][2], Xtst[i][3], Xtst[i][4], Xtst[i][5], Xtst[i][6], Xtst[i][7], Xtst[i][8], Xtst[i][9], Xtst[i][10], Xtst[i][11], predictions[i], y_tst[i], error])\n",
        "\n",
        "print(table)"
      ],
      "metadata": {
        "colab": {
          "base_uri": "https://localhost:8080/"
        },
        "id": "GmgGdwnGObc-",
        "outputId": "3969d7e3-882c-4964-ed01-199d84ce01c1"
      },
      "execution_count": null,
      "outputs": [
        {
          "output_type": "stream",
          "name": "stdout",
          "text": [
            "+-----------+-----+------+------+------+-------+------+-------+---------+------+------+------------------+-----+-------------+--------+--------------+\n",
            "| Pattern # |  f1 |  f2  |  f3  |  f4  |   f5  |  f6  |   f7  |    f8   |  f9  | f10  |       f11        | f12 |  Activation | Target |    Error     |\n",
            "+-----------+-----+------+------+------+-------+------+-------+---------+------+------+------------------+-----+-------------+--------+--------------+\n",
            "|     1     | 7.4 | 0.44 | 0.2  | 11.5 | 0.049 | 44.0 | 157.0 |  0.998  | 3.27 | 0.44 |       9.0        | 0.0 |  [5.145841] |   5    | [0.14584112] |\n",
            "|     2     | 6.5 | 0.23 | 0.36 | 16.3 | 0.038 | 43.0 | 133.0 | 0.99924 | 3.26 | 0.41 |       8.8        | 0.0 | [5.4446516] |   5    | [0.4446516]  |\n",
            "|     3     | 5.6 | 0.41 | 0.24 | 1.9  | 0.034 | 10.0 |  53.0 | 0.98815 | 3.32 | 0.5  |       13.5       | 0.0 | [5.2450304] |   7    | [1.7549696]  |\n",
            "|     4     | 6.4 | 0.67 | 0.08 | 2.1  | 0.045 | 19.0 |  48.0 |  0.9949 | 3.49 | 0.49 |       11.4       | 1.0 | [5.3623424] |   6    | [0.63765764] |\n",
            "|     5     | 6.8 | 0.18 | 0.37 | 1.6  | 0.055 | 47.0 | 154.0 |  0.9934 | 3.08 | 0.45 |       9.1        | 0.0 | [6.7140203] |   5    | [1.7140203]  |\n",
            "|     6     | 6.9 | 0.41 | 0.33 | 10.1 | 0.043 | 28.0 | 152.0 |  0.9968 | 3.2  | 0.52 |       9.4        | 0.0 | [5.2512074] |   5    | [0.25120735] |\n",
            "|     7     | 5.9 | 0.32 | 0.33 | 2.1  | 0.027 | 35.0 | 138.0 | 0.98945 | 3.37 | 0.42 |       12.7       | 0.0 |  [6.656306] |   6    | [0.6563058]  |\n",
            "|     8     | 6.0 | 0.24 | 0.41 | 1.3  | 0.036 | 42.0 | 118.0 | 0.99018 | 3.04 | 0.64 | 11.7333333333333 | 0.0 |  [5.93945]  |   6    | [0.06055021] |\n",
            "|     9     | 7.3 | 0.48 | 0.32 | 2.1  | 0.062 | 31.0 |  54.0 | 0.99728 | 3.3  | 0.65 |       10.0       | 1.0 | [5.8678637] |   7    | [1.1321363]  |\n",
            "|     10    | 7.4 | 0.24 | 0.22 | 10.7 | 0.042 | 26.0 |  81.0 |  0.9954 | 2.86 | 0.36 |       9.7        | 0.0 |  [5.358272] |   6    | [0.6417279]  |\n",
            "+-----------+-----+------+------+------+-------+------+-------+---------+------+------+------------------+-----+-------------+--------+--------------+\n"
          ]
        }
      ]
    },
    {
      "cell_type": "markdown",
      "source": [
        "# Part 3: Classification Model\n"
      ],
      "metadata": {
        "id": "PyD1poH4gTyy"
      }
    },
    {
      "cell_type": "code",
      "source": [
        "import copy\n",
        "\n",
        "def predict_hit_ratio():\n",
        "  val_labels_copy = copy.copy(y_val)\n",
        "  np.random.shuffle(val_labels_copy)\n",
        "  hits_array = np.array(y_val) == np.array(val_labels_copy)\n",
        "  return hits_array.mean()"
      ],
      "metadata": {
        "id": "0OJ__Hwciw2k"
      },
      "execution_count": null,
      "outputs": []
    },
    {
      "cell_type": "markdown",
      "source": [
        "### Classification Model 1"
      ],
      "metadata": {
        "id": "YiAOiEL1gzC4"
      }
    },
    {
      "cell_type": "code",
      "source": [
        "def build_clasmod1():\n",
        "  model = keras.Sequential([\n",
        "    layers.Dense(8,  activation=\"relu\"),\n",
        "    layers.Dense(4,  activation=\"softmax\")\n",
        "  ])\n",
        "  model.compile(optimizer=\"rmsprop\", loss=\"categorical_crossentropy\", metrics=[\"accuracy\"]) \n",
        "  return model\n",
        "\n",
        "clasmodl1 = build_clasmod1()\n",
        "\n",
        "clasmodl1_history = clasmodl1.fit(x=Xtrain, y=one_hot_train_labels, batch_size=32, epochs=25, verbose=2, validation_data=(Xval,one_hot_val_labels), validation_freq=1)\n",
        "\n",
        "clasmodl1.summary()"
      ],
      "metadata": {
        "id": "WtxZSngFg18y",
        "colab": {
          "base_uri": "https://localhost:8080/"
        },
        "outputId": "79c8db92-ab44-4364-86a3-ff0b7f87d270"
      },
      "execution_count": null,
      "outputs": [
        {
          "output_type": "stream",
          "name": "stdout",
          "text": [
            "Epoch 1/25\n",
            "153/153 - 1s - loss: 1.3606 - accuracy: 0.6695 - val_loss: 1.1330 - val_accuracy: 0.6749 - 1s/epoch - 9ms/step\n",
            "Epoch 2/25\n",
            "153/153 - 0s - loss: 0.8423 - accuracy: 0.7235 - val_loss: 0.7651 - val_accuracy: 0.7412 - 396ms/epoch - 3ms/step\n",
            "Epoch 3/25\n",
            "153/153 - 0s - loss: 0.6183 - accuracy: 0.7644 - val_loss: 0.6131 - val_accuracy: 0.7765 - 466ms/epoch - 3ms/step\n",
            "Epoch 4/25\n",
            "153/153 - 0s - loss: 0.5421 - accuracy: 0.7923 - val_loss: 0.5565 - val_accuracy: 0.7827 - 346ms/epoch - 2ms/step\n",
            "Epoch 5/25\n",
            "153/153 - 0s - loss: 0.5132 - accuracy: 0.8003 - val_loss: 0.5686 - val_accuracy: 0.7833 - 262ms/epoch - 2ms/step\n",
            "Epoch 6/25\n",
            "153/153 - 0s - loss: 0.5076 - accuracy: 0.8015 - val_loss: 0.5775 - val_accuracy: 0.7833 - 269ms/epoch - 2ms/step\n",
            "Epoch 7/25\n",
            "153/153 - 0s - loss: 0.5013 - accuracy: 0.8050 - val_loss: 0.6355 - val_accuracy: 0.7833 - 258ms/epoch - 2ms/step\n",
            "Epoch 8/25\n",
            "153/153 - 0s - loss: 0.4996 - accuracy: 0.8013 - val_loss: 0.6111 - val_accuracy: 0.7833 - 276ms/epoch - 2ms/step\n",
            "Epoch 9/25\n",
            "153/153 - 0s - loss: 0.4953 - accuracy: 0.8030 - val_loss: 0.5586 - val_accuracy: 0.7833 - 256ms/epoch - 2ms/step\n",
            "Epoch 10/25\n",
            "153/153 - 0s - loss: 0.4927 - accuracy: 0.8034 - val_loss: 0.5462 - val_accuracy: 0.7839 - 343ms/epoch - 2ms/step\n",
            "Epoch 11/25\n",
            "153/153 - 0s - loss: 0.4939 - accuracy: 0.8017 - val_loss: 0.5450 - val_accuracy: 0.7839 - 249ms/epoch - 2ms/step\n",
            "Epoch 12/25\n",
            "153/153 - 0s - loss: 0.4904 - accuracy: 0.8034 - val_loss: 0.5256 - val_accuracy: 0.7913 - 288ms/epoch - 2ms/step\n",
            "Epoch 13/25\n",
            "153/153 - 0s - loss: 0.4860 - accuracy: 0.8058 - val_loss: 0.5878 - val_accuracy: 0.7839 - 249ms/epoch - 2ms/step\n",
            "Epoch 14/25\n",
            "153/153 - 0s - loss: 0.4903 - accuracy: 0.8030 - val_loss: 0.5243 - val_accuracy: 0.7839 - 264ms/epoch - 2ms/step\n",
            "Epoch 15/25\n",
            "153/153 - 0s - loss: 0.4858 - accuracy: 0.8071 - val_loss: 0.6002 - val_accuracy: 0.7839 - 267ms/epoch - 2ms/step\n",
            "Epoch 16/25\n",
            "153/153 - 0s - loss: 0.4848 - accuracy: 0.8032 - val_loss: 0.5667 - val_accuracy: 0.7845 - 263ms/epoch - 2ms/step\n",
            "Epoch 17/25\n",
            "153/153 - 0s - loss: 0.4883 - accuracy: 0.8019 - val_loss: 0.5953 - val_accuracy: 0.7492 - 263ms/epoch - 2ms/step\n",
            "Epoch 18/25\n",
            "153/153 - 0s - loss: 0.4809 - accuracy: 0.8042 - val_loss: 0.5721 - val_accuracy: 0.7839 - 260ms/epoch - 2ms/step\n",
            "Epoch 19/25\n",
            "153/153 - 0s - loss: 0.4827 - accuracy: 0.8034 - val_loss: 0.5113 - val_accuracy: 0.7845 - 271ms/epoch - 2ms/step\n",
            "Epoch 20/25\n",
            "153/153 - 0s - loss: 0.4784 - accuracy: 0.8062 - val_loss: 0.6034 - val_accuracy: 0.7839 - 278ms/epoch - 2ms/step\n",
            "Epoch 21/25\n",
            "153/153 - 0s - loss: 0.4765 - accuracy: 0.8044 - val_loss: 0.5173 - val_accuracy: 0.7827 - 260ms/epoch - 2ms/step\n",
            "Epoch 22/25\n",
            "153/153 - 0s - loss: 0.4771 - accuracy: 0.8062 - val_loss: 0.5084 - val_accuracy: 0.7864 - 266ms/epoch - 2ms/step\n",
            "Epoch 23/25\n",
            "153/153 - 0s - loss: 0.4747 - accuracy: 0.8064 - val_loss: 0.5734 - val_accuracy: 0.7833 - 266ms/epoch - 2ms/step\n",
            "Epoch 24/25\n",
            "153/153 - 0s - loss: 0.4755 - accuracy: 0.8054 - val_loss: 0.5692 - val_accuracy: 0.7833 - 265ms/epoch - 2ms/step\n",
            "Epoch 25/25\n",
            "153/153 - 0s - loss: 0.4733 - accuracy: 0.8007 - val_loss: 0.5055 - val_accuracy: 0.7845 - 263ms/epoch - 2ms/step\n",
            "Model: \"sequential_36\"\n",
            "_________________________________________________________________\n",
            " Layer (type)                Output Shape              Param #   \n",
            "=================================================================\n",
            " dense_146 (Dense)           (None, 8)                 104       \n",
            "                                                                 \n",
            " dense_147 (Dense)           (None, 4)                 36        \n",
            "                                                                 \n",
            "=================================================================\n",
            "Total params: 140\n",
            "Trainable params: 140\n",
            "Non-trainable params: 0\n",
            "_________________________________________________________________\n"
          ]
        }
      ]
    },
    {
      "cell_type": "code",
      "source": [
        "plot_model_history(clasmodl1_history)"
      ],
      "metadata": {
        "id": "YtqhflJ_x_D2",
        "colab": {
          "base_uri": "https://localhost:8080/",
          "height": 295
        },
        "outputId": "292627e9-6846-4e51-da78-03a7de15d6b5"
      },
      "execution_count": null,
      "outputs": [
        {
          "output_type": "display_data",
          "data": {
            "image/png": "[encoded data removed]",
            "text/plain": [
              "<Figure size 432x288 with 1 Axes>"
            ]
          },
          "metadata": {
            "needs_background": "light"
          }
        }
      ]
    },
    {
      "cell_type": "markdown",
      "source": [
        "## Classification Model 2"
      ],
      "metadata": {
        "id": "LPufeNyog7yY"
      }
    },
    {
      "cell_type": "code",
      "source": [
        "# Model number 2\n",
        "def build_clasmod2():\n",
        "  model = keras.Sequential([\n",
        "    layers.Dense(32,  activation=\"relu\"),\n",
        "    layers.Dense(8, activation=\"relu\"),\n",
        "    layers.Dense(4,  activation=\"softmax\")\n",
        "  ])\n",
        "  model.compile(optimizer=\"rmsprop\", loss=\"categorical_crossentropy\", metrics=[\"accuracy\"]) \n",
        "  return model\n",
        "\n",
        "clasmodl2 = build_clasmod2()\n",
        "\n",
        "clasmodl2_history = clasmodl2.fit(x=Xtrain, y=one_hot_train_labels, batch_size=32, epochs=25, verbose=2, validation_data=(Xval,one_hot_val_labels), validation_freq=1)\n",
        "\n",
        "clasmodl2.summary()"
      ],
      "metadata": {
        "id": "E41xCAOog9VF",
        "colab": {
          "base_uri": "https://localhost:8080/"
        },
        "outputId": "1f614218-853d-4586-9d76-b0f202df8fd7"
      },
      "execution_count": null,
      "outputs": [
        {
          "output_type": "stream",
          "name": "stdout",
          "text": [
            "Epoch 1/25\n",
            "153/153 - 1s - loss: 0.7536 - accuracy: 0.7560 - val_loss: 0.5991 - val_accuracy: 0.7820 - 1s/epoch - 10ms/step\n",
            "Epoch 2/25\n",
            "153/153 - 0s - loss: 0.6172 - accuracy: 0.7685 - val_loss: 0.5524 - val_accuracy: 0.7796 - 459ms/epoch - 3ms/step\n",
            "Epoch 3/25\n",
            "153/153 - 0s - loss: 0.5990 - accuracy: 0.7666 - val_loss: 0.7882 - val_accuracy: 0.7839 - 455ms/epoch - 3ms/step\n",
            "Epoch 4/25\n",
            "153/153 - 0s - loss: 0.5672 - accuracy: 0.7775 - val_loss: 0.5581 - val_accuracy: 0.7777 - 459ms/epoch - 3ms/step\n",
            "Epoch 5/25\n",
            "153/153 - 0s - loss: 0.5622 - accuracy: 0.7763 - val_loss: 0.7651 - val_accuracy: 0.7839 - 415ms/epoch - 3ms/step\n",
            "Epoch 6/25\n",
            "153/153 - 1s - loss: 0.5616 - accuracy: 0.7818 - val_loss: 0.5714 - val_accuracy: 0.7839 - 519ms/epoch - 3ms/step\n",
            "Epoch 7/25\n",
            "153/153 - 0s - loss: 0.5469 - accuracy: 0.7845 - val_loss: 0.8594 - val_accuracy: 0.7839 - 466ms/epoch - 3ms/step\n",
            "Epoch 8/25\n",
            "153/153 - 0s - loss: 0.5296 - accuracy: 0.7845 - val_loss: 1.2136 - val_accuracy: 0.4161 - 377ms/epoch - 2ms/step\n",
            "Epoch 9/25\n",
            "153/153 - 0s - loss: 0.5396 - accuracy: 0.7828 - val_loss: 0.5322 - val_accuracy: 0.7789 - 402ms/epoch - 3ms/step\n",
            "Epoch 10/25\n",
            "153/153 - 0s - loss: 0.5118 - accuracy: 0.7964 - val_loss: 0.5600 - val_accuracy: 0.7628 - 445ms/epoch - 3ms/step\n",
            "Epoch 11/25\n",
            "153/153 - 0s - loss: 0.5043 - accuracy: 0.7999 - val_loss: 0.5634 - val_accuracy: 0.7839 - 398ms/epoch - 3ms/step\n",
            "Epoch 12/25\n",
            "153/153 - 0s - loss: 0.5001 - accuracy: 0.8034 - val_loss: 0.5323 - val_accuracy: 0.7839 - 390ms/epoch - 3ms/step\n",
            "Epoch 13/25\n",
            "153/153 - 0s - loss: 0.4995 - accuracy: 0.8036 - val_loss: 0.5249 - val_accuracy: 0.7839 - 355ms/epoch - 2ms/step\n",
            "Epoch 14/25\n",
            "153/153 - 0s - loss: 0.4937 - accuracy: 0.8042 - val_loss: 0.5370 - val_accuracy: 0.7839 - 380ms/epoch - 2ms/step\n",
            "Epoch 15/25\n",
            "153/153 - 0s - loss: 0.4924 - accuracy: 0.8042 - val_loss: 0.6161 - val_accuracy: 0.7839 - 437ms/epoch - 3ms/step\n",
            "Epoch 16/25\n",
            "153/153 - 0s - loss: 0.4883 - accuracy: 0.8038 - val_loss: 0.5279 - val_accuracy: 0.7808 - 384ms/epoch - 3ms/step\n",
            "Epoch 17/25\n",
            "153/153 - 0s - loss: 0.4798 - accuracy: 0.8048 - val_loss: 0.5256 - val_accuracy: 0.7814 - 380ms/epoch - 2ms/step\n",
            "Epoch 18/25\n",
            "153/153 - 0s - loss: 0.4868 - accuracy: 0.8044 - val_loss: 0.6266 - val_accuracy: 0.7839 - 365ms/epoch - 2ms/step\n",
            "Epoch 19/25\n",
            "153/153 - 0s - loss: 0.4801 - accuracy: 0.8040 - val_loss: 0.5211 - val_accuracy: 0.7789 - 430ms/epoch - 3ms/step\n",
            "Epoch 20/25\n",
            "153/153 - 0s - loss: 0.4773 - accuracy: 0.8042 - val_loss: 0.5497 - val_accuracy: 0.7839 - 377ms/epoch - 2ms/step\n",
            "Epoch 21/25\n",
            "153/153 - 0s - loss: 0.4796 - accuracy: 0.8042 - val_loss: 0.5556 - val_accuracy: 0.7839 - 368ms/epoch - 2ms/step\n",
            "Epoch 22/25\n",
            "153/153 - 0s - loss: 0.4743 - accuracy: 0.8046 - val_loss: 0.5337 - val_accuracy: 0.7808 - 396ms/epoch - 3ms/step\n",
            "Epoch 23/25\n",
            "153/153 - 0s - loss: 0.4770 - accuracy: 0.8046 - val_loss: 0.5154 - val_accuracy: 0.7839 - 405ms/epoch - 3ms/step\n",
            "Epoch 24/25\n",
            "153/153 - 0s - loss: 0.4748 - accuracy: 0.8042 - val_loss: 0.5168 - val_accuracy: 0.7839 - 413ms/epoch - 3ms/step\n",
            "Epoch 25/25\n",
            "153/153 - 0s - loss: 0.4703 - accuracy: 0.8038 - val_loss: 0.5244 - val_accuracy: 0.7845 - 371ms/epoch - 2ms/step\n",
            "Model: \"sequential_37\"\n",
            "_________________________________________________________________\n",
            " Layer (type)                Output Shape              Param #   \n",
            "=================================================================\n",
            " dense_148 (Dense)           (None, 32)                416       \n",
            "                                                                 \n",
            " dense_149 (Dense)           (None, 8)                 264       \n",
            "                                                                 \n",
            " dense_150 (Dense)           (None, 4)                 36        \n",
            "                                                                 \n",
            "=================================================================\n",
            "Total params: 716\n",
            "Trainable params: 716\n",
            "Non-trainable params: 0\n",
            "_________________________________________________________________\n"
          ]
        }
      ]
    },
    {
      "cell_type": "code",
      "source": [
        "plot_model_history(clasmodl2_history)"
      ],
      "metadata": {
        "colab": {
          "base_uri": "https://localhost:8080/",
          "height": 295
        },
        "id": "4nAqT62FMN5j",
        "outputId": "8c1e3a9f-4dd4-47f4-fdbe-27f591523c18"
      },
      "execution_count": null,
      "outputs": [
        {
          "output_type": "display_data",
          "data": {
            "image/png": "[encoded data removed]",
            "text/plain": [
              "<Figure size 432x288 with 1 Axes>"
            ]
          },
          "metadata": {
            "needs_background": "light"
          }
        }
      ]
    },
    {
      "cell_type": "markdown",
      "source": [
        "## Classification Model 3"
      ],
      "metadata": {
        "id": "DNpn6zV1g_gl"
      }
    },
    {
      "cell_type": "code",
      "source": [
        "# Model number 2\n",
        "def build_clasmod3():\n",
        "  model = keras.Sequential([\n",
        "    layers.Dense(32,  activation=\"relu\"),\n",
        "    layers.Dense(8, activation=\"relu\"),\n",
        "    layers.Dense(4,  activation=\"softmax\")\n",
        "  ])\n",
        "  model.compile(optimizer=\"rmsprop\", loss=\"categorical_crossentropy\", metrics=[\"accuracy\"]) \n",
        "  return model\n",
        "\n",
        "clasmodl3 = build_clasmod2()\n",
        "\n",
        "clasmodl3_history = clasmodl3.fit(x=Xtrain, y=one_hot_train_labels, batch_size=32, epochs=25, verbose=2, validation_data=(Xval,one_hot_val_labels), validation_freq=1)\n",
        "\n",
        "clasmodl3.summary()"
      ],
      "metadata": {
        "id": "N88gwpRahBnA",
        "colab": {
          "base_uri": "https://localhost:8080/"
        },
        "outputId": "316153a4-d6c5-4864-8ad9-d3861c76dc09"
      },
      "execution_count": null,
      "outputs": [
        {
          "output_type": "stream",
          "name": "stdout",
          "text": [
            "Epoch 1/25\n",
            "153/153 - 2s - loss: 7.8661 - accuracy: 0.4836 - val_loss: 0.7681 - val_accuracy: 0.7827 - 2s/epoch - 10ms/step\n",
            "Epoch 2/25\n",
            "153/153 - 1s - loss: 0.5830 - accuracy: 0.8030 - val_loss: 0.6550 - val_accuracy: 0.7839 - 528ms/epoch - 3ms/step\n",
            "Epoch 3/25\n",
            "153/153 - 0s - loss: 0.5338 - accuracy: 0.8025 - val_loss: 0.6699 - val_accuracy: 0.7839 - 459ms/epoch - 3ms/step\n",
            "Epoch 4/25\n",
            "153/153 - 0s - loss: 0.5239 - accuracy: 0.8036 - val_loss: 0.5760 - val_accuracy: 0.7876 - 488ms/epoch - 3ms/step\n",
            "Epoch 5/25\n",
            "153/153 - 0s - loss: 0.5077 - accuracy: 0.8013 - val_loss: 0.6338 - val_accuracy: 0.7839 - 400ms/epoch - 3ms/step\n",
            "Epoch 6/25\n",
            "153/153 - 0s - loss: 0.5003 - accuracy: 0.8036 - val_loss: 0.5531 - val_accuracy: 0.7814 - 438ms/epoch - 3ms/step\n",
            "Epoch 7/25\n",
            "153/153 - 0s - loss: 0.4937 - accuracy: 0.8009 - val_loss: 0.5436 - val_accuracy: 0.7845 - 462ms/epoch - 3ms/step\n",
            "Epoch 8/25\n",
            "153/153 - 1s - loss: 0.4918 - accuracy: 0.8009 - val_loss: 0.5524 - val_accuracy: 0.7845 - 506ms/epoch - 3ms/step\n",
            "Epoch 9/25\n",
            "153/153 - 0s - loss: 0.4871 - accuracy: 0.8007 - val_loss: 0.5324 - val_accuracy: 0.7814 - 431ms/epoch - 3ms/step\n",
            "Epoch 10/25\n",
            "153/153 - 0s - loss: 0.4812 - accuracy: 0.8032 - val_loss: 0.5721 - val_accuracy: 0.7796 - 412ms/epoch - 3ms/step\n",
            "Epoch 11/25\n",
            "153/153 - 0s - loss: 0.4827 - accuracy: 0.8005 - val_loss: 0.5601 - val_accuracy: 0.7833 - 470ms/epoch - 3ms/step\n",
            "Epoch 12/25\n",
            "153/153 - 0s - loss: 0.4808 - accuracy: 0.7968 - val_loss: 0.5489 - val_accuracy: 0.7802 - 450ms/epoch - 3ms/step\n",
            "Epoch 13/25\n",
            "153/153 - 0s - loss: 0.4756 - accuracy: 0.8038 - val_loss: 0.5490 - val_accuracy: 0.7827 - 430ms/epoch - 3ms/step\n",
            "Epoch 14/25\n",
            "153/153 - 0s - loss: 0.4771 - accuracy: 0.8003 - val_loss: 0.6024 - val_accuracy: 0.7406 - 408ms/epoch - 3ms/step\n",
            "Epoch 15/25\n",
            "153/153 - 0s - loss: 0.4716 - accuracy: 0.8021 - val_loss: 0.5138 - val_accuracy: 0.7907 - 415ms/epoch - 3ms/step\n",
            "Epoch 16/25\n",
            "153/153 - 0s - loss: 0.4684 - accuracy: 0.8064 - val_loss: 0.5342 - val_accuracy: 0.7820 - 451ms/epoch - 3ms/step\n",
            "Epoch 17/25\n",
            "153/153 - 0s - loss: 0.4667 - accuracy: 0.8071 - val_loss: 0.5736 - val_accuracy: 0.7845 - 447ms/epoch - 3ms/step\n",
            "Epoch 18/25\n",
            "153/153 - 0s - loss: 0.4647 - accuracy: 0.8021 - val_loss: 0.5433 - val_accuracy: 0.7839 - 406ms/epoch - 3ms/step\n",
            "Epoch 19/25\n",
            "153/153 - 0s - loss: 0.4666 - accuracy: 0.8040 - val_loss: 0.5070 - val_accuracy: 0.7988 - 456ms/epoch - 3ms/step\n",
            "Epoch 20/25\n",
            "153/153 - 0s - loss: 0.4592 - accuracy: 0.8056 - val_loss: 0.4979 - val_accuracy: 0.7926 - 387ms/epoch - 3ms/step\n",
            "Epoch 21/25\n",
            "153/153 - 0s - loss: 0.4593 - accuracy: 0.8056 - val_loss: 0.5012 - val_accuracy: 0.7950 - 393ms/epoch - 3ms/step\n",
            "Epoch 22/25\n",
            "153/153 - 0s - loss: 0.4592 - accuracy: 0.8046 - val_loss: 0.4963 - val_accuracy: 0.8012 - 466ms/epoch - 3ms/step\n",
            "Epoch 23/25\n",
            "153/153 - 0s - loss: 0.4553 - accuracy: 0.8095 - val_loss: 0.5061 - val_accuracy: 0.7981 - 430ms/epoch - 3ms/step\n",
            "Epoch 24/25\n",
            "153/153 - 0s - loss: 0.4554 - accuracy: 0.8028 - val_loss: 0.5223 - val_accuracy: 0.7895 - 404ms/epoch - 3ms/step\n",
            "Epoch 25/25\n",
            "153/153 - 0s - loss: 0.4528 - accuracy: 0.8062 - val_loss: 0.5170 - val_accuracy: 0.7858 - 439ms/epoch - 3ms/step\n",
            "Model: \"sequential_38\"\n",
            "_________________________________________________________________\n",
            " Layer (type)                Output Shape              Param #   \n",
            "=================================================================\n",
            " dense_151 (Dense)           (None, 32)                416       \n",
            "                                                                 \n",
            " dense_152 (Dense)           (None, 8)                 264       \n",
            "                                                                 \n",
            " dense_153 (Dense)           (None, 4)                 36        \n",
            "                                                                 \n",
            "=================================================================\n",
            "Total params: 716\n",
            "Trainable params: 716\n",
            "Non-trainable params: 0\n",
            "_________________________________________________________________\n"
          ]
        }
      ]
    },
    {
      "cell_type": "code",
      "source": [
        "plot_model_history(clasmodl3_history)"
      ],
      "metadata": {
        "colab": {
          "base_uri": "https://localhost:8080/",
          "height": 295
        },
        "id": "8UOmU6IjMRMU",
        "outputId": "72a3043b-ba88-4a26-a23d-cd0fed842336"
      },
      "execution_count": null,
      "outputs": [
        {
          "output_type": "display_data",
          "data": {
            "image/png": "[encoded data removed]",
            "text/plain": [
              "<Figure size 432x288 with 1 Axes>"
            ]
          },
          "metadata": {
            "needs_background": "light"
          }
        }
      ]
    },
    {
      "cell_type": "code",
      "source": [
        "from prettytable import PrettyTable\n",
        "\n",
        "predictions = clasmodl3.predict(Xtst)\n",
        "\n",
        "\n",
        "\n",
        "table = PrettyTable(['Pattern #', 'f1', 'f2', 'f3', 'f4', 'f5', 'f6', 'f7', 'f8', 'f9', 'f10', 'f11', 'f12', 'Activation', 'Target', 'Hit Ratio'])\n",
        "\n",
        "\n",
        "for i in range(10):\n",
        "  hitRatio = predictions[i].round()\n",
        "\n",
        "  compare = one_hot_train_labels[i] == hitRatio\n",
        "  isEqual = compare.all()\n",
        "\n",
        "  table.add_row([i, Xtst[i][0], Xtst[i][1], Xtst[i][2], Xtst[i][3], Xtst[i][4], Xtst[i][5], Xtst[i][6], Xtst[i][7], Xtst[i][8], Xtst[i][9], Xtst[i][10], Xtst[i][11], predictions[i], one_hot_tst_labels[i], isEqual])\n",
        "\n",
        "print(table)"
      ],
      "metadata": {
        "colab": {
          "base_uri": "https://localhost:8080/"
        },
        "id": "Sg_X2ierMV1h",
        "outputId": "13c5ae68-385e-4965-b811-95020ef47fed"
      },
      "execution_count": null,
      "outputs": [
        {
          "output_type": "stream",
          "name": "stdout",
          "text": [
            "+-----------+-----+------+------+------+-------+------+-------+---------+------+------+------------------+-----+---------------------------------------------------------------+---------------+-----------+\n",
            "| Pattern # |  f1 |  f2  |  f3  |  f4  |   f5  |  f6  |   f7  |    f8   |  f9  | f10  |       f11        | f12 |                           Activation                          |     Target    | Hit Ratio |\n",
            "+-----------+-----+------+------+------+-------+------+-------+---------+------+------+------------------+-----+---------------------------------------------------------------+---------------+-----------+\n",
            "|     0     | 7.4 | 0.44 | 0.2  | 11.5 | 0.049 | 44.0 | 157.0 |  0.998  | 3.27 | 0.44 |       9.0        | 0.0 | [1.29688149e-02 8.63077641e-01 1.23215556e-01 7.37976690e-04] | [0. 1. 0. 0.] |    True   |\n",
            "|     1     | 6.5 | 0.23 | 0.36 | 16.3 | 0.038 | 43.0 | 133.0 | 0.99924 | 3.26 | 0.41 |       8.8        | 0.0 |         [0.01480667 0.8544649  0.12976228 0.00096612]         | [0. 1. 0. 0.] |    True   |\n",
            "|     2     | 5.6 | 0.41 | 0.24 | 1.9  | 0.034 | 10.0 |  53.0 | 0.98815 | 3.32 | 0.5  |       13.5       | 0.0 |   [3.6387268e-04 7.2727156e-01 2.7232713e-01 3.7570062e-05]   | [0. 0. 1. 0.] |    True   |\n",
            "|     3     | 6.4 | 0.67 | 0.08 | 2.1  | 0.045 | 19.0 |  48.0 |  0.9949 | 3.49 | 0.49 |       11.4       | 1.0 |   [8.0070901e-04 9.4916272e-01 5.0032876e-02 3.6714896e-06]   | [0. 1. 0. 0.] |    True   |\n",
            "|     4     | 6.8 | 0.18 | 0.37 | 1.6  | 0.055 | 47.0 | 154.0 |  0.9934 | 3.08 | 0.45 |       9.1        | 0.0 | [1.34510864e-02 8.60763192e-01 1.24991015e-01 7.94767984e-04] | [0. 1. 0. 0.] |    True   |\n",
            "|     5     | 6.9 | 0.41 | 0.33 | 10.1 | 0.043 | 28.0 | 152.0 |  0.9968 | 3.2  | 0.52 |       9.4        | 0.0 |         [0.02115103 0.8280601  0.14878604 0.00200288]         | [0. 1. 0. 0.] |    True   |\n",
            "|     6     | 5.9 | 0.32 | 0.33 | 2.1  | 0.027 | 35.0 | 138.0 | 0.98945 | 3.37 | 0.42 |       12.7       | 0.0 |         [0.00595093 0.6224222  0.36944073 0.00218614]         | [0. 1. 0. 0.] |    True   |\n",
            "|     7     | 6.0 | 0.24 | 0.41 | 1.3  | 0.036 | 42.0 | 118.0 | 0.99018 | 3.04 | 0.64 | 11.7333333333333 | 0.0 |         [0.00760925 0.58778113 0.40083066 0.00377886]         | [0. 1. 0. 0.] |   False   |\n",
            "|     8     | 7.3 | 0.48 | 0.32 | 2.1  | 0.062 | 31.0 |  54.0 | 0.99728 | 3.3  | 0.65 |       10.0       | 1.0 |   [3.5473269e-03 9.1359735e-01 8.2795456e-02 5.9867078e-05]   | [0. 0. 1. 0.] |    True   |\n",
            "|     9     | 7.4 | 0.24 | 0.22 | 10.7 | 0.042 | 26.0 |  81.0 |  0.9954 | 2.86 | 0.36 |       9.7        | 0.0 |   [1.2505457e-02 8.6534137e-01 1.2146763e-01 6.8546110e-04]   | [0. 1. 0. 0.] |    True   |\n",
            "+-----------+-----+------+------+------+-------+------+-------+---------+------+------+------------------+-----+---------------------------------------------------------------+---------------+-----------+\n"
          ]
        }
      ]
    }
  ]
}