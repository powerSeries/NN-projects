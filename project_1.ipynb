{
  "nbformat": 4,
  "nbformat_minor": 0,
  "metadata": {
    "colab": {
      "name": "project-1.ipynb",
      "provenance": [],
      "collapsed_sections": [],
      "include_colab_link": true
    },
    "kernelspec": {
      "display_name": "Python 3",
      "name": "python3"
    }
  },
  "cells": [
    {
      "cell_type": "markdown",
      "metadata": {
        "id": "view-in-github",
        "colab_type": "text"
      },
      "source": [
        "<a href=\"https://colab.research.google.com/github/powerSeries/NN-projects/blob/main/project_1.ipynb\" target=\"_parent\"><img src=\"https://colab.research.google.com/assets/colab-badge.svg\" alt=\"Open In Colab\"/></a>"
      ]
    },
    {
      "cell_type": "markdown",
      "metadata": {
        "id": "vB3bHSucPIVs"
      },
      "source": [
        "Abbreviated data preparation for the Wine Quality Problem (Project 1)"
      ]
    },
    {
      "cell_type": "code",
      "metadata": {
        "id": "XrcPuh9-KY0j"
      },
      "source": [
        "# Import Required Libraries  \n",
        "import matplotlib.pyplot as plt \n",
        "import numpy as np \n",
        "# This time we need to also import pandas\n",
        "import pandas as pd \n",
        "\n",
        "# Read in white wine data \n",
        "# USES PANDAS (pd) to create a PANDAS DataFrame OBJECT:\n",
        "white = pd.read_csv(\"http://archive.ics.uci.edu/ml/machine-learning-databases/wine-quality/winequality-white.csv\", sep =';') \n",
        "\n",
        "# Read in red wine data \n",
        "# USES PANDAS (pd) to create a PANDAS DataFrame OBJECT:\n",
        "red = pd.read_csv(\"http://archive.ics.uci.edu/ml/machine-learning-databases/wine-quality/winequality-red.csv\", sep =';') \n",
        "\n",
        "# Add `type` column to `red` with price one  - done with PANDAS\n",
        "red['type'] = 1\n",
        "  \n",
        "# Add `type` column to `white` with price zero - done with PANDAS \n",
        "white['type'] = 0\n",
        "  \n",
        "# Append `white` to `red` - done with PANDAS\n",
        "# AFTER THIS WE HAVE ALL WINES (red and white) in a SINGLE pandas DataFrame\n",
        "wines = red.append(white, ignore_index = True) \n",
        "\n",
        "# Import SKLEARN\n",
        "import sklearn\n",
        "# Import `train_test_split` from `sklearn.model_selection` \n",
        "from sklearn.model_selection import train_test_split \n",
        "\n",
        "# Specify the  data - \n",
        "X1 = wines.iloc[:, 0:11]\n",
        "X2 = wines.iloc[:,12]\n",
        "X = pd.concat([X1,X2],axis = 1)\n",
        "\n",
        "# Specify the QUALITY target labels and flatten the array \n",
        "y = np.ravel(wines.quality) \n",
        "\n",
        "# Splitting the data set for training and validating  - Done with SKLEARN\n",
        "X_train, X_valid, y_train, y_valid = train_test_split( \n",
        "                 X, y, test_size = 0.25, random_state = 45) \n"
      ],
      "execution_count": 2,
      "outputs": []
    },
    {
      "cell_type": "code",
      "source": [
        "# CONVERTING X_train & X_test DataFrame s to TF tensors\n",
        "# Will USE NumPy, TF & Keras after this\n",
        "# import tensorflow as tf \n",
        "\n",
        "Xtrain = X_train.to_numpy()\n",
        "X_valid = X_valid.to_numpy()"
      ],
      "metadata": {
        "id": "AYtcmE0J4qQb"
      },
      "execution_count": 3,
      "outputs": []
    },
    {
      "cell_type": "code",
      "source": [
        "# In reality:\n",
        "# [1] ALL THE Xtrain patterns (with their y_train targets) \n",
        "# will be used for TRAINING ([TR]), as Xtrain & y_train\n",
        "# [2] MOST OF THE X_valid patterns (and their y_valid targets) \n",
        "#  will be used for VALIDATION ([TT]),  as X_val & y_val\n",
        "# BUT WE WILL SET ASIDE THE LAST 10 for \"testing\" ([TS])\n",
        "#  as X_tst & y_tst"
      ],
      "metadata": {
        "id": "qpHhdmJN6HVq"
      },
      "execution_count": 4,
      "outputs": []
    },
    {
      "cell_type": "code",
      "source": [
        "# To separate the last 10 in X_valid, let's first see the shape of X_valid\n",
        "X_valid.shape"
      ],
      "metadata": {
        "colab": {
          "base_uri": "https://localhost:8080/"
        },
        "id": "T10AK-Ip7YMb",
        "outputId": "0cbfd21a-b611-46b1-9786-4f49b69afc05"
      },
      "execution_count": 5,
      "outputs": [
        {
          "output_type": "execute_result",
          "data": {
            "text/plain": [
              "(1625, 12)"
            ]
          },
          "metadata": {},
          "execution_count": 5
        }
      ]
    },
    {
      "cell_type": "code",
      "source": [
        "# And verify also the shape of y_valid\n",
        "y_valid.shape"
      ],
      "metadata": {
        "colab": {
          "base_uri": "https://localhost:8080/"
        },
        "id": "Gj64QrXI7npC",
        "outputId": "0fa22958-8e53-494d-ec44-d32f54020d7d"
      },
      "execution_count": 6,
      "outputs": [
        {
          "output_type": "execute_result",
          "data": {
            "text/plain": [
              "(1625,)"
            ]
          },
          "metadata": {},
          "execution_count": 6
        }
      ]
    },
    {
      "cell_type": "code",
      "source": [
        "# Retain the first 1615 for validation ([TT])\n",
        "Xval = X_valid[:1615]\n",
        "Xval.shape"
      ],
      "metadata": {
        "colab": {
          "base_uri": "https://localhost:8080/"
        },
        "id": "2jDS0FsF739z",
        "outputId": "fa81b499-1fae-43a8-e583-7bfbe6281f80"
      },
      "execution_count": 7,
      "outputs": [
        {
          "output_type": "execute_result",
          "data": {
            "text/plain": [
              "(1615, 12)"
            ]
          },
          "metadata": {},
          "execution_count": 7
        }
      ]
    },
    {
      "cell_type": "code",
      "source": [
        "# and now set aside the last 10 for \"test\"\n",
        "Xtst = X_valid[1615:]\n",
        "Xtst.shape"
      ],
      "metadata": {
        "colab": {
          "base_uri": "https://localhost:8080/"
        },
        "id": "C_zJIn2Z-AS6",
        "outputId": "725af5a7-39e0-4eca-95a4-8d87b71f36e2"
      },
      "execution_count": 8,
      "outputs": [
        {
          "output_type": "execute_result",
          "data": {
            "text/plain": [
              "(10, 12)"
            ]
          },
          "metadata": {},
          "execution_count": 8
        }
      ]
    },
    {
      "cell_type": "code",
      "source": [
        "# SAME FOR THE CORRESPONDING TARGETS\n",
        "# Retain the first 1615 for validation ([TT])\n",
        "y_val = y_valid[:1615]\n",
        "y_val.shape"
      ],
      "metadata": {
        "colab": {
          "base_uri": "https://localhost:8080/"
        },
        "id": "YlrWhyX1-qQa",
        "outputId": "4d940724-beaa-42f9-e85b-7e3763d8c7bd"
      },
      "execution_count": 9,
      "outputs": [
        {
          "output_type": "execute_result",
          "data": {
            "text/plain": [
              "(1615,)"
            ]
          },
          "metadata": {},
          "execution_count": 9
        }
      ]
    },
    {
      "cell_type": "code",
      "source": [
        "y_tst = y_valid[1615:]\n",
        "y_tst.shape"
      ],
      "metadata": {
        "colab": {
          "base_uri": "https://localhost:8080/"
        },
        "id": "yesLMjKx--2r",
        "outputId": "32b097a8-3308-4f4b-d8ac-7be9478ba87b"
      },
      "execution_count": 10,
      "outputs": [
        {
          "output_type": "execute_result",
          "data": {
            "text/plain": [
              "(10,)"
            ]
          },
          "metadata": {},
          "execution_count": 10
        }
      ]
    },
    {
      "cell_type": "code",
      "source": [
        "y_tst"
      ],
      "metadata": {
        "colab": {
          "base_uri": "https://localhost:8080/"
        },
        "id": "QOIgFLku-2mr",
        "outputId": "fa6b60ed-ac54-4a2f-de51-64b409055b0d"
      },
      "execution_count": 11,
      "outputs": [
        {
          "output_type": "execute_result",
          "data": {
            "text/plain": [
              "array([5, 5, 7, 6, 5, 5, 6, 6, 7, 6])"
            ]
          },
          "metadata": {},
          "execution_count": 11
        }
      ]
    },
    {
      "cell_type": "code",
      "source": [
        " # NOW, IN ADDITION, CREATE THE TARGETS AS ONE-HOT-ENCODED 4 quality LEVELS"
      ],
      "metadata": {
        "id": "3zfsQQNn6ABr"
      },
      "execution_count": 12,
      "outputs": []
    },
    {
      "cell_type": "code",
      "metadata": {
        "colab": {
          "base_uri": "https://localhost:8080/"
        },
        "id": "HImrn2sHKvz_",
        "outputId": "6ca63705-639b-4daf-9937-86820e5e9438"
      },
      "source": [
        "# We will track these few targets through the conversion process\n",
        "y_train[272:283]"
      ],
      "execution_count": 13,
      "outputs": [
        {
          "output_type": "execute_result",
          "data": {
            "text/plain": [
              "array([5, 4, 6, 5, 5, 6, 7, 6, 5, 8, 5])"
            ]
          },
          "metadata": {},
          "execution_count": 13
        }
      ]
    },
    {
      "cell_type": "code",
      "source": [
        "# Function create rank-1 arrays where 3,4,5,6,7,8,9 are mapped to 1 or 2 or 3 or 4 \n",
        "def to_4cs(x):\n",
        "  lx = len(x)\n",
        "  results = np.zeros(lx)\n",
        "  for i in range(lx):\n",
        "      # print( \"start\")\n",
        "      xa = x[i];\n",
        "      if xa <= 3:\n",
        "          results[i] = 1      # 1, 2 and 3 map to Q-LEVEL 1 ( BAD Wine)\n",
        "      elif xa <=6:\n",
        "          results[i] = 2      # 4, 5 and 6 map to Q-LEVEL 2  (MEDIUM Wine)\n",
        "      elif xa <=8:\n",
        "          results[i] = 3      # 7 and 8 and 6 map to Q-LEVEL 3  (GOOD Wine)\n",
        "      else:\n",
        "          results[i] = 4      # 9 and above map to Q-LEVEL 4  (EXCELLENT Wine)\n",
        "    # results[i, label] = 1.\n",
        "  results = results.astype(int)\n",
        "  return results"
      ],
      "metadata": {
        "id": "iB1RjHR7PQD7"
      },
      "execution_count": 14,
      "outputs": []
    },
    {
      "cell_type": "code",
      "source": [
        "train_labels = to_4cs(y_train)\n",
        "val_labels = to_4cs(y_val)\n",
        "tst_labels = to_4cs(y_tst)"
      ],
      "metadata": {
        "id": "LhSoZ0b9Ptyj"
      },
      "execution_count": 15,
      "outputs": []
    },
    {
      "cell_type": "code",
      "metadata": {
        "colab": {
          "base_uri": "https://localhost:8080/"
        },
        "id": "RmSc8yQ5NgQe",
        "outputId": "27cf7ad6-6e7e-4d16-c24c-98fd939857f0"
      },
      "source": [
        "\n",
        "# Let's verify that the trainnig targets that we are tracking\n",
        "# were converted to levels (1 = BAD; 2 = MEDIUM; 3 = GOOD; 4- EXCELLENT) correctly:\n",
        "train_labels[272:283]"
      ],
      "execution_count": 16,
      "outputs": [
        {
          "output_type": "execute_result",
          "data": {
            "text/plain": [
              "array([2, 2, 2, 2, 2, 2, 3, 2, 2, 3, 2])"
            ]
          },
          "metadata": {},
          "execution_count": 16
        }
      ]
    },
    {
      "cell_type": "code",
      "metadata": {
        "id": "Cs-J7sRmKhGf"
      },
      "source": [
        "# NOW, ONE-HOT ENCODING OF ALL 3  TARGET ARRAYS\n",
        "# define a function to do the one-hot-encoding of output labels\n",
        "\n",
        "def to_one_hot(labels, dimension=4):\n",
        "    results = np.zeros((len(labels), dimension))\n",
        "    for i, label in enumerate(labels-1):\n",
        "        results[i, label] = 1.\n",
        "    return results\n",
        "\n",
        "one_hot_train_labels = to_one_hot(train_labels)\n",
        "one_hot_val_labels = to_one_hot(val_labels)\n",
        "one_hot_tst_labels = to_one_hot(tst_labels)"
      ],
      "execution_count": 17,
      "outputs": []
    },
    {
      "cell_type": "code",
      "source": [
        "#Let's verify that the training targets we have tracked were\n",
        "# one-hot encoded correctly\n",
        "one_hot_train_labels[272:283,]"
      ],
      "metadata": {
        "colab": {
          "base_uri": "https://localhost:8080/"
        },
        "id": "Mk1q-JDyBChj",
        "outputId": "8b50b980-f9f2-4e64-f87c-8f3be23c806a"
      },
      "execution_count": 18,
      "outputs": [
        {
          "output_type": "execute_result",
          "data": {
            "text/plain": [
              "array([[0., 1., 0., 0.],\n",
              "       [0., 1., 0., 0.],\n",
              "       [0., 1., 0., 0.],\n",
              "       [0., 1., 0., 0.],\n",
              "       [0., 1., 0., 0.],\n",
              "       [0., 1., 0., 0.],\n",
              "       [0., 0., 1., 0.],\n",
              "       [0., 1., 0., 0.],\n",
              "       [0., 1., 0., 0.],\n",
              "       [0., 0., 1., 0.],\n",
              "       [0., 1., 0., 0.]])"
            ]
          },
          "metadata": {},
          "execution_count": 18
        }
      ]
    },
    {
      "cell_type": "code",
      "source": [
        "# SO, AFTER EXECUTING THIS CELL, YOU WILL HAVE:\n",
        "# FOR TRAINING:\n",
        "#  Xtrain (4872, 12)...y_train (4872,)...train_labels(4872,)....one_hot_train_labels (4872,4)\n",
        "# FOR VALIDATING:\n",
        "#  Xval (1615, 12)...y_val (1615,)...val_labels(1615,)...one_hot_val_labels (1615,4)\n",
        "# FOR TESTING:\n",
        "#  Xtst (10, 12)...y_tst (10,)...tst_labels(10,)... one_hot_tst_labels (10,4)\n",
        "# PLEASE DO NOT CHANGE THE NAMES OF THESE VARIABLES (So that instructor can use them)"
      ],
      "metadata": {
        "id": "FfIxlsEISc5W"
      },
      "execution_count": 19,
      "outputs": []
    },
    {
      "cell_type": "markdown",
      "source": [
        " ++++  END OF THE DATA PREPARATION PART ++++ \n"
      ],
      "metadata": {
        "id": "Bq_9V9XCSd6t"
      }
    },
    {
      "cell_type": "markdown",
      "source": [
        "# Part 2: Regression Model"
      ],
      "metadata": {
        "id": "6Vt3n82EaN98"
      }
    },
    {
      "cell_type": "code",
      "source": [
        "# import libraries\n",
        "from tensorflow import keras\n",
        "from tensorflow.keras import layers\n",
        "\n",
        "def build_regmodl1():\n",
        "  regmodl1 = keras.Sequential([\n",
        "    layers.Dense(512, activation=\"relu\"),\n",
        "    layers.Dense(8, activation=\"relu\"),\n",
        "    layers.Dense(1),\n",
        "  ])\n",
        "  regmodl1.compile(optimizer=\"rmsprop\", loss=\"mse\", metrics=[\"mae\"])\n",
        "  return regmodl1\n",
        "\n",
        "regmod1 = build_regmodl1()\n",
        "\n",
        "regmod1.fit(x=Xtrain, y=train_labels, epochs=100, verbose=2)\n",
        "\n",
        "regmod1.summary()"
      ],
      "metadata": {
        "colab": {
          "base_uri": "https://localhost:8080/"
        },
        "id": "WBdR9tpWdYcs",
        "outputId": "87a29cc0-a87f-40ce-e0b5-100f9bad739a"
      },
      "execution_count": 20,
      "outputs": [
        {
          "output_type": "stream",
          "name": "stdout",
          "text": [
            "Epoch 1/100\n",
            "153/153 - 2s - loss: 0.8890 - mae: 0.6400 - 2s/epoch - 14ms/step\n",
            "Epoch 2/100\n",
            "153/153 - 0s - loss: 0.4055 - mae: 0.4809 - 227ms/epoch - 1ms/step\n",
            "Epoch 3/100\n",
            "153/153 - 0s - loss: 0.3060 - mae: 0.4176 - 214ms/epoch - 1ms/step\n",
            "Epoch 4/100\n",
            "153/153 - 0s - loss: 0.2831 - mae: 0.4214 - 206ms/epoch - 1ms/step\n",
            "Epoch 5/100\n",
            "153/153 - 0s - loss: 0.2391 - mae: 0.3809 - 221ms/epoch - 1ms/step\n",
            "Epoch 6/100\n",
            "153/153 - 0s - loss: 0.2212 - mae: 0.3643 - 243ms/epoch - 2ms/step\n",
            "Epoch 7/100\n",
            "153/153 - 0s - loss: 0.2054 - mae: 0.3479 - 208ms/epoch - 1ms/step\n",
            "Epoch 8/100\n",
            "153/153 - 0s - loss: 0.1889 - mae: 0.3360 - 220ms/epoch - 1ms/step\n",
            "Epoch 9/100\n",
            "153/153 - 0s - loss: 0.1829 - mae: 0.3283 - 220ms/epoch - 1ms/step\n",
            "Epoch 10/100\n",
            "153/153 - 0s - loss: 0.1757 - mae: 0.3232 - 218ms/epoch - 1ms/step\n",
            "Epoch 11/100\n",
            "153/153 - 0s - loss: 0.1685 - mae: 0.3123 - 228ms/epoch - 1ms/step\n",
            "Epoch 12/100\n",
            "153/153 - 0s - loss: 0.1677 - mae: 0.3107 - 212ms/epoch - 1ms/step\n",
            "Epoch 13/100\n",
            "153/153 - 0s - loss: 0.1634 - mae: 0.3109 - 210ms/epoch - 1ms/step\n",
            "Epoch 14/100\n",
            "153/153 - 0s - loss: 0.1569 - mae: 0.3006 - 218ms/epoch - 1ms/step\n",
            "Epoch 15/100\n",
            "153/153 - 0s - loss: 0.1561 - mae: 0.2984 - 228ms/epoch - 1ms/step\n",
            "Epoch 16/100\n",
            "153/153 - 0s - loss: 0.1564 - mae: 0.3007 - 201ms/epoch - 1ms/step\n",
            "Epoch 17/100\n",
            "153/153 - 0s - loss: 0.1516 - mae: 0.2972 - 209ms/epoch - 1ms/step\n",
            "Epoch 18/100\n",
            "153/153 - 0s - loss: 0.1529 - mae: 0.2946 - 210ms/epoch - 1ms/step\n",
            "Epoch 19/100\n",
            "153/153 - 0s - loss: 0.1514 - mae: 0.2937 - 199ms/epoch - 1ms/step\n",
            "Epoch 20/100\n",
            "153/153 - 0s - loss: 0.1470 - mae: 0.2895 - 213ms/epoch - 1ms/step\n",
            "Epoch 21/100\n",
            "153/153 - 0s - loss: 0.1465 - mae: 0.2905 - 209ms/epoch - 1ms/step\n",
            "Epoch 22/100\n",
            "153/153 - 0s - loss: 0.1478 - mae: 0.2901 - 209ms/epoch - 1ms/step\n",
            "Epoch 23/100\n",
            "153/153 - 0s - loss: 0.1525 - mae: 0.2911 - 204ms/epoch - 1ms/step\n",
            "Epoch 24/100\n",
            "153/153 - 0s - loss: 0.1445 - mae: 0.2874 - 205ms/epoch - 1ms/step\n",
            "Epoch 25/100\n",
            "153/153 - 0s - loss: 0.1441 - mae: 0.2862 - 208ms/epoch - 1ms/step\n",
            "Epoch 26/100\n",
            "153/153 - 0s - loss: 0.1432 - mae: 0.2852 - 200ms/epoch - 1ms/step\n",
            "Epoch 27/100\n",
            "153/153 - 0s - loss: 0.1444 - mae: 0.2831 - 227ms/epoch - 1ms/step\n",
            "Epoch 28/100\n",
            "153/153 - 0s - loss: 0.1438 - mae: 0.2846 - 218ms/epoch - 1ms/step\n",
            "Epoch 29/100\n",
            "153/153 - 0s - loss: 0.1431 - mae: 0.2845 - 195ms/epoch - 1ms/step\n",
            "Epoch 30/100\n",
            "153/153 - 0s - loss: 0.1424 - mae: 0.2829 - 211ms/epoch - 1ms/step\n",
            "Epoch 31/100\n",
            "153/153 - 0s - loss: 0.1406 - mae: 0.2821 - 236ms/epoch - 2ms/step\n",
            "Epoch 32/100\n",
            "153/153 - 0s - loss: 0.1415 - mae: 0.2817 - 200ms/epoch - 1ms/step\n",
            "Epoch 33/100\n",
            "153/153 - 0s - loss: 0.1406 - mae: 0.2810 - 198ms/epoch - 1ms/step\n",
            "Epoch 34/100\n",
            "153/153 - 0s - loss: 0.1387 - mae: 0.2796 - 204ms/epoch - 1ms/step\n",
            "Epoch 35/100\n",
            "153/153 - 0s - loss: 0.1397 - mae: 0.2792 - 210ms/epoch - 1ms/step\n",
            "Epoch 36/100\n",
            "153/153 - 0s - loss: 0.1402 - mae: 0.2801 - 205ms/epoch - 1ms/step\n",
            "Epoch 37/100\n",
            "153/153 - 0s - loss: 0.1389 - mae: 0.2806 - 207ms/epoch - 1ms/step\n",
            "Epoch 38/100\n",
            "153/153 - 0s - loss: 0.1388 - mae: 0.2788 - 213ms/epoch - 1ms/step\n",
            "Epoch 39/100\n",
            "153/153 - 0s - loss: 0.1381 - mae: 0.2794 - 204ms/epoch - 1ms/step\n",
            "Epoch 40/100\n",
            "153/153 - 0s - loss: 0.1386 - mae: 0.2779 - 218ms/epoch - 1ms/step\n",
            "Epoch 41/100\n",
            "153/153 - 0s - loss: 0.1375 - mae: 0.2780 - 201ms/epoch - 1ms/step\n",
            "Epoch 42/100\n",
            "153/153 - 0s - loss: 0.1376 - mae: 0.2774 - 201ms/epoch - 1ms/step\n",
            "Epoch 43/100\n",
            "153/153 - 0s - loss: 0.1376 - mae: 0.2784 - 191ms/epoch - 1ms/step\n",
            "Epoch 44/100\n",
            "153/153 - 0s - loss: 0.1378 - mae: 0.2774 - 221ms/epoch - 1ms/step\n",
            "Epoch 45/100\n",
            "153/153 - 0s - loss: 0.1376 - mae: 0.2785 - 205ms/epoch - 1ms/step\n",
            "Epoch 46/100\n",
            "153/153 - 0s - loss: 0.1377 - mae: 0.2763 - 203ms/epoch - 1ms/step\n",
            "Epoch 47/100\n",
            "153/153 - 0s - loss: 0.1366 - mae: 0.2768 - 212ms/epoch - 1ms/step\n",
            "Epoch 48/100\n",
            "153/153 - 0s - loss: 0.1365 - mae: 0.2761 - 204ms/epoch - 1ms/step\n",
            "Epoch 49/100\n",
            "153/153 - 0s - loss: 0.1368 - mae: 0.2773 - 230ms/epoch - 2ms/step\n",
            "Epoch 50/100\n",
            "153/153 - 0s - loss: 0.1360 - mae: 0.2759 - 208ms/epoch - 1ms/step\n",
            "Epoch 51/100\n",
            "153/153 - 0s - loss: 0.1351 - mae: 0.2735 - 197ms/epoch - 1ms/step\n",
            "Epoch 52/100\n",
            "153/153 - 0s - loss: 0.1361 - mae: 0.2752 - 196ms/epoch - 1ms/step\n",
            "Epoch 53/100\n",
            "153/153 - 0s - loss: 0.1353 - mae: 0.2748 - 195ms/epoch - 1ms/step\n",
            "Epoch 54/100\n",
            "153/153 - 0s - loss: 0.1347 - mae: 0.2749 - 216ms/epoch - 1ms/step\n",
            "Epoch 55/100\n",
            "153/153 - 0s - loss: 0.1349 - mae: 0.2755 - 206ms/epoch - 1ms/step\n",
            "Epoch 56/100\n",
            "153/153 - 0s - loss: 0.1351 - mae: 0.2751 - 203ms/epoch - 1ms/step\n",
            "Epoch 57/100\n",
            "153/153 - 0s - loss: 0.1368 - mae: 0.2753 - 229ms/epoch - 1ms/step\n",
            "Epoch 58/100\n",
            "153/153 - 0s - loss: 0.1352 - mae: 0.2744 - 204ms/epoch - 1ms/step\n",
            "Epoch 59/100\n",
            "153/153 - 0s - loss: 0.1355 - mae: 0.2739 - 214ms/epoch - 1ms/step\n",
            "Epoch 60/100\n",
            "153/153 - 0s - loss: 0.1358 - mae: 0.2751 - 218ms/epoch - 1ms/step\n",
            "Epoch 61/100\n",
            "153/153 - 0s - loss: 0.1335 - mae: 0.2710 - 202ms/epoch - 1ms/step\n",
            "Epoch 62/100\n",
            "153/153 - 0s - loss: 0.1350 - mae: 0.2728 - 202ms/epoch - 1ms/step\n",
            "Epoch 63/100\n",
            "153/153 - 0s - loss: 0.1352 - mae: 0.2752 - 196ms/epoch - 1ms/step\n",
            "Epoch 64/100\n",
            "153/153 - 0s - loss: 0.1336 - mae: 0.2729 - 225ms/epoch - 1ms/step\n",
            "Epoch 65/100\n",
            "153/153 - 0s - loss: 0.1343 - mae: 0.2734 - 208ms/epoch - 1ms/step\n",
            "Epoch 66/100\n",
            "153/153 - 0s - loss: 0.1355 - mae: 0.2732 - 203ms/epoch - 1ms/step\n",
            "Epoch 67/100\n",
            "153/153 - 0s - loss: 0.1338 - mae: 0.2734 - 197ms/epoch - 1ms/step\n",
            "Epoch 68/100\n",
            "153/153 - 0s - loss: 0.1329 - mae: 0.2726 - 204ms/epoch - 1ms/step\n",
            "Epoch 69/100\n",
            "153/153 - 0s - loss: 0.1350 - mae: 0.2757 - 217ms/epoch - 1ms/step\n",
            "Epoch 70/100\n",
            "153/153 - 0s - loss: 0.1335 - mae: 0.2722 - 210ms/epoch - 1ms/step\n",
            "Epoch 71/100\n",
            "153/153 - 0s - loss: 0.1325 - mae: 0.2716 - 208ms/epoch - 1ms/step\n",
            "Epoch 72/100\n",
            "153/153 - 0s - loss: 0.1343 - mae: 0.2748 - 222ms/epoch - 1ms/step\n",
            "Epoch 73/100\n",
            "153/153 - 0s - loss: 0.1339 - mae: 0.2725 - 218ms/epoch - 1ms/step\n",
            "Epoch 74/100\n",
            "153/153 - 0s - loss: 0.1330 - mae: 0.2723 - 201ms/epoch - 1ms/step\n",
            "Epoch 75/100\n",
            "153/153 - 0s - loss: 0.1348 - mae: 0.2724 - 209ms/epoch - 1ms/step\n",
            "Epoch 76/100\n",
            "153/153 - 0s - loss: 0.1336 - mae: 0.2716 - 208ms/epoch - 1ms/step\n",
            "Epoch 77/100\n",
            "153/153 - 0s - loss: 0.1329 - mae: 0.2722 - 207ms/epoch - 1ms/step\n",
            "Epoch 78/100\n",
            "153/153 - 0s - loss: 0.1339 - mae: 0.2736 - 217ms/epoch - 1ms/step\n",
            "Epoch 79/100\n",
            "153/153 - 0s - loss: 0.1324 - mae: 0.2706 - 201ms/epoch - 1ms/step\n",
            "Epoch 80/100\n",
            "153/153 - 0s - loss: 0.1327 - mae: 0.2708 - 197ms/epoch - 1ms/step\n",
            "Epoch 81/100\n",
            "153/153 - 0s - loss: 0.1330 - mae: 0.2709 - 200ms/epoch - 1ms/step\n",
            "Epoch 82/100\n",
            "153/153 - 0s - loss: 0.1323 - mae: 0.2713 - 206ms/epoch - 1ms/step\n",
            "Epoch 83/100\n",
            "153/153 - 0s - loss: 0.1330 - mae: 0.2721 - 241ms/epoch - 2ms/step\n",
            "Epoch 84/100\n",
            "153/153 - 0s - loss: 0.1322 - mae: 0.2714 - 205ms/epoch - 1ms/step\n",
            "Epoch 85/100\n",
            "153/153 - 0s - loss: 0.1327 - mae: 0.2713 - 193ms/epoch - 1ms/step\n",
            "Epoch 86/100\n",
            "153/153 - 0s - loss: 0.1323 - mae: 0.2718 - 211ms/epoch - 1ms/step\n",
            "Epoch 87/100\n",
            "153/153 - 0s - loss: 0.1321 - mae: 0.2708 - 217ms/epoch - 1ms/step\n",
            "Epoch 88/100\n",
            "153/153 - 0s - loss: 0.1336 - mae: 0.2726 - 225ms/epoch - 1ms/step\n",
            "Epoch 89/100\n",
            "153/153 - 0s - loss: 0.1315 - mae: 0.2704 - 208ms/epoch - 1ms/step\n",
            "Epoch 90/100\n",
            "153/153 - 0s - loss: 0.1321 - mae: 0.2697 - 210ms/epoch - 1ms/step\n",
            "Epoch 91/100\n",
            "153/153 - 0s - loss: 0.1323 - mae: 0.2705 - 208ms/epoch - 1ms/step\n",
            "Epoch 92/100\n",
            "153/153 - 0s - loss: 0.1327 - mae: 0.2702 - 201ms/epoch - 1ms/step\n",
            "Epoch 93/100\n",
            "153/153 - 0s - loss: 0.1317 - mae: 0.2699 - 217ms/epoch - 1ms/step\n",
            "Epoch 94/100\n",
            "153/153 - 0s - loss: 0.1322 - mae: 0.2709 - 209ms/epoch - 1ms/step\n",
            "Epoch 95/100\n",
            "153/153 - 0s - loss: 0.1322 - mae: 0.2711 - 191ms/epoch - 1ms/step\n",
            "Epoch 96/100\n",
            "153/153 - 0s - loss: 0.1316 - mae: 0.2697 - 200ms/epoch - 1ms/step\n",
            "Epoch 97/100\n",
            "153/153 - 0s - loss: 0.1325 - mae: 0.2716 - 220ms/epoch - 1ms/step\n",
            "Epoch 98/100\n",
            "153/153 - 0s - loss: 0.1318 - mae: 0.2690 - 205ms/epoch - 1ms/step\n",
            "Epoch 99/100\n",
            "153/153 - 0s - loss: 0.1311 - mae: 0.2699 - 205ms/epoch - 1ms/step\n",
            "Epoch 100/100\n",
            "153/153 - 0s - loss: 0.1322 - mae: 0.2717 - 204ms/epoch - 1ms/step\n",
            "Model: \"sequential\"\n",
            "_________________________________________________________________\n",
            " Layer (type)                Output Shape              Param #   \n",
            "=================================================================\n",
            " dense (Dense)               (None, 512)               6656      \n",
            "                                                                 \n",
            " dense_1 (Dense)             (None, 8)                 4104      \n",
            "                                                                 \n",
            " dense_2 (Dense)             (None, 1)                 9         \n",
            "                                                                 \n",
            "=================================================================\n",
            "Total params: 10,769\n",
            "Trainable params: 10,769\n",
            "Non-trainable params: 0\n",
            "_________________________________________________________________\n"
          ]
        }
      ]
    },
    {
      "cell_type": "code",
      "source": [
        "# reg mod 2\n",
        "def build_regmodl2():\n",
        "  model = keras.Sequential([\n",
        "    layers.Dense(128, activation=\"relu\"),\n",
        "    layers.Dense(64, activation=\"relu\"),\n",
        "    layers.Dense(30, activation=\"relu\"),\n",
        "    layers.Dense(5, activation=\"relu\"),\n",
        "    layers.Dense(1, activation=\"relu\"),\n",
        "  ])\n",
        "  model.compile(optimizer=\"rmsprop\", loss=\"mse\", metrics=[\"mae\"])\n",
        "  return model;\n",
        "\n",
        "regmodl2 = build_regmodl2();\n",
        "\n",
        "regmodl2.fit(x=Xtrain, y=train_labels, epochs=100, verbose=2)\n",
        "\n",
        "regmodl2_loss, regmodl2_mae = regmodl2.evaluate(Xval, val_labels)\n",
        "\n",
        "regmodl2.summary()"
      ],
      "metadata": {
        "id": "4MAZXPzjl4sb"
      },
      "execution_count": null,
      "outputs": []
    },
    {
      "cell_type": "code",
      "source": [
        "# reg mod 3\n",
        "def build_regmodl3():\n",
        "  model = keras.Sequential([\n",
        "    layers.Dense(512, activation=\"relu\"),\n",
        "    layers.Dense(125, activation=\"relu\"),\n",
        "    layers.Dense(64, activation=\"relu\"),\n",
        "    layers.Dense(30, activation=\"relu\"),\n",
        "    layers.Dense(5, activation=\"relu\"),\n",
        "    layers.Dense(1)                    \n",
        "  ])\n",
        "  model.compile"
      ],
      "metadata": {
        "id": "FKRKSxhfAeWi"
      },
      "execution_count": null,
      "outputs": []
    }
  ]
}