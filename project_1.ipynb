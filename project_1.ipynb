{
  "nbformat": 4,
  "nbformat_minor": 0,
  "metadata": {
    "colab": {
      "name": "project-1.ipynb",
      "provenance": [],
      "collapsed_sections": [],
      "include_colab_link": true
    },
    "kernelspec": {
      "display_name": "Python 3",
      "name": "python3"
    }
  },
  "cells": [
    {
      "cell_type": "markdown",
      "metadata": {
        "id": "view-in-github",
        "colab_type": "text"
      },
      "source": [
        "<a href=\"https://colab.research.google.com/github/powerSeries/NN-projects/blob/main/project_1.ipynb\" target=\"_parent\"><img src=\"https://colab.research.google.com/assets/colab-badge.svg\" alt=\"Open In Colab\"/></a>"
      ]
    },
    {
      "cell_type": "markdown",
      "metadata": {
        "id": "vB3bHSucPIVs"
      },
      "source": [
        "Abbreviated data preparation for the Wine Quality Problem (Project 1)"
      ]
    },
    {
      "cell_type": "code",
      "metadata": {
        "id": "XrcPuh9-KY0j"
      },
      "source": [
        "# Import Required Libraries  \n",
        "import matplotlib.pyplot as plt \n",
        "import numpy as np \n",
        "# This time we need to also import pandas\n",
        "import pandas as pd \n",
        "\n",
        "# Read in white wine data \n",
        "# USES PANDAS (pd) to create a PANDAS DataFrame OBJECT:\n",
        "white = pd.read_csv(\"http://archive.ics.uci.edu/ml/machine-learning-databases/wine-quality/winequality-white.csv\", sep =';') \n",
        "\n",
        "# Read in red wine data \n",
        "# USES PANDAS (pd) to create a PANDAS DataFrame OBJECT:\n",
        "red = pd.read_csv(\"http://archive.ics.uci.edu/ml/machine-learning-databases/wine-quality/winequality-red.csv\", sep =';') \n",
        "\n",
        "# Add `type` column to `red` with price one  - done with PANDAS\n",
        "red['type'] = 1\n",
        "  \n",
        "# Add `type` column to `white` with price zero - done with PANDAS \n",
        "white['type'] = 0\n",
        "  \n",
        "# Append `white` to `red` - done with PANDAS\n",
        "# AFTER THIS WE HAVE ALL WINES (red and white) in a SINGLE pandas DataFrame\n",
        "wines = red.append(white, ignore_index = True) \n",
        "\n",
        "# Import SKLEARN\n",
        "import sklearn\n",
        "# Import `train_test_split` from `sklearn.model_selection` \n",
        "from sklearn.model_selection import train_test_split \n",
        "\n",
        "# Specify the  data - \n",
        "X1 = wines.iloc[:, 0:11]\n",
        "X2 = wines.iloc[:,12]\n",
        "X = pd.concat([X1,X2],axis = 1)\n",
        "\n",
        "# Specify the QUALITY target labels and flatten the array \n",
        "y = np.ravel(wines.quality) \n",
        "\n",
        "# Splitting the data set for training and validating  - Done with SKLEARN\n",
        "X_train, X_valid, y_train, y_valid = train_test_split( \n",
        "                 X, y, test_size = 0.25, random_state = 45) \n"
      ],
      "execution_count": 64,
      "outputs": []
    },
    {
      "cell_type": "code",
      "source": [
        "# CONVERTING X_train & X_test DataFrame s to TF tensors\n",
        "# Will USE NumPy, TF & Keras after this\n",
        "# import tensorflow as tf \n",
        "\n",
        "Xtrain = X_train.to_numpy()\n",
        "X_valid = X_valid.to_numpy()"
      ],
      "metadata": {
        "id": "AYtcmE0J4qQb"
      },
      "execution_count": 65,
      "outputs": []
    },
    {
      "cell_type": "code",
      "source": [
        "# In reality:\n",
        "# [1] ALL THE Xtrain patterns (with their y_train targets) \n",
        "# will be used for TRAINING ([TR]), as Xtrain & y_train\n",
        "# [2] MOST OF THE X_valid patterns (and their y_valid targets) \n",
        "#  will be used for VALIDATION ([TT]),  as X_val & y_val\n",
        "# BUT WE WILL SET ASIDE THE LAST 10 for \"testing\" ([TS])\n",
        "#  as X_tst & y_tst"
      ],
      "metadata": {
        "id": "qpHhdmJN6HVq"
      },
      "execution_count": 66,
      "outputs": []
    },
    {
      "cell_type": "code",
      "source": [
        "# To separate the last 10 in X_valid, let's first see the shape of X_valid\n",
        "X_valid.shape"
      ],
      "metadata": {
        "colab": {
          "base_uri": "https://localhost:8080/"
        },
        "id": "T10AK-Ip7YMb",
        "outputId": "24c9a464-bcdc-4bd6-ad63-9ac4b9b66785"
      },
      "execution_count": 67,
      "outputs": [
        {
          "output_type": "execute_result",
          "data": {
            "text/plain": [
              "(1625, 12)"
            ]
          },
          "metadata": {},
          "execution_count": 67
        }
      ]
    },
    {
      "cell_type": "code",
      "source": [
        "# And verify also the shape of y_valid\n",
        "y_valid.shape"
      ],
      "metadata": {
        "colab": {
          "base_uri": "https://localhost:8080/"
        },
        "id": "Gj64QrXI7npC",
        "outputId": "6c24cdee-c250-4c53-87c4-c929a1344e47"
      },
      "execution_count": 68,
      "outputs": [
        {
          "output_type": "execute_result",
          "data": {
            "text/plain": [
              "(1625,)"
            ]
          },
          "metadata": {},
          "execution_count": 68
        }
      ]
    },
    {
      "cell_type": "code",
      "source": [
        "# Retain the first 1615 for validation ([TT])\n",
        "Xval = X_valid[:1615]\n",
        "Xval.shape"
      ],
      "metadata": {
        "colab": {
          "base_uri": "https://localhost:8080/"
        },
        "id": "2jDS0FsF739z",
        "outputId": "75c3807f-74fb-4b31-f75c-b22147a05e3f"
      },
      "execution_count": 69,
      "outputs": [
        {
          "output_type": "execute_result",
          "data": {
            "text/plain": [
              "(1615, 12)"
            ]
          },
          "metadata": {},
          "execution_count": 69
        }
      ]
    },
    {
      "cell_type": "code",
      "source": [
        "# and now set aside the last 10 for \"test\"\n",
        "Xtst = X_valid[1615:]\n",
        "Xtst.shape"
      ],
      "metadata": {
        "colab": {
          "base_uri": "https://localhost:8080/"
        },
        "id": "C_zJIn2Z-AS6",
        "outputId": "3876d4aa-3534-438e-c87d-0c6383f8b1d6"
      },
      "execution_count": 70,
      "outputs": [
        {
          "output_type": "execute_result",
          "data": {
            "text/plain": [
              "(10, 12)"
            ]
          },
          "metadata": {},
          "execution_count": 70
        }
      ]
    },
    {
      "cell_type": "code",
      "source": [
        "# SAME FOR THE CORRESPONDING TARGETS\n",
        "# Retain the first 1615 for validation ([TT])\n",
        "y_val = y_valid[:1615]\n",
        "y_val.shape"
      ],
      "metadata": {
        "colab": {
          "base_uri": "https://localhost:8080/"
        },
        "id": "YlrWhyX1-qQa",
        "outputId": "1528a6e2-518a-4aba-d650-fdabea92ac12"
      },
      "execution_count": 71,
      "outputs": [
        {
          "output_type": "execute_result",
          "data": {
            "text/plain": [
              "(1615,)"
            ]
          },
          "metadata": {},
          "execution_count": 71
        }
      ]
    },
    {
      "cell_type": "code",
      "source": [
        "y_tst = y_valid[1615:]\n",
        "y_tst.shape"
      ],
      "metadata": {
        "colab": {
          "base_uri": "https://localhost:8080/"
        },
        "id": "yesLMjKx--2r",
        "outputId": "ebe6cf43-4519-4b59-9140-1206df2095e0"
      },
      "execution_count": 72,
      "outputs": [
        {
          "output_type": "execute_result",
          "data": {
            "text/plain": [
              "(10,)"
            ]
          },
          "metadata": {},
          "execution_count": 72
        }
      ]
    },
    {
      "cell_type": "code",
      "source": [
        "y_tst"
      ],
      "metadata": {
        "colab": {
          "base_uri": "https://localhost:8080/"
        },
        "id": "QOIgFLku-2mr",
        "outputId": "fecb89e5-5071-4af5-8b5b-79f069b785d7"
      },
      "execution_count": 73,
      "outputs": [
        {
          "output_type": "execute_result",
          "data": {
            "text/plain": [
              "array([5, 5, 7, 6, 5, 5, 6, 6, 7, 6])"
            ]
          },
          "metadata": {},
          "execution_count": 73
        }
      ]
    },
    {
      "cell_type": "code",
      "source": [
        " # NOW, IN ADDITION, CREATE THE TARGETS AS ONE-HOT-ENCODED 4 quality LEVELS"
      ],
      "metadata": {
        "id": "3zfsQQNn6ABr"
      },
      "execution_count": 74,
      "outputs": []
    },
    {
      "cell_type": "code",
      "metadata": {
        "colab": {
          "base_uri": "https://localhost:8080/"
        },
        "id": "HImrn2sHKvz_",
        "outputId": "c66503ca-89a8-419d-f29d-486604232f9f"
      },
      "source": [
        "# We will track these few targets through the conversion process\n",
        "y_train[272:283]"
      ],
      "execution_count": 75,
      "outputs": [
        {
          "output_type": "execute_result",
          "data": {
            "text/plain": [
              "array([5, 4, 6, 5, 5, 6, 7, 6, 5, 8, 5])"
            ]
          },
          "metadata": {},
          "execution_count": 75
        }
      ]
    },
    {
      "cell_type": "code",
      "source": [
        "# Function create rank-1 arrays where 3,4,5,6,7,8,9 are mapped to 1 or 2 or 3 or 4 \n",
        "def to_4cs(x):\n",
        "  lx = len(x)\n",
        "  results = np.zeros(lx)\n",
        "  for i in range(lx):\n",
        "      # print( \"start\")\n",
        "      xa = x[i];\n",
        "      if xa <= 3:\n",
        "          results[i] = 1      # 1, 2 and 3 map to Q-LEVEL 1 ( BAD Wine)\n",
        "      elif xa <=6:\n",
        "          results[i] = 2      # 4, 5 and 6 map to Q-LEVEL 2  (MEDIUM Wine)\n",
        "      elif xa <=8:\n",
        "          results[i] = 3      # 7 and 8 and 6 map to Q-LEVEL 3  (GOOD Wine)\n",
        "      else:\n",
        "          results[i] = 4      # 9 and above map to Q-LEVEL 4  (EXCELLENT Wine)\n",
        "    # results[i, label] = 1.\n",
        "  results = results.astype(int)\n",
        "  return results"
      ],
      "metadata": {
        "id": "iB1RjHR7PQD7"
      },
      "execution_count": 76,
      "outputs": []
    },
    {
      "cell_type": "code",
      "source": [
        "train_labels = to_4cs(y_train)\n",
        "val_labels = to_4cs(y_val)\n",
        "tst_labels = to_4cs(y_tst)"
      ],
      "metadata": {
        "id": "LhSoZ0b9Ptyj"
      },
      "execution_count": 77,
      "outputs": []
    },
    {
      "cell_type": "code",
      "metadata": {
        "colab": {
          "base_uri": "https://localhost:8080/"
        },
        "id": "RmSc8yQ5NgQe",
        "outputId": "3a96114b-61be-461e-9152-6b251eb7f3d5"
      },
      "source": [
        "\n",
        "# Let's verify that the trainnig targets that we are tracking\n",
        "# were converted to levels (1 = BAD; 2 = MEDIUM; 3 = GOOD; 4- EXCELLENT) correctly:\n",
        "train_labels[272:283]"
      ],
      "execution_count": 78,
      "outputs": [
        {
          "output_type": "execute_result",
          "data": {
            "text/plain": [
              "array([2, 2, 2, 2, 2, 2, 3, 2, 2, 3, 2])"
            ]
          },
          "metadata": {},
          "execution_count": 78
        }
      ]
    },
    {
      "cell_type": "code",
      "metadata": {
        "id": "Cs-J7sRmKhGf"
      },
      "source": [
        "# NOW, ONE-HOT ENCODING OF ALL 3  TARGET ARRAYS\n",
        "# define a function to do the one-hot-encoding of output labels\n",
        "\n",
        "def to_one_hot(labels, dimension=4):\n",
        "    results = np.zeros((len(labels), dimension))\n",
        "    for i, label in enumerate(labels-1):\n",
        "        results[i, label] = 1.\n",
        "    return results\n",
        "\n",
        "one_hot_train_labels = to_one_hot(train_labels)\n",
        "one_hot_val_labels = to_one_hot(val_labels)\n",
        "one_hot_tst_labels = to_one_hot(tst_labels)"
      ],
      "execution_count": 79,
      "outputs": []
    },
    {
      "cell_type": "code",
      "source": [
        "#Let's verify that the training targets we have tracked were\n",
        "# one-hot encoded correctly\n",
        "one_hot_train_labels[272:283,]"
      ],
      "metadata": {
        "colab": {
          "base_uri": "https://localhost:8080/"
        },
        "id": "Mk1q-JDyBChj",
        "outputId": "6c3413bb-bcff-44ca-b748-4e906e578060"
      },
      "execution_count": 80,
      "outputs": [
        {
          "output_type": "execute_result",
          "data": {
            "text/plain": [
              "array([[0., 1., 0., 0.],\n",
              "       [0., 1., 0., 0.],\n",
              "       [0., 1., 0., 0.],\n",
              "       [0., 1., 0., 0.],\n",
              "       [0., 1., 0., 0.],\n",
              "       [0., 1., 0., 0.],\n",
              "       [0., 0., 1., 0.],\n",
              "       [0., 1., 0., 0.],\n",
              "       [0., 1., 0., 0.],\n",
              "       [0., 0., 1., 0.],\n",
              "       [0., 1., 0., 0.]])"
            ]
          },
          "metadata": {},
          "execution_count": 80
        }
      ]
    },
    {
      "cell_type": "code",
      "source": [
        "# SO, AFTER EXECUTING THIS CELL, YOU WILL HAVE:\n",
        "# FOR TRAINING:\n",
        "#  Xtrain (4872, 12)...y_train (4872,)...train_labels(4872,)....one_hot_train_labels (4872,4)\n",
        "# FOR VALIDATING:\n",
        "#  Xval (1615, 12)...y_val (1615,)...val_labels(1615,)...one_hot_val_labels (1615,4)\n",
        "# FOR TESTING:\n",
        "#  Xtst (10, 12)...y_tst (10,)...tst_labels(10,)... one_hot_tst_labels (10,4)\n",
        "# PLEASE DO NOT CHANGE THE NAMES OF THESE VARIABLES (So that instructor can use them)"
      ],
      "metadata": {
        "id": "FfIxlsEISc5W"
      },
      "execution_count": 81,
      "outputs": []
    },
    {
      "cell_type": "markdown",
      "source": [
        " ++++  END OF THE DATA PREPARATION PART ++++ \n"
      ],
      "metadata": {
        "id": "Bq_9V9XCSd6t"
      }
    },
    {
      "cell_type": "markdown",
      "source": [
        "# Part 2: Regression Model"
      ],
      "metadata": {
        "id": "6Vt3n82EaN98"
      }
    },
    {
      "cell_type": "markdown",
      "source": [
        "### Regression Model 1"
      ],
      "metadata": {
        "id": "saL8T2q2K0Rv"
      }
    },
    {
      "cell_type": "code",
      "source": [
        "# import libraries\n",
        "from tensorflow import keras\n",
        "from tensorflow.keras import layers\n",
        "\n",
        "def build_regmodl1():\n",
        "  regmodl1 = keras.Sequential([\n",
        "    layers.Dense(512, activation=\"relu\"),\n",
        "    layers.Dense(8, activation=\"relu\"),\n",
        "    layers.Dense(1),\n",
        "  ])\n",
        "  regmodl1.compile(optimizer=\"rmsprop\", loss=\"mse\", metrics=[\"mae\"])\n",
        "  return regmodl1\n",
        "\n",
        "# Builld the model\n",
        "regmod1 = build_regmodl1()\n",
        "\n",
        "# Run fit and store data\n",
        "regmodl1_history = regmod1.fit(x=Xtrain, y=train_labels, epochs=100, verbose=2)\n",
        "\n",
        "# Execute validation\n",
        "loss, mae = regmod1.evaluate(x=Xval, y=val_labels)\n",
        "\n",
        "# Show Model Summary\n",
        "regmod1.summary()"
      ],
      "metadata": {
        "colab": {
          "base_uri": "https://localhost:8080/"
        },
        "id": "WBdR9tpWdYcs",
        "outputId": "a6496d6e-3e58-404d-aae3-19dd5be87e36"
      },
      "execution_count": 82,
      "outputs": [
        {
          "output_type": "stream",
          "name": "stdout",
          "text": [
            "Epoch 1/100\n",
            "153/153 - 1s - loss: 3.0361 - mae: 1.4262 - 904ms/epoch - 6ms/step\n",
            "Epoch 2/100\n",
            "153/153 - 0s - loss: 1.5920 - mae: 0.9897 - 268ms/epoch - 2ms/step\n",
            "Epoch 3/100\n",
            "153/153 - 0s - loss: 0.9062 - mae: 0.7501 - 258ms/epoch - 2ms/step\n",
            "Epoch 4/100\n",
            "153/153 - 0s - loss: 0.6660 - mae: 0.6526 - 251ms/epoch - 2ms/step\n",
            "Epoch 5/100\n",
            "153/153 - 0s - loss: 0.4867 - mae: 0.5441 - 246ms/epoch - 2ms/step\n",
            "Epoch 6/100\n",
            "153/153 - 0s - loss: 0.3948 - mae: 0.4844 - 236ms/epoch - 2ms/step\n",
            "Epoch 7/100\n",
            "153/153 - 0s - loss: 0.3373 - mae: 0.4447 - 239ms/epoch - 2ms/step\n",
            "Epoch 8/100\n",
            "153/153 - 0s - loss: 0.3066 - mae: 0.4329 - 233ms/epoch - 2ms/step\n",
            "Epoch 9/100\n",
            "153/153 - 0s - loss: 0.2473 - mae: 0.3874 - 242ms/epoch - 2ms/step\n",
            "Epoch 10/100\n",
            "153/153 - 0s - loss: 0.2366 - mae: 0.3745 - 232ms/epoch - 2ms/step\n",
            "Epoch 11/100\n",
            "153/153 - 0s - loss: 0.2124 - mae: 0.3585 - 224ms/epoch - 1ms/step\n",
            "Epoch 12/100\n",
            "153/153 - 0s - loss: 0.2013 - mae: 0.3477 - 228ms/epoch - 1ms/step\n",
            "Epoch 13/100\n",
            "153/153 - 0s - loss: 0.1914 - mae: 0.3402 - 252ms/epoch - 2ms/step\n",
            "Epoch 14/100\n",
            "153/153 - 0s - loss: 0.1867 - mae: 0.3323 - 224ms/epoch - 1ms/step\n",
            "Epoch 15/100\n",
            "153/153 - 0s - loss: 0.1758 - mae: 0.3231 - 230ms/epoch - 2ms/step\n",
            "Epoch 16/100\n",
            "153/153 - 0s - loss: 0.1744 - mae: 0.3183 - 224ms/epoch - 1ms/step\n",
            "Epoch 17/100\n",
            "153/153 - 0s - loss: 0.1634 - mae: 0.3088 - 229ms/epoch - 1ms/step\n",
            "Epoch 18/100\n",
            "153/153 - 0s - loss: 0.1644 - mae: 0.3072 - 242ms/epoch - 2ms/step\n",
            "Epoch 19/100\n",
            "153/153 - 0s - loss: 0.1592 - mae: 0.3067 - 231ms/epoch - 2ms/step\n",
            "Epoch 20/100\n",
            "153/153 - 0s - loss: 0.1559 - mae: 0.2995 - 226ms/epoch - 1ms/step\n",
            "Epoch 21/100\n",
            "153/153 - 0s - loss: 0.1516 - mae: 0.2964 - 238ms/epoch - 2ms/step\n",
            "Epoch 22/100\n",
            "153/153 - 0s - loss: 0.1544 - mae: 0.2977 - 240ms/epoch - 2ms/step\n",
            "Epoch 23/100\n",
            "153/153 - 0s - loss: 0.1509 - mae: 0.2957 - 218ms/epoch - 1ms/step\n",
            "Epoch 24/100\n",
            "153/153 - 0s - loss: 0.1508 - mae: 0.2954 - 226ms/epoch - 1ms/step\n",
            "Epoch 25/100\n",
            "153/153 - 0s - loss: 0.1496 - mae: 0.2929 - 223ms/epoch - 1ms/step\n",
            "Epoch 26/100\n",
            "153/153 - 0s - loss: 0.1503 - mae: 0.2927 - 229ms/epoch - 1ms/step\n",
            "Epoch 27/100\n",
            "153/153 - 0s - loss: 0.1449 - mae: 0.2880 - 229ms/epoch - 1ms/step\n",
            "Epoch 28/100\n",
            "153/153 - 0s - loss: 0.1442 - mae: 0.2868 - 217ms/epoch - 1ms/step\n",
            "Epoch 29/100\n",
            "153/153 - 0s - loss: 0.1434 - mae: 0.2847 - 224ms/epoch - 1ms/step\n",
            "Epoch 30/100\n",
            "153/153 - 0s - loss: 0.1445 - mae: 0.2853 - 225ms/epoch - 1ms/step\n",
            "Epoch 31/100\n",
            "153/153 - 0s - loss: 0.1421 - mae: 0.2836 - 231ms/epoch - 2ms/step\n",
            "Epoch 32/100\n",
            "153/153 - 0s - loss: 0.1417 - mae: 0.2824 - 219ms/epoch - 1ms/step\n",
            "Epoch 33/100\n",
            "153/153 - 0s - loss: 0.1412 - mae: 0.2837 - 227ms/epoch - 1ms/step\n",
            "Epoch 34/100\n",
            "153/153 - 0s - loss: 0.1395 - mae: 0.2800 - 234ms/epoch - 2ms/step\n",
            "Epoch 35/100\n",
            "153/153 - 0s - loss: 0.1415 - mae: 0.2791 - 232ms/epoch - 2ms/step\n",
            "Epoch 36/100\n",
            "153/153 - 0s - loss: 0.1408 - mae: 0.2815 - 248ms/epoch - 2ms/step\n",
            "Epoch 37/100\n",
            "153/153 - 0s - loss: 0.1398 - mae: 0.2803 - 230ms/epoch - 2ms/step\n",
            "Epoch 38/100\n",
            "153/153 - 0s - loss: 0.1395 - mae: 0.2811 - 229ms/epoch - 1ms/step\n",
            "Epoch 39/100\n",
            "153/153 - 0s - loss: 0.1391 - mae: 0.2802 - 226ms/epoch - 1ms/step\n",
            "Epoch 40/100\n",
            "153/153 - 0s - loss: 0.1396 - mae: 0.2795 - 241ms/epoch - 2ms/step\n",
            "Epoch 41/100\n",
            "153/153 - 0s - loss: 0.1383 - mae: 0.2775 - 219ms/epoch - 1ms/step\n",
            "Epoch 42/100\n",
            "153/153 - 0s - loss: 0.1372 - mae: 0.2785 - 223ms/epoch - 1ms/step\n",
            "Epoch 43/100\n",
            "153/153 - 0s - loss: 0.1367 - mae: 0.2780 - 233ms/epoch - 2ms/step\n",
            "Epoch 44/100\n",
            "153/153 - 0s - loss: 0.1372 - mae: 0.2783 - 237ms/epoch - 2ms/step\n",
            "Epoch 45/100\n",
            "153/153 - 0s - loss: 0.1357 - mae: 0.2744 - 218ms/epoch - 1ms/step\n",
            "Epoch 46/100\n",
            "153/153 - 0s - loss: 0.1381 - mae: 0.2768 - 238ms/epoch - 2ms/step\n",
            "Epoch 47/100\n",
            "153/153 - 0s - loss: 0.1376 - mae: 0.2760 - 221ms/epoch - 1ms/step\n",
            "Epoch 48/100\n",
            "153/153 - 0s - loss: 0.1363 - mae: 0.2757 - 239ms/epoch - 2ms/step\n",
            "Epoch 49/100\n",
            "153/153 - 0s - loss: 0.1378 - mae: 0.2786 - 240ms/epoch - 2ms/step\n",
            "Epoch 50/100\n",
            "153/153 - 0s - loss: 0.1345 - mae: 0.2743 - 245ms/epoch - 2ms/step\n",
            "Epoch 51/100\n",
            "153/153 - 0s - loss: 0.1365 - mae: 0.2753 - 244ms/epoch - 2ms/step\n",
            "Epoch 52/100\n",
            "153/153 - 0s - loss: 0.1359 - mae: 0.2757 - 243ms/epoch - 2ms/step\n",
            "Epoch 53/100\n",
            "153/153 - 0s - loss: 0.1353 - mae: 0.2749 - 245ms/epoch - 2ms/step\n",
            "Epoch 54/100\n",
            "153/153 - 0s - loss: 0.1359 - mae: 0.2764 - 243ms/epoch - 2ms/step\n",
            "Epoch 55/100\n",
            "153/153 - 0s - loss: 0.1348 - mae: 0.2743 - 237ms/epoch - 2ms/step\n",
            "Epoch 56/100\n",
            "153/153 - 0s - loss: 0.1361 - mae: 0.2744 - 236ms/epoch - 2ms/step\n",
            "Epoch 57/100\n",
            "153/153 - 0s - loss: 0.1356 - mae: 0.2744 - 237ms/epoch - 2ms/step\n",
            "Epoch 58/100\n",
            "153/153 - 0s - loss: 0.1353 - mae: 0.2743 - 245ms/epoch - 2ms/step\n",
            "Epoch 59/100\n",
            "153/153 - 0s - loss: 0.1353 - mae: 0.2745 - 241ms/epoch - 2ms/step\n",
            "Epoch 60/100\n",
            "153/153 - 0s - loss: 0.1345 - mae: 0.2722 - 231ms/epoch - 2ms/step\n",
            "Epoch 61/100\n",
            "153/153 - 0s - loss: 0.1340 - mae: 0.2726 - 242ms/epoch - 2ms/step\n",
            "Epoch 62/100\n",
            "153/153 - 0s - loss: 0.1344 - mae: 0.2739 - 247ms/epoch - 2ms/step\n",
            "Epoch 63/100\n",
            "153/153 - 0s - loss: 0.1336 - mae: 0.2728 - 231ms/epoch - 2ms/step\n",
            "Epoch 64/100\n",
            "153/153 - 0s - loss: 0.1331 - mae: 0.2717 - 235ms/epoch - 2ms/step\n",
            "Epoch 65/100\n",
            "153/153 - 0s - loss: 0.1332 - mae: 0.2718 - 243ms/epoch - 2ms/step\n",
            "Epoch 66/100\n",
            "153/153 - 0s - loss: 0.1328 - mae: 0.2727 - 227ms/epoch - 1ms/step\n",
            "Epoch 67/100\n",
            "153/153 - 0s - loss: 0.1332 - mae: 0.2709 - 227ms/epoch - 1ms/step\n",
            "Epoch 68/100\n",
            "153/153 - 0s - loss: 0.1343 - mae: 0.2715 - 223ms/epoch - 1ms/step\n",
            "Epoch 69/100\n",
            "153/153 - 0s - loss: 0.1329 - mae: 0.2717 - 225ms/epoch - 1ms/step\n",
            "Epoch 70/100\n",
            "153/153 - 0s - loss: 0.1343 - mae: 0.2733 - 235ms/epoch - 2ms/step\n",
            "Epoch 71/100\n",
            "153/153 - 0s - loss: 0.1329 - mae: 0.2716 - 240ms/epoch - 2ms/step\n",
            "Epoch 72/100\n",
            "153/153 - 0s - loss: 0.1342 - mae: 0.2717 - 226ms/epoch - 1ms/step\n",
            "Epoch 73/100\n",
            "153/153 - 0s - loss: 0.1315 - mae: 0.2695 - 231ms/epoch - 2ms/step\n",
            "Epoch 74/100\n",
            "153/153 - 0s - loss: 0.1340 - mae: 0.2726 - 234ms/epoch - 2ms/step\n",
            "Epoch 75/100\n",
            "153/153 - 0s - loss: 0.1328 - mae: 0.2710 - 239ms/epoch - 2ms/step\n",
            "Epoch 76/100\n",
            "153/153 - 0s - loss: 0.1333 - mae: 0.2713 - 238ms/epoch - 2ms/step\n",
            "Epoch 77/100\n",
            "153/153 - 0s - loss: 0.1328 - mae: 0.2708 - 235ms/epoch - 2ms/step\n",
            "Epoch 78/100\n",
            "153/153 - 0s - loss: 0.1329 - mae: 0.2699 - 247ms/epoch - 2ms/step\n",
            "Epoch 79/100\n",
            "153/153 - 0s - loss: 0.1318 - mae: 0.2696 - 261ms/epoch - 2ms/step\n",
            "Epoch 80/100\n",
            "153/153 - 0s - loss: 0.1321 - mae: 0.2700 - 229ms/epoch - 1ms/step\n",
            "Epoch 81/100\n",
            "153/153 - 0s - loss: 0.1315 - mae: 0.2707 - 230ms/epoch - 2ms/step\n",
            "Epoch 82/100\n",
            "153/153 - 0s - loss: 0.1328 - mae: 0.2707 - 250ms/epoch - 2ms/step\n",
            "Epoch 83/100\n",
            "153/153 - 0s - loss: 0.1325 - mae: 0.2694 - 225ms/epoch - 1ms/step\n",
            "Epoch 84/100\n",
            "153/153 - 0s - loss: 0.1316 - mae: 0.2694 - 232ms/epoch - 2ms/step\n",
            "Epoch 85/100\n",
            "153/153 - 0s - loss: 0.1325 - mae: 0.2711 - 231ms/epoch - 2ms/step\n",
            "Epoch 86/100\n",
            "153/153 - 0s - loss: 0.1318 - mae: 0.2703 - 227ms/epoch - 1ms/step\n",
            "Epoch 87/100\n",
            "153/153 - 0s - loss: 0.1313 - mae: 0.2687 - 270ms/epoch - 2ms/step\n",
            "Epoch 88/100\n",
            "153/153 - 0s - loss: 0.1323 - mae: 0.2701 - 237ms/epoch - 2ms/step\n",
            "Epoch 89/100\n",
            "153/153 - 0s - loss: 0.1320 - mae: 0.2692 - 233ms/epoch - 2ms/step\n",
            "Epoch 90/100\n",
            "153/153 - 0s - loss: 0.1311 - mae: 0.2691 - 242ms/epoch - 2ms/step\n",
            "Epoch 91/100\n",
            "153/153 - 0s - loss: 0.1312 - mae: 0.2686 - 237ms/epoch - 2ms/step\n",
            "Epoch 92/100\n",
            "153/153 - 0s - loss: 0.1315 - mae: 0.2688 - 247ms/epoch - 2ms/step\n",
            "Epoch 93/100\n",
            "153/153 - 0s - loss: 0.1314 - mae: 0.2691 - 226ms/epoch - 1ms/step\n",
            "Epoch 94/100\n",
            "153/153 - 0s - loss: 0.1330 - mae: 0.2696 - 228ms/epoch - 1ms/step\n",
            "Epoch 95/100\n",
            "153/153 - 0s - loss: 0.1315 - mae: 0.2702 - 243ms/epoch - 2ms/step\n",
            "Epoch 96/100\n",
            "153/153 - 0s - loss: 0.1314 - mae: 0.2704 - 230ms/epoch - 2ms/step\n",
            "Epoch 97/100\n",
            "153/153 - 0s - loss: 0.1314 - mae: 0.2704 - 224ms/epoch - 1ms/step\n",
            "Epoch 98/100\n",
            "153/153 - 0s - loss: 0.1312 - mae: 0.2682 - 223ms/epoch - 1ms/step\n",
            "Epoch 99/100\n",
            "153/153 - 0s - loss: 0.1300 - mae: 0.2677 - 234ms/epoch - 2ms/step\n",
            "Epoch 100/100\n",
            "153/153 - 0s - loss: 0.1311 - mae: 0.2685 - 220ms/epoch - 1ms/step\n",
            "51/51 [==============================] - 0s 1ms/step - loss: 0.1611 - mae: 0.2733\n",
            "Model: \"sequential_8\"\n",
            "_________________________________________________________________\n",
            " Layer (type)                Output Shape              Param #   \n",
            "=================================================================\n",
            " dense_32 (Dense)            (None, 512)               6656      \n",
            "                                                                 \n",
            " dense_33 (Dense)            (None, 8)                 4104      \n",
            "                                                                 \n",
            " dense_34 (Dense)            (None, 1)                 9         \n",
            "                                                                 \n",
            "=================================================================\n",
            "Total params: 10,769\n",
            "Trainable params: 10,769\n",
            "Non-trainable params: 0\n",
            "_________________________________________________________________\n"
          ]
        }
      ]
    },
    {
      "cell_type": "code",
      "source": [
        "def plot_model_history(model_history):\n",
        "  history_dict = model_history.history\n",
        "  history_dict.keys()\n",
        "\n",
        "  loss_values = history_dict[\"loss\"]\n",
        "  mae_values = history_dict[\"mae\"]\n",
        "\n",
        "  epochs = range(1, len(loss_values) + 1)\n",
        "\n",
        "\n",
        "  # Plot current data\n",
        "  plt.plot(epochs, loss_values, \"bo\", label=\"Training Loss\")\n",
        "  plt.plot(epochs, mae_values, \"b\", label=\"Validation Loss\")\n",
        "  plt.title(\"Training and Validation Loss\")\n",
        "  plt.xlabel(\"Epochs\")\n",
        "  plt.ylabel(\"Accuracy\")\n",
        "  plt.legend()\n",
        "  plt.show()\n",
        "  return"
      ],
      "metadata": {
        "id": "xnMledbiYd1K"
      },
      "execution_count": 83,
      "outputs": []
    },
    {
      "cell_type": "markdown",
      "source": [
        "Plotting Regression Model 1\n",
        "\n"
      ],
      "metadata": {
        "id": "qVemg7OQYeSW"
      }
    },
    {
      "cell_type": "code",
      "source": [
        "plot_model_history(regmodl1_history)"
      ],
      "metadata": {
        "id": "2PY3AbKfj4Gc",
        "outputId": "6ce5bab4-6072-4839-db6e-50ee6d4b57f6",
        "colab": {
          "base_uri": "https://localhost:8080/",
          "height": 295
        }
      },
      "execution_count": 84,
      "outputs": [
        {
          "output_type": "display_data",
          "data": {
            "image/png": "[encoded data removed]",
            "text/plain": [
              "<Figure size 432x288 with 1 Axes>"
            ]
          },
          "metadata": {
            "needs_background": "light"
          }
        }
      ]
    },
    {
      "cell_type": "markdown",
      "source": [
        "### Regression Model 2"
      ],
      "metadata": {
        "id": "mmbjOEY3K49F"
      }
    },
    {
      "cell_type": "code",
      "source": [
        "# reg mod 2\n",
        "def build_regmodl2():\n",
        "  model = keras.Sequential([\n",
        "    layers.Dense(128, activation=\"relu\"),\n",
        "    layers.Dense(64, activation=\"relu\"),\n",
        "    layers.Dense(30, activation=\"relu\"),\n",
        "    layers.Dense(5, activation=\"relu\"),\n",
        "    layers.Dense(1, activation=\"relu\"),\n",
        "  ])\n",
        "  model.compile(optimizer=\"rmsprop\", loss=\"mse\", metrics=[\"mae\"])\n",
        "  return model;\n",
        "\n",
        "regmodl2 = build_regmodl2();\n",
        "\n",
        "regmodl2_history = regmodl2.fit(x=Xtrain, y=train_labels, epochs=100, verbose=2)\n",
        "\n",
        "regmodl2_loss, regmodl2_mae = regmodl2.evaluate(Xval, val_labels)\n",
        "\n",
        "regmodl2.summary()"
      ],
      "metadata": {
        "id": "4MAZXPzjl4sb",
        "colab": {
          "base_uri": "https://localhost:8080/"
        },
        "outputId": "ec4c06f5-797d-4f1b-ada1-a23cc815a824"
      },
      "execution_count": 85,
      "outputs": [
        {
          "output_type": "stream",
          "name": "stdout",
          "text": [
            "Epoch 1/100\n",
            "153/153 - 1s - loss: 2.7232 - mae: 1.2904 - 1s/epoch - 7ms/step\n",
            "Epoch 2/100\n",
            "153/153 - 0s - loss: 0.3603 - mae: 0.4582 - 256ms/epoch - 2ms/step\n",
            "Epoch 3/100\n",
            "153/153 - 0s - loss: 0.2572 - mae: 0.3928 - 259ms/epoch - 2ms/step\n",
            "Epoch 4/100\n",
            "153/153 - 0s - loss: 0.2137 - mae: 0.3530 - 245ms/epoch - 2ms/step\n",
            "Epoch 5/100\n",
            "153/153 - 0s - loss: 0.1929 - mae: 0.3317 - 240ms/epoch - 2ms/step\n",
            "Epoch 6/100\n",
            "153/153 - 0s - loss: 0.1799 - mae: 0.3224 - 256ms/epoch - 2ms/step\n",
            "Epoch 7/100\n",
            "153/153 - 0s - loss: 0.1760 - mae: 0.3186 - 230ms/epoch - 2ms/step\n",
            "Epoch 8/100\n",
            "153/153 - 0s - loss: 0.1701 - mae: 0.3112 - 244ms/epoch - 2ms/step\n",
            "Epoch 9/100\n",
            "153/153 - 0s - loss: 0.1636 - mae: 0.3082 - 242ms/epoch - 2ms/step\n",
            "Epoch 10/100\n",
            "153/153 - 0s - loss: 0.1591 - mae: 0.3020 - 249ms/epoch - 2ms/step\n",
            "Epoch 11/100\n",
            "153/153 - 0s - loss: 0.1609 - mae: 0.3033 - 239ms/epoch - 2ms/step\n",
            "Epoch 12/100\n",
            "153/153 - 0s - loss: 0.1555 - mae: 0.2943 - 229ms/epoch - 1ms/step\n",
            "Epoch 13/100\n",
            "153/153 - 0s - loss: 0.1517 - mae: 0.2943 - 245ms/epoch - 2ms/step\n",
            "Epoch 14/100\n",
            "153/153 - 0s - loss: 0.1502 - mae: 0.2920 - 253ms/epoch - 2ms/step\n",
            "Epoch 15/100\n",
            "153/153 - 0s - loss: 0.1514 - mae: 0.2920 - 268ms/epoch - 2ms/step\n",
            "Epoch 16/100\n",
            "153/153 - 0s - loss: 0.1464 - mae: 0.2857 - 241ms/epoch - 2ms/step\n",
            "Epoch 17/100\n",
            "153/153 - 0s - loss: 0.1488 - mae: 0.2878 - 246ms/epoch - 2ms/step\n",
            "Epoch 18/100\n",
            "153/153 - 0s - loss: 0.1453 - mae: 0.2846 - 277ms/epoch - 2ms/step\n",
            "Epoch 19/100\n",
            "153/153 - 0s - loss: 0.1464 - mae: 0.2870 - 230ms/epoch - 2ms/step\n",
            "Epoch 20/100\n",
            "153/153 - 0s - loss: 0.1455 - mae: 0.2857 - 258ms/epoch - 2ms/step\n",
            "Epoch 21/100\n",
            "153/153 - 0s - loss: 0.1444 - mae: 0.2844 - 249ms/epoch - 2ms/step\n",
            "Epoch 22/100\n",
            "153/153 - 0s - loss: 0.1422 - mae: 0.2805 - 263ms/epoch - 2ms/step\n",
            "Epoch 23/100\n",
            "153/153 - 0s - loss: 0.1456 - mae: 0.2851 - 248ms/epoch - 2ms/step\n",
            "Epoch 24/100\n",
            "153/153 - 0s - loss: 0.1423 - mae: 0.2813 - 232ms/epoch - 2ms/step\n",
            "Epoch 25/100\n",
            "153/153 - 0s - loss: 0.1425 - mae: 0.2820 - 242ms/epoch - 2ms/step\n",
            "Epoch 26/100\n",
            "153/153 - 0s - loss: 0.1402 - mae: 0.2781 - 245ms/epoch - 2ms/step\n",
            "Epoch 27/100\n",
            "153/153 - 0s - loss: 0.1405 - mae: 0.2789 - 238ms/epoch - 2ms/step\n",
            "Epoch 28/100\n",
            "153/153 - 0s - loss: 0.1420 - mae: 0.2818 - 262ms/epoch - 2ms/step\n",
            "Epoch 29/100\n",
            "153/153 - 0s - loss: 0.1402 - mae: 0.2786 - 237ms/epoch - 2ms/step\n",
            "Epoch 30/100\n",
            "153/153 - 0s - loss: 0.1394 - mae: 0.2766 - 241ms/epoch - 2ms/step\n",
            "Epoch 31/100\n",
            "153/153 - 0s - loss: 0.1391 - mae: 0.2775 - 247ms/epoch - 2ms/step\n",
            "Epoch 32/100\n",
            "153/153 - 0s - loss: 0.1381 - mae: 0.2769 - 267ms/epoch - 2ms/step\n",
            "Epoch 33/100\n",
            "153/153 - 0s - loss: 0.1395 - mae: 0.2781 - 249ms/epoch - 2ms/step\n",
            "Epoch 34/100\n",
            "153/153 - 0s - loss: 0.1374 - mae: 0.2755 - 246ms/epoch - 2ms/step\n",
            "Epoch 35/100\n",
            "153/153 - 0s - loss: 0.1395 - mae: 0.2771 - 227ms/epoch - 1ms/step\n",
            "Epoch 36/100\n",
            "153/153 - 0s - loss: 0.1394 - mae: 0.2787 - 237ms/epoch - 2ms/step\n",
            "Epoch 37/100\n",
            "153/153 - 0s - loss: 0.1358 - mae: 0.2719 - 237ms/epoch - 2ms/step\n",
            "Epoch 38/100\n",
            "153/153 - 0s - loss: 0.1375 - mae: 0.2739 - 242ms/epoch - 2ms/step\n",
            "Epoch 39/100\n",
            "153/153 - 0s - loss: 0.1377 - mae: 0.2765 - 246ms/epoch - 2ms/step\n",
            "Epoch 40/100\n",
            "153/153 - 0s - loss: 0.1372 - mae: 0.2725 - 232ms/epoch - 2ms/step\n",
            "Epoch 41/100\n",
            "153/153 - 0s - loss: 0.1367 - mae: 0.2741 - 230ms/epoch - 2ms/step\n",
            "Epoch 42/100\n",
            "153/153 - 0s - loss: 0.1378 - mae: 0.2739 - 235ms/epoch - 2ms/step\n",
            "Epoch 43/100\n",
            "153/153 - 0s - loss: 0.1347 - mae: 0.2718 - 260ms/epoch - 2ms/step\n",
            "Epoch 44/100\n",
            "153/153 - 0s - loss: 0.1357 - mae: 0.2735 - 244ms/epoch - 2ms/step\n",
            "Epoch 45/100\n",
            "153/153 - 0s - loss: 0.1373 - mae: 0.2749 - 233ms/epoch - 2ms/step\n",
            "Epoch 46/100\n",
            "153/153 - 0s - loss: 0.1358 - mae: 0.2730 - 234ms/epoch - 2ms/step\n",
            "Epoch 47/100\n",
            "153/153 - 0s - loss: 0.1362 - mae: 0.2723 - 253ms/epoch - 2ms/step\n",
            "Epoch 48/100\n",
            "153/153 - 0s - loss: 0.1364 - mae: 0.2731 - 236ms/epoch - 2ms/step\n",
            "Epoch 49/100\n",
            "153/153 - 0s - loss: 0.1369 - mae: 0.2731 - 234ms/epoch - 2ms/step\n",
            "Epoch 50/100\n",
            "153/153 - 0s - loss: 0.1341 - mae: 0.2706 - 239ms/epoch - 2ms/step\n",
            "Epoch 51/100\n",
            "153/153 - 0s - loss: 0.1359 - mae: 0.2712 - 262ms/epoch - 2ms/step\n",
            "Epoch 52/100\n",
            "153/153 - 0s - loss: 0.1352 - mae: 0.2728 - 229ms/epoch - 1ms/step\n",
            "Epoch 53/100\n",
            "153/153 - 0s - loss: 0.1351 - mae: 0.2707 - 228ms/epoch - 1ms/step\n",
            "Epoch 54/100\n",
            "153/153 - 0s - loss: 0.1339 - mae: 0.2703 - 234ms/epoch - 2ms/step\n",
            "Epoch 55/100\n",
            "153/153 - 0s - loss: 0.1341 - mae: 0.2703 - 251ms/epoch - 2ms/step\n",
            "Epoch 56/100\n",
            "153/153 - 0s - loss: 0.1334 - mae: 0.2697 - 261ms/epoch - 2ms/step\n",
            "Epoch 57/100\n",
            "153/153 - 0s - loss: 0.1335 - mae: 0.2713 - 233ms/epoch - 2ms/step\n",
            "Epoch 58/100\n",
            "153/153 - 0s - loss: 0.1331 - mae: 0.2698 - 228ms/epoch - 1ms/step\n",
            "Epoch 59/100\n",
            "153/153 - 0s - loss: 0.1341 - mae: 0.2702 - 241ms/epoch - 2ms/step\n",
            "Epoch 60/100\n",
            "153/153 - 0s - loss: 0.1336 - mae: 0.2704 - 245ms/epoch - 2ms/step\n",
            "Epoch 61/100\n",
            "153/153 - 0s - loss: 0.1341 - mae: 0.2694 - 237ms/epoch - 2ms/step\n",
            "Epoch 62/100\n",
            "153/153 - 0s - loss: 0.1331 - mae: 0.2692 - 244ms/epoch - 2ms/step\n",
            "Epoch 63/100\n",
            "153/153 - 0s - loss: 0.1334 - mae: 0.2688 - 414ms/epoch - 3ms/step\n",
            "Epoch 64/100\n",
            "153/153 - 0s - loss: 0.1338 - mae: 0.2695 - 262ms/epoch - 2ms/step\n",
            "Epoch 65/100\n",
            "153/153 - 0s - loss: 0.1320 - mae: 0.2669 - 232ms/epoch - 2ms/step\n",
            "Epoch 66/100\n",
            "153/153 - 0s - loss: 0.1328 - mae: 0.2686 - 252ms/epoch - 2ms/step\n",
            "Epoch 67/100\n",
            "153/153 - 0s - loss: 0.1327 - mae: 0.2676 - 260ms/epoch - 2ms/step\n",
            "Epoch 68/100\n",
            "153/153 - 0s - loss: 0.1323 - mae: 0.2675 - 244ms/epoch - 2ms/step\n",
            "Epoch 69/100\n",
            "153/153 - 0s - loss: 0.1319 - mae: 0.2669 - 240ms/epoch - 2ms/step\n",
            "Epoch 70/100\n",
            "153/153 - 0s - loss: 0.1325 - mae: 0.2671 - 232ms/epoch - 2ms/step\n",
            "Epoch 71/100\n",
            "153/153 - 0s - loss: 0.1326 - mae: 0.2673 - 245ms/epoch - 2ms/step\n",
            "Epoch 72/100\n",
            "153/153 - 0s - loss: 0.1329 - mae: 0.2677 - 233ms/epoch - 2ms/step\n",
            "Epoch 73/100\n",
            "153/153 - 0s - loss: 0.1326 - mae: 0.2688 - 238ms/epoch - 2ms/step\n",
            "Epoch 74/100\n",
            "153/153 - 0s - loss: 0.1321 - mae: 0.2663 - 240ms/epoch - 2ms/step\n",
            "Epoch 75/100\n",
            "153/153 - 0s - loss: 0.1326 - mae: 0.2680 - 274ms/epoch - 2ms/step\n",
            "Epoch 76/100\n",
            "153/153 - 0s - loss: 0.1310 - mae: 0.2661 - 278ms/epoch - 2ms/step\n",
            "Epoch 77/100\n",
            "153/153 - 0s - loss: 0.1309 - mae: 0.2664 - 259ms/epoch - 2ms/step\n",
            "Epoch 78/100\n",
            "153/153 - 0s - loss: 0.1319 - mae: 0.2669 - 273ms/epoch - 2ms/step\n",
            "Epoch 79/100\n",
            "153/153 - 0s - loss: 0.1316 - mae: 0.2666 - 259ms/epoch - 2ms/step\n",
            "Epoch 80/100\n",
            "153/153 - 0s - loss: 0.1309 - mae: 0.2649 - 239ms/epoch - 2ms/step\n",
            "Epoch 81/100\n",
            "153/153 - 0s - loss: 0.1322 - mae: 0.2666 - 234ms/epoch - 2ms/step\n",
            "Epoch 82/100\n",
            "153/153 - 0s - loss: 0.1303 - mae: 0.2648 - 234ms/epoch - 2ms/step\n",
            "Epoch 83/100\n",
            "153/153 - 0s - loss: 0.1310 - mae: 0.2652 - 253ms/epoch - 2ms/step\n",
            "Epoch 84/100\n",
            "153/153 - 0s - loss: 0.1303 - mae: 0.2648 - 232ms/epoch - 2ms/step\n",
            "Epoch 85/100\n",
            "153/153 - 0s - loss: 0.1302 - mae: 0.2638 - 240ms/epoch - 2ms/step\n",
            "Epoch 86/100\n",
            "153/153 - 0s - loss: 0.1313 - mae: 0.2658 - 231ms/epoch - 2ms/step\n",
            "Epoch 87/100\n",
            "153/153 - 0s - loss: 0.1303 - mae: 0.2638 - 253ms/epoch - 2ms/step\n",
            "Epoch 88/100\n",
            "153/153 - 0s - loss: 0.1299 - mae: 0.2622 - 241ms/epoch - 2ms/step\n",
            "Epoch 89/100\n",
            "153/153 - 0s - loss: 0.1299 - mae: 0.2637 - 240ms/epoch - 2ms/step\n",
            "Epoch 90/100\n",
            "153/153 - 0s - loss: 0.1305 - mae: 0.2648 - 230ms/epoch - 2ms/step\n",
            "Epoch 91/100\n",
            "153/153 - 0s - loss: 0.1308 - mae: 0.2639 - 242ms/epoch - 2ms/step\n",
            "Epoch 92/100\n",
            "153/153 - 0s - loss: 0.1302 - mae: 0.2639 - 252ms/epoch - 2ms/step\n",
            "Epoch 93/100\n",
            "153/153 - 0s - loss: 0.1289 - mae: 0.2631 - 231ms/epoch - 2ms/step\n",
            "Epoch 94/100\n",
            "153/153 - 0s - loss: 0.1288 - mae: 0.2635 - 240ms/epoch - 2ms/step\n",
            "Epoch 95/100\n",
            "153/153 - 0s - loss: 0.1296 - mae: 0.2629 - 237ms/epoch - 2ms/step\n",
            "Epoch 96/100\n",
            "153/153 - 0s - loss: 0.1298 - mae: 0.2633 - 255ms/epoch - 2ms/step\n",
            "Epoch 97/100\n",
            "153/153 - 0s - loss: 0.1280 - mae: 0.2617 - 238ms/epoch - 2ms/step\n",
            "Epoch 98/100\n",
            "153/153 - 0s - loss: 0.1297 - mae: 0.2639 - 251ms/epoch - 2ms/step\n",
            "Epoch 99/100\n",
            "153/153 - 0s - loss: 0.1296 - mae: 0.2630 - 260ms/epoch - 2ms/step\n",
            "Epoch 100/100\n",
            "153/153 - 0s - loss: 0.1283 - mae: 0.2604 - 276ms/epoch - 2ms/step\n",
            "51/51 [==============================] - 0s 2ms/step - loss: 0.1423 - mae: 0.2584\n",
            "Model: \"sequential_9\"\n",
            "_________________________________________________________________\n",
            " Layer (type)                Output Shape              Param #   \n",
            "=================================================================\n",
            " dense_35 (Dense)            (None, 128)               1664      \n",
            "                                                                 \n",
            " dense_36 (Dense)            (None, 64)                8256      \n",
            "                                                                 \n",
            " dense_37 (Dense)            (None, 30)                1950      \n",
            "                                                                 \n",
            " dense_38 (Dense)            (None, 5)                 155       \n",
            "                                                                 \n",
            " dense_39 (Dense)            (None, 1)                 6         \n",
            "                                                                 \n",
            "=================================================================\n",
            "Total params: 12,031\n",
            "Trainable params: 12,031\n",
            "Non-trainable params: 0\n",
            "_________________________________________________________________\n"
          ]
        }
      ]
    },
    {
      "cell_type": "markdown",
      "source": [
        "Plotting Regression Model 2"
      ],
      "metadata": {
        "id": "JRHjNr9xgXeT"
      }
    },
    {
      "cell_type": "code",
      "source": [
        "plot_model_history(regmodl2_history)"
      ],
      "metadata": {
        "id": "SNIWIhR2gaYN",
        "outputId": "a3fc9c5c-f39f-46b8-f279-94ff749f70b5",
        "colab": {
          "base_uri": "https://localhost:8080/",
          "height": 295
        }
      },
      "execution_count": 86,
      "outputs": [
        {
          "output_type": "display_data",
          "data": {
            "image/png": "[encoded data removed]",
            "text/plain": [
              "<Figure size 432x288 with 1 Axes>"
            ]
          },
          "metadata": {
            "needs_background": "light"
          }
        }
      ]
    },
    {
      "cell_type": "markdown",
      "source": [
        "### Regression Model 3"
      ],
      "metadata": {
        "id": "9bt4_Yz4K8e9"
      }
    },
    {
      "cell_type": "code",
      "source": [
        "# reg mod 3\n",
        "def build_regmodl3():\n",
        "  model = keras.Sequential([\n",
        "    layers.Dense(512, activation=\"relu\"),\n",
        "    layers.Dense(125, activation=\"relu\"),\n",
        "    layers.Dense(64, activation=\"relu\"),\n",
        "    layers.Dense(30, activation=\"relu\"),\n",
        "    layers.Dense(5, activation=\"relu\"),\n",
        "    layers.Dense(1)                    \n",
        "  ])\n",
        "  model.compile(optimizer=\"rmsprop\", loss=\"mse\", metrics=[\"mae\"])\n",
        "  return model;\n",
        "\n",
        "regmodl3 = build_regmodl3()\n",
        "\n",
        "regmodl3_history = regmodl3.fit(x=Xtrain, y=train_labels, epochs=100, verbose=2)\n",
        "\n",
        "regmodl3_loss, regmodl3_mae = regmodl2.evaluate(Xval, val_labels)\n",
        "\n",
        "regmodl3.summary()"
      ],
      "metadata": {
        "id": "FKRKSxhfAeWi",
        "colab": {
          "base_uri": "https://localhost:8080/"
        },
        "outputId": "f8fc3c67-1fd0-4199-cb50-1544b97eca85"
      },
      "execution_count": 87,
      "outputs": [
        {
          "output_type": "stream",
          "name": "stdout",
          "text": [
            "Epoch 1/100\n",
            "153/153 - 1s - loss: 1.1552 - mae: 0.6881 - 1s/epoch - 9ms/step\n",
            "Epoch 2/100\n",
            "153/153 - 0s - loss: 0.3161 - mae: 0.4272 - 423ms/epoch - 3ms/step\n",
            "Epoch 3/100\n",
            "153/153 - 0s - loss: 0.2323 - mae: 0.3707 - 433ms/epoch - 3ms/step\n",
            "Epoch 4/100\n",
            "153/153 - 0s - loss: 0.2017 - mae: 0.3475 - 418ms/epoch - 3ms/step\n",
            "Epoch 5/100\n",
            "153/153 - 0s - loss: 0.1848 - mae: 0.3271 - 412ms/epoch - 3ms/step\n",
            "Epoch 6/100\n",
            "153/153 - 0s - loss: 0.1727 - mae: 0.3144 - 444ms/epoch - 3ms/step\n",
            "Epoch 7/100\n",
            "153/153 - 0s - loss: 0.1692 - mae: 0.3130 - 411ms/epoch - 3ms/step\n",
            "Epoch 8/100\n",
            "153/153 - 0s - loss: 0.1674 - mae: 0.3073 - 410ms/epoch - 3ms/step\n",
            "Epoch 9/100\n",
            "153/153 - 0s - loss: 0.1614 - mae: 0.3017 - 412ms/epoch - 3ms/step\n",
            "Epoch 10/100\n",
            "153/153 - 0s - loss: 0.1615 - mae: 0.3017 - 406ms/epoch - 3ms/step\n",
            "Epoch 11/100\n",
            "153/153 - 0s - loss: 0.1595 - mae: 0.3000 - 442ms/epoch - 3ms/step\n",
            "Epoch 12/100\n",
            "153/153 - 0s - loss: 0.1531 - mae: 0.2933 - 384ms/epoch - 3ms/step\n",
            "Epoch 13/100\n",
            "153/153 - 0s - loss: 0.1516 - mae: 0.2942 - 403ms/epoch - 3ms/step\n",
            "Epoch 14/100\n",
            "153/153 - 0s - loss: 0.1510 - mae: 0.2917 - 413ms/epoch - 3ms/step\n",
            "Epoch 15/100\n",
            "153/153 - 0s - loss: 0.1511 - mae: 0.2910 - 400ms/epoch - 3ms/step\n",
            "Epoch 16/100\n",
            "153/153 - 0s - loss: 0.1494 - mae: 0.2899 - 410ms/epoch - 3ms/step\n",
            "Epoch 17/100\n",
            "153/153 - 0s - loss: 0.1494 - mae: 0.2901 - 431ms/epoch - 3ms/step\n",
            "Epoch 18/100\n",
            "153/153 - 0s - loss: 0.1464 - mae: 0.2857 - 430ms/epoch - 3ms/step\n",
            "Epoch 19/100\n",
            "153/153 - 0s - loss: 0.1480 - mae: 0.2893 - 397ms/epoch - 3ms/step\n",
            "Epoch 20/100\n",
            "153/153 - 0s - loss: 0.1455 - mae: 0.2858 - 444ms/epoch - 3ms/step\n",
            "Epoch 21/100\n",
            "153/153 - 0s - loss: 0.1468 - mae: 0.2861 - 418ms/epoch - 3ms/step\n",
            "Epoch 22/100\n",
            "153/153 - 0s - loss: 0.1457 - mae: 0.2847 - 386ms/epoch - 3ms/step\n",
            "Epoch 23/100\n",
            "153/153 - 0s - loss: 0.1437 - mae: 0.2829 - 402ms/epoch - 3ms/step\n",
            "Epoch 24/100\n",
            "153/153 - 0s - loss: 0.1470 - mae: 0.2859 - 396ms/epoch - 3ms/step\n",
            "Epoch 25/100\n",
            "153/153 - 0s - loss: 0.1435 - mae: 0.2836 - 407ms/epoch - 3ms/step\n",
            "Epoch 26/100\n",
            "153/153 - 0s - loss: 0.1423 - mae: 0.2819 - 394ms/epoch - 3ms/step\n",
            "Epoch 27/100\n",
            "153/153 - 0s - loss: 0.1442 - mae: 0.2834 - 391ms/epoch - 3ms/step\n",
            "Epoch 28/100\n",
            "153/153 - 0s - loss: 0.1419 - mae: 0.2809 - 398ms/epoch - 3ms/step\n",
            "Epoch 29/100\n",
            "153/153 - 0s - loss: 0.1396 - mae: 0.2792 - 381ms/epoch - 2ms/step\n",
            "Epoch 30/100\n",
            "153/153 - 0s - loss: 0.1411 - mae: 0.2794 - 400ms/epoch - 3ms/step\n",
            "Epoch 31/100\n",
            "153/153 - 0s - loss: 0.1403 - mae: 0.2780 - 419ms/epoch - 3ms/step\n",
            "Epoch 32/100\n",
            "153/153 - 0s - loss: 0.1382 - mae: 0.2773 - 392ms/epoch - 3ms/step\n",
            "Epoch 33/100\n",
            "153/153 - 0s - loss: 0.1400 - mae: 0.2804 - 396ms/epoch - 3ms/step\n",
            "Epoch 34/100\n",
            "153/153 - 0s - loss: 0.1403 - mae: 0.2787 - 375ms/epoch - 2ms/step\n",
            "Epoch 35/100\n",
            "153/153 - 0s - loss: 0.1379 - mae: 0.2757 - 368ms/epoch - 2ms/step\n",
            "Epoch 36/100\n",
            "153/153 - 0s - loss: 0.1394 - mae: 0.2776 - 397ms/epoch - 3ms/step\n",
            "Epoch 37/100\n",
            "153/153 - 0s - loss: 0.1394 - mae: 0.2761 - 391ms/epoch - 3ms/step\n",
            "Epoch 38/100\n",
            "153/153 - 0s - loss: 0.1380 - mae: 0.2767 - 404ms/epoch - 3ms/step\n",
            "Epoch 39/100\n",
            "153/153 - 0s - loss: 0.1374 - mae: 0.2760 - 402ms/epoch - 3ms/step\n",
            "Epoch 40/100\n",
            "153/153 - 0s - loss: 0.1415 - mae: 0.2796 - 417ms/epoch - 3ms/step\n",
            "Epoch 41/100\n",
            "153/153 - 0s - loss: 0.1380 - mae: 0.2762 - 412ms/epoch - 3ms/step\n",
            "Epoch 42/100\n",
            "153/153 - 0s - loss: 0.1385 - mae: 0.2770 - 380ms/epoch - 2ms/step\n",
            "Epoch 43/100\n",
            "153/153 - 0s - loss: 0.1386 - mae: 0.2762 - 393ms/epoch - 3ms/step\n",
            "Epoch 44/100\n",
            "153/153 - 0s - loss: 0.1382 - mae: 0.2765 - 389ms/epoch - 3ms/step\n",
            "Epoch 45/100\n",
            "153/153 - 0s - loss: 0.1383 - mae: 0.2756 - 416ms/epoch - 3ms/step\n",
            "Epoch 46/100\n",
            "153/153 - 0s - loss: 0.1386 - mae: 0.2760 - 412ms/epoch - 3ms/step\n",
            "Epoch 47/100\n",
            "153/153 - 0s - loss: 0.1389 - mae: 0.2771 - 389ms/epoch - 3ms/step\n",
            "Epoch 48/100\n",
            "153/153 - 0s - loss: 0.1372 - mae: 0.2749 - 408ms/epoch - 3ms/step\n",
            "Epoch 49/100\n",
            "153/153 - 0s - loss: 0.1367 - mae: 0.2733 - 432ms/epoch - 3ms/step\n",
            "Epoch 50/100\n",
            "153/153 - 0s - loss: 0.1381 - mae: 0.2756 - 417ms/epoch - 3ms/step\n",
            "Epoch 51/100\n",
            "153/153 - 0s - loss: 0.1357 - mae: 0.2721 - 399ms/epoch - 3ms/step\n",
            "Epoch 52/100\n",
            "153/153 - 0s - loss: 0.1386 - mae: 0.2755 - 394ms/epoch - 3ms/step\n",
            "Epoch 53/100\n",
            "153/153 - 0s - loss: 0.1367 - mae: 0.2745 - 404ms/epoch - 3ms/step\n",
            "Epoch 54/100\n",
            "153/153 - 0s - loss: 0.1353 - mae: 0.2719 - 398ms/epoch - 3ms/step\n",
            "Epoch 55/100\n",
            "153/153 - 0s - loss: 0.1361 - mae: 0.2728 - 417ms/epoch - 3ms/step\n",
            "Epoch 56/100\n",
            "153/153 - 0s - loss: 0.1366 - mae: 0.2723 - 425ms/epoch - 3ms/step\n",
            "Epoch 57/100\n",
            "153/153 - 0s - loss: 0.1372 - mae: 0.2738 - 408ms/epoch - 3ms/step\n",
            "Epoch 58/100\n",
            "153/153 - 0s - loss: 0.1346 - mae: 0.2717 - 391ms/epoch - 3ms/step\n",
            "Epoch 59/100\n",
            "153/153 - 0s - loss: 0.1360 - mae: 0.2714 - 375ms/epoch - 2ms/step\n",
            "Epoch 60/100\n",
            "153/153 - 0s - loss: 0.1372 - mae: 0.2717 - 380ms/epoch - 2ms/step\n",
            "Epoch 61/100\n",
            "153/153 - 0s - loss: 0.1361 - mae: 0.2722 - 422ms/epoch - 3ms/step\n",
            "Epoch 62/100\n",
            "153/153 - 0s - loss: 0.1361 - mae: 0.2714 - 387ms/epoch - 3ms/step\n",
            "Epoch 63/100\n",
            "153/153 - 0s - loss: 0.1346 - mae: 0.2703 - 409ms/epoch - 3ms/step\n",
            "Epoch 64/100\n",
            "153/153 - 0s - loss: 0.1357 - mae: 0.2724 - 394ms/epoch - 3ms/step\n",
            "Epoch 65/100\n",
            "153/153 - 0s - loss: 0.1339 - mae: 0.2704 - 414ms/epoch - 3ms/step\n",
            "Epoch 66/100\n",
            "153/153 - 0s - loss: 0.1329 - mae: 0.2673 - 390ms/epoch - 3ms/step\n",
            "Epoch 67/100\n",
            "153/153 - 0s - loss: 0.1329 - mae: 0.2696 - 383ms/epoch - 3ms/step\n",
            "Epoch 68/100\n",
            "153/153 - 0s - loss: 0.1331 - mae: 0.2672 - 374ms/epoch - 2ms/step\n",
            "Epoch 69/100\n",
            "153/153 - 0s - loss: 0.1349 - mae: 0.2693 - 399ms/epoch - 3ms/step\n",
            "Epoch 70/100\n",
            "153/153 - 0s - loss: 0.1327 - mae: 0.2679 - 387ms/epoch - 3ms/step\n",
            "Epoch 71/100\n",
            "153/153 - 0s - loss: 0.1332 - mae: 0.2683 - 409ms/epoch - 3ms/step\n",
            "Epoch 72/100\n",
            "153/153 - 0s - loss: 0.1325 - mae: 0.2674 - 381ms/epoch - 2ms/step\n",
            "Epoch 73/100\n",
            "153/153 - 0s - loss: 0.1328 - mae: 0.2684 - 391ms/epoch - 3ms/step\n",
            "Epoch 74/100\n",
            "153/153 - 0s - loss: 0.1328 - mae: 0.2677 - 396ms/epoch - 3ms/step\n",
            "Epoch 75/100\n",
            "153/153 - 0s - loss: 0.1343 - mae: 0.2681 - 374ms/epoch - 2ms/step\n",
            "Epoch 76/100\n",
            "153/153 - 0s - loss: 0.1333 - mae: 0.2669 - 377ms/epoch - 2ms/step\n",
            "Epoch 77/100\n",
            "153/153 - 0s - loss: 0.1343 - mae: 0.2684 - 369ms/epoch - 2ms/step\n",
            "Epoch 78/100\n",
            "153/153 - 0s - loss: 0.1322 - mae: 0.2667 - 372ms/epoch - 2ms/step\n",
            "Epoch 79/100\n",
            "153/153 - 0s - loss: 0.1336 - mae: 0.2682 - 393ms/epoch - 3ms/step\n",
            "Epoch 80/100\n",
            "153/153 - 0s - loss: 0.1323 - mae: 0.2665 - 373ms/epoch - 2ms/step\n",
            "Epoch 81/100\n",
            "153/153 - 0s - loss: 0.1331 - mae: 0.2651 - 374ms/epoch - 2ms/step\n",
            "Epoch 82/100\n",
            "153/153 - 0s - loss: 0.1317 - mae: 0.2660 - 384ms/epoch - 3ms/step\n",
            "Epoch 83/100\n",
            "153/153 - 0s - loss: 0.1316 - mae: 0.2655 - 369ms/epoch - 2ms/step\n",
            "Epoch 84/100\n",
            "153/153 - 0s - loss: 0.1320 - mae: 0.2668 - 399ms/epoch - 3ms/step\n",
            "Epoch 85/100\n",
            "153/153 - 0s - loss: 0.1322 - mae: 0.2674 - 377ms/epoch - 2ms/step\n",
            "Epoch 86/100\n",
            "153/153 - 0s - loss: 0.1305 - mae: 0.2641 - 396ms/epoch - 3ms/step\n",
            "Epoch 87/100\n",
            "153/153 - 0s - loss: 0.1330 - mae: 0.2662 - 421ms/epoch - 3ms/step\n",
            "Epoch 88/100\n",
            "153/153 - 0s - loss: 0.1310 - mae: 0.2653 - 408ms/epoch - 3ms/step\n",
            "Epoch 89/100\n",
            "153/153 - 0s - loss: 0.1319 - mae: 0.2662 - 396ms/epoch - 3ms/step\n",
            "Epoch 90/100\n",
            "153/153 - 0s - loss: 0.1322 - mae: 0.2656 - 374ms/epoch - 2ms/step\n",
            "Epoch 91/100\n",
            "153/153 - 0s - loss: 0.1317 - mae: 0.2647 - 378ms/epoch - 2ms/step\n",
            "Epoch 92/100\n",
            "153/153 - 0s - loss: 0.1317 - mae: 0.2649 - 401ms/epoch - 3ms/step\n",
            "Epoch 93/100\n",
            "153/153 - 0s - loss: 0.1316 - mae: 0.2646 - 388ms/epoch - 3ms/step\n",
            "Epoch 94/100\n",
            "153/153 - 0s - loss: 0.1322 - mae: 0.2654 - 391ms/epoch - 3ms/step\n",
            "Epoch 95/100\n",
            "153/153 - 0s - loss: 0.1320 - mae: 0.2654 - 404ms/epoch - 3ms/step\n",
            "Epoch 96/100\n",
            "153/153 - 0s - loss: 0.1318 - mae: 0.2649 - 395ms/epoch - 3ms/step\n",
            "Epoch 97/100\n",
            "153/153 - 0s - loss: 0.1311 - mae: 0.2645 - 384ms/epoch - 3ms/step\n",
            "Epoch 98/100\n",
            "153/153 - 0s - loss: 0.1308 - mae: 0.2645 - 379ms/epoch - 2ms/step\n",
            "Epoch 99/100\n",
            "153/153 - 0s - loss: 0.1322 - mae: 0.2658 - 377ms/epoch - 2ms/step\n",
            "Epoch 100/100\n",
            "153/153 - 0s - loss: 0.1317 - mae: 0.2630 - 410ms/epoch - 3ms/step\n",
            "51/51 [==============================] - 0s 1ms/step - loss: 0.1423 - mae: 0.2584\n",
            "Model: \"sequential_10\"\n",
            "_________________________________________________________________\n",
            " Layer (type)                Output Shape              Param #   \n",
            "=================================================================\n",
            " dense_40 (Dense)            (None, 512)               6656      \n",
            "                                                                 \n",
            " dense_41 (Dense)            (None, 125)               64125     \n",
            "                                                                 \n",
            " dense_42 (Dense)            (None, 64)                8064      \n",
            "                                                                 \n",
            " dense_43 (Dense)            (None, 30)                1950      \n",
            "                                                                 \n",
            " dense_44 (Dense)            (None, 5)                 155       \n",
            "                                                                 \n",
            " dense_45 (Dense)            (None, 1)                 6         \n",
            "                                                                 \n",
            "=================================================================\n",
            "Total params: 80,956\n",
            "Trainable params: 80,956\n",
            "Non-trainable params: 0\n",
            "_________________________________________________________________\n"
          ]
        }
      ]
    },
    {
      "cell_type": "markdown",
      "source": [
        "Plotting Regression Model 3"
      ],
      "metadata": {
        "id": "8Oyf18uLLAzf"
      }
    },
    {
      "cell_type": "code",
      "source": [
        "plot_model_history(regmodl3_history)"
      ],
      "metadata": {
        "colab": {
          "base_uri": "https://localhost:8080/",
          "height": 295
        },
        "id": "e5XlSgPELE18",
        "outputId": "d50b2f1a-cbbc-4c34-d6fc-c3f5bc9fc86a"
      },
      "execution_count": 88,
      "outputs": [
        {
          "output_type": "display_data",
          "data": {
            "image/png": "[encoded data removed]",
            "text/plain": [
              "<Figure size 432x288 with 1 Axes>"
            ]
          },
          "metadata": {
            "needs_background": "light"
          }
        }
      ]
    }
  ]
}