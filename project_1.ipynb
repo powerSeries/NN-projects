{
  "nbformat": 4,
  "nbformat_minor": 0,
  "metadata": {
    "colab": {
      "name": "project-1.ipynb",
      "provenance": [],
      "collapsed_sections": [],
      "include_colab_link": true
    },
    "kernelspec": {
      "display_name": "Python 3",
      "name": "python3"
    }
  },
  "cells": [
    {
      "cell_type": "markdown",
      "metadata": {
        "id": "view-in-github",
        "colab_type": "text"
      },
      "source": [
        "<a href=\"https://colab.research.google.com/github/powerSeries/NN-projects/blob/main/project_1.ipynb\" target=\"_parent\"><img src=\"https://colab.research.google.com/assets/colab-badge.svg\" alt=\"Open In Colab\"/></a>"
      ]
    },
    {
      "cell_type": "markdown",
      "metadata": {
        "id": "vB3bHSucPIVs"
      },
      "source": [
        "Abbreviated data preparation for the Wine Quality Problem (Project 1)"
      ]
    },
    {
      "cell_type": "code",
      "metadata": {
        "id": "XrcPuh9-KY0j",
        "colab": {
          "base_uri": "https://localhost:8080/"
        },
        "outputId": "5845f2e6-d1e4-4fd3-ed85-b1041a2eadb0"
      },
      "source": [
        "# Import Required Libraries  \n",
        "import matplotlib.pyplot as plt \n",
        "import numpy as np \n",
        "# This time we need to also import pandas\n",
        "import pandas as pd \n",
        "\n",
        "# Read in white wine data \n",
        "# USES PANDAS (pd) to create a PANDAS DataFrame OBJECT:\n",
        "white = pd.read_csv(\"http://archive.ics.uci.edu/ml/machine-learning-databases/wine-quality/winequality-white.csv\", sep =';') \n",
        "\n",
        "# Read in red wine data \n",
        "# USES PANDAS (pd) to create a PANDAS DataFrame OBJECT:\n",
        "red = pd.read_csv(\"http://archive.ics.uci.edu/ml/machine-learning-databases/wine-quality/winequality-red.csv\", sep =';') \n",
        "\n",
        "# Add `type` column to `red` with price one  - done with PANDAS\n",
        "red['type'] = 1\n",
        "  \n",
        "# Add `type` column to `white` with price zero - done with PANDAS \n",
        "white['type'] = 0\n",
        "  \n",
        "# Append `white` to `red` - done with PANDAS\n",
        "# AFTER THIS WE HAVE ALL WINES (red and white) in a SINGLE pandas DataFrame\n",
        "wines = red.append(white, ignore_index = True) \n",
        "\n",
        "# Import SKLEARN\n",
        "import sklearn\n",
        "# Import `train_test_split` from `sklearn.model_selection` \n",
        "from sklearn.model_selection import train_test_split \n",
        "\n",
        "# Specify the  data - \n",
        "X1 = wines.iloc[:, 0:11]\n",
        "X2 = wines.iloc[:,12]\n",
        "X = pd.concat([X1,X2],axis = 1)\n",
        "\n",
        "# Specify the QUALITY target labels and flatten the array \n",
        "y = np.ravel(wines.quality) \n",
        "\n",
        "# Splitting the data set for training and validating  - Done with SKLEARN\n",
        "X_train, X_valid, y_train, y_valid = train_test_split( \n",
        "                 X, y, test_size = 0.25, random_state = 45) \n",
        "\n",
        "# CONVERTING X_train & X_test DataFrame s to TF tensors\n",
        "# Will USE NumPy, TF & Keras after this\n",
        "# import tensorflow as tf \n",
        "\n",
        "Xtrain = X_train.to_numpy()\n",
        "X_valid = X_valid.to_numpy()\n",
        "\n",
        "# In reality:\n",
        "# [1] ALL THE Xtrain patterns (with their y_train targets) \n",
        "# will be used for TRAINING ([TR]), as Xtrain & y_train\n",
        "# [2] MOST OF THE X_valid patterns (and their y_valid targets) \n",
        "#  will be used for VALIDATION ([TT]),  as X_val & y_val\n",
        "# BUT WE WILL SET ASIDE THE LAST 10 for \"testing\" ([TS])\n",
        "#  as X_tst & y_tst\n",
        "\n",
        "# To separate the last 10 in X_valid, let's first see the shape of X_valid\n",
        "X_valid.shape\n",
        "\n",
        "# And verify also the shape of y_valid\n",
        "y_valid.shape\n",
        "\n",
        "# Retain the first 1615 for validation ([TT])\n",
        "Xval = X_valid[:1615]\n",
        "Xval.shape\n",
        "\n",
        "# and now set aside the last 10 for \"test\"\n",
        "Xtst = X_valid[1615:]\n",
        "Xtst.shape\n",
        "\n",
        "y_val = y_valid[:1615]\n",
        "y_val.shape\n",
        "\n",
        "y_tst = y_valid[1615:]\n",
        "y_tst.shape\n",
        "\n",
        "y_tst\n",
        "\n",
        "# NOW, IN ADDITION, CREATE THE TARGETS AS ONE-HOT-ENCODED 4 quality LEVELS\n",
        "# We will track these few targets through the conversion process\n",
        "y_train[272:283]\n",
        "\n",
        "# Function create rank-1 arrays where 3,4,5,6,7,8,9 are mapped to 1 or 2 or 3 or 4 \n",
        "def to_4cs(x):\n",
        "  lx = len(x)\n",
        "  results = np.zeros(lx)\n",
        "  for i in range(lx):\n",
        "      # print( \"start\")\n",
        "      xa = x[i];\n",
        "      if xa <= 3:\n",
        "          results[i] = 1      # 1, 2 and 3 map to Q-LEVEL 1 ( BAD Wine)\n",
        "      elif xa <=6:\n",
        "          results[i] = 2      # 4, 5 and 6 map to Q-LEVEL 2  (MEDIUM Wine)\n",
        "      elif xa <=8:\n",
        "          results[i] = 3      # 7 and 8 and 6 map to Q-LEVEL 3  (GOOD Wine)\n",
        "      else:\n",
        "          results[i] = 4      # 9 and above map to Q-LEVEL 4  (EXCELLENT Wine)\n",
        "    # results[i, label] = 1.\n",
        "  results = results.astype(int)\n",
        "  return results\n",
        "\n",
        "train_labels = to_4cs(y_train)\n",
        "val_labels = to_4cs(y_val)\n",
        "tst_labels = to_4cs(y_tst)\n",
        "\n",
        "# Let's verify that the trainnig targets that we are tracking\n",
        "# were converted to levels (1 = BAD; 2 = MEDIUM; 3 = GOOD; 4- EXCELLENT) correctly:\n",
        "train_labels[272:283]\n",
        "\n",
        "# NOW, ONE-HOT ENCODING OF ALL 3  TARGET ARRAYS\n",
        "# define a function to do the one-hot-encoding of output labels\n",
        "\n",
        "def to_one_hot(labels, dimension=4):\n",
        "    results = np.zeros((len(labels), dimension))\n",
        "    for i, label in enumerate(labels-1):\n",
        "        results[i, label] = 1.\n",
        "    return results\n",
        "\n",
        "one_hot_train_labels = to_one_hot(train_labels)\n",
        "one_hot_val_labels = to_one_hot(val_labels)\n",
        "one_hot_tst_labels = to_one_hot(tst_labels)\n",
        "\n",
        "#Let's verify that the training targets we have tracked were\n",
        "# one-hot encoded correctly\n",
        "one_hot_train_labels[272:283,]\n",
        "\n",
        "# SO, AFTER EXECUTING THIS CELL, YOU WILL HAVE:\n",
        "# FOR TRAINING:\n",
        "#  Xtrain (4872, 12)...y_train (4872,)...train_labels(4872,)....one_hot_train_labels (4872,4)\n",
        "# FOR VALIDATING:\n",
        "#  Xval (1615, 12)...y_val (1615,)...val_labels(1615,)...one_hot_val_labels (1615,4)\n",
        "# FOR TESTING:\n",
        "#  Xtst (10, 12)...y_tst (10,)...tst_labels(10,)... one_hot_tst_labels (10,4)\n",
        "# PLEASE DO NOT CHANGE THE NAMES OF THESE VARIABLES (So that instructor can use them)"
      ],
      "execution_count": 1,
      "outputs": [
        {
          "output_type": "execute_result",
          "data": {
            "text/plain": [
              "array([[0., 1., 0., 0.],\n",
              "       [0., 1., 0., 0.],\n",
              "       [0., 1., 0., 0.],\n",
              "       [0., 1., 0., 0.],\n",
              "       [0., 1., 0., 0.],\n",
              "       [0., 1., 0., 0.],\n",
              "       [0., 0., 1., 0.],\n",
              "       [0., 1., 0., 0.],\n",
              "       [0., 1., 0., 0.],\n",
              "       [0., 0., 1., 0.],\n",
              "       [0., 1., 0., 0.]])"
            ]
          },
          "metadata": {},
          "execution_count": 1
        }
      ]
    },
    {
      "cell_type": "code",
      "source": [
        "import copy\n",
        "\n",
        "## Normalize Data\n",
        "copyTrain = copy.copy(Xtrain)\n",
        "copyVal = copy.copy(Xval)\n",
        "copyTest = copy.copy(Xtst)\n",
        "\n",
        "mean = Xtrain.mean(axis=0)\n",
        "copyTrain -= mean\n",
        "std = Xtrain.std(axis=0)\n",
        "\n",
        "copyTrain /= std\n",
        "\n",
        "copyTest -= mean\n",
        "copyTest /= std\n",
        "\n",
        "copyVal -= mean\n",
        "copyVal /= std"
      ],
      "metadata": {
        "id": "Pgp1PGMnKBqr"
      },
      "execution_count": 2,
      "outputs": []
    },
    {
      "cell_type": "markdown",
      "source": [
        " ++++  END OF THE DATA PREPARATION PART ++++ \n"
      ],
      "metadata": {
        "id": "Bq_9V9XCSd6t"
      }
    },
    {
      "cell_type": "markdown",
      "source": [
        "# Part 2: Regression Model"
      ],
      "metadata": {
        "id": "6Vt3n82EaN98"
      }
    },
    {
      "cell_type": "markdown",
      "source": [
        "### Regression Model 1"
      ],
      "metadata": {
        "id": "saL8T2q2K0Rv"
      }
    },
    {
      "cell_type": "code",
      "source": [
        "# import libraries\n",
        "from tensorflow import keras\n",
        "from tensorflow.keras import layers\n",
        "\n",
        "def build_regmodl1():\n",
        "  regmodl1 = keras.Sequential([\n",
        "    layers.Dense(8, activation=\"relu\"),\n",
        "    layers.Dense(1),\n",
        "  ])\n",
        "  regmodl1.compile(optimizer=\"rmsprop\", loss=\"mse\", metrics=[\"mae\"])\n",
        "  return regmodl1\n",
        "\n",
        "def PrintFinalValues(model_history):\n",
        "  history_dict = model_history.history\n",
        "  loss_values = history_dict['loss']\n",
        "  mae_values = history_dict['mae']\n",
        "  val_loss_values = history_dict['val_loss']\n",
        "  val_mae_values = history_dict['val_mae']\n",
        "\n",
        "  print(\"Final Loss: \", loss_values[len(loss_values) - 1])\n",
        "  print(\"Final MAE: \", mae_values[len(mae_values) - 1])\n",
        "  print(\"Final Validation Loss: \", val_loss_values[len(val_loss_values) - 1])\n",
        "  print(\"Final Validation MAE: \", val_mae_values[len(val_mae_values) - 1])\n",
        "\n",
        "# Builld the model\n",
        "regmod1 = build_regmodl1()\n",
        "\n",
        "# Run fit and store data\n",
        "regmodl1_history = regmod1.fit(x=copyTrain, y=y_train, epochs=50, verbose=2, validation_data=(copyVal, y_val))\n",
        "\n",
        "# Show Model Summary\n",
        "regmod1.summary()\n",
        "\n",
        "PrintFinalValues(regmodl1_history)"
      ],
      "metadata": {
        "id": "WBdR9tpWdYcs",
        "colab": {
          "base_uri": "https://localhost:8080/"
        },
        "outputId": "9b968014-427c-42d3-d214-9449903d1f6c"
      },
      "execution_count": 3,
      "outputs": [
        {
          "output_type": "stream",
          "name": "stdout",
          "text": [
            "Epoch 1/50\n",
            "153/153 - 1s - loss: 22.8684 - mae: 4.4370 - val_loss: 16.5710 - val_mae: 3.7030 - 1s/epoch - 7ms/step\n",
            "Epoch 2/50\n",
            "153/153 - 0s - loss: 11.5036 - mae: 2.9871 - val_loss: 7.1053 - val_mae: 2.2595 - 255ms/epoch - 2ms/step\n",
            "Epoch 3/50\n",
            "153/153 - 0s - loss: 4.6119 - mae: 1.7532 - val_loss: 3.1687 - val_mae: 1.4191 - 247ms/epoch - 2ms/step\n",
            "Epoch 4/50\n",
            "153/153 - 0s - loss: 2.3859 - mae: 1.2258 - val_loss: 1.9322 - val_mae: 1.0876 - 261ms/epoch - 2ms/step\n",
            "Epoch 5/50\n",
            "153/153 - 0s - loss: 1.5641 - mae: 0.9778 - val_loss: 1.3818 - val_mae: 0.9100 - 266ms/epoch - 2ms/step\n",
            "Epoch 6/50\n",
            "153/153 - 0s - loss: 1.1561 - mae: 0.8330 - val_loss: 1.0613 - val_mae: 0.7923 - 260ms/epoch - 2ms/step\n",
            "Epoch 7/50\n",
            "153/153 - 0s - loss: 0.9232 - mae: 0.7387 - val_loss: 0.8804 - val_mae: 0.7193 - 245ms/epoch - 2ms/step\n",
            "Epoch 8/50\n",
            "153/153 - 0s - loss: 0.7920 - mae: 0.6791 - val_loss: 0.7756 - val_mae: 0.6743 - 254ms/epoch - 2ms/step\n",
            "Epoch 9/50\n",
            "153/153 - 0s - loss: 0.7084 - mae: 0.6415 - val_loss: 0.7187 - val_mae: 0.6461 - 246ms/epoch - 2ms/step\n",
            "Epoch 10/50\n",
            "153/153 - 0s - loss: 0.6579 - mae: 0.6160 - val_loss: 0.6631 - val_mae: 0.6200 - 255ms/epoch - 2ms/step\n",
            "Epoch 11/50\n",
            "153/153 - 0s - loss: 0.6235 - mae: 0.5989 - val_loss: 0.6413 - val_mae: 0.6108 - 244ms/epoch - 2ms/step\n",
            "Epoch 12/50\n",
            "153/153 - 0s - loss: 0.6011 - mae: 0.5898 - val_loss: 0.6191 - val_mae: 0.5995 - 273ms/epoch - 2ms/step\n",
            "Epoch 13/50\n",
            "153/153 - 0s - loss: 0.5847 - mae: 0.5816 - val_loss: 0.6276 - val_mae: 0.6071 - 250ms/epoch - 2ms/step\n",
            "Epoch 14/50\n",
            "153/153 - 0s - loss: 0.5718 - mae: 0.5762 - val_loss: 0.6002 - val_mae: 0.5932 - 255ms/epoch - 2ms/step\n",
            "Epoch 15/50\n",
            "153/153 - 0s - loss: 0.5636 - mae: 0.5731 - val_loss: 0.5969 - val_mae: 0.5940 - 256ms/epoch - 2ms/step\n",
            "Epoch 16/50\n",
            "153/153 - 0s - loss: 0.5552 - mae: 0.5703 - val_loss: 0.5815 - val_mae: 0.5836 - 253ms/epoch - 2ms/step\n",
            "Epoch 17/50\n",
            "153/153 - 0s - loss: 0.5490 - mae: 0.5688 - val_loss: 0.5788 - val_mae: 0.5835 - 245ms/epoch - 2ms/step\n",
            "Epoch 18/50\n",
            "153/153 - 0s - loss: 0.5424 - mae: 0.5663 - val_loss: 0.5725 - val_mae: 0.5800 - 235ms/epoch - 2ms/step\n",
            "Epoch 19/50\n",
            "153/153 - 0s - loss: 0.5377 - mae: 0.5648 - val_loss: 0.5836 - val_mae: 0.5880 - 267ms/epoch - 2ms/step\n",
            "Epoch 20/50\n",
            "153/153 - 0s - loss: 0.5339 - mae: 0.5637 - val_loss: 0.5696 - val_mae: 0.5777 - 266ms/epoch - 2ms/step\n",
            "Epoch 21/50\n",
            "153/153 - 0s - loss: 0.5301 - mae: 0.5617 - val_loss: 0.5679 - val_mae: 0.5797 - 244ms/epoch - 2ms/step\n",
            "Epoch 22/50\n",
            "153/153 - 0s - loss: 0.5273 - mae: 0.5611 - val_loss: 0.5629 - val_mae: 0.5760 - 250ms/epoch - 2ms/step\n",
            "Epoch 23/50\n",
            "153/153 - 0s - loss: 0.5262 - mae: 0.5612 - val_loss: 0.5633 - val_mae: 0.5767 - 252ms/epoch - 2ms/step\n",
            "Epoch 24/50\n",
            "153/153 - 0s - loss: 0.5235 - mae: 0.5604 - val_loss: 0.5564 - val_mae: 0.5710 - 249ms/epoch - 2ms/step\n",
            "Epoch 25/50\n",
            "153/153 - 0s - loss: 0.5215 - mae: 0.5595 - val_loss: 0.5539 - val_mae: 0.5715 - 247ms/epoch - 2ms/step\n",
            "Epoch 26/50\n",
            "153/153 - 0s - loss: 0.5179 - mae: 0.5574 - val_loss: 0.5473 - val_mae: 0.5674 - 266ms/epoch - 2ms/step\n",
            "Epoch 27/50\n",
            "153/153 - 0s - loss: 0.5173 - mae: 0.5577 - val_loss: 0.5456 - val_mae: 0.5669 - 248ms/epoch - 2ms/step\n",
            "Epoch 28/50\n",
            "153/153 - 0s - loss: 0.5149 - mae: 0.5575 - val_loss: 0.5482 - val_mae: 0.5690 - 334ms/epoch - 2ms/step\n",
            "Epoch 29/50\n",
            "153/153 - 1s - loss: 0.5133 - mae: 0.5564 - val_loss: 0.5436 - val_mae: 0.5658 - 642ms/epoch - 4ms/step\n",
            "Epoch 30/50\n",
            "153/153 - 0s - loss: 0.5124 - mae: 0.5559 - val_loss: 0.5426 - val_mae: 0.5673 - 263ms/epoch - 2ms/step\n",
            "Epoch 31/50\n",
            "153/153 - 0s - loss: 0.5096 - mae: 0.5553 - val_loss: 0.5410 - val_mae: 0.5646 - 271ms/epoch - 2ms/step\n",
            "Epoch 32/50\n",
            "153/153 - 1s - loss: 0.5099 - mae: 0.5559 - val_loss: 0.5414 - val_mae: 0.5644 - 711ms/epoch - 5ms/step\n",
            "Epoch 33/50\n",
            "153/153 - 0s - loss: 0.5081 - mae: 0.5549 - val_loss: 0.5414 - val_mae: 0.5672 - 244ms/epoch - 2ms/step\n",
            "Epoch 34/50\n",
            "153/153 - 0s - loss: 0.5059 - mae: 0.5553 - val_loss: 0.5426 - val_mae: 0.5655 - 339ms/epoch - 2ms/step\n",
            "Epoch 35/50\n",
            "153/153 - 1s - loss: 0.5047 - mae: 0.5543 - val_loss: 0.5430 - val_mae: 0.5640 - 718ms/epoch - 5ms/step\n",
            "Epoch 36/50\n",
            "153/153 - 0s - loss: 0.5048 - mae: 0.5546 - val_loss: 0.5380 - val_mae: 0.5638 - 247ms/epoch - 2ms/step\n",
            "Epoch 37/50\n",
            "153/153 - 0s - loss: 0.5020 - mae: 0.5531 - val_loss: 0.5387 - val_mae: 0.5632 - 267ms/epoch - 2ms/step\n",
            "Epoch 38/50\n",
            "153/153 - 0s - loss: 0.5023 - mae: 0.5526 - val_loss: 0.5360 - val_mae: 0.5628 - 252ms/epoch - 2ms/step\n",
            "Epoch 39/50\n",
            "153/153 - 0s - loss: 0.5026 - mae: 0.5523 - val_loss: 0.5349 - val_mae: 0.5605 - 258ms/epoch - 2ms/step\n",
            "Epoch 40/50\n",
            "153/153 - 0s - loss: 0.5016 - mae: 0.5526 - val_loss: 0.5337 - val_mae: 0.5608 - 245ms/epoch - 2ms/step\n",
            "Epoch 41/50\n",
            "153/153 - 0s - loss: 0.5011 - mae: 0.5520 - val_loss: 0.5378 - val_mae: 0.5633 - 250ms/epoch - 2ms/step\n",
            "Epoch 42/50\n",
            "153/153 - 0s - loss: 0.5001 - mae: 0.5519 - val_loss: 0.5329 - val_mae: 0.5605 - 257ms/epoch - 2ms/step\n",
            "Epoch 43/50\n",
            "153/153 - 0s - loss: 0.4981 - mae: 0.5510 - val_loss: 0.5329 - val_mae: 0.5596 - 253ms/epoch - 2ms/step\n",
            "Epoch 44/50\n",
            "153/153 - 0s - loss: 0.4987 - mae: 0.5500 - val_loss: 0.5388 - val_mae: 0.5626 - 250ms/epoch - 2ms/step\n",
            "Epoch 45/50\n",
            "153/153 - 0s - loss: 0.4978 - mae: 0.5511 - val_loss: 0.5403 - val_mae: 0.5653 - 249ms/epoch - 2ms/step\n",
            "Epoch 46/50\n",
            "153/153 - 0s - loss: 0.4963 - mae: 0.5500 - val_loss: 0.5322 - val_mae: 0.5586 - 251ms/epoch - 2ms/step\n",
            "Epoch 47/50\n",
            "153/153 - 0s - loss: 0.4973 - mae: 0.5510 - val_loss: 0.5353 - val_mae: 0.5596 - 243ms/epoch - 2ms/step\n",
            "Epoch 48/50\n",
            "153/153 - 0s - loss: 0.4972 - mae: 0.5500 - val_loss: 0.5314 - val_mae: 0.5596 - 266ms/epoch - 2ms/step\n",
            "Epoch 49/50\n",
            "153/153 - 0s - loss: 0.4967 - mae: 0.5507 - val_loss: 0.5345 - val_mae: 0.5617 - 254ms/epoch - 2ms/step\n",
            "Epoch 50/50\n",
            "153/153 - 0s - loss: 0.4961 - mae: 0.5500 - val_loss: 0.5313 - val_mae: 0.5595 - 272ms/epoch - 2ms/step\n",
            "Model: \"sequential\"\n",
            "_________________________________________________________________\n",
            " Layer (type)                Output Shape              Param #   \n",
            "=================================================================\n",
            " dense (Dense)               (None, 8)                 104       \n",
            "                                                                 \n",
            " dense_1 (Dense)             (None, 1)                 9         \n",
            "                                                                 \n",
            "=================================================================\n",
            "Total params: 113\n",
            "Trainable params: 113\n",
            "Non-trainable params: 0\n",
            "_________________________________________________________________\n",
            "Final Loss:  0.49609965085983276\n",
            "Final MAE:  0.5500217080116272\n",
            "Final Validation Loss:  0.5313270092010498\n",
            "Final Validation MAE:  0.5595497488975525\n"
          ]
        }
      ]
    },
    {
      "cell_type": "code",
      "source": [
        "def plot_model_history(model_history):\n",
        "  history_dict = model_history.history\n",
        "  history_dict.keys()\n",
        "\n",
        "  loss_values = history_dict[\"loss\"]\n",
        "  val_loss_values = history_dict[\"val_loss\"]\n",
        "\n",
        "  epochs = range(1, len(loss_values) + 1)\n",
        "\n",
        "\n",
        "  # Plot current data\n",
        "  plt.plot(epochs, loss_values, \"bo\", label=\"Training Loss\")\n",
        "  plt.plot(epochs, val_loss_values, \"b\", label=\"Validation Loss\")\n",
        "  plt.title(\"Training and Validation Loss\")\n",
        "  plt.xlabel(\"Epochs\")\n",
        "  plt.ylabel(\"Accuracy\")\n",
        "  plt.legend()\n",
        "  plt.show()\n",
        "  return"
      ],
      "metadata": {
        "id": "xnMledbiYd1K"
      },
      "execution_count": 4,
      "outputs": []
    },
    {
      "cell_type": "markdown",
      "source": [
        "Plotting Regression Model 1\n",
        "\n"
      ],
      "metadata": {
        "id": "qVemg7OQYeSW"
      }
    },
    {
      "cell_type": "code",
      "source": [
        "plot_model_history(regmodl1_history)"
      ],
      "metadata": {
        "id": "2PY3AbKfj4Gc",
        "outputId": "02907e8a-4b58-4f84-aabd-25987ea646d0",
        "colab": {
          "base_uri": "https://localhost:8080/",
          "height": 295
        }
      },
      "execution_count": null,
      "outputs": [
        {
          "output_type": "display_data",
          "data": {
            "image/png": "[encoded data removed]",
            "text/plain": [
              "<Figure size 432x288 with 1 Axes>"
            ]
          },
          "metadata": {
            "needs_background": "light"
          }
        }
      ]
    },
    {
      "cell_type": "markdown",
      "source": [
        "### Regression Model 2"
      ],
      "metadata": {
        "id": "mmbjOEY3K49F"
      }
    },
    {
      "cell_type": "code",
      "source": [
        "# reg mod 2\n",
        "def build_regmodl2():\n",
        "  model = keras.Sequential([\n",
        "    layers.Dense(128, activation=\"relu\"),\n",
        "    layers.Dense(64, activation=\"relu\"),\n",
        "    layers.Dense(30, activation=\"relu\"),\n",
        "    layers.Dense(5, activation=\"relu\"),\n",
        "    layers.Dense(1),\n",
        "  ])\n",
        "  model.compile(optimizer=\"rmsprop\", loss=\"mse\", metrics=[\"mae\"])\n",
        "  return model;\n",
        "\n",
        "regmodl2 = build_regmodl2();\n",
        "\n",
        "regmodl2_history = regmodl2.fit(x=copyTrain, y=y_train, epochs=50, verbose=2, validation_data=(copyVal, y_val))\n",
        "\n",
        "regmodl2.summary()\n",
        "\n",
        "PrintFinalValues(regmodl2_history)"
      ],
      "metadata": {
        "id": "4MAZXPzjl4sb",
        "colab": {
          "base_uri": "https://localhost:8080/"
        },
        "outputId": "45a23e3d-5dd1-4698-bada-e1da333ce3b6"
      },
      "execution_count": null,
      "outputs": [
        {
          "output_type": "stream",
          "name": "stdout",
          "text": [
            "Epoch 1/50\n",
            "153/153 - 2s - loss: 4.1630 - mae: 1.4357 - val_loss: 1.1416 - val_mae: 0.8054 - 2s/epoch - 15ms/step\n",
            "Epoch 2/50\n",
            "153/153 - 0s - loss: 0.7802 - mae: 0.6866 - val_loss: 0.9882 - val_mae: 0.7584 - 481ms/epoch - 3ms/step\n",
            "Epoch 3/50\n",
            "153/153 - 1s - loss: 0.6059 - mae: 0.6061 - val_loss: 0.5770 - val_mae: 0.5754 - 550ms/epoch - 4ms/step\n",
            "Epoch 4/50\n",
            "153/153 - 0s - loss: 0.5386 - mae: 0.5720 - val_loss: 0.6743 - val_mae: 0.6253 - 472ms/epoch - 3ms/step\n",
            "Epoch 5/50\n",
            "153/153 - 1s - loss: 0.5184 - mae: 0.5617 - val_loss: 0.7417 - val_mae: 0.6717 - 538ms/epoch - 4ms/step\n",
            "Epoch 6/50\n",
            "153/153 - 0s - loss: 0.5014 - mae: 0.5530 - val_loss: 0.6073 - val_mae: 0.6001 - 482ms/epoch - 3ms/step\n",
            "Epoch 7/50\n",
            "153/153 - 0s - loss: 0.4903 - mae: 0.5463 - val_loss: 0.5247 - val_mae: 0.5490 - 496ms/epoch - 3ms/step\n",
            "Epoch 8/50\n",
            "153/153 - 0s - loss: 0.4870 - mae: 0.5450 - val_loss: 0.6422 - val_mae: 0.6173 - 496ms/epoch - 3ms/step\n",
            "Epoch 9/50\n",
            "153/153 - 0s - loss: 0.4713 - mae: 0.5368 - val_loss: 0.7326 - val_mae: 0.6695 - 494ms/epoch - 3ms/step\n",
            "Epoch 10/50\n",
            "153/153 - 0s - loss: 0.4723 - mae: 0.5360 - val_loss: 0.5992 - val_mae: 0.5912 - 407ms/epoch - 3ms/step\n",
            "Epoch 11/50\n",
            "153/153 - 0s - loss: 0.4616 - mae: 0.5307 - val_loss: 0.6389 - val_mae: 0.6135 - 441ms/epoch - 3ms/step\n",
            "Epoch 12/50\n",
            "153/153 - 0s - loss: 0.4602 - mae: 0.5274 - val_loss: 0.7246 - val_mae: 0.6657 - 427ms/epoch - 3ms/step\n",
            "Epoch 13/50\n",
            "153/153 - 0s - loss: 0.4542 - mae: 0.5276 - val_loss: 0.5660 - val_mae: 0.5753 - 404ms/epoch - 3ms/step\n",
            "Epoch 14/50\n",
            "153/153 - 0s - loss: 0.4573 - mae: 0.5277 - val_loss: 0.5526 - val_mae: 0.5638 - 285ms/epoch - 2ms/step\n",
            "Epoch 15/50\n",
            "153/153 - 0s - loss: 0.4513 - mae: 0.5243 - val_loss: 0.5035 - val_mae: 0.5405 - 275ms/epoch - 2ms/step\n",
            "Epoch 16/50\n",
            "153/153 - 0s - loss: 0.4395 - mae: 0.5185 - val_loss: 0.5324 - val_mae: 0.5623 - 267ms/epoch - 2ms/step\n",
            "Epoch 17/50\n",
            "153/153 - 0s - loss: 0.4391 - mae: 0.5170 - val_loss: 0.6061 - val_mae: 0.5924 - 289ms/epoch - 2ms/step\n",
            "Epoch 18/50\n",
            "153/153 - 0s - loss: 0.4309 - mae: 0.5146 - val_loss: 0.5610 - val_mae: 0.5774 - 284ms/epoch - 2ms/step\n",
            "Epoch 19/50\n",
            "153/153 - 0s - loss: 0.4366 - mae: 0.5155 - val_loss: 0.7812 - val_mae: 0.6876 - 283ms/epoch - 2ms/step\n",
            "Epoch 20/50\n",
            "153/153 - 0s - loss: 0.4262 - mae: 0.5097 - val_loss: 0.6539 - val_mae: 0.6225 - 276ms/epoch - 2ms/step\n",
            "Epoch 21/50\n",
            "153/153 - 0s - loss: 0.4225 - mae: 0.5077 - val_loss: 0.5261 - val_mae: 0.5521 - 284ms/epoch - 2ms/step\n",
            "Epoch 22/50\n",
            "153/153 - 0s - loss: 0.4178 - mae: 0.5041 - val_loss: 0.5445 - val_mae: 0.5590 - 283ms/epoch - 2ms/step\n",
            "Epoch 23/50\n",
            "153/153 - 0s - loss: 0.4132 - mae: 0.5020 - val_loss: 0.6607 - val_mae: 0.6273 - 285ms/epoch - 2ms/step\n",
            "Epoch 24/50\n",
            "153/153 - 0s - loss: 0.4155 - mae: 0.5047 - val_loss: 0.5925 - val_mae: 0.5943 - 271ms/epoch - 2ms/step\n",
            "Epoch 25/50\n",
            "153/153 - 0s - loss: 0.4085 - mae: 0.4987 - val_loss: 0.6271 - val_mae: 0.6063 - 281ms/epoch - 2ms/step\n",
            "Epoch 26/50\n",
            "153/153 - 0s - loss: 0.4067 - mae: 0.4961 - val_loss: 0.7095 - val_mae: 0.6611 - 291ms/epoch - 2ms/step\n",
            "Epoch 27/50\n",
            "153/153 - 0s - loss: 0.4016 - mae: 0.4931 - val_loss: 0.5214 - val_mae: 0.5476 - 360ms/epoch - 2ms/step\n",
            "Epoch 28/50\n",
            "153/153 - 0s - loss: 0.4022 - mae: 0.4930 - val_loss: 0.5747 - val_mae: 0.5708 - 312ms/epoch - 2ms/step\n",
            "Epoch 29/50\n",
            "153/153 - 0s - loss: 0.3982 - mae: 0.4937 - val_loss: 0.5343 - val_mae: 0.5530 - 282ms/epoch - 2ms/step\n",
            "Epoch 30/50\n",
            "153/153 - 0s - loss: 0.3922 - mae: 0.4865 - val_loss: 0.6009 - val_mae: 0.5909 - 267ms/epoch - 2ms/step\n",
            "Epoch 31/50\n",
            "153/153 - 0s - loss: 0.3863 - mae: 0.4841 - val_loss: 0.5208 - val_mae: 0.5451 - 290ms/epoch - 2ms/step\n",
            "Epoch 32/50\n",
            "153/153 - 0s - loss: 0.3848 - mae: 0.4819 - val_loss: 0.5504 - val_mae: 0.5694 - 286ms/epoch - 2ms/step\n",
            "Epoch 33/50\n",
            "153/153 - 0s - loss: 0.3873 - mae: 0.4847 - val_loss: 0.6863 - val_mae: 0.6369 - 263ms/epoch - 2ms/step\n",
            "Epoch 34/50\n",
            "153/153 - 0s - loss: 0.3817 - mae: 0.4813 - val_loss: 0.5647 - val_mae: 0.5664 - 283ms/epoch - 2ms/step\n",
            "Epoch 35/50\n",
            "153/153 - 0s - loss: 0.3739 - mae: 0.4728 - val_loss: 0.5831 - val_mae: 0.5747 - 275ms/epoch - 2ms/step\n",
            "Epoch 36/50\n",
            "153/153 - 0s - loss: 0.3720 - mae: 0.4734 - val_loss: 0.5278 - val_mae: 0.5455 - 276ms/epoch - 2ms/step\n",
            "Epoch 37/50\n",
            "153/153 - 0s - loss: 0.3773 - mae: 0.4773 - val_loss: 0.5525 - val_mae: 0.5684 - 274ms/epoch - 2ms/step\n",
            "Epoch 38/50\n",
            "153/153 - 0s - loss: 0.3675 - mae: 0.4701 - val_loss: 0.5854 - val_mae: 0.5722 - 281ms/epoch - 2ms/step\n",
            "Epoch 39/50\n",
            "153/153 - 0s - loss: 0.3674 - mae: 0.4706 - val_loss: 0.6109 - val_mae: 0.5996 - 269ms/epoch - 2ms/step\n",
            "Epoch 40/50\n",
            "153/153 - 0s - loss: 0.3655 - mae: 0.4704 - val_loss: 0.5068 - val_mae: 0.5331 - 275ms/epoch - 2ms/step\n",
            "Epoch 41/50\n",
            "153/153 - 0s - loss: 0.3603 - mae: 0.4649 - val_loss: 0.5199 - val_mae: 0.5445 - 283ms/epoch - 2ms/step\n",
            "Epoch 42/50\n",
            "153/153 - 0s - loss: 0.3578 - mae: 0.4636 - val_loss: 0.6468 - val_mae: 0.6154 - 291ms/epoch - 2ms/step\n",
            "Epoch 43/50\n",
            "153/153 - 0s - loss: 0.3485 - mae: 0.4583 - val_loss: 0.5162 - val_mae: 0.5384 - 261ms/epoch - 2ms/step\n",
            "Epoch 44/50\n",
            "153/153 - 0s - loss: 0.3478 - mae: 0.4573 - val_loss: 0.5380 - val_mae: 0.5480 - 279ms/epoch - 2ms/step\n",
            "Epoch 45/50\n",
            "153/153 - 0s - loss: 0.3437 - mae: 0.4552 - val_loss: 0.5260 - val_mae: 0.5449 - 281ms/epoch - 2ms/step\n",
            "Epoch 46/50\n",
            "153/153 - 0s - loss: 0.3418 - mae: 0.4567 - val_loss: 0.5245 - val_mae: 0.5395 - 277ms/epoch - 2ms/step\n",
            "Epoch 47/50\n",
            "153/153 - 0s - loss: 0.3410 - mae: 0.4536 - val_loss: 0.5862 - val_mae: 0.5834 - 261ms/epoch - 2ms/step\n",
            "Epoch 48/50\n",
            "153/153 - 0s - loss: 0.3401 - mae: 0.4540 - val_loss: 0.5982 - val_mae: 0.5782 - 282ms/epoch - 2ms/step\n",
            "Epoch 49/50\n",
            "153/153 - 0s - loss: 0.3406 - mae: 0.4523 - val_loss: 0.5324 - val_mae: 0.5487 - 296ms/epoch - 2ms/step\n",
            "Epoch 50/50\n",
            "153/153 - 0s - loss: 0.3312 - mae: 0.4471 - val_loss: 0.5152 - val_mae: 0.5377 - 276ms/epoch - 2ms/step\n",
            "Model: \"sequential_14\"\n",
            "_________________________________________________________________\n",
            " Layer (type)                Output Shape              Param #   \n",
            "=================================================================\n",
            " dense_41 (Dense)            (None, 128)               1664      \n",
            "                                                                 \n",
            " dense_42 (Dense)            (None, 64)                8256      \n",
            "                                                                 \n",
            " dense_43 (Dense)            (None, 30)                1950      \n",
            "                                                                 \n",
            " dense_44 (Dense)            (None, 5)                 155       \n",
            "                                                                 \n",
            " dense_45 (Dense)            (None, 1)                 6         \n",
            "                                                                 \n",
            "=================================================================\n",
            "Total params: 12,031\n",
            "Trainable params: 12,031\n",
            "Non-trainable params: 0\n",
            "_________________________________________________________________\n",
            "Final Loss:  0.33119672536849976\n",
            "Final MAE:  0.4471225440502167\n",
            "Final Validation Loss:  0.515165388584137\n",
            "Final Validation MAE:  0.5376866459846497\n"
          ]
        }
      ]
    },
    {
      "cell_type": "markdown",
      "source": [
        "Plotting Regression Model 2"
      ],
      "metadata": {
        "id": "JRHjNr9xgXeT"
      }
    },
    {
      "cell_type": "code",
      "source": [
        "plot_model_history(regmodl2_history)"
      ],
      "metadata": {
        "id": "SNIWIhR2gaYN",
        "outputId": "1db3c2ed-e262-4027-8aaa-0503e7e263a8",
        "colab": {
          "base_uri": "https://localhost:8080/",
          "height": 295
        }
      },
      "execution_count": null,
      "outputs": [
        {
          "output_type": "display_data",
          "data": {
            "image/png": "[encoded data removed]",
            "text/plain": [
              "<Figure size 432x288 with 1 Axes>"
            ]
          },
          "metadata": {
            "needs_background": "light"
          }
        }
      ]
    },
    {
      "cell_type": "markdown",
      "source": [
        "### Regression Model 3"
      ],
      "metadata": {
        "id": "9bt4_Yz4K8e9"
      }
    },
    {
      "cell_type": "code",
      "source": [
        "# reg mod 3\n",
        "def build_regmodl3():\n",
        "  model = keras.Sequential([\n",
        "    layers.Dense(512, activation=\"relu\"),\n",
        "    layers.Dense(125, activation=\"relu\"),\n",
        "    layers.Dense(64, activation=\"relu\"),\n",
        "    layers.Dense(30, activation=\"relu\"),\n",
        "    layers.Dense(5, activation=\"relu\"),\n",
        "    layers.Dense(1)                    \n",
        "  ])\n",
        "  model.compile(optimizer=\"rmsprop\", loss=\"mse\", metrics=[\"mae\"])\n",
        "  return model;\n",
        "\n",
        "regmodl3 = build_regmodl3()\n",
        "\n",
        "regmodl3_history = regmodl3.fit(x=copyTrain, y=y_train, epochs=50, batch_size=16 ,verbose=2, validation_data=(copyVal, y_val))\n",
        "\n",
        "regmodl3.summary()\n",
        "\n",
        "PrintFinalValues(regmodl3_history)"
      ],
      "metadata": {
        "id": "FKRKSxhfAeWi",
        "colab": {
          "base_uri": "https://localhost:8080/"
        },
        "outputId": "9c7c538f-2e1e-4129-dfe1-34ffa3c0bba0"
      },
      "execution_count": 37,
      "outputs": [
        {
          "output_type": "stream",
          "name": "stdout",
          "text": [
            "Epoch 1/50\n",
            "305/305 - 4s - loss: 1.7736 - mae: 0.9158 - val_loss: 1.4294 - val_mae: 0.9435 - 4s/epoch - 13ms/step\n",
            "Epoch 2/50\n",
            "305/305 - 1s - loss: 0.7038 - mae: 0.6494 - val_loss: 0.8462 - val_mae: 0.7151 - 1s/epoch - 4ms/step\n",
            "Epoch 3/50\n",
            "305/305 - 1s - loss: 0.6263 - mae: 0.6154 - val_loss: 0.5847 - val_mae: 0.5907 - 823ms/epoch - 3ms/step\n",
            "Epoch 4/50\n",
            "305/305 - 1s - loss: 0.5867 - mae: 0.5989 - val_loss: 0.9572 - val_mae: 0.7761 - 831ms/epoch - 3ms/step\n",
            "Epoch 5/50\n",
            "305/305 - 1s - loss: 0.5663 - mae: 0.5898 - val_loss: 0.6424 - val_mae: 0.6196 - 797ms/epoch - 3ms/step\n",
            "Epoch 6/50\n",
            "305/305 - 1s - loss: 0.5474 - mae: 0.5789 - val_loss: 0.7320 - val_mae: 0.6759 - 831ms/epoch - 3ms/step\n",
            "Epoch 7/50\n",
            "305/305 - 1s - loss: 0.5272 - mae: 0.5685 - val_loss: 0.5847 - val_mae: 0.5982 - 798ms/epoch - 3ms/step\n",
            "Epoch 8/50\n",
            "305/305 - 1s - loss: 0.5247 - mae: 0.5637 - val_loss: 0.5446 - val_mae: 0.5808 - 785ms/epoch - 3ms/step\n",
            "Epoch 9/50\n",
            "305/305 - 1s - loss: 0.5051 - mae: 0.5550 - val_loss: 0.5202 - val_mae: 0.5557 - 808ms/epoch - 3ms/step\n",
            "Epoch 10/50\n",
            "305/305 - 1s - loss: 0.5049 - mae: 0.5510 - val_loss: 0.6410 - val_mae: 0.6187 - 863ms/epoch - 3ms/step\n",
            "Epoch 11/50\n",
            "305/305 - 1s - loss: 0.4994 - mae: 0.5541 - val_loss: 0.5106 - val_mae: 0.5512 - 806ms/epoch - 3ms/step\n",
            "Epoch 12/50\n",
            "305/305 - 1s - loss: 0.4828 - mae: 0.5423 - val_loss: 0.5363 - val_mae: 0.5734 - 816ms/epoch - 3ms/step\n",
            "Epoch 13/50\n",
            "305/305 - 1s - loss: 0.4838 - mae: 0.5410 - val_loss: 0.4793 - val_mae: 0.5317 - 827ms/epoch - 3ms/step\n",
            "Epoch 14/50\n",
            "305/305 - 1s - loss: 0.4672 - mae: 0.5312 - val_loss: 0.5279 - val_mae: 0.5596 - 816ms/epoch - 3ms/step\n",
            "Epoch 15/50\n",
            "305/305 - 1s - loss: 0.4635 - mae: 0.5311 - val_loss: 0.5076 - val_mae: 0.5547 - 806ms/epoch - 3ms/step\n",
            "Epoch 16/50\n",
            "305/305 - 1s - loss: 0.4634 - mae: 0.5317 - val_loss: 0.5146 - val_mae: 0.5559 - 801ms/epoch - 3ms/step\n",
            "Epoch 17/50\n",
            "305/305 - 1s - loss: 0.4528 - mae: 0.5219 - val_loss: 0.6944 - val_mae: 0.6617 - 779ms/epoch - 3ms/step\n",
            "Epoch 18/50\n",
            "305/305 - 1s - loss: 0.4514 - mae: 0.5237 - val_loss: 0.5263 - val_mae: 0.5643 - 822ms/epoch - 3ms/step\n",
            "Epoch 19/50\n",
            "305/305 - 1s - loss: 0.4455 - mae: 0.5204 - val_loss: 0.4906 - val_mae: 0.5332 - 797ms/epoch - 3ms/step\n",
            "Epoch 20/50\n",
            "305/305 - 1s - loss: 0.4392 - mae: 0.5186 - val_loss: 0.4866 - val_mae: 0.5413 - 819ms/epoch - 3ms/step\n",
            "Epoch 21/50\n",
            "305/305 - 1s - loss: 0.4281 - mae: 0.5108 - val_loss: 0.5041 - val_mae: 0.5446 - 801ms/epoch - 3ms/step\n",
            "Epoch 22/50\n",
            "305/305 - 1s - loss: 0.4276 - mae: 0.5107 - val_loss: 0.5315 - val_mae: 0.5622 - 815ms/epoch - 3ms/step\n",
            "Epoch 23/50\n",
            "305/305 - 1s - loss: 0.4210 - mae: 0.5058 - val_loss: 0.6675 - val_mae: 0.6397 - 828ms/epoch - 3ms/step\n",
            "Epoch 24/50\n",
            "305/305 - 1s - loss: 0.4203 - mae: 0.5059 - val_loss: 0.4947 - val_mae: 0.5379 - 816ms/epoch - 3ms/step\n",
            "Epoch 25/50\n",
            "305/305 - 1s - loss: 0.4105 - mae: 0.5003 - val_loss: 1.0404 - val_mae: 0.8207 - 842ms/epoch - 3ms/step\n",
            "Epoch 26/50\n",
            "305/305 - 1s - loss: 0.4102 - mae: 0.4969 - val_loss: 0.5935 - val_mae: 0.6043 - 792ms/epoch - 3ms/step\n",
            "Epoch 27/50\n",
            "305/305 - 1s - loss: 0.4009 - mae: 0.4935 - val_loss: 0.4946 - val_mae: 0.5463 - 808ms/epoch - 3ms/step\n",
            "Epoch 28/50\n",
            "305/305 - 1s - loss: 0.3955 - mae: 0.4885 - val_loss: 0.6422 - val_mae: 0.6223 - 813ms/epoch - 3ms/step\n",
            "Epoch 29/50\n",
            "305/305 - 1s - loss: 0.3963 - mae: 0.4908 - val_loss: 0.4900 - val_mae: 0.5351 - 820ms/epoch - 3ms/step\n",
            "Epoch 30/50\n",
            "305/305 - 1s - loss: 0.3921 - mae: 0.4867 - val_loss: 0.7338 - val_mae: 0.6810 - 813ms/epoch - 3ms/step\n",
            "Epoch 31/50\n",
            "305/305 - 1s - loss: 0.3797 - mae: 0.4783 - val_loss: 0.5027 - val_mae: 0.5409 - 832ms/epoch - 3ms/step\n",
            "Epoch 32/50\n",
            "305/305 - 1s - loss: 0.3822 - mae: 0.4785 - val_loss: 0.5532 - val_mae: 0.5803 - 798ms/epoch - 3ms/step\n",
            "Epoch 33/50\n",
            "305/305 - 1s - loss: 0.3782 - mae: 0.4756 - val_loss: 0.5145 - val_mae: 0.5520 - 821ms/epoch - 3ms/step\n",
            "Epoch 34/50\n",
            "305/305 - 1s - loss: 0.3777 - mae: 0.4759 - val_loss: 0.6070 - val_mae: 0.6068 - 823ms/epoch - 3ms/step\n",
            "Epoch 35/50\n",
            "305/305 - 1s - loss: 0.3633 - mae: 0.4652 - val_loss: 0.5332 - val_mae: 0.5668 - 851ms/epoch - 3ms/step\n",
            "Epoch 36/50\n",
            "305/305 - 1s - loss: 0.3622 - mae: 0.4674 - val_loss: 0.7532 - val_mae: 0.6867 - 839ms/epoch - 3ms/step\n",
            "Epoch 37/50\n",
            "305/305 - 1s - loss: 0.3610 - mae: 0.4633 - val_loss: 0.5958 - val_mae: 0.5933 - 816ms/epoch - 3ms/step\n",
            "Epoch 38/50\n",
            "305/305 - 1s - loss: 0.3540 - mae: 0.4592 - val_loss: 0.5464 - val_mae: 0.5687 - 851ms/epoch - 3ms/step\n",
            "Epoch 39/50\n",
            "305/305 - 1s - loss: 0.3548 - mae: 0.4586 - val_loss: 0.5195 - val_mae: 0.5477 - 842ms/epoch - 3ms/step\n",
            "Epoch 40/50\n",
            "305/305 - 1s - loss: 0.3514 - mae: 0.4571 - val_loss: 0.4956 - val_mae: 0.5322 - 848ms/epoch - 3ms/step\n",
            "Epoch 41/50\n",
            "305/305 - 1s - loss: 0.3394 - mae: 0.4540 - val_loss: 0.5410 - val_mae: 0.5717 - 837ms/epoch - 3ms/step\n",
            "Epoch 42/50\n",
            "305/305 - 1s - loss: 0.3336 - mae: 0.4444 - val_loss: 0.5699 - val_mae: 0.5838 - 850ms/epoch - 3ms/step\n",
            "Epoch 43/50\n",
            "305/305 - 1s - loss: 0.3383 - mae: 0.4461 - val_loss: 0.5928 - val_mae: 0.5950 - 814ms/epoch - 3ms/step\n",
            "Epoch 44/50\n",
            "305/305 - 1s - loss: 0.3263 - mae: 0.4406 - val_loss: 0.5044 - val_mae: 0.5411 - 857ms/epoch - 3ms/step\n",
            "Epoch 45/50\n",
            "305/305 - 1s - loss: 0.3315 - mae: 0.4452 - val_loss: 0.5663 - val_mae: 0.5828 - 817ms/epoch - 3ms/step\n",
            "Epoch 46/50\n",
            "305/305 - 1s - loss: 0.3215 - mae: 0.4365 - val_loss: 0.5283 - val_mae: 0.5603 - 833ms/epoch - 3ms/step\n",
            "Epoch 47/50\n",
            "305/305 - 1s - loss: 0.3177 - mae: 0.4342 - val_loss: 0.5021 - val_mae: 0.5379 - 829ms/epoch - 3ms/step\n",
            "Epoch 48/50\n",
            "305/305 - 1s - loss: 0.3131 - mae: 0.4311 - val_loss: 0.5493 - val_mae: 0.5629 - 823ms/epoch - 3ms/step\n",
            "Epoch 49/50\n",
            "305/305 - 1s - loss: 0.3144 - mae: 0.4308 - val_loss: 0.5877 - val_mae: 0.5917 - 850ms/epoch - 3ms/step\n",
            "Epoch 50/50\n",
            "305/305 - 1s - loss: 0.3110 - mae: 0.4305 - val_loss: 0.5036 - val_mae: 0.5364 - 850ms/epoch - 3ms/step\n",
            "Model: \"sequential_11\"\n",
            "_________________________________________________________________\n",
            " Layer (type)                Output Shape              Param #   \n",
            "=================================================================\n",
            " dense_62 (Dense)            (None, 512)               6656      \n",
            "                                                                 \n",
            " dense_63 (Dense)            (None, 125)               64125     \n",
            "                                                                 \n",
            " dense_64 (Dense)            (None, 64)                8064      \n",
            "                                                                 \n",
            " dense_65 (Dense)            (None, 30)                1950      \n",
            "                                                                 \n",
            " dense_66 (Dense)            (None, 5)                 155       \n",
            "                                                                 \n",
            " dense_67 (Dense)            (None, 1)                 6         \n",
            "                                                                 \n",
            "=================================================================\n",
            "Total params: 80,956\n",
            "Trainable params: 80,956\n",
            "Non-trainable params: 0\n",
            "_________________________________________________________________\n",
            "Final Loss:  0.31104376912117004\n",
            "Final MAE:  0.43048617243766785\n",
            "Final Validation Loss:  0.5036171078681946\n",
            "Final Validation MAE:  0.5363698601722717\n"
          ]
        }
      ]
    },
    {
      "cell_type": "markdown",
      "source": [
        "Plotting Regression Model 3"
      ],
      "metadata": {
        "id": "8Oyf18uLLAzf"
      }
    },
    {
      "cell_type": "code",
      "source": [
        "plot_model_history(regmodl3_history)"
      ],
      "metadata": {
        "colab": {
          "base_uri": "https://localhost:8080/",
          "height": 295
        },
        "id": "e5XlSgPELE18",
        "outputId": "a9e481fe-b7cc-40e5-afc2-0f72aadf7f51"
      },
      "execution_count": 38,
      "outputs": [
        {
          "output_type": "display_data",
          "data": {
            "text/plain": [
              "<Figure size 432x288 with 1 Axes>"
            ],
            "image/png": "[encoded data removed]"
          },
          "metadata": {
            "needs_background": "light"
          }
        }
      ]
    },
    {
      "cell_type": "code",
      "source": [
        "from prettytable import PrettyTable\n",
        "\n",
        "predictions = regmodl3.predict(copyTest)\n",
        "\n",
        "table = PrettyTable(['Pattern #', 'f1', 'f2', 'f3', 'f4', 'f5', 'f6', 'f7', 'f8', 'f9', 'f10', 'f11', 'f12', 'Activation', 'Target', 'Error'])\n",
        "\n",
        "\n",
        "for i in range(10):\n",
        "  error = abs(predictions[i] - y_tst[i])\n",
        "  table.add_row([i + 1, Xtst[i][0], Xtst[i][1], Xtst[i][2], Xtst[i][3], Xtst[i][4], Xtst[i][5], Xtst[i][6], Xtst[i][7], Xtst[i][8], Xtst[i][9], Xtst[i][10], Xtst[i][11], predictions[i], y_tst[i], error])\n",
        "\n",
        "print(table)"
      ],
      "metadata": {
        "colab": {
          "base_uri": "https://localhost:8080/"
        },
        "id": "GmgGdwnGObc-",
        "outputId": "ec615e84-c95c-433e-936d-41e924e4b7ee"
      },
      "execution_count": 39,
      "outputs": [
        {
          "output_type": "stream",
          "name": "stdout",
          "text": [
            "+-----------+-----+------+------+------+-------+------+-------+---------+------+------+------------------+-----+-------------+--------+--------------+\n",
            "| Pattern # |  f1 |  f2  |  f3  |  f4  |   f5  |  f6  |   f7  |    f8   |  f9  | f10  |       f11        | f12 |  Activation | Target |    Error     |\n",
            "+-----------+-----+------+------+------+-------+------+-------+---------+------+------+------------------+-----+-------------+--------+--------------+\n",
            "|     1     | 7.4 | 0.44 | 0.2  | 11.5 | 0.049 | 44.0 | 157.0 |  0.998  | 3.27 | 0.44 |       9.0        | 0.0 |  [5.155135] |   5    | [0.15513515] |\n",
            "|     2     | 6.5 | 0.23 | 0.36 | 16.3 | 0.038 | 43.0 | 133.0 | 0.99924 | 3.26 | 0.41 |       8.8        | 0.0 |  [5.797811] |   5    | [0.79781103] |\n",
            "|     3     | 5.6 | 0.41 | 0.24 | 1.9  | 0.034 | 10.0 |  53.0 | 0.98815 | 3.32 | 0.5  |       13.5       | 0.0 |  [6.074568] |   7    | [0.9254322]  |\n",
            "|     4     | 6.4 | 0.67 | 0.08 | 2.1  | 0.045 | 19.0 |  48.0 |  0.9949 | 3.49 | 0.49 |       11.4       | 1.0 |  [5.343272] |   6    | [0.6567278]  |\n",
            "|     5     | 6.8 | 0.18 | 0.37 | 1.6  | 0.055 | 47.0 | 154.0 |  0.9934 | 3.08 | 0.45 |       9.1        | 0.0 | [6.4746585] |   5    | [1.4746585]  |\n",
            "|     6     | 6.9 | 0.41 | 0.33 | 10.1 | 0.043 | 28.0 | 152.0 |  0.9968 | 3.2  | 0.52 |       9.4        | 0.0 | [5.1060514] |   5    | [0.10605145] |\n",
            "|     7     | 5.9 | 0.32 | 0.33 | 2.1  | 0.027 | 35.0 | 138.0 | 0.98945 | 3.37 | 0.42 |       12.7       | 0.0 | [6.8612394] |   6    | [0.86123943] |\n",
            "|     8     | 6.0 | 0.24 | 0.41 | 1.3  | 0.036 | 42.0 | 118.0 | 0.99018 | 3.04 | 0.64 | 11.7333333333333 | 0.0 | [5.8346086] |   6    | [0.16539145] |\n",
            "|     9     | 7.3 | 0.48 | 0.32 | 2.1  | 0.062 | 31.0 |  54.0 | 0.99728 | 3.3  | 0.65 |       10.0       | 1.0 |  [6.249535] |   7    | [0.7504649]  |\n",
            "|     10    | 7.4 | 0.24 | 0.22 | 10.7 | 0.042 | 26.0 |  81.0 |  0.9954 | 2.86 | 0.36 |       9.7        | 0.0 |  [6.300117] |   6    | [0.30011702] |\n",
            "+-----------+-----+------+------+------+-------+------+-------+---------+------+------+------------------+-----+-------------+--------+--------------+\n"
          ]
        }
      ]
    },
    {
      "cell_type": "markdown",
      "source": [
        "# Part 3: Classification Model\n"
      ],
      "metadata": {
        "id": "PyD1poH4gTyy"
      }
    },
    {
      "cell_type": "code",
      "source": [
        "import copy\n",
        "\n",
        "def predict_hit_ratio():\n",
        "  val_labels_copy = copy.copy(y_val)\n",
        "  np.random.shuffle(val_labels_copy)\n",
        "  hits_array = np.array(y_val) == np.array(val_labels_copy)\n",
        "  return hits_array.mean()"
      ],
      "metadata": {
        "id": "0OJ__Hwciw2k"
      },
      "execution_count": 46,
      "outputs": []
    },
    {
      "cell_type": "markdown",
      "source": [
        "Random Classifier Prediction"
      ],
      "metadata": {
        "id": "_3fB_Ki5RscC"
      }
    },
    {
      "cell_type": "code",
      "source": [
        "print(\"Predicted Hit Ratio: \", predict_hit_ratio())"
      ],
      "metadata": {
        "id": "Di4ue8YXRqho",
        "outputId": "654186fd-0316-4b04-88a0-14cc2cecd5a4",
        "colab": {
          "base_uri": "https://localhost:8080/"
        }
      },
      "execution_count": 47,
      "outputs": [
        {
          "output_type": "stream",
          "name": "stdout",
          "text": [
            "Predicted Hit Ratio:  0.3170278637770898\n"
          ]
        }
      ]
    },
    {
      "cell_type": "markdown",
      "source": [
        "### Classification Model 1"
      ],
      "metadata": {
        "id": "YiAOiEL1gzC4"
      }
    },
    {
      "cell_type": "code",
      "source": [
        "def build_clasmod1():\n",
        "  model = keras.Sequential([\n",
        "    layers.Dense(8,  activation=\"relu\"),\n",
        "    layers.Dense(4,  activation=\"softmax\")\n",
        "  ])\n",
        "  model.compile(optimizer=\"rmsprop\", loss=\"categorical_crossentropy\", metrics=[\"accuracy\"]) \n",
        "  return model\n",
        "\n",
        "\n",
        "def PrintClassificationFinal(model_history):\n",
        "  history_dict = model_history.history\n",
        "  loss_values = history_dict['loss']\n",
        "  accuracy_values = history_dict['accuracy']\n",
        "  val_loss_values = history_dict['val_loss']\n",
        "  val_accuracy_values = history_dict['val_accuracy']\n",
        "\n",
        "  print(\"Final Loss: \", loss_values[len(loss_values) - 1])\n",
        "  print(\"Final Accuracy: \", accuracy_values[len(accuracy_values) - 1])\n",
        "  print(\"Final Validation Loss: \", val_loss_values[len(val_loss_values) - 1])\n",
        "  print(\"Final Validation Accuracy: \", val_accuracy_values[len(val_accuracy_values) - 1])\n",
        "\n",
        "clasmodl1 = build_clasmod1()\n",
        "\n",
        "clasmodl1_history = clasmodl1.fit(x=Xtrain, y=one_hot_train_labels, epochs=50, verbose=2, validation_data=(Xval,one_hot_val_labels), validation_freq=1)\n",
        "\n",
        "clasmodl1.summary()\n",
        "\n",
        "PrintClassificationFinal(clasmodl1_history)"
      ],
      "metadata": {
        "id": "WtxZSngFg18y",
        "colab": {
          "base_uri": "https://localhost:8080/"
        },
        "outputId": "64189020-eef3-4589-ff6a-ec920ed95bfd"
      },
      "execution_count": 48,
      "outputs": [
        {
          "output_type": "stream",
          "name": "stdout",
          "text": [
            "Epoch 1/50\n",
            "153/153 - 1s - loss: 1.6509 - accuracy: 0.6340 - val_loss: 0.6015 - val_accuracy: 0.7827 - 841ms/epoch - 5ms/step\n",
            "Epoch 2/50\n",
            "153/153 - 0s - loss: 0.5425 - accuracy: 0.8040 - val_loss: 0.5740 - val_accuracy: 0.7833 - 260ms/epoch - 2ms/step\n",
            "Epoch 3/50\n",
            "153/153 - 0s - loss: 0.5278 - accuracy: 0.8038 - val_loss: 0.5571 - val_accuracy: 0.7839 - 264ms/epoch - 2ms/step\n",
            "Epoch 4/50\n",
            "153/153 - 0s - loss: 0.5135 - accuracy: 0.8038 - val_loss: 0.5533 - val_accuracy: 0.7839 - 277ms/epoch - 2ms/step\n",
            "Epoch 5/50\n",
            "153/153 - 0s - loss: 0.5064 - accuracy: 0.8040 - val_loss: 0.5460 - val_accuracy: 0.7839 - 265ms/epoch - 2ms/step\n",
            "Epoch 6/50\n",
            "153/153 - 0s - loss: 0.4999 - accuracy: 0.8048 - val_loss: 0.5441 - val_accuracy: 0.7839 - 256ms/epoch - 2ms/step\n",
            "Epoch 7/50\n",
            "153/153 - 0s - loss: 0.4988 - accuracy: 0.8046 - val_loss: 0.5589 - val_accuracy: 0.7839 - 270ms/epoch - 2ms/step\n",
            "Epoch 8/50\n",
            "153/153 - 0s - loss: 0.4903 - accuracy: 0.8060 - val_loss: 0.5328 - val_accuracy: 0.7839 - 287ms/epoch - 2ms/step\n",
            "Epoch 9/50\n",
            "153/153 - 0s - loss: 0.4920 - accuracy: 0.8060 - val_loss: 0.5369 - val_accuracy: 0.7907 - 256ms/epoch - 2ms/step\n",
            "Epoch 10/50\n",
            "153/153 - 0s - loss: 0.4879 - accuracy: 0.8050 - val_loss: 0.5681 - val_accuracy: 0.7839 - 251ms/epoch - 2ms/step\n",
            "Epoch 11/50\n",
            "153/153 - 0s - loss: 0.4852 - accuracy: 0.8060 - val_loss: 0.5239 - val_accuracy: 0.7839 - 240ms/epoch - 2ms/step\n",
            "Epoch 12/50\n",
            "153/153 - 0s - loss: 0.4800 - accuracy: 0.8067 - val_loss: 0.5268 - val_accuracy: 0.7845 - 264ms/epoch - 2ms/step\n",
            "Epoch 13/50\n",
            "153/153 - 0s - loss: 0.4791 - accuracy: 0.8044 - val_loss: 0.6220 - val_accuracy: 0.7839 - 248ms/epoch - 2ms/step\n",
            "Epoch 14/50\n",
            "153/153 - 0s - loss: 0.4815 - accuracy: 0.8060 - val_loss: 0.5251 - val_accuracy: 0.7851 - 276ms/epoch - 2ms/step\n",
            "Epoch 15/50\n",
            "153/153 - 0s - loss: 0.4774 - accuracy: 0.8056 - val_loss: 0.5176 - val_accuracy: 0.7876 - 253ms/epoch - 2ms/step\n",
            "Epoch 16/50\n",
            "153/153 - 0s - loss: 0.4760 - accuracy: 0.8073 - val_loss: 0.5393 - val_accuracy: 0.7969 - 261ms/epoch - 2ms/step\n",
            "Epoch 17/50\n",
            "153/153 - 0s - loss: 0.4717 - accuracy: 0.8075 - val_loss: 0.5958 - val_accuracy: 0.7839 - 251ms/epoch - 2ms/step\n",
            "Epoch 18/50\n",
            "153/153 - 0s - loss: 0.4746 - accuracy: 0.8081 - val_loss: 0.5265 - val_accuracy: 0.7858 - 247ms/epoch - 2ms/step\n",
            "Epoch 19/50\n",
            "153/153 - 0s - loss: 0.4713 - accuracy: 0.8095 - val_loss: 0.5547 - val_accuracy: 0.7858 - 255ms/epoch - 2ms/step\n",
            "Epoch 20/50\n",
            "153/153 - 0s - loss: 0.4743 - accuracy: 0.8058 - val_loss: 0.5378 - val_accuracy: 0.7845 - 259ms/epoch - 2ms/step\n",
            "Epoch 21/50\n",
            "153/153 - 0s - loss: 0.4675 - accuracy: 0.8054 - val_loss: 0.5273 - val_accuracy: 0.7994 - 259ms/epoch - 2ms/step\n",
            "Epoch 22/50\n",
            "153/153 - 0s - loss: 0.4670 - accuracy: 0.8056 - val_loss: 0.5375 - val_accuracy: 0.7833 - 240ms/epoch - 2ms/step\n",
            "Epoch 23/50\n",
            "153/153 - 0s - loss: 0.4688 - accuracy: 0.8042 - val_loss: 0.5599 - val_accuracy: 0.7845 - 258ms/epoch - 2ms/step\n",
            "Epoch 24/50\n",
            "153/153 - 0s - loss: 0.4659 - accuracy: 0.8023 - val_loss: 0.5302 - val_accuracy: 0.7950 - 268ms/epoch - 2ms/step\n",
            "Epoch 25/50\n",
            "153/153 - 0s - loss: 0.4670 - accuracy: 0.8044 - val_loss: 0.5101 - val_accuracy: 0.7932 - 263ms/epoch - 2ms/step\n",
            "Epoch 26/50\n",
            "153/153 - 0s - loss: 0.4672 - accuracy: 0.8058 - val_loss: 0.5467 - val_accuracy: 0.7932 - 384ms/epoch - 3ms/step\n",
            "Epoch 27/50\n",
            "153/153 - 0s - loss: 0.4633 - accuracy: 0.8093 - val_loss: 0.5763 - val_accuracy: 0.7591 - 482ms/epoch - 3ms/step\n",
            "Epoch 28/50\n",
            "153/153 - 0s - loss: 0.4645 - accuracy: 0.8067 - val_loss: 0.5473 - val_accuracy: 0.7839 - 491ms/epoch - 3ms/step\n",
            "Epoch 29/50\n",
            "153/153 - 1s - loss: 0.4627 - accuracy: 0.8079 - val_loss: 0.5187 - val_accuracy: 0.7889 - 688ms/epoch - 4ms/step\n",
            "Epoch 30/50\n",
            "153/153 - 1s - loss: 0.4627 - accuracy: 0.8060 - val_loss: 0.5114 - val_accuracy: 0.7981 - 556ms/epoch - 4ms/step\n",
            "Epoch 31/50\n",
            "153/153 - 1s - loss: 0.4626 - accuracy: 0.8079 - val_loss: 0.5092 - val_accuracy: 0.7988 - 599ms/epoch - 4ms/step\n",
            "Epoch 32/50\n",
            "153/153 - 1s - loss: 0.4622 - accuracy: 0.8060 - val_loss: 0.5465 - val_accuracy: 0.7858 - 561ms/epoch - 4ms/step\n",
            "Epoch 33/50\n",
            "153/153 - 0s - loss: 0.4610 - accuracy: 0.8112 - val_loss: 0.5099 - val_accuracy: 0.7907 - 487ms/epoch - 3ms/step\n",
            "Epoch 34/50\n",
            "153/153 - 1s - loss: 0.4599 - accuracy: 0.8071 - val_loss: 0.5018 - val_accuracy: 0.7944 - 572ms/epoch - 4ms/step\n",
            "Epoch 35/50\n",
            "153/153 - 0s - loss: 0.4561 - accuracy: 0.8048 - val_loss: 0.5213 - val_accuracy: 0.7963 - 458ms/epoch - 3ms/step\n",
            "Epoch 36/50\n",
            "153/153 - 0s - loss: 0.4556 - accuracy: 0.8106 - val_loss: 0.5031 - val_accuracy: 0.7926 - 471ms/epoch - 3ms/step\n",
            "Epoch 37/50\n",
            "153/153 - 0s - loss: 0.4561 - accuracy: 0.8101 - val_loss: 0.5735 - val_accuracy: 0.7839 - 430ms/epoch - 3ms/step\n",
            "Epoch 38/50\n",
            "153/153 - 1s - loss: 0.4574 - accuracy: 0.8103 - val_loss: 0.5032 - val_accuracy: 0.8062 - 567ms/epoch - 4ms/step\n",
            "Epoch 39/50\n",
            "153/153 - 1s - loss: 0.4565 - accuracy: 0.8073 - val_loss: 0.5006 - val_accuracy: 0.7901 - 791ms/epoch - 5ms/step\n",
            "Epoch 40/50\n",
            "153/153 - 1s - loss: 0.4540 - accuracy: 0.8103 - val_loss: 0.5561 - val_accuracy: 0.7864 - 704ms/epoch - 5ms/step\n",
            "Epoch 41/50\n",
            "153/153 - 1s - loss: 0.4556 - accuracy: 0.8118 - val_loss: 0.5012 - val_accuracy: 0.7963 - 508ms/epoch - 3ms/step\n",
            "Epoch 42/50\n",
            "153/153 - 0s - loss: 0.4531 - accuracy: 0.8064 - val_loss: 0.4976 - val_accuracy: 0.7969 - 472ms/epoch - 3ms/step\n",
            "Epoch 43/50\n",
            "153/153 - 1s - loss: 0.4544 - accuracy: 0.8075 - val_loss: 0.5254 - val_accuracy: 0.7882 - 517ms/epoch - 3ms/step\n",
            "Epoch 44/50\n",
            "153/153 - 1s - loss: 0.4509 - accuracy: 0.8099 - val_loss: 0.5386 - val_accuracy: 0.7882 - 501ms/epoch - 3ms/step\n",
            "Epoch 45/50\n",
            "153/153 - 0s - loss: 0.4520 - accuracy: 0.8077 - val_loss: 0.5036 - val_accuracy: 0.7932 - 369ms/epoch - 2ms/step\n",
            "Epoch 46/50\n",
            "153/153 - 0s - loss: 0.4524 - accuracy: 0.8103 - val_loss: 0.5032 - val_accuracy: 0.7994 - 385ms/epoch - 3ms/step\n",
            "Epoch 47/50\n",
            "153/153 - 0s - loss: 0.4539 - accuracy: 0.8087 - val_loss: 0.5044 - val_accuracy: 0.7895 - 348ms/epoch - 2ms/step\n",
            "Epoch 48/50\n",
            "153/153 - 0s - loss: 0.4521 - accuracy: 0.8083 - val_loss: 0.4978 - val_accuracy: 0.8000 - 243ms/epoch - 2ms/step\n",
            "Epoch 49/50\n",
            "153/153 - 0s - loss: 0.4510 - accuracy: 0.8120 - val_loss: 0.5156 - val_accuracy: 0.7901 - 266ms/epoch - 2ms/step\n",
            "Epoch 50/50\n",
            "153/153 - 0s - loss: 0.4507 - accuracy: 0.8134 - val_loss: 0.5261 - val_accuracy: 0.7882 - 255ms/epoch - 2ms/step\n",
            "Model: \"sequential_16\"\n",
            "_________________________________________________________________\n",
            " Layer (type)                Output Shape              Param #   \n",
            "=================================================================\n",
            " dense_76 (Dense)            (None, 8)                 104       \n",
            "                                                                 \n",
            " dense_77 (Dense)            (None, 4)                 36        \n",
            "                                                                 \n",
            "=================================================================\n",
            "Total params: 140\n",
            "Trainable params: 140\n",
            "Non-trainable params: 0\n",
            "_________________________________________________________________\n",
            "Final Loss:  0.45066380500793457\n",
            "Final Accuracy:  0.8134236335754395\n",
            "Final Validation Loss:  0.5260767340660095\n",
            "Final Validation Accuracy:  0.7882353067398071\n"
          ]
        }
      ]
    },
    {
      "cell_type": "code",
      "source": [
        "plot_model_history(clasmodl1_history)"
      ],
      "metadata": {
        "id": "YtqhflJ_x_D2",
        "colab": {
          "base_uri": "https://localhost:8080/",
          "height": 295
        },
        "outputId": "92d29ac5-efc6-4b2f-d8d9-2c497047ec0a"
      },
      "execution_count": 50,
      "outputs": [
        {
          "output_type": "display_data",
          "data": {
            "text/plain": [
              "<Figure size 432x288 with 1 Axes>"
            ],
            "image/png": "[encoded data removed]"
          },
          "metadata": {
            "needs_background": "light"
          }
        }
      ]
    },
    {
      "cell_type": "markdown",
      "source": [
        "## Classification Model 2"
      ],
      "metadata": {
        "id": "LPufeNyog7yY"
      }
    },
    {
      "cell_type": "code",
      "source": [
        "# Model number 2\n",
        "def build_clasmod2():\n",
        "  model = keras.Sequential([\n",
        "    layers.Dense(32,  activation=\"relu\"),\n",
        "    layers.Dense(8, activation=\"relu\"),\n",
        "    layers.Dense(4,  activation=\"softmax\")\n",
        "  ])\n",
        "  model.compile(optimizer=\"rmsprop\", loss=\"categorical_crossentropy\", metrics=[\"accuracy\"]) \n",
        "  return model\n",
        "\n",
        "clasmodl2 = build_clasmod2()\n",
        "\n",
        "clasmodl2_history = clasmodl2.fit(x=Xtrain, y=one_hot_train_labels, epochs=50, verbose=2, validation_data=(Xval,one_hot_val_labels), validation_freq=1)\n",
        "\n",
        "clasmodl2.summary()\n",
        "\n",
        "PrintClassificationFinal(clasmodl2_history)"
      ],
      "metadata": {
        "id": "E41xCAOog9VF",
        "colab": {
          "base_uri": "https://localhost:8080/"
        },
        "outputId": "970df3bf-f968-48f1-a2f0-17493189b011"
      },
      "execution_count": 54,
      "outputs": [
        {
          "output_type": "stream",
          "name": "stdout",
          "text": [
            "Epoch 1/50\n",
            "153/153 - 1s - loss: 0.8617 - accuracy: 0.7646 - val_loss: 0.7724 - val_accuracy: 0.7839 - 974ms/epoch - 6ms/step\n",
            "Epoch 2/50\n",
            "153/153 - 0s - loss: 0.6259 - accuracy: 0.8021 - val_loss: 0.6327 - val_accuracy: 0.7839 - 273ms/epoch - 2ms/step\n",
            "Epoch 3/50\n",
            "153/153 - 0s - loss: 0.5561 - accuracy: 0.8034 - val_loss: 0.6028 - val_accuracy: 0.7839 - 359ms/epoch - 2ms/step\n",
            "Epoch 4/50\n",
            "153/153 - 0s - loss: 0.5312 - accuracy: 0.8036 - val_loss: 0.5767 - val_accuracy: 0.7839 - 293ms/epoch - 2ms/step\n",
            "Epoch 5/50\n",
            "153/153 - 0s - loss: 0.5177 - accuracy: 0.8030 - val_loss: 0.5918 - val_accuracy: 0.7740 - 279ms/epoch - 2ms/step\n",
            "Epoch 6/50\n",
            "153/153 - 0s - loss: 0.5105 - accuracy: 0.8019 - val_loss: 0.5739 - val_accuracy: 0.7839 - 269ms/epoch - 2ms/step\n",
            "Epoch 7/50\n",
            "153/153 - 0s - loss: 0.5035 - accuracy: 0.8042 - val_loss: 0.5937 - val_accuracy: 0.7839 - 282ms/epoch - 2ms/step\n",
            "Epoch 8/50\n",
            "153/153 - 0s - loss: 0.4999 - accuracy: 0.8021 - val_loss: 0.5753 - val_accuracy: 0.7839 - 272ms/epoch - 2ms/step\n",
            "Epoch 9/50\n",
            "153/153 - 0s - loss: 0.4941 - accuracy: 0.8021 - val_loss: 0.5346 - val_accuracy: 0.7833 - 281ms/epoch - 2ms/step\n",
            "Epoch 10/50\n",
            "153/153 - 0s - loss: 0.4873 - accuracy: 0.8044 - val_loss: 0.6246 - val_accuracy: 0.7839 - 262ms/epoch - 2ms/step\n",
            "Epoch 11/50\n",
            "153/153 - 0s - loss: 0.4862 - accuracy: 0.8009 - val_loss: 0.5458 - val_accuracy: 0.7876 - 269ms/epoch - 2ms/step\n",
            "Epoch 12/50\n",
            "153/153 - 0s - loss: 0.4865 - accuracy: 0.8005 - val_loss: 0.5544 - val_accuracy: 0.7839 - 262ms/epoch - 2ms/step\n",
            "Epoch 13/50\n",
            "153/153 - 0s - loss: 0.4807 - accuracy: 0.7989 - val_loss: 0.5239 - val_accuracy: 0.7814 - 257ms/epoch - 2ms/step\n",
            "Epoch 14/50\n",
            "153/153 - 0s - loss: 0.4775 - accuracy: 0.8058 - val_loss: 0.5394 - val_accuracy: 0.7851 - 260ms/epoch - 2ms/step\n",
            "Epoch 15/50\n",
            "153/153 - 0s - loss: 0.4762 - accuracy: 0.8050 - val_loss: 0.5334 - val_accuracy: 0.7920 - 282ms/epoch - 2ms/step\n",
            "Epoch 16/50\n",
            "153/153 - 0s - loss: 0.4728 - accuracy: 0.8023 - val_loss: 0.5672 - val_accuracy: 0.7839 - 259ms/epoch - 2ms/step\n",
            "Epoch 17/50\n",
            "153/153 - 0s - loss: 0.4741 - accuracy: 0.8032 - val_loss: 0.5586 - val_accuracy: 0.7833 - 273ms/epoch - 2ms/step\n",
            "Epoch 18/50\n",
            "153/153 - 0s - loss: 0.4771 - accuracy: 0.8019 - val_loss: 0.5431 - val_accuracy: 0.7814 - 270ms/epoch - 2ms/step\n",
            "Epoch 19/50\n",
            "153/153 - 0s - loss: 0.4718 - accuracy: 0.8052 - val_loss: 0.6472 - val_accuracy: 0.7839 - 282ms/epoch - 2ms/step\n",
            "Epoch 20/50\n",
            "153/153 - 0s - loss: 0.4714 - accuracy: 0.8036 - val_loss: 0.5296 - val_accuracy: 0.7957 - 265ms/epoch - 2ms/step\n",
            "Epoch 21/50\n",
            "153/153 - 0s - loss: 0.4663 - accuracy: 0.8052 - val_loss: 0.4983 - val_accuracy: 0.7876 - 352ms/epoch - 2ms/step\n",
            "Epoch 22/50\n",
            "153/153 - 0s - loss: 0.4624 - accuracy: 0.8050 - val_loss: 0.5137 - val_accuracy: 0.7975 - 269ms/epoch - 2ms/step\n",
            "Epoch 23/50\n",
            "153/153 - 0s - loss: 0.4660 - accuracy: 0.8062 - val_loss: 0.5760 - val_accuracy: 0.7845 - 264ms/epoch - 2ms/step\n",
            "Epoch 24/50\n",
            "153/153 - 0s - loss: 0.4631 - accuracy: 0.8052 - val_loss: 0.5356 - val_accuracy: 0.7851 - 257ms/epoch - 2ms/step\n",
            "Epoch 25/50\n",
            "153/153 - 0s - loss: 0.4644 - accuracy: 0.8028 - val_loss: 0.5178 - val_accuracy: 0.7851 - 278ms/epoch - 2ms/step\n",
            "Epoch 26/50\n",
            "153/153 - 0s - loss: 0.4637 - accuracy: 0.8069 - val_loss: 0.4960 - val_accuracy: 0.7882 - 277ms/epoch - 2ms/step\n",
            "Epoch 27/50\n",
            "153/153 - 0s - loss: 0.4589 - accuracy: 0.8077 - val_loss: 0.9746 - val_accuracy: 0.4384 - 265ms/epoch - 2ms/step\n",
            "Epoch 28/50\n",
            "153/153 - 0s - loss: 0.4605 - accuracy: 0.8058 - val_loss: 0.4971 - val_accuracy: 0.7833 - 264ms/epoch - 2ms/step\n",
            "Epoch 29/50\n",
            "153/153 - 0s - loss: 0.4601 - accuracy: 0.8075 - val_loss: 0.5403 - val_accuracy: 0.7845 - 264ms/epoch - 2ms/step\n",
            "Epoch 30/50\n",
            "153/153 - 0s - loss: 0.4574 - accuracy: 0.8060 - val_loss: 0.5060 - val_accuracy: 0.7820 - 282ms/epoch - 2ms/step\n",
            "Epoch 31/50\n",
            "153/153 - 0s - loss: 0.4523 - accuracy: 0.8106 - val_loss: 0.5944 - val_accuracy: 0.7232 - 254ms/epoch - 2ms/step\n",
            "Epoch 32/50\n",
            "153/153 - 0s - loss: 0.4529 - accuracy: 0.8050 - val_loss: 0.5091 - val_accuracy: 0.7845 - 266ms/epoch - 2ms/step\n",
            "Epoch 33/50\n",
            "153/153 - 0s - loss: 0.4531 - accuracy: 0.8091 - val_loss: 0.4819 - val_accuracy: 0.7876 - 274ms/epoch - 2ms/step\n",
            "Epoch 34/50\n",
            "153/153 - 0s - loss: 0.4504 - accuracy: 0.8095 - val_loss: 0.4810 - val_accuracy: 0.7907 - 274ms/epoch - 2ms/step\n",
            "Epoch 35/50\n",
            "153/153 - 0s - loss: 0.4518 - accuracy: 0.8087 - val_loss: 0.4849 - val_accuracy: 0.7820 - 269ms/epoch - 2ms/step\n",
            "Epoch 36/50\n",
            "153/153 - 0s - loss: 0.4521 - accuracy: 0.8075 - val_loss: 0.4756 - val_accuracy: 0.7920 - 269ms/epoch - 2ms/step\n",
            "Epoch 37/50\n",
            "153/153 - 0s - loss: 0.4499 - accuracy: 0.8118 - val_loss: 0.5404 - val_accuracy: 0.7858 - 282ms/epoch - 2ms/step\n",
            "Epoch 38/50\n",
            "153/153 - 0s - loss: 0.4508 - accuracy: 0.8081 - val_loss: 0.4908 - val_accuracy: 0.7957 - 266ms/epoch - 2ms/step\n",
            "Epoch 39/50\n",
            "153/153 - 0s - loss: 0.4503 - accuracy: 0.8069 - val_loss: 0.5529 - val_accuracy: 0.7560 - 270ms/epoch - 2ms/step\n",
            "Epoch 40/50\n",
            "153/153 - 0s - loss: 0.4484 - accuracy: 0.8132 - val_loss: 0.5582 - val_accuracy: 0.7851 - 282ms/epoch - 2ms/step\n",
            "Epoch 41/50\n",
            "153/153 - 0s - loss: 0.4486 - accuracy: 0.8042 - val_loss: 0.5647 - val_accuracy: 0.7845 - 271ms/epoch - 2ms/step\n",
            "Epoch 42/50\n",
            "153/153 - 0s - loss: 0.4499 - accuracy: 0.8081 - val_loss: 0.5252 - val_accuracy: 0.7802 - 271ms/epoch - 2ms/step\n",
            "Epoch 43/50\n",
            "153/153 - 0s - loss: 0.4474 - accuracy: 0.8099 - val_loss: 0.6710 - val_accuracy: 0.6019 - 273ms/epoch - 2ms/step\n",
            "Epoch 44/50\n",
            "153/153 - 0s - loss: 0.4490 - accuracy: 0.8097 - val_loss: 0.5454 - val_accuracy: 0.7697 - 268ms/epoch - 2ms/step\n",
            "Epoch 45/50\n",
            "153/153 - 0s - loss: 0.4456 - accuracy: 0.8101 - val_loss: 0.5764 - val_accuracy: 0.7870 - 278ms/epoch - 2ms/step\n",
            "Epoch 46/50\n",
            "153/153 - 0s - loss: 0.4455 - accuracy: 0.8130 - val_loss: 0.5060 - val_accuracy: 0.7802 - 270ms/epoch - 2ms/step\n",
            "Epoch 47/50\n",
            "153/153 - 0s - loss: 0.4449 - accuracy: 0.8142 - val_loss: 0.5039 - val_accuracy: 0.7858 - 271ms/epoch - 2ms/step\n",
            "Epoch 48/50\n",
            "153/153 - 0s - loss: 0.4450 - accuracy: 0.8089 - val_loss: 0.4996 - val_accuracy: 0.7808 - 270ms/epoch - 2ms/step\n",
            "Epoch 49/50\n",
            "153/153 - 0s - loss: 0.4452 - accuracy: 0.8054 - val_loss: 0.4920 - val_accuracy: 0.7889 - 259ms/epoch - 2ms/step\n",
            "Epoch 50/50\n",
            "153/153 - 0s - loss: 0.4419 - accuracy: 0.8106 - val_loss: 0.4951 - val_accuracy: 0.7870 - 261ms/epoch - 2ms/step\n",
            "Model: \"sequential_19\"\n",
            "_________________________________________________________________\n",
            " Layer (type)                Output Shape              Param #   \n",
            "=================================================================\n",
            " dense_84 (Dense)            (None, 32)                416       \n",
            "                                                                 \n",
            " dense_85 (Dense)            (None, 8)                 264       \n",
            "                                                                 \n",
            " dense_86 (Dense)            (None, 4)                 36        \n",
            "                                                                 \n",
            "=================================================================\n",
            "Total params: 716\n",
            "Trainable params: 716\n",
            "Non-trainable params: 0\n",
            "_________________________________________________________________\n",
            "Final Loss:  0.4418630003929138\n",
            "Final Accuracy:  0.8105500936508179\n",
            "Final Validation Loss:  0.4950754940509796\n",
            "Final Validation Accuracy:  0.7869969010353088\n"
          ]
        }
      ]
    },
    {
      "cell_type": "code",
      "source": [
        "plot_model_history(clasmodl2_history)"
      ],
      "metadata": {
        "colab": {
          "base_uri": "https://localhost:8080/",
          "height": 295
        },
        "id": "4nAqT62FMN5j",
        "outputId": "b566e454-aff0-4a8f-f79d-1fd74fc4c253"
      },
      "execution_count": 53,
      "outputs": [
        {
          "output_type": "display_data",
          "data": {
            "text/plain": [
              "<Figure size 432x288 with 1 Axes>"
            ],
            "image/png": "[encoded data removed]"
          },
          "metadata": {
            "needs_background": "light"
          }
        }
      ]
    },
    {
      "cell_type": "markdown",
      "source": [
        "## Classification Model 3"
      ],
      "metadata": {
        "id": "DNpn6zV1g_gl"
      }
    },
    {
      "cell_type": "code",
      "source": [
        "# Model number 3\n",
        "def build_clasmod3():\n",
        "  model = keras.Sequential([\n",
        "    layers.Dense(64, activation=\"relu\"),\n",
        "    layers.Dense(32,  activation=\"relu\"),\n",
        "    layers.Dense(8, activation=\"relu\"),\n",
        "    layers.Dense(4,  activation=\"softmax\")\n",
        "  ])\n",
        "  model.compile(optimizer=\"rmsprop\", loss=\"categorical_crossentropy\", metrics=[\"accuracy\"]) \n",
        "  return model\n",
        "\n",
        "clasmodl3 = build_clasmod3()\n",
        "\n",
        "clasmodl3_history = clasmodl3.fit(x=Xtrain, y=one_hot_train_labels, batch_size=16, epochs=25, verbose=2, validation_data=(Xval,one_hot_val_labels), validation_freq=1)\n",
        "\n",
        "clasmodl3.summary()\n",
        "\n",
        "PrintClassificationFinal(clasmodl3_history)"
      ],
      "metadata": {
        "id": "N88gwpRahBnA"
      },
      "execution_count": null,
      "outputs": []
    },
    {
      "cell_type": "code",
      "source": [
        "plot_model_history(clasmodl3_history)"
      ],
      "metadata": {
        "colab": {
          "base_uri": "https://localhost:8080/",
          "height": 295
        },
        "id": "8UOmU6IjMRMU",
        "outputId": "ebe0e153-f7c4-4720-bde0-9baeb48cb04d"
      },
      "execution_count": 65,
      "outputs": [
        {
          "output_type": "display_data",
          "data": {
            "text/plain": [
              "<Figure size 432x288 with 1 Axes>"
            ],
            "image/png": "[encoded data removed]"
          },
          "metadata": {
            "needs_background": "light"
          }
        }
      ]
    },
    {
      "cell_type": "code",
      "source": [
        "from prettytable import PrettyTable\n",
        "\n",
        "predictions = clasmodl3.predict(Xtst)\n",
        "\n",
        "table = PrettyTable(['Pattern #', 'f1', 'f2', 'f3', 'f4', 'f5', 'f6', 'f7', 'f8', 'f9', 'f10', 'f11', 'f12', 'Activation', 'Target', 'Hit Ratio'])\n",
        "\n",
        "for i in range(10):\n",
        "  hitRatio = predictions[i].round()\n",
        "\n",
        "  compare = one_hot_train_labels[i] == hitRatio\n",
        "  isEqual = compare.all()\n",
        "\n",
        "  table.add_row([i, Xtst[i][0], Xtst[i][1], Xtst[i][2], Xtst[i][3], Xtst[i][4], Xtst[i][5], Xtst[i][6], Xtst[i][7], Xtst[i][8], Xtst[i][9], Xtst[i][10], Xtst[i][11], predictions[i], one_hot_tst_labels[i], isEqual])\n",
        "\n",
        "print(table)"
      ],
      "metadata": {
        "colab": {
          "base_uri": "https://localhost:8080/"
        },
        "id": "Sg_X2ierMV1h",
        "outputId": "73eaf98a-9e4f-450a-a416-0a1b394f8176"
      },
      "execution_count": 66,
      "outputs": [
        {
          "output_type": "stream",
          "name": "stdout",
          "text": [
            "+-----------+-----+------+------+------+-------+------+-------+---------+------+------+------------------+-----+-----------------------------------------------------------+---------------+-----------+\n",
            "| Pattern # |  f1 |  f2  |  f3  |  f4  |   f5  |  f6  |   f7  |    f8   |  f9  | f10  |       f11        | f12 |                         Activation                        |     Target    | Hit Ratio |\n",
            "+-----------+-----+------+------+------+-------+------+-------+---------+------+------+------------------+-----+-----------------------------------------------------------+---------------+-----------+\n",
            "|     0     | 7.4 | 0.44 | 0.2  | 11.5 | 0.049 | 44.0 | 157.0 |  0.998  | 3.27 | 0.44 |       9.0        | 0.0 | [1.6960394e-04 8.5790104e-01 1.4192933e-01 2.0727736e-08] | [0. 1. 0. 0.] |    True   |\n",
            "|     1     | 6.5 | 0.23 | 0.36 | 16.3 | 0.038 | 43.0 | 133.0 | 0.99924 | 3.26 | 0.41 |       8.8        | 0.0 | [5.7653157e-05 8.2268339e-01 1.7725891e-01 5.4991198e-09] | [0. 1. 0. 0.] |    True   |\n",
            "|     2     | 5.6 | 0.41 | 0.24 | 1.9  | 0.034 | 10.0 |  53.0 | 0.98815 | 3.32 | 0.5  |       13.5       | 0.0 | [2.3919193e-03 5.8352995e-01 4.1369060e-01 3.8758013e-04] | [0. 0. 1. 0.] |    True   |\n",
            "|     3     | 6.4 | 0.67 | 0.08 | 2.1  | 0.045 | 19.0 |  48.0 |  0.9949 | 3.49 | 0.49 |       11.4       | 1.0 | [2.1829102e-03 8.5397220e-01 1.4384204e-01 2.8272350e-06] | [0. 1. 0. 0.] |    True   |\n",
            "|     4     | 6.8 | 0.18 | 0.37 | 1.6  | 0.055 | 47.0 | 154.0 |  0.9934 | 3.08 | 0.45 |       9.1        | 0.0 | [1.0844106e-03 8.6503726e-01 1.3387783e-01 4.7851455e-07] | [0. 1. 0. 0.] |    True   |\n",
            "|     5     | 6.9 | 0.41 | 0.33 | 10.1 | 0.043 | 28.0 | 152.0 |  0.9968 | 3.2  | 0.52 |       9.4        | 0.0 | [8.5503847e-04 8.0333513e-01 1.9580890e-01 8.5790418e-07] | [0. 1. 0. 0.] |    True   |\n",
            "|     6     | 5.9 | 0.32 | 0.33 | 2.1  | 0.027 | 35.0 | 138.0 | 0.98945 | 3.37 | 0.42 |       12.7       | 0.0 | [1.1136656e-03 6.2644267e-01 3.7238163e-01 6.2060273e-05] | [0. 1. 0. 0.] |    True   |\n",
            "|     7     | 6.0 | 0.24 | 0.41 | 1.3  | 0.036 | 42.0 | 118.0 | 0.99018 | 3.04 | 0.64 | 11.7333333333333 | 0.0 | [1.0271354e-03 5.8574533e-01 4.1302577e-01 2.0175023e-04] | [0. 1. 0. 0.] |   False   |\n",
            "|     8     | 7.3 | 0.48 | 0.32 | 2.1  | 0.062 | 31.0 |  54.0 | 0.99728 | 3.3  | 0.65 |       10.0       | 1.0 | [1.1062834e-03 7.9422873e-01 2.0466332e-01 1.6103950e-06] | [0. 0. 1. 0.] |    True   |\n",
            "|     9     | 7.4 | 0.24 | 0.22 | 10.7 | 0.042 | 26.0 |  81.0 |  0.9954 | 2.86 | 0.36 |       9.7        | 0.0 | [2.5547368e-03 7.0831209e-01 2.8911397e-01 1.9241554e-05] | [0. 1. 0. 0.] |    True   |\n",
            "+-----------+-----+------+------+------+-------+------+-------+---------+------+------+------------------+-----+-----------------------------------------------------------+---------------+-----------+\n"
          ]
        }
      ]
    }
  ]
}