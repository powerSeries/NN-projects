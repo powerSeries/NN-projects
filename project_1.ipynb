{
  "nbformat": 4,
  "nbformat_minor": 0,
  "metadata": {
    "colab": {
      "name": "project-1.ipynb",
      "provenance": [],
      "collapsed_sections": [],
      "include_colab_link": true
    },
    "kernelspec": {
      "display_name": "Python 3",
      "name": "python3"
    }
  },
  "cells": [
    {
      "cell_type": "markdown",
      "metadata": {
        "id": "view-in-github",
        "colab_type": "text"
      },
      "source": [
        "<a href=\"https://colab.research.google.com/github/powerSeries/NN-projects/blob/main/project_1.ipynb\" target=\"_parent\"><img src=\"https://colab.research.google.com/assets/colab-badge.svg\" alt=\"Open In Colab\"/></a>"
      ]
    },
    {
      "cell_type": "markdown",
      "metadata": {
        "id": "vB3bHSucPIVs"
      },
      "source": [
        "Abbreviated data preparation for the Wine Quality Problem (Project 1)"
      ]
    },
    {
      "cell_type": "code",
      "metadata": {
        "id": "XrcPuh9-KY0j"
      },
      "source": [
        "# Import Required Libraries  \n",
        "import matplotlib.pyplot as plt \n",
        "import numpy as np \n",
        "# This time we need to also import pandas\n",
        "import pandas as pd \n",
        "\n",
        "# Read in white wine data \n",
        "# USES PANDAS (pd) to create a PANDAS DataFrame OBJECT:\n",
        "white = pd.read_csv(\"http://archive.ics.uci.edu/ml/machine-learning-databases/wine-quality/winequality-white.csv\", sep =';') \n",
        "\n",
        "# Read in red wine data \n",
        "# USES PANDAS (pd) to create a PANDAS DataFrame OBJECT:\n",
        "red = pd.read_csv(\"http://archive.ics.uci.edu/ml/machine-learning-databases/wine-quality/winequality-red.csv\", sep =';') \n",
        "\n",
        "# Add `type` column to `red` with price one  - done with PANDAS\n",
        "red['type'] = 1\n",
        "  \n",
        "# Add `type` column to `white` with price zero - done with PANDAS \n",
        "white['type'] = 0\n",
        "  \n",
        "# Append `white` to `red` - done with PANDAS\n",
        "# AFTER THIS WE HAVE ALL WINES (red and white) in a SINGLE pandas DataFrame\n",
        "wines = red.append(white, ignore_index = True) \n",
        "\n",
        "# Import SKLEARN\n",
        "import sklearn\n",
        "# Import `train_test_split` from `sklearn.model_selection` \n",
        "from sklearn.model_selection import train_test_split \n",
        "\n",
        "# Specify the  data - \n",
        "X1 = wines.iloc[:, 0:11]\n",
        "X2 = wines.iloc[:,12]\n",
        "X = pd.concat([X1,X2],axis = 1)\n",
        "\n",
        "# Specify the QUALITY target labels and flatten the array \n",
        "y = np.ravel(wines.quality) \n",
        "\n",
        "# Splitting the data set for training and validating  - Done with SKLEARN\n",
        "X_train, X_valid, y_train, y_valid = train_test_split( \n",
        "                 X, y, test_size = 0.25, random_state = 45) \n"
      ],
      "execution_count": 61,
      "outputs": []
    },
    {
      "cell_type": "code",
      "source": [
        "# CONVERTING X_train & X_test DataFrame s to TF tensors\n",
        "# Will USE NumPy, TF & Keras after this\n",
        "# import tensorflow as tf \n",
        "\n",
        "Xtrain = X_train.to_numpy()\n",
        "X_valid = X_valid.to_numpy()"
      ],
      "metadata": {
        "id": "AYtcmE0J4qQb"
      },
      "execution_count": 62,
      "outputs": []
    },
    {
      "cell_type": "code",
      "source": [
        "# In reality:\n",
        "# [1] ALL THE Xtrain patterns (with their y_train targets) \n",
        "# will be used for TRAINING ([TR]), as Xtrain & y_train\n",
        "# [2] MOST OF THE X_valid patterns (and their y_valid targets) \n",
        "#  will be used for VALIDATION ([TT]),  as X_val & y_val\n",
        "# BUT WE WILL SET ASIDE THE LAST 10 for \"testing\" ([TS])\n",
        "#  as X_tst & y_tst"
      ],
      "metadata": {
        "id": "qpHhdmJN6HVq"
      },
      "execution_count": 63,
      "outputs": []
    },
    {
      "cell_type": "code",
      "source": [
        "# To separate the last 10 in X_valid, let's first see the shape of X_valid\n",
        "X_valid.shape"
      ],
      "metadata": {
        "colab": {
          "base_uri": "https://localhost:8080/"
        },
        "id": "T10AK-Ip7YMb",
        "outputId": "7a22e960-f4bf-4050-aa67-8461c4432da6"
      },
      "execution_count": 64,
      "outputs": [
        {
          "output_type": "execute_result",
          "data": {
            "text/plain": [
              "(1625, 12)"
            ]
          },
          "metadata": {},
          "execution_count": 64
        }
      ]
    },
    {
      "cell_type": "code",
      "source": [
        "# And verify also the shape of y_valid\n",
        "y_valid.shape"
      ],
      "metadata": {
        "colab": {
          "base_uri": "https://localhost:8080/"
        },
        "id": "Gj64QrXI7npC",
        "outputId": "ecdf0453-4d1d-4b03-a79c-dc6e5944e486"
      },
      "execution_count": 65,
      "outputs": [
        {
          "output_type": "execute_result",
          "data": {
            "text/plain": [
              "(1625,)"
            ]
          },
          "metadata": {},
          "execution_count": 65
        }
      ]
    },
    {
      "cell_type": "code",
      "source": [
        "# Retain the first 1615 for validation ([TT])\n",
        "Xval = X_valid[:1615]\n",
        "Xval.shape"
      ],
      "metadata": {
        "colab": {
          "base_uri": "https://localhost:8080/"
        },
        "id": "2jDS0FsF739z",
        "outputId": "764a97f6-5f9a-4cd0-e5e4-1fd2cac9c675"
      },
      "execution_count": 66,
      "outputs": [
        {
          "output_type": "execute_result",
          "data": {
            "text/plain": [
              "(1615, 12)"
            ]
          },
          "metadata": {},
          "execution_count": 66
        }
      ]
    },
    {
      "cell_type": "code",
      "source": [
        "# and now set aside the last 10 for \"test\"\n",
        "Xtst = X_valid[1615:]\n",
        "Xtst.shape"
      ],
      "metadata": {
        "colab": {
          "base_uri": "https://localhost:8080/"
        },
        "id": "C_zJIn2Z-AS6",
        "outputId": "8bd7ff55-dbd8-4fa3-fc83-fdd594dd65a2"
      },
      "execution_count": 67,
      "outputs": [
        {
          "output_type": "execute_result",
          "data": {
            "text/plain": [
              "(10, 12)"
            ]
          },
          "metadata": {},
          "execution_count": 67
        }
      ]
    },
    {
      "cell_type": "code",
      "source": [
        "# SAME FOR THE CORRESPONDING TARGETS\n",
        "# Retain the first 1615 for validation ([TT])\n",
        "y_val = y_valid[:1615]\n",
        "y_val.shape"
      ],
      "metadata": {
        "colab": {
          "base_uri": "https://localhost:8080/"
        },
        "id": "YlrWhyX1-qQa",
        "outputId": "c3b3f0b7-ba6f-4f02-9a60-ea02db3037c6"
      },
      "execution_count": 68,
      "outputs": [
        {
          "output_type": "execute_result",
          "data": {
            "text/plain": [
              "(1615,)"
            ]
          },
          "metadata": {},
          "execution_count": 68
        }
      ]
    },
    {
      "cell_type": "code",
      "source": [
        "y_tst = y_valid[1615:]\n",
        "y_tst.shape"
      ],
      "metadata": {
        "colab": {
          "base_uri": "https://localhost:8080/"
        },
        "id": "yesLMjKx--2r",
        "outputId": "1b3bbe31-faf7-4304-93d5-47ce1e5ca960"
      },
      "execution_count": 69,
      "outputs": [
        {
          "output_type": "execute_result",
          "data": {
            "text/plain": [
              "(10,)"
            ]
          },
          "metadata": {},
          "execution_count": 69
        }
      ]
    },
    {
      "cell_type": "code",
      "source": [
        "y_tst"
      ],
      "metadata": {
        "colab": {
          "base_uri": "https://localhost:8080/"
        },
        "id": "QOIgFLku-2mr",
        "outputId": "4a183f5f-0f69-40f5-e115-a4c1998a712a"
      },
      "execution_count": 70,
      "outputs": [
        {
          "output_type": "execute_result",
          "data": {
            "text/plain": [
              "array([5, 5, 7, 6, 5, 5, 6, 6, 7, 6])"
            ]
          },
          "metadata": {},
          "execution_count": 70
        }
      ]
    },
    {
      "cell_type": "code",
      "source": [
        " # NOW, IN ADDITION, CREATE THE TARGETS AS ONE-HOT-ENCODED 4 quality LEVELS"
      ],
      "metadata": {
        "id": "3zfsQQNn6ABr"
      },
      "execution_count": 71,
      "outputs": []
    },
    {
      "cell_type": "code",
      "metadata": {
        "colab": {
          "base_uri": "https://localhost:8080/"
        },
        "id": "HImrn2sHKvz_",
        "outputId": "08c7f7b0-84ae-4c6e-eb12-245f3a4fedd7"
      },
      "source": [
        "# We will track these few targets through the conversion process\n",
        "y_train[272:283]"
      ],
      "execution_count": 72,
      "outputs": [
        {
          "output_type": "execute_result",
          "data": {
            "text/plain": [
              "array([5, 4, 6, 5, 5, 6, 7, 6, 5, 8, 5])"
            ]
          },
          "metadata": {},
          "execution_count": 72
        }
      ]
    },
    {
      "cell_type": "code",
      "source": [
        "# Function create rank-1 arrays where 3,4,5,6,7,8,9 are mapped to 1 or 2 or 3 or 4 \n",
        "def to_4cs(x):\n",
        "  lx = len(x)\n",
        "  results = np.zeros(lx)\n",
        "  for i in range(lx):\n",
        "      # print( \"start\")\n",
        "      xa = x[i];\n",
        "      if xa <= 3:\n",
        "          results[i] = 1      # 1, 2 and 3 map to Q-LEVEL 1 ( BAD Wine)\n",
        "      elif xa <=6:\n",
        "          results[i] = 2      # 4, 5 and 6 map to Q-LEVEL 2  (MEDIUM Wine)\n",
        "      elif xa <=8:\n",
        "          results[i] = 3      # 7 and 8 and 6 map to Q-LEVEL 3  (GOOD Wine)\n",
        "      else:\n",
        "          results[i] = 4      # 9 and above map to Q-LEVEL 4  (EXCELLENT Wine)\n",
        "    # results[i, label] = 1.\n",
        "  results = results.astype(int)\n",
        "  return results"
      ],
      "metadata": {
        "id": "iB1RjHR7PQD7"
      },
      "execution_count": 73,
      "outputs": []
    },
    {
      "cell_type": "code",
      "source": [
        "train_labels = to_4cs(y_train)\n",
        "val_labels = to_4cs(y_val)\n",
        "tst_labels = to_4cs(y_tst)"
      ],
      "metadata": {
        "id": "LhSoZ0b9Ptyj"
      },
      "execution_count": 74,
      "outputs": []
    },
    {
      "cell_type": "code",
      "metadata": {
        "colab": {
          "base_uri": "https://localhost:8080/"
        },
        "id": "RmSc8yQ5NgQe",
        "outputId": "8b7627ca-806d-4d39-ab66-4dc801ef8562"
      },
      "source": [
        "\n",
        "# Let's verify that the trainnig targets that we are tracking\n",
        "# were converted to levels (1 = BAD; 2 = MEDIUM; 3 = GOOD; 4- EXCELLENT) correctly:\n",
        "train_labels[272:283]"
      ],
      "execution_count": 75,
      "outputs": [
        {
          "output_type": "execute_result",
          "data": {
            "text/plain": [
              "array([2, 2, 2, 2, 2, 2, 3, 2, 2, 3, 2])"
            ]
          },
          "metadata": {},
          "execution_count": 75
        }
      ]
    },
    {
      "cell_type": "code",
      "metadata": {
        "id": "Cs-J7sRmKhGf"
      },
      "source": [
        "# NOW, ONE-HOT ENCODING OF ALL 3  TARGET ARRAYS\n",
        "# define a function to do the one-hot-encoding of output labels\n",
        "\n",
        "def to_one_hot(labels, dimension=4):\n",
        "    results = np.zeros((len(labels), dimension))\n",
        "    for i, label in enumerate(labels-1):\n",
        "        results[i, label] = 1.\n",
        "    return results\n",
        "\n",
        "one_hot_train_labels = to_one_hot(train_labels)\n",
        "one_hot_val_labels = to_one_hot(val_labels)\n",
        "one_hot_tst_labels = to_one_hot(tst_labels)"
      ],
      "execution_count": 76,
      "outputs": []
    },
    {
      "cell_type": "code",
      "source": [
        "#Let's verify that the training targets we have tracked were\n",
        "# one-hot encoded correctly\n",
        "one_hot_train_labels[272:283,]"
      ],
      "metadata": {
        "colab": {
          "base_uri": "https://localhost:8080/"
        },
        "id": "Mk1q-JDyBChj",
        "outputId": "e75cfaab-cdf8-4718-dae8-b870fc12a1a0"
      },
      "execution_count": 77,
      "outputs": [
        {
          "output_type": "execute_result",
          "data": {
            "text/plain": [
              "array([[0., 1., 0., 0.],\n",
              "       [0., 1., 0., 0.],\n",
              "       [0., 1., 0., 0.],\n",
              "       [0., 1., 0., 0.],\n",
              "       [0., 1., 0., 0.],\n",
              "       [0., 1., 0., 0.],\n",
              "       [0., 0., 1., 0.],\n",
              "       [0., 1., 0., 0.],\n",
              "       [0., 1., 0., 0.],\n",
              "       [0., 0., 1., 0.],\n",
              "       [0., 1., 0., 0.]])"
            ]
          },
          "metadata": {},
          "execution_count": 77
        }
      ]
    },
    {
      "cell_type": "code",
      "source": [
        "# SO, AFTER EXECUTING THIS CELL, YOU WILL HAVE:\n",
        "# FOR TRAINING:\n",
        "#  Xtrain (4872, 12)...y_train (4872,)...train_labels(4872,)....one_hot_train_labels (4872,4)\n",
        "# FOR VALIDATING:\n",
        "#  Xval (1615, 12)...y_val (1615,)...val_labels(1615,)...one_hot_val_labels (1615,4)\n",
        "# FOR TESTING:\n",
        "#  Xtst (10, 12)...y_tst (10,)...tst_labels(10,)... one_hot_tst_labels (10,4)\n",
        "# PLEASE DO NOT CHANGE THE NAMES OF THESE VARIABLES (So that instructor can use them)"
      ],
      "metadata": {
        "id": "FfIxlsEISc5W"
      },
      "execution_count": 78,
      "outputs": []
    },
    {
      "cell_type": "markdown",
      "source": [
        " ++++  END OF THE DATA PREPARATION PART ++++ \n"
      ],
      "metadata": {
        "id": "Bq_9V9XCSd6t"
      }
    },
    {
      "cell_type": "markdown",
      "source": [
        "# Part 2: Regression Model"
      ],
      "metadata": {
        "id": "6Vt3n82EaN98"
      }
    },
    {
      "cell_type": "markdown",
      "source": [
        "### Regression Model 1"
      ],
      "metadata": {
        "id": "saL8T2q2K0Rv"
      }
    },
    {
      "cell_type": "code",
      "source": [
        "# import libraries\n",
        "from tensorflow import keras\n",
        "from tensorflow.keras import layers\n",
        "\n",
        "def build_regmodl1():\n",
        "  regmodl1 = keras.Sequential([\n",
        "    layers.Dense(512, activation=\"relu\"),\n",
        "    layers.Dense(8, activation=\"relu\"),\n",
        "    layers.Dense(1),\n",
        "  ])\n",
        "  regmodl1.compile(optimizer=\"rmsprop\", loss=\"mse\", metrics=[\"mae\"])\n",
        "  return regmodl1\n",
        "\n",
        "# Builld the model\n",
        "regmod1 = build_regmodl1()\n",
        "\n",
        "# Run fit and store data\n",
        "regmodl1_history = regmod1.fit(x=Xtrain, y=train_labels, epochs=100, verbose=2, validation_data=(Xval, val_labels))\n",
        "\n",
        "# Show Model Summary\n",
        "regmod1.summary()"
      ],
      "metadata": {
        "id": "WBdR9tpWdYcs",
        "outputId": "b3809e2f-cdb1-4bb4-ca01-8739cf795add",
        "colab": {
          "base_uri": "https://localhost:8080/"
        }
      },
      "execution_count": 79,
      "outputs": [
        {
          "output_type": "stream",
          "name": "stdout",
          "text": [
            "Epoch 1/100\n",
            "153/153 - 1s - loss: 0.7887 - mae: 0.6861 - val_loss: 0.2039 - val_mae: 0.2853 - 1s/epoch - 8ms/step\n",
            "Epoch 2/100\n",
            "153/153 - 0s - loss: 0.4871 - mae: 0.5268 - val_loss: 0.6812 - val_mae: 0.6842 - 321ms/epoch - 2ms/step\n",
            "Epoch 3/100\n",
            "153/153 - 0s - loss: 0.3993 - mae: 0.4825 - val_loss: 0.1664 - val_mae: 0.2736 - 372ms/epoch - 2ms/step\n",
            "Epoch 4/100\n",
            "153/153 - 0s - loss: 0.3360 - mae: 0.4535 - val_loss: 0.2321 - val_mae: 0.4206 - 345ms/epoch - 2ms/step\n",
            "Epoch 5/100\n",
            "153/153 - 0s - loss: 0.2786 - mae: 0.4069 - val_loss: 0.1523 - val_mae: 0.2694 - 322ms/epoch - 2ms/step\n",
            "Epoch 6/100\n",
            "153/153 - 0s - loss: 0.2528 - mae: 0.3852 - val_loss: 0.1719 - val_mae: 0.3659 - 321ms/epoch - 2ms/step\n",
            "Epoch 7/100\n",
            "153/153 - 0s - loss: 0.2340 - mae: 0.3755 - val_loss: 0.2692 - val_mae: 0.4665 - 314ms/epoch - 2ms/step\n",
            "Epoch 8/100\n",
            "153/153 - 0s - loss: 0.2069 - mae: 0.3553 - val_loss: 0.4744 - val_mae: 0.5971 - 320ms/epoch - 2ms/step\n",
            "Epoch 9/100\n",
            "153/153 - 0s - loss: 0.1951 - mae: 0.3396 - val_loss: 0.2340 - val_mae: 0.3416 - 316ms/epoch - 2ms/step\n",
            "Epoch 10/100\n",
            "153/153 - 0s - loss: 0.1865 - mae: 0.3339 - val_loss: 0.3431 - val_mae: 0.5238 - 400ms/epoch - 3ms/step\n",
            "Epoch 11/100\n",
            "153/153 - 0s - loss: 0.1771 - mae: 0.3252 - val_loss: 0.1847 - val_mae: 0.2874 - 313ms/epoch - 2ms/step\n",
            "Epoch 12/100\n",
            "153/153 - 0s - loss: 0.1678 - mae: 0.3123 - val_loss: 0.3345 - val_mae: 0.4442 - 310ms/epoch - 2ms/step\n",
            "Epoch 13/100\n",
            "153/153 - 0s - loss: 0.1675 - mae: 0.3135 - val_loss: 0.2804 - val_mae: 0.3940 - 311ms/epoch - 2ms/step\n",
            "Epoch 14/100\n",
            "153/153 - 0s - loss: 0.1662 - mae: 0.3121 - val_loss: 0.1435 - val_mae: 0.2642 - 309ms/epoch - 2ms/step\n",
            "Epoch 15/100\n",
            "153/153 - 0s - loss: 0.1613 - mae: 0.3053 - val_loss: 0.1444 - val_mae: 0.2652 - 327ms/epoch - 2ms/step\n",
            "Epoch 16/100\n",
            "153/153 - 0s - loss: 0.1568 - mae: 0.3031 - val_loss: 0.2454 - val_mae: 0.4489 - 308ms/epoch - 2ms/step\n",
            "Epoch 17/100\n",
            "153/153 - 0s - loss: 0.1553 - mae: 0.3007 - val_loss: 0.1600 - val_mae: 0.2654 - 319ms/epoch - 2ms/step\n",
            "Epoch 18/100\n",
            "153/153 - 0s - loss: 0.1497 - mae: 0.2924 - val_loss: 0.1665 - val_mae: 0.2772 - 324ms/epoch - 2ms/step\n",
            "Epoch 19/100\n",
            "153/153 - 0s - loss: 0.1518 - mae: 0.2956 - val_loss: 0.1456 - val_mae: 0.2613 - 316ms/epoch - 2ms/step\n",
            "Epoch 20/100\n",
            "153/153 - 0s - loss: 0.1512 - mae: 0.2961 - val_loss: 0.1408 - val_mae: 0.2865 - 317ms/epoch - 2ms/step\n",
            "Epoch 21/100\n",
            "153/153 - 0s - loss: 0.1473 - mae: 0.2911 - val_loss: 0.1521 - val_mae: 0.3259 - 303ms/epoch - 2ms/step\n",
            "Epoch 22/100\n",
            "153/153 - 0s - loss: 0.1493 - mae: 0.2937 - val_loss: 0.1812 - val_mae: 0.2910 - 335ms/epoch - 2ms/step\n",
            "Epoch 23/100\n",
            "153/153 - 0s - loss: 0.1471 - mae: 0.2900 - val_loss: 0.1403 - val_mae: 0.2683 - 309ms/epoch - 2ms/step\n",
            "Epoch 24/100\n",
            "153/153 - 0s - loss: 0.1463 - mae: 0.2899 - val_loss: 0.1530 - val_mae: 0.2641 - 395ms/epoch - 3ms/step\n",
            "Epoch 25/100\n",
            "153/153 - 0s - loss: 0.1472 - mae: 0.2879 - val_loss: 0.1684 - val_mae: 0.2793 - 323ms/epoch - 2ms/step\n",
            "Epoch 26/100\n",
            "153/153 - 0s - loss: 0.1444 - mae: 0.2862 - val_loss: 0.2051 - val_mae: 0.3235 - 311ms/epoch - 2ms/step\n",
            "Epoch 27/100\n",
            "153/153 - 0s - loss: 0.1443 - mae: 0.2870 - val_loss: 0.1426 - val_mae: 0.2759 - 320ms/epoch - 2ms/step\n",
            "Epoch 28/100\n",
            "153/153 - 0s - loss: 0.1427 - mae: 0.2845 - val_loss: 0.1525 - val_mae: 0.3337 - 337ms/epoch - 2ms/step\n",
            "Epoch 29/100\n",
            "153/153 - 0s - loss: 0.1431 - mae: 0.2853 - val_loss: 0.1800 - val_mae: 0.2841 - 315ms/epoch - 2ms/step\n",
            "Epoch 30/100\n",
            "153/153 - 0s - loss: 0.1438 - mae: 0.2844 - val_loss: 0.1417 - val_mae: 0.2975 - 324ms/epoch - 2ms/step\n",
            "Epoch 31/100\n",
            "153/153 - 0s - loss: 0.1412 - mae: 0.2816 - val_loss: 0.1707 - val_mae: 0.2879 - 432ms/epoch - 3ms/step\n",
            "Epoch 32/100\n",
            "153/153 - 0s - loss: 0.1413 - mae: 0.2819 - val_loss: 0.2494 - val_mae: 0.4506 - 315ms/epoch - 2ms/step\n",
            "Epoch 33/100\n",
            "153/153 - 0s - loss: 0.1381 - mae: 0.2801 - val_loss: 0.1486 - val_mae: 0.3093 - 322ms/epoch - 2ms/step\n",
            "Epoch 34/100\n",
            "153/153 - 0s - loss: 0.1407 - mae: 0.2821 - val_loss: 0.1946 - val_mae: 0.3085 - 331ms/epoch - 2ms/step\n",
            "Epoch 35/100\n",
            "153/153 - 0s - loss: 0.1406 - mae: 0.2806 - val_loss: 0.1479 - val_mae: 0.3203 - 404ms/epoch - 3ms/step\n",
            "Epoch 36/100\n",
            "153/153 - 0s - loss: 0.1399 - mae: 0.2805 - val_loss: 0.1782 - val_mae: 0.2901 - 405ms/epoch - 3ms/step\n",
            "Epoch 37/100\n",
            "153/153 - 0s - loss: 0.1382 - mae: 0.2783 - val_loss: 0.1521 - val_mae: 0.3254 - 326ms/epoch - 2ms/step\n",
            "Epoch 38/100\n",
            "153/153 - 0s - loss: 0.1395 - mae: 0.2812 - val_loss: 0.1765 - val_mae: 0.2868 - 317ms/epoch - 2ms/step\n",
            "Epoch 39/100\n",
            "153/153 - 0s - loss: 0.1375 - mae: 0.2784 - val_loss: 0.1449 - val_mae: 0.2618 - 396ms/epoch - 3ms/step\n",
            "Epoch 40/100\n",
            "153/153 - 0s - loss: 0.1394 - mae: 0.2792 - val_loss: 0.1563 - val_mae: 0.2694 - 350ms/epoch - 2ms/step\n",
            "Epoch 41/100\n",
            "153/153 - 0s - loss: 0.1375 - mae: 0.2768 - val_loss: 0.1403 - val_mae: 0.2980 - 309ms/epoch - 2ms/step\n",
            "Epoch 42/100\n",
            "153/153 - 0s - loss: 0.1379 - mae: 0.2783 - val_loss: 0.1380 - val_mae: 0.2639 - 342ms/epoch - 2ms/step\n",
            "Epoch 43/100\n",
            "153/153 - 0s - loss: 0.1381 - mae: 0.2774 - val_loss: 0.1398 - val_mae: 0.2697 - 307ms/epoch - 2ms/step\n",
            "Epoch 44/100\n",
            "153/153 - 0s - loss: 0.1382 - mae: 0.2775 - val_loss: 0.1878 - val_mae: 0.3807 - 318ms/epoch - 2ms/step\n",
            "Epoch 45/100\n",
            "153/153 - 0s - loss: 0.1360 - mae: 0.2764 - val_loss: 0.1457 - val_mae: 0.3166 - 332ms/epoch - 2ms/step\n",
            "Epoch 46/100\n",
            "153/153 - 0s - loss: 0.1364 - mae: 0.2756 - val_loss: 0.1621 - val_mae: 0.2746 - 329ms/epoch - 2ms/step\n",
            "Epoch 47/100\n",
            "153/153 - 0s - loss: 0.1375 - mae: 0.2769 - val_loss: 0.1416 - val_mae: 0.2630 - 299ms/epoch - 2ms/step\n",
            "Epoch 48/100\n",
            "153/153 - 0s - loss: 0.1370 - mae: 0.2763 - val_loss: 0.1468 - val_mae: 0.2748 - 397ms/epoch - 3ms/step\n",
            "Epoch 49/100\n",
            "153/153 - 0s - loss: 0.1377 - mae: 0.2774 - val_loss: 0.1608 - val_mae: 0.2705 - 317ms/epoch - 2ms/step\n",
            "Epoch 50/100\n",
            "153/153 - 0s - loss: 0.1369 - mae: 0.2751 - val_loss: 0.1412 - val_mae: 0.2696 - 326ms/epoch - 2ms/step\n",
            "Epoch 51/100\n",
            "153/153 - 0s - loss: 0.1360 - mae: 0.2755 - val_loss: 0.1534 - val_mae: 0.3328 - 403ms/epoch - 3ms/step\n",
            "Epoch 52/100\n",
            "153/153 - 0s - loss: 0.1356 - mae: 0.2762 - val_loss: 0.1525 - val_mae: 0.2682 - 388ms/epoch - 3ms/step\n",
            "Epoch 53/100\n",
            "153/153 - 0s - loss: 0.1363 - mae: 0.2758 - val_loss: 0.1377 - val_mae: 0.2870 - 314ms/epoch - 2ms/step\n",
            "Epoch 54/100\n",
            "153/153 - 0s - loss: 0.1363 - mae: 0.2767 - val_loss: 0.1912 - val_mae: 0.3025 - 337ms/epoch - 2ms/step\n",
            "Epoch 55/100\n",
            "153/153 - 0s - loss: 0.1383 - mae: 0.2773 - val_loss: 0.1447 - val_mae: 0.2651 - 319ms/epoch - 2ms/step\n",
            "Epoch 56/100\n",
            "153/153 - 0s - loss: 0.1369 - mae: 0.2769 - val_loss: 0.1673 - val_mae: 0.3578 - 315ms/epoch - 2ms/step\n",
            "Epoch 57/100\n",
            "153/153 - 0s - loss: 0.1333 - mae: 0.2731 - val_loss: 0.1390 - val_mae: 0.2676 - 335ms/epoch - 2ms/step\n",
            "Epoch 58/100\n",
            "153/153 - 0s - loss: 0.1342 - mae: 0.2747 - val_loss: 0.1388 - val_mae: 0.2824 - 326ms/epoch - 2ms/step\n",
            "Epoch 59/100\n",
            "153/153 - 0s - loss: 0.1369 - mae: 0.2766 - val_loss: 0.1597 - val_mae: 0.2729 - 328ms/epoch - 2ms/step\n",
            "Epoch 60/100\n",
            "153/153 - 0s - loss: 0.1360 - mae: 0.2736 - val_loss: 0.1396 - val_mae: 0.2691 - 333ms/epoch - 2ms/step\n",
            "Epoch 61/100\n",
            "153/153 - 0s - loss: 0.1351 - mae: 0.2744 - val_loss: 0.1347 - val_mae: 0.2761 - 325ms/epoch - 2ms/step\n",
            "Epoch 62/100\n",
            "153/153 - 0s - loss: 0.1350 - mae: 0.2756 - val_loss: 0.1384 - val_mae: 0.2705 - 331ms/epoch - 2ms/step\n",
            "Epoch 63/100\n",
            "153/153 - 0s - loss: 0.1347 - mae: 0.2754 - val_loss: 0.1366 - val_mae: 0.2663 - 410ms/epoch - 3ms/step\n",
            "Epoch 64/100\n",
            "153/153 - 0s - loss: 0.1350 - mae: 0.2734 - val_loss: 0.1758 - val_mae: 0.2773 - 341ms/epoch - 2ms/step\n",
            "Epoch 65/100\n",
            "153/153 - 0s - loss: 0.1352 - mae: 0.2740 - val_loss: 0.1367 - val_mae: 0.2684 - 302ms/epoch - 2ms/step\n",
            "Epoch 66/100\n",
            "153/153 - 0s - loss: 0.1340 - mae: 0.2742 - val_loss: 0.1487 - val_mae: 0.2662 - 324ms/epoch - 2ms/step\n",
            "Epoch 67/100\n",
            "153/153 - 0s - loss: 0.1342 - mae: 0.2729 - val_loss: 0.1477 - val_mae: 0.3182 - 306ms/epoch - 2ms/step\n",
            "Epoch 68/100\n",
            "153/153 - 0s - loss: 0.1347 - mae: 0.2744 - val_loss: 0.1363 - val_mae: 0.2864 - 301ms/epoch - 2ms/step\n",
            "Epoch 69/100\n",
            "153/153 - 0s - loss: 0.1330 - mae: 0.2722 - val_loss: 0.1525 - val_mae: 0.2662 - 402ms/epoch - 3ms/step\n",
            "Epoch 70/100\n",
            "153/153 - 0s - loss: 0.1349 - mae: 0.2735 - val_loss: 0.1535 - val_mae: 0.2652 - 325ms/epoch - 2ms/step\n",
            "Epoch 71/100\n",
            "153/153 - 0s - loss: 0.1348 - mae: 0.2726 - val_loss: 0.1552 - val_mae: 0.2670 - 306ms/epoch - 2ms/step\n",
            "Epoch 72/100\n",
            "153/153 - 0s - loss: 0.1338 - mae: 0.2726 - val_loss: 0.1599 - val_mae: 0.2656 - 325ms/epoch - 2ms/step\n",
            "Epoch 73/100\n",
            "153/153 - 0s - loss: 0.1345 - mae: 0.2739 - val_loss: 0.1765 - val_mae: 0.3695 - 310ms/epoch - 2ms/step\n",
            "Epoch 74/100\n",
            "153/153 - 0s - loss: 0.1341 - mae: 0.2731 - val_loss: 0.1382 - val_mae: 0.2723 - 337ms/epoch - 2ms/step\n",
            "Epoch 75/100\n",
            "153/153 - 0s - loss: 0.1328 - mae: 0.2715 - val_loss: 0.1377 - val_mae: 0.2860 - 336ms/epoch - 2ms/step\n",
            "Epoch 76/100\n",
            "153/153 - 0s - loss: 0.1330 - mae: 0.2724 - val_loss: 0.1704 - val_mae: 0.2755 - 327ms/epoch - 2ms/step\n",
            "Epoch 77/100\n",
            "153/153 - 0s - loss: 0.1329 - mae: 0.2724 - val_loss: 0.1552 - val_mae: 0.2699 - 326ms/epoch - 2ms/step\n",
            "Epoch 78/100\n",
            "153/153 - 0s - loss: 0.1338 - mae: 0.2729 - val_loss: 0.1363 - val_mae: 0.2908 - 317ms/epoch - 2ms/step\n",
            "Epoch 79/100\n",
            "153/153 - 0s - loss: 0.1339 - mae: 0.2737 - val_loss: 0.1377 - val_mae: 0.2671 - 323ms/epoch - 2ms/step\n",
            "Epoch 80/100\n",
            "153/153 - 0s - loss: 0.1336 - mae: 0.2720 - val_loss: 0.1944 - val_mae: 0.3960 - 310ms/epoch - 2ms/step\n",
            "Epoch 81/100\n",
            "153/153 - 0s - loss: 0.1340 - mae: 0.2733 - val_loss: 0.1639 - val_mae: 0.2749 - 314ms/epoch - 2ms/step\n",
            "Epoch 82/100\n",
            "153/153 - 0s - loss: 0.1319 - mae: 0.2698 - val_loss: 0.1387 - val_mae: 0.2637 - 324ms/epoch - 2ms/step\n",
            "Epoch 83/100\n",
            "153/153 - 0s - loss: 0.1342 - mae: 0.2727 - val_loss: 0.1654 - val_mae: 0.2821 - 320ms/epoch - 2ms/step\n",
            "Epoch 84/100\n",
            "153/153 - 0s - loss: 0.1338 - mae: 0.2719 - val_loss: 0.1365 - val_mae: 0.2682 - 326ms/epoch - 2ms/step\n",
            "Epoch 85/100\n",
            "153/153 - 0s - loss: 0.1320 - mae: 0.2711 - val_loss: 0.1409 - val_mae: 0.2952 - 333ms/epoch - 2ms/step\n",
            "Epoch 86/100\n",
            "153/153 - 0s - loss: 0.1339 - mae: 0.2725 - val_loss: 0.1393 - val_mae: 0.2658 - 331ms/epoch - 2ms/step\n",
            "Epoch 87/100\n",
            "153/153 - 0s - loss: 0.1326 - mae: 0.2715 - val_loss: 0.2337 - val_mae: 0.3497 - 341ms/epoch - 2ms/step\n",
            "Epoch 88/100\n",
            "153/153 - 0s - loss: 0.1326 - mae: 0.2698 - val_loss: 0.1438 - val_mae: 0.2620 - 345ms/epoch - 2ms/step\n",
            "Epoch 89/100\n",
            "153/153 - 0s - loss: 0.1326 - mae: 0.2723 - val_loss: 0.1632 - val_mae: 0.2719 - 354ms/epoch - 2ms/step\n",
            "Epoch 90/100\n",
            "153/153 - 0s - loss: 0.1331 - mae: 0.2709 - val_loss: 0.1502 - val_mae: 0.3326 - 333ms/epoch - 2ms/step\n",
            "Epoch 91/100\n",
            "153/153 - 0s - loss: 0.1320 - mae: 0.2703 - val_loss: 0.1462 - val_mae: 0.3189 - 336ms/epoch - 2ms/step\n",
            "Epoch 92/100\n",
            "153/153 - 0s - loss: 0.1318 - mae: 0.2708 - val_loss: 0.1744 - val_mae: 0.3726 - 323ms/epoch - 2ms/step\n",
            "Epoch 93/100\n",
            "153/153 - 0s - loss: 0.1326 - mae: 0.2713 - val_loss: 0.1354 - val_mae: 0.2828 - 327ms/epoch - 2ms/step\n",
            "Epoch 94/100\n",
            "153/153 - 0s - loss: 0.1319 - mae: 0.2703 - val_loss: 0.1628 - val_mae: 0.2698 - 333ms/epoch - 2ms/step\n",
            "Epoch 95/100\n",
            "153/153 - 0s - loss: 0.1327 - mae: 0.2711 - val_loss: 0.1433 - val_mae: 0.3107 - 334ms/epoch - 2ms/step\n",
            "Epoch 96/100\n",
            "153/153 - 0s - loss: 0.1315 - mae: 0.2712 - val_loss: 0.1726 - val_mae: 0.2865 - 325ms/epoch - 2ms/step\n",
            "Epoch 97/100\n",
            "153/153 - 0s - loss: 0.1319 - mae: 0.2711 - val_loss: 0.1553 - val_mae: 0.2709 - 327ms/epoch - 2ms/step\n",
            "Epoch 98/100\n",
            "153/153 - 0s - loss: 0.1330 - mae: 0.2721 - val_loss: 0.1514 - val_mae: 0.2631 - 319ms/epoch - 2ms/step\n",
            "Epoch 99/100\n",
            "153/153 - 0s - loss: 0.1326 - mae: 0.2703 - val_loss: 0.1823 - val_mae: 0.2948 - 307ms/epoch - 2ms/step\n",
            "Epoch 100/100\n",
            "153/153 - 0s - loss: 0.1310 - mae: 0.2692 - val_loss: 0.1887 - val_mae: 0.3866 - 334ms/epoch - 2ms/step\n",
            "Model: \"sequential_10\"\n",
            "_________________________________________________________________\n",
            " Layer (type)                Output Shape              Param #   \n",
            "=================================================================\n",
            " dense_40 (Dense)            (None, 512)               6656      \n",
            "                                                                 \n",
            " dense_41 (Dense)            (None, 8)                 4104      \n",
            "                                                                 \n",
            " dense_42 (Dense)            (None, 1)                 9         \n",
            "                                                                 \n",
            "=================================================================\n",
            "Total params: 10,769\n",
            "Trainable params: 10,769\n",
            "Non-trainable params: 0\n",
            "_________________________________________________________________\n"
          ]
        }
      ]
    },
    {
      "cell_type": "code",
      "source": [
        "def plot_model_history(model_history):\n",
        "  history_dict = model_history.history\n",
        "  history_dict.keys()\n",
        "\n",
        "  loss_values = history_dict[\"loss\"]\n",
        "  val_loss_values = history_dict[\"val_loss\"]\n",
        "\n",
        "  epochs = range(1, len(loss_values) + 1)\n",
        "\n",
        "\n",
        "  # Plot current data\n",
        "  plt.plot(epochs, loss_values, \"bo\", label=\"Training Loss\")\n",
        "  plt.plot(epochs, val_loss_values, \"b\", label=\"Validation Loss\")\n",
        "  plt.title(\"Training and Validation Loss\")\n",
        "  plt.xlabel(\"Epochs\")\n",
        "  plt.ylabel(\"Accuracy\")\n",
        "  plt.legend()\n",
        "  plt.show()\n",
        "  return"
      ],
      "metadata": {
        "id": "xnMledbiYd1K"
      },
      "execution_count": 80,
      "outputs": []
    },
    {
      "cell_type": "markdown",
      "source": [
        "Plotting Regression Model 1\n",
        "\n"
      ],
      "metadata": {
        "id": "qVemg7OQYeSW"
      }
    },
    {
      "cell_type": "code",
      "source": [
        "plot_model_history(regmodl1_history)"
      ],
      "metadata": {
        "id": "2PY3AbKfj4Gc",
        "outputId": "d05414a5-361c-43ac-a6fc-97d6d539bfc3",
        "colab": {
          "base_uri": "https://localhost:8080/",
          "height": 295
        }
      },
      "execution_count": 81,
      "outputs": [
        {
          "output_type": "display_data",
          "data": {
            "image/png": "[encoded data removed]",
            "text/plain": [
              "<Figure size 432x288 with 1 Axes>"
            ]
          },
          "metadata": {
            "needs_background": "light"
          }
        }
      ]
    },
    {
      "cell_type": "markdown",
      "source": [
        "### Regression Model 2"
      ],
      "metadata": {
        "id": "mmbjOEY3K49F"
      }
    },
    {
      "cell_type": "code",
      "source": [
        "# reg mod 2\n",
        "def build_regmodl2():\n",
        "  model = keras.Sequential([\n",
        "    layers.Dense(128, activation=\"relu\"),\n",
        "    layers.Dense(64, activation=\"relu\"),\n",
        "    layers.Dense(30, activation=\"relu\"),\n",
        "    layers.Dense(5, activation=\"relu\"),\n",
        "    layers.Dense(1, activation=\"relu\"),\n",
        "  ])\n",
        "  model.compile(optimizer=\"rmsprop\", loss=\"mse\", metrics=[\"mae\"])\n",
        "  return model;\n",
        "\n",
        "regmodl2 = build_regmodl2();\n",
        "\n",
        "regmodl2_history = regmodl2.fit(x=Xtrain, y=train_labels, epochs=100, verbose=2, validation_data=(Xval, val_labels))\n",
        "\n",
        "regmodl2.summary()"
      ],
      "metadata": {
        "id": "4MAZXPzjl4sb",
        "colab": {
          "base_uri": "https://localhost:8080/"
        },
        "outputId": "e7e089c6-bc98-49a0-b6b0-7aac121a7cd8"
      },
      "execution_count": 82,
      "outputs": [
        {
          "output_type": "stream",
          "name": "stdout",
          "text": [
            "Epoch 1/100\n",
            "153/153 - 1s - loss: 4.9589 - mae: 2.1901 - val_loss: 5.0204 - val_mae: 2.2006 - 1s/epoch - 9ms/step\n",
            "Epoch 2/100\n",
            "153/153 - 0s - loss: 4.9589 - mae: 2.1901 - val_loss: 5.0204 - val_mae: 2.2006 - 423ms/epoch - 3ms/step\n",
            "Epoch 3/100\n",
            "153/153 - 0s - loss: 4.9589 - mae: 2.1901 - val_loss: 5.0204 - val_mae: 2.2006 - 366ms/epoch - 2ms/step\n",
            "Epoch 4/100\n",
            "153/153 - 0s - loss: 4.9589 - mae: 2.1901 - val_loss: 5.0204 - val_mae: 2.2006 - 347ms/epoch - 2ms/step\n",
            "Epoch 5/100\n",
            "153/153 - 0s - loss: 4.9589 - mae: 2.1901 - val_loss: 5.0204 - val_mae: 2.2006 - 406ms/epoch - 3ms/step\n",
            "Epoch 6/100\n",
            "153/153 - 0s - loss: 4.9589 - mae: 2.1901 - val_loss: 5.0204 - val_mae: 2.2006 - 341ms/epoch - 2ms/step\n",
            "Epoch 7/100\n",
            "153/153 - 0s - loss: 4.9589 - mae: 2.1901 - val_loss: 5.0204 - val_mae: 2.2006 - 342ms/epoch - 2ms/step\n",
            "Epoch 8/100\n",
            "153/153 - 0s - loss: 4.9589 - mae: 2.1901 - val_loss: 5.0204 - val_mae: 2.2006 - 311ms/epoch - 2ms/step\n",
            "Epoch 9/100\n",
            "153/153 - 0s - loss: 4.9589 - mae: 2.1901 - val_loss: 5.0204 - val_mae: 2.2006 - 317ms/epoch - 2ms/step\n",
            "Epoch 10/100\n",
            "153/153 - 0s - loss: 4.9589 - mae: 2.1901 - val_loss: 5.0204 - val_mae: 2.2006 - 326ms/epoch - 2ms/step\n",
            "Epoch 11/100\n",
            "153/153 - 0s - loss: 4.9589 - mae: 2.1901 - val_loss: 5.0204 - val_mae: 2.2006 - 324ms/epoch - 2ms/step\n",
            "Epoch 12/100\n",
            "153/153 - 0s - loss: 4.9589 - mae: 2.1901 - val_loss: 5.0204 - val_mae: 2.2006 - 322ms/epoch - 2ms/step\n",
            "Epoch 13/100\n",
            "153/153 - 0s - loss: 4.9589 - mae: 2.1901 - val_loss: 5.0204 - val_mae: 2.2006 - 312ms/epoch - 2ms/step\n",
            "Epoch 14/100\n",
            "153/153 - 0s - loss: 4.9589 - mae: 2.1901 - val_loss: 5.0204 - val_mae: 2.2006 - 320ms/epoch - 2ms/step\n",
            "Epoch 15/100\n",
            "153/153 - 0s - loss: 4.9589 - mae: 2.1901 - val_loss: 5.0204 - val_mae: 2.2006 - 331ms/epoch - 2ms/step\n",
            "Epoch 16/100\n",
            "153/153 - 0s - loss: 4.9589 - mae: 2.1901 - val_loss: 5.0204 - val_mae: 2.2006 - 323ms/epoch - 2ms/step\n",
            "Epoch 17/100\n",
            "153/153 - 0s - loss: 4.9589 - mae: 2.1901 - val_loss: 5.0204 - val_mae: 2.2006 - 328ms/epoch - 2ms/step\n",
            "Epoch 18/100\n",
            "153/153 - 0s - loss: 4.9589 - mae: 2.1901 - val_loss: 5.0204 - val_mae: 2.2006 - 330ms/epoch - 2ms/step\n",
            "Epoch 19/100\n",
            "153/153 - 0s - loss: 4.9589 - mae: 2.1901 - val_loss: 5.0204 - val_mae: 2.2006 - 339ms/epoch - 2ms/step\n",
            "Epoch 20/100\n",
            "153/153 - 0s - loss: 4.9589 - mae: 2.1901 - val_loss: 5.0204 - val_mae: 2.2006 - 338ms/epoch - 2ms/step\n",
            "Epoch 21/100\n",
            "153/153 - 0s - loss: 4.9589 - mae: 2.1901 - val_loss: 5.0204 - val_mae: 2.2006 - 328ms/epoch - 2ms/step\n",
            "Epoch 22/100\n",
            "153/153 - 0s - loss: 4.9589 - mae: 2.1901 - val_loss: 5.0204 - val_mae: 2.2006 - 324ms/epoch - 2ms/step\n",
            "Epoch 23/100\n",
            "153/153 - 0s - loss: 4.9589 - mae: 2.1901 - val_loss: 5.0204 - val_mae: 2.2006 - 350ms/epoch - 2ms/step\n",
            "Epoch 24/100\n",
            "153/153 - 0s - loss: 4.9589 - mae: 2.1901 - val_loss: 5.0204 - val_mae: 2.2006 - 335ms/epoch - 2ms/step\n",
            "Epoch 25/100\n",
            "153/153 - 0s - loss: 4.9589 - mae: 2.1901 - val_loss: 5.0204 - val_mae: 2.2006 - 320ms/epoch - 2ms/step\n",
            "Epoch 26/100\n",
            "153/153 - 0s - loss: 4.9589 - mae: 2.1901 - val_loss: 5.0204 - val_mae: 2.2006 - 445ms/epoch - 3ms/step\n",
            "Epoch 27/100\n",
            "153/153 - 0s - loss: 4.9589 - mae: 2.1901 - val_loss: 5.0204 - val_mae: 2.2006 - 315ms/epoch - 2ms/step\n",
            "Epoch 28/100\n",
            "153/153 - 0s - loss: 4.9589 - mae: 2.1901 - val_loss: 5.0204 - val_mae: 2.2006 - 323ms/epoch - 2ms/step\n",
            "Epoch 29/100\n",
            "153/153 - 0s - loss: 4.9589 - mae: 2.1901 - val_loss: 5.0204 - val_mae: 2.2006 - 316ms/epoch - 2ms/step\n",
            "Epoch 30/100\n",
            "153/153 - 0s - loss: 4.9589 - mae: 2.1901 - val_loss: 5.0204 - val_mae: 2.2006 - 327ms/epoch - 2ms/step\n",
            "Epoch 31/100\n",
            "153/153 - 0s - loss: 4.9589 - mae: 2.1901 - val_loss: 5.0204 - val_mae: 2.2006 - 322ms/epoch - 2ms/step\n",
            "Epoch 32/100\n",
            "153/153 - 0s - loss: 4.9589 - mae: 2.1901 - val_loss: 5.0204 - val_mae: 2.2006 - 335ms/epoch - 2ms/step\n",
            "Epoch 33/100\n",
            "153/153 - 0s - loss: 4.9589 - mae: 2.1901 - val_loss: 5.0204 - val_mae: 2.2006 - 313ms/epoch - 2ms/step\n",
            "Epoch 34/100\n",
            "153/153 - 0s - loss: 4.9589 - mae: 2.1901 - val_loss: 5.0204 - val_mae: 2.2006 - 324ms/epoch - 2ms/step\n",
            "Epoch 35/100\n",
            "153/153 - 0s - loss: 4.9589 - mae: 2.1901 - val_loss: 5.0204 - val_mae: 2.2006 - 323ms/epoch - 2ms/step\n",
            "Epoch 36/100\n",
            "153/153 - 0s - loss: 4.9589 - mae: 2.1901 - val_loss: 5.0204 - val_mae: 2.2006 - 317ms/epoch - 2ms/step\n",
            "Epoch 37/100\n",
            "153/153 - 0s - loss: 4.9589 - mae: 2.1901 - val_loss: 5.0204 - val_mae: 2.2006 - 304ms/epoch - 2ms/step\n",
            "Epoch 38/100\n",
            "153/153 - 0s - loss: 4.9589 - mae: 2.1901 - val_loss: 5.0204 - val_mae: 2.2006 - 328ms/epoch - 2ms/step\n",
            "Epoch 39/100\n",
            "153/153 - 0s - loss: 4.9589 - mae: 2.1901 - val_loss: 5.0204 - val_mae: 2.2006 - 324ms/epoch - 2ms/step\n",
            "Epoch 40/100\n",
            "153/153 - 0s - loss: 4.9589 - mae: 2.1901 - val_loss: 5.0204 - val_mae: 2.2006 - 312ms/epoch - 2ms/step\n",
            "Epoch 41/100\n",
            "153/153 - 0s - loss: 4.9589 - mae: 2.1901 - val_loss: 5.0204 - val_mae: 2.2006 - 327ms/epoch - 2ms/step\n",
            "Epoch 42/100\n",
            "153/153 - 0s - loss: 4.9589 - mae: 2.1901 - val_loss: 5.0204 - val_mae: 2.2006 - 320ms/epoch - 2ms/step\n",
            "Epoch 43/100\n",
            "153/153 - 0s - loss: 4.9589 - mae: 2.1901 - val_loss: 5.0204 - val_mae: 2.2006 - 321ms/epoch - 2ms/step\n",
            "Epoch 44/100\n",
            "153/153 - 0s - loss: 4.9589 - mae: 2.1901 - val_loss: 5.0204 - val_mae: 2.2006 - 325ms/epoch - 2ms/step\n",
            "Epoch 45/100\n",
            "153/153 - 0s - loss: 4.9589 - mae: 2.1901 - val_loss: 5.0204 - val_mae: 2.2006 - 306ms/epoch - 2ms/step\n",
            "Epoch 46/100\n",
            "153/153 - 0s - loss: 4.9589 - mae: 2.1901 - val_loss: 5.0204 - val_mae: 2.2006 - 309ms/epoch - 2ms/step\n",
            "Epoch 47/100\n",
            "153/153 - 0s - loss: 4.9589 - mae: 2.1901 - val_loss: 5.0204 - val_mae: 2.2006 - 320ms/epoch - 2ms/step\n",
            "Epoch 48/100\n",
            "153/153 - 0s - loss: 4.9589 - mae: 2.1901 - val_loss: 5.0204 - val_mae: 2.2006 - 321ms/epoch - 2ms/step\n",
            "Epoch 49/100\n",
            "153/153 - 0s - loss: 4.9589 - mae: 2.1901 - val_loss: 5.0204 - val_mae: 2.2006 - 320ms/epoch - 2ms/step\n",
            "Epoch 50/100\n",
            "153/153 - 0s - loss: 4.9589 - mae: 2.1901 - val_loss: 5.0204 - val_mae: 2.2006 - 360ms/epoch - 2ms/step\n",
            "Epoch 51/100\n",
            "153/153 - 0s - loss: 4.9589 - mae: 2.1901 - val_loss: 5.0204 - val_mae: 2.2006 - 426ms/epoch - 3ms/step\n",
            "Epoch 52/100\n",
            "153/153 - 0s - loss: 4.9589 - mae: 2.1901 - val_loss: 5.0204 - val_mae: 2.2006 - 325ms/epoch - 2ms/step\n",
            "Epoch 53/100\n",
            "153/153 - 0s - loss: 4.9589 - mae: 2.1901 - val_loss: 5.0204 - val_mae: 2.2006 - 350ms/epoch - 2ms/step\n",
            "Epoch 54/100\n",
            "153/153 - 0s - loss: 4.9589 - mae: 2.1901 - val_loss: 5.0204 - val_mae: 2.2006 - 337ms/epoch - 2ms/step\n",
            "Epoch 55/100\n",
            "153/153 - 0s - loss: 4.9589 - mae: 2.1901 - val_loss: 5.0204 - val_mae: 2.2006 - 313ms/epoch - 2ms/step\n",
            "Epoch 56/100\n",
            "153/153 - 0s - loss: 4.9589 - mae: 2.1901 - val_loss: 5.0204 - val_mae: 2.2006 - 350ms/epoch - 2ms/step\n",
            "Epoch 57/100\n",
            "153/153 - 0s - loss: 4.9589 - mae: 2.1901 - val_loss: 5.0204 - val_mae: 2.2006 - 329ms/epoch - 2ms/step\n",
            "Epoch 58/100\n",
            "153/153 - 0s - loss: 4.9589 - mae: 2.1901 - val_loss: 5.0204 - val_mae: 2.2006 - 336ms/epoch - 2ms/step\n",
            "Epoch 59/100\n",
            "153/153 - 0s - loss: 4.9589 - mae: 2.1901 - val_loss: 5.0204 - val_mae: 2.2006 - 381ms/epoch - 2ms/step\n",
            "Epoch 60/100\n",
            "153/153 - 0s - loss: 4.9589 - mae: 2.1901 - val_loss: 5.0204 - val_mae: 2.2006 - 338ms/epoch - 2ms/step\n",
            "Epoch 61/100\n",
            "153/153 - 0s - loss: 4.9589 - mae: 2.1901 - val_loss: 5.0204 - val_mae: 2.2006 - 317ms/epoch - 2ms/step\n",
            "Epoch 62/100\n",
            "153/153 - 0s - loss: 4.9589 - mae: 2.1901 - val_loss: 5.0204 - val_mae: 2.2006 - 418ms/epoch - 3ms/step\n",
            "Epoch 63/100\n",
            "153/153 - 0s - loss: 4.9589 - mae: 2.1901 - val_loss: 5.0204 - val_mae: 2.2006 - 415ms/epoch - 3ms/step\n",
            "Epoch 64/100\n",
            "153/153 - 0s - loss: 4.9589 - mae: 2.1901 - val_loss: 5.0204 - val_mae: 2.2006 - 319ms/epoch - 2ms/step\n",
            "Epoch 65/100\n",
            "153/153 - 0s - loss: 4.9589 - mae: 2.1901 - val_loss: 5.0204 - val_mae: 2.2006 - 357ms/epoch - 2ms/step\n",
            "Epoch 66/100\n",
            "153/153 - 0s - loss: 4.9589 - mae: 2.1901 - val_loss: 5.0204 - val_mae: 2.2006 - 339ms/epoch - 2ms/step\n",
            "Epoch 67/100\n",
            "153/153 - 1s - loss: 4.9589 - mae: 2.1901 - val_loss: 5.0204 - val_mae: 2.2006 - 888ms/epoch - 6ms/step\n",
            "Epoch 68/100\n",
            "153/153 - 0s - loss: 4.9589 - mae: 2.1901 - val_loss: 5.0204 - val_mae: 2.2006 - 341ms/epoch - 2ms/step\n",
            "Epoch 69/100\n",
            "153/153 - 0s - loss: 4.9589 - mae: 2.1901 - val_loss: 5.0204 - val_mae: 2.2006 - 442ms/epoch - 3ms/step\n",
            "Epoch 70/100\n",
            "153/153 - 0s - loss: 4.9589 - mae: 2.1901 - val_loss: 5.0204 - val_mae: 2.2006 - 461ms/epoch - 3ms/step\n",
            "Epoch 71/100\n",
            "153/153 - 0s - loss: 4.9589 - mae: 2.1901 - val_loss: 5.0204 - val_mae: 2.2006 - 391ms/epoch - 3ms/step\n",
            "Epoch 72/100\n",
            "153/153 - 0s - loss: 4.9589 - mae: 2.1901 - val_loss: 5.0204 - val_mae: 2.2006 - 377ms/epoch - 2ms/step\n",
            "Epoch 73/100\n",
            "153/153 - 0s - loss: 4.9589 - mae: 2.1901 - val_loss: 5.0204 - val_mae: 2.2006 - 488ms/epoch - 3ms/step\n",
            "Epoch 74/100\n",
            "153/153 - 0s - loss: 4.9589 - mae: 2.1901 - val_loss: 5.0204 - val_mae: 2.2006 - 464ms/epoch - 3ms/step\n",
            "Epoch 75/100\n",
            "153/153 - 0s - loss: 4.9589 - mae: 2.1901 - val_loss: 5.0204 - val_mae: 2.2006 - 339ms/epoch - 2ms/step\n",
            "Epoch 76/100\n",
            "153/153 - 0s - loss: 4.9589 - mae: 2.1901 - val_loss: 5.0204 - val_mae: 2.2006 - 349ms/epoch - 2ms/step\n",
            "Epoch 77/100\n",
            "153/153 - 0s - loss: 4.9589 - mae: 2.1901 - val_loss: 5.0204 - val_mae: 2.2006 - 433ms/epoch - 3ms/step\n",
            "Epoch 78/100\n",
            "153/153 - 0s - loss: 4.9589 - mae: 2.1901 - val_loss: 5.0204 - val_mae: 2.2006 - 333ms/epoch - 2ms/step\n",
            "Epoch 79/100\n",
            "153/153 - 0s - loss: 4.9589 - mae: 2.1901 - val_loss: 5.0204 - val_mae: 2.2006 - 452ms/epoch - 3ms/step\n",
            "Epoch 80/100\n",
            "153/153 - 0s - loss: 4.9589 - mae: 2.1901 - val_loss: 5.0204 - val_mae: 2.2006 - 328ms/epoch - 2ms/step\n",
            "Epoch 81/100\n",
            "153/153 - 0s - loss: 4.9589 - mae: 2.1901 - val_loss: 5.0204 - val_mae: 2.2006 - 328ms/epoch - 2ms/step\n",
            "Epoch 82/100\n",
            "153/153 - 0s - loss: 4.9589 - mae: 2.1901 - val_loss: 5.0204 - val_mae: 2.2006 - 357ms/epoch - 2ms/step\n",
            "Epoch 83/100\n",
            "153/153 - 0s - loss: 4.9589 - mae: 2.1901 - val_loss: 5.0204 - val_mae: 2.2006 - 433ms/epoch - 3ms/step\n",
            "Epoch 84/100\n",
            "153/153 - 0s - loss: 4.9589 - mae: 2.1901 - val_loss: 5.0204 - val_mae: 2.2006 - 347ms/epoch - 2ms/step\n",
            "Epoch 85/100\n",
            "153/153 - 0s - loss: 4.9589 - mae: 2.1901 - val_loss: 5.0204 - val_mae: 2.2006 - 421ms/epoch - 3ms/step\n",
            "Epoch 86/100\n",
            "153/153 - 0s - loss: 4.9589 - mae: 2.1901 - val_loss: 5.0204 - val_mae: 2.2006 - 407ms/epoch - 3ms/step\n",
            "Epoch 87/100\n",
            "153/153 - 0s - loss: 4.9589 - mae: 2.1901 - val_loss: 5.0204 - val_mae: 2.2006 - 350ms/epoch - 2ms/step\n",
            "Epoch 88/100\n",
            "153/153 - 0s - loss: 4.9589 - mae: 2.1901 - val_loss: 5.0204 - val_mae: 2.2006 - 339ms/epoch - 2ms/step\n",
            "Epoch 89/100\n",
            "153/153 - 0s - loss: 4.9589 - mae: 2.1901 - val_loss: 5.0204 - val_mae: 2.2006 - 437ms/epoch - 3ms/step\n",
            "Epoch 90/100\n",
            "153/153 - 1s - loss: 4.9589 - mae: 2.1901 - val_loss: 5.0204 - val_mae: 2.2006 - 906ms/epoch - 6ms/step\n",
            "Epoch 91/100\n",
            "153/153 - 1s - loss: 4.9589 - mae: 2.1901 - val_loss: 5.0204 - val_mae: 2.2006 - 839ms/epoch - 5ms/step\n",
            "Epoch 92/100\n",
            "153/153 - 0s - loss: 4.9589 - mae: 2.1901 - val_loss: 5.0204 - val_mae: 2.2006 - 401ms/epoch - 3ms/step\n",
            "Epoch 93/100\n",
            "153/153 - 0s - loss: 4.9589 - mae: 2.1901 - val_loss: 5.0204 - val_mae: 2.2006 - 325ms/epoch - 2ms/step\n",
            "Epoch 94/100\n",
            "153/153 - 0s - loss: 4.9589 - mae: 2.1901 - val_loss: 5.0204 - val_mae: 2.2006 - 433ms/epoch - 3ms/step\n",
            "Epoch 95/100\n",
            "153/153 - 0s - loss: 4.9589 - mae: 2.1901 - val_loss: 5.0204 - val_mae: 2.2006 - 353ms/epoch - 2ms/step\n",
            "Epoch 96/100\n",
            "153/153 - 0s - loss: 4.9589 - mae: 2.1901 - val_loss: 5.0204 - val_mae: 2.2006 - 329ms/epoch - 2ms/step\n",
            "Epoch 97/100\n",
            "153/153 - 0s - loss: 4.9589 - mae: 2.1901 - val_loss: 5.0204 - val_mae: 2.2006 - 324ms/epoch - 2ms/step\n",
            "Epoch 98/100\n",
            "153/153 - 0s - loss: 4.9589 - mae: 2.1901 - val_loss: 5.0204 - val_mae: 2.2006 - 347ms/epoch - 2ms/step\n",
            "Epoch 99/100\n",
            "153/153 - 0s - loss: 4.9589 - mae: 2.1901 - val_loss: 5.0204 - val_mae: 2.2006 - 331ms/epoch - 2ms/step\n",
            "Epoch 100/100\n",
            "153/153 - 0s - loss: 4.9589 - mae: 2.1901 - val_loss: 5.0204 - val_mae: 2.2006 - 326ms/epoch - 2ms/step\n",
            "Model: \"sequential_11\"\n",
            "_________________________________________________________________\n",
            " Layer (type)                Output Shape              Param #   \n",
            "=================================================================\n",
            " dense_43 (Dense)            (None, 128)               1664      \n",
            "                                                                 \n",
            " dense_44 (Dense)            (None, 64)                8256      \n",
            "                                                                 \n",
            " dense_45 (Dense)            (None, 30)                1950      \n",
            "                                                                 \n",
            " dense_46 (Dense)            (None, 5)                 155       \n",
            "                                                                 \n",
            " dense_47 (Dense)            (None, 1)                 6         \n",
            "                                                                 \n",
            "=================================================================\n",
            "Total params: 12,031\n",
            "Trainable params: 12,031\n",
            "Non-trainable params: 0\n",
            "_________________________________________________________________\n"
          ]
        }
      ]
    },
    {
      "cell_type": "markdown",
      "source": [
        "Plotting Regression Model 2"
      ],
      "metadata": {
        "id": "JRHjNr9xgXeT"
      }
    },
    {
      "cell_type": "code",
      "source": [
        "plot_model_history(regmodl2_history)"
      ],
      "metadata": {
        "id": "SNIWIhR2gaYN",
        "outputId": "2d5d6fb2-58bf-455d-bb0e-8861432f9d67",
        "colab": {
          "base_uri": "https://localhost:8080/",
          "height": 295
        }
      },
      "execution_count": 83,
      "outputs": [
        {
          "output_type": "display_data",
          "data": {
            "image/png": "[encoded data removed]",
            "text/plain": [
              "<Figure size 432x288 with 1 Axes>"
            ]
          },
          "metadata": {
            "needs_background": "light"
          }
        }
      ]
    },
    {
      "cell_type": "markdown",
      "source": [
        "### Regression Model 3"
      ],
      "metadata": {
        "id": "9bt4_Yz4K8e9"
      }
    },
    {
      "cell_type": "code",
      "source": [
        "# reg mod 3\n",
        "def build_regmodl3():\n",
        "  model = keras.Sequential([\n",
        "    layers.Dense(512, activation=\"relu\"),\n",
        "    layers.Dense(125, activation=\"relu\"),\n",
        "    layers.Dense(64, activation=\"relu\"),\n",
        "    layers.Dense(30, activation=\"relu\"),\n",
        "    layers.Dense(5, activation=\"relu\"),\n",
        "    layers.Dense(1)                    \n",
        "  ])\n",
        "  model.compile(optimizer=\"rmsprop\", loss=\"mse\", metrics=[\"mae\"])\n",
        "  return model;\n",
        "\n",
        "regmodl3 = build_regmodl3()\n",
        "\n",
        "regmodl3_history = regmodl3.fit(x=Xtrain, y=train_labels, epochs=100, verbose=2, validation_data=(Xval, val_labels))\n",
        "\n",
        "regmodl3.summary()"
      ],
      "metadata": {
        "id": "FKRKSxhfAeWi",
        "colab": {
          "base_uri": "https://localhost:8080/"
        },
        "outputId": "bd37f2e2-920b-428e-eb01-03b26e144cb3"
      },
      "execution_count": 84,
      "outputs": [
        {
          "output_type": "stream",
          "name": "stdout",
          "text": [
            "Epoch 1/100\n",
            "153/153 - 2s - loss: 2.1252 - mae: 0.8085 - val_loss: 0.2738 - val_mae: 0.4606 - 2s/epoch - 12ms/step\n",
            "Epoch 2/100\n",
            "153/153 - 1s - loss: 0.3405 - mae: 0.4462 - val_loss: 0.2066 - val_mae: 0.2848 - 638ms/epoch - 4ms/step\n",
            "Epoch 3/100\n",
            "153/153 - 1s - loss: 0.2494 - mae: 0.3847 - val_loss: 0.2728 - val_mae: 0.3664 - 599ms/epoch - 4ms/step\n",
            "Epoch 4/100\n",
            "153/153 - 0s - loss: 0.2058 - mae: 0.3467 - val_loss: 0.2305 - val_mae: 0.4398 - 498ms/epoch - 3ms/step\n",
            "Epoch 5/100\n",
            "153/153 - 1s - loss: 0.1834 - mae: 0.3217 - val_loss: 0.3311 - val_mae: 0.5131 - 536ms/epoch - 4ms/step\n",
            "Epoch 6/100\n",
            "153/153 - 1s - loss: 0.1753 - mae: 0.3156 - val_loss: 0.1898 - val_mae: 0.3911 - 598ms/epoch - 4ms/step\n",
            "Epoch 7/100\n",
            "153/153 - 1s - loss: 0.1685 - mae: 0.3142 - val_loss: 0.4525 - val_mae: 0.6033 - 619ms/epoch - 4ms/step\n",
            "Epoch 8/100\n",
            "153/153 - 1s - loss: 0.1660 - mae: 0.3087 - val_loss: 0.3188 - val_mae: 0.4278 - 526ms/epoch - 3ms/step\n",
            "Epoch 9/100\n",
            "153/153 - 1s - loss: 0.1637 - mae: 0.3048 - val_loss: 0.2742 - val_mae: 0.3745 - 591ms/epoch - 4ms/step\n",
            "Epoch 10/100\n",
            "153/153 - 1s - loss: 0.1565 - mae: 0.2980 - val_loss: 0.1546 - val_mae: 0.3396 - 501ms/epoch - 3ms/step\n",
            "Epoch 11/100\n",
            "153/153 - 1s - loss: 0.1539 - mae: 0.2938 - val_loss: 0.2245 - val_mae: 0.3298 - 588ms/epoch - 4ms/step\n",
            "Epoch 12/100\n",
            "153/153 - 1s - loss: 0.1561 - mae: 0.2963 - val_loss: 0.2711 - val_mae: 0.4719 - 515ms/epoch - 3ms/step\n",
            "Epoch 13/100\n",
            "153/153 - 1s - loss: 0.1519 - mae: 0.2935 - val_loss: 0.1452 - val_mae: 0.3063 - 601ms/epoch - 4ms/step\n",
            "Epoch 14/100\n",
            "153/153 - 1s - loss: 0.1504 - mae: 0.2901 - val_loss: 0.1420 - val_mae: 0.2663 - 633ms/epoch - 4ms/step\n",
            "Epoch 15/100\n",
            "153/153 - 1s - loss: 0.1493 - mae: 0.2903 - val_loss: 0.1664 - val_mae: 0.2686 - 563ms/epoch - 4ms/step\n",
            "Epoch 16/100\n",
            "153/153 - 1s - loss: 0.1470 - mae: 0.2868 - val_loss: 0.4108 - val_mae: 0.5657 - 567ms/epoch - 4ms/step\n",
            "Epoch 17/100\n",
            "153/153 - 1s - loss: 0.1447 - mae: 0.2855 - val_loss: 0.2003 - val_mae: 0.4062 - 540ms/epoch - 4ms/step\n",
            "Epoch 18/100\n",
            "153/153 - 1s - loss: 0.1457 - mae: 0.2863 - val_loss: 0.1825 - val_mae: 0.3791 - 592ms/epoch - 4ms/step\n",
            "Epoch 19/100\n",
            "153/153 - 1s - loss: 0.1453 - mae: 0.2855 - val_loss: 0.1460 - val_mae: 0.3198 - 558ms/epoch - 4ms/step\n",
            "Epoch 20/100\n",
            "153/153 - 0s - loss: 0.1439 - mae: 0.2822 - val_loss: 0.1434 - val_mae: 0.2685 - 482ms/epoch - 3ms/step\n",
            "Epoch 21/100\n",
            "153/153 - 1s - loss: 0.1450 - mae: 0.2851 - val_loss: 0.1962 - val_mae: 0.4058 - 555ms/epoch - 4ms/step\n",
            "Epoch 22/100\n",
            "153/153 - 1s - loss: 0.1437 - mae: 0.2838 - val_loss: 0.1718 - val_mae: 0.3676 - 555ms/epoch - 4ms/step\n",
            "Epoch 23/100\n",
            "153/153 - 1s - loss: 0.1404 - mae: 0.2789 - val_loss: 0.1401 - val_mae: 0.2720 - 554ms/epoch - 4ms/step\n",
            "Epoch 24/100\n",
            "153/153 - 1s - loss: 0.1431 - mae: 0.2823 - val_loss: 0.1426 - val_mae: 0.3101 - 576ms/epoch - 4ms/step\n",
            "Epoch 25/100\n",
            "153/153 - 0s - loss: 0.1416 - mae: 0.2797 - val_loss: 0.1483 - val_mae: 0.2577 - 474ms/epoch - 3ms/step\n",
            "Epoch 26/100\n",
            "153/153 - 0s - loss: 0.1414 - mae: 0.2803 - val_loss: 0.1526 - val_mae: 0.3321 - 470ms/epoch - 3ms/step\n",
            "Epoch 27/100\n",
            "153/153 - 1s - loss: 0.1411 - mae: 0.2807 - val_loss: 0.1367 - val_mae: 0.2820 - 529ms/epoch - 3ms/step\n",
            "Epoch 28/100\n",
            "153/153 - 0s - loss: 0.1397 - mae: 0.2779 - val_loss: 0.1412 - val_mae: 0.2670 - 470ms/epoch - 3ms/step\n",
            "Epoch 29/100\n",
            "153/153 - 0s - loss: 0.1398 - mae: 0.2787 - val_loss: 0.2131 - val_mae: 0.3046 - 480ms/epoch - 3ms/step\n",
            "Epoch 30/100\n",
            "153/153 - 0s - loss: 0.1406 - mae: 0.2788 - val_loss: 0.1364 - val_mae: 0.2719 - 494ms/epoch - 3ms/step\n",
            "Epoch 31/100\n",
            "153/153 - 0s - loss: 0.1395 - mae: 0.2774 - val_loss: 0.1729 - val_mae: 0.2729 - 481ms/epoch - 3ms/step\n",
            "Epoch 32/100\n",
            "153/153 - 1s - loss: 0.1394 - mae: 0.2779 - val_loss: 0.1360 - val_mae: 0.2750 - 603ms/epoch - 4ms/step\n",
            "Epoch 33/100\n",
            "153/153 - 1s - loss: 0.1389 - mae: 0.2771 - val_loss: 0.1519 - val_mae: 0.2690 - 502ms/epoch - 3ms/step\n",
            "Epoch 34/100\n",
            "153/153 - 1s - loss: 0.1388 - mae: 0.2769 - val_loss: 0.1459 - val_mae: 0.3207 - 597ms/epoch - 4ms/step\n",
            "Epoch 35/100\n",
            "153/153 - 1s - loss: 0.1385 - mae: 0.2777 - val_loss: 0.1392 - val_mae: 0.2892 - 510ms/epoch - 3ms/step\n",
            "Epoch 36/100\n",
            "153/153 - 1s - loss: 0.1377 - mae: 0.2770 - val_loss: 0.1389 - val_mae: 0.2954 - 584ms/epoch - 4ms/step\n",
            "Epoch 37/100\n",
            "153/153 - 0s - loss: 0.1374 - mae: 0.2757 - val_loss: 0.1506 - val_mae: 0.2569 - 492ms/epoch - 3ms/step\n",
            "Epoch 38/100\n",
            "153/153 - 1s - loss: 0.1364 - mae: 0.2733 - val_loss: 0.1607 - val_mae: 0.2672 - 557ms/epoch - 4ms/step\n",
            "Epoch 39/100\n",
            "153/153 - 1s - loss: 0.1381 - mae: 0.2759 - val_loss: 0.1736 - val_mae: 0.2801 - 573ms/epoch - 4ms/step\n",
            "Epoch 40/100\n",
            "153/153 - 1s - loss: 0.1368 - mae: 0.2731 - val_loss: 0.1391 - val_mae: 0.2931 - 589ms/epoch - 4ms/step\n",
            "Epoch 41/100\n",
            "153/153 - 1s - loss: 0.1368 - mae: 0.2740 - val_loss: 0.2447 - val_mae: 0.4392 - 532ms/epoch - 3ms/step\n",
            "Epoch 42/100\n",
            "153/153 - 1s - loss: 0.1365 - mae: 0.2726 - val_loss: 0.1693 - val_mae: 0.3600 - 615ms/epoch - 4ms/step\n",
            "Epoch 43/100\n",
            "153/153 - 1s - loss: 0.1374 - mae: 0.2736 - val_loss: 0.1449 - val_mae: 0.3162 - 521ms/epoch - 3ms/step\n",
            "Epoch 44/100\n",
            "153/153 - 1s - loss: 0.1363 - mae: 0.2735 - val_loss: 0.1538 - val_mae: 0.3317 - 631ms/epoch - 4ms/step\n",
            "Epoch 45/100\n",
            "153/153 - 1s - loss: 0.1362 - mae: 0.2725 - val_loss: 0.1546 - val_mae: 0.2564 - 514ms/epoch - 3ms/step\n",
            "Epoch 46/100\n",
            "153/153 - 1s - loss: 0.1359 - mae: 0.2736 - val_loss: 0.1381 - val_mae: 0.2628 - 520ms/epoch - 3ms/step\n",
            "Epoch 47/100\n",
            "153/153 - 1s - loss: 0.1355 - mae: 0.2720 - val_loss: 0.1429 - val_mae: 0.2596 - 525ms/epoch - 3ms/step\n",
            "Epoch 48/100\n",
            "153/153 - 1s - loss: 0.1352 - mae: 0.2702 - val_loss: 0.1415 - val_mae: 0.3045 - 596ms/epoch - 4ms/step\n",
            "Epoch 49/100\n",
            "153/153 - 0s - loss: 0.1337 - mae: 0.2692 - val_loss: 0.1826 - val_mae: 0.2728 - 499ms/epoch - 3ms/step\n",
            "Epoch 50/100\n",
            "153/153 - 1s - loss: 0.1355 - mae: 0.2687 - val_loss: 0.1678 - val_mae: 0.3546 - 568ms/epoch - 4ms/step\n",
            "Epoch 51/100\n",
            "153/153 - 1s - loss: 0.1365 - mae: 0.2722 - val_loss: 0.1367 - val_mae: 0.2847 - 622ms/epoch - 4ms/step\n",
            "Epoch 52/100\n",
            "153/153 - 1s - loss: 0.1340 - mae: 0.2696 - val_loss: 0.1416 - val_mae: 0.2590 - 541ms/epoch - 4ms/step\n",
            "Epoch 53/100\n",
            "153/153 - 1s - loss: 0.1337 - mae: 0.2678 - val_loss: 0.1459 - val_mae: 0.3039 - 565ms/epoch - 4ms/step\n",
            "Epoch 54/100\n",
            "153/153 - 1s - loss: 0.1341 - mae: 0.2683 - val_loss: 0.2099 - val_mae: 0.3265 - 646ms/epoch - 4ms/step\n",
            "Epoch 55/100\n",
            "153/153 - 1s - loss: 0.1358 - mae: 0.2692 - val_loss: 0.1698 - val_mae: 0.2581 - 638ms/epoch - 4ms/step\n",
            "Epoch 56/100\n",
            "153/153 - 1s - loss: 0.1346 - mae: 0.2690 - val_loss: 0.1575 - val_mae: 0.2659 - 509ms/epoch - 3ms/step\n",
            "Epoch 57/100\n",
            "153/153 - 1s - loss: 0.1337 - mae: 0.2681 - val_loss: 0.1409 - val_mae: 0.2769 - 502ms/epoch - 3ms/step\n",
            "Epoch 58/100\n",
            "153/153 - 0s - loss: 0.1341 - mae: 0.2674 - val_loss: 0.1554 - val_mae: 0.3279 - 485ms/epoch - 3ms/step\n",
            "Epoch 59/100\n",
            "153/153 - 1s - loss: 0.1348 - mae: 0.2697 - val_loss: 0.1789 - val_mae: 0.2695 - 568ms/epoch - 4ms/step\n",
            "Epoch 60/100\n",
            "153/153 - 1s - loss: 0.1340 - mae: 0.2675 - val_loss: 0.1589 - val_mae: 0.3299 - 537ms/epoch - 4ms/step\n",
            "Epoch 61/100\n",
            "153/153 - 0s - loss: 0.1326 - mae: 0.2664 - val_loss: 0.1451 - val_mae: 0.2722 - 470ms/epoch - 3ms/step\n",
            "Epoch 62/100\n",
            "153/153 - 1s - loss: 0.1328 - mae: 0.2659 - val_loss: 0.1475 - val_mae: 0.2838 - 556ms/epoch - 4ms/step\n",
            "Epoch 63/100\n",
            "153/153 - 1s - loss: 0.1328 - mae: 0.2671 - val_loss: 0.1833 - val_mae: 0.3656 - 520ms/epoch - 3ms/step\n",
            "Epoch 64/100\n",
            "153/153 - 1s - loss: 0.1321 - mae: 0.2656 - val_loss: 0.1668 - val_mae: 0.3334 - 591ms/epoch - 4ms/step\n",
            "Epoch 65/100\n",
            "153/153 - 1s - loss: 0.1314 - mae: 0.2654 - val_loss: 0.1389 - val_mae: 0.2748 - 516ms/epoch - 3ms/step\n",
            "Epoch 66/100\n",
            "153/153 - 0s - loss: 0.1328 - mae: 0.2640 - val_loss: 0.1522 - val_mae: 0.2602 - 486ms/epoch - 3ms/step\n",
            "Epoch 67/100\n",
            "153/153 - 1s - loss: 0.1323 - mae: 0.2654 - val_loss: 0.1472 - val_mae: 0.2590 - 578ms/epoch - 4ms/step\n",
            "Epoch 68/100\n",
            "153/153 - 1s - loss: 0.1317 - mae: 0.2660 - val_loss: 0.1397 - val_mae: 0.2809 - 618ms/epoch - 4ms/step\n",
            "Epoch 69/100\n",
            "153/153 - 1s - loss: 0.1327 - mae: 0.2645 - val_loss: 0.1849 - val_mae: 0.2728 - 585ms/epoch - 4ms/step\n",
            "Epoch 70/100\n",
            "153/153 - 1s - loss: 0.1317 - mae: 0.2628 - val_loss: 0.1509 - val_mae: 0.2939 - 616ms/epoch - 4ms/step\n",
            "Epoch 71/100\n",
            "153/153 - 1s - loss: 0.1311 - mae: 0.2611 - val_loss: 0.1716 - val_mae: 0.2659 - 535ms/epoch - 3ms/step\n",
            "Epoch 72/100\n",
            "153/153 - 1s - loss: 0.1332 - mae: 0.2633 - val_loss: 0.1473 - val_mae: 0.2498 - 634ms/epoch - 4ms/step\n",
            "Epoch 73/100\n",
            "153/153 - 1s - loss: 0.1321 - mae: 0.2628 - val_loss: 0.1524 - val_mae: 0.2565 - 535ms/epoch - 3ms/step\n",
            "Epoch 74/100\n",
            "153/153 - 1s - loss: 0.1317 - mae: 0.2612 - val_loss: 0.1577 - val_mae: 0.3455 - 538ms/epoch - 4ms/step\n",
            "Epoch 75/100\n",
            "153/153 - 1s - loss: 0.1307 - mae: 0.2633 - val_loss: 0.2148 - val_mae: 0.4011 - 529ms/epoch - 3ms/step\n",
            "Epoch 76/100\n",
            "153/153 - 1s - loss: 0.1318 - mae: 0.2634 - val_loss: 0.1595 - val_mae: 0.3343 - 563ms/epoch - 4ms/step\n",
            "Epoch 77/100\n",
            "153/153 - 1s - loss: 0.1310 - mae: 0.2634 - val_loss: 0.1359 - val_mae: 0.2593 - 602ms/epoch - 4ms/step\n",
            "Epoch 78/100\n",
            "153/153 - 1s - loss: 0.1304 - mae: 0.2613 - val_loss: 0.1463 - val_mae: 0.2603 - 522ms/epoch - 3ms/step\n",
            "Epoch 79/100\n",
            "153/153 - 1s - loss: 0.1304 - mae: 0.2606 - val_loss: 0.1418 - val_mae: 0.2508 - 571ms/epoch - 4ms/step\n",
            "Epoch 80/100\n",
            "153/153 - 0s - loss: 0.1303 - mae: 0.2602 - val_loss: 0.1634 - val_mae: 0.3442 - 496ms/epoch - 3ms/step\n",
            "Epoch 81/100\n",
            "153/153 - 0s - loss: 0.1306 - mae: 0.2607 - val_loss: 0.1411 - val_mae: 0.2487 - 497ms/epoch - 3ms/step\n",
            "Epoch 82/100\n",
            "153/153 - 0s - loss: 0.1295 - mae: 0.2593 - val_loss: 0.1444 - val_mae: 0.2872 - 498ms/epoch - 3ms/step\n",
            "Epoch 83/100\n",
            "153/153 - 1s - loss: 0.1309 - mae: 0.2608 - val_loss: 0.1443 - val_mae: 0.2685 - 581ms/epoch - 4ms/step\n",
            "Epoch 84/100\n",
            "153/153 - 1s - loss: 0.1299 - mae: 0.2597 - val_loss: 0.1643 - val_mae: 0.2494 - 567ms/epoch - 4ms/step\n",
            "Epoch 85/100\n",
            "153/153 - 1s - loss: 0.1295 - mae: 0.2589 - val_loss: 0.1432 - val_mae: 0.3043 - 572ms/epoch - 4ms/step\n",
            "Epoch 86/100\n",
            "153/153 - 1s - loss: 0.1311 - mae: 0.2606 - val_loss: 0.1525 - val_mae: 0.2591 - 571ms/epoch - 4ms/step\n",
            "Epoch 87/100\n",
            "153/153 - 1s - loss: 0.1288 - mae: 0.2589 - val_loss: 0.1442 - val_mae: 0.2564 - 539ms/epoch - 4ms/step\n",
            "Epoch 88/100\n",
            "153/153 - 1s - loss: 0.1299 - mae: 0.2587 - val_loss: 0.1462 - val_mae: 0.2723 - 502ms/epoch - 3ms/step\n",
            "Epoch 89/100\n",
            "153/153 - 1s - loss: 0.1299 - mae: 0.2596 - val_loss: 0.1901 - val_mae: 0.2655 - 540ms/epoch - 4ms/step\n",
            "Epoch 90/100\n",
            "153/153 - 1s - loss: 0.1303 - mae: 0.2599 - val_loss: 0.1511 - val_mae: 0.3114 - 554ms/epoch - 4ms/step\n",
            "Epoch 91/100\n",
            "153/153 - 1s - loss: 0.1294 - mae: 0.2596 - val_loss: 0.1432 - val_mae: 0.2565 - 504ms/epoch - 3ms/step\n",
            "Epoch 92/100\n",
            "153/153 - 1s - loss: 0.1291 - mae: 0.2568 - val_loss: 0.1588 - val_mae: 0.3288 - 511ms/epoch - 3ms/step\n",
            "Epoch 93/100\n",
            "153/153 - 0s - loss: 0.1292 - mae: 0.2583 - val_loss: 0.1468 - val_mae: 0.2485 - 491ms/epoch - 3ms/step\n",
            "Epoch 94/100\n",
            "153/153 - 0s - loss: 0.1304 - mae: 0.2588 - val_loss: 0.1498 - val_mae: 0.2583 - 478ms/epoch - 3ms/step\n",
            "Epoch 95/100\n",
            "153/153 - 1s - loss: 0.1295 - mae: 0.2562 - val_loss: 0.1697 - val_mae: 0.3434 - 581ms/epoch - 4ms/step\n",
            "Epoch 96/100\n",
            "153/153 - 0s - loss: 0.1288 - mae: 0.2576 - val_loss: 0.1687 - val_mae: 0.3314 - 468ms/epoch - 3ms/step\n",
            "Epoch 97/100\n",
            "153/153 - 0s - loss: 0.1289 - mae: 0.2581 - val_loss: 0.1462 - val_mae: 0.2559 - 482ms/epoch - 3ms/step\n",
            "Epoch 98/100\n",
            "153/153 - 1s - loss: 0.1297 - mae: 0.2576 - val_loss: 0.1546 - val_mae: 0.3091 - 507ms/epoch - 3ms/step\n",
            "Epoch 99/100\n",
            "153/153 - 0s - loss: 0.1303 - mae: 0.2593 - val_loss: 0.1693 - val_mae: 0.2542 - 466ms/epoch - 3ms/step\n",
            "Epoch 100/100\n",
            "153/153 - 0s - loss: 0.1277 - mae: 0.2565 - val_loss: 0.1551 - val_mae: 0.3000 - 462ms/epoch - 3ms/step\n",
            "Model: \"sequential_12\"\n",
            "_________________________________________________________________\n",
            " Layer (type)                Output Shape              Param #   \n",
            "=================================================================\n",
            " dense_48 (Dense)            (None, 512)               6656      \n",
            "                                                                 \n",
            " dense_49 (Dense)            (None, 125)               64125     \n",
            "                                                                 \n",
            " dense_50 (Dense)            (None, 64)                8064      \n",
            "                                                                 \n",
            " dense_51 (Dense)            (None, 30)                1950      \n",
            "                                                                 \n",
            " dense_52 (Dense)            (None, 5)                 155       \n",
            "                                                                 \n",
            " dense_53 (Dense)            (None, 1)                 6         \n",
            "                                                                 \n",
            "=================================================================\n",
            "Total params: 80,956\n",
            "Trainable params: 80,956\n",
            "Non-trainable params: 0\n",
            "_________________________________________________________________\n"
          ]
        }
      ]
    },
    {
      "cell_type": "markdown",
      "source": [
        "Plotting Regression Model 3"
      ],
      "metadata": {
        "id": "8Oyf18uLLAzf"
      }
    },
    {
      "cell_type": "code",
      "source": [
        "plot_model_history(regmodl3_history)"
      ],
      "metadata": {
        "colab": {
          "base_uri": "https://localhost:8080/",
          "height": 295
        },
        "id": "e5XlSgPELE18",
        "outputId": "0de1c1e3-3b24-41d9-98a3-f60942c50940"
      },
      "execution_count": 85,
      "outputs": [
        {
          "output_type": "display_data",
          "data": {
            "image/png": "[encoded data removed]",
            "text/plain": [
              "<Figure size 432x288 with 1 Axes>"
            ]
          },
          "metadata": {
            "needs_background": "light"
          }
        }
      ]
    },
    {
      "cell_type": "markdown",
      "source": [
        "# Part 3: Classification Model\n"
      ],
      "metadata": {
        "id": "PyD1poH4gTyy"
      }
    },
    {
      "cell_type": "code",
      "source": [
        "import copy\n",
        "\n",
        "def predict_hit_ratio():\n",
        "  test_labels_copy = copy.copy(tst_labels)\n",
        "  np.random.shuffle(test_labels_copy)\n",
        "  hits_array = np.array(tst_labels) == np.array(test_labels_copy)\n",
        "  return hits_array.mean()"
      ],
      "metadata": {
        "id": "0OJ__Hwciw2k"
      },
      "execution_count": 86,
      "outputs": []
    },
    {
      "cell_type": "markdown",
      "source": [
        "### Classification Model 1"
      ],
      "metadata": {
        "id": "YiAOiEL1gzC4"
      }
    },
    {
      "cell_type": "code",
      "source": [
        "def temp():\n",
        "  model = keras.Sequential([\n",
        "    layers.Dense(16, activation=\"relu\"),\n",
        "    layers.Dense(8,  activation=\"relu\"),\n",
        "    layers.Dense(1,  activation=\"softmax\")\n",
        "  ])\n",
        "  model.compile(optimizer=\"rmsprop\", loss=\"categorical_crossentropy\", metrics=[\"accuracy\"]) \n",
        "  return model\n",
        "\n",
        "clasmodl1 = temp()\n",
        "\n",
        "classmodl1_history = clasmodl1.fit(x =Xtrain, y=one_hot_train_labels, batch_size=32, epochs=25, verbose=2, validation_data=(Xval,one_hot_val_labels), validation_freq=1)\n"
      ],
      "metadata": {
        "id": "WtxZSngFg18y",
        "outputId": "757d0435-4b92-4b1e-87e7-09d48b3820c6",
        "colab": {
          "base_uri": "https://localhost:8080/",
          "height": 762
        }
      },
      "execution_count": 103,
      "outputs": [
        {
          "output_type": "stream",
          "name": "stdout",
          "text": [
            "Epoch 1/25\n"
          ]
        },
        {
          "output_type": "error",
          "ename": "ValueError",
          "evalue": "ignored",
          "traceback": [
            "\u001b[0;31m---------------------------------------------------------------------------\u001b[0m",
            "\u001b[0;31mValueError\u001b[0m                                Traceback (most recent call last)",
            "\u001b[0;32m<ipython-input-103-f7ea0f3da5d0>\u001b[0m in \u001b[0;36m<module>\u001b[0;34m()\u001b[0m\n\u001b[1;32m     10\u001b[0m \u001b[0mclasmodl1\u001b[0m \u001b[0;34m=\u001b[0m \u001b[0mtemp\u001b[0m\u001b[0;34m(\u001b[0m\u001b[0;34m)\u001b[0m\u001b[0;34m\u001b[0m\u001b[0;34m\u001b[0m\u001b[0m\n\u001b[1;32m     11\u001b[0m \u001b[0;34m\u001b[0m\u001b[0m\n\u001b[0;32m---> 12\u001b[0;31m \u001b[0mclassmodl1_history\u001b[0m \u001b[0;34m=\u001b[0m \u001b[0mclasmodl1\u001b[0m\u001b[0;34m.\u001b[0m\u001b[0mfit\u001b[0m\u001b[0;34m(\u001b[0m\u001b[0mx\u001b[0m \u001b[0;34m=\u001b[0m\u001b[0mXtrain\u001b[0m\u001b[0;34m,\u001b[0m \u001b[0my\u001b[0m\u001b[0;34m=\u001b[0m\u001b[0mone_hot_train_labels\u001b[0m\u001b[0;34m,\u001b[0m \u001b[0mbatch_size\u001b[0m\u001b[0;34m=\u001b[0m\u001b[0;36m32\u001b[0m\u001b[0;34m,\u001b[0m \u001b[0mepochs\u001b[0m\u001b[0;34m=\u001b[0m\u001b[0;36m25\u001b[0m\u001b[0;34m,\u001b[0m \u001b[0mverbose\u001b[0m\u001b[0;34m=\u001b[0m\u001b[0;36m2\u001b[0m\u001b[0;34m,\u001b[0m \u001b[0mvalidation_data\u001b[0m\u001b[0;34m=\u001b[0m\u001b[0;34m(\u001b[0m\u001b[0mXval\u001b[0m\u001b[0;34m,\u001b[0m\u001b[0mone_hot_val_labels\u001b[0m\u001b[0;34m)\u001b[0m\u001b[0;34m,\u001b[0m \u001b[0mvalidation_freq\u001b[0m\u001b[0;34m=\u001b[0m\u001b[0;36m1\u001b[0m\u001b[0;34m)\u001b[0m\u001b[0;34m\u001b[0m\u001b[0;34m\u001b[0m\u001b[0m\n\u001b[0m",
            "\u001b[0;32m/usr/local/lib/python3.7/dist-packages/keras/utils/traceback_utils.py\u001b[0m in \u001b[0;36merror_handler\u001b[0;34m(*args, **kwargs)\u001b[0m\n\u001b[1;32m     65\u001b[0m     \u001b[0;32mexcept\u001b[0m \u001b[0mException\u001b[0m \u001b[0;32mas\u001b[0m \u001b[0me\u001b[0m\u001b[0;34m:\u001b[0m  \u001b[0;31m# pylint: disable=broad-except\u001b[0m\u001b[0;34m\u001b[0m\u001b[0;34m\u001b[0m\u001b[0m\n\u001b[1;32m     66\u001b[0m       \u001b[0mfiltered_tb\u001b[0m \u001b[0;34m=\u001b[0m \u001b[0m_process_traceback_frames\u001b[0m\u001b[0;34m(\u001b[0m\u001b[0me\u001b[0m\u001b[0;34m.\u001b[0m\u001b[0m__traceback__\u001b[0m\u001b[0;34m)\u001b[0m\u001b[0;34m\u001b[0m\u001b[0;34m\u001b[0m\u001b[0m\n\u001b[0;32m---> 67\u001b[0;31m       \u001b[0;32mraise\u001b[0m \u001b[0me\u001b[0m\u001b[0;34m.\u001b[0m\u001b[0mwith_traceback\u001b[0m\u001b[0;34m(\u001b[0m\u001b[0mfiltered_tb\u001b[0m\u001b[0;34m)\u001b[0m \u001b[0;32mfrom\u001b[0m \u001b[0;32mNone\u001b[0m\u001b[0;34m\u001b[0m\u001b[0;34m\u001b[0m\u001b[0m\n\u001b[0m\u001b[1;32m     68\u001b[0m     \u001b[0;32mfinally\u001b[0m\u001b[0;34m:\u001b[0m\u001b[0;34m\u001b[0m\u001b[0;34m\u001b[0m\u001b[0m\n\u001b[1;32m     69\u001b[0m       \u001b[0;32mdel\u001b[0m \u001b[0mfiltered_tb\u001b[0m\u001b[0;34m\u001b[0m\u001b[0;34m\u001b[0m\u001b[0m\n",
            "\u001b[0;32m/usr/local/lib/python3.7/dist-packages/tensorflow/python/framework/func_graph.py\u001b[0m in \u001b[0;36mautograph_handler\u001b[0;34m(*args, **kwargs)\u001b[0m\n\u001b[1;32m   1145\u001b[0m           \u001b[0;32mexcept\u001b[0m \u001b[0mException\u001b[0m \u001b[0;32mas\u001b[0m \u001b[0me\u001b[0m\u001b[0;34m:\u001b[0m  \u001b[0;31m# pylint:disable=broad-except\u001b[0m\u001b[0;34m\u001b[0m\u001b[0;34m\u001b[0m\u001b[0m\n\u001b[1;32m   1146\u001b[0m             \u001b[0;32mif\u001b[0m \u001b[0mhasattr\u001b[0m\u001b[0;34m(\u001b[0m\u001b[0me\u001b[0m\u001b[0;34m,\u001b[0m \u001b[0;34m\"ag_error_metadata\"\u001b[0m\u001b[0;34m)\u001b[0m\u001b[0;34m:\u001b[0m\u001b[0;34m\u001b[0m\u001b[0;34m\u001b[0m\u001b[0m\n\u001b[0;32m-> 1147\u001b[0;31m               \u001b[0;32mraise\u001b[0m \u001b[0me\u001b[0m\u001b[0;34m.\u001b[0m\u001b[0mag_error_metadata\u001b[0m\u001b[0;34m.\u001b[0m\u001b[0mto_exception\u001b[0m\u001b[0;34m(\u001b[0m\u001b[0me\u001b[0m\u001b[0;34m)\u001b[0m\u001b[0;34m\u001b[0m\u001b[0;34m\u001b[0m\u001b[0m\n\u001b[0m\u001b[1;32m   1148\u001b[0m             \u001b[0;32melse\u001b[0m\u001b[0;34m:\u001b[0m\u001b[0;34m\u001b[0m\u001b[0;34m\u001b[0m\u001b[0m\n\u001b[1;32m   1149\u001b[0m               \u001b[0;32mraise\u001b[0m\u001b[0;34m\u001b[0m\u001b[0;34m\u001b[0m\u001b[0m\n",
            "\u001b[0;31mValueError\u001b[0m: in user code:\n\n    File \"/usr/local/lib/python3.7/dist-packages/keras/engine/training.py\", line 1021, in train_function  *\n        return step_function(self, iterator)\n    File \"/usr/local/lib/python3.7/dist-packages/keras/engine/training.py\", line 1010, in step_function  **\n        outputs = model.distribute_strategy.run(run_step, args=(data,))\n    File \"/usr/local/lib/python3.7/dist-packages/keras/engine/training.py\", line 1000, in run_step  **\n        outputs = model.train_step(data)\n    File \"/usr/local/lib/python3.7/dist-packages/keras/engine/training.py\", line 860, in train_step\n        loss = self.compute_loss(x, y, y_pred, sample_weight)\n    File \"/usr/local/lib/python3.7/dist-packages/keras/engine/training.py\", line 919, in compute_loss\n        y, y_pred, sample_weight, regularization_losses=self.losses)\n    File \"/usr/local/lib/python3.7/dist-packages/keras/engine/compile_utils.py\", line 201, in __call__\n        loss_value = loss_obj(y_t, y_p, sample_weight=sw)\n    File \"/usr/local/lib/python3.7/dist-packages/keras/losses.py\", line 141, in __call__\n        losses = call_fn(y_true, y_pred)\n    File \"/usr/local/lib/python3.7/dist-packages/keras/losses.py\", line 245, in call  **\n        return ag_fn(y_true, y_pred, **self._fn_kwargs)\n    File \"/usr/local/lib/python3.7/dist-packages/keras/losses.py\", line 1790, in categorical_crossentropy\n        y_true, y_pred, from_logits=from_logits, axis=axis)\n    File \"/usr/local/lib/python3.7/dist-packages/keras/backend.py\", line 5083, in categorical_crossentropy\n        target.shape.assert_is_compatible_with(output.shape)\n\n    ValueError: Shapes (None, 4) and (None, 1) are incompatible\n"
          ]
        }
      ]
    },
    {
      "cell_type": "markdown",
      "source": [
        "## Classification Model 2"
      ],
      "metadata": {
        "id": "LPufeNyog7yY"
      }
    },
    {
      "cell_type": "code",
      "source": [
        "# Model number 2"
      ],
      "metadata": {
        "id": "E41xCAOog9VF"
      },
      "execution_count": null,
      "outputs": []
    },
    {
      "cell_type": "markdown",
      "source": [
        "## Classification Model 3"
      ],
      "metadata": {
        "id": "DNpn6zV1g_gl"
      }
    },
    {
      "cell_type": "code",
      "source": [
        "# Model number 3"
      ],
      "metadata": {
        "id": "N88gwpRahBnA"
      },
      "execution_count": null,
      "outputs": []
    }
  ]
}