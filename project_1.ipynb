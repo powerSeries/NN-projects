{
  "nbformat": 4,
  "nbformat_minor": 0,
  "metadata": {
    "colab": {
      "name": "project-1.ipynb",
      "provenance": [],
      "collapsed_sections": [],
      "include_colab_link": true
    },
    "kernelspec": {
      "display_name": "Python 3",
      "name": "python3"
    }
  },
  "cells": [
    {
      "cell_type": "markdown",
      "metadata": {
        "id": "view-in-github",
        "colab_type": "text"
      },
      "source": [
        "<a href=\"https://colab.research.google.com/github/powerSeries/NN-projects/blob/main/project_1.ipynb\" target=\"_parent\"><img src=\"https://colab.research.google.com/assets/colab-badge.svg\" alt=\"Open In Colab\"/></a>"
      ]
    },
    {
      "cell_type": "markdown",
      "metadata": {
        "id": "vB3bHSucPIVs"
      },
      "source": [
        "Abbreviated data preparation for the Wine Quality Problem (Project 1)"
      ]
    },
    {
      "cell_type": "code",
      "metadata": {
        "id": "XrcPuh9-KY0j"
      },
      "source": [
        "# Import Required Libraries  \n",
        "import matplotlib.pyplot as plt \n",
        "import numpy as np \n",
        "# This time we need to also import pandas\n",
        "import pandas as pd \n",
        "\n",
        "# Read in white wine data \n",
        "# USES PANDAS (pd) to create a PANDAS DataFrame OBJECT:\n",
        "white = pd.read_csv(\"http://archive.ics.uci.edu/ml/machine-learning-databases/wine-quality/winequality-white.csv\", sep =';') \n",
        "\n",
        "# Read in red wine data \n",
        "# USES PANDAS (pd) to create a PANDAS DataFrame OBJECT:\n",
        "red = pd.read_csv(\"http://archive.ics.uci.edu/ml/machine-learning-databases/wine-quality/winequality-red.csv\", sep =';') \n",
        "\n",
        "# Add `type` column to `red` with price one  - done with PANDAS\n",
        "red['type'] = 1\n",
        "  \n",
        "# Add `type` column to `white` with price zero - done with PANDAS \n",
        "white['type'] = 0\n",
        "  \n",
        "# Append `white` to `red` - done with PANDAS\n",
        "# AFTER THIS WE HAVE ALL WINES (red and white) in a SINGLE pandas DataFrame\n",
        "wines = red.append(white, ignore_index = True) \n",
        "\n",
        "# Import SKLEARN\n",
        "import sklearn\n",
        "# Import `train_test_split` from `sklearn.model_selection` \n",
        "from sklearn.model_selection import train_test_split \n",
        "\n",
        "# Specify the  data - \n",
        "X1 = wines.iloc[:, 0:11]\n",
        "X2 = wines.iloc[:,12]\n",
        "X = pd.concat([X1,X2],axis = 1)\n",
        "\n",
        "# Specify the QUALITY target labels and flatten the array \n",
        "y = np.ravel(wines.quality) \n",
        "\n",
        "# Splitting the data set for training and validating  - Done with SKLEARN\n",
        "X_train, X_valid, y_train, y_valid = train_test_split( \n",
        "                 X, y, test_size = 0.25, random_state = 45) \n"
      ],
      "execution_count": 104,
      "outputs": []
    },
    {
      "cell_type": "code",
      "source": [
        "# CONVERTING X_train & X_test DataFrame s to TF tensors\n",
        "# Will USE NumPy, TF & Keras after this\n",
        "# import tensorflow as tf \n",
        "\n",
        "Xtrain = X_train.to_numpy()\n",
        "X_valid = X_valid.to_numpy()"
      ],
      "metadata": {
        "id": "AYtcmE0J4qQb"
      },
      "execution_count": 105,
      "outputs": []
    },
    {
      "cell_type": "code",
      "source": [
        "# In reality:\n",
        "# [1] ALL THE Xtrain patterns (with their y_train targets) \n",
        "# will be used for TRAINING ([TR]), as Xtrain & y_train\n",
        "# [2] MOST OF THE X_valid patterns (and their y_valid targets) \n",
        "#  will be used for VALIDATION ([TT]),  as X_val & y_val\n",
        "# BUT WE WILL SET ASIDE THE LAST 10 for \"testing\" ([TS])\n",
        "#  as X_tst & y_tst"
      ],
      "metadata": {
        "id": "qpHhdmJN6HVq"
      },
      "execution_count": 106,
      "outputs": []
    },
    {
      "cell_type": "code",
      "source": [
        "# To separate the last 10 in X_valid, let's first see the shape of X_valid\n",
        "X_valid.shape"
      ],
      "metadata": {
        "colab": {
          "base_uri": "https://localhost:8080/"
        },
        "id": "T10AK-Ip7YMb",
        "outputId": "8da0986f-94fd-41a2-d491-b23cc5b63615"
      },
      "execution_count": 107,
      "outputs": [
        {
          "output_type": "execute_result",
          "data": {
            "text/plain": [
              "(1625, 12)"
            ]
          },
          "metadata": {},
          "execution_count": 107
        }
      ]
    },
    {
      "cell_type": "code",
      "source": [
        "# And verify also the shape of y_valid\n",
        "y_valid.shape"
      ],
      "metadata": {
        "colab": {
          "base_uri": "https://localhost:8080/"
        },
        "id": "Gj64QrXI7npC",
        "outputId": "3d0bb0c9-866b-4393-d2b4-29a33be63658"
      },
      "execution_count": 108,
      "outputs": [
        {
          "output_type": "execute_result",
          "data": {
            "text/plain": [
              "(1625,)"
            ]
          },
          "metadata": {},
          "execution_count": 108
        }
      ]
    },
    {
      "cell_type": "code",
      "source": [
        "# Retain the first 1615 for validation ([TT])\n",
        "Xval = X_valid[:1615]\n",
        "Xval.shape"
      ],
      "metadata": {
        "colab": {
          "base_uri": "https://localhost:8080/"
        },
        "id": "2jDS0FsF739z",
        "outputId": "0aba1657-78db-4616-fe07-6b26fbae9ff2"
      },
      "execution_count": 109,
      "outputs": [
        {
          "output_type": "execute_result",
          "data": {
            "text/plain": [
              "(1615, 12)"
            ]
          },
          "metadata": {},
          "execution_count": 109
        }
      ]
    },
    {
      "cell_type": "code",
      "source": [
        "# and now set aside the last 10 for \"test\"\n",
        "Xtst = X_valid[1615:]\n",
        "Xtst.shape"
      ],
      "metadata": {
        "colab": {
          "base_uri": "https://localhost:8080/"
        },
        "id": "C_zJIn2Z-AS6",
        "outputId": "c08dadba-7bbf-4474-b88b-6a90072dc6af"
      },
      "execution_count": 110,
      "outputs": [
        {
          "output_type": "execute_result",
          "data": {
            "text/plain": [
              "(10, 12)"
            ]
          },
          "metadata": {},
          "execution_count": 110
        }
      ]
    },
    {
      "cell_type": "code",
      "source": [
        "# SAME FOR THE CORRESPONDING TARGETS\n",
        "# Retain the first 1615 for validation ([TT])\n",
        "y_val = y_valid[:1615]\n",
        "y_val.shape"
      ],
      "metadata": {
        "colab": {
          "base_uri": "https://localhost:8080/"
        },
        "id": "YlrWhyX1-qQa",
        "outputId": "b4b28252-169d-44bc-a6fb-eb8fd6f71e2b"
      },
      "execution_count": 111,
      "outputs": [
        {
          "output_type": "execute_result",
          "data": {
            "text/plain": [
              "(1615,)"
            ]
          },
          "metadata": {},
          "execution_count": 111
        }
      ]
    },
    {
      "cell_type": "code",
      "source": [
        "y_tst = y_valid[1615:]\n",
        "y_tst.shape"
      ],
      "metadata": {
        "colab": {
          "base_uri": "https://localhost:8080/"
        },
        "id": "yesLMjKx--2r",
        "outputId": "9aabfd4e-ed21-4738-ba4f-194208edd54d"
      },
      "execution_count": 112,
      "outputs": [
        {
          "output_type": "execute_result",
          "data": {
            "text/plain": [
              "(10,)"
            ]
          },
          "metadata": {},
          "execution_count": 112
        }
      ]
    },
    {
      "cell_type": "code",
      "source": [
        "y_tst"
      ],
      "metadata": {
        "colab": {
          "base_uri": "https://localhost:8080/"
        },
        "id": "QOIgFLku-2mr",
        "outputId": "d0ea1089-82f2-45f6-c90f-22bf7576c3c2"
      },
      "execution_count": 113,
      "outputs": [
        {
          "output_type": "execute_result",
          "data": {
            "text/plain": [
              "array([5, 5, 7, 6, 5, 5, 6, 6, 7, 6])"
            ]
          },
          "metadata": {},
          "execution_count": 113
        }
      ]
    },
    {
      "cell_type": "code",
      "source": [
        " # NOW, IN ADDITION, CREATE THE TARGETS AS ONE-HOT-ENCODED 4 quality LEVELS"
      ],
      "metadata": {
        "id": "3zfsQQNn6ABr"
      },
      "execution_count": 114,
      "outputs": []
    },
    {
      "cell_type": "code",
      "metadata": {
        "colab": {
          "base_uri": "https://localhost:8080/"
        },
        "id": "HImrn2sHKvz_",
        "outputId": "de2912fc-5c63-43f9-f01c-24a4a2f69bb3"
      },
      "source": [
        "# We will track these few targets through the conversion process\n",
        "y_train[272:283]"
      ],
      "execution_count": 115,
      "outputs": [
        {
          "output_type": "execute_result",
          "data": {
            "text/plain": [
              "array([5, 4, 6, 5, 5, 6, 7, 6, 5, 8, 5])"
            ]
          },
          "metadata": {},
          "execution_count": 115
        }
      ]
    },
    {
      "cell_type": "code",
      "source": [
        "# Function create rank-1 arrays where 3,4,5,6,7,8,9 are mapped to 1 or 2 or 3 or 4 \n",
        "def to_4cs(x):\n",
        "  lx = len(x)\n",
        "  results = np.zeros(lx)\n",
        "  for i in range(lx):\n",
        "      # print( \"start\")\n",
        "      xa = x[i];\n",
        "      if xa <= 3:\n",
        "          results[i] = 1      # 1, 2 and 3 map to Q-LEVEL 1 ( BAD Wine)\n",
        "      elif xa <=6:\n",
        "          results[i] = 2      # 4, 5 and 6 map to Q-LEVEL 2  (MEDIUM Wine)\n",
        "      elif xa <=8:\n",
        "          results[i] = 3      # 7 and 8 and 6 map to Q-LEVEL 3  (GOOD Wine)\n",
        "      else:\n",
        "          results[i] = 4      # 9 and above map to Q-LEVEL 4  (EXCELLENT Wine)\n",
        "    # results[i, label] = 1.\n",
        "  results = results.astype(int)\n",
        "  return results"
      ],
      "metadata": {
        "id": "iB1RjHR7PQD7"
      },
      "execution_count": 116,
      "outputs": []
    },
    {
      "cell_type": "code",
      "source": [
        "train_labels = to_4cs(y_train)\n",
        "val_labels = to_4cs(y_val)\n",
        "tst_labels = to_4cs(y_tst)"
      ],
      "metadata": {
        "id": "LhSoZ0b9Ptyj"
      },
      "execution_count": 117,
      "outputs": []
    },
    {
      "cell_type": "code",
      "metadata": {
        "colab": {
          "base_uri": "https://localhost:8080/"
        },
        "id": "RmSc8yQ5NgQe",
        "outputId": "02f91283-4743-4bc4-98c3-ecdc99dedd1b"
      },
      "source": [
        "\n",
        "# Let's verify that the trainnig targets that we are tracking\n",
        "# were converted to levels (1 = BAD; 2 = MEDIUM; 3 = GOOD; 4- EXCELLENT) correctly:\n",
        "train_labels[272:283]"
      ],
      "execution_count": 118,
      "outputs": [
        {
          "output_type": "execute_result",
          "data": {
            "text/plain": [
              "array([2, 2, 2, 2, 2, 2, 3, 2, 2, 3, 2])"
            ]
          },
          "metadata": {},
          "execution_count": 118
        }
      ]
    },
    {
      "cell_type": "code",
      "metadata": {
        "id": "Cs-J7sRmKhGf"
      },
      "source": [
        "# NOW, ONE-HOT ENCODING OF ALL 3  TARGET ARRAYS\n",
        "# define a function to do the one-hot-encoding of output labels\n",
        "\n",
        "def to_one_hot(labels, dimension=4):\n",
        "    results = np.zeros((len(labels), dimension))\n",
        "    for i, label in enumerate(labels-1):\n",
        "        results[i, label] = 1.\n",
        "    return results\n",
        "\n",
        "one_hot_train_labels = to_one_hot(train_labels)\n",
        "one_hot_val_labels = to_one_hot(val_labels)\n",
        "one_hot_tst_labels = to_one_hot(tst_labels)"
      ],
      "execution_count": 119,
      "outputs": []
    },
    {
      "cell_type": "code",
      "source": [
        "#Let's verify that the training targets we have tracked were\n",
        "# one-hot encoded correctly\n",
        "one_hot_train_labels[272:283,]"
      ],
      "metadata": {
        "colab": {
          "base_uri": "https://localhost:8080/"
        },
        "id": "Mk1q-JDyBChj",
        "outputId": "0e89f994-d308-457e-99d5-d68c03fe529b"
      },
      "execution_count": 120,
      "outputs": [
        {
          "output_type": "execute_result",
          "data": {
            "text/plain": [
              "array([[0., 1., 0., 0.],\n",
              "       [0., 1., 0., 0.],\n",
              "       [0., 1., 0., 0.],\n",
              "       [0., 1., 0., 0.],\n",
              "       [0., 1., 0., 0.],\n",
              "       [0., 1., 0., 0.],\n",
              "       [0., 0., 1., 0.],\n",
              "       [0., 1., 0., 0.],\n",
              "       [0., 1., 0., 0.],\n",
              "       [0., 0., 1., 0.],\n",
              "       [0., 1., 0., 0.]])"
            ]
          },
          "metadata": {},
          "execution_count": 120
        }
      ]
    },
    {
      "cell_type": "code",
      "source": [
        "# SO, AFTER EXECUTING THIS CELL, YOU WILL HAVE:\n",
        "# FOR TRAINING:\n",
        "#  Xtrain (4872, 12)...y_train (4872,)...train_labels(4872,)....one_hot_train_labels (4872,4)\n",
        "# FOR VALIDATING:\n",
        "#  Xval (1615, 12)...y_val (1615,)...val_labels(1615,)...one_hot_val_labels (1615,4)\n",
        "# FOR TESTING:\n",
        "#  Xtst (10, 12)...y_tst (10,)...tst_labels(10,)... one_hot_tst_labels (10,4)\n",
        "# PLEASE DO NOT CHANGE THE NAMES OF THESE VARIABLES (So that instructor can use them)"
      ],
      "metadata": {
        "id": "FfIxlsEISc5W"
      },
      "execution_count": 121,
      "outputs": []
    },
    {
      "cell_type": "markdown",
      "source": [
        " ++++  END OF THE DATA PREPARATION PART ++++ \n"
      ],
      "metadata": {
        "id": "Bq_9V9XCSd6t"
      }
    },
    {
      "cell_type": "markdown",
      "source": [
        "# Part 2: Regression Model"
      ],
      "metadata": {
        "id": "6Vt3n82EaN98"
      }
    },
    {
      "cell_type": "markdown",
      "source": [
        "### Regression Model 1"
      ],
      "metadata": {
        "id": "saL8T2q2K0Rv"
      }
    },
    {
      "cell_type": "code",
      "source": [
        "# import libraries\n",
        "from tensorflow import keras\n",
        "from tensorflow.keras import layers\n",
        "\n",
        "def build_regmodl1():\n",
        "  regmodl1 = keras.Sequential([\n",
        "    layers.Dense(512, activation=\"relu\"),\n",
        "    layers.Dense(8, activation=\"relu\"),\n",
        "    layers.Dense(1),\n",
        "  ])\n",
        "  regmodl1.compile(optimizer=\"rmsprop\", loss=\"mse\", metrics=[\"mae\"])\n",
        "  return regmodl1\n",
        "\n",
        "# Builld the model\n",
        "regmod1 = build_regmodl1()\n",
        "\n",
        "# Run fit and store data\n",
        "regmodl1_history = regmod1.fit(x=Xtrain, y=train_labels, epochs=100, verbose=2, validation_data=(Xval, val_labels))\n",
        "\n",
        "# Show Model Summary\n",
        "regmod1.summary()"
      ],
      "metadata": {
        "id": "WBdR9tpWdYcs",
        "outputId": "fba7c29c-78c7-4d3f-c716-3a3d81cec312",
        "colab": {
          "base_uri": "https://localhost:8080/"
        }
      },
      "execution_count": 122,
      "outputs": [
        {
          "output_type": "stream",
          "name": "stdout",
          "text": [
            "Epoch 1/100\n",
            "153/153 - 15s - loss: 1.0438 - mae: 0.5913 - val_loss: 1.6373 - val_mae: 1.1564 - 15s/epoch - 99ms/step\n",
            "Epoch 2/100\n",
            "153/153 - 1s - loss: 0.3479 - mae: 0.4588 - val_loss: 0.3781 - val_mae: 0.5397 - 684ms/epoch - 4ms/step\n",
            "Epoch 3/100\n",
            "153/153 - 0s - loss: 0.2758 - mae: 0.4103 - val_loss: 0.2365 - val_mae: 0.3304 - 405ms/epoch - 3ms/step\n",
            "Epoch 4/100\n",
            "153/153 - 0s - loss: 0.2271 - mae: 0.3665 - val_loss: 0.2597 - val_mae: 0.3725 - 330ms/epoch - 2ms/step\n",
            "Epoch 5/100\n",
            "153/153 - 0s - loss: 0.2131 - mae: 0.3579 - val_loss: 0.1631 - val_mae: 0.2703 - 325ms/epoch - 2ms/step\n",
            "Epoch 6/100\n",
            "153/153 - 0s - loss: 0.1924 - mae: 0.3367 - val_loss: 0.4458 - val_mae: 0.5330 - 414ms/epoch - 3ms/step\n",
            "Epoch 7/100\n",
            "153/153 - 0s - loss: 0.1863 - mae: 0.3339 - val_loss: 0.1829 - val_mae: 0.3855 - 323ms/epoch - 2ms/step\n",
            "Epoch 8/100\n",
            "153/153 - 0s - loss: 0.1771 - mae: 0.3228 - val_loss: 0.2632 - val_mae: 0.4682 - 300ms/epoch - 2ms/step\n",
            "Epoch 9/100\n",
            "153/153 - 0s - loss: 0.1752 - mae: 0.3210 - val_loss: 0.2348 - val_mae: 0.3469 - 299ms/epoch - 2ms/step\n",
            "Epoch 10/100\n",
            "153/153 - 0s - loss: 0.1696 - mae: 0.3154 - val_loss: 0.1758 - val_mae: 0.3764 - 317ms/epoch - 2ms/step\n",
            "Epoch 11/100\n",
            "153/153 - 0s - loss: 0.1627 - mae: 0.3085 - val_loss: 0.1718 - val_mae: 0.3708 - 308ms/epoch - 2ms/step\n",
            "Epoch 12/100\n",
            "153/153 - 0s - loss: 0.1602 - mae: 0.3043 - val_loss: 0.1440 - val_mae: 0.3011 - 304ms/epoch - 2ms/step\n",
            "Epoch 13/100\n",
            "153/153 - 0s - loss: 0.1619 - mae: 0.3060 - val_loss: 0.1546 - val_mae: 0.3374 - 321ms/epoch - 2ms/step\n",
            "Epoch 14/100\n",
            "153/153 - 0s - loss: 0.1568 - mae: 0.2991 - val_loss: 0.2244 - val_mae: 0.4269 - 320ms/epoch - 2ms/step\n",
            "Epoch 15/100\n",
            "153/153 - 0s - loss: 0.1534 - mae: 0.2972 - val_loss: 0.1431 - val_mae: 0.2781 - 401ms/epoch - 3ms/step\n",
            "Epoch 16/100\n",
            "153/153 - 0s - loss: 0.1509 - mae: 0.2945 - val_loss: 0.1481 - val_mae: 0.2680 - 400ms/epoch - 3ms/step\n",
            "Epoch 17/100\n",
            "153/153 - 0s - loss: 0.1500 - mae: 0.2944 - val_loss: 0.1393 - val_mae: 0.2718 - 299ms/epoch - 2ms/step\n",
            "Epoch 18/100\n",
            "153/153 - 0s - loss: 0.1496 - mae: 0.2921 - val_loss: 0.1821 - val_mae: 0.2941 - 292ms/epoch - 2ms/step\n",
            "Epoch 19/100\n",
            "153/153 - 0s - loss: 0.1478 - mae: 0.2898 - val_loss: 0.1578 - val_mae: 0.3454 - 322ms/epoch - 2ms/step\n",
            "Epoch 20/100\n",
            "153/153 - 0s - loss: 0.1464 - mae: 0.2892 - val_loss: 0.1404 - val_mae: 0.2787 - 310ms/epoch - 2ms/step\n",
            "Epoch 21/100\n",
            "153/153 - 0s - loss: 0.1469 - mae: 0.2896 - val_loss: 0.1579 - val_mae: 0.2657 - 309ms/epoch - 2ms/step\n",
            "Epoch 22/100\n",
            "153/153 - 0s - loss: 0.1453 - mae: 0.2880 - val_loss: 0.1515 - val_mae: 0.3284 - 317ms/epoch - 2ms/step\n",
            "Epoch 23/100\n",
            "153/153 - 0s - loss: 0.1448 - mae: 0.2883 - val_loss: 0.1734 - val_mae: 0.2842 - 312ms/epoch - 2ms/step\n",
            "Epoch 24/100\n",
            "153/153 - 0s - loss: 0.1454 - mae: 0.2868 - val_loss: 0.1471 - val_mae: 0.2730 - 380ms/epoch - 2ms/step\n",
            "Epoch 25/100\n",
            "153/153 - 0s - loss: 0.1447 - mae: 0.2864 - val_loss: 0.2403 - val_mae: 0.4443 - 314ms/epoch - 2ms/step\n",
            "Epoch 26/100\n",
            "153/153 - 0s - loss: 0.1435 - mae: 0.2856 - val_loss: 0.1841 - val_mae: 0.2904 - 319ms/epoch - 2ms/step\n",
            "Epoch 27/100\n",
            "153/153 - 0s - loss: 0.1426 - mae: 0.2834 - val_loss: 0.1454 - val_mae: 0.3167 - 304ms/epoch - 2ms/step\n",
            "Epoch 28/100\n",
            "153/153 - 0s - loss: 0.1439 - mae: 0.2848 - val_loss: 0.2004 - val_mae: 0.4058 - 313ms/epoch - 2ms/step\n",
            "Epoch 29/100\n",
            "153/153 - 0s - loss: 0.1416 - mae: 0.2821 - val_loss: 0.1529 - val_mae: 0.2624 - 305ms/epoch - 2ms/step\n",
            "Epoch 30/100\n",
            "153/153 - 0s - loss: 0.1398 - mae: 0.2807 - val_loss: 0.1376 - val_mae: 0.2862 - 310ms/epoch - 2ms/step\n",
            "Epoch 31/100\n",
            "153/153 - 0s - loss: 0.1405 - mae: 0.2813 - val_loss: 0.2407 - val_mae: 0.4416 - 403ms/epoch - 3ms/step\n",
            "Epoch 32/100\n",
            "153/153 - 0s - loss: 0.1406 - mae: 0.2832 - val_loss: 0.1403 - val_mae: 0.2663 - 308ms/epoch - 2ms/step\n",
            "Epoch 33/100\n",
            "153/153 - 0s - loss: 0.1413 - mae: 0.2813 - val_loss: 0.2591 - val_mae: 0.4548 - 308ms/epoch - 2ms/step\n",
            "Epoch 34/100\n",
            "153/153 - 0s - loss: 0.1427 - mae: 0.2833 - val_loss: 0.1612 - val_mae: 0.3501 - 391ms/epoch - 3ms/step\n",
            "Epoch 35/100\n",
            "153/153 - 0s - loss: 0.1381 - mae: 0.2794 - val_loss: 0.1411 - val_mae: 0.3020 - 310ms/epoch - 2ms/step\n",
            "Epoch 36/100\n",
            "153/153 - 0s - loss: 0.1403 - mae: 0.2801 - val_loss: 0.1405 - val_mae: 0.3005 - 301ms/epoch - 2ms/step\n",
            "Epoch 37/100\n",
            "153/153 - 0s - loss: 0.1380 - mae: 0.2791 - val_loss: 0.1676 - val_mae: 0.2801 - 346ms/epoch - 2ms/step\n",
            "Epoch 38/100\n",
            "153/153 - 0s - loss: 0.1386 - mae: 0.2794 - val_loss: 0.1395 - val_mae: 0.2793 - 392ms/epoch - 3ms/step\n",
            "Epoch 39/100\n",
            "153/153 - 0s - loss: 0.1385 - mae: 0.2784 - val_loss: 0.2214 - val_mae: 0.4238 - 308ms/epoch - 2ms/step\n",
            "Epoch 40/100\n",
            "153/153 - 0s - loss: 0.1403 - mae: 0.2802 - val_loss: 0.1825 - val_mae: 0.2912 - 317ms/epoch - 2ms/step\n",
            "Epoch 41/100\n",
            "153/153 - 0s - loss: 0.1366 - mae: 0.2772 - val_loss: 0.2262 - val_mae: 0.3413 - 322ms/epoch - 2ms/step\n",
            "Epoch 42/100\n",
            "153/153 - 0s - loss: 0.1386 - mae: 0.2790 - val_loss: 0.1537 - val_mae: 0.2643 - 399ms/epoch - 3ms/step\n",
            "Epoch 43/100\n",
            "153/153 - 0s - loss: 0.1379 - mae: 0.2787 - val_loss: 0.1533 - val_mae: 0.2700 - 324ms/epoch - 2ms/step\n",
            "Epoch 44/100\n",
            "153/153 - 0s - loss: 0.1385 - mae: 0.2769 - val_loss: 0.1396 - val_mae: 0.2669 - 312ms/epoch - 2ms/step\n",
            "Epoch 45/100\n",
            "153/153 - 0s - loss: 0.1377 - mae: 0.2781 - val_loss: 0.1851 - val_mae: 0.3797 - 308ms/epoch - 2ms/step\n",
            "Epoch 46/100\n",
            "153/153 - 0s - loss: 0.1371 - mae: 0.2776 - val_loss: 0.2441 - val_mae: 0.3573 - 402ms/epoch - 3ms/step\n",
            "Epoch 47/100\n",
            "153/153 - 0s - loss: 0.1372 - mae: 0.2768 - val_loss: 0.2561 - val_mae: 0.4570 - 306ms/epoch - 2ms/step\n",
            "Epoch 48/100\n",
            "153/153 - 0s - loss: 0.1370 - mae: 0.2774 - val_loss: 0.1434 - val_mae: 0.2627 - 310ms/epoch - 2ms/step\n",
            "Epoch 49/100\n",
            "153/153 - 0s - loss: 0.1380 - mae: 0.2777 - val_loss: 0.1585 - val_mae: 0.3465 - 399ms/epoch - 3ms/step\n",
            "Epoch 50/100\n",
            "153/153 - 0s - loss: 0.1354 - mae: 0.2760 - val_loss: 0.1595 - val_mae: 0.2800 - 311ms/epoch - 2ms/step\n",
            "Epoch 51/100\n",
            "153/153 - 0s - loss: 0.1373 - mae: 0.2775 - val_loss: 0.1388 - val_mae: 0.2701 - 309ms/epoch - 2ms/step\n",
            "Epoch 52/100\n",
            "153/153 - 0s - loss: 0.1371 - mae: 0.2765 - val_loss: 0.1577 - val_mae: 0.2680 - 401ms/epoch - 3ms/step\n",
            "Epoch 53/100\n",
            "153/153 - 0s - loss: 0.1379 - mae: 0.2778 - val_loss: 0.1800 - val_mae: 0.2936 - 307ms/epoch - 2ms/step\n",
            "Epoch 54/100\n",
            "153/153 - 0s - loss: 0.1361 - mae: 0.2760 - val_loss: 0.1478 - val_mae: 0.2605 - 390ms/epoch - 3ms/step\n",
            "Epoch 55/100\n",
            "153/153 - 0s - loss: 0.1364 - mae: 0.2766 - val_loss: 0.1659 - val_mae: 0.2748 - 316ms/epoch - 2ms/step\n",
            "Epoch 56/100\n",
            "153/153 - 0s - loss: 0.1369 - mae: 0.2756 - val_loss: 0.1576 - val_mae: 0.2659 - 329ms/epoch - 2ms/step\n",
            "Epoch 57/100\n",
            "153/153 - 0s - loss: 0.1371 - mae: 0.2764 - val_loss: 0.1595 - val_mae: 0.2793 - 330ms/epoch - 2ms/step\n",
            "Epoch 58/100\n",
            "153/153 - 0s - loss: 0.1358 - mae: 0.2769 - val_loss: 0.2047 - val_mae: 0.4062 - 328ms/epoch - 2ms/step\n",
            "Epoch 59/100\n",
            "153/153 - 0s - loss: 0.1357 - mae: 0.2739 - val_loss: 0.1812 - val_mae: 0.2979 - 317ms/epoch - 2ms/step\n",
            "Epoch 60/100\n",
            "153/153 - 0s - loss: 0.1354 - mae: 0.2744 - val_loss: 0.1658 - val_mae: 0.3579 - 321ms/epoch - 2ms/step\n",
            "Epoch 61/100\n",
            "153/153 - 0s - loss: 0.1357 - mae: 0.2765 - val_loss: 0.1834 - val_mae: 0.3875 - 332ms/epoch - 2ms/step\n",
            "Epoch 62/100\n",
            "153/153 - 0s - loss: 0.1353 - mae: 0.2752 - val_loss: 0.1408 - val_mae: 0.3059 - 292ms/epoch - 2ms/step\n",
            "Epoch 63/100\n",
            "153/153 - 0s - loss: 0.1352 - mae: 0.2742 - val_loss: 0.1602 - val_mae: 0.3503 - 293ms/epoch - 2ms/step\n",
            "Epoch 64/100\n",
            "153/153 - 0s - loss: 0.1359 - mae: 0.2755 - val_loss: 0.1384 - val_mae: 0.2854 - 387ms/epoch - 3ms/step\n",
            "Epoch 65/100\n",
            "153/153 - 0s - loss: 0.1345 - mae: 0.2741 - val_loss: 0.1482 - val_mae: 0.3251 - 385ms/epoch - 3ms/step\n",
            "Epoch 66/100\n",
            "153/153 - 0s - loss: 0.1354 - mae: 0.2759 - val_loss: 0.1363 - val_mae: 0.2756 - 305ms/epoch - 2ms/step\n",
            "Epoch 67/100\n",
            "153/153 - 0s - loss: 0.1338 - mae: 0.2734 - val_loss: 0.1611 - val_mae: 0.2692 - 335ms/epoch - 2ms/step\n",
            "Epoch 68/100\n",
            "153/153 - 0s - loss: 0.1349 - mae: 0.2741 - val_loss: 0.2190 - val_mae: 0.3288 - 299ms/epoch - 2ms/step\n",
            "Epoch 69/100\n",
            "153/153 - 0s - loss: 0.1356 - mae: 0.2739 - val_loss: 0.1363 - val_mae: 0.2809 - 303ms/epoch - 2ms/step\n",
            "Epoch 70/100\n",
            "153/153 - 0s - loss: 0.1349 - mae: 0.2739 - val_loss: 0.1802 - val_mae: 0.2809 - 393ms/epoch - 3ms/step\n",
            "Epoch 71/100\n",
            "153/153 - 0s - loss: 0.1348 - mae: 0.2731 - val_loss: 0.1377 - val_mae: 0.2822 - 291ms/epoch - 2ms/step\n",
            "Epoch 72/100\n",
            "153/153 - 0s - loss: 0.1349 - mae: 0.2750 - val_loss: 0.1624 - val_mae: 0.3527 - 386ms/epoch - 3ms/step\n",
            "Epoch 73/100\n",
            "153/153 - 0s - loss: 0.1348 - mae: 0.2738 - val_loss: 0.1416 - val_mae: 0.2620 - 328ms/epoch - 2ms/step\n",
            "Epoch 74/100\n",
            "153/153 - 0s - loss: 0.1339 - mae: 0.2738 - val_loss: 0.1757 - val_mae: 0.2829 - 299ms/epoch - 2ms/step\n",
            "Epoch 75/100\n",
            "153/153 - 0s - loss: 0.1340 - mae: 0.2735 - val_loss: 0.1632 - val_mae: 0.2733 - 315ms/epoch - 2ms/step\n",
            "Epoch 76/100\n",
            "153/153 - 0s - loss: 0.1356 - mae: 0.2739 - val_loss: 0.1530 - val_mae: 0.2637 - 398ms/epoch - 3ms/step\n",
            "Epoch 77/100\n",
            "153/153 - 0s - loss: 0.1342 - mae: 0.2728 - val_loss: 0.1367 - val_mae: 0.2832 - 311ms/epoch - 2ms/step\n",
            "Epoch 78/100\n",
            "153/153 - 0s - loss: 0.1333 - mae: 0.2715 - val_loss: 0.1404 - val_mae: 0.2685 - 318ms/epoch - 2ms/step\n",
            "Epoch 79/100\n",
            "153/153 - 0s - loss: 0.1337 - mae: 0.2726 - val_loss: 0.1748 - val_mae: 0.2930 - 322ms/epoch - 2ms/step\n",
            "Epoch 80/100\n",
            "153/153 - 0s - loss: 0.1346 - mae: 0.2729 - val_loss: 0.1627 - val_mae: 0.3538 - 295ms/epoch - 2ms/step\n",
            "Epoch 81/100\n",
            "153/153 - 0s - loss: 0.1353 - mae: 0.2753 - val_loss: 0.1510 - val_mae: 0.2647 - 318ms/epoch - 2ms/step\n",
            "Epoch 82/100\n",
            "153/153 - 0s - loss: 0.1338 - mae: 0.2727 - val_loss: 0.1435 - val_mae: 0.2670 - 320ms/epoch - 2ms/step\n",
            "Epoch 83/100\n",
            "153/153 - 0s - loss: 0.1334 - mae: 0.2730 - val_loss: 0.1352 - val_mae: 0.2792 - 311ms/epoch - 2ms/step\n",
            "Epoch 84/100\n",
            "153/153 - 0s - loss: 0.1334 - mae: 0.2717 - val_loss: 0.1432 - val_mae: 0.2624 - 319ms/epoch - 2ms/step\n",
            "Epoch 85/100\n",
            "153/153 - 0s - loss: 0.1339 - mae: 0.2734 - val_loss: 0.1483 - val_mae: 0.2607 - 343ms/epoch - 2ms/step\n",
            "Epoch 86/100\n",
            "153/153 - 0s - loss: 0.1327 - mae: 0.2713 - val_loss: 0.1492 - val_mae: 0.2620 - 320ms/epoch - 2ms/step\n",
            "Epoch 87/100\n",
            "153/153 - 0s - loss: 0.1338 - mae: 0.2732 - val_loss: 0.1398 - val_mae: 0.2718 - 300ms/epoch - 2ms/step\n",
            "Epoch 88/100\n",
            "153/153 - 0s - loss: 0.1341 - mae: 0.2721 - val_loss: 0.2056 - val_mae: 0.4080 - 308ms/epoch - 2ms/step\n",
            "Epoch 89/100\n",
            "153/153 - 0s - loss: 0.1330 - mae: 0.2727 - val_loss: 0.1608 - val_mae: 0.3440 - 308ms/epoch - 2ms/step\n",
            "Epoch 90/100\n",
            "153/153 - 0s - loss: 0.1337 - mae: 0.2723 - val_loss: 0.1431 - val_mae: 0.2611 - 325ms/epoch - 2ms/step\n",
            "Epoch 91/100\n",
            "153/153 - 0s - loss: 0.1331 - mae: 0.2715 - val_loss: 0.1844 - val_mae: 0.3835 - 307ms/epoch - 2ms/step\n",
            "Epoch 92/100\n",
            "153/153 - 0s - loss: 0.1341 - mae: 0.2721 - val_loss: 0.1549 - val_mae: 0.3411 - 319ms/epoch - 2ms/step\n",
            "Epoch 93/100\n",
            "153/153 - 0s - loss: 0.1325 - mae: 0.2716 - val_loss: 0.1356 - val_mae: 0.2828 - 307ms/epoch - 2ms/step\n",
            "Epoch 94/100\n",
            "153/153 - 0s - loss: 0.1317 - mae: 0.2700 - val_loss: 0.1608 - val_mae: 0.2889 - 313ms/epoch - 2ms/step\n",
            "Epoch 95/100\n",
            "153/153 - 0s - loss: 0.1335 - mae: 0.2719 - val_loss: 0.1363 - val_mae: 0.2874 - 322ms/epoch - 2ms/step\n",
            "Epoch 96/100\n",
            "153/153 - 0s - loss: 0.1322 - mae: 0.2713 - val_loss: 0.1543 - val_mae: 0.3410 - 387ms/epoch - 3ms/step\n",
            "Epoch 97/100\n",
            "153/153 - 0s - loss: 0.1319 - mae: 0.2699 - val_loss: 0.1367 - val_mae: 0.2794 - 303ms/epoch - 2ms/step\n",
            "Epoch 98/100\n",
            "153/153 - 0s - loss: 0.1331 - mae: 0.2722 - val_loss: 0.1354 - val_mae: 0.2774 - 333ms/epoch - 2ms/step\n",
            "Epoch 99/100\n",
            "153/153 - 0s - loss: 0.1312 - mae: 0.2697 - val_loss: 0.1447 - val_mae: 0.2607 - 301ms/epoch - 2ms/step\n",
            "Epoch 100/100\n",
            "153/153 - 0s - loss: 0.1321 - mae: 0.2699 - val_loss: 0.1471 - val_mae: 0.3232 - 308ms/epoch - 2ms/step\n",
            "Model: \"sequential_29\"\n",
            "_________________________________________________________________\n",
            " Layer (type)                Output Shape              Param #   \n",
            "=================================================================\n",
            " dense_101 (Dense)           (None, 512)               6656      \n",
            "                                                                 \n",
            " dense_102 (Dense)           (None, 8)                 4104      \n",
            "                                                                 \n",
            " dense_103 (Dense)           (None, 1)                 9         \n",
            "                                                                 \n",
            "=================================================================\n",
            "Total params: 10,769\n",
            "Trainable params: 10,769\n",
            "Non-trainable params: 0\n",
            "_________________________________________________________________\n"
          ]
        }
      ]
    },
    {
      "cell_type": "code",
      "source": [
        "def plot_model_history(model_history):\n",
        "  history_dict = model_history.history\n",
        "  history_dict.keys()\n",
        "\n",
        "  loss_values = history_dict[\"loss\"]\n",
        "  val_loss_values = history_dict[\"val_loss\"]\n",
        "\n",
        "  epochs = range(1, len(loss_values) + 1)\n",
        "\n",
        "\n",
        "  # Plot current data\n",
        "  plt.plot(epochs, loss_values, \"bo\", label=\"Training Loss\")\n",
        "  plt.plot(epochs, val_loss_values, \"b\", label=\"Validation Loss\")\n",
        "  plt.title(\"Training and Validation Loss\")\n",
        "  plt.xlabel(\"Epochs\")\n",
        "  plt.ylabel(\"Accuracy\")\n",
        "  plt.legend()\n",
        "  plt.show()\n",
        "  return"
      ],
      "metadata": {
        "id": "xnMledbiYd1K"
      },
      "execution_count": 123,
      "outputs": []
    },
    {
      "cell_type": "markdown",
      "source": [
        "Plotting Regression Model 1\n",
        "\n"
      ],
      "metadata": {
        "id": "qVemg7OQYeSW"
      }
    },
    {
      "cell_type": "code",
      "source": [
        "plot_model_history(regmodl1_history)"
      ],
      "metadata": {
        "id": "2PY3AbKfj4Gc",
        "outputId": "e6683a6d-fb97-4e47-f5a7-f972d45533ef",
        "colab": {
          "base_uri": "https://localhost:8080/",
          "height": 0
        }
      },
      "execution_count": 124,
      "outputs": [
        {
          "output_type": "display_data",
          "data": {
            "image/png": "[encoded data removed]",
            "text/plain": [
              "<Figure size 432x288 with 1 Axes>"
            ]
          },
          "metadata": {
            "needs_background": "light"
          }
        }
      ]
    },
    {
      "cell_type": "markdown",
      "source": [
        "### Regression Model 2"
      ],
      "metadata": {
        "id": "mmbjOEY3K49F"
      }
    },
    {
      "cell_type": "code",
      "source": [
        "# reg mod 2\n",
        "def build_regmodl2():\n",
        "  model = keras.Sequential([\n",
        "    layers.Dense(128, activation=\"relu\"),\n",
        "    layers.Dense(64, activation=\"relu\"),\n",
        "    layers.Dense(30, activation=\"relu\"),\n",
        "    layers.Dense(5, activation=\"relu\"),\n",
        "    layers.Dense(1, activation=\"relu\"),\n",
        "  ])\n",
        "  model.compile(optimizer=\"rmsprop\", loss=\"mse\", metrics=[\"mae\"])\n",
        "  return model;\n",
        "\n",
        "regmodl2 = build_regmodl2();\n",
        "\n",
        "regmodl2_history = regmodl2.fit(x=Xtrain, y=train_labels, epochs=100, verbose=2, validation_data=(Xval, val_labels))\n",
        "\n",
        "regmodl2.summary()"
      ],
      "metadata": {
        "id": "4MAZXPzjl4sb",
        "colab": {
          "base_uri": "https://localhost:8080/"
        },
        "outputId": "af685f4f-8f44-453c-a15a-b2eb75e8914b"
      },
      "execution_count": 125,
      "outputs": [
        {
          "output_type": "stream",
          "name": "stdout",
          "text": [
            "Epoch 1/100\n",
            "153/153 - 1s - loss: 2.0919 - mae: 1.0408 - val_loss: 0.5624 - val_mae: 0.5839 - 1s/epoch - 8ms/step\n",
            "Epoch 2/100\n",
            "153/153 - 0s - loss: 0.4027 - mae: 0.4743 - val_loss: 0.2370 - val_mae: 0.3458 - 318ms/epoch - 2ms/step\n",
            "Epoch 3/100\n",
            "153/153 - 0s - loss: 0.2438 - mae: 0.3801 - val_loss: 0.2516 - val_mae: 0.3448 - 322ms/epoch - 2ms/step\n",
            "Epoch 4/100\n",
            "153/153 - 0s - loss: 0.2048 - mae: 0.3462 - val_loss: 0.1748 - val_mae: 0.3514 - 353ms/epoch - 2ms/step\n",
            "Epoch 5/100\n",
            "153/153 - 0s - loss: 0.1955 - mae: 0.3362 - val_loss: 0.1552 - val_mae: 0.2782 - 396ms/epoch - 3ms/step\n",
            "Epoch 6/100\n",
            "153/153 - 0s - loss: 0.1807 - mae: 0.3244 - val_loss: 0.6533 - val_mae: 0.6550 - 328ms/epoch - 2ms/step\n",
            "Epoch 7/100\n",
            "153/153 - 0s - loss: 0.1773 - mae: 0.3181 - val_loss: 0.1623 - val_mae: 0.2871 - 330ms/epoch - 2ms/step\n",
            "Epoch 8/100\n",
            "153/153 - 0s - loss: 0.1653 - mae: 0.3095 - val_loss: 0.2820 - val_mae: 0.4433 - 313ms/epoch - 2ms/step\n",
            "Epoch 9/100\n",
            "153/153 - 0s - loss: 0.1672 - mae: 0.3086 - val_loss: 0.1577 - val_mae: 0.3313 - 324ms/epoch - 2ms/step\n",
            "Epoch 10/100\n",
            "153/153 - 0s - loss: 0.1586 - mae: 0.2986 - val_loss: 0.1524 - val_mae: 0.2604 - 330ms/epoch - 2ms/step\n",
            "Epoch 11/100\n",
            "153/153 - 0s - loss: 0.1578 - mae: 0.2968 - val_loss: 0.2500 - val_mae: 0.3598 - 311ms/epoch - 2ms/step\n",
            "Epoch 12/100\n",
            "153/153 - 0s - loss: 0.1570 - mae: 0.2959 - val_loss: 0.1462 - val_mae: 0.3129 - 329ms/epoch - 2ms/step\n",
            "Epoch 13/100\n",
            "153/153 - 0s - loss: 0.1537 - mae: 0.2937 - val_loss: 0.1422 - val_mae: 0.2651 - 335ms/epoch - 2ms/step\n",
            "Epoch 14/100\n",
            "153/153 - 0s - loss: 0.1500 - mae: 0.2891 - val_loss: 0.1629 - val_mae: 0.2652 - 310ms/epoch - 2ms/step\n",
            "Epoch 15/100\n",
            "153/153 - 0s - loss: 0.1486 - mae: 0.2861 - val_loss: 0.1455 - val_mae: 0.3068 - 318ms/epoch - 2ms/step\n",
            "Epoch 16/100\n",
            "153/153 - 0s - loss: 0.1456 - mae: 0.2863 - val_loss: 0.1562 - val_mae: 0.2706 - 313ms/epoch - 2ms/step\n",
            "Epoch 17/100\n",
            "153/153 - 0s - loss: 0.1490 - mae: 0.2888 - val_loss: 0.1839 - val_mae: 0.3888 - 312ms/epoch - 2ms/step\n",
            "Epoch 18/100\n",
            "153/153 - 0s - loss: 0.1452 - mae: 0.2860 - val_loss: 0.1382 - val_mae: 0.2817 - 332ms/epoch - 2ms/step\n",
            "Epoch 19/100\n",
            "153/153 - 0s - loss: 0.1430 - mae: 0.2818 - val_loss: 0.1414 - val_mae: 0.2634 - 316ms/epoch - 2ms/step\n",
            "Epoch 20/100\n",
            "153/153 - 0s - loss: 0.1444 - mae: 0.2833 - val_loss: 0.1687 - val_mae: 0.3588 - 313ms/epoch - 2ms/step\n",
            "Epoch 21/100\n",
            "153/153 - 0s - loss: 0.1438 - mae: 0.2833 - val_loss: 0.1672 - val_mae: 0.3498 - 319ms/epoch - 2ms/step\n",
            "Epoch 22/100\n",
            "153/153 - 0s - loss: 0.1443 - mae: 0.2846 - val_loss: 0.2117 - val_mae: 0.3215 - 317ms/epoch - 2ms/step\n",
            "Epoch 23/100\n",
            "153/153 - 0s - loss: 0.1420 - mae: 0.2797 - val_loss: 0.2988 - val_mae: 0.4162 - 309ms/epoch - 2ms/step\n",
            "Epoch 24/100\n",
            "153/153 - 0s - loss: 0.1428 - mae: 0.2813 - val_loss: 0.1389 - val_mae: 0.2663 - 314ms/epoch - 2ms/step\n",
            "Epoch 25/100\n",
            "153/153 - 0s - loss: 0.1429 - mae: 0.2809 - val_loss: 0.2217 - val_mae: 0.3294 - 338ms/epoch - 2ms/step\n",
            "Epoch 26/100\n",
            "153/153 - 0s - loss: 0.1424 - mae: 0.2808 - val_loss: 0.1646 - val_mae: 0.2626 - 386ms/epoch - 3ms/step\n",
            "Epoch 27/100\n",
            "153/153 - 0s - loss: 0.1419 - mae: 0.2800 - val_loss: 0.1427 - val_mae: 0.2949 - 312ms/epoch - 2ms/step\n",
            "Epoch 28/100\n",
            "153/153 - 0s - loss: 0.1398 - mae: 0.2792 - val_loss: 0.1459 - val_mae: 0.2594 - 313ms/epoch - 2ms/step\n",
            "Epoch 29/100\n",
            "153/153 - 0s - loss: 0.1382 - mae: 0.2767 - val_loss: 0.1390 - val_mae: 0.2937 - 307ms/epoch - 2ms/step\n",
            "Epoch 30/100\n",
            "153/153 - 0s - loss: 0.1417 - mae: 0.2799 - val_loss: 0.1422 - val_mae: 0.2575 - 359ms/epoch - 2ms/step\n",
            "Epoch 31/100\n",
            "153/153 - 0s - loss: 0.1392 - mae: 0.2760 - val_loss: 0.1451 - val_mae: 0.2635 - 313ms/epoch - 2ms/step\n",
            "Epoch 32/100\n",
            "153/153 - 0s - loss: 0.1386 - mae: 0.2762 - val_loss: 0.1535 - val_mae: 0.3342 - 333ms/epoch - 2ms/step\n",
            "Epoch 33/100\n",
            "153/153 - 0s - loss: 0.1389 - mae: 0.2780 - val_loss: 0.1633 - val_mae: 0.2651 - 336ms/epoch - 2ms/step\n",
            "Epoch 34/100\n",
            "153/153 - 0s - loss: 0.1395 - mae: 0.2775 - val_loss: 0.1375 - val_mae: 0.2858 - 316ms/epoch - 2ms/step\n",
            "Epoch 35/100\n",
            "153/153 - 0s - loss: 0.1382 - mae: 0.2767 - val_loss: 0.1553 - val_mae: 0.2613 - 332ms/epoch - 2ms/step\n",
            "Epoch 36/100\n",
            "153/153 - 0s - loss: 0.1380 - mae: 0.2759 - val_loss: 0.1377 - val_mae: 0.2892 - 330ms/epoch - 2ms/step\n",
            "Epoch 37/100\n",
            "153/153 - 0s - loss: 0.1382 - mae: 0.2775 - val_loss: 0.1588 - val_mae: 0.2644 - 320ms/epoch - 2ms/step\n",
            "Epoch 38/100\n",
            "153/153 - 0s - loss: 0.1375 - mae: 0.2741 - val_loss: 0.1688 - val_mae: 0.2816 - 335ms/epoch - 2ms/step\n",
            "Epoch 39/100\n",
            "153/153 - 0s - loss: 0.1363 - mae: 0.2746 - val_loss: 0.1658 - val_mae: 0.2724 - 321ms/epoch - 2ms/step\n",
            "Epoch 40/100\n",
            "153/153 - 0s - loss: 0.1373 - mae: 0.2750 - val_loss: 0.2353 - val_mae: 0.3500 - 311ms/epoch - 2ms/step\n",
            "Epoch 41/100\n",
            "153/153 - 0s - loss: 0.1360 - mae: 0.2728 - val_loss: 0.2003 - val_mae: 0.3958 - 347ms/epoch - 2ms/step\n",
            "Epoch 42/100\n",
            "153/153 - 0s - loss: 0.1369 - mae: 0.2737 - val_loss: 0.1406 - val_mae: 0.2621 - 330ms/epoch - 2ms/step\n",
            "Epoch 43/100\n",
            "153/153 - 0s - loss: 0.1336 - mae: 0.2715 - val_loss: 0.1718 - val_mae: 0.2708 - 308ms/epoch - 2ms/step\n",
            "Epoch 44/100\n",
            "153/153 - 0s - loss: 0.1355 - mae: 0.2732 - val_loss: 0.1419 - val_mae: 0.2685 - 327ms/epoch - 2ms/step\n",
            "Epoch 45/100\n",
            "153/153 - 0s - loss: 0.1356 - mae: 0.2730 - val_loss: 0.1458 - val_mae: 0.2967 - 309ms/epoch - 2ms/step\n",
            "Epoch 46/100\n",
            "153/153 - 0s - loss: 0.1348 - mae: 0.2718 - val_loss: 0.1439 - val_mae: 0.2641 - 311ms/epoch - 2ms/step\n",
            "Epoch 47/100\n",
            "153/153 - 0s - loss: 0.1361 - mae: 0.2732 - val_loss: 0.1826 - val_mae: 0.2839 - 328ms/epoch - 2ms/step\n",
            "Epoch 48/100\n",
            "153/153 - 0s - loss: 0.1362 - mae: 0.2730 - val_loss: 0.1418 - val_mae: 0.2823 - 308ms/epoch - 2ms/step\n",
            "Epoch 49/100\n",
            "153/153 - 0s - loss: 0.1351 - mae: 0.2710 - val_loss: 0.1484 - val_mae: 0.2779 - 397ms/epoch - 3ms/step\n",
            "Epoch 50/100\n",
            "153/153 - 0s - loss: 0.1359 - mae: 0.2724 - val_loss: 0.1774 - val_mae: 0.2772 - 317ms/epoch - 2ms/step\n",
            "Epoch 51/100\n",
            "153/153 - 0s - loss: 0.1341 - mae: 0.2705 - val_loss: 0.1489 - val_mae: 0.3200 - 309ms/epoch - 2ms/step\n",
            "Epoch 52/100\n",
            "153/153 - 0s - loss: 0.1340 - mae: 0.2704 - val_loss: 0.1517 - val_mae: 0.3303 - 311ms/epoch - 2ms/step\n",
            "Epoch 53/100\n",
            "153/153 - 0s - loss: 0.1348 - mae: 0.2698 - val_loss: 0.1728 - val_mae: 0.3613 - 327ms/epoch - 2ms/step\n",
            "Epoch 54/100\n",
            "153/153 - 0s - loss: 0.1344 - mae: 0.2714 - val_loss: 0.2160 - val_mae: 0.4034 - 314ms/epoch - 2ms/step\n",
            "Epoch 55/100\n",
            "153/153 - 0s - loss: 0.1337 - mae: 0.2708 - val_loss: 0.1452 - val_mae: 0.2603 - 325ms/epoch - 2ms/step\n",
            "Epoch 56/100\n",
            "153/153 - 0s - loss: 0.1349 - mae: 0.2720 - val_loss: 0.1860 - val_mae: 0.2821 - 311ms/epoch - 2ms/step\n",
            "Epoch 57/100\n",
            "153/153 - 0s - loss: 0.1342 - mae: 0.2702 - val_loss: 0.1517 - val_mae: 0.3298 - 385ms/epoch - 3ms/step\n",
            "Epoch 58/100\n",
            "153/153 - 0s - loss: 0.1330 - mae: 0.2695 - val_loss: 0.1583 - val_mae: 0.2601 - 301ms/epoch - 2ms/step\n",
            "Epoch 59/100\n",
            "153/153 - 0s - loss: 0.1338 - mae: 0.2688 - val_loss: 0.1576 - val_mae: 0.2733 - 309ms/epoch - 2ms/step\n",
            "Epoch 60/100\n",
            "153/153 - 0s - loss: 0.1337 - mae: 0.2697 - val_loss: 0.1387 - val_mae: 0.2688 - 302ms/epoch - 2ms/step\n",
            "Epoch 61/100\n",
            "153/153 - 0s - loss: 0.1340 - mae: 0.2699 - val_loss: 0.1568 - val_mae: 0.2697 - 305ms/epoch - 2ms/step\n",
            "Epoch 62/100\n",
            "153/153 - 0s - loss: 0.1335 - mae: 0.2694 - val_loss: 0.1577 - val_mae: 0.3325 - 310ms/epoch - 2ms/step\n",
            "Epoch 63/100\n",
            "153/153 - 0s - loss: 0.1332 - mae: 0.2689 - val_loss: 0.1412 - val_mae: 0.2978 - 333ms/epoch - 2ms/step\n",
            "Epoch 64/100\n",
            "153/153 - 0s - loss: 0.1331 - mae: 0.2691 - val_loss: 0.1469 - val_mae: 0.3136 - 322ms/epoch - 2ms/step\n",
            "Epoch 65/100\n",
            "153/153 - 0s - loss: 0.1326 - mae: 0.2688 - val_loss: 0.1424 - val_mae: 0.2870 - 306ms/epoch - 2ms/step\n",
            "Epoch 66/100\n",
            "153/153 - 0s - loss: 0.1335 - mae: 0.2690 - val_loss: 0.1533 - val_mae: 0.2648 - 324ms/epoch - 2ms/step\n",
            "Epoch 67/100\n",
            "153/153 - 0s - loss: 0.1326 - mae: 0.2684 - val_loss: 0.1488 - val_mae: 0.2662 - 316ms/epoch - 2ms/step\n",
            "Epoch 68/100\n",
            "153/153 - 0s - loss: 0.1339 - mae: 0.2689 - val_loss: 0.1408 - val_mae: 0.2905 - 382ms/epoch - 2ms/step\n",
            "Epoch 69/100\n",
            "153/153 - 0s - loss: 0.1338 - mae: 0.2693 - val_loss: 0.1542 - val_mae: 0.3218 - 411ms/epoch - 3ms/step\n",
            "Epoch 70/100\n",
            "153/153 - 0s - loss: 0.1332 - mae: 0.2677 - val_loss: 0.1568 - val_mae: 0.2637 - 313ms/epoch - 2ms/step\n",
            "Epoch 71/100\n",
            "153/153 - 0s - loss: 0.1326 - mae: 0.2680 - val_loss: 0.1481 - val_mae: 0.3152 - 310ms/epoch - 2ms/step\n",
            "Epoch 72/100\n",
            "153/153 - 0s - loss: 0.1330 - mae: 0.2682 - val_loss: 0.1522 - val_mae: 0.3297 - 315ms/epoch - 2ms/step\n",
            "Epoch 73/100\n",
            "153/153 - 0s - loss: 0.1318 - mae: 0.2663 - val_loss: 0.1832 - val_mae: 0.2840 - 307ms/epoch - 2ms/step\n",
            "Epoch 74/100\n",
            "153/153 - 0s - loss: 0.1315 - mae: 0.2663 - val_loss: 0.1658 - val_mae: 0.3473 - 320ms/epoch - 2ms/step\n",
            "Epoch 75/100\n",
            "153/153 - 0s - loss: 0.1313 - mae: 0.2658 - val_loss: 0.1399 - val_mae: 0.2912 - 331ms/epoch - 2ms/step\n",
            "Epoch 76/100\n",
            "153/153 - 0s - loss: 0.1311 - mae: 0.2650 - val_loss: 0.1935 - val_mae: 0.3101 - 309ms/epoch - 2ms/step\n",
            "Epoch 77/100\n",
            "153/153 - 0s - loss: 0.1322 - mae: 0.2645 - val_loss: 0.2044 - val_mae: 0.4025 - 400ms/epoch - 3ms/step\n",
            "Epoch 78/100\n",
            "153/153 - 0s - loss: 0.1320 - mae: 0.2667 - val_loss: 0.1546 - val_mae: 0.2615 - 334ms/epoch - 2ms/step\n",
            "Epoch 79/100\n",
            "153/153 - 0s - loss: 0.1316 - mae: 0.2666 - val_loss: 0.1535 - val_mae: 0.2835 - 313ms/epoch - 2ms/step\n",
            "Epoch 80/100\n",
            "153/153 - 0s - loss: 0.1317 - mae: 0.2650 - val_loss: 0.1816 - val_mae: 0.3646 - 311ms/epoch - 2ms/step\n",
            "Epoch 81/100\n",
            "153/153 - 0s - loss: 0.1301 - mae: 0.2649 - val_loss: 0.1365 - val_mae: 0.2692 - 310ms/epoch - 2ms/step\n",
            "Epoch 82/100\n",
            "153/153 - 0s - loss: 0.1310 - mae: 0.2650 - val_loss: 0.1505 - val_mae: 0.2666 - 310ms/epoch - 2ms/step\n",
            "Epoch 83/100\n",
            "153/153 - 0s - loss: 0.1308 - mae: 0.2650 - val_loss: 0.1371 - val_mae: 0.2706 - 310ms/epoch - 2ms/step\n",
            "Epoch 84/100\n",
            "153/153 - 0s - loss: 0.1317 - mae: 0.2657 - val_loss: 0.1621 - val_mae: 0.2642 - 322ms/epoch - 2ms/step\n",
            "Epoch 85/100\n",
            "153/153 - 0s - loss: 0.1302 - mae: 0.2640 - val_loss: 0.1495 - val_mae: 0.2661 - 312ms/epoch - 2ms/step\n",
            "Epoch 86/100\n",
            "153/153 - 0s - loss: 0.1313 - mae: 0.2645 - val_loss: 0.1368 - val_mae: 0.2704 - 329ms/epoch - 2ms/step\n",
            "Epoch 87/100\n",
            "153/153 - 0s - loss: 0.1302 - mae: 0.2649 - val_loss: 0.1745 - val_mae: 0.2732 - 391ms/epoch - 3ms/step\n",
            "Epoch 88/100\n",
            "153/153 - 0s - loss: 0.1301 - mae: 0.2628 - val_loss: 0.1836 - val_mae: 0.2896 - 308ms/epoch - 2ms/step\n",
            "Epoch 89/100\n",
            "153/153 - 0s - loss: 0.1297 - mae: 0.2621 - val_loss: 0.1731 - val_mae: 0.2666 - 314ms/epoch - 2ms/step\n",
            "Epoch 90/100\n",
            "153/153 - 0s - loss: 0.1315 - mae: 0.2640 - val_loss: 0.1647 - val_mae: 0.3549 - 385ms/epoch - 3ms/step\n",
            "Epoch 91/100\n",
            "153/153 - 0s - loss: 0.1293 - mae: 0.2629 - val_loss: 0.1764 - val_mae: 0.3539 - 386ms/epoch - 3ms/step\n",
            "Epoch 92/100\n",
            "153/153 - 0s - loss: 0.1302 - mae: 0.2636 - val_loss: 0.1537 - val_mae: 0.2583 - 318ms/epoch - 2ms/step\n",
            "Epoch 93/100\n",
            "153/153 - 0s - loss: 0.1299 - mae: 0.2636 - val_loss: 0.1397 - val_mae: 0.2650 - 317ms/epoch - 2ms/step\n",
            "Epoch 94/100\n",
            "153/153 - 0s - loss: 0.1304 - mae: 0.2639 - val_loss: 0.1411 - val_mae: 0.2852 - 302ms/epoch - 2ms/step\n",
            "Epoch 95/100\n",
            "153/153 - 0s - loss: 0.1304 - mae: 0.2638 - val_loss: 0.1432 - val_mae: 0.2695 - 316ms/epoch - 2ms/step\n",
            "Epoch 96/100\n",
            "153/153 - 0s - loss: 0.1310 - mae: 0.2642 - val_loss: 0.1790 - val_mae: 0.3739 - 394ms/epoch - 3ms/step\n",
            "Epoch 97/100\n",
            "153/153 - 0s - loss: 0.1293 - mae: 0.2627 - val_loss: 0.1391 - val_mae: 0.2825 - 311ms/epoch - 2ms/step\n",
            "Epoch 98/100\n",
            "153/153 - 0s - loss: 0.1308 - mae: 0.2631 - val_loss: 0.1495 - val_mae: 0.2626 - 319ms/epoch - 2ms/step\n",
            "Epoch 99/100\n",
            "153/153 - 0s - loss: 0.1289 - mae: 0.2626 - val_loss: 0.1587 - val_mae: 0.2658 - 337ms/epoch - 2ms/step\n",
            "Epoch 100/100\n",
            "153/153 - 0s - loss: 0.1281 - mae: 0.2623 - val_loss: 0.1407 - val_mae: 0.2591 - 319ms/epoch - 2ms/step\n",
            "Model: \"sequential_30\"\n",
            "_________________________________________________________________\n",
            " Layer (type)                Output Shape              Param #   \n",
            "=================================================================\n",
            " dense_104 (Dense)           (None, 128)               1664      \n",
            "                                                                 \n",
            " dense_105 (Dense)           (None, 64)                8256      \n",
            "                                                                 \n",
            " dense_106 (Dense)           (None, 30)                1950      \n",
            "                                                                 \n",
            " dense_107 (Dense)           (None, 5)                 155       \n",
            "                                                                 \n",
            " dense_108 (Dense)           (None, 1)                 6         \n",
            "                                                                 \n",
            "=================================================================\n",
            "Total params: 12,031\n",
            "Trainable params: 12,031\n",
            "Non-trainable params: 0\n",
            "_________________________________________________________________\n"
          ]
        }
      ]
    },
    {
      "cell_type": "markdown",
      "source": [
        "Plotting Regression Model 2"
      ],
      "metadata": {
        "id": "JRHjNr9xgXeT"
      }
    },
    {
      "cell_type": "code",
      "source": [
        "plot_model_history(regmodl2_history)"
      ],
      "metadata": {
        "id": "SNIWIhR2gaYN",
        "outputId": "d5f5acc2-68d7-4395-af18-96afc5a361a0",
        "colab": {
          "base_uri": "https://localhost:8080/",
          "height": 0
        }
      },
      "execution_count": 126,
      "outputs": [
        {
          "output_type": "display_data",
          "data": {
            "image/png": "[encoded data removed]",
            "text/plain": [
              "<Figure size 432x288 with 1 Axes>"
            ]
          },
          "metadata": {
            "needs_background": "light"
          }
        }
      ]
    },
    {
      "cell_type": "markdown",
      "source": [
        "### Regression Model 3"
      ],
      "metadata": {
        "id": "9bt4_Yz4K8e9"
      }
    },
    {
      "cell_type": "code",
      "source": [
        "# reg mod 3\n",
        "def build_regmodl3():\n",
        "  model = keras.Sequential([\n",
        "    layers.Dense(512, activation=\"relu\"),\n",
        "    layers.Dense(125, activation=\"relu\"),\n",
        "    layers.Dense(64, activation=\"relu\"),\n",
        "    layers.Dense(30, activation=\"relu\"),\n",
        "    layers.Dense(5, activation=\"relu\"),\n",
        "    layers.Dense(1)                    \n",
        "  ])\n",
        "  model.compile(optimizer=\"rmsprop\", loss=\"mse\", metrics=[\"mae\"])\n",
        "  return model;\n",
        "\n",
        "regmodl3 = build_regmodl3()\n",
        "\n",
        "regmodl3_history = regmodl3.fit(x=Xtrain, y=train_labels, epochs=100, verbose=2, validation_data=(Xval, val_labels))\n",
        "\n",
        "regmodl3.summary()"
      ],
      "metadata": {
        "id": "FKRKSxhfAeWi",
        "colab": {
          "base_uri": "https://localhost:8080/"
        },
        "outputId": "9fb2b546-e6fe-47d8-e4dc-718560b9bb48"
      },
      "execution_count": 127,
      "outputs": [
        {
          "output_type": "stream",
          "name": "stdout",
          "text": [
            "Epoch 1/100\n",
            "153/153 - 2s - loss: 2.5048 - mae: 0.9394 - val_loss: 0.1957 - val_mae: 0.2904 - 2s/epoch - 10ms/step\n",
            "Epoch 2/100\n",
            "153/153 - 1s - loss: 0.4911 - mae: 0.5346 - val_loss: 0.2331 - val_mae: 0.4356 - 516ms/epoch - 3ms/step\n",
            "Epoch 3/100\n",
            "153/153 - 1s - loss: 0.3118 - mae: 0.4332 - val_loss: 0.3230 - val_mae: 0.5079 - 570ms/epoch - 4ms/step\n",
            "Epoch 4/100\n",
            "153/153 - 1s - loss: 0.2335 - mae: 0.3716 - val_loss: 0.3897 - val_mae: 0.5617 - 596ms/epoch - 4ms/step\n",
            "Epoch 5/100\n",
            "153/153 - 0s - loss: 0.2085 - mae: 0.3506 - val_loss: 0.1942 - val_mae: 0.3855 - 490ms/epoch - 3ms/step\n",
            "Epoch 6/100\n",
            "153/153 - 0s - loss: 0.1930 - mae: 0.3336 - val_loss: 0.2417 - val_mae: 0.4523 - 499ms/epoch - 3ms/step\n",
            "Epoch 7/100\n",
            "153/153 - 0s - loss: 0.1752 - mae: 0.3195 - val_loss: 0.2026 - val_mae: 0.3021 - 484ms/epoch - 3ms/step\n",
            "Epoch 8/100\n",
            "153/153 - 0s - loss: 0.1711 - mae: 0.3137 - val_loss: 0.1744 - val_mae: 0.3658 - 483ms/epoch - 3ms/step\n",
            "Epoch 9/100\n",
            "153/153 - 1s - loss: 0.1651 - mae: 0.3092 - val_loss: 0.1507 - val_mae: 0.2863 - 599ms/epoch - 4ms/step\n",
            "Epoch 10/100\n",
            "153/153 - 1s - loss: 0.1629 - mae: 0.3073 - val_loss: 0.1416 - val_mae: 0.2808 - 574ms/epoch - 4ms/step\n",
            "Epoch 11/100\n",
            "153/153 - 1s - loss: 0.1559 - mae: 0.2989 - val_loss: 0.2084 - val_mae: 0.4198 - 566ms/epoch - 4ms/step\n",
            "Epoch 12/100\n",
            "153/153 - 1s - loss: 0.1556 - mae: 0.2976 - val_loss: 0.1453 - val_mae: 0.3132 - 515ms/epoch - 3ms/step\n",
            "Epoch 13/100\n",
            "153/153 - 1s - loss: 0.1555 - mae: 0.2967 - val_loss: 0.2996 - val_mae: 0.4113 - 580ms/epoch - 4ms/step\n",
            "Epoch 14/100\n",
            "153/153 - 1s - loss: 0.1525 - mae: 0.2938 - val_loss: 0.1917 - val_mae: 0.2885 - 500ms/epoch - 3ms/step\n",
            "Epoch 15/100\n",
            "153/153 - 1s - loss: 0.1501 - mae: 0.2918 - val_loss: 0.1467 - val_mae: 0.2731 - 574ms/epoch - 4ms/step\n",
            "Epoch 16/100\n",
            "153/153 - 0s - loss: 0.1491 - mae: 0.2895 - val_loss: 0.1556 - val_mae: 0.3247 - 498ms/epoch - 3ms/step\n",
            "Epoch 17/100\n",
            "153/153 - 1s - loss: 0.1489 - mae: 0.2892 - val_loss: 0.1425 - val_mae: 0.2659 - 582ms/epoch - 4ms/step\n",
            "Epoch 18/100\n",
            "153/153 - 1s - loss: 0.1494 - mae: 0.2886 - val_loss: 0.1392 - val_mae: 0.2752 - 554ms/epoch - 4ms/step\n",
            "Epoch 19/100\n",
            "153/153 - 0s - loss: 0.1460 - mae: 0.2850 - val_loss: 0.1538 - val_mae: 0.3363 - 485ms/epoch - 3ms/step\n",
            "Epoch 20/100\n",
            "153/153 - 1s - loss: 0.1461 - mae: 0.2877 - val_loss: 0.3046 - val_mae: 0.4918 - 555ms/epoch - 4ms/step\n",
            "Epoch 21/100\n",
            "153/153 - 0s - loss: 0.1463 - mae: 0.2864 - val_loss: 0.2203 - val_mae: 0.3255 - 485ms/epoch - 3ms/step\n",
            "Epoch 22/100\n",
            "153/153 - 0s - loss: 0.1416 - mae: 0.2811 - val_loss: 0.1445 - val_mae: 0.3054 - 477ms/epoch - 3ms/step\n",
            "Epoch 23/100\n",
            "153/153 - 0s - loss: 0.1457 - mae: 0.2850 - val_loss: 0.1442 - val_mae: 0.3150 - 474ms/epoch - 3ms/step\n",
            "Epoch 24/100\n",
            "153/153 - 0s - loss: 0.1445 - mae: 0.2839 - val_loss: 0.1398 - val_mae: 0.2674 - 460ms/epoch - 3ms/step\n",
            "Epoch 25/100\n",
            "153/153 - 1s - loss: 0.1427 - mae: 0.2814 - val_loss: 0.1387 - val_mae: 0.2871 - 564ms/epoch - 4ms/step\n",
            "Epoch 26/100\n",
            "153/153 - 1s - loss: 0.1424 - mae: 0.2823 - val_loss: 0.1567 - val_mae: 0.3423 - 571ms/epoch - 4ms/step\n",
            "Epoch 27/100\n",
            "153/153 - 1s - loss: 0.1424 - mae: 0.2803 - val_loss: 0.1399 - val_mae: 0.2933 - 553ms/epoch - 4ms/step\n",
            "Epoch 28/100\n",
            "153/153 - 1s - loss: 0.1419 - mae: 0.2807 - val_loss: 0.2403 - val_mae: 0.4485 - 521ms/epoch - 3ms/step\n",
            "Epoch 29/100\n",
            "153/153 - 0s - loss: 0.1416 - mae: 0.2799 - val_loss: 0.1679 - val_mae: 0.2719 - 487ms/epoch - 3ms/step\n",
            "Epoch 30/100\n",
            "153/153 - 1s - loss: 0.1401 - mae: 0.2782 - val_loss: 0.1631 - val_mae: 0.3599 - 595ms/epoch - 4ms/step\n",
            "Epoch 31/100\n",
            "153/153 - 1s - loss: 0.1415 - mae: 0.2792 - val_loss: 0.1601 - val_mae: 0.2581 - 564ms/epoch - 4ms/step\n",
            "Epoch 32/100\n",
            "153/153 - 0s - loss: 0.1401 - mae: 0.2787 - val_loss: 0.1835 - val_mae: 0.3823 - 495ms/epoch - 3ms/step\n",
            "Epoch 33/100\n",
            "153/153 - 0s - loss: 0.1398 - mae: 0.2791 - val_loss: 0.1800 - val_mae: 0.2853 - 493ms/epoch - 3ms/step\n",
            "Epoch 34/100\n",
            "153/153 - 1s - loss: 0.1404 - mae: 0.2759 - val_loss: 0.1624 - val_mae: 0.3548 - 518ms/epoch - 3ms/step\n",
            "Epoch 35/100\n",
            "153/153 - 1s - loss: 0.1403 - mae: 0.2771 - val_loss: 0.1694 - val_mae: 0.2607 - 595ms/epoch - 4ms/step\n",
            "Epoch 36/100\n",
            "153/153 - 1s - loss: 0.1378 - mae: 0.2757 - val_loss: 0.1472 - val_mae: 0.2572 - 515ms/epoch - 3ms/step\n",
            "Epoch 37/100\n",
            "153/153 - 1s - loss: 0.1382 - mae: 0.2747 - val_loss: 0.1524 - val_mae: 0.2626 - 593ms/epoch - 4ms/step\n",
            "Epoch 38/100\n",
            "153/153 - 0s - loss: 0.1376 - mae: 0.2743 - val_loss: 0.1395 - val_mae: 0.2640 - 491ms/epoch - 3ms/step\n",
            "Epoch 39/100\n",
            "153/153 - 1s - loss: 0.1379 - mae: 0.2758 - val_loss: 0.1367 - val_mae: 0.2715 - 530ms/epoch - 3ms/step\n",
            "Epoch 40/100\n",
            "153/153 - 1s - loss: 0.1395 - mae: 0.2774 - val_loss: 0.1513 - val_mae: 0.3317 - 593ms/epoch - 4ms/step\n",
            "Epoch 41/100\n",
            "153/153 - 1s - loss: 0.1376 - mae: 0.2761 - val_loss: 0.2621 - val_mae: 0.4562 - 606ms/epoch - 4ms/step\n",
            "Epoch 42/100\n",
            "153/153 - 1s - loss: 0.1391 - mae: 0.2766 - val_loss: 0.1532 - val_mae: 0.3337 - 515ms/epoch - 3ms/step\n",
            "Epoch 43/100\n",
            "153/153 - 1s - loss: 0.1368 - mae: 0.2742 - val_loss: 0.1397 - val_mae: 0.2969 - 525ms/epoch - 3ms/step\n",
            "Epoch 44/100\n",
            "153/153 - 1s - loss: 0.1384 - mae: 0.2741 - val_loss: 0.1401 - val_mae: 0.3000 - 510ms/epoch - 3ms/step\n",
            "Epoch 45/100\n",
            "153/153 - 1s - loss: 0.1381 - mae: 0.2751 - val_loss: 0.1402 - val_mae: 0.2963 - 519ms/epoch - 3ms/step\n",
            "Epoch 46/100\n",
            "153/153 - 0s - loss: 0.1371 - mae: 0.2747 - val_loss: 0.1683 - val_mae: 0.2693 - 467ms/epoch - 3ms/step\n",
            "Epoch 47/100\n",
            "153/153 - 1s - loss: 0.1374 - mae: 0.2729 - val_loss: 0.1549 - val_mae: 0.3262 - 609ms/epoch - 4ms/step\n",
            "Epoch 48/100\n",
            "153/153 - 1s - loss: 0.1364 - mae: 0.2726 - val_loss: 0.1371 - val_mae: 0.2637 - 598ms/epoch - 4ms/step\n",
            "Epoch 49/100\n",
            "153/153 - 0s - loss: 0.1345 - mae: 0.2717 - val_loss: 0.1547 - val_mae: 0.2560 - 493ms/epoch - 3ms/step\n",
            "Epoch 50/100\n",
            "153/153 - 1s - loss: 0.1370 - mae: 0.2732 - val_loss: 0.1412 - val_mae: 0.2563 - 566ms/epoch - 4ms/step\n",
            "Epoch 51/100\n",
            "153/153 - 1s - loss: 0.1356 - mae: 0.2709 - val_loss: 0.1402 - val_mae: 0.2898 - 505ms/epoch - 3ms/step\n",
            "Epoch 52/100\n",
            "153/153 - 0s - loss: 0.1367 - mae: 0.2726 - val_loss: 0.1543 - val_mae: 0.2981 - 498ms/epoch - 3ms/step\n",
            "Epoch 53/100\n",
            "153/153 - 0s - loss: 0.1370 - mae: 0.2729 - val_loss: 0.1451 - val_mae: 0.2853 - 497ms/epoch - 3ms/step\n",
            "Epoch 54/100\n",
            "153/153 - 1s - loss: 0.1358 - mae: 0.2722 - val_loss: 0.1968 - val_mae: 0.3008 - 524ms/epoch - 3ms/step\n",
            "Epoch 55/100\n",
            "153/153 - 1s - loss: 0.1360 - mae: 0.2706 - val_loss: 0.1665 - val_mae: 0.3646 - 533ms/epoch - 3ms/step\n",
            "Epoch 56/100\n",
            "153/153 - 0s - loss: 0.1344 - mae: 0.2689 - val_loss: 0.1494 - val_mae: 0.3304 - 478ms/epoch - 3ms/step\n",
            "Epoch 57/100\n",
            "153/153 - 0s - loss: 0.1345 - mae: 0.2716 - val_loss: 0.2669 - val_mae: 0.3724 - 485ms/epoch - 3ms/step\n",
            "Epoch 58/100\n",
            "153/153 - 1s - loss: 0.1353 - mae: 0.2700 - val_loss: 0.1395 - val_mae: 0.3016 - 571ms/epoch - 4ms/step\n",
            "Epoch 59/100\n",
            "153/153 - 0s - loss: 0.1337 - mae: 0.2667 - val_loss: 0.1468 - val_mae: 0.3216 - 474ms/epoch - 3ms/step\n",
            "Epoch 60/100\n",
            "153/153 - 1s - loss: 0.1343 - mae: 0.2694 - val_loss: 0.1391 - val_mae: 0.2683 - 531ms/epoch - 3ms/step\n",
            "Epoch 61/100\n",
            "153/153 - 1s - loss: 0.1335 - mae: 0.2677 - val_loss: 0.1564 - val_mae: 0.3225 - 574ms/epoch - 4ms/step\n",
            "Epoch 62/100\n",
            "153/153 - 0s - loss: 0.1349 - mae: 0.2692 - val_loss: 0.2013 - val_mae: 0.4117 - 480ms/epoch - 3ms/step\n",
            "Epoch 63/100\n",
            "153/153 - 0s - loss: 0.1345 - mae: 0.2691 - val_loss: 0.1605 - val_mae: 0.3431 - 463ms/epoch - 3ms/step\n",
            "Epoch 64/100\n",
            "153/153 - 0s - loss: 0.1348 - mae: 0.2693 - val_loss: 0.1590 - val_mae: 0.2543 - 490ms/epoch - 3ms/step\n",
            "Epoch 65/100\n",
            "153/153 - 1s - loss: 0.1333 - mae: 0.2663 - val_loss: 0.1583 - val_mae: 0.3373 - 540ms/epoch - 4ms/step\n",
            "Epoch 66/100\n",
            "153/153 - 1s - loss: 0.1338 - mae: 0.2680 - val_loss: 0.1384 - val_mae: 0.2603 - 512ms/epoch - 3ms/step\n",
            "Epoch 67/100\n",
            "153/153 - 1s - loss: 0.1338 - mae: 0.2677 - val_loss: 0.1473 - val_mae: 0.2508 - 536ms/epoch - 4ms/step\n",
            "Epoch 68/100\n",
            "153/153 - 1s - loss: 0.1324 - mae: 0.2664 - val_loss: 0.2043 - val_mae: 0.4075 - 533ms/epoch - 3ms/step\n",
            "Epoch 69/100\n",
            "153/153 - 1s - loss: 0.1341 - mae: 0.2684 - val_loss: 0.1365 - val_mae: 0.2842 - 567ms/epoch - 4ms/step\n",
            "Epoch 70/100\n",
            "153/153 - 0s - loss: 0.1337 - mae: 0.2658 - val_loss: 0.1477 - val_mae: 0.3101 - 470ms/epoch - 3ms/step\n",
            "Epoch 71/100\n",
            "153/153 - 1s - loss: 0.1341 - mae: 0.2654 - val_loss: 0.1456 - val_mae: 0.2583 - 550ms/epoch - 4ms/step\n",
            "Epoch 72/100\n",
            "153/153 - 1s - loss: 0.1334 - mae: 0.2669 - val_loss: 0.1452 - val_mae: 0.2680 - 522ms/epoch - 3ms/step\n",
            "Epoch 73/100\n",
            "153/153 - 1s - loss: 0.1351 - mae: 0.2676 - val_loss: 0.1490 - val_mae: 0.2556 - 553ms/epoch - 4ms/step\n",
            "Epoch 74/100\n",
            "153/153 - 0s - loss: 0.1331 - mae: 0.2652 - val_loss: 0.1521 - val_mae: 0.2566 - 492ms/epoch - 3ms/step\n",
            "Epoch 75/100\n",
            "153/153 - 1s - loss: 0.1336 - mae: 0.2657 - val_loss: 0.1581 - val_mae: 0.3435 - 564ms/epoch - 4ms/step\n",
            "Epoch 76/100\n",
            "153/153 - 0s - loss: 0.1328 - mae: 0.2663 - val_loss: 0.1746 - val_mae: 0.2658 - 476ms/epoch - 3ms/step\n",
            "Epoch 77/100\n",
            "153/153 - 0s - loss: 0.1329 - mae: 0.2641 - val_loss: 0.1447 - val_mae: 0.2592 - 498ms/epoch - 3ms/step\n",
            "Epoch 78/100\n",
            "153/153 - 1s - loss: 0.1323 - mae: 0.2639 - val_loss: 0.1562 - val_mae: 0.2588 - 610ms/epoch - 4ms/step\n",
            "Epoch 79/100\n",
            "153/153 - 1s - loss: 0.1338 - mae: 0.2656 - val_loss: 0.1881 - val_mae: 0.2768 - 531ms/epoch - 3ms/step\n",
            "Epoch 80/100\n",
            "153/153 - 1s - loss: 0.1327 - mae: 0.2619 - val_loss: 0.1406 - val_mae: 0.2992 - 599ms/epoch - 4ms/step\n",
            "Epoch 81/100\n",
            "153/153 - 0s - loss: 0.1325 - mae: 0.2642 - val_loss: 0.1632 - val_mae: 0.2560 - 495ms/epoch - 3ms/step\n",
            "Epoch 82/100\n",
            "153/153 - 1s - loss: 0.1316 - mae: 0.2634 - val_loss: 0.1354 - val_mae: 0.2766 - 604ms/epoch - 4ms/step\n",
            "Epoch 83/100\n",
            "153/153 - 0s - loss: 0.1332 - mae: 0.2639 - val_loss: 0.1699 - val_mae: 0.2694 - 482ms/epoch - 3ms/step\n",
            "Epoch 84/100\n",
            "153/153 - 0s - loss: 0.1310 - mae: 0.2618 - val_loss: 0.1528 - val_mae: 0.2955 - 499ms/epoch - 3ms/step\n",
            "Epoch 85/100\n",
            "153/153 - 0s - loss: 0.1335 - mae: 0.2629 - val_loss: 0.1367 - val_mae: 0.2772 - 495ms/epoch - 3ms/step\n",
            "Epoch 86/100\n",
            "153/153 - 0s - loss: 0.1313 - mae: 0.2622 - val_loss: 0.1394 - val_mae: 0.2939 - 489ms/epoch - 3ms/step\n",
            "Epoch 87/100\n",
            "153/153 - 1s - loss: 0.1318 - mae: 0.2633 - val_loss: 0.1408 - val_mae: 0.2635 - 588ms/epoch - 4ms/step\n",
            "Epoch 88/100\n",
            "153/153 - 1s - loss: 0.1315 - mae: 0.2635 - val_loss: 0.1438 - val_mae: 0.2536 - 503ms/epoch - 3ms/step\n",
            "Epoch 89/100\n",
            "153/153 - 1s - loss: 0.1335 - mae: 0.2659 - val_loss: 0.1805 - val_mae: 0.3865 - 521ms/epoch - 3ms/step\n",
            "Epoch 90/100\n",
            "153/153 - 0s - loss: 0.1308 - mae: 0.2630 - val_loss: 0.1565 - val_mae: 0.2576 - 486ms/epoch - 3ms/step\n",
            "Epoch 91/100\n",
            "153/153 - 1s - loss: 0.1317 - mae: 0.2624 - val_loss: 0.1364 - val_mae: 0.2908 - 555ms/epoch - 4ms/step\n",
            "Epoch 92/100\n",
            "153/153 - 0s - loss: 0.1332 - mae: 0.2631 - val_loss: 0.1399 - val_mae: 0.2596 - 459ms/epoch - 3ms/step\n",
            "Epoch 93/100\n",
            "153/153 - 1s - loss: 0.1292 - mae: 0.2583 - val_loss: 0.1605 - val_mae: 0.3535 - 563ms/epoch - 4ms/step\n",
            "Epoch 94/100\n",
            "153/153 - 1s - loss: 0.1309 - mae: 0.2619 - val_loss: 0.2083 - val_mae: 0.2926 - 570ms/epoch - 4ms/step\n",
            "Epoch 95/100\n",
            "153/153 - 1s - loss: 0.1315 - mae: 0.2629 - val_loss: 0.1988 - val_mae: 0.3781 - 584ms/epoch - 4ms/step\n",
            "Epoch 96/100\n",
            "153/153 - 1s - loss: 0.1304 - mae: 0.2619 - val_loss: 0.1404 - val_mae: 0.2506 - 615ms/epoch - 4ms/step\n",
            "Epoch 97/100\n",
            "153/153 - 1s - loss: 0.1294 - mae: 0.2600 - val_loss: 0.1563 - val_mae: 0.2520 - 605ms/epoch - 4ms/step\n",
            "Epoch 98/100\n",
            "153/153 - 0s - loss: 0.1303 - mae: 0.2608 - val_loss: 0.1346 - val_mae: 0.2632 - 496ms/epoch - 3ms/step\n",
            "Epoch 99/100\n",
            "153/153 - 0s - loss: 0.1308 - mae: 0.2592 - val_loss: 0.1364 - val_mae: 0.2742 - 470ms/epoch - 3ms/step\n",
            "Epoch 100/100\n",
            "153/153 - 0s - loss: 0.1305 - mae: 0.2597 - val_loss: 0.1453 - val_mae: 0.2581 - 488ms/epoch - 3ms/step\n",
            "Model: \"sequential_31\"\n",
            "_________________________________________________________________\n",
            " Layer (type)                Output Shape              Param #   \n",
            "=================================================================\n",
            " dense_109 (Dense)           (None, 512)               6656      \n",
            "                                                                 \n",
            " dense_110 (Dense)           (None, 125)               64125     \n",
            "                                                                 \n",
            " dense_111 (Dense)           (None, 64)                8064      \n",
            "                                                                 \n",
            " dense_112 (Dense)           (None, 30)                1950      \n",
            "                                                                 \n",
            " dense_113 (Dense)           (None, 5)                 155       \n",
            "                                                                 \n",
            " dense_114 (Dense)           (None, 1)                 6         \n",
            "                                                                 \n",
            "=================================================================\n",
            "Total params: 80,956\n",
            "Trainable params: 80,956\n",
            "Non-trainable params: 0\n",
            "_________________________________________________________________\n"
          ]
        }
      ]
    },
    {
      "cell_type": "markdown",
      "source": [
        "Plotting Regression Model 3"
      ],
      "metadata": {
        "id": "8Oyf18uLLAzf"
      }
    },
    {
      "cell_type": "code",
      "source": [
        "plot_model_history(regmodl3_history)"
      ],
      "metadata": {
        "colab": {
          "base_uri": "https://localhost:8080/",
          "height": 0
        },
        "id": "e5XlSgPELE18",
        "outputId": "c93a00e4-7ea9-4da4-833e-18dca95ee118"
      },
      "execution_count": 128,
      "outputs": [
        {
          "output_type": "display_data",
          "data": {
            "image/png": "[encoded data removed]",
            "text/plain": [
              "<Figure size 432x288 with 1 Axes>"
            ]
          },
          "metadata": {
            "needs_background": "light"
          }
        }
      ]
    },
    {
      "cell_type": "markdown",
      "source": [
        "# Part 3: Classification Model\n"
      ],
      "metadata": {
        "id": "PyD1poH4gTyy"
      }
    },
    {
      "cell_type": "code",
      "source": [
        "import copy\n",
        "\n",
        "def predict_hit_ratio():\n",
        "  val_labels_copy = copy.copy(one_hot_val_labels)\n",
        "  np.random.shuffle(val_labels_copy)\n",
        "  hits_array = np.array(one_hot_val_labels) == np.array(val_labels_copy)\n",
        "  return hits_array.mean()"
      ],
      "metadata": {
        "id": "0OJ__Hwciw2k"
      },
      "execution_count": 136,
      "outputs": []
    },
    {
      "cell_type": "markdown",
      "source": [
        "### Classification Model 1"
      ],
      "metadata": {
        "id": "YiAOiEL1gzC4"
      }
    },
    {
      "cell_type": "code",
      "source": [
        "print(predict_hit_ratio())\n",
        "\n",
        "def build_clasmod1():\n",
        "  model = keras.Sequential([\n",
        "    layers.Dense(16, activation=\"relu\"),\n",
        "    layers.Dense(8,  activation=\"relu\"),\n",
        "    layers.Dense(4,  activation=\"softmax\")\n",
        "  ])\n",
        "  model.compile(optimizer=\"rmsprop\", loss=\"binary_crossentropy\", metrics=[\"accuracy\"]) \n",
        "  return model\n",
        "\n",
        "clasmodl1 = build_clasmod1()\n",
        "\n",
        "clasmodl1_history = clasmodl1.fit(x =Xtrain, y=one_hot_train_labels, batch_size=32, epochs=25, verbose=2, validation_data=(Xval,one_hot_val_labels), validation_freq=1)\n",
        "\n",
        "clasmodl1.summary()"
      ],
      "metadata": {
        "id": "WtxZSngFg18y"
      },
      "execution_count": null,
      "outputs": []
    },
    {
      "cell_type": "code",
      "source": [
        "plot_model_history(clasmodl1_history)"
      ],
      "metadata": {
        "id": "YtqhflJ_x_D2"
      },
      "execution_count": null,
      "outputs": []
    },
    {
      "cell_type": "markdown",
      "source": [
        "## Classification Model 2"
      ],
      "metadata": {
        "id": "LPufeNyog7yY"
      }
    },
    {
      "cell_type": "code",
      "source": [
        "# Model number 2"
      ],
      "metadata": {
        "id": "E41xCAOog9VF"
      },
      "execution_count": null,
      "outputs": []
    },
    {
      "cell_type": "markdown",
      "source": [
        "## Classification Model 3"
      ],
      "metadata": {
        "id": "DNpn6zV1g_gl"
      }
    },
    {
      "cell_type": "code",
      "source": [
        "# Model number 3"
      ],
      "metadata": {
        "id": "N88gwpRahBnA"
      },
      "execution_count": null,
      "outputs": []
    }
  ]
}